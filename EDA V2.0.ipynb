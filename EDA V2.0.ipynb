{
 "cells": [
  {
   "cell_type": "code",
   "execution_count": 1,
   "metadata": {},
   "outputs": [
    {
     "data": {
      "text/html": [
       "<script>requirejs.config({paths: { 'plotly': ['https://cdn.plot.ly/plotly-latest.min']},});if(!window.Plotly) {{require(['plotly'],function(plotly) {window.Plotly=plotly;});}}</script>"
      ],
      "text/vnd.plotly.v1+html": [
       "<script>requirejs.config({paths: { 'plotly': ['https://cdn.plot.ly/plotly-latest.min']},});if(!window.Plotly) {{require(['plotly'],function(plotly) {window.Plotly=plotly;});}}</script>"
      ]
     },
     "metadata": {},
     "output_type": "display_data"
    }
   ],
   "source": [
    "from pandas import DataFrame\n",
    "import pandas_profiling\n",
    "import numpy as np\n",
    "from matplotlib import pyplot as plt\n",
    "import plotly.plotly as py\n",
    "import plotly.graph_objs as go\n",
    "from plotly.offline import download_plotlyjs, init_notebook_mode, plot, iplot\n",
    "\n",
    "from scipy.optimize import curve_fit\n",
    "from scipy.stats import norm\n",
    "from scipy.stats import pearsonr, mstats\n",
    "\n",
    "from statsmodels.stats.stattools import jarque_bera\n",
    "init_notebook_mode(connected=True)\n",
    "%matplotlib inline"
   ]
  },
  {
   "cell_type": "code",
   "execution_count": 2,
   "metadata": {
    "collapsed": true
   },
   "outputs": [],
   "source": [
    "data = DataFrame.from_csv(\"./testosterone_levels.csv\")"
   ]
  },
  {
   "cell_type": "code",
   "execution_count": 3,
   "metadata": {
    "collapsed": true
   },
   "outputs": [],
   "source": [
    "testosterones = [p.Testosterone for _, p in data.groupby(\"Person\")]"
   ]
  },
  {
   "cell_type": "code",
   "execution_count": 4,
   "metadata": {
    "collapsed": true
   },
   "outputs": [],
   "source": [
    "# whole population\n",
    "mean_std = np.array([[t.mean(), t.std()] for t in testosterones])\n",
    "cv = mean_std[:,1] / mean_std[:,0]\n",
    "\n",
    "# gender specific population\n",
    "gender = data.groupby(\"Person\").first()['F1']\n",
    "male = data[data['F1'] == 1]\n",
    "female = data[data['F1'] == 2]\n",
    "male_testosterones = [p.Testosterone for _, p in male.groupby(\"Person\")]\n",
    "female_testosterones = [p.Testosterone for _, p in female.groupby(\"Person\")]\n",
    "\n",
    "mean_std_male = np.array([[t.mean(), t.std()] for t in male_testosterones])\n",
    "mean_std_female = np.array([[t.mean(), t.std()] for t in female_testosterones])\n",
    "cv_male = mean_std_male[:,1] / mean_std_male[:,0]\n",
    "cv_female = mean_std_female[:,1] / mean_std_female[:,0]"
   ]
  },
  {
   "cell_type": "markdown",
   "metadata": {},
   "source": [
    "## Normality Tests"
   ]
  },
  {
   "cell_type": "code",
   "execution_count": 5,
   "metadata": {},
   "outputs": [
    {
     "name": "stdout",
     "output_type": "stream",
     "text": [
      "Mean distribution is neither normal nor log-normal!!\n",
      "Variance distribution is log-normal\n",
      "Coefficient of variation distribution is log-normal\n"
     ]
    }
   ],
   "source": [
    "# Pearson test of normality for inter-individual mean, variances and cv\n",
    "def normaltest(a, method='jb'):\n",
    "    if method == 'pearson':\n",
    "        p = mstats.normaltest(a, axis=0).pvalue\n",
    "        p_log = mstats.normaltest(np.log2(a), axis=0).pvalue\n",
    "        print(\"Pearson test of normality is being used...\")\n",
    "    else:\n",
    "        p = jarque_bera(a)[1]\n",
    "        p_log = jarque_bera(np.log(a))[1]\n",
    "    \n",
    "    if p > 0.01:\n",
    "        print('distribution is normal')\n",
    "    else: # check for log-normality\n",
    "        \n",
    "        if p_log > 0.01:\n",
    "            print('distribution is log-normal')\n",
    "        else:\n",
    "            print('distribution is neither normal nor log-normal!!')\n",
    "            \n",
    "            \n",
    "print(\"Mean\", end=' '); normaltest(mean_std[:,0])\n",
    "print(\"Variance\", end=' '); normaltest(mean_std[:,1])\n",
    "print(\"Coefficient of variation\", end=' '); normaltest(cv)"
   ]
  },
  {
   "cell_type": "markdown",
   "metadata": {},
   "source": [
    "## Correlation Tests"
   ]
  },
  {
   "cell_type": "code",
   "execution_count": 6,
   "metadata": {},
   "outputs": [
    {
     "name": "stdout",
     "output_type": "stream",
     "text": [
      "Log-Mean vs. Log-Variance correlation:\n",
      "Correlation value: 0.8672156948341208, p_value: 5.1335477815650085e-43\n",
      "Log-Mean vs. Log-CV correlation:\n",
      "Correlation value: 0.1427745936888417, p_value: 0.09481347358741259\n"
     ]
    }
   ],
   "source": [
    "# pearson correlation of log distribution of mean and variance\n",
    "corr = pearsonr(np.log(mean_std[:,0]), np.log(mean_std[:,1]))\n",
    "corr_cv_mean = pearsonr(np.log(mean_std[:,0]), np.log(cv))\n",
    "print(\"Log-Mean vs. Log-Variance correlation:\")\n",
    "print(\"Correlation value: {0}, p_value: {1}\".format(corr[0], corr[1]))\n",
    "print(\"Log-Mean vs. Log-CV correlation:\")\n",
    "print(\"Correlation value: {0}, p_value: {1}\".format(corr_cv_mean[0], corr_cv_mean[1]))"
   ]
  },
  {
   "cell_type": "markdown",
   "metadata": {},
   "source": [
    "## CV distribution of Testosterone"
   ]
  },
  {
   "cell_type": "code",
   "execution_count": 213,
   "metadata": {
    "collapsed": true
   },
   "outputs": [],
   "source": [
    "mu_log_cv, std_log_cv = norm.fit(np.log(cv))"
   ]
  },
  {
   "cell_type": "code",
   "execution_count": 214,
   "metadata": {},
   "outputs": [
    {
     "data": {
      "image/png": "[encoded data removed]",
      "text/plain": [
       "<matplotlib.figure.Figure at 0x7f375f0654a8>"
      ]
     },
     "metadata": {},
     "output_type": "display_data"
    }
   ],
   "source": [
    "# Plot the PDF.\n",
    "plt.hist(np.log(cv), normed=True)\n",
    "xmin, xmax = plt.xlim()\n",
    "x = np.linspace(xmin, xmax, 200)\n",
    "p = norm.pdf(x, mu_cv, std_cv)\n",
    "plt.plot(x, p, 'k', linewidth=2)\n",
    "title = \"Fit results: mu = %.2f,  std = %.2f\" % (mu_cv, std_cv)\n",
    "plt.title(title)\n",
    "plt.xlabel(\"CV of Testosterone\")\n",
    "plt.show()"
   ]
  },
  {
   "cell_type": "markdown",
   "metadata": {},
   "source": [
    "## Mean distribution of Testosterone"
   ]
  },
  {
   "cell_type": "code",
   "execution_count": 10,
   "metadata": {
    "scrolled": true
   },
   "outputs": [
    {
     "name": "stdout",
     "output_type": "stream",
     "text": [
      "mu1: 0.65, mu2: 2.31, sigma1: 0.32, sigma2: 0.48\n"
     ]
    },
    {
     "data": {
      "image/png": "[encoded data removed]",
      "text/plain": [
       "<matplotlib.figure.Figure at 0x7f376dd7eb70>"
      ]
     },
     "metadata": {},
     "output_type": "display_data"
    }
   ],
   "source": [
    "def bimodal(x,mu1,sigma1, a ,mu2,sigma2, b):\n",
    "    return a * norm.pdf(x, loc=mu1, scale=sigma1) + b* norm.pdf(x, loc=mu2, scale=sigma2)\n",
    "\n",
    "y, x, _ = plt.hist(np.log(mean_std[:,0]), bins=40)\n",
    "\n",
    "x=(x[1:]+x[:-1])/2 # for len(x)==len(y)\n",
    "\n",
    "expected=(.9,.3,5, 2,.5, 25)\n",
    "params,cov = curve_fit(bimodal,x, y, expected)\n",
    "\n",
    "x_min, x_max = plt.xlim()\n",
    "x_range = np.linspace(x_min, x_max, 100)\n",
    "\n",
    "plt.plot(x_range, bimodal(x_range,*params),color='red',lw=3,label='model')\n",
    "plt.xlabel(\"log-mean of Testosterone\")\n",
    "\n",
    "plt.legend()\n",
    "print(\"mu1: %.2f, mu2: %.2f, sigma1: %.2f, sigma2: %.2f\" % (params[0], params[3], params[1], params[4]))\n",
    "# params: [0.65971149 2.3118089 0.31358743 0.48161179]"
   ]
  },
  {
   "cell_type": "code",
   "execution_count": 230,
   "metadata": {},
   "outputs": [],
   "source": [
    "def joint_prob(log_mu, log_sigma, mu_log_mu, std_log_mu, mu_log_cv, std_log_cv):\n",
    "\n",
    "    log_cv = log_sigma - log_mu\n",
    "    \n",
    "    p_mu = norm.pdf(log_mu, loc=mu_log_mu, scale=std_log_mu)\n",
    "    p_cv = norm.pdf(log_cv, loc=mu_log_cv, scale=std_log_cv)\n",
    "    \n",
    "    return log_mu * p_cv * p_mu\n",
    "\n",
    "def products(log_observations, log_mu, log_sigma):\n",
    "    return np.product([norm.pdf(obs, loc=log_mu, scale=log_sigma) for obs in log_observations])\n",
    "\n",
    "def dist(log_mu, log_sigma, log_observations, log_mu_mu, log_std_mu, log_mu_cv, log_std_cv):\n",
    "    \n",
    "    return products(log_observations, log_mu, log_sigma) * joint_prob(log_mu, log_sigma, log_mu_mu, log_std_mu, log_mu_cv, std_log_cv)"
   ]
  },
  {
   "cell_type": "markdown",
   "metadata": {},
   "source": [
    "## Gender Specific Mean Distribution"
   ]
  },
  {
   "cell_type": "code",
   "execution_count": 207,
   "metadata": {
    "scrolled": true
   },
   "outputs": [
    {
     "name": "stdout",
     "output_type": "stream",
     "text": [
      "mu_log_mu_male: 2.393652448985088 \n",
      " std_log_mu_male: 0.4975949035276396 \n",
      " mu_log_mu_female: 0.7679896207224753 \n",
      " std_log_mu_female: 0.6064513206209803\n"
     ]
    },
    {
     "data": {
      "image/png": "[encoded data removed]",
      "text/plain": [
       "<matplotlib.figure.Figure at 0x7f375f065f60>"
      ]
     },
     "metadata": {},
     "output_type": "display_data"
    }
   ],
   "source": [
    "mu_log_mu_male, std_log_mu_male = norm.fit(np.log(mean_std_male[:,0]))\n",
    "mu_log_mu_female, std_log_mu_female = norm.fit(np.log(mean_std_female[:,0]))\n",
    "\n",
    "# Plot the PDF.\n",
    "plt.hist(np.log(mean_std_male[:,0]))\n",
    "plt.hist(np.log(mean_std_female[:,0]))\n",
    "xmin, xmax = plt.xlim()\n",
    "x = np.linspace(xmin, xmax, 200)\n",
    "p_male = norm.pdf(x, mu_log_mu_male, std_log_mu_male)\n",
    "p_female = norm.pdf(x, mu_log_mu_female, std_log_mu_female)\n",
    "plt.plot(x, p_male, 'k', linewidth=2)\n",
    "plt.plot(x, p_female, 'k', linewidth=2)\n",
    "print(\"mu_log_mu_male:\", mu_log_mu_male, \"\\n\", \"std_log_mu_male:\", std_log_mu_male, \"\\n\", \"mu_log_mu_female:\", mu_log_mu_female, \"\\n\", \"std_log_mu_female:\", std_log_mu_female)\n",
    "plt.show()"
   ]
  },
  {
   "cell_type": "markdown",
   "metadata": {},
   "source": [
    "## Evaluation of Joint Distribution"
   ]
  },
  {
   "cell_type": "code",
   "execution_count": 228,
   "metadata": {},
   "outputs": [
    {
     "data": {
      "text/plain": [
       "(array([3., 4., 1., 1., 0., 0., 0., 0., 0., 1.]),\n",
       " array([  2.2867313 ,  15.14757272,  28.00841413,  40.86925554,\n",
       "         53.73009695,  66.59093836,  79.45177977,  92.31262118,\n",
       "        105.17346259, 118.03430401, 130.89514542]),\n",
       " <a list of 10 Patch objects>)"
      ]
     },
     "execution_count": 228,
     "metadata": {},
     "output_type": "execute_result"
    },
    {
     "data": {
      "image/png": "[encoded data removed]",
      "text/plain": [
       "<matplotlib.figure.Figure at 0x7f375f05aa58>"
      ]
     },
     "metadata": {},
     "output_type": "display_data"
    }
   ],
   "source": [
    "plt.hist(simulated_data)"
   ]
  },
  {
   "cell_type": "code",
   "execution_count": 229,
   "metadata": {},
   "outputs": [
    {
     "data": {
      "text/plain": [
       "(array([1., 0., 0., 2., 1., 3., 1., 1., 0., 1.]),\n",
       " array([0.82712342, 1.23185074, 1.63657805, 2.04130537, 2.44603269,\n",
       "        2.85076   , 3.25548732, 3.66021464, 4.06494195, 4.46966927,\n",
       "        4.87439659]),\n",
       " <a list of 10 Patch objects>)"
      ]
     },
     "execution_count": 229,
     "metadata": {},
     "output_type": "execute_result"
    },
    {
     "data": {
      "image/png": "[encoded data removed]",
      "text/plain": [
       "<matplotlib.figure.Figure at 0x7f375ee6e358>"
      ]
     },
     "metadata": {},
     "output_type": "display_data"
    }
   ],
   "source": [
    "plt.hist(np.log(simulated_data))"
   ]
  },
  {
   "cell_type": "code",
   "execution_count": 197,
   "metadata": {
    "collapsed": true
   },
   "outputs": [],
   "source": [
    "simulated_data = np.exp(norm.rvs(loc=3, scale=1, size=10))"
   ]
  },
  {
   "cell_type": "code",
   "execution_count": 223,
   "metadata": {},
   "outputs": [
    {
     "name": "stdout",
     "output_type": "stream",
     "text": [
      "Range: [0.         4.03325687 4.71750632 5.11998783 5.40617476 5.62842015\n",
      " 5.81014249 5.96386494 6.09707503 6.2146081 ]\n",
      "Target: 3.02045083702403\n"
     ]
    }
   ],
   "source": [
    "print(\"Range:\", np.log(np.linspace(1,500, 10)))\n",
    "print(\"Target:\",np.log(simulated_data[-1]))"
   ]
  },
  {
   "cell_type": "code",
   "execution_count": 224,
   "metadata": {},
   "outputs": [],
   "source": [
    "from scipy.integrate import dblquad\n",
    "def f(x): return dblquad(dist, 0, 10, lambda x: 0, lambda x: 5, args=[np.log(np.append(simulated_data[:-1], x)) , mu_log_mu_male, std_log_mu_male, mu_log_cv, std_log_cv])[0]"
   ]
  },
  {
   "cell_type": "code",
   "execution_count": 226,
   "metadata": {},
   "outputs": [
    {
     "name": "stderr",
     "output_type": "stream",
     "text": [
      "/home/iss/anaconda3/lib/python3.6/site-packages/ipykernel_launcher.py:2: RuntimeWarning:\n",
      "\n",
      "divide by zero encountered in log\n",
      "\n"
     ]
    }
   ],
   "source": [
    "predictive_dist = [f(x) for x in np.log(np.linspace(1,500, 10))]"
   ]
  },
  {
   "cell_type": "code",
   "execution_count": 227,
   "metadata": {},
   "outputs": [
    {
     "data": {
      "text/plain": [
       "[0.0,\n",
       " 1.1093600399550028e-07,\n",
       " 1.2852629327895069e-07,\n",
       " 1.3797058777247898e-07,\n",
       " 1.4428014484410582e-07,\n",
       " 1.4896010441776466e-07,\n",
       " 1.5263940651394204e-07,\n",
       " 1.5561638256464978e-07,\n",
       " 1.5815271292013037e-07,\n",
       " 1.6037113178893837e-07]"
      ]
     },
     "execution_count": 227,
     "metadata": {},
     "output_type": "execute_result"
    }
   ],
   "source": [
    "predictive_dist"
   ]
  }
 ],
 "metadata": {
  "kernelspec": {
   "display_name": "tensorflow",
   "language": "python",
   "name": "tensorflow"
  },
  "language_info": {
   "codemirror_mode": {
    "name": "ipython",
    "version": 3
   },
   "file_extension": ".py",
   "mimetype": "text/x-python",
   "name": "python",
   "nbconvert_exporter": "python",
   "pygments_lexer": "ipython3",
   "version": "3.6.3"
  }
 },
 "nbformat": 4,
 "nbformat_minor": 2
}
