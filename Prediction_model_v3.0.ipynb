{
 "cells": [
  {
   "cell_type": "markdown",
   "metadata": {},
   "source": [
    "## Changelog\n",
    "* V2 Implementing forward-walk cross validation for timeseries\n",
    "    * V2.1 Removing other features and training only with lagged testosterone\n",
    "* V3 Using simple regression model"
   ]
  },
  {
   "cell_type": "code",
   "execution_count": 1,
   "metadata": {},
   "outputs": [
    {
     "name": "stderr",
     "output_type": "stream",
     "text": [
      "Using TensorFlow backend.\n"
     ]
    },
    {
     "data": {
      "text/html": [
       "<script>requirejs.config({paths: { 'plotly': ['https://cdn.plot.ly/plotly-latest.min']},});if(!window.Plotly) {{require(['plotly'],function(plotly) {window.Plotly=plotly;});}}</script>"
      ],
      "text/vnd.plotly.v1+html": [
       "<script>requirejs.config({paths: { 'plotly': ['https://cdn.plot.ly/plotly-latest.min']},});if(!window.Plotly) {{require(['plotly'],function(plotly) {window.Plotly=plotly;});}}</script>"
      ]
     },
     "metadata": {},
     "output_type": "display_data"
    }
   ],
   "source": [
    "import numpy as np\n",
    "from matplotlib import pyplot as plt\n",
    "\n",
    "import pandas as pd\n",
    "from pandas import DataFrame, Series\n",
    "\n",
    "from sklearn.model_selection import train_test_split\n",
    "from sklearn.preprocessing import MinMaxScaler\n",
    "from sklearn.metrics import mean_squared_error\n",
    "from sklearn.model_selection import TimeSeriesSplit\n",
    "from sklearn.linear_model import LassoCV\n",
    "\n",
    "from keras.layers import Dense, LSTM, SimpleRNN, Masking\n",
    "from keras.models import Sequential\n",
    "from keras.preprocessing.sequence import pad_sequences\n",
    "\n",
    "import plotly.plotly as py\n",
    "import plotly.graph_objs as go\n",
    "from plotly.offline import download_plotlyjs, init_notebook_mode, plot, iplot\n",
    "\n",
    "from tqdm import tqdm_notebook\n",
    "\n",
    "init_notebook_mode(connected=True)\n",
    "%matplotlib inline"
   ]
  },
  {
   "cell_type": "code",
   "execution_count": 2,
   "metadata": {
    "collapsed": true
   },
   "outputs": [],
   "source": [
    "# scale train and test data to [-1, 1]\n",
    "def scale(train, test):\n",
    "    scaler = MinMaxScaler(feature_range=(-1, 1))\n",
    "    scaler = scaler.fit(train)\n",
    "    train_scaled = scaler.transform(train)\n",
    "    test_scaled = scaler.transform(test)\n",
    "    \n",
    "    return scaler, train_scaled, test_scaled\n",
    " \n",
    "# inverse scaling for a forecasted value\n",
    "def invert_scale(scaler, X, yhat):\n",
    "    new_row = [x for x in X] + [yhat]\n",
    "    array = np.array(new_row)\n",
    "    array = array.reshape(1, len(array))\n",
    "    inverted = scaler.inverse_transform(array)\n",
    "    \n",
    "    return inverted[0, -1]"
   ]
  },
  {
   "cell_type": "code",
   "execution_count": 3,
   "metadata": {
    "collapsed": true
   },
   "outputs": [],
   "source": [
    "def timeseries_to_supervised(data):\n",
    "    \"\"\"\n",
    "    Append the lag -1 of the target value (i.e., previous Testosterone value) as a new feature to the data\n",
    "    \n",
    "    Arguments:\n",
    "        data: a dataframe containing Testosterone and other features\n",
    "    \"\"\"\n",
    "\n",
    "    new_df = DataFrame()\n",
    "    for pIndex, features in data.groupby(\"Person\"):\n",
    "        copy_features = features.copy()\n",
    "        copy_features['y'] = features.Testosterone.shift(-1)\n",
    "        copy_features.drop(copy_features.index[len(features) - 1], inplace=True)\n",
    "        new_df = pd.concat([new_df, copy_features])\n",
    "    \n",
    "    return new_df"
   ]
  },
  {
   "cell_type": "code",
   "execution_count": 4,
   "metadata": {
    "collapsed": true
   },
   "outputs": [],
   "source": [
    "def prepare_dataset(data, to_supervised=True, as_dataframe=False, testosterone_only=False):\n",
    "    \"\"\"\n",
    "    Returns a dataframe or array of athletes with a 2D indexing where the first index corresponds to the athlete's Id\n",
    "    and the second index corresponds to the observation (timestep) Id.\n",
    "    \n",
    "    Arguments:\n",
    "        to_supervised: if True a column with -1 lag values of Testosterone columns is added as the future target values\n",
    "    \"\"\"\n",
    "      \n",
    "    # adding seq_ix to data\n",
    "    seq_ix = [list(np.arange(i)) for i in data.groupby(\"Person\").size().values]\n",
    "    seq_ix = [item for sub in seq_ix for item in sub]\n",
    "    data.index = pd.MultiIndex.from_arrays([data.index.values, seq_ix], names=['Person', 'seq_ix'])\n",
    "    # impute missing values\n",
    "    data.fillna(method='pad', inplace=True)\n",
    "    \n",
    "    \n",
    "    if to_supervised:\n",
    "        data = timeseries_to_supervised(data)\n",
    "    \n",
    "    if testosterone_only:\n",
    "        data = data[['Testosterone', 'y']]\n",
    "    \n",
    "    if as_dataframe:\n",
    "        return data\n",
    "    \n",
    "    \n",
    "    # convert to numpy 3D array\n",
    "    data_array = [person.values for pId, person in data.groupby('Person')]\n",
    "    \n",
    "    return data_array"
   ]
  },
  {
   "cell_type": "code",
   "execution_count": 5,
   "metadata": {
    "collapsed": true
   },
   "outputs": [],
   "source": [
    "#defining callbacks\n",
    "from keras.callbacks import EarlyStopping, TensorBoard\n",
    "tensorboard_callback = TensorBoard(log_dir=\"./logs/2_LSTM_100_run26_maskingLayer_scaled_batch2\" , histogram_freq=1, batch_size=1)\n",
    "earlystopping_callback = EarlyStopping(min_delta=.001 , patience=20, mode='min', verbose=1)"
   ]
  },
  {
   "cell_type": "markdown",
   "metadata": {},
   "source": [
    "### Creating walk-forward dataset for robust validation"
   ]
  },
  {
   "cell_type": "code",
   "execution_count": 6,
   "metadata": {
    "collapsed": true
   },
   "outputs": [],
   "source": [
    "def get_model(batch_size, nb_features, neurons):\n",
    "    \n",
    "    model = Sequential()\n",
    "    model.add(LSTM(neurons, return_sequences=True, batch_input_shape=(batch_size, 1, nb_features), stateful=True))\n",
    "    model.add(LSTM(neurons, stateful=True))\n",
    "    model.add(Dense(1))\n",
    "    model.compile(loss='mean_squared_error', optimizer='adam')\n",
    "    \n",
    "    return model\n",
    "\n",
    "# Fit LSTM model\n",
    "def fit_model(model, train, batch_size, updates):\n",
    "    \"\"\"\n",
    "    :param train: a 2D numpy array containing all the observation (timesteps) of one athlete as rows. The last column contains the future value of Testosterone (i.e., target column).\n",
    "    \"\"\"\n",
    "    X_train = train[:, 0:-1]\n",
    "    X_train = X_train.reshape(X_train.shape[0], 1, X_train.shape[1])\n",
    "    y_train = train[:, -1]\n",
    "    \n",
    "    losses = []\n",
    "    for i in range(updates):\n",
    "        history = model.fit(X_train, y_train, epochs=1, batch_size=batch_size, verbose=0, shuffle=False)\n",
    "        losses.append(history.history['loss'])\n",
    "        model.reset_states()\n",
    "    \n",
    "    return model, losses\n",
    "\n",
    "# make a one-step forecast\n",
    "def forecast_lstm(model, X_test, batch_size):\n",
    "    \n",
    "    X_test = X_test.reshape(1, 1, len(X_test))\n",
    "    \n",
    "    yhat = model.predict(X_test, batch_size=batch_size)\n",
    "\n",
    "    return yhat[0,0]"
   ]
  },
  {
   "cell_type": "code",
   "execution_count": 7,
   "metadata": {
    "collapsed": true
   },
   "outputs": [],
   "source": [
    "# run a repeated experiment\n",
    "def experiment(data, repeats, epochs, updates, batch_size):\n",
    "    nb_features = data[0].shape[1] -1 # -1 since the last column is target value\n",
    "    \n",
    "    repeat_predictions = []\n",
    "    repeat_targetvalues = []\n",
    "    repeat_losses = []\n",
    "    for r in tqdm_notebook(range(repeats), desc=\"Repeat\"):\n",
    "        persons_predictions = []\n",
    "        persons_targetvalues = []\n",
    "        persons_losses = []\n",
    "        \n",
    "        # fit the base model\n",
    "        model = get_model(batch_size, nb_features, 100)\n",
    "        \n",
    "        for person in tqdm_notebook(data, desc=\"Athlete\"):\n",
    "            \n",
    "            train, test = train_test_split(person, test_size=.33, shuffle=False)\n",
    "            scaler, scaled_train, scaled_test = scale(train, test)\n",
    "            model, losses = fit_model(model, scaled_train, 1, epochs)\n",
    "            \n",
    "            predictions = list()\n",
    "            for i in range(len(scaled_test)):\n",
    "                # update model\n",
    "                if i > 0:\n",
    "                    model, updated_losses = fit_model(model, updated_train, 1, updates)\n",
    "                    losses.extend(updated_losses)\n",
    "                X_test = scaled_test[i, 0:-1]\n",
    "                # predict\n",
    "                yhat = forecast_lstm(model, X_test, 1)        \n",
    "                # invert scaling\n",
    "                yhat = invert_scale(scaler, X_test, yhat)\n",
    "                # store forecast\n",
    "                predictions.append(yhat)\n",
    "                # add to training set\n",
    "                updated_train = np.concatenate((scaled_train, scaled_test[i,:].reshape(1, -1)))\n",
    "            \n",
    "            persons_losses.append(losses)\n",
    "            persons_predictions.append(predictions)\n",
    "            persons_targetvalues.append(test[:, -1].tolist())\n",
    "        \n",
    "        repeat_losses.append(persons_losses)    \n",
    "        repeat_predictions.append(persons_predictions)\n",
    "        repeat_targetvalues.append(persons_targetvalues)\n",
    "    \n",
    "    return repeat_losses, repeat_predictions, repeat_targetvalues"
   ]
  },
  {
   "cell_type": "code",
   "execution_count": 8,
   "metadata": {},
   "outputs": [
    {
     "name": "stdout",
     "output_type": "stream",
     "text": [
      "70 persons removed!\n"
     ]
    }
   ],
   "source": [
    "data = DataFrame.from_csv(\"./testosterone_levels.csv\")\n",
    "\n",
    "# drop persons with sequence length less than 5\n",
    "small_seqs = data.groupby(\"Person\").size() < 6\n",
    "small_seqs_indices = small_seqs[small_seqs == True].index\n",
    "data = data.drop(small_seqs_indices)\n",
    "print(\"%d persons removed!\" % len(small_seqs_indices))\n",
    "\n",
    "index_to_pid = dict(list(zip(range(len(data.index.unique())), data.index.unique().values)))\n",
    "pid_to_index = dict(list(zip(data.index.unique().values, range(len(data.index.unique())))))"
   ]
  },
  {
   "cell_type": "code",
   "execution_count": 9,
   "metadata": {
    "scrolled": true
   },
   "outputs": [
    {
     "data": {
      "text/html": [
       "<div>\n",
       "<style>\n",
       "    .dataframe thead tr:only-child th {\n",
       "        text-align: right;\n",
       "    }\n",
       "\n",
       "    .dataframe thead th {\n",
       "        text-align: left;\n",
       "    }\n",
       "\n",
       "    .dataframe tbody tr th {\n",
       "        vertical-align: top;\n",
       "    }\n",
       "</style>\n",
       "<table border=\"1\" class=\"dataframe\">\n",
       "  <thead>\n",
       "    <tr style=\"text-align: right;\">\n",
       "      <th></th>\n",
       "      <th>F1</th>\n",
       "      <th>F2</th>\n",
       "      <th>F3</th>\n",
       "      <th>F4</th>\n",
       "      <th>Testosterone</th>\n",
       "    </tr>\n",
       "    <tr>\n",
       "      <th>Person</th>\n",
       "      <th></th>\n",
       "      <th></th>\n",
       "      <th></th>\n",
       "      <th></th>\n",
       "      <th></th>\n",
       "    </tr>\n",
       "  </thead>\n",
       "  <tbody>\n",
       "    <tr>\n",
       "      <th>1</th>\n",
       "      <td>1</td>\n",
       "      <td>595.0</td>\n",
       "      <td>42.0</td>\n",
       "      <td>16.31</td>\n",
       "      <td>5.45</td>\n",
       "    </tr>\n",
       "    <tr>\n",
       "      <th>1</th>\n",
       "      <td>1</td>\n",
       "      <td>790.0</td>\n",
       "      <td>33.0</td>\n",
       "      <td>16.54</td>\n",
       "      <td>5.58</td>\n",
       "    </tr>\n",
       "    <tr>\n",
       "      <th>1</th>\n",
       "      <td>1</td>\n",
       "      <td>633.0</td>\n",
       "      <td>47.0</td>\n",
       "      <td>10.35</td>\n",
       "      <td>6.25</td>\n",
       "    </tr>\n",
       "    <tr>\n",
       "      <th>1</th>\n",
       "      <td>1</td>\n",
       "      <td>749.0</td>\n",
       "      <td>38.0</td>\n",
       "      <td>15.50</td>\n",
       "      <td>6.31</td>\n",
       "    </tr>\n",
       "    <tr>\n",
       "      <th>1</th>\n",
       "      <td>1</td>\n",
       "      <td>178.0</td>\n",
       "      <td>34.0</td>\n",
       "      <td>6.39</td>\n",
       "      <td>6.52</td>\n",
       "    </tr>\n",
       "    <tr>\n",
       "      <th>1</th>\n",
       "      <td>1</td>\n",
       "      <td>259.0</td>\n",
       "      <td>36.0</td>\n",
       "      <td>10.62</td>\n",
       "      <td>7.04</td>\n",
       "    </tr>\n",
       "    <tr>\n",
       "      <th>1</th>\n",
       "      <td>1</td>\n",
       "      <td>227.0</td>\n",
       "      <td>45.0</td>\n",
       "      <td>16.73</td>\n",
       "      <td>7.15</td>\n",
       "    </tr>\n",
       "    <tr>\n",
       "      <th>1</th>\n",
       "      <td>1</td>\n",
       "      <td>197.0</td>\n",
       "      <td>38.0</td>\n",
       "      <td>14.31</td>\n",
       "      <td>7.34</td>\n",
       "    </tr>\n",
       "    <tr>\n",
       "      <th>1</th>\n",
       "      <td>1</td>\n",
       "      <td>250.0</td>\n",
       "      <td>42.0</td>\n",
       "      <td>18.47</td>\n",
       "      <td>7.42</td>\n",
       "    </tr>\n",
       "    <tr>\n",
       "      <th>1</th>\n",
       "      <td>1</td>\n",
       "      <td>522.0</td>\n",
       "      <td>42.0</td>\n",
       "      <td>17.52</td>\n",
       "      <td>7.72</td>\n",
       "    </tr>\n",
       "    <tr>\n",
       "      <th>2</th>\n",
       "      <td>1</td>\n",
       "      <td>479.0</td>\n",
       "      <td>34.0</td>\n",
       "      <td>9.61</td>\n",
       "      <td>9.65</td>\n",
       "    </tr>\n",
       "    <tr>\n",
       "      <th>2</th>\n",
       "      <td>1</td>\n",
       "      <td>201.0</td>\n",
       "      <td>39.0</td>\n",
       "      <td>8.69</td>\n",
       "      <td>9.89</td>\n",
       "    </tr>\n",
       "    <tr>\n",
       "      <th>2</th>\n",
       "      <td>1</td>\n",
       "      <td>1169.0</td>\n",
       "      <td>43.0</td>\n",
       "      <td>6.03</td>\n",
       "      <td>11.48</td>\n",
       "    </tr>\n",
       "    <tr>\n",
       "      <th>2</th>\n",
       "      <td>1</td>\n",
       "      <td>322.0</td>\n",
       "      <td>40.0</td>\n",
       "      <td>8.83</td>\n",
       "      <td>12.27</td>\n",
       "    </tr>\n",
       "    <tr>\n",
       "      <th>2</th>\n",
       "      <td>1</td>\n",
       "      <td>903.0</td>\n",
       "      <td>43.0</td>\n",
       "      <td>9.24</td>\n",
       "      <td>13.02</td>\n",
       "    </tr>\n",
       "    <tr>\n",
       "      <th>2</th>\n",
       "      <td>1</td>\n",
       "      <td>1820.0</td>\n",
       "      <td>45.0</td>\n",
       "      <td>7.01</td>\n",
       "      <td>13.41</td>\n",
       "    </tr>\n",
       "    <tr>\n",
       "      <th>2</th>\n",
       "      <td>1</td>\n",
       "      <td>509.0</td>\n",
       "      <td>48.0</td>\n",
       "      <td>10.57</td>\n",
       "      <td>13.73</td>\n",
       "    </tr>\n",
       "    <tr>\n",
       "      <th>2</th>\n",
       "      <td>1</td>\n",
       "      <td>403.0</td>\n",
       "      <td>43.0</td>\n",
       "      <td>12.51</td>\n",
       "      <td>15.74</td>\n",
       "    </tr>\n",
       "    <tr>\n",
       "      <th>2</th>\n",
       "      <td>1</td>\n",
       "      <td>491.0</td>\n",
       "      <td>52.0</td>\n",
       "      <td>11.67</td>\n",
       "      <td>16.07</td>\n",
       "    </tr>\n",
       "    <tr>\n",
       "      <th>2</th>\n",
       "      <td>1</td>\n",
       "      <td>166.0</td>\n",
       "      <td>35.0</td>\n",
       "      <td>12.02</td>\n",
       "      <td>20.33</td>\n",
       "    </tr>\n",
       "    <tr>\n",
       "      <th>3</th>\n",
       "      <td>1</td>\n",
       "      <td>648.0</td>\n",
       "      <td>36.0</td>\n",
       "      <td>7.99</td>\n",
       "      <td>3.66</td>\n",
       "    </tr>\n",
       "    <tr>\n",
       "      <th>3</th>\n",
       "      <td>1</td>\n",
       "      <td>775.0</td>\n",
       "      <td>25.0</td>\n",
       "      <td>12.40</td>\n",
       "      <td>3.85</td>\n",
       "    </tr>\n",
       "    <tr>\n",
       "      <th>3</th>\n",
       "      <td>1</td>\n",
       "      <td>843.0</td>\n",
       "      <td>33.0</td>\n",
       "      <td>10.62</td>\n",
       "      <td>4.03</td>\n",
       "    </tr>\n",
       "    <tr>\n",
       "      <th>3</th>\n",
       "      <td>1</td>\n",
       "      <td>477.0</td>\n",
       "      <td>33.0</td>\n",
       "      <td>10.54</td>\n",
       "      <td>4.15</td>\n",
       "    </tr>\n",
       "    <tr>\n",
       "      <th>3</th>\n",
       "      <td>1</td>\n",
       "      <td>309.0</td>\n",
       "      <td>28.0</td>\n",
       "      <td>7.87</td>\n",
       "      <td>4.27</td>\n",
       "    </tr>\n",
       "    <tr>\n",
       "      <th>3</th>\n",
       "      <td>1</td>\n",
       "      <td>467.0</td>\n",
       "      <td>32.0</td>\n",
       "      <td>11.55</td>\n",
       "      <td>4.44</td>\n",
       "    </tr>\n",
       "    <tr>\n",
       "      <th>3</th>\n",
       "      <td>1</td>\n",
       "      <td>393.0</td>\n",
       "      <td>25.0</td>\n",
       "      <td>7.83</td>\n",
       "      <td>5.07</td>\n",
       "    </tr>\n",
       "    <tr>\n",
       "      <th>3</th>\n",
       "      <td>1</td>\n",
       "      <td>746.0</td>\n",
       "      <td>31.0</td>\n",
       "      <td>11.61</td>\n",
       "      <td>5.20</td>\n",
       "    </tr>\n",
       "    <tr>\n",
       "      <th>3</th>\n",
       "      <td>1</td>\n",
       "      <td>655.0</td>\n",
       "      <td>30.0</td>\n",
       "      <td>15.87</td>\n",
       "      <td>6.25</td>\n",
       "    </tr>\n",
       "    <tr>\n",
       "      <th>3</th>\n",
       "      <td>1</td>\n",
       "      <td>821.0</td>\n",
       "      <td>30.0</td>\n",
       "      <td>12.51</td>\n",
       "      <td>6.28</td>\n",
       "    </tr>\n",
       "    <tr>\n",
       "      <th>...</th>\n",
       "      <td>...</td>\n",
       "      <td>...</td>\n",
       "      <td>...</td>\n",
       "      <td>...</td>\n",
       "      <td>...</td>\n",
       "    </tr>\n",
       "    <tr>\n",
       "      <th>93</th>\n",
       "      <td>1</td>\n",
       "      <td>194.0</td>\n",
       "      <td>39.0</td>\n",
       "      <td>11.04</td>\n",
       "      <td>5.63</td>\n",
       "    </tr>\n",
       "    <tr>\n",
       "      <th>93</th>\n",
       "      <td>1</td>\n",
       "      <td>108.0</td>\n",
       "      <td>40.0</td>\n",
       "      <td>13.88</td>\n",
       "      <td>5.91</td>\n",
       "    </tr>\n",
       "    <tr>\n",
       "      <th>93</th>\n",
       "      <td>1</td>\n",
       "      <td>97.0</td>\n",
       "      <td>35.0</td>\n",
       "      <td>12.64</td>\n",
       "      <td>6.32</td>\n",
       "    </tr>\n",
       "    <tr>\n",
       "      <th>93</th>\n",
       "      <td>1</td>\n",
       "      <td>118.0</td>\n",
       "      <td>45.0</td>\n",
       "      <td>8.13</td>\n",
       "      <td>6.80</td>\n",
       "    </tr>\n",
       "    <tr>\n",
       "      <th>93</th>\n",
       "      <td>1</td>\n",
       "      <td>89.0</td>\n",
       "      <td>37.0</td>\n",
       "      <td>14.15</td>\n",
       "      <td>6.83</td>\n",
       "    </tr>\n",
       "    <tr>\n",
       "      <th>93</th>\n",
       "      <td>1</td>\n",
       "      <td>261.0</td>\n",
       "      <td>43.0</td>\n",
       "      <td>12.47</td>\n",
       "      <td>11.84</td>\n",
       "    </tr>\n",
       "    <tr>\n",
       "      <th>93</th>\n",
       "      <td>1</td>\n",
       "      <td>167.0</td>\n",
       "      <td>36.0</td>\n",
       "      <td>18.62</td>\n",
       "      <td>12.30</td>\n",
       "    </tr>\n",
       "    <tr>\n",
       "      <th>93</th>\n",
       "      <td>1</td>\n",
       "      <td>136.0</td>\n",
       "      <td>32.0</td>\n",
       "      <td>20.67</td>\n",
       "      <td>12.69</td>\n",
       "    </tr>\n",
       "    <tr>\n",
       "      <th>93</th>\n",
       "      <td>1</td>\n",
       "      <td>320.0</td>\n",
       "      <td>30.0</td>\n",
       "      <td>17.26</td>\n",
       "      <td>13.12</td>\n",
       "    </tr>\n",
       "    <tr>\n",
       "      <th>93</th>\n",
       "      <td>1</td>\n",
       "      <td>323.0</td>\n",
       "      <td>39.0</td>\n",
       "      <td>18.99</td>\n",
       "      <td>13.22</td>\n",
       "    </tr>\n",
       "    <tr>\n",
       "      <th>93</th>\n",
       "      <td>1</td>\n",
       "      <td>164.0</td>\n",
       "      <td>32.0</td>\n",
       "      <td>15.12</td>\n",
       "      <td>16.53</td>\n",
       "    </tr>\n",
       "    <tr>\n",
       "      <th>93</th>\n",
       "      <td>1</td>\n",
       "      <td>132.0</td>\n",
       "      <td>34.0</td>\n",
       "      <td>20.67</td>\n",
       "      <td>17.31</td>\n",
       "    </tr>\n",
       "    <tr>\n",
       "      <th>93</th>\n",
       "      <td>1</td>\n",
       "      <td>197.0</td>\n",
       "      <td>32.0</td>\n",
       "      <td>20.55</td>\n",
       "      <td>17.31</td>\n",
       "    </tr>\n",
       "    <tr>\n",
       "      <th>93</th>\n",
       "      <td>1</td>\n",
       "      <td>136.0</td>\n",
       "      <td>32.0</td>\n",
       "      <td>16.40</td>\n",
       "      <td>17.67</td>\n",
       "    </tr>\n",
       "    <tr>\n",
       "      <th>93</th>\n",
       "      <td>1</td>\n",
       "      <td>122.0</td>\n",
       "      <td>29.0</td>\n",
       "      <td>16.25</td>\n",
       "      <td>18.32</td>\n",
       "    </tr>\n",
       "    <tr>\n",
       "      <th>94</th>\n",
       "      <td>1</td>\n",
       "      <td>224.0</td>\n",
       "      <td>73.0</td>\n",
       "      <td>12.00</td>\n",
       "      <td>4.46</td>\n",
       "    </tr>\n",
       "    <tr>\n",
       "      <th>94</th>\n",
       "      <td>1</td>\n",
       "      <td>291.0</td>\n",
       "      <td>57.0</td>\n",
       "      <td>11.14</td>\n",
       "      <td>4.94</td>\n",
       "    </tr>\n",
       "    <tr>\n",
       "      <th>94</th>\n",
       "      <td>1</td>\n",
       "      <td>175.0</td>\n",
       "      <td>71.0</td>\n",
       "      <td>16.74</td>\n",
       "      <td>5.18</td>\n",
       "    </tr>\n",
       "    <tr>\n",
       "      <th>94</th>\n",
       "      <td>1</td>\n",
       "      <td>167.0</td>\n",
       "      <td>39.0</td>\n",
       "      <td>15.80</td>\n",
       "      <td>5.41</td>\n",
       "    </tr>\n",
       "    <tr>\n",
       "      <th>94</th>\n",
       "      <td>1</td>\n",
       "      <td>146.0</td>\n",
       "      <td>49.0</td>\n",
       "      <td>17.56</td>\n",
       "      <td>5.58</td>\n",
       "    </tr>\n",
       "    <tr>\n",
       "      <th>94</th>\n",
       "      <td>1</td>\n",
       "      <td>177.0</td>\n",
       "      <td>31.0</td>\n",
       "      <td>7.65</td>\n",
       "      <td>5.81</td>\n",
       "    </tr>\n",
       "    <tr>\n",
       "      <th>94</th>\n",
       "      <td>1</td>\n",
       "      <td>186.0</td>\n",
       "      <td>30.0</td>\n",
       "      <td>17.39</td>\n",
       "      <td>6.87</td>\n",
       "    </tr>\n",
       "    <tr>\n",
       "      <th>94</th>\n",
       "      <td>1</td>\n",
       "      <td>222.0</td>\n",
       "      <td>22.0</td>\n",
       "      <td>12.41</td>\n",
       "      <td>7.03</td>\n",
       "    </tr>\n",
       "    <tr>\n",
       "      <th>94</th>\n",
       "      <td>1</td>\n",
       "      <td>142.0</td>\n",
       "      <td>42.0</td>\n",
       "      <td>13.30</td>\n",
       "      <td>7.61</td>\n",
       "    </tr>\n",
       "    <tr>\n",
       "      <th>94</th>\n",
       "      <td>1</td>\n",
       "      <td>NaN</td>\n",
       "      <td>NaN</td>\n",
       "      <td>17.13</td>\n",
       "      <td>7.81</td>\n",
       "    </tr>\n",
       "    <tr>\n",
       "      <th>94</th>\n",
       "      <td>1</td>\n",
       "      <td>NaN</td>\n",
       "      <td>NaN</td>\n",
       "      <td>7.87</td>\n",
       "      <td>8.74</td>\n",
       "    </tr>\n",
       "    <tr>\n",
       "      <th>94</th>\n",
       "      <td>1</td>\n",
       "      <td>238.0</td>\n",
       "      <td>32.0</td>\n",
       "      <td>17.13</td>\n",
       "      <td>8.97</td>\n",
       "    </tr>\n",
       "    <tr>\n",
       "      <th>94</th>\n",
       "      <td>1</td>\n",
       "      <td>241.0</td>\n",
       "      <td>26.0</td>\n",
       "      <td>11.22</td>\n",
       "      <td>10.04</td>\n",
       "    </tr>\n",
       "    <tr>\n",
       "      <th>94</th>\n",
       "      <td>1</td>\n",
       "      <td>218.0</td>\n",
       "      <td>34.0</td>\n",
       "      <td>9.77</td>\n",
       "      <td>10.25</td>\n",
       "    </tr>\n",
       "    <tr>\n",
       "      <th>94</th>\n",
       "      <td>1</td>\n",
       "      <td>387.0</td>\n",
       "      <td>45.0</td>\n",
       "      <td>12.46</td>\n",
       "      <td>10.79</td>\n",
       "    </tr>\n",
       "  </tbody>\n",
       "</table>\n",
       "<p>781 rows × 5 columns</p>\n",
       "</div>"
      ],
      "text/plain": [
       "        F1      F2    F3     F4  Testosterone\n",
       "Person                                       \n",
       "1        1   595.0  42.0  16.31          5.45\n",
       "1        1   790.0  33.0  16.54          5.58\n",
       "1        1   633.0  47.0  10.35          6.25\n",
       "1        1   749.0  38.0  15.50          6.31\n",
       "1        1   178.0  34.0   6.39          6.52\n",
       "1        1   259.0  36.0  10.62          7.04\n",
       "1        1   227.0  45.0  16.73          7.15\n",
       "1        1   197.0  38.0  14.31          7.34\n",
       "1        1   250.0  42.0  18.47          7.42\n",
       "1        1   522.0  42.0  17.52          7.72\n",
       "2        1   479.0  34.0   9.61          9.65\n",
       "2        1   201.0  39.0   8.69          9.89\n",
       "2        1  1169.0  43.0   6.03         11.48\n",
       "2        1   322.0  40.0   8.83         12.27\n",
       "2        1   903.0  43.0   9.24         13.02\n",
       "2        1  1820.0  45.0   7.01         13.41\n",
       "2        1   509.0  48.0  10.57         13.73\n",
       "2        1   403.0  43.0  12.51         15.74\n",
       "2        1   491.0  52.0  11.67         16.07\n",
       "2        1   166.0  35.0  12.02         20.33\n",
       "3        1   648.0  36.0   7.99          3.66\n",
       "3        1   775.0  25.0  12.40          3.85\n",
       "3        1   843.0  33.0  10.62          4.03\n",
       "3        1   477.0  33.0  10.54          4.15\n",
       "3        1   309.0  28.0   7.87          4.27\n",
       "3        1   467.0  32.0  11.55          4.44\n",
       "3        1   393.0  25.0   7.83          5.07\n",
       "3        1   746.0  31.0  11.61          5.20\n",
       "3        1   655.0  30.0  15.87          6.25\n",
       "3        1   821.0  30.0  12.51          6.28\n",
       "...     ..     ...   ...    ...           ...\n",
       "93       1   194.0  39.0  11.04          5.63\n",
       "93       1   108.0  40.0  13.88          5.91\n",
       "93       1    97.0  35.0  12.64          6.32\n",
       "93       1   118.0  45.0   8.13          6.80\n",
       "93       1    89.0  37.0  14.15          6.83\n",
       "93       1   261.0  43.0  12.47         11.84\n",
       "93       1   167.0  36.0  18.62         12.30\n",
       "93       1   136.0  32.0  20.67         12.69\n",
       "93       1   320.0  30.0  17.26         13.12\n",
       "93       1   323.0  39.0  18.99         13.22\n",
       "93       1   164.0  32.0  15.12         16.53\n",
       "93       1   132.0  34.0  20.67         17.31\n",
       "93       1   197.0  32.0  20.55         17.31\n",
       "93       1   136.0  32.0  16.40         17.67\n",
       "93       1   122.0  29.0  16.25         18.32\n",
       "94       1   224.0  73.0  12.00          4.46\n",
       "94       1   291.0  57.0  11.14          4.94\n",
       "94       1   175.0  71.0  16.74          5.18\n",
       "94       1   167.0  39.0  15.80          5.41\n",
       "94       1   146.0  49.0  17.56          5.58\n",
       "94       1   177.0  31.0   7.65          5.81\n",
       "94       1   186.0  30.0  17.39          6.87\n",
       "94       1   222.0  22.0  12.41          7.03\n",
       "94       1   142.0  42.0  13.30          7.61\n",
       "94       1     NaN   NaN  17.13          7.81\n",
       "94       1     NaN   NaN   7.87          8.74\n",
       "94       1   238.0  32.0  17.13          8.97\n",
       "94       1   241.0  26.0  11.22         10.04\n",
       "94       1   218.0  34.0   9.77         10.25\n",
       "94       1   387.0  45.0  12.46         10.79\n",
       "\n",
       "[781 rows x 5 columns]"
      ]
     },
     "execution_count": 9,
     "metadata": {},
     "output_type": "execute_result"
    }
   ],
   "source": [
    "data"
   ]
  },
  {
   "cell_type": "code",
   "execution_count": 10,
   "metadata": {
    "collapsed": true
   },
   "outputs": [],
   "source": [
    "prepared_data = prepare_dataset(data, testosterone_only=True)"
   ]
  },
  {
   "cell_type": "code",
   "execution_count": 11,
   "metadata": {},
   "outputs": [
    {
     "data": {
      "application/vnd.jupyter.widget-view+json": {
       "model_id": "49135e9791874fefbb257f2cd5f67c4a",
       "version_major": 2,
       "version_minor": 0
      },
      "text/plain": [
       "A Jupyter Widget"
      ]
     },
     "metadata": {},
     "output_type": "display_data"
    },
    {
     "data": {
      "application/vnd.jupyter.widget-view+json": {
       "model_id": "405eaeaf69fb4c5dbaed2b3a0f7c0b72",
       "version_major": 2,
       "version_minor": 0
      },
      "text/plain": [
       "A Jupyter Widget"
      ]
     },
     "metadata": {},
     "output_type": "display_data"
    },
    {
     "name": "stdout",
     "output_type": "stream",
     "text": [
      "\n"
     ]
    }
   ],
   "source": [
    "repeat_losses, repeat_predictions, repeat_targetvalues = experiment(prepared_data, 1, 30, 10, 1)"
   ]
  },
  {
   "cell_type": "markdown",
   "metadata": {},
   "source": [
    "# Model evaluation and other visualization"
   ]
  },
  {
   "cell_type": "markdown",
   "metadata": {},
   "source": [
    "## Investigating model RMSE per athlete"
   ]
  },
  {
   "cell_type": "code",
   "execution_count": 12,
   "metadata": {
    "collapsed": true
   },
   "outputs": [],
   "source": [
    "padded_predictions = np.array([pad_sequences(persons_predictions , dtype=np.float32, value=np.nan) for persons_predictions in repeat_predictions])\n",
    "padded_targetvalues = np.array([pad_sequences(persons_targetvalues , dtype=np.float32) for persons_targetvalues in repeat_targetvalues])"
   ]
  },
  {
   "cell_type": "code",
   "execution_count": 13,
   "metadata": {},
   "outputs": [
    {
     "data": {
      "application/vnd.plotly.v1+json": {
       "data": [
        {
         "name": 0,
         "showlegend": false,
         "type": "box",
         "y": [
          0.5402389764785767
         ]
        },
        {
         "name": 1,
         "showlegend": false,
         "type": "box",
         "y": [
          3.971011161804199
         ]
        },
        {
         "name": 2,
         "showlegend": false,
         "type": "box",
         "y": [
          0.7418327331542969
         ]
        },
        {
         "name": 3,
         "showlegend": false,
         "type": "box",
         "y": [
          0.24231265485286713
         ]
        },
        {
         "name": 4,
         "showlegend": false,
         "type": "box",
         "y": [
          1.42244553565979
         ]
        },
        {
         "name": 5,
         "showlegend": false,
         "type": "box",
         "y": [
          1.4807915687561035
         ]
        },
        {
         "name": 6,
         "showlegend": false,
         "type": "box",
         "y": [
          1.0023950338363647
         ]
        },
        {
         "name": 7,
         "showlegend": false,
         "type": "box",
         "y": [
          9.027671813964844
         ]
        },
        {
         "name": 8,
         "showlegend": false,
         "type": "box",
         "y": [
          4.768671989440918
         ]
        },
        {
         "name": 9,
         "showlegend": false,
         "type": "box",
         "y": [
          2.147392749786377
         ]
        },
        {
         "name": 10,
         "showlegend": false,
         "type": "box",
         "y": [
          1.5250662565231323
         ]
        },
        {
         "name": 11,
         "showlegend": false,
         "type": "box",
         "y": [
          1.389955759048462
         ]
        },
        {
         "name": 12,
         "showlegend": false,
         "type": "box",
         "y": [
          2.55336856842041
         ]
        },
        {
         "name": 13,
         "showlegend": false,
         "type": "box",
         "y": [
          5.298988342285156
         ]
        },
        {
         "name": 14,
         "showlegend": false,
         "type": "box",
         "y": [
          3.7926933765411377
         ]
        },
        {
         "name": 15,
         "showlegend": false,
         "type": "box",
         "y": [
          0.9332707524299622
         ]
        },
        {
         "name": 16,
         "showlegend": false,
         "type": "box",
         "y": [
          9.509069442749023
         ]
        },
        {
         "name": 17,
         "showlegend": false,
         "type": "box",
         "y": [
          1.645740270614624
         ]
        },
        {
         "name": 18,
         "showlegend": false,
         "type": "box",
         "y": [
          8.700235366821289
         ]
        },
        {
         "name": 19,
         "showlegend": false,
         "type": "box",
         "y": [
          0.5125972628593445
         ]
        },
        {
         "name": 20,
         "showlegend": false,
         "type": "box",
         "y": [
          2.787510395050049
         ]
        },
        {
         "name": 21,
         "showlegend": false,
         "type": "box",
         "y": [
          1.9571895599365234
         ]
        },
        {
         "name": 22,
         "showlegend": false,
         "type": "box",
         "y": [
          1.2119414806365967
         ]
        },
        {
         "name": 23,
         "showlegend": false,
         "type": "box",
         "y": [
          0.9219121336936951
         ]
        },
        {
         "name": 24,
         "showlegend": false,
         "type": "box",
         "y": [
          1.7524608373641968
         ]
        },
        {
         "name": 25,
         "showlegend": false,
         "type": "box",
         "y": [
          4.1662821769714355
         ]
        },
        {
         "name": 26,
         "showlegend": false,
         "type": "box",
         "y": [
          1.8895004987716675
         ]
        },
        {
         "name": 27,
         "showlegend": false,
         "type": "box",
         "y": [
          2.910828113555908
         ]
        },
        {
         "name": 28,
         "showlegend": false,
         "type": "box",
         "y": [
          4.895356178283691
         ]
        },
        {
         "name": 29,
         "showlegend": false,
         "type": "box",
         "y": [
          2.4292337894439697
         ]
        },
        {
         "name": 30,
         "showlegend": false,
         "type": "box",
         "y": [
          2.9995007514953613
         ]
        },
        {
         "name": 31,
         "showlegend": false,
         "type": "box",
         "y": [
          4.720683574676514
         ]
        },
        {
         "name": 32,
         "showlegend": false,
         "type": "box",
         "y": [
          3.3542983531951904
         ]
        },
        {
         "name": 33,
         "showlegend": false,
         "type": "box",
         "y": [
          4.443306922912598
         ]
        },
        {
         "name": 34,
         "showlegend": false,
         "type": "box",
         "y": [
          5.698518753051758
         ]
        },
        {
         "name": 35,
         "showlegend": false,
         "type": "box",
         "y": [
          2.182859182357788
         ]
        },
        {
         "name": 36,
         "showlegend": false,
         "type": "box",
         "y": [
          0.5361476540565491
         ]
        },
        {
         "name": 37,
         "showlegend": false,
         "type": "box",
         "y": [
          1.628400444984436
         ]
        },
        {
         "name": 38,
         "showlegend": false,
         "type": "box",
         "y": [
          4.821699619293213
         ]
        },
        {
         "name": 39,
         "showlegend": false,
         "type": "box",
         "y": [
          2.3325631618499756
         ]
        },
        {
         "name": 40,
         "showlegend": false,
         "type": "box",
         "y": [
          0.6484940648078918
         ]
        },
        {
         "name": 41,
         "showlegend": false,
         "type": "box",
         "y": [
          0.23037564754486084
         ]
        },
        {
         "name": 42,
         "showlegend": false,
         "type": "box",
         "y": [
          0.8384431600570679
         ]
        },
        {
         "name": 43,
         "showlegend": false,
         "type": "box",
         "y": [
          1.4374215602874756
         ]
        },
        {
         "name": 44,
         "showlegend": false,
         "type": "box",
         "y": [
          0.17411386966705322
         ]
        },
        {
         "name": 45,
         "showlegend": false,
         "type": "box",
         "y": [
          0.24134616553783417
         ]
        },
        {
         "name": 46,
         "showlegend": false,
         "type": "box",
         "y": [
          1.8274682760238647
         ]
        },
        {
         "name": 47,
         "showlegend": false,
         "type": "box",
         "y": [
          1.9638607501983643
         ]
        },
        {
         "name": 48,
         "showlegend": false,
         "type": "box",
         "y": [
          2.9384584426879883
         ]
        },
        {
         "name": 49,
         "showlegend": false,
         "type": "box",
         "y": [
          2.9309024810791016
         ]
        },
        {
         "name": 50,
         "showlegend": false,
         "type": "box",
         "y": [
          5.121235370635986
         ]
        },
        {
         "name": 51,
         "showlegend": false,
         "type": "box",
         "y": [
          1.4086073637008667
         ]
        },
        {
         "name": 52,
         "showlegend": false,
         "type": "box",
         "y": [
          2.6352803707122803
         ]
        },
        {
         "name": 53,
         "showlegend": false,
         "type": "box",
         "y": [
          7.972111701965332
         ]
        },
        {
         "name": 54,
         "showlegend": false,
         "type": "box",
         "y": [
          7.544679164886475
         ]
        },
        {
         "name": 55,
         "showlegend": false,
         "type": "box",
         "y": [
          1.2186815738677979
         ]
        },
        {
         "name": 56,
         "showlegend": false,
         "type": "box",
         "y": [
          0.2783254384994507
         ]
        },
        {
         "name": 57,
         "showlegend": false,
         "type": "box",
         "y": [
          1.2716519832611084
         ]
        },
        {
         "name": 58,
         "showlegend": false,
         "type": "box",
         "y": [
          0.7611783742904663
         ]
        },
        {
         "name": 59,
         "showlegend": false,
         "type": "box",
         "y": [
          1.218914270401001
         ]
        },
        {
         "name": 60,
         "showlegend": false,
         "type": "box",
         "y": [
          1.935577392578125
         ]
        },
        {
         "name": 61,
         "showlegend": false,
         "type": "box",
         "y": [
          0.17216500639915466
         ]
        },
        {
         "name": 62,
         "showlegend": false,
         "type": "box",
         "y": [
          1.5998611450195312
         ]
        },
        {
         "name": 63,
         "showlegend": false,
         "type": "box",
         "y": [
          0.6710466146469116
         ]
        },
        {
         "name": 64,
         "showlegend": false,
         "type": "box",
         "y": [
          0.6500257849693298
         ]
        },
        {
         "name": 65,
         "showlegend": false,
         "type": "box",
         "y": [
          0.9673706293106079
         ]
        },
        {
         "name": 66,
         "showlegend": false,
         "type": "box",
         "y": [
          1.8183411359786987
         ]
        },
        {
         "name": 67,
         "showlegend": false,
         "type": "box",
         "y": [
          1.1620922088623047
         ]
        },
        {
         "mode": "lines",
         "name": "mean",
         "type": "scatter",
         "x": [
          0,
          1,
          2,
          3,
          4,
          5,
          6,
          7,
          8,
          9,
          10,
          11,
          12,
          13,
          14,
          15,
          16,
          17,
          18,
          19,
          20,
          21,
          22,
          23,
          24,
          25,
          26,
          27,
          28,
          29,
          30,
          31,
          32,
          33,
          34,
          35,
          36,
          37,
          38,
          39,
          40,
          41,
          42,
          43,
          44,
          45,
          46,
          47,
          48,
          49,
          50,
          51,
          52,
          53,
          54,
          55,
          56,
          57,
          58,
          59,
          60,
          61,
          62,
          63,
          64,
          65,
          66,
          67
         ],
         "y": [
          0.5402389764785767,
          3.971011161804199,
          0.7418327331542969,
          0.24231265485286713,
          1.42244553565979,
          1.4807915687561035,
          1.0023950338363647,
          9.027671813964844,
          4.768671989440918,
          2.147392749786377,
          1.5250662565231323,
          1.389955759048462,
          2.55336856842041,
          5.298988342285156,
          3.7926933765411377,
          0.9332707524299622,
          9.509069442749023,
          1.645740270614624,
          8.700235366821289,
          0.5125972628593445,
          2.787510395050049,
          1.9571895599365234,
          1.2119414806365967,
          0.9219121336936951,
          1.7524608373641968,
          4.1662821769714355,
          1.8895004987716675,
          2.910828113555908,
          4.895356178283691,
          2.4292337894439697,
          2.9995007514953613,
          4.720683574676514,
          3.3542983531951904,
          4.443306922912598,
          5.698518753051758,
          2.182859182357788,
          0.5361476540565491,
          1.628400444984436,
          4.821699619293213,
          2.3325631618499756,
          0.6484940648078918,
          0.23037564754486084,
          0.8384431600570679,
          1.4374215602874756,
          0.17411386966705322,
          0.24134616553783417,
          1.8274682760238647,
          1.9638607501983643,
          2.9384584426879883,
          2.9309024810791016,
          5.121235370635986,
          1.4086073637008667,
          2.6352803707122803,
          7.972111701965332,
          7.544679164886475,
          1.2186815738677979,
          0.2783254384994507,
          1.2716519832611084,
          0.7611783742904663,
          1.218914270401001,
          1.935577392578125,
          0.17216500639915466,
          1.5998611450195312,
          0.6710466146469116,
          0.6500257849693298,
          0.9673706293106079,
          1.8183411359786987,
          1.1620922088623047
         ]
        }
       ],
       "layout": {
        "title": "Distribution of cross-validation RMSE for each athlete",
        "xaxis": {
         "title": "Athletes"
        },
        "yaxis": {
         "title": "RMSE"
        }
       }
      },
      "text/html": [
       "<div id=\"729f3e32-b5ff-4998-837b-836f161f12f2\" style=\"height: 525px; width: 100%;\" class=\"plotly-graph-div\"></div><script type=\"text/javascript\">require([\"plotly\"], function(Plotly) { window.PLOTLYENV=window.PLOTLYENV || {};window.PLOTLYENV.BASE_URL=\"https://plot.ly\";Plotly.newPlot(\"729f3e32-b5ff-4998-837b-836f161f12f2\", [{\"type\": \"box\", \"y\": [0.5402389764785767], \"name\": 0, \"showlegend\": false}, {\"type\": \"box\", \"y\": [3.971011161804199], \"name\": 1, \"showlegend\": false}, {\"type\": \"box\", \"y\": [0.7418327331542969], \"name\": 2, \"showlegend\": false}, {\"type\": \"box\", \"y\": [0.24231265485286713], \"name\": 3, \"showlegend\": false}, {\"type\": \"box\", \"y\": [1.42244553565979], \"name\": 4, \"showlegend\": false}, {\"type\": \"box\", \"y\": [1.4807915687561035], \"name\": 5, \"showlegend\": false}, {\"type\": \"box\", \"y\": [1.0023950338363647], \"name\": 6, \"showlegend\": false}, {\"type\": \"box\", \"y\": [9.027671813964844], \"name\": 7, \"showlegend\": false}, {\"type\": \"box\", \"y\": [4.768671989440918], \"name\": 8, \"showlegend\": false}, {\"type\": \"box\", \"y\": [2.147392749786377], \"name\": 9, \"showlegend\": false}, {\"type\": \"box\", \"y\": [1.5250662565231323], \"name\": 10, \"showlegend\": false}, {\"type\": \"box\", \"y\": [1.389955759048462], \"name\": 11, \"showlegend\": false}, {\"type\": \"box\", \"y\": [2.55336856842041], \"name\": 12, \"showlegend\": false}, {\"type\": \"box\", \"y\": [5.298988342285156], \"name\": 13, \"showlegend\": false}, {\"type\": \"box\", \"y\": [3.7926933765411377], \"name\": 14, \"showlegend\": false}, {\"type\": \"box\", \"y\": [0.9332707524299622], \"name\": 15, \"showlegend\": false}, {\"type\": \"box\", \"y\": [9.509069442749023], \"name\": 16, \"showlegend\": false}, {\"type\": \"box\", \"y\": [1.645740270614624], \"name\": 17, \"showlegend\": false}, {\"type\": \"box\", \"y\": [8.700235366821289], \"name\": 18, \"showlegend\": false}, {\"type\": \"box\", \"y\": [0.5125972628593445], \"name\": 19, \"showlegend\": false}, {\"type\": \"box\", \"y\": [2.787510395050049], \"name\": 20, \"showlegend\": false}, {\"type\": \"box\", \"y\": [1.9571895599365234], \"name\": 21, \"showlegend\": false}, {\"type\": \"box\", \"y\": [1.2119414806365967], \"name\": 22, \"showlegend\": false}, {\"type\": \"box\", \"y\": [0.9219121336936951], \"name\": 23, \"showlegend\": false}, {\"type\": \"box\", \"y\": [1.7524608373641968], \"name\": 24, \"showlegend\": false}, {\"type\": \"box\", \"y\": [4.1662821769714355], \"name\": 25, \"showlegend\": false}, {\"type\": \"box\", \"y\": [1.8895004987716675], \"name\": 26, \"showlegend\": false}, {\"type\": \"box\", \"y\": [2.910828113555908], \"name\": 27, \"showlegend\": false}, {\"type\": \"box\", \"y\": [4.895356178283691], \"name\": 28, \"showlegend\": false}, {\"type\": \"box\", \"y\": [2.4292337894439697], \"name\": 29, \"showlegend\": false}, {\"type\": \"box\", \"y\": [2.9995007514953613], \"name\": 30, \"showlegend\": false}, {\"type\": \"box\", \"y\": [4.720683574676514], \"name\": 31, \"showlegend\": false}, {\"type\": \"box\", \"y\": [3.3542983531951904], \"name\": 32, \"showlegend\": false}, {\"type\": \"box\", \"y\": [4.443306922912598], \"name\": 33, \"showlegend\": false}, {\"type\": \"box\", \"y\": [5.698518753051758], \"name\": 34, \"showlegend\": false}, {\"type\": \"box\", \"y\": [2.182859182357788], \"name\": 35, \"showlegend\": false}, {\"type\": \"box\", \"y\": [0.5361476540565491], \"name\": 36, \"showlegend\": false}, {\"type\": \"box\", \"y\": [1.628400444984436], \"name\": 37, \"showlegend\": false}, {\"type\": \"box\", \"y\": [4.821699619293213], \"name\": 38, \"showlegend\": false}, {\"type\": \"box\", \"y\": [2.3325631618499756], \"name\": 39, \"showlegend\": false}, {\"type\": \"box\", \"y\": [0.6484940648078918], \"name\": 40, \"showlegend\": false}, {\"type\": \"box\", \"y\": [0.23037564754486084], \"name\": 41, \"showlegend\": false}, {\"type\": \"box\", \"y\": [0.8384431600570679], \"name\": 42, \"showlegend\": false}, {\"type\": \"box\", \"y\": [1.4374215602874756], \"name\": 43, \"showlegend\": false}, {\"type\": \"box\", \"y\": [0.17411386966705322], \"name\": 44, \"showlegend\": false}, {\"type\": \"box\", \"y\": [0.24134616553783417], \"name\": 45, \"showlegend\": false}, {\"type\": \"box\", \"y\": [1.8274682760238647], \"name\": 46, \"showlegend\": false}, {\"type\": \"box\", \"y\": [1.9638607501983643], \"name\": 47, \"showlegend\": false}, {\"type\": \"box\", \"y\": [2.9384584426879883], \"name\": 48, \"showlegend\": false}, {\"type\": \"box\", \"y\": [2.9309024810791016], \"name\": 49, \"showlegend\": false}, {\"type\": \"box\", \"y\": [5.121235370635986], \"name\": 50, \"showlegend\": false}, {\"type\": \"box\", \"y\": [1.4086073637008667], \"name\": 51, \"showlegend\": false}, {\"type\": \"box\", \"y\": [2.6352803707122803], \"name\": 52, \"showlegend\": false}, {\"type\": \"box\", \"y\": [7.972111701965332], \"name\": 53, \"showlegend\": false}, {\"type\": \"box\", \"y\": [7.544679164886475], \"name\": 54, \"showlegend\": false}, {\"type\": \"box\", \"y\": [1.2186815738677979], \"name\": 55, \"showlegend\": false}, {\"type\": \"box\", \"y\": [0.2783254384994507], \"name\": 56, \"showlegend\": false}, {\"type\": \"box\", \"y\": [1.2716519832611084], \"name\": 57, \"showlegend\": false}, {\"type\": \"box\", \"y\": [0.7611783742904663], \"name\": 58, \"showlegend\": false}, {\"type\": \"box\", \"y\": [1.218914270401001], \"name\": 59, \"showlegend\": false}, {\"type\": \"box\", \"y\": [1.935577392578125], \"name\": 60, \"showlegend\": false}, {\"type\": \"box\", \"y\": [0.17216500639915466], \"name\": 61, \"showlegend\": false}, {\"type\": \"box\", \"y\": [1.5998611450195312], \"name\": 62, \"showlegend\": false}, {\"type\": \"box\", \"y\": [0.6710466146469116], \"name\": 63, \"showlegend\": false}, {\"type\": \"box\", \"y\": [0.6500257849693298], \"name\": 64, \"showlegend\": false}, {\"type\": \"box\", \"y\": [0.9673706293106079], \"name\": 65, \"showlegend\": false}, {\"type\": \"box\", \"y\": [1.8183411359786987], \"name\": 66, \"showlegend\": false}, {\"type\": \"box\", \"y\": [1.1620922088623047], \"name\": 67, \"showlegend\": false}, {\"type\": \"scatter\", \"x\": [0, 1, 2, 3, 4, 5, 6, 7, 8, 9, 10, 11, 12, 13, 14, 15, 16, 17, 18, 19, 20, 21, 22, 23, 24, 25, 26, 27, 28, 29, 30, 31, 32, 33, 34, 35, 36, 37, 38, 39, 40, 41, 42, 43, 44, 45, 46, 47, 48, 49, 50, 51, 52, 53, 54, 55, 56, 57, 58, 59, 60, 61, 62, 63, 64, 65, 66, 67], \"y\": [0.5402389764785767, 3.971011161804199, 0.7418327331542969, 0.24231265485286713, 1.42244553565979, 1.4807915687561035, 1.0023950338363647, 9.027671813964844, 4.768671989440918, 2.147392749786377, 1.5250662565231323, 1.389955759048462, 2.55336856842041, 5.298988342285156, 3.7926933765411377, 0.9332707524299622, 9.509069442749023, 1.645740270614624, 8.700235366821289, 0.5125972628593445, 2.787510395050049, 1.9571895599365234, 1.2119414806365967, 0.9219121336936951, 1.7524608373641968, 4.1662821769714355, 1.8895004987716675, 2.910828113555908, 4.895356178283691, 2.4292337894439697, 2.9995007514953613, 4.720683574676514, 3.3542983531951904, 4.443306922912598, 5.698518753051758, 2.182859182357788, 0.5361476540565491, 1.628400444984436, 4.821699619293213, 2.3325631618499756, 0.6484940648078918, 0.23037564754486084, 0.8384431600570679, 1.4374215602874756, 0.17411386966705322, 0.24134616553783417, 1.8274682760238647, 1.9638607501983643, 2.9384584426879883, 2.9309024810791016, 5.121235370635986, 1.4086073637008667, 2.6352803707122803, 7.972111701965332, 7.544679164886475, 1.2186815738677979, 0.2783254384994507, 1.2716519832611084, 0.7611783742904663, 1.218914270401001, 1.935577392578125, 0.17216500639915466, 1.5998611450195312, 0.6710466146469116, 0.6500257849693298, 0.9673706293106079, 1.8183411359786987, 1.1620922088623047], \"mode\": \"lines\", \"name\": \"mean\"}], {\"title\": \"Distribution of cross-validation RMSE for each athlete\", \"xaxis\": {\"title\": \"Athletes\"}, \"yaxis\": {\"title\": \"RMSE\"}}, {\"showLink\": true, \"linkText\": \"Export to plot.ly\"})});</script>"
      ],
      "text/vnd.plotly.v1+html": [
       "<div id=\"729f3e32-b5ff-4998-837b-836f161f12f2\" style=\"height: 525px; width: 100%;\" class=\"plotly-graph-div\"></div><script type=\"text/javascript\">require([\"plotly\"], function(Plotly) { window.PLOTLYENV=window.PLOTLYENV || {};window.PLOTLYENV.BASE_URL=\"https://plot.ly\";Plotly.newPlot(\"729f3e32-b5ff-4998-837b-836f161f12f2\", [{\"type\": \"box\", \"y\": [0.5402389764785767], \"name\": 0, \"showlegend\": false}, {\"type\": \"box\", \"y\": [3.971011161804199], \"name\": 1, \"showlegend\": false}, {\"type\": \"box\", \"y\": [0.7418327331542969], \"name\": 2, \"showlegend\": false}, {\"type\": \"box\", \"y\": [0.24231265485286713], \"name\": 3, \"showlegend\": false}, {\"type\": \"box\", \"y\": [1.42244553565979], \"name\": 4, \"showlegend\": false}, {\"type\": \"box\", \"y\": [1.4807915687561035], \"name\": 5, \"showlegend\": false}, {\"type\": \"box\", \"y\": [1.0023950338363647], \"name\": 6, \"showlegend\": false}, {\"type\": \"box\", \"y\": [9.027671813964844], \"name\": 7, \"showlegend\": false}, {\"type\": \"box\", \"y\": [4.768671989440918], \"name\": 8, \"showlegend\": false}, {\"type\": \"box\", \"y\": [2.147392749786377], \"name\": 9, \"showlegend\": false}, {\"type\": \"box\", \"y\": [1.5250662565231323], \"name\": 10, \"showlegend\": false}, {\"type\": \"box\", \"y\": [1.389955759048462], \"name\": 11, \"showlegend\": false}, {\"type\": \"box\", \"y\": [2.55336856842041], \"name\": 12, \"showlegend\": false}, {\"type\": \"box\", \"y\": [5.298988342285156], \"name\": 13, \"showlegend\": false}, {\"type\": \"box\", \"y\": [3.7926933765411377], \"name\": 14, \"showlegend\": false}, {\"type\": \"box\", \"y\": [0.9332707524299622], \"name\": 15, \"showlegend\": false}, {\"type\": \"box\", \"y\": [9.509069442749023], \"name\": 16, \"showlegend\": false}, {\"type\": \"box\", \"y\": [1.645740270614624], \"name\": 17, \"showlegend\": false}, {\"type\": \"box\", \"y\": [8.700235366821289], \"name\": 18, \"showlegend\": false}, {\"type\": \"box\", \"y\": [0.5125972628593445], \"name\": 19, \"showlegend\": false}, {\"type\": \"box\", \"y\": [2.787510395050049], \"name\": 20, \"showlegend\": false}, {\"type\": \"box\", \"y\": [1.9571895599365234], \"name\": 21, \"showlegend\": false}, {\"type\": \"box\", \"y\": [1.2119414806365967], \"name\": 22, \"showlegend\": false}, {\"type\": \"box\", \"y\": [0.9219121336936951], \"name\": 23, \"showlegend\": false}, {\"type\": \"box\", \"y\": [1.7524608373641968], \"name\": 24, \"showlegend\": false}, {\"type\": \"box\", \"y\": [4.1662821769714355], \"name\": 25, \"showlegend\": false}, {\"type\": \"box\", \"y\": [1.8895004987716675], \"name\": 26, \"showlegend\": false}, {\"type\": \"box\", \"y\": [2.910828113555908], \"name\": 27, \"showlegend\": false}, {\"type\": \"box\", \"y\": [4.895356178283691], \"name\": 28, \"showlegend\": false}, {\"type\": \"box\", \"y\": [2.4292337894439697], \"name\": 29, \"showlegend\": false}, {\"type\": \"box\", \"y\": [2.9995007514953613], \"name\": 30, \"showlegend\": false}, {\"type\": \"box\", \"y\": [4.720683574676514], \"name\": 31, \"showlegend\": false}, {\"type\": \"box\", \"y\": [3.3542983531951904], \"name\": 32, \"showlegend\": false}, {\"type\": \"box\", \"y\": [4.443306922912598], \"name\": 33, \"showlegend\": false}, {\"type\": \"box\", \"y\": [5.698518753051758], \"name\": 34, \"showlegend\": false}, {\"type\": \"box\", \"y\": [2.182859182357788], \"name\": 35, \"showlegend\": false}, {\"type\": \"box\", \"y\": [0.5361476540565491], \"name\": 36, \"showlegend\": false}, {\"type\": \"box\", \"y\": [1.628400444984436], \"name\": 37, \"showlegend\": false}, {\"type\": \"box\", \"y\": [4.821699619293213], \"name\": 38, \"showlegend\": false}, {\"type\": \"box\", \"y\": [2.3325631618499756], \"name\": 39, \"showlegend\": false}, {\"type\": \"box\", \"y\": [0.6484940648078918], \"name\": 40, \"showlegend\": false}, {\"type\": \"box\", \"y\": [0.23037564754486084], \"name\": 41, \"showlegend\": false}, {\"type\": \"box\", \"y\": [0.8384431600570679], \"name\": 42, \"showlegend\": false}, {\"type\": \"box\", \"y\": [1.4374215602874756], \"name\": 43, \"showlegend\": false}, {\"type\": \"box\", \"y\": [0.17411386966705322], \"name\": 44, \"showlegend\": false}, {\"type\": \"box\", \"y\": [0.24134616553783417], \"name\": 45, \"showlegend\": false}, {\"type\": \"box\", \"y\": [1.8274682760238647], \"name\": 46, \"showlegend\": false}, {\"type\": \"box\", \"y\": [1.9638607501983643], \"name\": 47, \"showlegend\": false}, {\"type\": \"box\", \"y\": [2.9384584426879883], \"name\": 48, \"showlegend\": false}, {\"type\": \"box\", \"y\": [2.9309024810791016], \"name\": 49, \"showlegend\": false}, {\"type\": \"box\", \"y\": [5.121235370635986], \"name\": 50, \"showlegend\": false}, {\"type\": \"box\", \"y\": [1.4086073637008667], \"name\": 51, \"showlegend\": false}, {\"type\": \"box\", \"y\": [2.6352803707122803], \"name\": 52, \"showlegend\": false}, {\"type\": \"box\", \"y\": [7.972111701965332], \"name\": 53, \"showlegend\": false}, {\"type\": \"box\", \"y\": [7.544679164886475], \"name\": 54, \"showlegend\": false}, {\"type\": \"box\", \"y\": [1.2186815738677979], \"name\": 55, \"showlegend\": false}, {\"type\": \"box\", \"y\": [0.2783254384994507], \"name\": 56, \"showlegend\": false}, {\"type\": \"box\", \"y\": [1.2716519832611084], \"name\": 57, \"showlegend\": false}, {\"type\": \"box\", \"y\": [0.7611783742904663], \"name\": 58, \"showlegend\": false}, {\"type\": \"box\", \"y\": [1.218914270401001], \"name\": 59, \"showlegend\": false}, {\"type\": \"box\", \"y\": [1.935577392578125], \"name\": 60, \"showlegend\": false}, {\"type\": \"box\", \"y\": [0.17216500639915466], \"name\": 61, \"showlegend\": false}, {\"type\": \"box\", \"y\": [1.5998611450195312], \"name\": 62, \"showlegend\": false}, {\"type\": \"box\", \"y\": [0.6710466146469116], \"name\": 63, \"showlegend\": false}, {\"type\": \"box\", \"y\": [0.6500257849693298], \"name\": 64, \"showlegend\": false}, {\"type\": \"box\", \"y\": [0.9673706293106079], \"name\": 65, \"showlegend\": false}, {\"type\": \"box\", \"y\": [1.8183411359786987], \"name\": 66, \"showlegend\": false}, {\"type\": \"box\", \"y\": [1.1620922088623047], \"name\": 67, \"showlegend\": false}, {\"type\": \"scatter\", \"x\": [0, 1, 2, 3, 4, 5, 6, 7, 8, 9, 10, 11, 12, 13, 14, 15, 16, 17, 18, 19, 20, 21, 22, 23, 24, 25, 26, 27, 28, 29, 30, 31, 32, 33, 34, 35, 36, 37, 38, 39, 40, 41, 42, 43, 44, 45, 46, 47, 48, 49, 50, 51, 52, 53, 54, 55, 56, 57, 58, 59, 60, 61, 62, 63, 64, 65, 66, 67], \"y\": [0.5402389764785767, 3.971011161804199, 0.7418327331542969, 0.24231265485286713, 1.42244553565979, 1.4807915687561035, 1.0023950338363647, 9.027671813964844, 4.768671989440918, 2.147392749786377, 1.5250662565231323, 1.389955759048462, 2.55336856842041, 5.298988342285156, 3.7926933765411377, 0.9332707524299622, 9.509069442749023, 1.645740270614624, 8.700235366821289, 0.5125972628593445, 2.787510395050049, 1.9571895599365234, 1.2119414806365967, 0.9219121336936951, 1.7524608373641968, 4.1662821769714355, 1.8895004987716675, 2.910828113555908, 4.895356178283691, 2.4292337894439697, 2.9995007514953613, 4.720683574676514, 3.3542983531951904, 4.443306922912598, 5.698518753051758, 2.182859182357788, 0.5361476540565491, 1.628400444984436, 4.821699619293213, 2.3325631618499756, 0.6484940648078918, 0.23037564754486084, 0.8384431600570679, 1.4374215602874756, 0.17411386966705322, 0.24134616553783417, 1.8274682760238647, 1.9638607501983643, 2.9384584426879883, 2.9309024810791016, 5.121235370635986, 1.4086073637008667, 2.6352803707122803, 7.972111701965332, 7.544679164886475, 1.2186815738677979, 0.2783254384994507, 1.2716519832611084, 0.7611783742904663, 1.218914270401001, 1.935577392578125, 0.17216500639915466, 1.5998611450195312, 0.6710466146469116, 0.6500257849693298, 0.9673706293106079, 1.8183411359786987, 1.1620922088623047], \"mode\": \"lines\", \"name\": \"mean\"}], {\"title\": \"Distribution of cross-validation RMSE for each athlete\", \"xaxis\": {\"title\": \"Athletes\"}, \"yaxis\": {\"title\": \"RMSE\"}}, {\"showLink\": true, \"linkText\": \"Export to plot.ly\"})});</script>"
      ]
     },
     "metadata": {},
     "output_type": "display_data"
    }
   ],
   "source": [
    "# calculating the RMSE for cross-validation results of each person\n",
    "# the result is a 2D tensor with rows as reapets and columns as persons\n",
    "results = np.nanmean((padded_targetvalues - padded_predictions)**2, axis=2) ** .5\n",
    "\n",
    "# visulizing the results of repeated cross-validation RMSE for each person via a boxplot\n",
    "df = DataFrame(results)\n",
    "plotData = [] \n",
    "for col in df.columns:\n",
    "    plotData.append(go.Box(y= df[col], name=col, showlegend=False)) \n",
    "plotData.append(go.Scatter(x= df.columns, y=df.mean(), mode='lines', name='mean'))\n",
    "\n",
    "layout = dict(title = 'Distribution of cross-validation RMSE for each athlete',\n",
    "              xaxis = dict(title = 'Athletes'),\n",
    "              yaxis = dict(title = 'RMSE'))\n",
    "\n",
    "iplot(dict(data=plotData, layout=layout))"
   ]
  },
  {
   "cell_type": "code",
   "execution_count": 14,
   "metadata": {},
   "outputs": [
    {
     "name": "stdout",
     "output_type": "stream",
     "text": [
      "Total Mean Squared Error: 3.34922\n"
     ]
    },
    {
     "data": {
      "text/html": [
       "<div>\n",
       "<style>\n",
       "    .dataframe thead tr:only-child th {\n",
       "        text-align: right;\n",
       "    }\n",
       "\n",
       "    .dataframe thead th {\n",
       "        text-align: left;\n",
       "    }\n",
       "\n",
       "    .dataframe tbody tr th {\n",
       "        vertical-align: top;\n",
       "    }\n",
       "</style>\n",
       "<table border=\"1\" class=\"dataframe\">\n",
       "  <thead>\n",
       "    <tr style=\"text-align: right;\">\n",
       "      <th></th>\n",
       "      <th>0</th>\n",
       "    </tr>\n",
       "  </thead>\n",
       "  <tbody>\n",
       "    <tr>\n",
       "      <th>count</th>\n",
       "      <td>68.000000</td>\n",
       "    </tr>\n",
       "    <tr>\n",
       "      <th>mean</th>\n",
       "      <td>2.507118</td>\n",
       "    </tr>\n",
       "    <tr>\n",
       "      <th>std</th>\n",
       "      <td>2.237233</td>\n",
       "    </tr>\n",
       "    <tr>\n",
       "      <th>min</th>\n",
       "      <td>0.172165</td>\n",
       "    </tr>\n",
       "    <tr>\n",
       "      <th>25%</th>\n",
       "      <td>0.958846</td>\n",
       "    </tr>\n",
       "    <tr>\n",
       "      <th>50%</th>\n",
       "      <td>1.785401</td>\n",
       "    </tr>\n",
       "    <tr>\n",
       "      <th>75%</th>\n",
       "      <td>3.088200</td>\n",
       "    </tr>\n",
       "    <tr>\n",
       "      <th>max</th>\n",
       "      <td>9.509069</td>\n",
       "    </tr>\n",
       "  </tbody>\n",
       "</table>\n",
       "</div>"
      ],
      "text/plain": [
       "               0\n",
       "count  68.000000\n",
       "mean    2.507118\n",
       "std     2.237233\n",
       "min     0.172165\n",
       "25%     0.958846\n",
       "50%     1.785401\n",
       "75%     3.088200\n",
       "max     9.509069"
      ]
     },
     "execution_count": 14,
     "metadata": {},
     "output_type": "execute_result"
    }
   ],
   "source": [
    "# calculating a metric which in some way gives a sense of error in predictions\n",
    "# the RMSEs are summarized by calculating the mean squared of all repeats for all athletes\n",
    "error = np.sqrt(np.mean(np.square(np.mean(results, axis=0))))\n",
    "print(\"Total Mean Squared Error:\", error)\n",
    "\n",
    "DataFrame(np.mean(results, axis=0)).describe()"
   ]
  },
  {
   "cell_type": "markdown",
   "metadata": {},
   "source": [
    "## Investigating predictions visually"
   ]
  },
  {
   "cell_type": "code",
   "execution_count": 15,
   "metadata": {
    "collapsed": true
   },
   "outputs": [],
   "source": [
    "def show_testosterone(index, show_predictions=True, show_all_features=True):\n",
    "    pid = index_to_pid[index]\n",
    "    layout = dict(title = 'Variation of Tenstosterone Over Samples for Person ({})'.format(pid),\n",
    "              xaxis = dict(title = 'Sample Number'),\n",
    "              yaxis = dict(title = 'Testosterone'))\n",
    "    observations = data[data.index.get_level_values(0) == pid]\n",
    "    plot_data = []\n",
    "    \n",
    "    testosterone = go.Scatter(x=np.arange(len(observations)), y=observations['Testosterone'], name='True Value')\n",
    "    plot_data.append(testosterone)\n",
    "    \n",
    "    if show_all_features:\n",
    "        F2 = go.Scatter(x=np.arange(len(observations)), y=observations['F2'], name='F2')\n",
    "        F3 = go.Scatter(x=np.arange(len(observations)), y=observations['F3'], name='F3')\n",
    "        F4 = go.Scatter(x=np.arange(len(observations)), y=observations['F4'], name='F4')\n",
    "        plot_data.extend([F2, F3, F4])\n",
    "    \n",
    "    # getting the predictions from the first repeat\n",
    "    if show_predictions:\n",
    "        predictions = repeat_predictions[0][index]\n",
    "        pred_index_range = list(range(len(observations)-len(predictions), len(observations)))\n",
    "        testosterone_perds = go.Scatter(x= pred_index_range, y= predictions, name='Predictions')\n",
    "        plot_data.append(testosterone_perds)\n",
    "        \n",
    "    iplot(dict(data = plot_data, layout = layout))"
   ]
  },
  {
   "cell_type": "markdown",
   "metadata": {},
   "source": [
    "## The effect of updating model online on loss"
   ]
  },
  {
   "cell_type": "code",
   "execution_count": 16,
   "metadata": {
    "scrolled": true
   },
   "outputs": [
    {
     "data": {
      "image/png": "[encoded data removed]",
      "text/plain": [
       "<matplotlib.figure.Figure at 0x7efe7c1f4048>"
      ]
     },
     "metadata": {},
     "output_type": "display_data"
    }
   ],
   "source": [
    "rng = [range(i * len(p), (i+1) * len(p)) for i, p in enumerate(repeat_losses[0])]\n",
    "\n",
    "flatted_loss = [np.array(person).flatten().tolist() for person in repeat_losses[0]]\n",
    "\n",
    "for i, (p, r) in enumerate(zip(flatted_loss, rng)):\n",
    "    plt.plot(r, p, '-o')\n",
    "    if i > 3:\n",
    "        break"
   ]
  },
  {
   "cell_type": "markdown",
   "metadata": {},
   "source": [
    "## Using Lasso regression to regress each athlete's testosterone with lagg 1"
   ]
  },
  {
   "cell_type": "code",
   "execution_count": 17,
   "metadata": {
    "collapsed": true
   },
   "outputs": [],
   "source": [
    "def display_alphaCV(model):\n",
    "    # Display results\n",
    "    m_log_alphas = -np.log10(model.alphas_)\n",
    "\n",
    "    plt.figure(figsize=(10,10))\n",
    "    ymin, ymax = 2300, 3800\n",
    "    plt.plot(m_log_alphas, model.mse_path_, ':')\n",
    "    plt.plot(m_log_alphas, model.mse_path_.mean(axis=-1), 'k',\n",
    "         label='Average across the folds', linewidth=2)\n",
    "    plt.axvline(-np.log10(model.alpha_), linestyle='--', color='k',\n",
    "            label='alpha: CV estimate')\n",
    "\n",
    "    plt.legend()\n",
    "\n",
    "    plt.xlabel('-log(alpha)')\n",
    "    plt.ylabel('Mean square error')\n",
    "    plt.title('Mean square error on each fold: coordinate descent ')\n",
    "    plt.axis('tight')"
   ]
  },
  {
   "cell_type": "code",
   "execution_count": 18,
   "metadata": {
    "collapsed": true
   },
   "outputs": [],
   "source": [
    "def get_regression_model(data):\n",
    "    \n",
    "    cv = TimeSeriesSplit(n_splits=2).split(train)\n",
    "    \n",
    "    model = LassoCV(cv=cv)\n",
    "    \n",
    "    return model"
   ]
  },
  {
   "cell_type": "code",
   "execution_count": 19,
   "metadata": {
    "collapsed": true
   },
   "outputs": [],
   "source": [
    "def fit_regression_model(model, train):\n",
    "    X_train = train[:, 0:-1].reshape(-1, train.shape[1]-1) ## TODO train.shape[1] by considering the fact that the last columns is target?\n",
    "    y_train = train[:, -1]\n",
    "    \n",
    "    model.fit(X_train, y_train)\n",
    "    \n",
    "    return model"
   ]
  },
  {
   "cell_type": "code",
   "execution_count": 20,
   "metadata": {},
   "outputs": [
    {
     "data": {
      "application/vnd.jupyter.widget-view+json": {
       "model_id": "9052222b65e5470789f4b200ad28868c",
       "version_major": 2,
       "version_minor": 0
      },
      "text/plain": [
       "A Jupyter Widget"
      ]
     },
     "metadata": {},
     "output_type": "display_data"
    },
    {
     "data": {
      "application/vnd.jupyter.widget-view+json": {
       "model_id": "a7a9afb619d84630aa3128b840d02eab",
       "version_major": 2,
       "version_minor": 0
      },
      "text/plain": [
       "A Jupyter Widget"
      ]
     },
     "metadata": {},
     "output_type": "display_data"
    },
    {
     "name": "stdout",
     "output_type": "stream",
     "text": [
      "\n"
     ]
    }
   ],
   "source": [
    "repeats = 1\n",
    "repeat_predictions = []\n",
    "repeat_targetvalues = []\n",
    "for r in tqdm_notebook(range(repeats), desc=\"Repeat\"):\n",
    "    \n",
    "    persons_predictions = []\n",
    "    persons_targetvalues = []\n",
    "    \n",
    "    for person in tqdm_notebook(prepared_data, desc=\"Athlete\"):\n",
    "        train, test = train_test_split(person, test_size=.33, shuffle=False)\n",
    "        \n",
    "        model = get_regression_model(train)\n",
    "        model = fit_regression_model(model, train)\n",
    "            \n",
    "        predictions = list()\n",
    "        for i in range(len(test)):\n",
    "            # update model\n",
    "            if i > 0:\n",
    "                model = get_regression_model(updated_train)\n",
    "                model = fit_regression_model(model, updated_train)\n",
    "            yhat = model.predict(test[i,0:-1].reshape(-1, test.shape[1] -1))\n",
    "            X_test = test[i, 0:-1]\n",
    "            predictions.append(yhat[0])\n",
    "            updated_train = np.concatenate((train, test[i,:].reshape(1, -1)))\n",
    "            \n",
    "        persons_predictions.append(predictions)\n",
    "        persons_targetvalues.append(test[:, -1].tolist())\n",
    "\n",
    "    repeat_predictions.append(persons_predictions)\n",
    "    repeat_targetvalues.append(persons_targetvalues)"
   ]
  },
  {
   "cell_type": "code",
   "execution_count": 21,
   "metadata": {
    "collapsed": true
   },
   "outputs": [],
   "source": [
    "padded_predictions = np.array([pad_sequences(persons_predictions , dtype=np.float32, value=np.nan) for persons_predictions in repeat_predictions])\n",
    "padded_targetvalues = np.array([pad_sequences(persons_targetvalues , dtype=np.float32) for persons_targetvalues in repeat_targetvalues])"
   ]
  },
  {
   "cell_type": "code",
   "execution_count": 22,
   "metadata": {
    "scrolled": true
   },
   "outputs": [
    {
     "data": {
      "text/plain": [
       "(array([ 19.,  21.,  10.,   3.,   6.,   4.,   0.,   1.,   1.,   3.]),\n",
       " array([ 0.17216501,  1.10585545,  2.03954589,  2.97323634,  3.90692678,\n",
       "         4.84061722,  5.77430767,  6.70799811,  7.64168856,  8.575379  ,\n",
       "         9.50906944]),\n",
       " <a list of 10 Patch objects>)"
      ]
     },
     "execution_count": 22,
     "metadata": {},
     "output_type": "execute_result"
    },
    {
     "data": {
      "image/png": "[encoded data removed]",
      "text/plain": [
       "<matplotlib.figure.Figure at 0x7efe7c137d68>"
      ]
     },
     "metadata": {},
     "output_type": "display_data"
    }
   ],
   "source": [
    "plt.hist(results.flatten())"
   ]
  },
  {
   "cell_type": "code",
   "execution_count": 28,
   "metadata": {},
   "outputs": [
    {
     "name": "stderr",
     "output_type": "stream",
     "text": [
      "/home/iss/anaconda3/lib/python3.6/site-packages/scipy/stats/_continuous_distns.py:412: RuntimeWarning:\n",
      "\n",
      "invalid value encountered in sqrt\n",
      "\n"
     ]
    },
    {
     "data": {
      "image/png": "[encoded data removed]",
      "text/plain": [
       "<matplotlib.figure.Figure at 0x7efe7c1f9860>"
      ]
     },
     "metadata": {},
     "output_type": "display_data"
    }
   ],
   "source": [
    "import scipy\n",
    "import scipy.stats\n",
    "\n",
    "dist_names = ['gamma', 'beta', 'norm']\n",
    "\n",
    "for dist_name in dist_names:\n",
    "    dist = getattr(scipy.stats, dist_name)\n",
    "    param = dist.fit(results.flatten())\n",
    "    pdf_fitted = dist.pdf(np.arange(len(results[0])), *param[:-2], loc=param[-2], scale=param[-1]) * len(results[0])\n",
    "    plt.plot(pdf_fitted, label=dist_name)\n",
    "\n",
    "plt.legend(loc='upper right')\n",
    "plt.hist(results.flatten())\n",
    "plt.xlim([0,10])\n",
    "plt.show()"
   ]
  },
  {
   "cell_type": "code",
   "execution_count": null,
   "metadata": {
    "collapsed": true
   },
   "outputs": [],
   "source": [
    "results = np.nanmean((padded_targetvalues - padded_predictions)**2, axis=2) ** .5\n",
    "\n",
    "# visulizing the results of repeated cross-validation RMSE for each person via a boxplot\n",
    "df = DataFrame(results)\n",
    "plotData = [] \n",
    "# for col in df.columns:\n",
    "#     plotData.append(go.Box(y= df[col], name=col, showlegend=False)) \n",
    "plotData.append(go.Scatter(x= df.columns, y=df.mean(), mode='lines', name='mean'))\n",
    "\n",
    "layout = dict(title = 'Distribution of cross-validation RMSE for each athlete',\n",
    "              xaxis = dict(title = 'Athletes'),\n",
    "              yaxis = dict(title = 'RMSE'))\n",
    "\n",
    "iplot(dict(data=plotData, layout=layout))"
   ]
  },
  {
   "cell_type": "code",
   "execution_count": null,
   "metadata": {
    "collapsed": true
   },
   "outputs": [],
   "source": [
    "# calculating a metric which in some way gives a sense of error in predictions\n",
    "# the RMSEs are summarized by calculating the mean squared of all repeats for all athletes\n",
    "error = np.sqrt(np.mean(np.square(np.mean(results, axis=0))))\n",
    "print(\"Total Mean Squared Error:\", error)\n",
    "\n",
    "DataFrame(np.mean(results, axis=0)).describe()"
   ]
  },
  {
   "cell_type": "code",
   "execution_count": null,
   "metadata": {
    "collapsed": true
   },
   "outputs": [],
   "source": [
    "show_testosterone(54)"
   ]
  }
 ],
 "metadata": {
  "kernelspec": {
   "display_name": "Python 3",
   "language": "python",
   "name": "python3"
  },
  "language_info": {
   "codemirror_mode": {
    "name": "ipython",
    "version": 3
   },
   "file_extension": ".py",
   "mimetype": "text/x-python",
   "name": "python",
   "nbconvert_exporter": "python",
   "pygments_lexer": "ipython3",
   "version": "3.6.3"
  }
 },
 "nbformat": 4,
 "nbformat_minor": 2
}
