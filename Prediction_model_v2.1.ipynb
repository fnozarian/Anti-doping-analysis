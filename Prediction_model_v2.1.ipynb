{
 "cells": [
  {
   "cell_type": "markdown",
   "metadata": {},
   "source": [
    "## Changelog\n",
    "* V2 Implementing forward-walk cross validation for timeseries\n",
    "    * V2.1 Removing other features and training only with lagged testosterone"
   ]
  },
  {
   "cell_type": "code",
   "execution_count": 1,
   "metadata": {},
   "outputs": [
    {
     "name": "stderr",
     "output_type": "stream",
     "text": [
      "Using TensorFlow backend.\n"
     ]
    },
    {
     "data": {
      "text/html": [
       "<script>requirejs.config({paths: { 'plotly': ['https://cdn.plot.ly/plotly-latest.min']},});if(!window.Plotly) {{require(['plotly'],function(plotly) {window.Plotly=plotly;});}}</script>"
      ],
      "text/vnd.plotly.v1+html": [
       "<script>requirejs.config({paths: { 'plotly': ['https://cdn.plot.ly/plotly-latest.min']},});if(!window.Plotly) {{require(['plotly'],function(plotly) {window.Plotly=plotly;});}}</script>"
      ]
     },
     "metadata": {},
     "output_type": "display_data"
    }
   ],
   "source": [
    "import numpy as np\n",
    "from matplotlib import pyplot as plt\n",
    "\n",
    "import pandas as pd\n",
    "from pandas import DataFrame, Series\n",
    "\n",
    "from sklearn.model_selection import train_test_split\n",
    "from sklearn.preprocessing import MinMaxScaler\n",
    "from sklearn.metrics import mean_squared_error\n",
    "\n",
    "from keras.layers import Dense, LSTM, SimpleRNN, Masking\n",
    "from keras.models import Sequential\n",
    "from keras.preprocessing.sequence import pad_sequences\n",
    "\n",
    "import plotly.plotly as py\n",
    "import plotly.graph_objs as go\n",
    "from plotly.offline import download_plotlyjs, init_notebook_mode, plot, iplot\n",
    "\n",
    "from tqdm import tqdm_notebook\n",
    "\n",
    "init_notebook_mode(connected=True)\n",
    "%matplotlib inline"
   ]
  },
  {
   "cell_type": "code",
   "execution_count": 2,
   "metadata": {
    "collapsed": true
   },
   "outputs": [],
   "source": [
    "# scale train and test data to [-1, 1]\n",
    "def scale(train, test):\n",
    "    scaler = MinMaxScaler(feature_range=(-1, 1))\n",
    "    scaler = scaler.fit(train)\n",
    "    train_scaled = scaler.transform(train)\n",
    "    test_scaled = scaler.transform(test)\n",
    "    \n",
    "    return scaler, train_scaled, test_scaled\n",
    " \n",
    "# inverse scaling for a forecasted value\n",
    "def invert_scale(scaler, X, yhat):\n",
    "    new_row = [x for x in X] + [yhat]\n",
    "    array = np.array(new_row)\n",
    "    array = array.reshape(1, len(array))\n",
    "    inverted = scaler.inverse_transform(array)\n",
    "    \n",
    "    return inverted[0, -1]"
   ]
  },
  {
   "cell_type": "code",
   "execution_count": 3,
   "metadata": {
    "collapsed": true
   },
   "outputs": [],
   "source": [
    "def timeseries_to_supervised(data):\n",
    "    \"\"\"\n",
    "    Append the lag -1 of the target value (i.e., previous Testosterone value) as a new feature to the data\n",
    "    \n",
    "    Arguments:\n",
    "        data: a dataframe containing Testosterone and other features\n",
    "    \"\"\"\n",
    "\n",
    "    new_df = DataFrame()\n",
    "    for pIndex, features in data.groupby(\"Person\"):\n",
    "        copy_features = features.copy()\n",
    "        copy_features['y'] = features.Testosterone.shift(-1)\n",
    "        copy_features.drop(copy_features.index[len(features) - 1], inplace=True)\n",
    "        new_df = pd.concat([new_df, copy_features])\n",
    "    \n",
    "    return new_df"
   ]
  },
  {
   "cell_type": "code",
   "execution_count": 4,
   "metadata": {
    "collapsed": true
   },
   "outputs": [],
   "source": [
    "def prepare_dataset(data, to_supervised=True, as_dataframe=False, testosterone_only=False):\n",
    "    \"\"\"\n",
    "    Returns a dataframe or array of athletes with a 2D indexing where the first index corresponds to the athlete's Id\n",
    "    and the second index corresponds to the observation (timestep) Id.\n",
    "    \n",
    "    Arguments:\n",
    "        to_supervised: if True a column with -1 lag values of Testosterone columns is added as the future target values\n",
    "    \"\"\"\n",
    "      \n",
    "    # adding seq_ix to data\n",
    "    seq_ix = [list(np.arange(i)) for i in data.groupby(\"Person\").size().values]\n",
    "    seq_ix = [item for sub in seq_ix for item in sub]\n",
    "    data.index = pd.MultiIndex.from_arrays([data.index.values, seq_ix], names=['Person', 'seq_ix'])\n",
    "    # impute missing values\n",
    "    data.fillna(method='pad', inplace=True)\n",
    "    \n",
    "    \n",
    "    if to_supervised:\n",
    "        data = timeseries_to_supervised(data)\n",
    "    \n",
    "    if testosterone_only:\n",
    "        data = data[['Testosterone', 'y']]\n",
    "    \n",
    "    if as_dataframe:\n",
    "        return data\n",
    "    \n",
    "    \n",
    "    # convert to numpy 3D array\n",
    "    data_array = [person.values for pId, person in data.groupby('Person')]\n",
    "    \n",
    "    return data_array"
   ]
  },
  {
   "cell_type": "code",
   "execution_count": 5,
   "metadata": {
    "collapsed": true
   },
   "outputs": [],
   "source": [
    "#defining callbacks\n",
    "from keras.callbacks import EarlyStopping, TensorBoard\n",
    "tensorboard_callback = TensorBoard(log_dir=\"./logs/2_LSTM_100_run26_maskingLayer_scaled_batch2\" , histogram_freq=1, batch_size=1)\n",
    "earlystopping_callback = EarlyStopping(min_delta=.001 , patience=20, mode='min', verbose=1)"
   ]
  },
  {
   "cell_type": "markdown",
   "metadata": {},
   "source": [
    "### Creating walk-forward dataset for robust validation"
   ]
  },
  {
   "cell_type": "code",
   "execution_count": 6,
   "metadata": {
    "collapsed": true
   },
   "outputs": [],
   "source": [
    "def get_model(batch_size, nb_features, neurons):\n",
    "    \n",
    "    model = Sequential()\n",
    "    model.add(LSTM(neurons, return_sequences=True, batch_input_shape=(batch_size, 1, nb_features), stateful=True))\n",
    "    model.add(LSTM(neurons, stateful=True))\n",
    "    model.add(Dense(1))\n",
    "    model.compile(loss='mean_squared_error', optimizer='adam')\n",
    "    \n",
    "    return model\n",
    "\n",
    "# Fit LSTM model\n",
    "def fit_model(model, train, batch_size, updates):\n",
    "    \"\"\"\n",
    "    :param train: a 2D numpy array containing all the observation (timesteps) of one athlete as rows. The last column contains the future value of Testosterone (i.e., target column).\n",
    "    \"\"\"\n",
    "    X_train = train[:, 0:-1]\n",
    "    X_train = X_train.reshape(X_train.shape[0], 1, X_train.shape[1])\n",
    "    y_train = train[:, -1]\n",
    "    \n",
    "    losses = []\n",
    "    for i in range(updates):\n",
    "        history = model.fit(X_train, y_train, epochs=1, batch_size=batch_size, verbose=0, shuffle=False)\n",
    "        losses.append(history.history['loss'])\n",
    "        model.reset_states()\n",
    "    \n",
    "    return model, losses\n",
    "\n",
    "# make a one-step forecast\n",
    "def forecast_lstm(model, X_test, batch_size):\n",
    "    \n",
    "    X_test = X_test.reshape(1, 1, len(X_test))\n",
    "    \n",
    "    yhat = model.predict(X_test, batch_size=batch_size)\n",
    "\n",
    "    return yhat[0,0]"
   ]
  },
  {
   "cell_type": "code",
   "execution_count": 7,
   "metadata": {
    "collapsed": true
   },
   "outputs": [],
   "source": [
    "# run a repeated experiment\n",
    "def experiment(data, repeats, epochs, updates, batch_size):\n",
    "    nb_features = data[0].shape[1] -1 # -1 since the last column is target value\n",
    "    \n",
    "    repeat_predictions = []\n",
    "    repeat_targetvalues = []\n",
    "    repeat_losses = []\n",
    "    for r in tqdm_notebook(range(repeats), desc=\"Repeat\"):\n",
    "        persons_predictions = []\n",
    "        persons_targetvalues = []\n",
    "        persons_losses = []\n",
    "        \n",
    "        # fit the base model\n",
    "        model = get_model(batch_size, nb_features, 100)\n",
    "        \n",
    "        for person in tqdm_notebook(data, desc=\"Athlete\"):\n",
    "            \n",
    "            train, test = train_test_split(person, test_size=.33, shuffle=False)\n",
    "            scaler, scaled_train, scaled_test = scale(train, test)\n",
    "            model, losses = fit_model(model, scaled_train, 1, epochs)\n",
    "            \n",
    "            predictions = list()\n",
    "            for i in range(len(scaled_test)):\n",
    "                # update model\n",
    "                if i > 0:\n",
    "                    model, updated_losses = fit_model(model, updated_train, 1, updates)\n",
    "                    losses.extend(updated_losses)\n",
    "                X_test = scaled_test[i, 0:-1]\n",
    "                # predict\n",
    "                yhat = forecast_lstm(model, X_test, 1)        \n",
    "                # invert scaling\n",
    "                yhat = invert_scale(scaler, X_test, yhat)\n",
    "                # store forecast\n",
    "                predictions.append(yhat)\n",
    "                # add to training set\n",
    "                updated_train = np.concatenate((scaled_train, scaled_test[i,:].reshape(1, -1)))\n",
    "            \n",
    "            persons_losses.append(losses)\n",
    "            persons_predictions.append(predictions)\n",
    "            persons_targetvalues.append(test[:, -1].tolist())\n",
    "        \n",
    "        repeat_losses.append(persons_losses)    \n",
    "        repeat_predictions.append(persons_predictions)\n",
    "        repeat_targetvalues.append(persons_targetvalues)\n",
    "    \n",
    "    return repeat_losses, repeat_predictions, repeat_targetvalues"
   ]
  },
  {
   "cell_type": "code",
   "execution_count": 8,
   "metadata": {
    "collapsed": true
   },
   "outputs": [],
   "source": [
    "data = DataFrame.from_csv(\"./testosterone_levels.csv\")\n",
    "index_to_pid = dict(list(zip(range(len(data.index.unique())), data.index.unique().values)))\n",
    "pid_to_index = dict(list(zip(data.index.unique().values, range(len(data.index.unique())))))"
   ]
  },
  {
   "cell_type": "code",
   "execution_count": 9,
   "metadata": {
    "collapsed": true
   },
   "outputs": [],
   "source": [
    "prepared_data = prepare_dataset(data, testosterone_only=True)"
   ]
  },
  {
   "cell_type": "code",
   "execution_count": 10,
   "metadata": {},
   "outputs": [
    {
     "data": {
      "application/vnd.jupyter.widget-view+json": {
       "model_id": "4d6d392cb8b2413482f1d51163a79a80",
       "version_major": 2,
       "version_minor": 0
      },
      "text/plain": [
       "A Jupyter Widget"
      ]
     },
     "metadata": {},
     "output_type": "display_data"
    },
    {
     "data": {
      "application/vnd.jupyter.widget-view+json": {
       "model_id": "c23b3983fde1479592cf8083ea2db829",
       "version_major": 2,
       "version_minor": 0
      },
      "text/plain": [
       "A Jupyter Widget"
      ]
     },
     "metadata": {},
     "output_type": "display_data"
    },
    {
     "data": {
      "application/vnd.jupyter.widget-view+json": {
       "model_id": "dd75d5a6f1554b1fa657b800ee6e640b",
       "version_major": 2,
       "version_minor": 0
      },
      "text/plain": [
       "A Jupyter Widget"
      ]
     },
     "metadata": {},
     "output_type": "display_data"
    },
    {
     "data": {
      "application/vnd.jupyter.widget-view+json": {
       "model_id": "bc817d1fe85d4d0e963d9be90c88a719",
       "version_major": 2,
       "version_minor": 0
      },
      "text/plain": [
       "A Jupyter Widget"
      ]
     },
     "metadata": {},
     "output_type": "display_data"
    },
    {
     "data": {
      "application/vnd.jupyter.widget-view+json": {
       "model_id": "fd0220d37bf049ae8d3dc9b582f03554",
       "version_major": 2,
       "version_minor": 0
      },
      "text/plain": [
       "A Jupyter Widget"
      ]
     },
     "metadata": {},
     "output_type": "display_data"
    },
    {
     "data": {
      "application/vnd.jupyter.widget-view+json": {
       "model_id": "2cbf9575dc3e41cf834ca8da20d53f5e",
       "version_major": 2,
       "version_minor": 0
      },
      "text/plain": [
       "A Jupyter Widget"
      ]
     },
     "metadata": {},
     "output_type": "display_data"
    },
    {
     "name": "stdout",
     "output_type": "stream",
     "text": [
      "\n"
     ]
    }
   ],
   "source": [
    "repeat_losses, repeat_predictions, repeat_targetvalues = experiment(prepared_data, 5, 30, 10, 1)"
   ]
  },
  {
   "cell_type": "code",
   "execution_count": 11,
   "metadata": {
    "collapsed": true
   },
   "outputs": [],
   "source": [
    "padded_predictions = np.array([pad_sequences(persons_predictions , dtype=np.float32, value=np.nan) for persons_predictions in repeat_predictions])\n",
    "padded_targetvalues = np.array([pad_sequences(persons_targetvalues , dtype=np.float32) for persons_targetvalues in repeat_targetvalues])"
   ]
  },
  {
   "cell_type": "code",
   "execution_count": 12,
   "metadata": {},
   "outputs": [
    {
     "data": {
      "application/vnd.plotly.v1+json": {
       "data": [
        {
         "name": 0,
         "showlegend": false,
         "type": "box",
         "y": [
          0.5127440094947815,
          0.49713462591171265,
          0.5446692109107971,
          0.5338245034217834,
          0.5181125402450562
         ]
        },
        {
         "name": 1,
         "showlegend": false,
         "type": "box",
         "y": [
          3.9253363609313965,
          4.045283317565918,
          3.992337703704834,
          3.8863189220428467,
          4.0161590576171875
         ]
        },
        {
         "name": 2,
         "showlegend": false,
         "type": "box",
         "y": [
          0.7366691827774048,
          0.7678040862083435,
          0.7368605136871338,
          0.6981301307678223,
          0.7373403906822205
         ]
        },
        {
         "name": 3,
         "showlegend": false,
         "type": "box",
         "y": [
          0.1854756474494934,
          0.23877757787704468,
          0.21552632749080658,
          0.18421262502670288,
          0.2496039718389511
         ]
        },
        {
         "name": 4,
         "showlegend": false,
         "type": "box",
         "y": [
          1.3939491510391235,
          1.395199179649353,
          1.4053750038146973,
          1.2813633680343628,
          1.428298830986023
         ]
        },
        {
         "name": 5,
         "showlegend": false,
         "type": "box",
         "y": [
          1.5542473793029785,
          1.4346604347229004,
          1.498367428779602,
          1.296710729598999,
          1.4258469343185425
         ]
        },
        {
         "name": 6,
         "showlegend": false,
         "type": "box",
         "y": [
          1.0067631006240845,
          0.9318755269050598,
          0.9660253524780273,
          0.7826513051986694,
          0.9552976489067078
         ]
        },
        {
         "name": 7,
         "showlegend": false,
         "type": "box",
         "y": [
          8.927999496459961,
          8.886480331420898,
          8.943012237548828,
          8.667093276977539,
          8.932129859924316
         ]
        },
        {
         "name": 8,
         "showlegend": false,
         "type": "box",
         "y": [
          4.7419514656066895,
          4.756822109222412,
          4.731139659881592,
          4.446896553039551,
          4.833530902862549
         ]
        },
        {
         "name": 9,
         "showlegend": false,
         "type": "box",
         "y": [
          2.2629284858703613,
          2.2602224349975586,
          2.377943754196167,
          1.927453875541687,
          2.42222261428833
         ]
        },
        {
         "name": 10,
         "showlegend": false,
         "type": "box",
         "y": [
          1.4371122121810913,
          1.4492305517196655,
          1.5797522068023682,
          1.487296462059021,
          1.5095893144607544
         ]
        },
        {
         "name": 11,
         "showlegend": false,
         "type": "box",
         "y": [
          1.3091392517089844,
          1.7627496719360352,
          6.642712116241455,
          2.8108925819396973,
          0.9384610056877136
         ]
        },
        {
         "name": 12,
         "showlegend": false,
         "type": "box",
         "y": [
          2.396562099456787,
          2.5814120769500732,
          3.229495048522949,
          2.884988784790039,
          2.4841692447662354
         ]
        },
        {
         "name": 13,
         "showlegend": false,
         "type": "box",
         "y": [
          5.141416072845459,
          4.401957035064697,
          7.184009075164795,
          6.081287384033203,
          4.709802150726318
         ]
        },
        {
         "name": 14,
         "showlegend": false,
         "type": "box",
         "y": [
          3.730882167816162,
          3.517343282699585,
          4.8940863609313965,
          3.7280690670013428,
          3.464191436767578
         ]
        },
        {
         "name": 15,
         "showlegend": false,
         "type": "box",
         "y": [
          1.01615571975708,
          0.6423392295837402,
          2.4957196712493896,
          1.275460958480835,
          0.8262357115745544
         ]
        },
        {
         "name": 16,
         "showlegend": false,
         "type": "box",
         "y": [
          7.9388580322265625,
          7.014042377471924,
          14.389581680297852,
          13.096887588500977,
          8.240561485290527
         ]
        },
        {
         "name": 17,
         "showlegend": false,
         "type": "box",
         "y": [
          1.6411148309707642,
          1.4804587364196777,
          1.9283167123794556,
          1.791286587715149,
          1.5799261331558228
         ]
        },
        {
         "name": 18,
         "showlegend": false,
         "type": "box",
         "y": [
          8.587761878967285,
          7.022830009460449,
          11.209203720092773,
          9.910582542419434,
          7.98236608505249
         ]
        },
        {
         "name": 19,
         "showlegend": false,
         "type": "box",
         "y": [
          0.5178519487380981,
          0.4279698133468628,
          0.6548058986663818,
          0.5736503601074219,
          0.47055116295814514
         ]
        },
        {
         "name": 20,
         "showlegend": false,
         "type": "box",
         "y": [
          2.7130165100097656,
          1.956430435180664,
          3.4693048000335693,
          2.196514368057251,
          2.61700177192688
         ]
        },
        {
         "name": 21,
         "showlegend": false,
         "type": "box",
         "y": [
          1.91542649269104,
          0.8627150654792786,
          2.400439977645874,
          1.2554165124893188,
          1.907178282737732
         ]
        },
        {
         "name": 22,
         "showlegend": false,
         "type": "box",
         "y": [
          1.4555246829986572,
          0.5329428315162659,
          1.585721731185913,
          0.9578037261962891,
          1.150538444519043
         ]
        },
        {
         "name": 23,
         "showlegend": false,
         "type": "box",
         "y": [
          0.9437929391860962,
          0.7806974053382874,
          1.1064820289611816,
          0.8039926886558533,
          0.8932502269744873
         ]
        },
        {
         "name": 24,
         "showlegend": false,
         "type": "box",
         "y": [
          1.8892650604248047,
          1.8790092468261719,
          1.890742301940918,
          1.8769922256469727,
          1.883932113647461
         ]
        },
        {
         "name": 25,
         "showlegend": false,
         "type": "box",
         "y": [
          1.5535929203033447,
          1.499282956123352,
          2.7623212337493896,
          1.1810200214385986,
          1.838493824005127
         ]
        },
        {
         "name": 26,
         "showlegend": false,
         "type": "box",
         "y": [
          4.051871299743652,
          4.1684722900390625,
          5.109941005706787,
          3.654780864715576,
          4.379858016967773
         ]
        },
        {
         "name": 27,
         "showlegend": false,
         "type": "box",
         "y": [
          1.8361644744873047,
          1.841668963432312,
          2.7957851886749268,
          1.8836404085159302,
          1.9802918434143066
         ]
        },
        {
         "name": 28,
         "showlegend": false,
         "type": "box",
         "y": [
          2.5498580932617188,
          1.3414479494094849,
          4.127262592315674,
          2.8514273166656494,
          2.5946295261383057
         ]
        },
        {
         "name": 29,
         "showlegend": false,
         "type": "box",
         "y": [
          4.90792989730835,
          4.245893478393555,
          6.938735008239746,
          5.6329240798950195,
          4.478775978088379
         ]
        },
        {
         "name": 30,
         "showlegend": false,
         "type": "box",
         "y": [
          2.3806095123291016,
          2.1583054065704346,
          2.8311500549316406,
          2.67057204246521,
          2.295132875442505
         ]
        },
        {
         "name": 31,
         "showlegend": false,
         "type": "box",
         "y": [
          3.014472484588623,
          2.948655605316162,
          3.245272397994995,
          3.136007308959961,
          2.9738268852233887
         ]
        },
        {
         "name": 32,
         "showlegend": false,
         "type": "box",
         "y": [
          4.383946895599365,
          4.9006218910217285,
          5.187825679779053,
          4.975137233734131,
          4.4702677726745605
         ]
        },
        {
         "name": 33,
         "showlegend": false,
         "type": "box",
         "y": [
          2.8905694484710693,
          3.784708261489868,
          4.145033359527588,
          3.5408143997192383,
          2.9414472579956055
         ]
        },
        {
         "name": 34,
         "showlegend": false,
         "type": "box",
         "y": [
          4.111414909362793,
          5.142325401306152,
          5.555026531219482,
          4.759469509124756,
          3.8872623443603516
         ]
        },
        {
         "name": 35,
         "showlegend": false,
         "type": "box",
         "y": [
          5.332510471343994,
          7.32075834274292,
          10.97047233581543,
          6.263606071472168,
          4.855611801147461
         ]
        },
        {
         "name": 36,
         "showlegend": false,
         "type": "box",
         "y": [
          1.8973082304000854,
          2.0392024517059326,
          2.214069366455078,
          2.1211800575256348,
          2.0343410968780518
         ]
        },
        {
         "name": 37,
         "showlegend": false,
         "type": "box",
         "y": [
          0.518440842628479,
          0.4705810248851776,
          1.2321875095367432,
          0.45753610134124756,
          0.4179840683937073
         ]
        },
        {
         "name": 38,
         "showlegend": false,
         "type": "box",
         "y": [
          2.2702524662017822,
          1.797894835472107,
          2.9995415210723877,
          1.9041497707366943,
          2.502882719039917
         ]
        },
        {
         "name": 39,
         "showlegend": false,
         "type": "box",
         "y": [
          4.8031816482543945,
          5.004103660583496,
          7.112420558929443,
          4.8541717529296875,
          5.1622419357299805
         ]
        },
        {
         "name": 40,
         "showlegend": false,
         "type": "box",
         "y": [
          2.5405402183532715,
          2.3264331817626953,
          3.5735886096954346,
          2.137097120285034,
          2.6030678749084473
         ]
        },
        {
         "name": 41,
         "showlegend": false,
         "type": "box",
         "y": [
          0.6398261189460754,
          0.5817120671272278,
          1.931322455406189,
          0.3341788351535797,
          0.5188403725624084
         ]
        },
        {
         "name": 42,
         "showlegend": false,
         "type": "box",
         "y": [
          0.14906740188598633,
          0.32550016045570374,
          0.6179856657981873,
          0.4097347855567932,
          0.162308931350708
         ]
        },
        {
         "name": 43,
         "showlegend": false,
         "type": "box",
         "y": [
          0.44843974709510803,
          0.6500431299209595,
          1.835447072982788,
          0.8450338840484619,
          0.751738965511322
         ]
        },
        {
         "name": 44,
         "showlegend": false,
         "type": "box",
         "y": [
          0.9107117652893066,
          0.8382114171981812,
          1.5503190755844116,
          0.5493826270103455,
          1.428713321685791
         ]
        },
        {
         "name": 45,
         "showlegend": false,
         "type": "box",
         "y": [
          0.2973039448261261,
          0.2580755352973938,
          0.27932244539260864,
          0.42098158597946167,
          0.19982875883579254
         ]
        },
        {
         "name": 46,
         "showlegend": false,
         "type": "box",
         "y": [
          0.1213715448975563,
          0.12016582489013672,
          0.21290627121925354,
          0.11694186180830002,
          0.3952682614326477
         ]
        },
        {
         "name": 47,
         "showlegend": false,
         "type": "box",
         "y": [
          1.822458267211914,
          1.4330724477767944,
          2.392655849456787,
          1.7673989534378052,
          1.692611813545227
         ]
        },
        {
         "name": 48,
         "showlegend": false,
         "type": "box",
         "y": [
          7.436074733734131,
          7.4839911460876465,
          7.287511825561523,
          7.410130023956299,
          6.831606864929199
         ]
        },
        {
         "name": 49,
         "showlegend": false,
         "type": "box",
         "y": [
          36.644737243652344,
          34.703433990478516,
          56.25734329223633,
          32.29558563232422,
          60.51885986328125
         ]
        },
        {
         "name": 50,
         "showlegend": false,
         "type": "box",
         "y": [
          6.646724700927734,
          6.3415398597717285,
          10.906278610229492,
          5.931679725646973,
          11.689796447753906
         ]
        },
        {
         "name": 51,
         "showlegend": false,
         "type": "box",
         "y": [
          5.999489784240723,
          4.418909549713135,
          10.84142780303955,
          5.2151923179626465,
          12.128674507141113
         ]
        },
        {
         "name": 52,
         "showlegend": false,
         "type": "box",
         "y": [
          87.30691528320312,
          72.75067138671875,
          130.31495666503906,
          74.0021743774414,
          132.42074584960938
         ]
        },
        {
         "name": 53,
         "showlegend": false,
         "type": "box",
         "y": [
          1.4846278429031372,
          0.5972123742103577,
          3.0013985633850098,
          0.9218327403068542,
          3.3474133014678955
         ]
        },
        {
         "name": 54,
         "showlegend": false,
         "type": "box",
         "y": [
          4.0710625648498535,
          1.4745382070541382,
          7.774592399597168,
          2.9211010932922363,
          8.962223052978516
         ]
        },
        {
         "name": 55,
         "showlegend": false,
         "type": "box",
         "y": [
          40.50795364379883,
          29.502971649169922,
          51.528926849365234,
          37.66424560546875,
          75.53025817871094
         ]
        },
        {
         "name": 56,
         "showlegend": false,
         "type": "box",
         "y": [
          6.439462661743164,
          6.726443290710449,
          6.1590800285339355,
          6.472449779510498,
          5.681511402130127
         ]
        },
        {
         "name": 57,
         "showlegend": false,
         "type": "box",
         "y": [
          3.03105092048645,
          2.157252788543701,
          4.436056137084961,
          3.0938327312469482,
          6.199262619018555
         ]
        },
        {
         "name": 58,
         "showlegend": false,
         "type": "box",
         "y": [
          0.9305375814437866,
          0.9702902436256409,
          1.8826261758804321,
          1.184550166130066,
          5.388656139373779
         ]
        },
        {
         "name": 59,
         "showlegend": false,
         "type": "box",
         "y": [
          0.44067350029945374,
          0.4696016013622284,
          1.0074366331100464,
          0.5440526604652405,
          2.9486470222473145
         ]
        },
        {
         "name": 60,
         "showlegend": false,
         "type": "box",
         "y": [
          1.210006833076477,
          1.2569410800933838,
          2.1190707683563232,
          1.1835652589797974,
          4.606588363647461
         ]
        },
        {
         "name": 61,
         "showlegend": false,
         "type": "box",
         "y": [
          2.6136980056762695,
          1.0021919012069702,
          4.689505577087402,
          2.5673751831054688,
          8.57254409790039
         ]
        },
        {
         "name": 62,
         "showlegend": false,
         "type": "box",
         "y": [
          1.7174861431121826,
          0.5397814512252808,
          3.1269147396087646,
          1.6738008260726929,
          6.833164215087891
         ]
        },
        {
         "name": 63,
         "showlegend": false,
         "type": "box",
         "y": [
          7.055370807647705,
          5.2710795402526855,
          9.091862678527832,
          6.990118503570557,
          15.284592628479004
         ]
        },
        {
         "name": 64,
         "showlegend": false,
         "type": "box",
         "y": [
          0.7071338295936584,
          0.3717010021209717,
          1.0200966596603394,
          0.7758342027664185,
          1.8425090312957764
         ]
        },
        {
         "name": 65,
         "showlegend": false,
         "type": "box",
         "y": [
          4.5199198722839355,
          2.0671913623809814,
          6.785526752471924,
          5.020468711853027,
          12.117120742797852
         ]
        },
        {
         "name": 66,
         "showlegend": false,
         "type": "box",
         "y": [
          4.834611415863037,
          2.514779567718506,
          6.752462387084961,
          5.0633745193481445,
          11.329744338989258
         ]
        },
        {
         "name": 67,
         "showlegend": false,
         "type": "box",
         "y": [
          0.41630542278289795,
          0.14729687571525574,
          0.7124975919723511,
          0.38603436946868896,
          1.5788257122039795
         ]
        },
        {
         "name": 68,
         "showlegend": false,
         "type": "box",
         "y": [
          0.9285604953765869,
          0.6542225480079651,
          1.1419367790222168,
          0.9389935731887817,
          1.7966821193695068
         ]
        },
        {
         "name": 69,
         "showlegend": false,
         "type": "box",
         "y": [
          7.671810626983643,
          4.118265628814697,
          9.824187278747559,
          6.1004180908203125,
          16.498048782348633
         ]
        },
        {
         "name": 70,
         "showlegend": false,
         "type": "box",
         "y": [
          2.5641324520111084,
          1.15781569480896,
          3.5622715950012207,
          2.0587799549102783,
          6.417375087738037
         ]
        },
        {
         "name": 71,
         "showlegend": false,
         "type": "box",
         "y": [
          0.5234270095825195,
          0.2951084077358246,
          1.0157917737960815,
          0.4552060067653656,
          1.0508359670639038
         ]
        },
        {
         "name": 72,
         "showlegend": false,
         "type": "box",
         "y": [
          0.6451849937438965,
          0.5117522478103638,
          1.7811846733093262,
          0.5005025863647461,
          0.7795762419700623
         ]
        },
        {
         "name": 73,
         "showlegend": false,
         "type": "box",
         "y": [
          0.06145206838846207,
          0.08347798138856888,
          1.272945761680603,
          0.2134857028722763,
          0.39278900623321533
         ]
        },
        {
         "name": 74,
         "showlegend": false,
         "type": "box",
         "y": [
          0.34563514590263367,
          0.3756560981273651,
          0.2602978050708771,
          0.3319736421108246,
          0.2948378622531891
         ]
        },
        {
         "name": 75,
         "showlegend": false,
         "type": "box",
         "y": [
          3.2258241176605225,
          3.2356059551239014,
          3.3333566188812256,
          2.867274761199951,
          3.384286403656006
         ]
        },
        {
         "name": 76,
         "showlegend": false,
         "type": "box",
         "y": [
          2.3136208057403564,
          1.9247848987579346,
          1.7664613723754883,
          2.1781296730041504,
          2.3704051971435547
         ]
        },
        {
         "name": 77,
         "showlegend": false,
         "type": "box",
         "y": [
          1.2943546772003174,
          1.2718619108200073,
          1.469228982925415,
          1.4690430164337158,
          1.4747041463851929
         ]
        },
        {
         "name": 78,
         "showlegend": false,
         "type": "box",
         "y": [
          0.7051673531532288,
          0.39714422821998596,
          0.2634514570236206,
          0.12224279344081879,
          0.06389949470758438
         ]
        },
        {
         "name": 79,
         "showlegend": false,
         "type": "box",
         "y": [
          1.5272597074508667,
          1.6903839111328125,
          2.0293705463409424,
          1.6162965297698975,
          1.6446688175201416
         ]
        },
        {
         "name": 80,
         "showlegend": false,
         "type": "box",
         "y": [
          0.2369479238986969,
          0.251569926738739,
          0.2357623279094696,
          0.21487382054328918,
          0.2086138129234314
         ]
        },
        {
         "name": 81,
         "showlegend": false,
         "type": "box",
         "y": [
          0.24137459695339203,
          0.14878487586975098,
          0.19343991577625275,
          0.2653031647205353,
          0.18004421889781952
         ]
        },
        {
         "name": 82,
         "showlegend": false,
         "type": "box",
         "y": [
          0.16928686201572418,
          0.1412571519613266,
          0.13504867255687714,
          0.17335069179534912,
          0.13042853772640228
         ]
        },
        {
         "name": 83,
         "showlegend": false,
         "type": "box",
         "y": [
          0.7409005761146545,
          0.8633655905723572,
          0.9366909265518188,
          0.8115282654762268,
          0.8254004120826721
         ]
        },
        {
         "name": 84,
         "showlegend": false,
         "type": "box",
         "y": [
          0.16176554560661316,
          0.18125039339065552,
          0.19312773644924164,
          0.16263671219348907,
          0.16336554288864136
         ]
        },
        {
         "name": 85,
         "showlegend": false,
         "type": "box",
         "y": [
          0.700869083404541,
          0.322153776884079,
          0.23191942274570465,
          0.5213013291358948,
          0.5861085057258606
         ]
        },
        {
         "name": 86,
         "showlegend": false,
         "type": "box",
         "y": [
          0.3151468336582184,
          0.31033775210380554,
          0.32648321986198425,
          0.3252883553504944,
          0.33874377608299255
         ]
        },
        {
         "name": 87,
         "showlegend": false,
         "type": "box",
         "y": [
          2.061619758605957,
          2.6492936611175537,
          2.1285831928253174,
          1.8241223096847534,
          1.961719274520874
         ]
        },
        {
         "name": 88,
         "showlegend": false,
         "type": "box",
         "y": [
          3.0374011993408203,
          3.1793172359466553,
          2.546175003051758,
          2.5676825046539307,
          2.194077730178833
         ]
        },
        {
         "name": 89,
         "showlegend": false,
         "type": "box",
         "y": [
          0.6657913327217102,
          0.6308921575546265,
          0.7956116199493408,
          0.816977858543396,
          0.8274587988853455
         ]
        },
        {
         "name": 90,
         "showlegend": false,
         "type": "box",
         "y": [
          1.213415265083313,
          1.1992100477218628,
          1.2296435832977295,
          1.2663401365280151,
          1.27573561668396
         ]
        },
        {
         "name": 91,
         "showlegend": false,
         "type": "box",
         "y": [
          0.733264148235321,
          0.691560685634613,
          0.9095497727394104,
          1.242950677871704,
          1.352022647857666
         ]
        },
        {
         "name": 92,
         "showlegend": false,
         "type": "box",
         "y": [
          2.231011390686035,
          2.251995086669922,
          1.695730209350586,
          1.0664939880371094,
          0.7641429901123047
         ]
        },
        {
         "name": 93,
         "showlegend": false,
         "type": "box",
         "y": [
          0.16550277173519135,
          0.18475720286369324,
          0.17473076283931732,
          0.17005577683448792,
          0.21445278823375702
         ]
        },
        {
         "name": 94,
         "showlegend": false,
         "type": "box",
         "y": [
          0.06285138428211212,
          0.0667392909526825,
          0.07414830476045609,
          0.07928275316953659,
          0.08036399632692337
         ]
        },
        {
         "name": 95,
         "showlegend": false,
         "type": "box",
         "y": [
          0.1335717737674713,
          0.12275964021682739,
          0.10209614038467407,
          0.0858159288764,
          0.0850963369011879
         ]
        },
        {
         "name": 96,
         "showlegend": false,
         "type": "box",
         "y": [
          0.47640538215637207,
          0.1313786506652832,
          0.24247343838214874,
          0.26560646295547485,
          0.17219306528568268
         ]
        },
        {
         "name": 97,
         "showlegend": false,
         "type": "box",
         "y": [
          0.14865323901176453,
          0.5335317850112915,
          0.14510877430438995,
          0.055578187108039856,
          0.44537580013275146
         ]
        },
        {
         "name": 98,
         "showlegend": false,
         "type": "box",
         "y": [
          1.6397547721862793,
          1.5100747346878052,
          1.5332159996032715,
          1.3256312608718872,
          1.416905164718628
         ]
        },
        {
         "name": 99,
         "showlegend": false,
         "type": "box",
         "y": [
          1.0910215377807617,
          1.2789506912231445,
          1.142563819885254,
          1.0894261598587036,
          1.1196891069412231
         ]
        },
        {
         "name": 100,
         "showlegend": false,
         "type": "box",
         "y": [
          13.281391143798828,
          13.34184455871582,
          13.153916358947754,
          13.115755081176758,
          13.059836387634277
         ]
        },
        {
         "name": 101,
         "showlegend": false,
         "type": "box",
         "y": [
          0.5008131861686707,
          0.5449584126472473,
          0.3540574312210083,
          0.3631664216518402,
          0.32195016741752625
         ]
        },
        {
         "name": 102,
         "showlegend": false,
         "type": "box",
         "y": [
          1.5589061975479126,
          1.377602458000183,
          2.3539581298828125,
          2.132140874862671,
          2.8813071250915527
         ]
        },
        {
         "name": 103,
         "showlegend": false,
         "type": "box",
         "y": [
          2.304067611694336,
          1.6580917835235596,
          2.9334187507629395,
          3.087007761001587,
          3.6083528995513916
         ]
        },
        {
         "name": 104,
         "showlegend": false,
         "type": "box",
         "y": [
          2.047429084777832,
          2.106912612915039,
          1.9616079330444336,
          2.0647192001342773,
          2.065183639526367
         ]
        },
        {
         "name": 105,
         "showlegend": false,
         "type": "box",
         "y": [
          0.30472198128700256,
          0.3409881293773651,
          0.275699257850647,
          0.30077216029167175,
          0.28037944436073303
         ]
        },
        {
         "name": 106,
         "showlegend": false,
         "type": "box",
         "y": [
          0.7456718683242798,
          0.6107578277587891,
          0.9685989022254944,
          0.6942847967147827,
          0.7523198127746582
         ]
        },
        {
         "name": 107,
         "showlegend": false,
         "type": "box",
         "y": [
          0.263445645570755,
          0.26342812180519104,
          0.2624715268611908,
          0.2634340822696686,
          0.2635142505168915
         ]
        },
        {
         "name": 108,
         "showlegend": false,
         "type": "box",
         "y": [
          4.02204704284668,
          3.0487656593322754,
          4.9937520027160645,
          3.8420908451080322,
          4.73739767074585
         ]
        },
        {
         "name": 109,
         "showlegend": false,
         "type": "box",
         "y": [
          1.5455739498138428,
          1.7774959802627563,
          1.4220755100250244,
          1.5566456317901611,
          1.26796555519104
         ]
        },
        {
         "name": 110,
         "showlegend": false,
         "type": "box",
         "y": [
          0.3364839255809784,
          0.22977003455162048,
          0.37763458490371704,
          0.3521924912929535,
          0.46805307269096375
         ]
        },
        {
         "name": 111,
         "showlegend": false,
         "type": "box",
         "y": [
          1.3200567960739136,
          1.5056849718093872,
          1.3673980236053467,
          1.4205694198608398,
          1.2489560842514038
         ]
        },
        {
         "name": 112,
         "showlegend": false,
         "type": "box",
         "y": [
          0.8060528039932251,
          0.5285049080848694,
          0.9265382885932922,
          0.6861620545387268,
          0.9647998213768005
         ]
        },
        {
         "name": 113,
         "showlegend": false,
         "type": "box",
         "y": [
          0.9834043383598328,
          0.502970278263092,
          1.0795923471450806,
          0.7170683741569519,
          1.2396913766860962
         ]
        },
        {
         "name": 114,
         "showlegend": false,
         "type": "box",
         "y": [
          4.142127990722656,
          4.247593879699707,
          4.1465325355529785,
          4.247078895568848,
          4.203451633453369
         ]
        },
        {
         "name": 115,
         "showlegend": false,
         "type": "box",
         "y": [
          2.9108550548553467,
          2.9602086544036865,
          3.007547378540039,
          2.938143491744995,
          2.5915932655334473
         ]
        },
        {
         "name": 116,
         "showlegend": false,
         "type": "box",
         "y": [
          1.05329430103302,
          0.5690087676048279,
          0.8622534871101379,
          0.6478104591369629,
          1.7089439630508423
         ]
        },
        {
         "name": 117,
         "showlegend": false,
         "type": "box",
         "y": [
          0.5753616094589233,
          0.5896450281143188,
          0.585838258266449,
          0.5963553786277771,
          0.5806109309196472
         ]
        },
        {
         "name": 118,
         "showlegend": false,
         "type": "box",
         "y": [
          0.6327786445617676,
          0.6195248961448669,
          0.6010563969612122,
          0.5852989554405212,
          0.8295801281929016
         ]
        },
        {
         "name": 119,
         "showlegend": false,
         "type": "box",
         "y": [
          1.1088037490844727,
          0.7756314277648926,
          0.8812265396118164,
          0.8533902168273926,
          1.2304902076721191
         ]
        },
        {
         "name": 120,
         "showlegend": false,
         "type": "box",
         "y": [
          0.45650798082351685,
          0.5243796110153198,
          0.4988458454608917,
          0.5089990496635437,
          0.3159436285495758
         ]
        },
        {
         "name": 121,
         "showlegend": false,
         "type": "box",
         "y": [
          0.5365486741065979,
          0.629591703414917,
          0.6060764193534851,
          0.6363509893417358,
          0.29936280846595764
         ]
        },
        {
         "name": 122,
         "showlegend": false,
         "type": "box",
         "y": [
          1.9684512615203857,
          1.447965383529663,
          1.5846893787384033,
          1.4093679189682007,
          3.4146125316619873
         ]
        },
        {
         "name": 123,
         "showlegend": false,
         "type": "box",
         "y": [
          3.415278911590576,
          3.4441113471984863,
          3.4380269050598145,
          3.4782097339630127,
          3.345759391784668
         ]
        },
        {
         "name": 124,
         "showlegend": false,
         "type": "box",
         "y": [
          4.245682239532471,
          4.187538146972656,
          4.314019680023193,
          4.1478705406188965,
          4.876669406890869
         ]
        },
        {
         "name": 125,
         "showlegend": false,
         "type": "box",
         "y": [
          3.9916582107543945,
          2.737368583679199,
          2.881484031677246,
          3.28560733795166,
          7.782336235046387
         ]
        },
        {
         "name": 126,
         "showlegend": false,
         "type": "box",
         "y": [
          5.966124057769775,
          4.761129856109619,
          4.91945219039917,
          4.918592929840088,
          8.704103469848633
         ]
        },
        {
         "name": 127,
         "showlegend": false,
         "type": "box",
         "y": [
          2.133486032485962,
          1.2225083112716675,
          1.1384118795394897,
          1.0870838165283203,
          3.8296854496002197
         ]
        },
        {
         "name": 128,
         "showlegend": false,
         "type": "box",
         "y": [
          1.1509599685668945,
          1.349959373474121,
          1.37701416015625,
          1.3750486373901367,
          0.8068304061889648
         ]
        },
        {
         "name": 129,
         "showlegend": false,
         "type": "box",
         "y": [
          2.8911337852478027,
          2.166231632232666,
          2.0233731269836426,
          2.0580618381500244,
          4.012621879577637
         ]
        },
        {
         "name": 130,
         "showlegend": false,
         "type": "box",
         "y": [
          1.0229202508926392,
          0.8772951364517212,
          0.8803281188011169,
          0.8164916634559631,
          1.6853605508804321
         ]
        },
        {
         "name": 131,
         "showlegend": false,
         "type": "box",
         "y": [
          0.3524988889694214,
          0.3574434816837311,
          0.359018474817276,
          0.35791710019111633,
          0.3450535237789154
         ]
        },
        {
         "name": 132,
         "showlegend": false,
         "type": "box",
         "y": [
          2.952333927154541,
          2.265326738357544,
          2.0299744606018066,
          2.201516628265381,
          3.9513139724731445
         ]
        },
        {
         "name": 133,
         "showlegend": false,
         "type": "box",
         "y": [
          0.17853093147277832,
          0.10166394710540771,
          0.0788184404373169,
          0.10134267807006836,
          0.29043054580688477
         ]
        },
        {
         "name": 134,
         "showlegend": false,
         "type": "box",
         "y": [
          0.25751155614852905,
          0.29682865738868713,
          0.3145248591899872,
          0.3007396161556244,
          0.20297810435295105
         ]
        },
        {
         "name": 135,
         "showlegend": false,
         "type": "box",
         "y": [
          0.4024002254009247,
          0.41400596499443054,
          0.41921696066856384,
          0.41623011231422424,
          0.37927404046058655
         ]
        },
        {
         "name": 136,
         "showlegend": false,
         "type": "box",
         "y": [
          0.19209972023963928,
          0.1882719248533249,
          0.16519364714622498,
          0.15308034420013428,
          0.175109401345253
         ]
        },
        {
         "name": 137,
         "showlegend": false,
         "type": "box",
         "y": [
          0.2015533298254013,
          0.14304354786872864,
          0.13225211203098297,
          0.1377408355474472,
          0.36397668719291687
         ]
        },
        {
         "mode": "lines",
         "name": "mean",
         "type": "scatter",
         "x": [
          0,
          1,
          2,
          3,
          4,
          5,
          6,
          7,
          8,
          9,
          10,
          11,
          12,
          13,
          14,
          15,
          16,
          17,
          18,
          19,
          20,
          21,
          22,
          23,
          24,
          25,
          26,
          27,
          28,
          29,
          30,
          31,
          32,
          33,
          34,
          35,
          36,
          37,
          38,
          39,
          40,
          41,
          42,
          43,
          44,
          45,
          46,
          47,
          48,
          49,
          50,
          51,
          52,
          53,
          54,
          55,
          56,
          57,
          58,
          59,
          60,
          61,
          62,
          63,
          64,
          65,
          66,
          67,
          68,
          69,
          70,
          71,
          72,
          73,
          74,
          75,
          76,
          77,
          78,
          79,
          80,
          81,
          82,
          83,
          84,
          85,
          86,
          87,
          88,
          89,
          90,
          91,
          92,
          93,
          94,
          95,
          96,
          97,
          98,
          99,
          100,
          101,
          102,
          103,
          104,
          105,
          106,
          107,
          108,
          109,
          110,
          111,
          112,
          113,
          114,
          115,
          116,
          117,
          118,
          119,
          120,
          121,
          122,
          123,
          124,
          125,
          126,
          127,
          128,
          129,
          130,
          131,
          132,
          133,
          134,
          135,
          136,
          137
         ],
         "y": [
          0.5212969779968262,
          3.9730873107910156,
          0.735360860824585,
          0.21471922099590302,
          1.3808372020721436,
          1.4419666528701782,
          0.9285225868225098,
          8.871342658996582,
          4.702068328857422,
          2.2501540184020996,
          1.49259614944458,
          2.692790985107422,
          2.715325355529785,
          5.503694534301758,
          3.8669142723083496,
          1.2511823177337646,
          10.135986328125,
          1.684220552444458,
          8.942548751831055,
          0.5289658308029175,
          2.590453624725342,
          1.668235182762146,
          1.1365063190460205,
          0.905643105506897,
          1.8839881420135498,
          1.7669422626495361,
          4.272984504699707,
          2.0675101280212402,
          2.692924976348877,
          5.240851402282715,
          2.467154026031494,
          3.0636470317840576,
          4.783560276031494,
          3.460514545440674,
          4.691100120544434,
          6.948591709136963,
          2.061220169067383,
          0.6193459630012512,
          2.2949442863464355,
          5.387223720550537,
          2.6361453533172607,
          0.8011759519577026,
          0.3329194188117981,
          0.9061405062675476,
          1.0554676055908203,
          0.29110246896743774,
          0.19333074986934662,
          1.8216394186019897,
          7.289862632751465,
          44.08399200439453,
          8.303203582763672,
          7.720738887786865,
          99.35909271240234,
          1.8704969882965088,
          5.040703773498535,
          46.94687271118164,
          6.2957892417907715,
          3.7834911346435547,
          2.0713322162628174,
          1.0820822715759277,
          2.0752344131469727,
          3.8890628814697266,
          2.7782294750213623,
          8.738604545593262,
          0.943454921245575,
          6.102046012878418,
          6.098994255065918,
          0.6481920480728149,
          1.0920791625976562,
          8.842546463012695,
          3.1520748138427734,
          0.668073832988739,
          0.843640148639679,
          0.40483006834983826,
          0.32168012857437134,
          3.2092697620391846,
          2.110680341720581,
          1.3958384990692139,
          0.31038108468055725,
          1.7015959024429321,
          0.22955355048179626,
          0.20578935742378235,
          0.14987438917160034,
          0.835577130317688,
          0.1724291741847992,
          0.4724704325199127,
          0.3232000172138214,
          2.125067710876465,
          2.7049307823181152,
          0.7473464012145996,
          1.2368688583374023,
          0.9858695864677429,
          1.6018747091293335,
          0.18189987540245056,
          0.07267715036869049,
          0.10586796700954437,
          0.25761139392852783,
          0.26564955711364746,
          1.4851163625717163,
          1.1443302631378174,
          13.19054889678955,
          0.41698914766311646,
          2.0607829093933105,
          2.7181878089904785,
          2.04917049407959,
          0.3005121946334839,
          0.7543266415596008,
          0.2632587254047394,
          4.128810405731201,
          1.513951301574707,
          0.3528268337249756,
          1.3725330829620361,
          0.7824115753173828,
          0.9045454263687134,
          4.197356700897217,
          2.881669521331787,
          0.9682621955871582,
          0.5855622887611389,
          0.653647780418396,
          0.9699084162712097,
          0.4609352648258209,
          0.54158616065979,
          1.965017318725586,
          3.4242770671844482,
          4.354355812072754,
          4.135691165924072,
          5.853880405426025,
          1.8822351694107056,
          1.2119624614715576,
          2.630284547805786,
          1.0564792156219482,
          0.35438627004623413,
          2.680093288421631,
          0.15015730261802673,
          0.27451658248901367,
          0.40622544288635254,
          0.17475099861621857,
          0.19571331143379211
         ]
        }
       ],
       "layout": {
        "title": "Distribution of cross-validation RMSE for each athlete",
        "xaxis": {
         "title": "Athletes"
        },
        "yaxis": {
         "title": "RMSE"
        }
       }
      },
      "text/html": [
       "<div id=\"59f18b4e-74f0-4fc3-93bf-b34351ad97cf\" style=\"height: 525px; width: 100%;\" class=\"plotly-graph-div\"></div><script type=\"text/javascript\">require([\"plotly\"], function(Plotly) { window.PLOTLYENV=window.PLOTLYENV || {};window.PLOTLYENV.BASE_URL=\"https://plot.ly\";Plotly.newPlot(\"59f18b4e-74f0-4fc3-93bf-b34351ad97cf\", [{\"type\": \"box\", \"y\": [0.5127440094947815, 0.49713462591171265, 0.5446692109107971, 0.5338245034217834, 0.5181125402450562], \"name\": 0, \"showlegend\": false}, {\"type\": \"box\", \"y\": [3.9253363609313965, 4.045283317565918, 3.992337703704834, 3.8863189220428467, 4.0161590576171875], \"name\": 1, \"showlegend\": false}, {\"type\": \"box\", \"y\": [0.7366691827774048, 0.7678040862083435, 0.7368605136871338, 0.6981301307678223, 0.7373403906822205], \"name\": 2, \"showlegend\": false}, {\"type\": \"box\", \"y\": [0.1854756474494934, 0.23877757787704468, 0.21552632749080658, 0.18421262502670288, 0.2496039718389511], \"name\": 3, \"showlegend\": false}, {\"type\": \"box\", \"y\": [1.3939491510391235, 1.395199179649353, 1.4053750038146973, 1.2813633680343628, 1.428298830986023], \"name\": 4, \"showlegend\": false}, {\"type\": \"box\", \"y\": [1.5542473793029785, 1.4346604347229004, 1.498367428779602, 1.296710729598999, 1.4258469343185425], \"name\": 5, \"showlegend\": false}, {\"type\": \"box\", \"y\": [1.0067631006240845, 0.9318755269050598, 0.9660253524780273, 0.7826513051986694, 0.9552976489067078], \"name\": 6, \"showlegend\": false}, {\"type\": \"box\", \"y\": [8.927999496459961, 8.886480331420898, 8.943012237548828, 8.667093276977539, 8.932129859924316], \"name\": 7, \"showlegend\": false}, {\"type\": \"box\", \"y\": [4.7419514656066895, 4.756822109222412, 4.731139659881592, 4.446896553039551, 4.833530902862549], \"name\": 8, \"showlegend\": false}, {\"type\": \"box\", \"y\": [2.2629284858703613, 2.2602224349975586, 2.377943754196167, 1.927453875541687, 2.42222261428833], \"name\": 9, \"showlegend\": false}, {\"type\": \"box\", \"y\": [1.4371122121810913, 1.4492305517196655, 1.5797522068023682, 1.487296462059021, 1.5095893144607544], \"name\": 10, \"showlegend\": false}, {\"type\": \"box\", \"y\": [1.3091392517089844, 1.7627496719360352, 6.642712116241455, 2.8108925819396973, 0.9384610056877136], \"name\": 11, \"showlegend\": false}, {\"type\": \"box\", \"y\": [2.396562099456787, 2.5814120769500732, 3.229495048522949, 2.884988784790039, 2.4841692447662354], \"name\": 12, \"showlegend\": false}, {\"type\": \"box\", \"y\": [5.141416072845459, 4.401957035064697, 7.184009075164795, 6.081287384033203, 4.709802150726318], \"name\": 13, \"showlegend\": false}, {\"type\": \"box\", \"y\": [3.730882167816162, 3.517343282699585, 4.8940863609313965, 3.7280690670013428, 3.464191436767578], \"name\": 14, \"showlegend\": false}, {\"type\": \"box\", \"y\": [1.01615571975708, 0.6423392295837402, 2.4957196712493896, 1.275460958480835, 0.8262357115745544], \"name\": 15, \"showlegend\": false}, {\"type\": \"box\", \"y\": [7.9388580322265625, 7.014042377471924, 14.389581680297852, 13.096887588500977, 8.240561485290527], \"name\": 16, \"showlegend\": false}, {\"type\": \"box\", \"y\": [1.6411148309707642, 1.4804587364196777, 1.9283167123794556, 1.791286587715149, 1.5799261331558228], \"name\": 17, \"showlegend\": false}, {\"type\": \"box\", \"y\": [8.587761878967285, 7.022830009460449, 11.209203720092773, 9.910582542419434, 7.98236608505249], \"name\": 18, \"showlegend\": false}, {\"type\": \"box\", \"y\": [0.5178519487380981, 0.4279698133468628, 0.6548058986663818, 0.5736503601074219, 0.47055116295814514], \"name\": 19, \"showlegend\": false}, {\"type\": \"box\", \"y\": [2.7130165100097656, 1.956430435180664, 3.4693048000335693, 2.196514368057251, 2.61700177192688], \"name\": 20, \"showlegend\": false}, {\"type\": \"box\", \"y\": [1.91542649269104, 0.8627150654792786, 2.400439977645874, 1.2554165124893188, 1.907178282737732], \"name\": 21, \"showlegend\": false}, {\"type\": \"box\", \"y\": [1.4555246829986572, 0.5329428315162659, 1.585721731185913, 0.9578037261962891, 1.150538444519043], \"name\": 22, \"showlegend\": false}, {\"type\": \"box\", \"y\": [0.9437929391860962, 0.7806974053382874, 1.1064820289611816, 0.8039926886558533, 0.8932502269744873], \"name\": 23, \"showlegend\": false}, {\"type\": \"box\", \"y\": [1.8892650604248047, 1.8790092468261719, 1.890742301940918, 1.8769922256469727, 1.883932113647461], \"name\": 24, \"showlegend\": false}, {\"type\": \"box\", \"y\": [1.5535929203033447, 1.499282956123352, 2.7623212337493896, 1.1810200214385986, 1.838493824005127], \"name\": 25, \"showlegend\": false}, {\"type\": \"box\", \"y\": [4.051871299743652, 4.1684722900390625, 5.109941005706787, 3.654780864715576, 4.379858016967773], \"name\": 26, \"showlegend\": false}, {\"type\": \"box\", \"y\": [1.8361644744873047, 1.841668963432312, 2.7957851886749268, 1.8836404085159302, 1.9802918434143066], \"name\": 27, \"showlegend\": false}, {\"type\": \"box\", \"y\": [2.5498580932617188, 1.3414479494094849, 4.127262592315674, 2.8514273166656494, 2.5946295261383057], \"name\": 28, \"showlegend\": false}, {\"type\": \"box\", \"y\": [4.90792989730835, 4.245893478393555, 6.938735008239746, 5.6329240798950195, 4.478775978088379], \"name\": 29, \"showlegend\": false}, {\"type\": \"box\", \"y\": [2.3806095123291016, 2.1583054065704346, 2.8311500549316406, 2.67057204246521, 2.295132875442505], \"name\": 30, \"showlegend\": false}, {\"type\": \"box\", \"y\": [3.014472484588623, 2.948655605316162, 3.245272397994995, 3.136007308959961, 2.9738268852233887], \"name\": 31, \"showlegend\": false}, {\"type\": \"box\", \"y\": [4.383946895599365, 4.9006218910217285, 5.187825679779053, 4.975137233734131, 4.4702677726745605], \"name\": 32, \"showlegend\": false}, {\"type\": \"box\", \"y\": [2.8905694484710693, 3.784708261489868, 4.145033359527588, 3.5408143997192383, 2.9414472579956055], \"name\": 33, \"showlegend\": false}, {\"type\": \"box\", \"y\": [4.111414909362793, 5.142325401306152, 5.555026531219482, 4.759469509124756, 3.8872623443603516], \"name\": 34, \"showlegend\": false}, {\"type\": \"box\", \"y\": [5.332510471343994, 7.32075834274292, 10.97047233581543, 6.263606071472168, 4.855611801147461], \"name\": 35, \"showlegend\": false}, {\"type\": \"box\", \"y\": [1.8973082304000854, 2.0392024517059326, 2.214069366455078, 2.1211800575256348, 2.0343410968780518], \"name\": 36, \"showlegend\": false}, {\"type\": \"box\", \"y\": [0.518440842628479, 0.4705810248851776, 1.2321875095367432, 0.45753610134124756, 0.4179840683937073], \"name\": 37, \"showlegend\": false}, {\"type\": \"box\", \"y\": [2.2702524662017822, 1.797894835472107, 2.9995415210723877, 1.9041497707366943, 2.502882719039917], \"name\": 38, \"showlegend\": false}, {\"type\": \"box\", \"y\": [4.8031816482543945, 5.004103660583496, 7.112420558929443, 4.8541717529296875, 5.1622419357299805], \"name\": 39, \"showlegend\": false}, {\"type\": \"box\", \"y\": [2.5405402183532715, 2.3264331817626953, 3.5735886096954346, 2.137097120285034, 2.6030678749084473], \"name\": 40, \"showlegend\": false}, {\"type\": \"box\", \"y\": [0.6398261189460754, 0.5817120671272278, 1.931322455406189, 0.3341788351535797, 0.5188403725624084], \"name\": 41, \"showlegend\": false}, {\"type\": \"box\", \"y\": [0.14906740188598633, 0.32550016045570374, 0.6179856657981873, 0.4097347855567932, 0.162308931350708], \"name\": 42, \"showlegend\": false}, {\"type\": \"box\", \"y\": [0.44843974709510803, 0.6500431299209595, 1.835447072982788, 0.8450338840484619, 0.751738965511322], \"name\": 43, \"showlegend\": false}, {\"type\": \"box\", \"y\": [0.9107117652893066, 0.8382114171981812, 1.5503190755844116, 0.5493826270103455, 1.428713321685791], \"name\": 44, \"showlegend\": false}, {\"type\": \"box\", \"y\": [0.2973039448261261, 0.2580755352973938, 0.27932244539260864, 0.42098158597946167, 0.19982875883579254], \"name\": 45, \"showlegend\": false}, {\"type\": \"box\", \"y\": [0.1213715448975563, 0.12016582489013672, 0.21290627121925354, 0.11694186180830002, 0.3952682614326477], \"name\": 46, \"showlegend\": false}, {\"type\": \"box\", \"y\": [1.822458267211914, 1.4330724477767944, 2.392655849456787, 1.7673989534378052, 1.692611813545227], \"name\": 47, \"showlegend\": false}, {\"type\": \"box\", \"y\": [7.436074733734131, 7.4839911460876465, 7.287511825561523, 7.410130023956299, 6.831606864929199], \"name\": 48, \"showlegend\": false}, {\"type\": \"box\", \"y\": [36.644737243652344, 34.703433990478516, 56.25734329223633, 32.29558563232422, 60.51885986328125], \"name\": 49, \"showlegend\": false}, {\"type\": \"box\", \"y\": [6.646724700927734, 6.3415398597717285, 10.906278610229492, 5.931679725646973, 11.689796447753906], \"name\": 50, \"showlegend\": false}, {\"type\": \"box\", \"y\": [5.999489784240723, 4.418909549713135, 10.84142780303955, 5.2151923179626465, 12.128674507141113], \"name\": 51, \"showlegend\": false}, {\"type\": \"box\", \"y\": [87.30691528320312, 72.75067138671875, 130.31495666503906, 74.0021743774414, 132.42074584960938], \"name\": 52, \"showlegend\": false}, {\"type\": \"box\", \"y\": [1.4846278429031372, 0.5972123742103577, 3.0013985633850098, 0.9218327403068542, 3.3474133014678955], \"name\": 53, \"showlegend\": false}, {\"type\": \"box\", \"y\": [4.0710625648498535, 1.4745382070541382, 7.774592399597168, 2.9211010932922363, 8.962223052978516], \"name\": 54, \"showlegend\": false}, {\"type\": \"box\", \"y\": [40.50795364379883, 29.502971649169922, 51.528926849365234, 37.66424560546875, 75.53025817871094], \"name\": 55, \"showlegend\": false}, {\"type\": \"box\", \"y\": [6.439462661743164, 6.726443290710449, 6.1590800285339355, 6.472449779510498, 5.681511402130127], \"name\": 56, \"showlegend\": false}, {\"type\": \"box\", \"y\": [3.03105092048645, 2.157252788543701, 4.436056137084961, 3.0938327312469482, 6.199262619018555], \"name\": 57, \"showlegend\": false}, {\"type\": \"box\", \"y\": [0.9305375814437866, 0.9702902436256409, 1.8826261758804321, 1.184550166130066, 5.388656139373779], \"name\": 58, \"showlegend\": false}, {\"type\": \"box\", \"y\": [0.44067350029945374, 0.4696016013622284, 1.0074366331100464, 0.5440526604652405, 2.9486470222473145], \"name\": 59, \"showlegend\": false}, {\"type\": \"box\", \"y\": [1.210006833076477, 1.2569410800933838, 2.1190707683563232, 1.1835652589797974, 4.606588363647461], \"name\": 60, \"showlegend\": false}, {\"type\": \"box\", \"y\": [2.6136980056762695, 1.0021919012069702, 4.689505577087402, 2.5673751831054688, 8.57254409790039], \"name\": 61, \"showlegend\": false}, {\"type\": \"box\", \"y\": [1.7174861431121826, 0.5397814512252808, 3.1269147396087646, 1.6738008260726929, 6.833164215087891], \"name\": 62, \"showlegend\": false}, {\"type\": \"box\", \"y\": [7.055370807647705, 5.2710795402526855, 9.091862678527832, 6.990118503570557, 15.284592628479004], \"name\": 63, \"showlegend\": false}, {\"type\": \"box\", \"y\": [0.7071338295936584, 0.3717010021209717, 1.0200966596603394, 0.7758342027664185, 1.8425090312957764], \"name\": 64, \"showlegend\": false}, {\"type\": \"box\", \"y\": [4.5199198722839355, 2.0671913623809814, 6.785526752471924, 5.020468711853027, 12.117120742797852], \"name\": 65, \"showlegend\": false}, {\"type\": \"box\", \"y\": [4.834611415863037, 2.514779567718506, 6.752462387084961, 5.0633745193481445, 11.329744338989258], \"name\": 66, \"showlegend\": false}, {\"type\": \"box\", \"y\": [0.41630542278289795, 0.14729687571525574, 0.7124975919723511, 0.38603436946868896, 1.5788257122039795], \"name\": 67, \"showlegend\": false}, {\"type\": \"box\", \"y\": [0.9285604953765869, 0.6542225480079651, 1.1419367790222168, 0.9389935731887817, 1.7966821193695068], \"name\": 68, \"showlegend\": false}, {\"type\": \"box\", \"y\": [7.671810626983643, 4.118265628814697, 9.824187278747559, 6.1004180908203125, 16.498048782348633], \"name\": 69, \"showlegend\": false}, {\"type\": \"box\", \"y\": [2.5641324520111084, 1.15781569480896, 3.5622715950012207, 2.0587799549102783, 6.417375087738037], \"name\": 70, \"showlegend\": false}, {\"type\": \"box\", \"y\": [0.5234270095825195, 0.2951084077358246, 1.0157917737960815, 0.4552060067653656, 1.0508359670639038], \"name\": 71, \"showlegend\": false}, {\"type\": \"box\", \"y\": [0.6451849937438965, 0.5117522478103638, 1.7811846733093262, 0.5005025863647461, 0.7795762419700623], \"name\": 72, \"showlegend\": false}, {\"type\": \"box\", \"y\": [0.06145206838846207, 0.08347798138856888, 1.272945761680603, 0.2134857028722763, 0.39278900623321533], \"name\": 73, \"showlegend\": false}, {\"type\": \"box\", \"y\": [0.34563514590263367, 0.3756560981273651, 0.2602978050708771, 0.3319736421108246, 0.2948378622531891], \"name\": 74, \"showlegend\": false}, {\"type\": \"box\", \"y\": [3.2258241176605225, 3.2356059551239014, 3.3333566188812256, 2.867274761199951, 3.384286403656006], \"name\": 75, \"showlegend\": false}, {\"type\": \"box\", \"y\": [2.3136208057403564, 1.9247848987579346, 1.7664613723754883, 2.1781296730041504, 2.3704051971435547], \"name\": 76, \"showlegend\": false}, {\"type\": \"box\", \"y\": [1.2943546772003174, 1.2718619108200073, 1.469228982925415, 1.4690430164337158, 1.4747041463851929], \"name\": 77, \"showlegend\": false}, {\"type\": \"box\", \"y\": [0.7051673531532288, 0.39714422821998596, 0.2634514570236206, 0.12224279344081879, 0.06389949470758438], \"name\": 78, \"showlegend\": false}, {\"type\": \"box\", \"y\": [1.5272597074508667, 1.6903839111328125, 2.0293705463409424, 1.6162965297698975, 1.6446688175201416], \"name\": 79, \"showlegend\": false}, {\"type\": \"box\", \"y\": [0.2369479238986969, 0.251569926738739, 0.2357623279094696, 0.21487382054328918, 0.2086138129234314], \"name\": 80, \"showlegend\": false}, {\"type\": \"box\", \"y\": [0.24137459695339203, 0.14878487586975098, 0.19343991577625275, 0.2653031647205353, 0.18004421889781952], \"name\": 81, \"showlegend\": false}, {\"type\": \"box\", \"y\": [0.16928686201572418, 0.1412571519613266, 0.13504867255687714, 0.17335069179534912, 0.13042853772640228], \"name\": 82, \"showlegend\": false}, {\"type\": \"box\", \"y\": [0.7409005761146545, 0.8633655905723572, 0.9366909265518188, 0.8115282654762268, 0.8254004120826721], \"name\": 83, \"showlegend\": false}, {\"type\": \"box\", \"y\": [0.16176554560661316, 0.18125039339065552, 0.19312773644924164, 0.16263671219348907, 0.16336554288864136], \"name\": 84, \"showlegend\": false}, {\"type\": \"box\", \"y\": [0.700869083404541, 0.322153776884079, 0.23191942274570465, 0.5213013291358948, 0.5861085057258606], \"name\": 85, \"showlegend\": false}, {\"type\": \"box\", \"y\": [0.3151468336582184, 0.31033775210380554, 0.32648321986198425, 0.3252883553504944, 0.33874377608299255], \"name\": 86, \"showlegend\": false}, {\"type\": \"box\", \"y\": [2.061619758605957, 2.6492936611175537, 2.1285831928253174, 1.8241223096847534, 1.961719274520874], \"name\": 87, \"showlegend\": false}, {\"type\": \"box\", \"y\": [3.0374011993408203, 3.1793172359466553, 2.546175003051758, 2.5676825046539307, 2.194077730178833], \"name\": 88, \"showlegend\": false}, {\"type\": \"box\", \"y\": [0.6657913327217102, 0.6308921575546265, 0.7956116199493408, 0.816977858543396, 0.8274587988853455], \"name\": 89, \"showlegend\": false}, {\"type\": \"box\", \"y\": [1.213415265083313, 1.1992100477218628, 1.2296435832977295, 1.2663401365280151, 1.27573561668396], \"name\": 90, \"showlegend\": false}, {\"type\": \"box\", \"y\": [0.733264148235321, 0.691560685634613, 0.9095497727394104, 1.242950677871704, 1.352022647857666], \"name\": 91, \"showlegend\": false}, {\"type\": \"box\", \"y\": [2.231011390686035, 2.251995086669922, 1.695730209350586, 1.0664939880371094, 0.7641429901123047], \"name\": 92, \"showlegend\": false}, {\"type\": \"box\", \"y\": [0.16550277173519135, 0.18475720286369324, 0.17473076283931732, 0.17005577683448792, 0.21445278823375702], \"name\": 93, \"showlegend\": false}, {\"type\": \"box\", \"y\": [0.06285138428211212, 0.0667392909526825, 0.07414830476045609, 0.07928275316953659, 0.08036399632692337], \"name\": 94, \"showlegend\": false}, {\"type\": \"box\", \"y\": [0.1335717737674713, 0.12275964021682739, 0.10209614038467407, 0.0858159288764, 0.0850963369011879], \"name\": 95, \"showlegend\": false}, {\"type\": \"box\", \"y\": [0.47640538215637207, 0.1313786506652832, 0.24247343838214874, 0.26560646295547485, 0.17219306528568268], \"name\": 96, \"showlegend\": false}, {\"type\": \"box\", \"y\": [0.14865323901176453, 0.5335317850112915, 0.14510877430438995, 0.055578187108039856, 0.44537580013275146], \"name\": 97, \"showlegend\": false}, {\"type\": \"box\", \"y\": [1.6397547721862793, 1.5100747346878052, 1.5332159996032715, 1.3256312608718872, 1.416905164718628], \"name\": 98, \"showlegend\": false}, {\"type\": \"box\", \"y\": [1.0910215377807617, 1.2789506912231445, 1.142563819885254, 1.0894261598587036, 1.1196891069412231], \"name\": 99, \"showlegend\": false}, {\"type\": \"box\", \"y\": [13.281391143798828, 13.34184455871582, 13.153916358947754, 13.115755081176758, 13.059836387634277], \"name\": 100, \"showlegend\": false}, {\"type\": \"box\", \"y\": [0.5008131861686707, 0.5449584126472473, 0.3540574312210083, 0.3631664216518402, 0.32195016741752625], \"name\": 101, \"showlegend\": false}, {\"type\": \"box\", \"y\": [1.5589061975479126, 1.377602458000183, 2.3539581298828125, 2.132140874862671, 2.8813071250915527], \"name\": 102, \"showlegend\": false}, {\"type\": \"box\", \"y\": [2.304067611694336, 1.6580917835235596, 2.9334187507629395, 3.087007761001587, 3.6083528995513916], \"name\": 103, \"showlegend\": false}, {\"type\": \"box\", \"y\": [2.047429084777832, 2.106912612915039, 1.9616079330444336, 2.0647192001342773, 2.065183639526367], \"name\": 104, \"showlegend\": false}, {\"type\": \"box\", \"y\": [0.30472198128700256, 0.3409881293773651, 0.275699257850647, 0.30077216029167175, 0.28037944436073303], \"name\": 105, \"showlegend\": false}, {\"type\": \"box\", \"y\": [0.7456718683242798, 0.6107578277587891, 0.9685989022254944, 0.6942847967147827, 0.7523198127746582], \"name\": 106, \"showlegend\": false}, {\"type\": \"box\", \"y\": [0.263445645570755, 0.26342812180519104, 0.2624715268611908, 0.2634340822696686, 0.2635142505168915], \"name\": 107, \"showlegend\": false}, {\"type\": \"box\", \"y\": [4.02204704284668, 3.0487656593322754, 4.9937520027160645, 3.8420908451080322, 4.73739767074585], \"name\": 108, \"showlegend\": false}, {\"type\": \"box\", \"y\": [1.5455739498138428, 1.7774959802627563, 1.4220755100250244, 1.5566456317901611, 1.26796555519104], \"name\": 109, \"showlegend\": false}, {\"type\": \"box\", \"y\": [0.3364839255809784, 0.22977003455162048, 0.37763458490371704, 0.3521924912929535, 0.46805307269096375], \"name\": 110, \"showlegend\": false}, {\"type\": \"box\", \"y\": [1.3200567960739136, 1.5056849718093872, 1.3673980236053467, 1.4205694198608398, 1.2489560842514038], \"name\": 111, \"showlegend\": false}, {\"type\": \"box\", \"y\": [0.8060528039932251, 0.5285049080848694, 0.9265382885932922, 0.6861620545387268, 0.9647998213768005], \"name\": 112, \"showlegend\": false}, {\"type\": \"box\", \"y\": [0.9834043383598328, 0.502970278263092, 1.0795923471450806, 0.7170683741569519, 1.2396913766860962], \"name\": 113, \"showlegend\": false}, {\"type\": \"box\", \"y\": [4.142127990722656, 4.247593879699707, 4.1465325355529785, 4.247078895568848, 4.203451633453369], \"name\": 114, \"showlegend\": false}, {\"type\": \"box\", \"y\": [2.9108550548553467, 2.9602086544036865, 3.007547378540039, 2.938143491744995, 2.5915932655334473], \"name\": 115, \"showlegend\": false}, {\"type\": \"box\", \"y\": [1.05329430103302, 0.5690087676048279, 0.8622534871101379, 0.6478104591369629, 1.7089439630508423], \"name\": 116, \"showlegend\": false}, {\"type\": \"box\", \"y\": [0.5753616094589233, 0.5896450281143188, 0.585838258266449, 0.5963553786277771, 0.5806109309196472], \"name\": 117, \"showlegend\": false}, {\"type\": \"box\", \"y\": [0.6327786445617676, 0.6195248961448669, 0.6010563969612122, 0.5852989554405212, 0.8295801281929016], \"name\": 118, \"showlegend\": false}, {\"type\": \"box\", \"y\": [1.1088037490844727, 0.7756314277648926, 0.8812265396118164, 0.8533902168273926, 1.2304902076721191], \"name\": 119, \"showlegend\": false}, {\"type\": \"box\", \"y\": [0.45650798082351685, 0.5243796110153198, 0.4988458454608917, 0.5089990496635437, 0.3159436285495758], \"name\": 120, \"showlegend\": false}, {\"type\": \"box\", \"y\": [0.5365486741065979, 0.629591703414917, 0.6060764193534851, 0.6363509893417358, 0.29936280846595764], \"name\": 121, \"showlegend\": false}, {\"type\": \"box\", \"y\": [1.9684512615203857, 1.447965383529663, 1.5846893787384033, 1.4093679189682007, 3.4146125316619873], \"name\": 122, \"showlegend\": false}, {\"type\": \"box\", \"y\": [3.415278911590576, 3.4441113471984863, 3.4380269050598145, 3.4782097339630127, 3.345759391784668], \"name\": 123, \"showlegend\": false}, {\"type\": \"box\", \"y\": [4.245682239532471, 4.187538146972656, 4.314019680023193, 4.1478705406188965, 4.876669406890869], \"name\": 124, \"showlegend\": false}, {\"type\": \"box\", \"y\": [3.9916582107543945, 2.737368583679199, 2.881484031677246, 3.28560733795166, 7.782336235046387], \"name\": 125, \"showlegend\": false}, {\"type\": \"box\", \"y\": [5.966124057769775, 4.761129856109619, 4.91945219039917, 4.918592929840088, 8.704103469848633], \"name\": 126, \"showlegend\": false}, {\"type\": \"box\", \"y\": [2.133486032485962, 1.2225083112716675, 1.1384118795394897, 1.0870838165283203, 3.8296854496002197], \"name\": 127, \"showlegend\": false}, {\"type\": \"box\", \"y\": [1.1509599685668945, 1.349959373474121, 1.37701416015625, 1.3750486373901367, 0.8068304061889648], \"name\": 128, \"showlegend\": false}, {\"type\": \"box\", \"y\": [2.8911337852478027, 2.166231632232666, 2.0233731269836426, 2.0580618381500244, 4.012621879577637], \"name\": 129, \"showlegend\": false}, {\"type\": \"box\", \"y\": [1.0229202508926392, 0.8772951364517212, 0.8803281188011169, 0.8164916634559631, 1.6853605508804321], \"name\": 130, \"showlegend\": false}, {\"type\": \"box\", \"y\": [0.3524988889694214, 0.3574434816837311, 0.359018474817276, 0.35791710019111633, 0.3450535237789154], \"name\": 131, \"showlegend\": false}, {\"type\": \"box\", \"y\": [2.952333927154541, 2.265326738357544, 2.0299744606018066, 2.201516628265381, 3.9513139724731445], \"name\": 132, \"showlegend\": false}, {\"type\": \"box\", \"y\": [0.17853093147277832, 0.10166394710540771, 0.0788184404373169, 0.10134267807006836, 0.29043054580688477], \"name\": 133, \"showlegend\": false}, {\"type\": \"box\", \"y\": [0.25751155614852905, 0.29682865738868713, 0.3145248591899872, 0.3007396161556244, 0.20297810435295105], \"name\": 134, \"showlegend\": false}, {\"type\": \"box\", \"y\": [0.4024002254009247, 0.41400596499443054, 0.41921696066856384, 0.41623011231422424, 0.37927404046058655], \"name\": 135, \"showlegend\": false}, {\"type\": \"box\", \"y\": [0.19209972023963928, 0.1882719248533249, 0.16519364714622498, 0.15308034420013428, 0.175109401345253], \"name\": 136, \"showlegend\": false}, {\"type\": \"box\", \"y\": [0.2015533298254013, 0.14304354786872864, 0.13225211203098297, 0.1377408355474472, 0.36397668719291687], \"name\": 137, \"showlegend\": false}, {\"type\": \"scatter\", \"x\": [0, 1, 2, 3, 4, 5, 6, 7, 8, 9, 10, 11, 12, 13, 14, 15, 16, 17, 18, 19, 20, 21, 22, 23, 24, 25, 26, 27, 28, 29, 30, 31, 32, 33, 34, 35, 36, 37, 38, 39, 40, 41, 42, 43, 44, 45, 46, 47, 48, 49, 50, 51, 52, 53, 54, 55, 56, 57, 58, 59, 60, 61, 62, 63, 64, 65, 66, 67, 68, 69, 70, 71, 72, 73, 74, 75, 76, 77, 78, 79, 80, 81, 82, 83, 84, 85, 86, 87, 88, 89, 90, 91, 92, 93, 94, 95, 96, 97, 98, 99, 100, 101, 102, 103, 104, 105, 106, 107, 108, 109, 110, 111, 112, 113, 114, 115, 116, 117, 118, 119, 120, 121, 122, 123, 124, 125, 126, 127, 128, 129, 130, 131, 132, 133, 134, 135, 136, 137], \"y\": [0.5212969779968262, 3.9730873107910156, 0.735360860824585, 0.21471922099590302, 1.3808372020721436, 1.4419666528701782, 0.9285225868225098, 8.871342658996582, 4.702068328857422, 2.2501540184020996, 1.49259614944458, 2.692790985107422, 2.715325355529785, 5.503694534301758, 3.8669142723083496, 1.2511823177337646, 10.135986328125, 1.684220552444458, 8.942548751831055, 0.5289658308029175, 2.590453624725342, 1.668235182762146, 1.1365063190460205, 0.905643105506897, 1.8839881420135498, 1.7669422626495361, 4.272984504699707, 2.0675101280212402, 2.692924976348877, 5.240851402282715, 2.467154026031494, 3.0636470317840576, 4.783560276031494, 3.460514545440674, 4.691100120544434, 6.948591709136963, 2.061220169067383, 0.6193459630012512, 2.2949442863464355, 5.387223720550537, 2.6361453533172607, 0.8011759519577026, 0.3329194188117981, 0.9061405062675476, 1.0554676055908203, 0.29110246896743774, 0.19333074986934662, 1.8216394186019897, 7.289862632751465, 44.08399200439453, 8.303203582763672, 7.720738887786865, 99.35909271240234, 1.8704969882965088, 5.040703773498535, 46.94687271118164, 6.2957892417907715, 3.7834911346435547, 2.0713322162628174, 1.0820822715759277, 2.0752344131469727, 3.8890628814697266, 2.7782294750213623, 8.738604545593262, 0.943454921245575, 6.102046012878418, 6.098994255065918, 0.6481920480728149, 1.0920791625976562, 8.842546463012695, 3.1520748138427734, 0.668073832988739, 0.843640148639679, 0.40483006834983826, 0.32168012857437134, 3.2092697620391846, 2.110680341720581, 1.3958384990692139, 0.31038108468055725, 1.7015959024429321, 0.22955355048179626, 0.20578935742378235, 0.14987438917160034, 0.835577130317688, 0.1724291741847992, 0.4724704325199127, 0.3232000172138214, 2.125067710876465, 2.7049307823181152, 0.7473464012145996, 1.2368688583374023, 0.9858695864677429, 1.6018747091293335, 0.18189987540245056, 0.07267715036869049, 0.10586796700954437, 0.25761139392852783, 0.26564955711364746, 1.4851163625717163, 1.1443302631378174, 13.19054889678955, 0.41698914766311646, 2.0607829093933105, 2.7181878089904785, 2.04917049407959, 0.3005121946334839, 0.7543266415596008, 0.2632587254047394, 4.128810405731201, 1.513951301574707, 0.3528268337249756, 1.3725330829620361, 0.7824115753173828, 0.9045454263687134, 4.197356700897217, 2.881669521331787, 0.9682621955871582, 0.5855622887611389, 0.653647780418396, 0.9699084162712097, 0.4609352648258209, 0.54158616065979, 1.965017318725586, 3.4242770671844482, 4.354355812072754, 4.135691165924072, 5.853880405426025, 1.8822351694107056, 1.2119624614715576, 2.630284547805786, 1.0564792156219482, 0.35438627004623413, 2.680093288421631, 0.15015730261802673, 0.27451658248901367, 0.40622544288635254, 0.17475099861621857, 0.19571331143379211], \"mode\": \"lines\", \"name\": \"mean\"}], {\"title\": \"Distribution of cross-validation RMSE for each athlete\", \"xaxis\": {\"title\": \"Athletes\"}, \"yaxis\": {\"title\": \"RMSE\"}}, {\"showLink\": true, \"linkText\": \"Export to plot.ly\"})});</script>"
      ],
      "text/vnd.plotly.v1+html": [
       "<div id=\"59f18b4e-74f0-4fc3-93bf-b34351ad97cf\" style=\"height: 525px; width: 100%;\" class=\"plotly-graph-div\"></div><script type=\"text/javascript\">require([\"plotly\"], function(Plotly) { window.PLOTLYENV=window.PLOTLYENV || {};window.PLOTLYENV.BASE_URL=\"https://plot.ly\";Plotly.newPlot(\"59f18b4e-74f0-4fc3-93bf-b34351ad97cf\", [{\"type\": \"box\", \"y\": [0.5127440094947815, 0.49713462591171265, 0.5446692109107971, 0.5338245034217834, 0.5181125402450562], \"name\": 0, \"showlegend\": false}, {\"type\": \"box\", \"y\": [3.9253363609313965, 4.045283317565918, 3.992337703704834, 3.8863189220428467, 4.0161590576171875], \"name\": 1, \"showlegend\": false}, {\"type\": \"box\", \"y\": [0.7366691827774048, 0.7678040862083435, 0.7368605136871338, 0.6981301307678223, 0.7373403906822205], \"name\": 2, \"showlegend\": false}, {\"type\": \"box\", \"y\": [0.1854756474494934, 0.23877757787704468, 0.21552632749080658, 0.18421262502670288, 0.2496039718389511], \"name\": 3, \"showlegend\": false}, {\"type\": \"box\", \"y\": [1.3939491510391235, 1.395199179649353, 1.4053750038146973, 1.2813633680343628, 1.428298830986023], \"name\": 4, \"showlegend\": false}, {\"type\": \"box\", \"y\": [1.5542473793029785, 1.4346604347229004, 1.498367428779602, 1.296710729598999, 1.4258469343185425], \"name\": 5, \"showlegend\": false}, {\"type\": \"box\", \"y\": [1.0067631006240845, 0.9318755269050598, 0.9660253524780273, 0.7826513051986694, 0.9552976489067078], \"name\": 6, \"showlegend\": false}, {\"type\": \"box\", \"y\": [8.927999496459961, 8.886480331420898, 8.943012237548828, 8.667093276977539, 8.932129859924316], \"name\": 7, \"showlegend\": false}, {\"type\": \"box\", \"y\": [4.7419514656066895, 4.756822109222412, 4.731139659881592, 4.446896553039551, 4.833530902862549], \"name\": 8, \"showlegend\": false}, {\"type\": \"box\", \"y\": [2.2629284858703613, 2.2602224349975586, 2.377943754196167, 1.927453875541687, 2.42222261428833], \"name\": 9, \"showlegend\": false}, {\"type\": \"box\", \"y\": [1.4371122121810913, 1.4492305517196655, 1.5797522068023682, 1.487296462059021, 1.5095893144607544], \"name\": 10, \"showlegend\": false}, {\"type\": \"box\", \"y\": [1.3091392517089844, 1.7627496719360352, 6.642712116241455, 2.8108925819396973, 0.9384610056877136], \"name\": 11, \"showlegend\": false}, {\"type\": \"box\", \"y\": [2.396562099456787, 2.5814120769500732, 3.229495048522949, 2.884988784790039, 2.4841692447662354], \"name\": 12, \"showlegend\": false}, {\"type\": \"box\", \"y\": [5.141416072845459, 4.401957035064697, 7.184009075164795, 6.081287384033203, 4.709802150726318], \"name\": 13, \"showlegend\": false}, {\"type\": \"box\", \"y\": [3.730882167816162, 3.517343282699585, 4.8940863609313965, 3.7280690670013428, 3.464191436767578], \"name\": 14, \"showlegend\": false}, {\"type\": \"box\", \"y\": [1.01615571975708, 0.6423392295837402, 2.4957196712493896, 1.275460958480835, 0.8262357115745544], \"name\": 15, \"showlegend\": false}, {\"type\": \"box\", \"y\": [7.9388580322265625, 7.014042377471924, 14.389581680297852, 13.096887588500977, 8.240561485290527], \"name\": 16, \"showlegend\": false}, {\"type\": \"box\", \"y\": [1.6411148309707642, 1.4804587364196777, 1.9283167123794556, 1.791286587715149, 1.5799261331558228], \"name\": 17, \"showlegend\": false}, {\"type\": \"box\", \"y\": [8.587761878967285, 7.022830009460449, 11.209203720092773, 9.910582542419434, 7.98236608505249], \"name\": 18, \"showlegend\": false}, {\"type\": \"box\", \"y\": [0.5178519487380981, 0.4279698133468628, 0.6548058986663818, 0.5736503601074219, 0.47055116295814514], \"name\": 19, \"showlegend\": false}, {\"type\": \"box\", \"y\": [2.7130165100097656, 1.956430435180664, 3.4693048000335693, 2.196514368057251, 2.61700177192688], \"name\": 20, \"showlegend\": false}, {\"type\": \"box\", \"y\": [1.91542649269104, 0.8627150654792786, 2.400439977645874, 1.2554165124893188, 1.907178282737732], \"name\": 21, \"showlegend\": false}, {\"type\": \"box\", \"y\": [1.4555246829986572, 0.5329428315162659, 1.585721731185913, 0.9578037261962891, 1.150538444519043], \"name\": 22, \"showlegend\": false}, {\"type\": \"box\", \"y\": [0.9437929391860962, 0.7806974053382874, 1.1064820289611816, 0.8039926886558533, 0.8932502269744873], \"name\": 23, \"showlegend\": false}, {\"type\": \"box\", \"y\": [1.8892650604248047, 1.8790092468261719, 1.890742301940918, 1.8769922256469727, 1.883932113647461], \"name\": 24, \"showlegend\": false}, {\"type\": \"box\", \"y\": [1.5535929203033447, 1.499282956123352, 2.7623212337493896, 1.1810200214385986, 1.838493824005127], \"name\": 25, \"showlegend\": false}, {\"type\": \"box\", \"y\": [4.051871299743652, 4.1684722900390625, 5.109941005706787, 3.654780864715576, 4.379858016967773], \"name\": 26, \"showlegend\": false}, {\"type\": \"box\", \"y\": [1.8361644744873047, 1.841668963432312, 2.7957851886749268, 1.8836404085159302, 1.9802918434143066], \"name\": 27, \"showlegend\": false}, {\"type\": \"box\", \"y\": [2.5498580932617188, 1.3414479494094849, 4.127262592315674, 2.8514273166656494, 2.5946295261383057], \"name\": 28, \"showlegend\": false}, {\"type\": \"box\", \"y\": [4.90792989730835, 4.245893478393555, 6.938735008239746, 5.6329240798950195, 4.478775978088379], \"name\": 29, \"showlegend\": false}, {\"type\": \"box\", \"y\": [2.3806095123291016, 2.1583054065704346, 2.8311500549316406, 2.67057204246521, 2.295132875442505], \"name\": 30, \"showlegend\": false}, {\"type\": \"box\", \"y\": [3.014472484588623, 2.948655605316162, 3.245272397994995, 3.136007308959961, 2.9738268852233887], \"name\": 31, \"showlegend\": false}, {\"type\": \"box\", \"y\": [4.383946895599365, 4.9006218910217285, 5.187825679779053, 4.975137233734131, 4.4702677726745605], \"name\": 32, \"showlegend\": false}, {\"type\": \"box\", \"y\": [2.8905694484710693, 3.784708261489868, 4.145033359527588, 3.5408143997192383, 2.9414472579956055], \"name\": 33, \"showlegend\": false}, {\"type\": \"box\", \"y\": [4.111414909362793, 5.142325401306152, 5.555026531219482, 4.759469509124756, 3.8872623443603516], \"name\": 34, \"showlegend\": false}, {\"type\": \"box\", \"y\": [5.332510471343994, 7.32075834274292, 10.97047233581543, 6.263606071472168, 4.855611801147461], \"name\": 35, \"showlegend\": false}, {\"type\": \"box\", \"y\": [1.8973082304000854, 2.0392024517059326, 2.214069366455078, 2.1211800575256348, 2.0343410968780518], \"name\": 36, \"showlegend\": false}, {\"type\": \"box\", \"y\": [0.518440842628479, 0.4705810248851776, 1.2321875095367432, 0.45753610134124756, 0.4179840683937073], \"name\": 37, \"showlegend\": false}, {\"type\": \"box\", \"y\": [2.2702524662017822, 1.797894835472107, 2.9995415210723877, 1.9041497707366943, 2.502882719039917], \"name\": 38, \"showlegend\": false}, {\"type\": \"box\", \"y\": [4.8031816482543945, 5.004103660583496, 7.112420558929443, 4.8541717529296875, 5.1622419357299805], \"name\": 39, \"showlegend\": false}, {\"type\": \"box\", \"y\": [2.5405402183532715, 2.3264331817626953, 3.5735886096954346, 2.137097120285034, 2.6030678749084473], \"name\": 40, \"showlegend\": false}, {\"type\": \"box\", \"y\": [0.6398261189460754, 0.5817120671272278, 1.931322455406189, 0.3341788351535797, 0.5188403725624084], \"name\": 41, \"showlegend\": false}, {\"type\": \"box\", \"y\": [0.14906740188598633, 0.32550016045570374, 0.6179856657981873, 0.4097347855567932, 0.162308931350708], \"name\": 42, \"showlegend\": false}, {\"type\": \"box\", \"y\": [0.44843974709510803, 0.6500431299209595, 1.835447072982788, 0.8450338840484619, 0.751738965511322], \"name\": 43, \"showlegend\": false}, {\"type\": \"box\", \"y\": [0.9107117652893066, 0.8382114171981812, 1.5503190755844116, 0.5493826270103455, 1.428713321685791], \"name\": 44, \"showlegend\": false}, {\"type\": \"box\", \"y\": [0.2973039448261261, 0.2580755352973938, 0.27932244539260864, 0.42098158597946167, 0.19982875883579254], \"name\": 45, \"showlegend\": false}, {\"type\": \"box\", \"y\": [0.1213715448975563, 0.12016582489013672, 0.21290627121925354, 0.11694186180830002, 0.3952682614326477], \"name\": 46, \"showlegend\": false}, {\"type\": \"box\", \"y\": [1.822458267211914, 1.4330724477767944, 2.392655849456787, 1.7673989534378052, 1.692611813545227], \"name\": 47, \"showlegend\": false}, {\"type\": \"box\", \"y\": [7.436074733734131, 7.4839911460876465, 7.287511825561523, 7.410130023956299, 6.831606864929199], \"name\": 48, \"showlegend\": false}, {\"type\": \"box\", \"y\": [36.644737243652344, 34.703433990478516, 56.25734329223633, 32.29558563232422, 60.51885986328125], \"name\": 49, \"showlegend\": false}, {\"type\": \"box\", \"y\": [6.646724700927734, 6.3415398597717285, 10.906278610229492, 5.931679725646973, 11.689796447753906], \"name\": 50, \"showlegend\": false}, {\"type\": \"box\", \"y\": [5.999489784240723, 4.418909549713135, 10.84142780303955, 5.2151923179626465, 12.128674507141113], \"name\": 51, \"showlegend\": false}, {\"type\": \"box\", \"y\": [87.30691528320312, 72.75067138671875, 130.31495666503906, 74.0021743774414, 132.42074584960938], \"name\": 52, \"showlegend\": false}, {\"type\": \"box\", \"y\": [1.4846278429031372, 0.5972123742103577, 3.0013985633850098, 0.9218327403068542, 3.3474133014678955], \"name\": 53, \"showlegend\": false}, {\"type\": \"box\", \"y\": [4.0710625648498535, 1.4745382070541382, 7.774592399597168, 2.9211010932922363, 8.962223052978516], \"name\": 54, \"showlegend\": false}, {\"type\": \"box\", \"y\": [40.50795364379883, 29.502971649169922, 51.528926849365234, 37.66424560546875, 75.53025817871094], \"name\": 55, \"showlegend\": false}, {\"type\": \"box\", \"y\": [6.439462661743164, 6.726443290710449, 6.1590800285339355, 6.472449779510498, 5.681511402130127], \"name\": 56, \"showlegend\": false}, {\"type\": \"box\", \"y\": [3.03105092048645, 2.157252788543701, 4.436056137084961, 3.0938327312469482, 6.199262619018555], \"name\": 57, \"showlegend\": false}, {\"type\": \"box\", \"y\": [0.9305375814437866, 0.9702902436256409, 1.8826261758804321, 1.184550166130066, 5.388656139373779], \"name\": 58, \"showlegend\": false}, {\"type\": \"box\", \"y\": [0.44067350029945374, 0.4696016013622284, 1.0074366331100464, 0.5440526604652405, 2.9486470222473145], \"name\": 59, \"showlegend\": false}, {\"type\": \"box\", \"y\": [1.210006833076477, 1.2569410800933838, 2.1190707683563232, 1.1835652589797974, 4.606588363647461], \"name\": 60, \"showlegend\": false}, {\"type\": \"box\", \"y\": [2.6136980056762695, 1.0021919012069702, 4.689505577087402, 2.5673751831054688, 8.57254409790039], \"name\": 61, \"showlegend\": false}, {\"type\": \"box\", \"y\": [1.7174861431121826, 0.5397814512252808, 3.1269147396087646, 1.6738008260726929, 6.833164215087891], \"name\": 62, \"showlegend\": false}, {\"type\": \"box\", \"y\": [7.055370807647705, 5.2710795402526855, 9.091862678527832, 6.990118503570557, 15.284592628479004], \"name\": 63, \"showlegend\": false}, {\"type\": \"box\", \"y\": [0.7071338295936584, 0.3717010021209717, 1.0200966596603394, 0.7758342027664185, 1.8425090312957764], \"name\": 64, \"showlegend\": false}, {\"type\": \"box\", \"y\": [4.5199198722839355, 2.0671913623809814, 6.785526752471924, 5.020468711853027, 12.117120742797852], \"name\": 65, \"showlegend\": false}, {\"type\": \"box\", \"y\": [4.834611415863037, 2.514779567718506, 6.752462387084961, 5.0633745193481445, 11.329744338989258], \"name\": 66, \"showlegend\": false}, {\"type\": \"box\", \"y\": [0.41630542278289795, 0.14729687571525574, 0.7124975919723511, 0.38603436946868896, 1.5788257122039795], \"name\": 67, \"showlegend\": false}, {\"type\": \"box\", \"y\": [0.9285604953765869, 0.6542225480079651, 1.1419367790222168, 0.9389935731887817, 1.7966821193695068], \"name\": 68, \"showlegend\": false}, {\"type\": \"box\", \"y\": [7.671810626983643, 4.118265628814697, 9.824187278747559, 6.1004180908203125, 16.498048782348633], \"name\": 69, \"showlegend\": false}, {\"type\": \"box\", \"y\": [2.5641324520111084, 1.15781569480896, 3.5622715950012207, 2.0587799549102783, 6.417375087738037], \"name\": 70, \"showlegend\": false}, {\"type\": \"box\", \"y\": [0.5234270095825195, 0.2951084077358246, 1.0157917737960815, 0.4552060067653656, 1.0508359670639038], \"name\": 71, \"showlegend\": false}, {\"type\": \"box\", \"y\": [0.6451849937438965, 0.5117522478103638, 1.7811846733093262, 0.5005025863647461, 0.7795762419700623], \"name\": 72, \"showlegend\": false}, {\"type\": \"box\", \"y\": [0.06145206838846207, 0.08347798138856888, 1.272945761680603, 0.2134857028722763, 0.39278900623321533], \"name\": 73, \"showlegend\": false}, {\"type\": \"box\", \"y\": [0.34563514590263367, 0.3756560981273651, 0.2602978050708771, 0.3319736421108246, 0.2948378622531891], \"name\": 74, \"showlegend\": false}, {\"type\": \"box\", \"y\": [3.2258241176605225, 3.2356059551239014, 3.3333566188812256, 2.867274761199951, 3.384286403656006], \"name\": 75, \"showlegend\": false}, {\"type\": \"box\", \"y\": [2.3136208057403564, 1.9247848987579346, 1.7664613723754883, 2.1781296730041504, 2.3704051971435547], \"name\": 76, \"showlegend\": false}, {\"type\": \"box\", \"y\": [1.2943546772003174, 1.2718619108200073, 1.469228982925415, 1.4690430164337158, 1.4747041463851929], \"name\": 77, \"showlegend\": false}, {\"type\": \"box\", \"y\": [0.7051673531532288, 0.39714422821998596, 0.2634514570236206, 0.12224279344081879, 0.06389949470758438], \"name\": 78, \"showlegend\": false}, {\"type\": \"box\", \"y\": [1.5272597074508667, 1.6903839111328125, 2.0293705463409424, 1.6162965297698975, 1.6446688175201416], \"name\": 79, \"showlegend\": false}, {\"type\": \"box\", \"y\": [0.2369479238986969, 0.251569926738739, 0.2357623279094696, 0.21487382054328918, 0.2086138129234314], \"name\": 80, \"showlegend\": false}, {\"type\": \"box\", \"y\": [0.24137459695339203, 0.14878487586975098, 0.19343991577625275, 0.2653031647205353, 0.18004421889781952], \"name\": 81, \"showlegend\": false}, {\"type\": \"box\", \"y\": [0.16928686201572418, 0.1412571519613266, 0.13504867255687714, 0.17335069179534912, 0.13042853772640228], \"name\": 82, \"showlegend\": false}, {\"type\": \"box\", \"y\": [0.7409005761146545, 0.8633655905723572, 0.9366909265518188, 0.8115282654762268, 0.8254004120826721], \"name\": 83, \"showlegend\": false}, {\"type\": \"box\", \"y\": [0.16176554560661316, 0.18125039339065552, 0.19312773644924164, 0.16263671219348907, 0.16336554288864136], \"name\": 84, \"showlegend\": false}, {\"type\": \"box\", \"y\": [0.700869083404541, 0.322153776884079, 0.23191942274570465, 0.5213013291358948, 0.5861085057258606], \"name\": 85, \"showlegend\": false}, {\"type\": \"box\", \"y\": [0.3151468336582184, 0.31033775210380554, 0.32648321986198425, 0.3252883553504944, 0.33874377608299255], \"name\": 86, \"showlegend\": false}, {\"type\": \"box\", \"y\": [2.061619758605957, 2.6492936611175537, 2.1285831928253174, 1.8241223096847534, 1.961719274520874], \"name\": 87, \"showlegend\": false}, {\"type\": \"box\", \"y\": [3.0374011993408203, 3.1793172359466553, 2.546175003051758, 2.5676825046539307, 2.194077730178833], \"name\": 88, \"showlegend\": false}, {\"type\": \"box\", \"y\": [0.6657913327217102, 0.6308921575546265, 0.7956116199493408, 0.816977858543396, 0.8274587988853455], \"name\": 89, \"showlegend\": false}, {\"type\": \"box\", \"y\": [1.213415265083313, 1.1992100477218628, 1.2296435832977295, 1.2663401365280151, 1.27573561668396], \"name\": 90, \"showlegend\": false}, {\"type\": \"box\", \"y\": [0.733264148235321, 0.691560685634613, 0.9095497727394104, 1.242950677871704, 1.352022647857666], \"name\": 91, \"showlegend\": false}, {\"type\": \"box\", \"y\": [2.231011390686035, 2.251995086669922, 1.695730209350586, 1.0664939880371094, 0.7641429901123047], \"name\": 92, \"showlegend\": false}, {\"type\": \"box\", \"y\": [0.16550277173519135, 0.18475720286369324, 0.17473076283931732, 0.17005577683448792, 0.21445278823375702], \"name\": 93, \"showlegend\": false}, {\"type\": \"box\", \"y\": [0.06285138428211212, 0.0667392909526825, 0.07414830476045609, 0.07928275316953659, 0.08036399632692337], \"name\": 94, \"showlegend\": false}, {\"type\": \"box\", \"y\": [0.1335717737674713, 0.12275964021682739, 0.10209614038467407, 0.0858159288764, 0.0850963369011879], \"name\": 95, \"showlegend\": false}, {\"type\": \"box\", \"y\": [0.47640538215637207, 0.1313786506652832, 0.24247343838214874, 0.26560646295547485, 0.17219306528568268], \"name\": 96, \"showlegend\": false}, {\"type\": \"box\", \"y\": [0.14865323901176453, 0.5335317850112915, 0.14510877430438995, 0.055578187108039856, 0.44537580013275146], \"name\": 97, \"showlegend\": false}, {\"type\": \"box\", \"y\": [1.6397547721862793, 1.5100747346878052, 1.5332159996032715, 1.3256312608718872, 1.416905164718628], \"name\": 98, \"showlegend\": false}, {\"type\": \"box\", \"y\": [1.0910215377807617, 1.2789506912231445, 1.142563819885254, 1.0894261598587036, 1.1196891069412231], \"name\": 99, \"showlegend\": false}, {\"type\": \"box\", \"y\": [13.281391143798828, 13.34184455871582, 13.153916358947754, 13.115755081176758, 13.059836387634277], \"name\": 100, \"showlegend\": false}, {\"type\": \"box\", \"y\": [0.5008131861686707, 0.5449584126472473, 0.3540574312210083, 0.3631664216518402, 0.32195016741752625], \"name\": 101, \"showlegend\": false}, {\"type\": \"box\", \"y\": [1.5589061975479126, 1.377602458000183, 2.3539581298828125, 2.132140874862671, 2.8813071250915527], \"name\": 102, \"showlegend\": false}, {\"type\": \"box\", \"y\": [2.304067611694336, 1.6580917835235596, 2.9334187507629395, 3.087007761001587, 3.6083528995513916], \"name\": 103, \"showlegend\": false}, {\"type\": \"box\", \"y\": [2.047429084777832, 2.106912612915039, 1.9616079330444336, 2.0647192001342773, 2.065183639526367], \"name\": 104, \"showlegend\": false}, {\"type\": \"box\", \"y\": [0.30472198128700256, 0.3409881293773651, 0.275699257850647, 0.30077216029167175, 0.28037944436073303], \"name\": 105, \"showlegend\": false}, {\"type\": \"box\", \"y\": [0.7456718683242798, 0.6107578277587891, 0.9685989022254944, 0.6942847967147827, 0.7523198127746582], \"name\": 106, \"showlegend\": false}, {\"type\": \"box\", \"y\": [0.263445645570755, 0.26342812180519104, 0.2624715268611908, 0.2634340822696686, 0.2635142505168915], \"name\": 107, \"showlegend\": false}, {\"type\": \"box\", \"y\": [4.02204704284668, 3.0487656593322754, 4.9937520027160645, 3.8420908451080322, 4.73739767074585], \"name\": 108, \"showlegend\": false}, {\"type\": \"box\", \"y\": [1.5455739498138428, 1.7774959802627563, 1.4220755100250244, 1.5566456317901611, 1.26796555519104], \"name\": 109, \"showlegend\": false}, {\"type\": \"box\", \"y\": [0.3364839255809784, 0.22977003455162048, 0.37763458490371704, 0.3521924912929535, 0.46805307269096375], \"name\": 110, \"showlegend\": false}, {\"type\": \"box\", \"y\": [1.3200567960739136, 1.5056849718093872, 1.3673980236053467, 1.4205694198608398, 1.2489560842514038], \"name\": 111, \"showlegend\": false}, {\"type\": \"box\", \"y\": [0.8060528039932251, 0.5285049080848694, 0.9265382885932922, 0.6861620545387268, 0.9647998213768005], \"name\": 112, \"showlegend\": false}, {\"type\": \"box\", \"y\": [0.9834043383598328, 0.502970278263092, 1.0795923471450806, 0.7170683741569519, 1.2396913766860962], \"name\": 113, \"showlegend\": false}, {\"type\": \"box\", \"y\": [4.142127990722656, 4.247593879699707, 4.1465325355529785, 4.247078895568848, 4.203451633453369], \"name\": 114, \"showlegend\": false}, {\"type\": \"box\", \"y\": [2.9108550548553467, 2.9602086544036865, 3.007547378540039, 2.938143491744995, 2.5915932655334473], \"name\": 115, \"showlegend\": false}, {\"type\": \"box\", \"y\": [1.05329430103302, 0.5690087676048279, 0.8622534871101379, 0.6478104591369629, 1.7089439630508423], \"name\": 116, \"showlegend\": false}, {\"type\": \"box\", \"y\": [0.5753616094589233, 0.5896450281143188, 0.585838258266449, 0.5963553786277771, 0.5806109309196472], \"name\": 117, \"showlegend\": false}, {\"type\": \"box\", \"y\": [0.6327786445617676, 0.6195248961448669, 0.6010563969612122, 0.5852989554405212, 0.8295801281929016], \"name\": 118, \"showlegend\": false}, {\"type\": \"box\", \"y\": [1.1088037490844727, 0.7756314277648926, 0.8812265396118164, 0.8533902168273926, 1.2304902076721191], \"name\": 119, \"showlegend\": false}, {\"type\": \"box\", \"y\": [0.45650798082351685, 0.5243796110153198, 0.4988458454608917, 0.5089990496635437, 0.3159436285495758], \"name\": 120, \"showlegend\": false}, {\"type\": \"box\", \"y\": [0.5365486741065979, 0.629591703414917, 0.6060764193534851, 0.6363509893417358, 0.29936280846595764], \"name\": 121, \"showlegend\": false}, {\"type\": \"box\", \"y\": [1.9684512615203857, 1.447965383529663, 1.5846893787384033, 1.4093679189682007, 3.4146125316619873], \"name\": 122, \"showlegend\": false}, {\"type\": \"box\", \"y\": [3.415278911590576, 3.4441113471984863, 3.4380269050598145, 3.4782097339630127, 3.345759391784668], \"name\": 123, \"showlegend\": false}, {\"type\": \"box\", \"y\": [4.245682239532471, 4.187538146972656, 4.314019680023193, 4.1478705406188965, 4.876669406890869], \"name\": 124, \"showlegend\": false}, {\"type\": \"box\", \"y\": [3.9916582107543945, 2.737368583679199, 2.881484031677246, 3.28560733795166, 7.782336235046387], \"name\": 125, \"showlegend\": false}, {\"type\": \"box\", \"y\": [5.966124057769775, 4.761129856109619, 4.91945219039917, 4.918592929840088, 8.704103469848633], \"name\": 126, \"showlegend\": false}, {\"type\": \"box\", \"y\": [2.133486032485962, 1.2225083112716675, 1.1384118795394897, 1.0870838165283203, 3.8296854496002197], \"name\": 127, \"showlegend\": false}, {\"type\": \"box\", \"y\": [1.1509599685668945, 1.349959373474121, 1.37701416015625, 1.3750486373901367, 0.8068304061889648], \"name\": 128, \"showlegend\": false}, {\"type\": \"box\", \"y\": [2.8911337852478027, 2.166231632232666, 2.0233731269836426, 2.0580618381500244, 4.012621879577637], \"name\": 129, \"showlegend\": false}, {\"type\": \"box\", \"y\": [1.0229202508926392, 0.8772951364517212, 0.8803281188011169, 0.8164916634559631, 1.6853605508804321], \"name\": 130, \"showlegend\": false}, {\"type\": \"box\", \"y\": [0.3524988889694214, 0.3574434816837311, 0.359018474817276, 0.35791710019111633, 0.3450535237789154], \"name\": 131, \"showlegend\": false}, {\"type\": \"box\", \"y\": [2.952333927154541, 2.265326738357544, 2.0299744606018066, 2.201516628265381, 3.9513139724731445], \"name\": 132, \"showlegend\": false}, {\"type\": \"box\", \"y\": [0.17853093147277832, 0.10166394710540771, 0.0788184404373169, 0.10134267807006836, 0.29043054580688477], \"name\": 133, \"showlegend\": false}, {\"type\": \"box\", \"y\": [0.25751155614852905, 0.29682865738868713, 0.3145248591899872, 0.3007396161556244, 0.20297810435295105], \"name\": 134, \"showlegend\": false}, {\"type\": \"box\", \"y\": [0.4024002254009247, 0.41400596499443054, 0.41921696066856384, 0.41623011231422424, 0.37927404046058655], \"name\": 135, \"showlegend\": false}, {\"type\": \"box\", \"y\": [0.19209972023963928, 0.1882719248533249, 0.16519364714622498, 0.15308034420013428, 0.175109401345253], \"name\": 136, \"showlegend\": false}, {\"type\": \"box\", \"y\": [0.2015533298254013, 0.14304354786872864, 0.13225211203098297, 0.1377408355474472, 0.36397668719291687], \"name\": 137, \"showlegend\": false}, {\"type\": \"scatter\", \"x\": [0, 1, 2, 3, 4, 5, 6, 7, 8, 9, 10, 11, 12, 13, 14, 15, 16, 17, 18, 19, 20, 21, 22, 23, 24, 25, 26, 27, 28, 29, 30, 31, 32, 33, 34, 35, 36, 37, 38, 39, 40, 41, 42, 43, 44, 45, 46, 47, 48, 49, 50, 51, 52, 53, 54, 55, 56, 57, 58, 59, 60, 61, 62, 63, 64, 65, 66, 67, 68, 69, 70, 71, 72, 73, 74, 75, 76, 77, 78, 79, 80, 81, 82, 83, 84, 85, 86, 87, 88, 89, 90, 91, 92, 93, 94, 95, 96, 97, 98, 99, 100, 101, 102, 103, 104, 105, 106, 107, 108, 109, 110, 111, 112, 113, 114, 115, 116, 117, 118, 119, 120, 121, 122, 123, 124, 125, 126, 127, 128, 129, 130, 131, 132, 133, 134, 135, 136, 137], \"y\": [0.5212969779968262, 3.9730873107910156, 0.735360860824585, 0.21471922099590302, 1.3808372020721436, 1.4419666528701782, 0.9285225868225098, 8.871342658996582, 4.702068328857422, 2.2501540184020996, 1.49259614944458, 2.692790985107422, 2.715325355529785, 5.503694534301758, 3.8669142723083496, 1.2511823177337646, 10.135986328125, 1.684220552444458, 8.942548751831055, 0.5289658308029175, 2.590453624725342, 1.668235182762146, 1.1365063190460205, 0.905643105506897, 1.8839881420135498, 1.7669422626495361, 4.272984504699707, 2.0675101280212402, 2.692924976348877, 5.240851402282715, 2.467154026031494, 3.0636470317840576, 4.783560276031494, 3.460514545440674, 4.691100120544434, 6.948591709136963, 2.061220169067383, 0.6193459630012512, 2.2949442863464355, 5.387223720550537, 2.6361453533172607, 0.8011759519577026, 0.3329194188117981, 0.9061405062675476, 1.0554676055908203, 0.29110246896743774, 0.19333074986934662, 1.8216394186019897, 7.289862632751465, 44.08399200439453, 8.303203582763672, 7.720738887786865, 99.35909271240234, 1.8704969882965088, 5.040703773498535, 46.94687271118164, 6.2957892417907715, 3.7834911346435547, 2.0713322162628174, 1.0820822715759277, 2.0752344131469727, 3.8890628814697266, 2.7782294750213623, 8.738604545593262, 0.943454921245575, 6.102046012878418, 6.098994255065918, 0.6481920480728149, 1.0920791625976562, 8.842546463012695, 3.1520748138427734, 0.668073832988739, 0.843640148639679, 0.40483006834983826, 0.32168012857437134, 3.2092697620391846, 2.110680341720581, 1.3958384990692139, 0.31038108468055725, 1.7015959024429321, 0.22955355048179626, 0.20578935742378235, 0.14987438917160034, 0.835577130317688, 0.1724291741847992, 0.4724704325199127, 0.3232000172138214, 2.125067710876465, 2.7049307823181152, 0.7473464012145996, 1.2368688583374023, 0.9858695864677429, 1.6018747091293335, 0.18189987540245056, 0.07267715036869049, 0.10586796700954437, 0.25761139392852783, 0.26564955711364746, 1.4851163625717163, 1.1443302631378174, 13.19054889678955, 0.41698914766311646, 2.0607829093933105, 2.7181878089904785, 2.04917049407959, 0.3005121946334839, 0.7543266415596008, 0.2632587254047394, 4.128810405731201, 1.513951301574707, 0.3528268337249756, 1.3725330829620361, 0.7824115753173828, 0.9045454263687134, 4.197356700897217, 2.881669521331787, 0.9682621955871582, 0.5855622887611389, 0.653647780418396, 0.9699084162712097, 0.4609352648258209, 0.54158616065979, 1.965017318725586, 3.4242770671844482, 4.354355812072754, 4.135691165924072, 5.853880405426025, 1.8822351694107056, 1.2119624614715576, 2.630284547805786, 1.0564792156219482, 0.35438627004623413, 2.680093288421631, 0.15015730261802673, 0.27451658248901367, 0.40622544288635254, 0.17475099861621857, 0.19571331143379211], \"mode\": \"lines\", \"name\": \"mean\"}], {\"title\": \"Distribution of cross-validation RMSE for each athlete\", \"xaxis\": {\"title\": \"Athletes\"}, \"yaxis\": {\"title\": \"RMSE\"}}, {\"showLink\": true, \"linkText\": \"Export to plot.ly\"})});</script>"
      ]
     },
     "metadata": {},
     "output_type": "display_data"
    }
   ],
   "source": [
    "# calculating the RMSE for cross-validation results of each person\n",
    "# the result is a 2D tensor with rows as reapets and columns as persons\n",
    "results = np.nanmean((padded_targetvalues - padded_predictions)**2, axis=2) ** .5\n",
    "\n",
    "# visulizing the results of repeated cross-validation RMSE for each person via a boxplot\n",
    "df = DataFrame(results)\n",
    "plotData = [] \n",
    "for col in df.columns:\n",
    "    plotData.append(go.Box(y= df[col], name=col, showlegend=False)) \n",
    "plotData.append(go.Scatter(x= df.columns, y=df.mean(), mode='lines', name='mean'))\n",
    "\n",
    "layout = dict(title = 'Distribution of cross-validation RMSE for each athlete',\n",
    "              xaxis = dict(title = 'Athletes'),\n",
    "              yaxis = dict(title = 'RMSE'))\n",
    "\n",
    "iplot(dict(data=plotData, layout=layout))"
   ]
  },
  {
   "cell_type": "code",
   "execution_count": 13,
   "metadata": {},
   "outputs": [
    {
     "name": "stdout",
     "output_type": "stream",
     "text": [
      "Total Mean Squared Error: 112.869\n"
     ]
    },
    {
     "data": {
      "text/html": [
       "<div>\n",
       "<style>\n",
       "    .dataframe thead tr:only-child th {\n",
       "        text-align: right;\n",
       "    }\n",
       "\n",
       "    .dataframe thead th {\n",
       "        text-align: left;\n",
       "    }\n",
       "\n",
       "    .dataframe tbody tr th {\n",
       "        vertical-align: top;\n",
       "    }\n",
       "</style>\n",
       "<table border=\"1\" class=\"dataframe\">\n",
       "  <thead>\n",
       "    <tr style=\"text-align: right;\">\n",
       "      <th></th>\n",
       "      <th>0</th>\n",
       "    </tr>\n",
       "  </thead>\n",
       "  <tbody>\n",
       "    <tr>\n",
       "      <th>count</th>\n",
       "      <td>138.000000</td>\n",
       "    </tr>\n",
       "    <tr>\n",
       "      <th>mean</th>\n",
       "      <td>3.689643</td>\n",
       "    </tr>\n",
       "    <tr>\n",
       "      <th>std</th>\n",
       "      <td>9.998981</td>\n",
       "    </tr>\n",
       "    <tr>\n",
       "      <th>min</th>\n",
       "      <td>0.072677</td>\n",
       "    </tr>\n",
       "    <tr>\n",
       "      <th>25%</th>\n",
       "      <td>0.649556</td>\n",
       "    </tr>\n",
       "    <tr>\n",
       "      <th>50%</th>\n",
       "      <td>1.635055</td>\n",
       "    </tr>\n",
       "    <tr>\n",
       "      <th>75%</th>\n",
       "      <td>3.370525</td>\n",
       "    </tr>\n",
       "    <tr>\n",
       "      <th>max</th>\n",
       "      <td>99.359093</td>\n",
       "    </tr>\n",
       "  </tbody>\n",
       "</table>\n",
       "</div>"
      ],
      "text/plain": [
       "                0\n",
       "count  138.000000\n",
       "mean     3.689643\n",
       "std      9.998981\n",
       "min      0.072677\n",
       "25%      0.649556\n",
       "50%      1.635055\n",
       "75%      3.370525\n",
       "max     99.359093"
      ]
     },
     "execution_count": 13,
     "metadata": {},
     "output_type": "execute_result"
    }
   ],
   "source": [
    "# calculating a metric which in some way gives a sense of error in predictions\n",
    "# the RMSEs are summarized by calculating the mean squared of all repeats for all athletes\n",
    "error = np.mean(np.square(np.mean(results, axis=0)))\n",
    "print(\"Total Mean Squared Error:\", error)\n",
    "\n",
    "DataFrame(np.mean(results, axis=0)).describe()"
   ]
  },
  {
   "cell_type": "code",
   "execution_count": 14,
   "metadata": {
    "collapsed": true
   },
   "outputs": [],
   "source": [
    "def show_testosterone(index, show_predictions=True, show_all_features=True):\n",
    "    pid = index_to_pid[index]\n",
    "    layout = dict(title = 'Variation of Tenstosterone Over Samples for Person ({})'.format(pid),\n",
    "              xaxis = dict(title = 'Sample Number'),\n",
    "              yaxis = dict(title = 'Testosterone'))\n",
    "    observations = data[data.index.get_level_values(0) == pid]\n",
    "    plot_data = []\n",
    "    \n",
    "    testosterone = go.Scatter(x=np.arange(len(observations)), y=observations['Testosterone'], name='True Value')\n",
    "    plot_data.append(testosterone)\n",
    "    \n",
    "    if show_all_features:\n",
    "        F2 = go.Scatter(x=np.arange(len(observations)), y=observations['F2'], name='F2')\n",
    "        F3 = go.Scatter(x=np.arange(len(observations)), y=observations['F3'], name='F3')\n",
    "        F4 = go.Scatter(x=np.arange(len(observations)), y=observations['F4'], name='F4')\n",
    "        plot_data.extend([F2, F3, F4])\n",
    "    \n",
    "    # getting the predictions from the first repeat\n",
    "    if show_predictions:\n",
    "        predictions = repeat_predictions[0][index]\n",
    "        pred_index_range = list(range(len(observations)-len(predictions), len(observations)))\n",
    "        testosterone_perds = go.Scatter(x= pred_index_range, y= predictions, name='Predictions')\n",
    "        plot_data.append(testosterone_perds)\n",
    "        \n",
    "    iplot(dict(data = plot_data, layout = layout))"
   ]
  },
  {
   "cell_type": "code",
   "execution_count": 22,
   "metadata": {},
   "outputs": [
    {
     "data": {
      "application/vnd.plotly.v1+json": {
       "data": [
        {
         "name": "True Value",
         "type": "scatter",
         "x": [
          0,
          1,
          2,
          3,
          4,
          5,
          6,
          7,
          8,
          9,
          10,
          11,
          12,
          13,
          14,
          15
         ],
         "y": [
          9.94,
          11.71,
          11.84,
          12.72,
          13.32,
          18.51,
          20.94,
          22.15,
          43.43,
          46.67,
          49.64,
          52.66,
          53.89,
          65.51,
          67.21,
          68.66
         ]
        },
        {
         "name": "Predictions",
         "type": "scatter",
         "x": [
          11,
          12,
          13,
          14,
          15
         ],
         "y": [
          126.1242442059517,
          136.41543385982516,
          140.33634654283526,
          167.52514833927157,
          169.86735050916673
         ]
        }
       ],
       "layout": {
        "title": "Variation of Tenstosterone Over Samples for Person (76)",
        "xaxis": {
         "title": "Sample Number"
        },
        "yaxis": {
         "title": "Testosterone"
        }
       }
      },
      "text/html": [
       "<div id=\"5ef3e35d-408d-49a8-ad2f-490291e076b8\" style=\"height: 525px; width: 100%;\" class=\"plotly-graph-div\"></div><script type=\"text/javascript\">require([\"plotly\"], function(Plotly) { window.PLOTLYENV=window.PLOTLYENV || {};window.PLOTLYENV.BASE_URL=\"https://plot.ly\";Plotly.newPlot(\"5ef3e35d-408d-49a8-ad2f-490291e076b8\", [{\"type\": \"scatter\", \"x\": [0, 1, 2, 3, 4, 5, 6, 7, 8, 9, 10, 11, 12, 13, 14, 15], \"y\": [9.94, 11.71, 11.84, 12.72, 13.32, 18.51, 20.94, 22.15, 43.43, 46.67, 49.64, 52.66, 53.89, 65.51, 67.21, 68.66], \"name\": \"True Value\"}, {\"type\": \"scatter\", \"x\": [11, 12, 13, 14, 15], \"y\": [126.1242442059517, 136.41543385982516, 140.33634654283526, 167.52514833927157, 169.86735050916673], \"name\": \"Predictions\"}], {\"title\": \"Variation of Tenstosterone Over Samples for Person (76)\", \"xaxis\": {\"title\": \"Sample Number\"}, \"yaxis\": {\"title\": \"Testosterone\"}}, {\"showLink\": true, \"linkText\": \"Export to plot.ly\"})});</script>"
      ],
      "text/vnd.plotly.v1+html": [
       "<div id=\"5ef3e35d-408d-49a8-ad2f-490291e076b8\" style=\"height: 525px; width: 100%;\" class=\"plotly-graph-div\"></div><script type=\"text/javascript\">require([\"plotly\"], function(Plotly) { window.PLOTLYENV=window.PLOTLYENV || {};window.PLOTLYENV.BASE_URL=\"https://plot.ly\";Plotly.newPlot(\"5ef3e35d-408d-49a8-ad2f-490291e076b8\", [{\"type\": \"scatter\", \"x\": [0, 1, 2, 3, 4, 5, 6, 7, 8, 9, 10, 11, 12, 13, 14, 15], \"y\": [9.94, 11.71, 11.84, 12.72, 13.32, 18.51, 20.94, 22.15, 43.43, 46.67, 49.64, 52.66, 53.89, 65.51, 67.21, 68.66], \"name\": \"True Value\"}, {\"type\": \"scatter\", \"x\": [11, 12, 13, 14, 15], \"y\": [126.1242442059517, 136.41543385982516, 140.33634654283526, 167.52514833927157, 169.86735050916673], \"name\": \"Predictions\"}], {\"title\": \"Variation of Tenstosterone Over Samples for Person (76)\", \"xaxis\": {\"title\": \"Sample Number\"}, \"yaxis\": {\"title\": \"Testosterone\"}}, {\"showLink\": true, \"linkText\": \"Export to plot.ly\"})});</script>"
      ]
     },
     "metadata": {},
     "output_type": "display_data"
    }
   ],
   "source": [
    "show_testosterone(52, show_all_features=False)"
   ]
  },
  {
   "cell_type": "code",
   "execution_count": 16,
   "metadata": {},
   "outputs": [
    {
     "data": {
      "image/png": "[encoded data removed]",
      "text/plain": [
       "<matplotlib.figure.Figure at 0x7f503442ee48>"
      ]
     },
     "metadata": {},
     "output_type": "display_data"
    }
   ],
   "source": [
    "rng = [range(i * len(p), (i+1) * len(p)) for i, p in enumerate(repeat_losses[0])]\n",
    "\n",
    "flatted_loss = [np.array(person).flatten().tolist() for person in repeat_losses[0]]\n",
    "\n",
    "for i, (p, r) in enumerate(zip(flatted_loss, rng)):\n",
    "    plt.plot(r, p, '-o')\n",
    "    if i > 3:\n",
    "        break"
   ]
  }
 ],
 "metadata": {
  "kernelspec": {
   "display_name": "Python 3",
   "language": "python",
   "name": "python3"
  },
  "language_info": {
   "codemirror_mode": {
    "name": "ipython",
    "version": 3
   },
   "file_extension": ".py",
   "mimetype": "text/x-python",
   "name": "python",
   "nbconvert_exporter": "python",
   "pygments_lexer": "ipython3",
   "version": "3.6.3"
  }
 },
 "nbformat": 4,
 "nbformat_minor": 2
}
