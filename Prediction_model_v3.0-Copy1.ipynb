{
 "cells": [
  {
   "cell_type": "markdown",
   "metadata": {},
   "source": [
    "## Changelog\n",
    "* V2 Implementing forward-walk cross validation for timeseries\n",
    "    * V2.1 Removing other features and training only with lagged testosterone\n",
    "* V3 Using simple regression model"
   ]
  },
  {
   "cell_type": "code",
   "execution_count": 1,
   "metadata": {},
   "outputs": [
    {
     "name": "stderr",
     "output_type": "stream",
     "text": [
      "/home/iss/anaconda3/lib/python3.6/site-packages/h5py/__init__.py:34: FutureWarning: Conversion of the second argument of issubdtype from `float` to `np.floating` is deprecated. In future, it will be treated as `np.float64 == np.dtype(float).type`.\n",
      "  from ._conv import register_converters as _register_converters\n",
      "Using TensorFlow backend.\n",
      "/home/iss/anaconda3/lib/python3.6/importlib/_bootstrap.py:219: RuntimeWarning: compiletime version 3.5 of module 'tensorflow.python.framework.fast_tensor_util' does not match runtime version 3.6\n",
      "  return f(*args, **kwds)\n"
     ]
    },
    {
     "data": {
      "text/html": [
       "<script>requirejs.config({paths: { 'plotly': ['https://cdn.plot.ly/plotly-latest.min']},});if(!window.Plotly) {{require(['plotly'],function(plotly) {window.Plotly=plotly;});}}</script>"
      ],
      "text/vnd.plotly.v1+html": [
       "<script>requirejs.config({paths: { 'plotly': ['https://cdn.plot.ly/plotly-latest.min']},});if(!window.Plotly) {{require(['plotly'],function(plotly) {window.Plotly=plotly;});}}</script>"
      ]
     },
     "metadata": {},
     "output_type": "display_data"
    }
   ],
   "source": [
    "import numpy as np\n",
    "from matplotlib import pyplot as plt\n",
    "\n",
    "import pandas as pd\n",
    "from pandas import DataFrame, Series\n",
    "\n",
    "from sklearn.model_selection import train_test_split\n",
    "from sklearn.preprocessing import MinMaxScaler\n",
    "from sklearn.metrics import mean_squared_error\n",
    "from sklearn.model_selection import TimeSeriesSplit\n",
    "from sklearn.linear_model import LassoCV\n",
    "\n",
    "from keras.layers import Dense, LSTM, SimpleRNN, Masking\n",
    "from keras.models import Sequential\n",
    "from keras.preprocessing.sequence import pad_sequences\n",
    "\n",
    "import plotly.plotly as py\n",
    "import plotly.graph_objs as go\n",
    "from plotly.offline import download_plotlyjs, init_notebook_mode, plot, iplot\n",
    "\n",
    "from tqdm import tqdm_notebook\n",
    "\n",
    "init_notebook_mode(connected=True)\n",
    "%matplotlib inline"
   ]
  },
  {
   "cell_type": "code",
   "execution_count": 2,
   "metadata": {
    "collapsed": true
   },
   "outputs": [],
   "source": [
    "# scale train and test data to [-1, 1]\n",
    "def scale(train, test):\n",
    "    scaler = MinMaxScaler(feature_range=(-1, 1))\n",
    "    scaler = scaler.fit(train)\n",
    "    train_scaled = scaler.transform(train)\n",
    "    test_scaled = scaler.transform(test)\n",
    "    \n",
    "    return scaler, train_scaled, test_scaled\n",
    " \n",
    "# inverse scaling for a forecasted value\n",
    "def invert_scale(scaler, X, yhat):\n",
    "    new_row = [x for x in X] + [yhat]\n",
    "    array = np.array(new_row)\n",
    "    array = array.reshape(1, len(array))\n",
    "    inverted = scaler.inverse_transform(array)\n",
    "    \n",
    "    return inverted[0, -1]"
   ]
  },
  {
   "cell_type": "code",
   "execution_count": 3,
   "metadata": {
    "collapsed": true
   },
   "outputs": [],
   "source": [
    "def timeseries_to_supervised(data):\n",
    "    \"\"\"\n",
    "    Append the lag -1 of the target value (i.e., previous Testosterone value) as a new feature to the data\n",
    "    \n",
    "    Arguments:\n",
    "        data: a dataframe containing Testosterone and other features\n",
    "    \"\"\"\n",
    "\n",
    "    new_df = DataFrame()\n",
    "    for pIndex, features in data.groupby(\"Person\"):\n",
    "        copy_features = features.copy()\n",
    "        copy_features['y'] = features.Testosterone.shift(-1)\n",
    "        copy_features.drop(copy_features.index[len(features) - 1], inplace=True)\n",
    "        new_df = pd.concat([new_df, copy_features])\n",
    "    \n",
    "    return new_df"
   ]
  },
  {
   "cell_type": "code",
   "execution_count": 4,
   "metadata": {
    "collapsed": true
   },
   "outputs": [],
   "source": [
    "def prepare_dataset(data, to_supervised=True, as_dataframe=False, testosterone_only=False):\n",
    "    \"\"\"\n",
    "    Returns a dataframe or array of athletes with a 2D indexing where the first index corresponds to the athlete's Id\n",
    "    and the second index corresponds to the observation (timestep) Id.\n",
    "    \n",
    "    Arguments:\n",
    "        to_supervised: if True a column with -1 lag values of Testosterone columns is added as the future target values\n",
    "    \"\"\"\n",
    "      \n",
    "    # adding seq_ix to data\n",
    "    seq_ix = [list(np.arange(i)) for i in data.groupby(\"Person\").size().values]\n",
    "    seq_ix = [item for sub in seq_ix for item in sub]\n",
    "    data.index = pd.MultiIndex.from_arrays([data.index.values, seq_ix], names=['Person', 'seq_ix'])\n",
    "    # impute missing values\n",
    "    data.fillna(method='pad', inplace=True)\n",
    "    \n",
    "    \n",
    "    if to_supervised:\n",
    "        data = timeseries_to_supervised(data)\n",
    "    \n",
    "    if testosterone_only:\n",
    "        data = data[['Testosterone', 'y']]\n",
    "    \n",
    "    if as_dataframe:\n",
    "        return data\n",
    "    \n",
    "    \n",
    "    # convert to numpy 3D array\n",
    "    data_array = [person.values for pId, person in data.groupby('Person')]\n",
    "    \n",
    "    return data_array"
   ]
  },
  {
   "cell_type": "code",
   "execution_count": 5,
   "metadata": {
    "collapsed": true
   },
   "outputs": [],
   "source": [
    "#defining callbacks\n",
    "from keras.callbacks import EarlyStopping, TensorBoard\n",
    "tensorboard_callback = TensorBoard(log_dir=\"./logs/2_LSTM_100_run26_maskingLayer_scaled_batch2\" , histogram_freq=1, batch_size=1)\n",
    "earlystopping_callback = EarlyStopping(min_delta=.001 , patience=20, mode='min', verbose=1)"
   ]
  },
  {
   "cell_type": "markdown",
   "metadata": {},
   "source": [
    "### Creating walk-forward dataset for robust validation"
   ]
  },
  {
   "cell_type": "code",
   "execution_count": 6,
   "metadata": {
    "collapsed": true
   },
   "outputs": [],
   "source": [
    "def get_model(batch_size, nb_features, neurons):\n",
    "    \n",
    "    model = Sequential()\n",
    "    model.add(LSTM(neurons, return_sequences=True, batch_input_shape=(batch_size, 1, nb_features), stateful=True))\n",
    "    model.add(LSTM(neurons, stateful=True))\n",
    "    model.add(Dense(1))\n",
    "    model.compile(loss='mean_squared_error', optimizer='adam')\n",
    "    \n",
    "    return model\n",
    "\n",
    "# Fit LSTM model\n",
    "def fit_model(model, train, batch_size, updates):\n",
    "    \"\"\"\n",
    "    :param train: a 2D numpy array containing all the observation (timesteps) of one athlete as rows. The last column contains the future value of Testosterone (i.e., target column).\n",
    "    \"\"\"\n",
    "    X_train = train[:, 0:-1]\n",
    "    X_train = X_train.reshape(X_train.shape[0], 1, X_train.shape[1])\n",
    "    y_train = train[:, -1]\n",
    "    \n",
    "    losses = []\n",
    "    for i in range(updates):\n",
    "        history = model.fit(X_train, y_train, epochs=1, batch_size=batch_size, verbose=0, shuffle=False)\n",
    "        losses.append(history.history['loss'])\n",
    "        model.reset_states()\n",
    "    \n",
    "    return model, losses\n",
    "\n",
    "# make a one-step forecast\n",
    "def forecast_lstm(model, X_test, batch_size):\n",
    "    \n",
    "    X_test = X_test.reshape(1, 1, len(X_test))\n",
    "    \n",
    "    yhat = model.predict(X_test, batch_size=batch_size)\n",
    "\n",
    "    return yhat[0,0]"
   ]
  },
  {
   "cell_type": "code",
   "execution_count": 7,
   "metadata": {
    "collapsed": true
   },
   "outputs": [],
   "source": [
    "# run a repeated experiment\n",
    "def experiment(data, repeats, epochs, updates, batch_size):\n",
    "    nb_features = data[0].shape[1] -1 # -1 since the last column is target value\n",
    "    \n",
    "    repeat_predictions = []\n",
    "    repeat_targetvalues = []\n",
    "    repeat_losses = []\n",
    "    for r in tqdm_notebook(range(repeats), desc=\"Repeat\"):\n",
    "        persons_predictions = []\n",
    "        persons_targetvalues = []\n",
    "        persons_losses = []\n",
    "        \n",
    "        # fit the base model\n",
    "        model = get_model(batch_size, nb_features, 100)\n",
    "        \n",
    "        for person in tqdm_notebook(data, desc=\"Athlete\"):\n",
    "            \n",
    "            train, test = train_test_split(person, test_size=.33, shuffle=False)\n",
    "            scaler, scaled_train, scaled_test = scale(train, test)\n",
    "            model, losses = fit_model(model, scaled_train, 1, epochs)\n",
    "            \n",
    "            predictions = list()\n",
    "            for i in range(len(scaled_test)):\n",
    "                # update model\n",
    "                if i > 0:\n",
    "                    model, updated_losses = fit_model(model, updated_train, 1, updates)\n",
    "                    losses.extend(updated_losses)\n",
    "                X_test = scaled_test[i, 0:-1]\n",
    "                # predict\n",
    "                yhat = forecast_lstm(model, X_test, 1)        \n",
    "                # invert scaling\n",
    "                yhat = invert_scale(scaler, X_test, yhat)\n",
    "                # store forecast\n",
    "                predictions.append(yhat)\n",
    "                # add to training set\n",
    "                updated_train = np.concatenate((scaled_train, scaled_test[i,:].reshape(1, -1)))\n",
    "            \n",
    "            persons_losses.append(losses)\n",
    "            persons_predictions.append(predictions)\n",
    "            persons_targetvalues.append(test[:, -1].tolist())\n",
    "        \n",
    "        repeat_losses.append(persons_losses)    \n",
    "        repeat_predictions.append(persons_predictions)\n",
    "        repeat_targetvalues.append(persons_targetvalues)\n",
    "    \n",
    "    return repeat_losses, repeat_predictions, repeat_targetvalues"
   ]
  },
  {
   "cell_type": "code",
   "execution_count": 8,
   "metadata": {},
   "outputs": [
    {
     "name": "stdout",
     "output_type": "stream",
     "text": [
      "70 persons removed!\n"
     ]
    }
   ],
   "source": [
    "data = DataFrame.from_csv(\"./testosterone_levels.csv\")\n",
    "\n",
    "# drop persons with sequence length less than 5\n",
    "small_seqs = data.groupby(\"Person\").size() < 6\n",
    "small_seqs_indices = small_seqs[small_seqs == True].index\n",
    "data = data.drop(small_seqs_indices)\n",
    "print(\"%d persons removed!\" % len(small_seqs_indices))\n",
    "\n",
    "index_to_pid = dict(list(zip(range(len(data.index.unique())), data.index.unique().values)))\n",
    "pid_to_index = dict(list(zip(data.index.unique().values, range(len(data.index.unique())))))"
   ]
  },
  {
   "cell_type": "code",
   "execution_count": 10,
   "metadata": {
    "collapsed": true
   },
   "outputs": [],
   "source": [
    "prepared_data = prepare_dataset(data, testosterone_only=True)"
   ]
  },
  {
   "cell_type": "code",
   "execution_count": 11,
   "metadata": {},
   "outputs": [
    {
     "data": {
      "application/vnd.jupyter.widget-view+json": {
       "model_id": "e536da492b99480099859513e7644dc1",
       "version_major": 2,
       "version_minor": 0
      },
      "text/plain": [
       "A Jupyter Widget"
      ]
     },
     "metadata": {},
     "output_type": "display_data"
    },
    {
     "data": {
      "application/vnd.jupyter.widget-view+json": {
       "model_id": "a243be5097134b43aa02710446b438e4",
       "version_major": 2,
       "version_minor": 0
      },
      "text/plain": [
       "A Jupyter Widget"
      ]
     },
     "metadata": {},
     "output_type": "display_data"
    },
    {
     "name": "stdout",
     "output_type": "stream",
     "text": [
      "\n"
     ]
    }
   ],
   "source": [
    "repeat_losses, repeat_predictions, repeat_targetvalues = experiment(prepared_data, 1, 30, 10, 1)"
   ]
  },
  {
   "cell_type": "markdown",
   "metadata": {},
   "source": [
    "# Model evaluation and other visualization"
   ]
  },
  {
   "cell_type": "markdown",
   "metadata": {},
   "source": [
    "## Investigating model RMSE per athlete"
   ]
  },
  {
   "cell_type": "code",
   "execution_count": 12,
   "metadata": {
    "collapsed": true
   },
   "outputs": [],
   "source": [
    "padded_predictions = np.array([pad_sequences(persons_predictions , dtype=np.float32, value=np.nan) for persons_predictions in repeat_predictions])\n",
    "padded_targetvalues = np.array([pad_sequences(persons_targetvalues , dtype=np.float32) for persons_targetvalues in repeat_targetvalues])"
   ]
  },
  {
   "cell_type": "code",
   "execution_count": 13,
   "metadata": {},
   "outputs": [
    {
     "data": {
      "application/vnd.plotly.v1+json": {
       "data": [
        {
         "name": 0,
         "showlegend": false,
         "type": "box",
         "y": [
          0.9553214907646179
         ]
        },
        {
         "name": 1,
         "showlegend": false,
         "type": "box",
         "y": [
          5.516781806945801
         ]
        },
        {
         "name": 2,
         "showlegend": false,
         "type": "box",
         "y": [
          1.164878487586975
         ]
        },
        {
         "name": 3,
         "showlegend": false,
         "type": "box",
         "y": [
          1.2662409543991089
         ]
        },
        {
         "name": 4,
         "showlegend": false,
         "type": "box",
         "y": [
          1.79677152633667
         ]
        },
        {
         "name": 5,
         "showlegend": false,
         "type": "box",
         "y": [
          2.867542028427124
         ]
        },
        {
         "name": 6,
         "showlegend": false,
         "type": "box",
         "y": [
          1.7036164999008179
         ]
        },
        {
         "name": 7,
         "showlegend": false,
         "type": "box",
         "y": [
          9.977118492126465
         ]
        },
        {
         "name": 8,
         "showlegend": false,
         "type": "box",
         "y": [
          5.523670673370361
         ]
        },
        {
         "name": 9,
         "showlegend": false,
         "type": "box",
         "y": [
          3.4676098823547363
         ]
        },
        {
         "name": 10,
         "showlegend": false,
         "type": "box",
         "y": [
          1.9065749645233154
         ]
        },
        {
         "name": 11,
         "showlegend": false,
         "type": "box",
         "y": [
          8.205559730529785
         ]
        },
        {
         "name": 12,
         "showlegend": false,
         "type": "box",
         "y": [
          2.704810857772827
         ]
        },
        {
         "name": 13,
         "showlegend": false,
         "type": "box",
         "y": [
          5.017646789550781
         ]
        },
        {
         "name": 14,
         "showlegend": false,
         "type": "box",
         "y": [
          3.3878910541534424
         ]
        },
        {
         "name": 15,
         "showlegend": false,
         "type": "box",
         "y": [
          0.4972291588783264
         ]
        },
        {
         "name": 16,
         "showlegend": false,
         "type": "box",
         "y": [
          4.90435266494751
         ]
        },
        {
         "name": 17,
         "showlegend": false,
         "type": "box",
         "y": [
          1.7670365571975708
         ]
        },
        {
         "name": 18,
         "showlegend": false,
         "type": "box",
         "y": [
          8.957016944885254
         ]
        },
        {
         "name": 19,
         "showlegend": false,
         "type": "box",
         "y": [
          0.5434967279434204
         ]
        },
        {
         "name": 20,
         "showlegend": false,
         "type": "box",
         "y": [
          2.2866475582122803
         ]
        },
        {
         "name": 21,
         "showlegend": false,
         "type": "box",
         "y": [
          1.343038558959961
         ]
        },
        {
         "name": 22,
         "showlegend": false,
         "type": "box",
         "y": [
          2.7815279960632324
         ]
        },
        {
         "name": 23,
         "showlegend": false,
         "type": "box",
         "y": [
          0.9903106093406677
         ]
        },
        {
         "name": 24,
         "showlegend": false,
         "type": "box",
         "y": [
          2.2503955364227295
         ]
        },
        {
         "name": 25,
         "showlegend": false,
         "type": "box",
         "y": [
          4.7128705978393555
         ]
        },
        {
         "name": 26,
         "showlegend": false,
         "type": "box",
         "y": [
          2.0456199645996094
         ]
        },
        {
         "name": 27,
         "showlegend": false,
         "type": "box",
         "y": [
          2.2866902351379395
         ]
        },
        {
         "name": 28,
         "showlegend": false,
         "type": "box",
         "y": [
          5.885847568511963
         ]
        },
        {
         "name": 29,
         "showlegend": false,
         "type": "box",
         "y": [
          2.489142417907715
         ]
        },
        {
         "name": 30,
         "showlegend": false,
         "type": "box",
         "y": [
          2.959676504135132
         ]
        },
        {
         "name": 31,
         "showlegend": false,
         "type": "box",
         "y": [
          4.8328986167907715
         ]
        },
        {
         "name": 32,
         "showlegend": false,
         "type": "box",
         "y": [
          3.446887731552124
         ]
        },
        {
         "name": 33,
         "showlegend": false,
         "type": "box",
         "y": [
          4.283139228820801
         ]
        },
        {
         "name": 34,
         "showlegend": false,
         "type": "box",
         "y": [
          5.851202964782715
         ]
        },
        {
         "name": 35,
         "showlegend": false,
         "type": "box",
         "y": [
          2.439220905303955
         ]
        },
        {
         "name": 36,
         "showlegend": false,
         "type": "box",
         "y": [
          0.4242435097694397
         ]
        },
        {
         "name": 37,
         "showlegend": false,
         "type": "box",
         "y": [
          2.7070505619049072
         ]
        },
        {
         "name": 38,
         "showlegend": false,
         "type": "box",
         "y": [
          3.159240484237671
         ]
        },
        {
         "name": 39,
         "showlegend": false,
         "type": "box",
         "y": [
          2.194298505783081
         ]
        },
        {
         "name": 40,
         "showlegend": false,
         "type": "box",
         "y": [
          0.7222126722335815
         ]
        },
        {
         "name": 41,
         "showlegend": false,
         "type": "box",
         "y": [
          0.861629068851471
         ]
        },
        {
         "name": 42,
         "showlegend": false,
         "type": "box",
         "y": [
          2.1615612506866455
         ]
        },
        {
         "name": 43,
         "showlegend": false,
         "type": "box",
         "y": [
          0.36541491746902466
         ]
        },
        {
         "name": 44,
         "showlegend": false,
         "type": "box",
         "y": [
          0.8740753531455994
         ]
        },
        {
         "name": 45,
         "showlegend": false,
         "type": "box",
         "y": [
          0.6477288603782654
         ]
        },
        {
         "name": 46,
         "showlegend": false,
         "type": "box",
         "y": [
          1.0369373559951782
         ]
        },
        {
         "name": 47,
         "showlegend": false,
         "type": "box",
         "y": [
          6.4187164306640625
         ]
        },
        {
         "name": 48,
         "showlegend": false,
         "type": "box",
         "y": [
          1.9600268602371216
         ]
        },
        {
         "name": 49,
         "showlegend": false,
         "type": "box",
         "y": [
          1.5361409187316895
         ]
        },
        {
         "name": 50,
         "showlegend": false,
         "type": "box",
         "y": [
          24.71023941040039
         ]
        },
        {
         "name": 51,
         "showlegend": false,
         "type": "box",
         "y": [
          0.7337299585342407
         ]
        },
        {
         "name": 52,
         "showlegend": false,
         "type": "box",
         "y": [
          0.7883961200714111
         ]
        },
        {
         "name": 53,
         "showlegend": false,
         "type": "box",
         "y": [
          11.56623649597168
         ]
        },
        {
         "name": 54,
         "showlegend": false,
         "type": "box",
         "y": [
          7.316478252410889
         ]
        },
        {
         "name": 55,
         "showlegend": false,
         "type": "box",
         "y": [
          0.8753640055656433
         ]
        },
        {
         "name": 56,
         "showlegend": false,
         "type": "box",
         "y": [
          0.6245090961456299
         ]
        },
        {
         "name": 57,
         "showlegend": false,
         "type": "box",
         "y": [
          1.5065327882766724
         ]
        },
        {
         "name": 58,
         "showlegend": false,
         "type": "box",
         "y": [
          2.008582353591919
         ]
        },
        {
         "name": 59,
         "showlegend": false,
         "type": "box",
         "y": [
          0.4120097756385803
         ]
        },
        {
         "name": 60,
         "showlegend": false,
         "type": "box",
         "y": [
          4.097634792327881
         ]
        },
        {
         "name": 61,
         "showlegend": false,
         "type": "box",
         "y": [
          0.18566106259822845
         ]
        },
        {
         "name": 62,
         "showlegend": false,
         "type": "box",
         "y": [
          1.6119563579559326
         ]
        },
        {
         "name": 63,
         "showlegend": false,
         "type": "box",
         "y": [
          1.7692937850952148
         ]
        },
        {
         "name": 64,
         "showlegend": false,
         "type": "box",
         "y": [
          0.2399096041917801
         ]
        },
        {
         "name": 65,
         "showlegend": false,
         "type": "box",
         "y": [
          0.6968292593955994
         ]
        },
        {
         "name": 66,
         "showlegend": false,
         "type": "box",
         "y": [
          2.7283031940460205
         ]
        },
        {
         "name": 67,
         "showlegend": false,
         "type": "box",
         "y": [
          0.6320377588272095
         ]
        },
        {
         "mode": "lines",
         "name": "mean",
         "type": "scatter",
         "x": [
          0,
          1,
          2,
          3,
          4,
          5,
          6,
          7,
          8,
          9,
          10,
          11,
          12,
          13,
          14,
          15,
          16,
          17,
          18,
          19,
          20,
          21,
          22,
          23,
          24,
          25,
          26,
          27,
          28,
          29,
          30,
          31,
          32,
          33,
          34,
          35,
          36,
          37,
          38,
          39,
          40,
          41,
          42,
          43,
          44,
          45,
          46,
          47,
          48,
          49,
          50,
          51,
          52,
          53,
          54,
          55,
          56,
          57,
          58,
          59,
          60,
          61,
          62,
          63,
          64,
          65,
          66,
          67
         ],
         "y": [
          0.9553214907646179,
          5.516781806945801,
          1.164878487586975,
          1.2662409543991089,
          1.79677152633667,
          2.867542028427124,
          1.7036164999008179,
          9.977118492126465,
          5.523670673370361,
          3.4676098823547363,
          1.9065749645233154,
          8.205559730529785,
          2.704810857772827,
          5.017646789550781,
          3.3878910541534424,
          0.4972291588783264,
          4.90435266494751,
          1.7670365571975708,
          8.957016944885254,
          0.5434967279434204,
          2.2866475582122803,
          1.343038558959961,
          2.7815279960632324,
          0.9903106093406677,
          2.2503955364227295,
          4.7128705978393555,
          2.0456199645996094,
          2.2866902351379395,
          5.885847568511963,
          2.489142417907715,
          2.959676504135132,
          4.8328986167907715,
          3.446887731552124,
          4.283139228820801,
          5.851202964782715,
          2.439220905303955,
          0.4242435097694397,
          2.7070505619049072,
          3.159240484237671,
          2.194298505783081,
          0.7222126722335815,
          0.861629068851471,
          2.1615612506866455,
          0.36541491746902466,
          0.8740753531455994,
          0.6477288603782654,
          1.0369373559951782,
          6.4187164306640625,
          1.9600268602371216,
          1.5361409187316895,
          24.71023941040039,
          0.7337299585342407,
          0.7883961200714111,
          11.56623649597168,
          7.316478252410889,
          0.8753640055656433,
          0.6245090961456299,
          1.5065327882766724,
          2.008582353591919,
          0.4120097756385803,
          4.097634792327881,
          0.18566106259822845,
          1.6119563579559326,
          1.7692937850952148,
          0.2399096041917801,
          0.6968292593955994,
          2.7283031940460205,
          0.6320377588272095
         ]
        }
       ],
       "layout": {
        "title": "Distribution of cross-validation RMSE for each athlete",
        "xaxis": {
         "title": "Athletes"
        },
        "yaxis": {
         "title": "RMSE"
        }
       }
      },
      "text/html": [
       "<div id=\"f3139eb0-06be-4b6a-bc5c-ca2efae103cd\" style=\"height: 525px; width: 100%;\" class=\"plotly-graph-div\"></div><script type=\"text/javascript\">require([\"plotly\"], function(Plotly) { window.PLOTLYENV=window.PLOTLYENV || {};window.PLOTLYENV.BASE_URL=\"https://plot.ly\";Plotly.newPlot(\"f3139eb0-06be-4b6a-bc5c-ca2efae103cd\", [{\"type\": \"box\", \"y\": [0.9553214907646179], \"name\": 0, \"showlegend\": false}, {\"type\": \"box\", \"y\": [5.516781806945801], \"name\": 1, \"showlegend\": false}, {\"type\": \"box\", \"y\": [1.164878487586975], \"name\": 2, \"showlegend\": false}, {\"type\": \"box\", \"y\": [1.2662409543991089], \"name\": 3, \"showlegend\": false}, {\"type\": \"box\", \"y\": [1.79677152633667], \"name\": 4, \"showlegend\": false}, {\"type\": \"box\", \"y\": [2.867542028427124], \"name\": 5, \"showlegend\": false}, {\"type\": \"box\", \"y\": [1.7036164999008179], \"name\": 6, \"showlegend\": false}, {\"type\": \"box\", \"y\": [9.977118492126465], \"name\": 7, \"showlegend\": false}, {\"type\": \"box\", \"y\": [5.523670673370361], \"name\": 8, \"showlegend\": false}, {\"type\": \"box\", \"y\": [3.4676098823547363], \"name\": 9, \"showlegend\": false}, {\"type\": \"box\", \"y\": [1.9065749645233154], \"name\": 10, \"showlegend\": false}, {\"type\": \"box\", \"y\": [8.205559730529785], \"name\": 11, \"showlegend\": false}, {\"type\": \"box\", \"y\": [2.704810857772827], \"name\": 12, \"showlegend\": false}, {\"type\": \"box\", \"y\": [5.017646789550781], \"name\": 13, \"showlegend\": false}, {\"type\": \"box\", \"y\": [3.3878910541534424], \"name\": 14, \"showlegend\": false}, {\"type\": \"box\", \"y\": [0.4972291588783264], \"name\": 15, \"showlegend\": false}, {\"type\": \"box\", \"y\": [4.90435266494751], \"name\": 16, \"showlegend\": false}, {\"type\": \"box\", \"y\": [1.7670365571975708], \"name\": 17, \"showlegend\": false}, {\"type\": \"box\", \"y\": [8.957016944885254], \"name\": 18, \"showlegend\": false}, {\"type\": \"box\", \"y\": [0.5434967279434204], \"name\": 19, \"showlegend\": false}, {\"type\": \"box\", \"y\": [2.2866475582122803], \"name\": 20, \"showlegend\": false}, {\"type\": \"box\", \"y\": [1.343038558959961], \"name\": 21, \"showlegend\": false}, {\"type\": \"box\", \"y\": [2.7815279960632324], \"name\": 22, \"showlegend\": false}, {\"type\": \"box\", \"y\": [0.9903106093406677], \"name\": 23, \"showlegend\": false}, {\"type\": \"box\", \"y\": [2.2503955364227295], \"name\": 24, \"showlegend\": false}, {\"type\": \"box\", \"y\": [4.7128705978393555], \"name\": 25, \"showlegend\": false}, {\"type\": \"box\", \"y\": [2.0456199645996094], \"name\": 26, \"showlegend\": false}, {\"type\": \"box\", \"y\": [2.2866902351379395], \"name\": 27, \"showlegend\": false}, {\"type\": \"box\", \"y\": [5.885847568511963], \"name\": 28, \"showlegend\": false}, {\"type\": \"box\", \"y\": [2.489142417907715], \"name\": 29, \"showlegend\": false}, {\"type\": \"box\", \"y\": [2.959676504135132], \"name\": 30, \"showlegend\": false}, {\"type\": \"box\", \"y\": [4.8328986167907715], \"name\": 31, \"showlegend\": false}, {\"type\": \"box\", \"y\": [3.446887731552124], \"name\": 32, \"showlegend\": false}, {\"type\": \"box\", \"y\": [4.283139228820801], \"name\": 33, \"showlegend\": false}, {\"type\": \"box\", \"y\": [5.851202964782715], \"name\": 34, \"showlegend\": false}, {\"type\": \"box\", \"y\": [2.439220905303955], \"name\": 35, \"showlegend\": false}, {\"type\": \"box\", \"y\": [0.4242435097694397], \"name\": 36, \"showlegend\": false}, {\"type\": \"box\", \"y\": [2.7070505619049072], \"name\": 37, \"showlegend\": false}, {\"type\": \"box\", \"y\": [3.159240484237671], \"name\": 38, \"showlegend\": false}, {\"type\": \"box\", \"y\": [2.194298505783081], \"name\": 39, \"showlegend\": false}, {\"type\": \"box\", \"y\": [0.7222126722335815], \"name\": 40, \"showlegend\": false}, {\"type\": \"box\", \"y\": [0.861629068851471], \"name\": 41, \"showlegend\": false}, {\"type\": \"box\", \"y\": [2.1615612506866455], \"name\": 42, \"showlegend\": false}, {\"type\": \"box\", \"y\": [0.36541491746902466], \"name\": 43, \"showlegend\": false}, {\"type\": \"box\", \"y\": [0.8740753531455994], \"name\": 44, \"showlegend\": false}, {\"type\": \"box\", \"y\": [0.6477288603782654], \"name\": 45, \"showlegend\": false}, {\"type\": \"box\", \"y\": [1.0369373559951782], \"name\": 46, \"showlegend\": false}, {\"type\": \"box\", \"y\": [6.4187164306640625], \"name\": 47, \"showlegend\": false}, {\"type\": \"box\", \"y\": [1.9600268602371216], \"name\": 48, \"showlegend\": false}, {\"type\": \"box\", \"y\": [1.5361409187316895], \"name\": 49, \"showlegend\": false}, {\"type\": \"box\", \"y\": [24.71023941040039], \"name\": 50, \"showlegend\": false}, {\"type\": \"box\", \"y\": [0.7337299585342407], \"name\": 51, \"showlegend\": false}, {\"type\": \"box\", \"y\": [0.7883961200714111], \"name\": 52, \"showlegend\": false}, {\"type\": \"box\", \"y\": [11.56623649597168], \"name\": 53, \"showlegend\": false}, {\"type\": \"box\", \"y\": [7.316478252410889], \"name\": 54, \"showlegend\": false}, {\"type\": \"box\", \"y\": [0.8753640055656433], \"name\": 55, \"showlegend\": false}, {\"type\": \"box\", \"y\": [0.6245090961456299], \"name\": 56, \"showlegend\": false}, {\"type\": \"box\", \"y\": [1.5065327882766724], \"name\": 57, \"showlegend\": false}, {\"type\": \"box\", \"y\": [2.008582353591919], \"name\": 58, \"showlegend\": false}, {\"type\": \"box\", \"y\": [0.4120097756385803], \"name\": 59, \"showlegend\": false}, {\"type\": \"box\", \"y\": [4.097634792327881], \"name\": 60, \"showlegend\": false}, {\"type\": \"box\", \"y\": [0.18566106259822845], \"name\": 61, \"showlegend\": false}, {\"type\": \"box\", \"y\": [1.6119563579559326], \"name\": 62, \"showlegend\": false}, {\"type\": \"box\", \"y\": [1.7692937850952148], \"name\": 63, \"showlegend\": false}, {\"type\": \"box\", \"y\": [0.2399096041917801], \"name\": 64, \"showlegend\": false}, {\"type\": \"box\", \"y\": [0.6968292593955994], \"name\": 65, \"showlegend\": false}, {\"type\": \"box\", \"y\": [2.7283031940460205], \"name\": 66, \"showlegend\": false}, {\"type\": \"box\", \"y\": [0.6320377588272095], \"name\": 67, \"showlegend\": false}, {\"type\": \"scatter\", \"x\": [0, 1, 2, 3, 4, 5, 6, 7, 8, 9, 10, 11, 12, 13, 14, 15, 16, 17, 18, 19, 20, 21, 22, 23, 24, 25, 26, 27, 28, 29, 30, 31, 32, 33, 34, 35, 36, 37, 38, 39, 40, 41, 42, 43, 44, 45, 46, 47, 48, 49, 50, 51, 52, 53, 54, 55, 56, 57, 58, 59, 60, 61, 62, 63, 64, 65, 66, 67], \"y\": [0.9553214907646179, 5.516781806945801, 1.164878487586975, 1.2662409543991089, 1.79677152633667, 2.867542028427124, 1.7036164999008179, 9.977118492126465, 5.523670673370361, 3.4676098823547363, 1.9065749645233154, 8.205559730529785, 2.704810857772827, 5.017646789550781, 3.3878910541534424, 0.4972291588783264, 4.90435266494751, 1.7670365571975708, 8.957016944885254, 0.5434967279434204, 2.2866475582122803, 1.343038558959961, 2.7815279960632324, 0.9903106093406677, 2.2503955364227295, 4.7128705978393555, 2.0456199645996094, 2.2866902351379395, 5.885847568511963, 2.489142417907715, 2.959676504135132, 4.8328986167907715, 3.446887731552124, 4.283139228820801, 5.851202964782715, 2.439220905303955, 0.4242435097694397, 2.7070505619049072, 3.159240484237671, 2.194298505783081, 0.7222126722335815, 0.861629068851471, 2.1615612506866455, 0.36541491746902466, 0.8740753531455994, 0.6477288603782654, 1.0369373559951782, 6.4187164306640625, 1.9600268602371216, 1.5361409187316895, 24.71023941040039, 0.7337299585342407, 0.7883961200714111, 11.56623649597168, 7.316478252410889, 0.8753640055656433, 0.6245090961456299, 1.5065327882766724, 2.008582353591919, 0.4120097756385803, 4.097634792327881, 0.18566106259822845, 1.6119563579559326, 1.7692937850952148, 0.2399096041917801, 0.6968292593955994, 2.7283031940460205, 0.6320377588272095], \"mode\": \"lines\", \"name\": \"mean\"}], {\"title\": \"Distribution of cross-validation RMSE for each athlete\", \"xaxis\": {\"title\": \"Athletes\"}, \"yaxis\": {\"title\": \"RMSE\"}}, {\"showLink\": true, \"linkText\": \"Export to plot.ly\"})});</script>"
      ],
      "text/vnd.plotly.v1+html": [
       "<div id=\"f3139eb0-06be-4b6a-bc5c-ca2efae103cd\" style=\"height: 525px; width: 100%;\" class=\"plotly-graph-div\"></div><script type=\"text/javascript\">require([\"plotly\"], function(Plotly) { window.PLOTLYENV=window.PLOTLYENV || {};window.PLOTLYENV.BASE_URL=\"https://plot.ly\";Plotly.newPlot(\"f3139eb0-06be-4b6a-bc5c-ca2efae103cd\", [{\"type\": \"box\", \"y\": [0.9553214907646179], \"name\": 0, \"showlegend\": false}, {\"type\": \"box\", \"y\": [5.516781806945801], \"name\": 1, \"showlegend\": false}, {\"type\": \"box\", \"y\": [1.164878487586975], \"name\": 2, \"showlegend\": false}, {\"type\": \"box\", \"y\": [1.2662409543991089], \"name\": 3, \"showlegend\": false}, {\"type\": \"box\", \"y\": [1.79677152633667], \"name\": 4, \"showlegend\": false}, {\"type\": \"box\", \"y\": [2.867542028427124], \"name\": 5, \"showlegend\": false}, {\"type\": \"box\", \"y\": [1.7036164999008179], \"name\": 6, \"showlegend\": false}, {\"type\": \"box\", \"y\": [9.977118492126465], \"name\": 7, \"showlegend\": false}, {\"type\": \"box\", \"y\": [5.523670673370361], \"name\": 8, \"showlegend\": false}, {\"type\": \"box\", \"y\": [3.4676098823547363], \"name\": 9, \"showlegend\": false}, {\"type\": \"box\", \"y\": [1.9065749645233154], \"name\": 10, \"showlegend\": false}, {\"type\": \"box\", \"y\": [8.205559730529785], \"name\": 11, \"showlegend\": false}, {\"type\": \"box\", \"y\": [2.704810857772827], \"name\": 12, \"showlegend\": false}, {\"type\": \"box\", \"y\": [5.017646789550781], \"name\": 13, \"showlegend\": false}, {\"type\": \"box\", \"y\": [3.3878910541534424], \"name\": 14, \"showlegend\": false}, {\"type\": \"box\", \"y\": [0.4972291588783264], \"name\": 15, \"showlegend\": false}, {\"type\": \"box\", \"y\": [4.90435266494751], \"name\": 16, \"showlegend\": false}, {\"type\": \"box\", \"y\": [1.7670365571975708], \"name\": 17, \"showlegend\": false}, {\"type\": \"box\", \"y\": [8.957016944885254], \"name\": 18, \"showlegend\": false}, {\"type\": \"box\", \"y\": [0.5434967279434204], \"name\": 19, \"showlegend\": false}, {\"type\": \"box\", \"y\": [2.2866475582122803], \"name\": 20, \"showlegend\": false}, {\"type\": \"box\", \"y\": [1.343038558959961], \"name\": 21, \"showlegend\": false}, {\"type\": \"box\", \"y\": [2.7815279960632324], \"name\": 22, \"showlegend\": false}, {\"type\": \"box\", \"y\": [0.9903106093406677], \"name\": 23, \"showlegend\": false}, {\"type\": \"box\", \"y\": [2.2503955364227295], \"name\": 24, \"showlegend\": false}, {\"type\": \"box\", \"y\": [4.7128705978393555], \"name\": 25, \"showlegend\": false}, {\"type\": \"box\", \"y\": [2.0456199645996094], \"name\": 26, \"showlegend\": false}, {\"type\": \"box\", \"y\": [2.2866902351379395], \"name\": 27, \"showlegend\": false}, {\"type\": \"box\", \"y\": [5.885847568511963], \"name\": 28, \"showlegend\": false}, {\"type\": \"box\", \"y\": [2.489142417907715], \"name\": 29, \"showlegend\": false}, {\"type\": \"box\", \"y\": [2.959676504135132], \"name\": 30, \"showlegend\": false}, {\"type\": \"box\", \"y\": [4.8328986167907715], \"name\": 31, \"showlegend\": false}, {\"type\": \"box\", \"y\": [3.446887731552124], \"name\": 32, \"showlegend\": false}, {\"type\": \"box\", \"y\": [4.283139228820801], \"name\": 33, \"showlegend\": false}, {\"type\": \"box\", \"y\": [5.851202964782715], \"name\": 34, \"showlegend\": false}, {\"type\": \"box\", \"y\": [2.439220905303955], \"name\": 35, \"showlegend\": false}, {\"type\": \"box\", \"y\": [0.4242435097694397], \"name\": 36, \"showlegend\": false}, {\"type\": \"box\", \"y\": [2.7070505619049072], \"name\": 37, \"showlegend\": false}, {\"type\": \"box\", \"y\": [3.159240484237671], \"name\": 38, \"showlegend\": false}, {\"type\": \"box\", \"y\": [2.194298505783081], \"name\": 39, \"showlegend\": false}, {\"type\": \"box\", \"y\": [0.7222126722335815], \"name\": 40, \"showlegend\": false}, {\"type\": \"box\", \"y\": [0.861629068851471], \"name\": 41, \"showlegend\": false}, {\"type\": \"box\", \"y\": [2.1615612506866455], \"name\": 42, \"showlegend\": false}, {\"type\": \"box\", \"y\": [0.36541491746902466], \"name\": 43, \"showlegend\": false}, {\"type\": \"box\", \"y\": [0.8740753531455994], \"name\": 44, \"showlegend\": false}, {\"type\": \"box\", \"y\": [0.6477288603782654], \"name\": 45, \"showlegend\": false}, {\"type\": \"box\", \"y\": [1.0369373559951782], \"name\": 46, \"showlegend\": false}, {\"type\": \"box\", \"y\": [6.4187164306640625], \"name\": 47, \"showlegend\": false}, {\"type\": \"box\", \"y\": [1.9600268602371216], \"name\": 48, \"showlegend\": false}, {\"type\": \"box\", \"y\": [1.5361409187316895], \"name\": 49, \"showlegend\": false}, {\"type\": \"box\", \"y\": [24.71023941040039], \"name\": 50, \"showlegend\": false}, {\"type\": \"box\", \"y\": [0.7337299585342407], \"name\": 51, \"showlegend\": false}, {\"type\": \"box\", \"y\": [0.7883961200714111], \"name\": 52, \"showlegend\": false}, {\"type\": \"box\", \"y\": [11.56623649597168], \"name\": 53, \"showlegend\": false}, {\"type\": \"box\", \"y\": [7.316478252410889], \"name\": 54, \"showlegend\": false}, {\"type\": \"box\", \"y\": [0.8753640055656433], \"name\": 55, \"showlegend\": false}, {\"type\": \"box\", \"y\": [0.6245090961456299], \"name\": 56, \"showlegend\": false}, {\"type\": \"box\", \"y\": [1.5065327882766724], \"name\": 57, \"showlegend\": false}, {\"type\": \"box\", \"y\": [2.008582353591919], \"name\": 58, \"showlegend\": false}, {\"type\": \"box\", \"y\": [0.4120097756385803], \"name\": 59, \"showlegend\": false}, {\"type\": \"box\", \"y\": [4.097634792327881], \"name\": 60, \"showlegend\": false}, {\"type\": \"box\", \"y\": [0.18566106259822845], \"name\": 61, \"showlegend\": false}, {\"type\": \"box\", \"y\": [1.6119563579559326], \"name\": 62, \"showlegend\": false}, {\"type\": \"box\", \"y\": [1.7692937850952148], \"name\": 63, \"showlegend\": false}, {\"type\": \"box\", \"y\": [0.2399096041917801], \"name\": 64, \"showlegend\": false}, {\"type\": \"box\", \"y\": [0.6968292593955994], \"name\": 65, \"showlegend\": false}, {\"type\": \"box\", \"y\": [2.7283031940460205], \"name\": 66, \"showlegend\": false}, {\"type\": \"box\", \"y\": [0.6320377588272095], \"name\": 67, \"showlegend\": false}, {\"type\": \"scatter\", \"x\": [0, 1, 2, 3, 4, 5, 6, 7, 8, 9, 10, 11, 12, 13, 14, 15, 16, 17, 18, 19, 20, 21, 22, 23, 24, 25, 26, 27, 28, 29, 30, 31, 32, 33, 34, 35, 36, 37, 38, 39, 40, 41, 42, 43, 44, 45, 46, 47, 48, 49, 50, 51, 52, 53, 54, 55, 56, 57, 58, 59, 60, 61, 62, 63, 64, 65, 66, 67], \"y\": [0.9553214907646179, 5.516781806945801, 1.164878487586975, 1.2662409543991089, 1.79677152633667, 2.867542028427124, 1.7036164999008179, 9.977118492126465, 5.523670673370361, 3.4676098823547363, 1.9065749645233154, 8.205559730529785, 2.704810857772827, 5.017646789550781, 3.3878910541534424, 0.4972291588783264, 4.90435266494751, 1.7670365571975708, 8.957016944885254, 0.5434967279434204, 2.2866475582122803, 1.343038558959961, 2.7815279960632324, 0.9903106093406677, 2.2503955364227295, 4.7128705978393555, 2.0456199645996094, 2.2866902351379395, 5.885847568511963, 2.489142417907715, 2.959676504135132, 4.8328986167907715, 3.446887731552124, 4.283139228820801, 5.851202964782715, 2.439220905303955, 0.4242435097694397, 2.7070505619049072, 3.159240484237671, 2.194298505783081, 0.7222126722335815, 0.861629068851471, 2.1615612506866455, 0.36541491746902466, 0.8740753531455994, 0.6477288603782654, 1.0369373559951782, 6.4187164306640625, 1.9600268602371216, 1.5361409187316895, 24.71023941040039, 0.7337299585342407, 0.7883961200714111, 11.56623649597168, 7.316478252410889, 0.8753640055656433, 0.6245090961456299, 1.5065327882766724, 2.008582353591919, 0.4120097756385803, 4.097634792327881, 0.18566106259822845, 1.6119563579559326, 1.7692937850952148, 0.2399096041917801, 0.6968292593955994, 2.7283031940460205, 0.6320377588272095], \"mode\": \"lines\", \"name\": \"mean\"}], {\"title\": \"Distribution of cross-validation RMSE for each athlete\", \"xaxis\": {\"title\": \"Athletes\"}, \"yaxis\": {\"title\": \"RMSE\"}}, {\"showLink\": true, \"linkText\": \"Export to plot.ly\"})});</script>"
      ]
     },
     "metadata": {},
     "output_type": "display_data"
    }
   ],
   "source": [
    "# calculating the RMSE for cross-validation results of each person\n",
    "# the result is a 2D tensor with rows as reapets and columns as persons\n",
    "results = np.nanmean((padded_targetvalues - padded_predictions)**2, axis=2) ** .5\n",
    "\n",
    "# visulizing the results of repeated cross-validation RMSE for each person via a boxplot\n",
    "df = DataFrame(results)\n",
    "plotData = [] \n",
    "for col in df.columns:\n",
    "    plotData.append(go.Box(y= df[col], name=col, showlegend=False)) \n",
    "plotData.append(go.Scatter(x= df.columns, y=df.mean(), mode='lines', name='mean'))\n",
    "\n",
    "layout = dict(title = 'Distribution of cross-validation RMSE for each athlete',\n",
    "              xaxis = dict(title = 'Athletes'),\n",
    "              yaxis = dict(title = 'RMSE'))\n",
    "\n",
    "iplot(dict(data=plotData, layout=layout))"
   ]
  },
  {
   "cell_type": "code",
   "execution_count": 14,
   "metadata": {},
   "outputs": [
    {
     "name": "stdout",
     "output_type": "stream",
     "text": [
      "Total Mean Squared Error: 22.427914\n"
     ]
    },
    {
     "data": {
      "text/html": [
       "<div>\n",
       "<style>\n",
       "    .dataframe thead tr:only-child th {\n",
       "        text-align: right;\n",
       "    }\n",
       "\n",
       "    .dataframe thead th {\n",
       "        text-align: left;\n",
       "    }\n",
       "\n",
       "    .dataframe tbody tr th {\n",
       "        vertical-align: top;\n",
       "    }\n",
       "</style>\n",
       "<table border=\"1\" class=\"dataframe\">\n",
       "  <thead>\n",
       "    <tr style=\"text-align: right;\">\n",
       "      <th></th>\n",
       "      <th>0</th>\n",
       "    </tr>\n",
       "  </thead>\n",
       "  <tbody>\n",
       "    <tr>\n",
       "      <th>count</th>\n",
       "      <td>68.000000</td>\n",
       "    </tr>\n",
       "    <tr>\n",
       "      <th>mean</th>\n",
       "      <td>3.096901</td>\n",
       "    </tr>\n",
       "    <tr>\n",
       "      <th>std</th>\n",
       "      <td>3.609532</td>\n",
       "    </tr>\n",
       "    <tr>\n",
       "      <th>min</th>\n",
       "      <td>0.185661</td>\n",
       "    </tr>\n",
       "    <tr>\n",
       "      <th>25%</th>\n",
       "      <td>0.935332</td>\n",
       "    </tr>\n",
       "    <tr>\n",
       "      <th>50%</th>\n",
       "      <td>2.103591</td>\n",
       "    </tr>\n",
       "    <tr>\n",
       "      <th>75%</th>\n",
       "      <td>3.625116</td>\n",
       "    </tr>\n",
       "    <tr>\n",
       "      <th>max</th>\n",
       "      <td>24.710239</td>\n",
       "    </tr>\n",
       "  </tbody>\n",
       "</table>\n",
       "</div>"
      ],
      "text/plain": [
       "               0\n",
       "count  68.000000\n",
       "mean    3.096901\n",
       "std     3.609532\n",
       "min     0.185661\n",
       "25%     0.935332\n",
       "50%     2.103591\n",
       "75%     3.625116\n",
       "max    24.710239"
      ]
     },
     "execution_count": 14,
     "metadata": {},
     "output_type": "execute_result"
    }
   ],
   "source": [
    "# calculating a metric which in some way gives a sense of error in predictions\n",
    "# the RMSEs are summarized by calculating the mean squared of all repeats for all athletes\n",
    "error = np.mean(np.square(np.mean(results, axis=0)))\n",
    "print(\"Total Mean Squared Error:\", error)\n",
    "\n",
    "DataFrame(np.mean(results, axis=0)).describe()"
   ]
  },
  {
   "cell_type": "markdown",
   "metadata": {},
   "source": [
    "## Investigating predictions visually"
   ]
  },
  {
   "cell_type": "code",
   "execution_count": 15,
   "metadata": {
    "collapsed": true
   },
   "outputs": [],
   "source": [
    "def show_testosterone(index, show_predictions=True, show_all_features=True):\n",
    "    pid = index_to_pid[index]\n",
    "    layout = dict(title = 'Variation of Tenstosterone Over Samples for Person ({})'.format(pid),\n",
    "              xaxis = dict(title = 'Sample Number'),\n",
    "              yaxis = dict(title = 'Testosterone'))\n",
    "    observations = data[data.index.get_level_values(0) == pid]\n",
    "    plot_data = []\n",
    "    \n",
    "    testosterone = go.Scatter(x=np.arange(len(observations)), y=observations['Testosterone'], name='True Value')\n",
    "    plot_data.append(testosterone)\n",
    "    \n",
    "    if show_all_features:\n",
    "        F2 = go.Scatter(x=np.arange(len(observations)), y=observations['F2'], name='F2')\n",
    "        F3 = go.Scatter(x=np.arange(len(observations)), y=observations['F3'], name='F3')\n",
    "        F4 = go.Scatter(x=np.arange(len(observations)), y=observations['F4'], name='F4')\n",
    "        plot_data.extend([F2, F3, F4])\n",
    "    \n",
    "    # getting the predictions from the first repeat\n",
    "    if show_predictions:\n",
    "        predictions = repeat_predictions[0][index]\n",
    "        pred_index_range = list(range(len(observations)-len(predictions), len(observations)))\n",
    "        testosterone_perds = go.Scatter(x= pred_index_range, y= predictions, name='Predictions')\n",
    "        plot_data.append(testosterone_perds)\n",
    "        \n",
    "    iplot(dict(data = plot_data, layout = layout))"
   ]
  },
  {
   "cell_type": "markdown",
   "metadata": {},
   "source": [
    "## The effect of updating model online on loss"
   ]
  },
  {
   "cell_type": "code",
   "execution_count": 16,
   "metadata": {
    "scrolled": true
   },
   "outputs": [
    {
     "data": {
      "image/png": "[encoded data removed]",
      "text/plain": [
       "<matplotlib.figure.Figure at 0x7f811869f668>"
      ]
     },
     "metadata": {},
     "output_type": "display_data"
    }
   ],
   "source": [
    "rng = [range(i * len(p), (i+1) * len(p)) for i, p in enumerate(repeat_losses[0])]\n",
    "\n",
    "flatted_loss = [np.array(person).flatten().tolist() for person in repeat_losses[0]]\n",
    "\n",
    "for i, (p, r) in enumerate(zip(flatted_loss, rng)):\n",
    "    plt.plot(r, p, '-o')\n",
    "    if i > 3:\n",
    "        break"
   ]
  },
  {
   "cell_type": "markdown",
   "metadata": {},
   "source": [
    "## Using Lasso regression to regress each athlete's testosterone with lagg 1"
   ]
  },
  {
   "cell_type": "code",
   "execution_count": 17,
   "metadata": {
    "collapsed": true
   },
   "outputs": [],
   "source": [
    "def display_alphaCV(model):\n",
    "    # Display results\n",
    "    m_log_alphas = -np.log10(model.alphas_)\n",
    "\n",
    "    plt.figure(figsize=(10,10))\n",
    "    ymin, ymax = 2300, 3800\n",
    "    plt.plot(m_log_alphas, model.mse_path_, ':')\n",
    "    plt.plot(m_log_alphas, model.mse_path_.mean(axis=-1), 'k',\n",
    "         label='Average across the folds', linewidth=2)\n",
    "    plt.axvline(-np.log10(model.alpha_), linestyle='--', color='k',\n",
    "            label='alpha: CV estimate')\n",
    "\n",
    "    plt.legend()\n",
    "\n",
    "    plt.xlabel('-log(alpha)')\n",
    "    plt.ylabel('Mean square error')\n",
    "    plt.title('Mean square error on each fold: coordinate descent ')\n",
    "    plt.axis('tight')"
   ]
  },
  {
   "cell_type": "code",
   "execution_count": 18,
   "metadata": {
    "collapsed": true
   },
   "outputs": [],
   "source": [
    "def get_regression_model(data):\n",
    "    \n",
    "    cv = TimeSeriesSplit(n_splits=2).split(train)\n",
    "    \n",
    "    model = LassoCV(cv=cv)\n",
    "    \n",
    "    return model"
   ]
  },
  {
   "cell_type": "code",
   "execution_count": 19,
   "metadata": {
    "collapsed": true
   },
   "outputs": [],
   "source": [
    "def fit_regression_model(model, train):\n",
    "    X_train = train[:, 0:-1].reshape(-1, train.shape[1]-1) ## TODO train.shape[1] by considering the fact that the last columns is target?\n",
    "    y_train = train[:, -1]\n",
    "    \n",
    "    model.fit(X_train, y_train)\n",
    "    \n",
    "    return model"
   ]
  },
  {
   "cell_type": "code",
   "execution_count": 20,
   "metadata": {},
   "outputs": [
    {
     "data": {
      "application/vnd.jupyter.widget-view+json": {
       "model_id": "652962ce7c7849b6a4fcd15298222f41",
       "version_major": 2,
       "version_minor": 0
      },
      "text/plain": [
       "A Jupyter Widget"
      ]
     },
     "metadata": {},
     "output_type": "display_data"
    },
    {
     "data": {
      "application/vnd.jupyter.widget-view+json": {
       "model_id": "4a6b90593c034dc2b923a5fc83910bc9",
       "version_major": 2,
       "version_minor": 0
      },
      "text/plain": [
       "A Jupyter Widget"
      ]
     },
     "metadata": {},
     "output_type": "display_data"
    },
    {
     "name": "stdout",
     "output_type": "stream",
     "text": [
      "\n"
     ]
    }
   ],
   "source": [
    "repeats = 1\n",
    "repeat_predictions = []\n",
    "repeat_targetvalues = []\n",
    "for r in tqdm_notebook(range(repeats), desc=\"Repeat\"):\n",
    "    \n",
    "    persons_predictions = []\n",
    "    persons_targetvalues = []\n",
    "    \n",
    "    for person in tqdm_notebook(prepared_data, desc=\"Athlete\"):\n",
    "        train, test = train_test_split(person, test_size=.33, shuffle=False)\n",
    "        \n",
    "        model = get_regression_model(train)\n",
    "        model = fit_regression_model(model, train)\n",
    "            \n",
    "        predictions = list()\n",
    "        for i in range(len(test)):\n",
    "            # update model\n",
    "            if i > 0:\n",
    "                model = get_regression_model(updated_train)\n",
    "                model = fit_regression_model(model, updated_train)\n",
    "            yhat = model.predict(test[i,0:-1].reshape(-1, test.shape[1] -1))\n",
    "            X_test = test[i, 0:-1]\n",
    "            predictions.append(yhat[0])\n",
    "            updated_train = np.concatenate((train, test[i,:].reshape(1, -1)))\n",
    "            \n",
    "        persons_predictions.append(predictions)\n",
    "        persons_targetvalues.append(test[:, -1].tolist())\n",
    "\n",
    "    repeat_predictions.append(persons_predictions)\n",
    "    repeat_targetvalues.append(persons_targetvalues)"
   ]
  },
  {
   "cell_type": "code",
   "execution_count": 21,
   "metadata": {
    "collapsed": true
   },
   "outputs": [],
   "source": [
    "padded_predictions = np.array([pad_sequences(persons_predictions , dtype=np.float32, value=np.nan) for persons_predictions in repeat_predictions])\n",
    "padded_targetvalues = np.array([pad_sequences(persons_targetvalues , dtype=np.float32) for persons_targetvalues in repeat_targetvalues])"
   ]
  },
  {
   "cell_type": "code",
   "execution_count": 22,
   "metadata": {
    "scrolled": true
   },
   "outputs": [
    {
     "data": {
      "text/plain": [
       "(array([41., 16.,  6.,  3.,  1.,  0.,  0.,  0.,  0.,  1.]),\n",
       " array([ 0.18566106,  2.6381189 ,  5.09057673,  7.54303457,  9.9954924 ,\n",
       "        12.44795024, 14.90040807, 17.35286591, 19.80532374, 22.25778158,\n",
       "        24.71023941]),\n",
       " <a list of 10 Patch objects>)"
      ]
     },
     "execution_count": 22,
     "metadata": {},
     "output_type": "execute_result"
    },
    {
     "data": {
      "image/png": "[encoded data removed]",
      "text/plain": [
       "<matplotlib.figure.Figure at 0x7f811863a4a8>"
      ]
     },
     "metadata": {},
     "output_type": "display_data"
    }
   ],
   "source": [
    "plt.hist(results.flatten())"
   ]
  },
  {
   "cell_type": "code",
   "execution_count": 23,
   "metadata": {},
   "outputs": [
    {
     "name": "stderr",
     "output_type": "stream",
     "text": [
      "/home/iss/anaconda3/lib/python3.6/site-packages/scipy/stats/_continuous_distns.py:412: RuntimeWarning:\n",
      "\n",
      "invalid value encountered in sqrt\n",
      "\n",
      "/home/iss/anaconda3/lib/python3.6/site-packages/scipy/optimize/minpack.py:161: RuntimeWarning:\n",
      "\n",
      "The iteration is not making good progress, as measured by the \n",
      "  improvement from the last ten iterations.\n",
      "\n"
     ]
    },
    {
     "data": {
      "image/png": "[encoded data removed]",
      "text/plain": [
       "<matplotlib.figure.Figure at 0x7f811863a320>"
      ]
     },
     "metadata": {},
     "output_type": "display_data"
    }
   ],
   "source": [
    "import scipy\n",
    "import scipy.stats\n",
    "\n",
    "dist_names = ['gamma', 'beta', 'norm']\n",
    "\n",
    "for dist_name in dist_names:\n",
    "    dist = getattr(scipy.stats, dist_name)\n",
    "    param = dist.fit(results.flatten())\n",
    "    pdf_fitted = dist.pdf(np.arange(len(results[0])), *param[:-2], loc=param[-2], scale=param[-1]) * len(results[0])\n",
    "    plt.plot(pdf_fitted, label=dist_name)\n",
    "\n",
    "plt.legend(loc='upper right')\n",
    "plt.hist(results.flatten())\n",
    "plt.xlim([0,10])\n",
    "plt.show()"
   ]
  },
  {
   "cell_type": "code",
   "execution_count": 24,
   "metadata": {},
   "outputs": [
    {
     "data": {
      "application/vnd.plotly.v1+json": {
       "data": [
        {
         "mode": "lines",
         "name": "mean",
         "type": "scatter",
         "x": [
          0,
          1,
          2,
          3,
          4,
          5,
          6,
          7,
          8,
          9,
          10,
          11,
          12,
          13,
          14,
          15,
          16,
          17,
          18,
          19,
          20,
          21,
          22,
          23,
          24,
          25,
          26,
          27,
          28,
          29,
          30,
          31,
          32,
          33,
          34,
          35,
          36,
          37,
          38,
          39,
          40,
          41,
          42,
          43,
          44,
          45,
          46,
          47,
          48,
          49,
          50,
          51,
          52,
          53,
          54,
          55,
          56,
          57,
          58,
          59,
          60,
          61,
          62,
          63,
          64,
          65,
          66,
          67
         ],
         "y": [
          0.15052372217178345,
          2.602285623550415,
          1.0657373666763306,
          0.2515562176704407,
          0.8188419938087463,
          0.7944137454032898,
          0.3471589982509613,
          3.6199309825897217,
          3.4843459129333496,
          1.5929113626480103,
          0.9137960076332092,
          3.8755056858062744,
          2.0003457069396973,
          3.449082374572754,
          2.5699169635772705,
          1.1202080249786377,
          11.169331550598145,
          0.9018980264663696,
          2.331805467605591,
          0.2746502161026001,
          0.5512629747390747,
          0.7101078629493713,
          0.3945906162261963,
          0.39962056279182434,
          0.35954710841178894,
          1.6681902408599854,
          0.2477106899023056,
          0.7586899399757385,
          2.1005125045776367,
          1.3483840227127075,
          2.482464075088501,
          2.8135621547698975,
          1.2902085781097412,
          2.9593987464904785,
          4.9365668296813965,
          1.9175164699554443,
          0.5798944234848022,
          1.1789942979812622,
          3.71885085105896,
          2.8713936805725098,
          0.652376115322113,
          0.23769736289978027,
          0.3537023067474365,
          0.9195767641067505,
          0.20310573279857635,
          0.13413983583450317,
          2.158895254135132,
          0.9045437574386597,
          2.4543070793151855,
          1.6220537424087524,
          5.448265552520752,
          1.0963435173034668,
          2.6046669483184814,
          5.826974391937256,
          7.6787614822387695,
          1.5181407928466797,
          0.40117546916007996,
          0.5966294407844543,
          1.7081186771392822,
          0.769257664680481,
          0.6168979406356812,
          0.12699054181575775,
          1.2597821950912476,
          0.6916466355323792,
          0.3997228741645813,
          0.9996528625488281,
          1.3724467754364014,
          0.5683274865150452
         ]
        }
       ],
       "layout": {
        "title": "Distribution of cross-validation RMSE for each athlete",
        "xaxis": {
         "title": "Athletes"
        },
        "yaxis": {
         "title": "RMSE"
        }
       }
      },
      "text/html": [
       "<div id=\"a8d9fc26-7d9e-4c57-af7d-c17375823d7f\" style=\"height: 525px; width: 100%;\" class=\"plotly-graph-div\"></div><script type=\"text/javascript\">require([\"plotly\"], function(Plotly) { window.PLOTLYENV=window.PLOTLYENV || {};window.PLOTLYENV.BASE_URL=\"https://plot.ly\";Plotly.newPlot(\"a8d9fc26-7d9e-4c57-af7d-c17375823d7f\", [{\"type\": \"scatter\", \"x\": [0, 1, 2, 3, 4, 5, 6, 7, 8, 9, 10, 11, 12, 13, 14, 15, 16, 17, 18, 19, 20, 21, 22, 23, 24, 25, 26, 27, 28, 29, 30, 31, 32, 33, 34, 35, 36, 37, 38, 39, 40, 41, 42, 43, 44, 45, 46, 47, 48, 49, 50, 51, 52, 53, 54, 55, 56, 57, 58, 59, 60, 61, 62, 63, 64, 65, 66, 67], \"y\": [0.15052372217178345, 2.602285623550415, 1.0657373666763306, 0.2515562176704407, 0.8188419938087463, 0.7944137454032898, 0.3471589982509613, 3.6199309825897217, 3.4843459129333496, 1.5929113626480103, 0.9137960076332092, 3.8755056858062744, 2.0003457069396973, 3.449082374572754, 2.5699169635772705, 1.1202080249786377, 11.169331550598145, 0.9018980264663696, 2.331805467605591, 0.2746502161026001, 0.5512629747390747, 0.7101078629493713, 0.3945906162261963, 0.39962056279182434, 0.35954710841178894, 1.6681902408599854, 0.2477106899023056, 0.7586899399757385, 2.1005125045776367, 1.3483840227127075, 2.482464075088501, 2.8135621547698975, 1.2902085781097412, 2.9593987464904785, 4.9365668296813965, 1.9175164699554443, 0.5798944234848022, 1.1789942979812622, 3.71885085105896, 2.8713936805725098, 0.652376115322113, 0.23769736289978027, 0.3537023067474365, 0.9195767641067505, 0.20310573279857635, 0.13413983583450317, 2.158895254135132, 0.9045437574386597, 2.4543070793151855, 1.6220537424087524, 5.448265552520752, 1.0963435173034668, 2.6046669483184814, 5.826974391937256, 7.6787614822387695, 1.5181407928466797, 0.40117546916007996, 0.5966294407844543, 1.7081186771392822, 0.769257664680481, 0.6168979406356812, 0.12699054181575775, 1.2597821950912476, 0.6916466355323792, 0.3997228741645813, 0.9996528625488281, 1.3724467754364014, 0.5683274865150452], \"mode\": \"lines\", \"name\": \"mean\"}], {\"title\": \"Distribution of cross-validation RMSE for each athlete\", \"xaxis\": {\"title\": \"Athletes\"}, \"yaxis\": {\"title\": \"RMSE\"}}, {\"showLink\": true, \"linkText\": \"Export to plot.ly\"})});</script>"
      ],
      "text/vnd.plotly.v1+html": [
       "<div id=\"a8d9fc26-7d9e-4c57-af7d-c17375823d7f\" style=\"height: 525px; width: 100%;\" class=\"plotly-graph-div\"></div><script type=\"text/javascript\">require([\"plotly\"], function(Plotly) { window.PLOTLYENV=window.PLOTLYENV || {};window.PLOTLYENV.BASE_URL=\"https://plot.ly\";Plotly.newPlot(\"a8d9fc26-7d9e-4c57-af7d-c17375823d7f\", [{\"type\": \"scatter\", \"x\": [0, 1, 2, 3, 4, 5, 6, 7, 8, 9, 10, 11, 12, 13, 14, 15, 16, 17, 18, 19, 20, 21, 22, 23, 24, 25, 26, 27, 28, 29, 30, 31, 32, 33, 34, 35, 36, 37, 38, 39, 40, 41, 42, 43, 44, 45, 46, 47, 48, 49, 50, 51, 52, 53, 54, 55, 56, 57, 58, 59, 60, 61, 62, 63, 64, 65, 66, 67], \"y\": [0.15052372217178345, 2.602285623550415, 1.0657373666763306, 0.2515562176704407, 0.8188419938087463, 0.7944137454032898, 0.3471589982509613, 3.6199309825897217, 3.4843459129333496, 1.5929113626480103, 0.9137960076332092, 3.8755056858062744, 2.0003457069396973, 3.449082374572754, 2.5699169635772705, 1.1202080249786377, 11.169331550598145, 0.9018980264663696, 2.331805467605591, 0.2746502161026001, 0.5512629747390747, 0.7101078629493713, 0.3945906162261963, 0.39962056279182434, 0.35954710841178894, 1.6681902408599854, 0.2477106899023056, 0.7586899399757385, 2.1005125045776367, 1.3483840227127075, 2.482464075088501, 2.8135621547698975, 1.2902085781097412, 2.9593987464904785, 4.9365668296813965, 1.9175164699554443, 0.5798944234848022, 1.1789942979812622, 3.71885085105896, 2.8713936805725098, 0.652376115322113, 0.23769736289978027, 0.3537023067474365, 0.9195767641067505, 0.20310573279857635, 0.13413983583450317, 2.158895254135132, 0.9045437574386597, 2.4543070793151855, 1.6220537424087524, 5.448265552520752, 1.0963435173034668, 2.6046669483184814, 5.826974391937256, 7.6787614822387695, 1.5181407928466797, 0.40117546916007996, 0.5966294407844543, 1.7081186771392822, 0.769257664680481, 0.6168979406356812, 0.12699054181575775, 1.2597821950912476, 0.6916466355323792, 0.3997228741645813, 0.9996528625488281, 1.3724467754364014, 0.5683274865150452], \"mode\": \"lines\", \"name\": \"mean\"}], {\"title\": \"Distribution of cross-validation RMSE for each athlete\", \"xaxis\": {\"title\": \"Athletes\"}, \"yaxis\": {\"title\": \"RMSE\"}}, {\"showLink\": true, \"linkText\": \"Export to plot.ly\"})});</script>"
      ]
     },
     "metadata": {},
     "output_type": "display_data"
    }
   ],
   "source": [
    "results = np.nanmean((padded_targetvalues - padded_predictions)**2, axis=2) ** .5\n",
    "\n",
    "# visulizing the results of repeated cross-validation RMSE for each person via a boxplot\n",
    "df = DataFrame(results)\n",
    "plotData = [] \n",
    "# for col in df.columns:\n",
    "#     plotData.append(go.Box(y= df[col], name=col, showlegend=False)) \n",
    "plotData.append(go.Scatter(x= df.columns, y=df.mean(), mode='lines', name='mean'))\n",
    "\n",
    "layout = dict(title = 'Distribution of cross-validation RMSE for each athlete',\n",
    "              xaxis = dict(title = 'Athletes'),\n",
    "              yaxis = dict(title = 'RMSE'))\n",
    "\n",
    "iplot(dict(data=plotData, layout=layout))"
   ]
  },
  {
   "cell_type": "code",
   "execution_count": 25,
   "metadata": {},
   "outputs": [
    {
     "name": "stdout",
     "output_type": "stream",
     "text": [
      "Total Mean Squared Error: 2.582557\n"
     ]
    },
    {
     "data": {
      "text/html": [
       "<div>\n",
       "<style>\n",
       "    .dataframe thead tr:only-child th {\n",
       "        text-align: right;\n",
       "    }\n",
       "\n",
       "    .dataframe thead th {\n",
       "        text-align: left;\n",
       "    }\n",
       "\n",
       "    .dataframe tbody tr th {\n",
       "        vertical-align: top;\n",
       "    }\n",
       "</style>\n",
       "<table border=\"1\" class=\"dataframe\">\n",
       "  <thead>\n",
       "    <tr style=\"text-align: right;\">\n",
       "      <th></th>\n",
       "      <th>0</th>\n",
       "    </tr>\n",
       "  </thead>\n",
       "  <tbody>\n",
       "    <tr>\n",
       "      <th>count</th>\n",
       "      <td>68.000000</td>\n",
       "    </tr>\n",
       "    <tr>\n",
       "      <th>mean</th>\n",
       "      <td>1.763910</td>\n",
       "    </tr>\n",
       "    <tr>\n",
       "      <th>std</th>\n",
       "      <td>1.900350</td>\n",
       "    </tr>\n",
       "    <tr>\n",
       "      <th>min</th>\n",
       "      <td>0.126991</td>\n",
       "    </tr>\n",
       "    <tr>\n",
       "      <th>25%</th>\n",
       "      <td>0.577003</td>\n",
       "    </tr>\n",
       "    <tr>\n",
       "      <th>50%</th>\n",
       "      <td>1.108276</td>\n",
       "    </tr>\n",
       "    <tr>\n",
       "      <th>75%</th>\n",
       "      <td>2.461346</td>\n",
       "    </tr>\n",
       "    <tr>\n",
       "      <th>max</th>\n",
       "      <td>11.169332</td>\n",
       "    </tr>\n",
       "  </tbody>\n",
       "</table>\n",
       "</div>"
      ],
      "text/plain": [
       "               0\n",
       "count  68.000000\n",
       "mean    1.763910\n",
       "std     1.900350\n",
       "min     0.126991\n",
       "25%     0.577003\n",
       "50%     1.108276\n",
       "75%     2.461346\n",
       "max    11.169332"
      ]
     },
     "execution_count": 25,
     "metadata": {},
     "output_type": "execute_result"
    }
   ],
   "source": [
    "# calculating a metric which in some way gives a sense of error in predictions\n",
    "# the RMSEs are summarized by calculating the mean squared of all repeats for all athletes\n",
    "error = np.sqrt(np.mean(np.square(np.mean(results, axis=0))))\n",
    "print(\"Total Mean Squared Error:\", error)\n",
    "\n",
    "DataFrame(np.mean(results, axis=0)).describe()"
   ]
  },
  {
   "cell_type": "code",
   "execution_count": 26,
   "metadata": {},
   "outputs": [
    {
     "data": {
      "application/vnd.plotly.v1+json": {
       "data": [
        {
         "name": "True Value",
         "type": "scatter",
         "x": [
          0,
          1,
          2,
          3,
          4,
          5,
          6,
          7,
          8
         ],
         "y": [
          1.57,
          1.64,
          1.75,
          1.92,
          2.75,
          2.83,
          2.99,
          3.23,
          16.61
         ]
        },
        {
         "name": "F2",
         "type": "scatter",
         "x": [
          0,
          1,
          2,
          3,
          4,
          5,
          6,
          7,
          8
         ],
         "y": [
          133,
          135,
          113,
          90,
          129,
          129,
          139,
          135,
          294
         ]
        },
        {
         "name": "F3",
         "type": "scatter",
         "x": [
          0,
          1,
          2,
          3,
          4,
          5,
          6,
          7,
          8
         ],
         "y": [
          17,
          14,
          9,
          15,
          13,
          15,
          14,
          16,
          47
         ]
        },
        {
         "name": "F4",
         "type": "scatter",
         "x": [
          0,
          1,
          2,
          3,
          4,
          5,
          6,
          7,
          8
         ],
         "y": [
          6.79,
          7.87,
          6.78,
          7.31,
          9.24,
          10.64,
          10.64,
          8.74,
          9.29
         ]
        },
        {
         "name": "Predictions",
         "type": "scatter",
         "x": [
          6,
          7,
          8
         ],
         "y": [
          2.8539710446799904,
          3.032570997490513,
          3.3121571796700726
         ]
        }
       ],
       "layout": {
        "title": "Variation of Tenstosterone Over Samples for Person (80)",
        "xaxis": {
         "title": "Sample Number"
        },
        "yaxis": {
         "title": "Testosterone"
        }
       }
      },
      "text/html": [
       "<div id=\"6f797ef6-ac3e-4268-9cd1-bad05c9a44de\" style=\"height: 525px; width: 100%;\" class=\"plotly-graph-div\"></div><script type=\"text/javascript\">require([\"plotly\"], function(Plotly) { window.PLOTLYENV=window.PLOTLYENV || {};window.PLOTLYENV.BASE_URL=\"https://plot.ly\";Plotly.newPlot(\"6f797ef6-ac3e-4268-9cd1-bad05c9a44de\", [{\"type\": \"scatter\", \"x\": [0, 1, 2, 3, 4, 5, 6, 7, 8], \"y\": [1.57, 1.64, 1.75, 1.92, 2.75, 2.83, 2.99, 3.23, 16.61], \"name\": \"True Value\"}, {\"type\": \"scatter\", \"x\": [0, 1, 2, 3, 4, 5, 6, 7, 8], \"y\": [133.0, 135.0, 113.0, 90.0, 129.0, 129.0, 139.0, 135.0, 294.0], \"name\": \"F2\"}, {\"type\": \"scatter\", \"x\": [0, 1, 2, 3, 4, 5, 6, 7, 8], \"y\": [17.0, 14.0, 9.0, 15.0, 13.0, 15.0, 14.0, 16.0, 47.0], \"name\": \"F3\"}, {\"type\": \"scatter\", \"x\": [0, 1, 2, 3, 4, 5, 6, 7, 8], \"y\": [6.79, 7.87, 6.78, 7.31, 9.24, 10.64, 10.64, 8.74, 9.29], \"name\": \"F4\"}, {\"type\": \"scatter\", \"x\": [6, 7, 8], \"y\": [2.8539710446799904, 3.032570997490513, 3.3121571796700726], \"name\": \"Predictions\"}], {\"title\": \"Variation of Tenstosterone Over Samples for Person (80)\", \"xaxis\": {\"title\": \"Sample Number\"}, \"yaxis\": {\"title\": \"Testosterone\"}}, {\"showLink\": true, \"linkText\": \"Export to plot.ly\"})});</script>"
      ],
      "text/vnd.plotly.v1+html": [
       "<div id=\"6f797ef6-ac3e-4268-9cd1-bad05c9a44de\" style=\"height: 525px; width: 100%;\" class=\"plotly-graph-div\"></div><script type=\"text/javascript\">require([\"plotly\"], function(Plotly) { window.PLOTLYENV=window.PLOTLYENV || {};window.PLOTLYENV.BASE_URL=\"https://plot.ly\";Plotly.newPlot(\"6f797ef6-ac3e-4268-9cd1-bad05c9a44de\", [{\"type\": \"scatter\", \"x\": [0, 1, 2, 3, 4, 5, 6, 7, 8], \"y\": [1.57, 1.64, 1.75, 1.92, 2.75, 2.83, 2.99, 3.23, 16.61], \"name\": \"True Value\"}, {\"type\": \"scatter\", \"x\": [0, 1, 2, 3, 4, 5, 6, 7, 8], \"y\": [133.0, 135.0, 113.0, 90.0, 129.0, 129.0, 139.0, 135.0, 294.0], \"name\": \"F2\"}, {\"type\": \"scatter\", \"x\": [0, 1, 2, 3, 4, 5, 6, 7, 8], \"y\": [17.0, 14.0, 9.0, 15.0, 13.0, 15.0, 14.0, 16.0, 47.0], \"name\": \"F3\"}, {\"type\": \"scatter\", \"x\": [0, 1, 2, 3, 4, 5, 6, 7, 8], \"y\": [6.79, 7.87, 6.78, 7.31, 9.24, 10.64, 10.64, 8.74, 9.29], \"name\": \"F4\"}, {\"type\": \"scatter\", \"x\": [6, 7, 8], \"y\": [2.8539710446799904, 3.032570997490513, 3.3121571796700726], \"name\": \"Predictions\"}], {\"title\": \"Variation of Tenstosterone Over Samples for Person (80)\", \"xaxis\": {\"title\": \"Sample Number\"}, \"yaxis\": {\"title\": \"Testosterone\"}}, {\"showLink\": true, \"linkText\": \"Export to plot.ly\"})});</script>"
      ]
     },
     "metadata": {},
     "output_type": "display_data"
    }
   ],
   "source": [
    "show_testosterone(54)"
   ]
  }
 ],
 "metadata": {
  "kernelspec": {
   "display_name": "Python 3",
   "language": "python",
   "name": "python3"
  },
  "language_info": {
   "codemirror_mode": {
    "name": "ipython",
    "version": 3
   },
   "file_extension": ".py",
   "mimetype": "text/x-python",
   "name": "python",
   "nbconvert_exporter": "python",
   "pygments_lexer": "ipython3",
   "version": "3.6.3"
  }
 },
 "nbformat": 4,
 "nbformat_minor": 2
}
