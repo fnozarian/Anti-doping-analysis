{
 "cells": [
  {
   "cell_type": "markdown",
   "metadata": {},
   "source": [
    "# Wait.. but what is the Exploratory Data Analysis (EDA)?\n",
    "> In statistics, exploratory data analysis (EDA) is an approach to analyzing data sets to summarize their main characteristics, often with visual methods. A statistical model can be used or not, but primarily EDA is for seeing what the data can tell us beyond the formal modeling or hypothesis testing task. Exploratory data analysis was promoted by John Tukey to encourage statisticians to explore the data, and possibly formulate hypotheses that could lead to new data collection and experiments. EDA is different from initial data analysis (IDA),[1] which focuses more narrowly on checking assumptions required for model fitting and hypothesis testing, and handling missing values and making transformations of variables as needed. EDA encompasses IDA. __Wikipedia__"
   ]
  },
  {
   "cell_type": "code",
   "execution_count": 20,
   "metadata": {},
   "outputs": [
    {
     "data": {
      "text/html": [
       "<script>requirejs.config({paths: { 'plotly': ['https://cdn.plot.ly/plotly-latest.min']},});if(!window.Plotly) {{require(['plotly'],function(plotly) {window.Plotly=plotly;});}}</script>"
      ],
      "text/vnd.plotly.v1+html": [
       "<script>requirejs.config({paths: { 'plotly': ['https://cdn.plot.ly/plotly-latest.min']},});if(!window.Plotly) {{require(['plotly'],function(plotly) {window.Plotly=plotly;});}}</script>"
      ]
     },
     "metadata": {},
     "output_type": "display_data"
    }
   ],
   "source": [
    "import plotly.plotly as py\n",
    "import plotly.graph_objs as go\n",
    "from plotly.offline import download_plotlyjs, init_notebook_mode, plot, iplot\n",
    "from pandas import DataFrame\n",
    "init_notebook_mode(connected=True)\n",
    "import numpy as np\n",
    "from matplotlib import pyplot as plt\n",
    "%matplotlib inline\n",
    "\n",
    "from scipy.optimize import curve_fit\n",
    "from scipy.stats import norm"
   ]
  },
  {
   "cell_type": "markdown",
   "metadata": {},
   "source": [
    "## Dataset prepration"
   ]
  },
  {
   "cell_type": "code",
   "execution_count": 1,
   "metadata": {
    "collapsed": true
   },
   "outputs": [],
   "source": [
    "data = DataFrame.from_csv(\"./testosterone_levels.csv\")\n",
    "\n",
    "# whole population\n",
    "mean_std = np.array([[t.mean(), t.std()] for t in testosterones])\n",
    "cv = (mean_std[:, 1] / mean_std[:, 0]) * 100\n",
    "\n",
    "# gender specific population\n",
    "gender = data.groupby(\"Person\").first()['F1']\n",
    "male = data[data['F1'] == 1]\n",
    "female = data[data['F1'] == 2]\n",
    "male_testosterones = [p.Testosterone for _, p in male.groupby(\"Person\")]\n",
    "female_testosterones = [p.Testosterone for _, p in female.groupby(\"Person\")]\n",
    "\n",
    "mean_std_male = np.array([[t.mean(), t.std()] for t in male_testosterones])\n",
    "mean_std_female = np.array([[t.mean(), t.std()] for t in female_testosterones])\n",
    "cv_male = (mean_std_male[:, 1] / mean_std_male[:, 0]) * 100\n",
    "cv_female = (mean_std_female[:, 1] / mean_std_female[:, 0]) * 100\n",
    "\n",
    "testosterones = [p.Testosterone for _, p in data.groupby(\"Person\")]"
   ]
  },
  {
   "cell_type": "markdown",
   "metadata": {},
   "source": [
    "## Total Population"
   ]
  },
  {
   "cell_type": "markdown",
   "metadata": {},
   "source": [
    "### General trends of Testosterone in all athletes"
   ]
  },
  {
   "cell_type": "code",
   "execution_count": 26,
   "metadata": {},
   "outputs": [
    {
     "data": {
      "application/vnd.plotly.v1+json": {
       "data": [
        {
         "name": 1,
         "showlegend": false,
         "type": "scatter",
         "x": [
          0,
          1,
          2,
          3,
          4,
          5,
          6,
          7,
          8,
          9
         ],
         "y": [
          5.45,
          5.58,
          6.25,
          6.31,
          6.52,
          7.04,
          7.15,
          7.34,
          7.42,
          7.72
         ]
        },
        {
         "name": 1,
         "showlegend": false,
         "type": "scatter",
         "x": [
          0,
          1,
          2,
          3,
          4,
          5,
          6,
          7,
          8,
          9
         ],
         "y": [
          9.65,
          9.89,
          11.48,
          12.27,
          13.02,
          13.41,
          13.73,
          15.74,
          16.07,
          20.33
         ]
        },
        {
         "name": 1,
         "showlegend": false,
         "type": "scatter",
         "x": [
          0,
          1,
          2,
          3,
          4,
          5,
          6,
          7,
          8,
          9
         ],
         "y": [
          3.66,
          3.85,
          4.03,
          4.15,
          4.27,
          4.44,
          5.07,
          5.2,
          6.25,
          6.28
         ]
        },
        {
         "name": 1,
         "showlegend": false,
         "type": "scatter",
         "x": [
          0,
          1,
          2,
          3,
          4,
          5,
          6,
          7,
          8,
          9
         ],
         "y": [
          5.1,
          5.34,
          5.68,
          6,
          6.77,
          7.51,
          7.6,
          7.71,
          7.77,
          7.77
         ]
        },
        {
         "name": 1,
         "showlegend": false,
         "type": "scatter",
         "x": [
          0,
          1,
          2,
          3,
          4,
          5,
          6,
          7,
          8,
          9
         ],
         "y": [
          4.76,
          5.09,
          5.16,
          5.69,
          5.86,
          5.91,
          6.78,
          7.51,
          7.68,
          9.17
         ]
        },
        {
         "name": 1,
         "showlegend": false,
         "type": "scatter",
         "x": [
          0,
          1,
          2,
          3,
          4,
          5,
          6,
          7,
          8,
          9
         ],
         "y": [
          5.75,
          6.2,
          6.37,
          8.6,
          9.22,
          9.96,
          10.55,
          10.82,
          10.82,
          12.41
         ]
        },
        {
         "name": 1,
         "showlegend": false,
         "type": "scatter",
         "x": [
          0,
          1,
          2,
          3,
          4,
          5,
          6,
          7,
          8,
          9
         ],
         "y": [
          4.7,
          5.21,
          5.6,
          6.21,
          6.39,
          6.97,
          7.84,
          8.07,
          8.42,
          9.24
         ]
        },
        {
         "name": 1,
         "showlegend": false,
         "type": "scatter",
         "x": [
          0,
          1,
          2,
          3,
          4,
          5,
          6,
          7,
          8,
          9
         ],
         "y": [
          13.24,
          13.39,
          14.73,
          15.38,
          17.11,
          17.33,
          18.39,
          19.89,
          23.78,
          33.42
         ]
        },
        {
         "name": 1,
         "showlegend": false,
         "type": "scatter",
         "x": [
          0,
          1,
          2,
          3,
          4,
          5,
          6,
          7,
          8,
          9
         ],
         "y": [
          12.48,
          14.88,
          15.48,
          16.3,
          17.29,
          17.74,
          18.6,
          19.51,
          24.58,
          24.77
         ]
        },
        {
         "name": 1,
         "showlegend": false,
         "type": "scatter",
         "x": [
          0,
          1,
          2,
          3,
          4,
          5,
          6,
          7,
          8
         ],
         "y": [
          10.14,
          10.42,
          10.61,
          12.13,
          12.95,
          13.03,
          13.83,
          16.57,
          17.63
         ]
        },
        {
         "name": 1,
         "showlegend": false,
         "type": "scatter",
         "x": [
          0,
          1,
          2,
          3,
          4,
          5,
          6,
          7,
          8,
          9
         ],
         "y": [
          4.73,
          5.79,
          6.5,
          6.8,
          7.03,
          7.04,
          7.1,
          7.95,
          8.42,
          9.45
         ]
        },
        {
         "name": 1,
         "showlegend": false,
         "type": "scatter",
         "x": [
          0,
          1,
          2,
          3,
          4,
          5,
          6,
          7,
          8,
          9
         ],
         "y": [
          90.09,
          96.31,
          100.87,
          101.65,
          102.3,
          113.5,
          122.15,
          126.78,
          128.75,
          128.78
         ]
        },
        {
         "name": 1,
         "showlegend": false,
         "type": "scatter",
         "x": [
          0,
          1,
          2,
          3,
          4,
          5,
          6,
          7,
          8,
          9
         ],
         "y": [
          8.29,
          8.36,
          8.51,
          8.55,
          8.84,
          9.71,
          9.72,
          9.84,
          12.43,
          13.77
         ]
        },
        {
         "name": 1,
         "showlegend": false,
         "type": "scatter",
         "x": [
          0,
          1,
          2,
          3,
          4,
          5,
          6,
          7,
          8,
          9
         ],
         "y": [
          6.37,
          8.7,
          8.7,
          9.18,
          10,
          13.39,
          14.88,
          15.15,
          20.07,
          21.04
         ]
        },
        {
         "name": 1,
         "showlegend": false,
         "type": "scatter",
         "x": [
          0,
          1,
          2,
          3,
          4,
          5,
          6,
          7,
          8,
          9
         ],
         "y": [
          8.28,
          8.46,
          9.7,
          9.94,
          10.18,
          11.24,
          11.54,
          12.27,
          15.74,
          16.19
         ]
        },
        {
         "name": 1,
         "showlegend": false,
         "type": "scatter",
         "x": [
          0,
          1,
          2,
          3,
          4,
          5,
          6,
          7,
          8,
          9
         ],
         "y": [
          7.3,
          7.51,
          8.09,
          8.52,
          8.76,
          11.1,
          12.44,
          12.82,
          12.95,
          13.05
         ]
        },
        {
         "name": 1,
         "showlegend": false,
         "type": "scatter",
         "x": [
          0,
          1,
          2,
          3,
          4,
          5,
          6,
          7,
          8
         ],
         "y": [
          7.73,
          9.21,
          9.72,
          12.07,
          12.46,
          24.05,
          26.66,
          28.64,
          35.54
         ]
        },
        {
         "name": 1,
         "showlegend": false,
         "type": "scatter",
         "x": [
          0,
          1,
          2,
          3,
          4,
          5,
          6,
          7,
          8,
          9
         ],
         "y": [
          5.83,
          6.31,
          6.41,
          7.38,
          7.86,
          7.91,
          7.98,
          8.13,
          8.57,
          10.26
         ]
        },
        {
         "name": 1,
         "showlegend": false,
         "type": "scatter",
         "x": [
          0,
          1,
          2,
          3,
          4,
          5,
          6,
          7,
          8,
          9
         ],
         "y": [
          27.28,
          29.81,
          32.57,
          39.04,
          41.15,
          41.9,
          42.88,
          48.01,
          49,
          49.45
         ]
        },
        {
         "name": 1,
         "showlegend": false,
         "type": "scatter",
         "x": [
          0,
          1,
          2,
          3,
          4,
          5,
          6,
          7,
          8
         ],
         "y": [
          5.46,
          5.62,
          5.75,
          6.23,
          6.26,
          6.29,
          6.51,
          6.6,
          6.94
         ]
        },
        {
         "name": 1,
         "showlegend": false,
         "type": "scatter",
         "x": [
          0,
          1,
          2,
          3,
          4,
          5,
          6,
          7,
          8,
          9
         ],
         "y": [
          9.23,
          9.41,
          11.23,
          11.36,
          11.61,
          13.41,
          14.44,
          14.84,
          15.58,
          17.16
         ]
        },
        {
         "name": 1,
         "showlegend": false,
         "type": "scatter",
         "x": [
          0,
          1,
          2,
          3,
          4,
          5,
          6,
          7,
          8,
          9
         ],
         "y": [
          7.13,
          8.02,
          8.05,
          8.91,
          9.27,
          9.82,
          11.65,
          12.44,
          12.82,
          12.85
         ]
        },
        {
         "name": 1,
         "showlegend": false,
         "type": "scatter",
         "x": [
          0,
          1,
          2,
          3,
          4,
          5,
          6,
          7
         ],
         "y": [
          7.28,
          8.6,
          12.07,
          13.56,
          13.95,
          13.99,
          14.04,
          14.76
         ]
        },
        {
         "name": 1,
         "showlegend": false,
         "type": "scatter",
         "x": [
          0,
          1,
          2,
          3,
          4,
          5,
          6,
          7,
          8,
          9
         ],
         "y": [
          5.4,
          5.56,
          5.91,
          6.06,
          6.27,
          6.53,
          6.68,
          7.36,
          7.4,
          7.53
         ]
        },
        {
         "name": 1,
         "showlegend": false,
         "type": "scatter",
         "x": [
          0,
          1,
          2,
          3
         ],
         "y": [
          11.8,
          12.67,
          12.74,
          14.62
         ]
        },
        {
         "name": 1,
         "showlegend": false,
         "type": "scatter",
         "x": [
          0,
          1,
          2,
          3,
          4,
          5,
          6,
          7,
          8,
          9
         ],
         "y": [
          9.62,
          12.14,
          12.51,
          12.81,
          12.86,
          14.44,
          16.48,
          16.64,
          17.34,
          18.14
         ]
        },
        {
         "name": 1,
         "showlegend": false,
         "type": "scatter",
         "x": [
          0,
          1,
          2,
          3,
          4,
          5,
          6,
          7,
          8,
          9
         ],
         "y": [
          9.44,
          10.43,
          12.35,
          13.2,
          13.3,
          14.11,
          14.31,
          15.48,
          17.63,
          19.64
         ]
        },
        {
         "name": 1,
         "showlegend": false,
         "type": "scatter",
         "x": [
          0,
          1,
          2,
          3,
          4,
          5,
          6,
          7,
          8
         ],
         "y": [
          14.18,
          14.7,
          15.34,
          15.47,
          16.77,
          17.2,
          17.84,
          18.75,
          19.82
         ]
        },
        {
         "name": 1,
         "showlegend": false,
         "type": "scatter",
         "x": [
          0,
          1,
          2,
          3,
          4,
          5,
          6,
          7,
          8,
          9
         ],
         "y": [
          7.83,
          8.29,
          8.43,
          10.12,
          10.31,
          10.41,
          13.44,
          14.27,
          14.83,
          15.72
         ]
        },
        {
         "name": 1,
         "showlegend": false,
         "type": "scatter",
         "x": [
          0,
          1,
          2,
          3,
          4,
          5,
          6,
          7,
          8,
          9
         ],
         "y": [
          7.88,
          9.08,
          9.36,
          11.39,
          12.62,
          15.3,
          16.87,
          18.53,
          18.6,
          22.53
         ]
        },
        {
         "name": 1,
         "showlegend": false,
         "type": "scatter",
         "x": [
          0,
          1,
          2,
          3,
          4,
          5,
          6,
          7,
          8,
          9
         ],
         "y": [
          9.58,
          9.9,
          10.15,
          10.17,
          10.49,
          11.1,
          11.75,
          11.85,
          12.46,
          15.48
         ]
        },
        {
         "name": 1,
         "showlegend": false,
         "type": "scatter",
         "x": [
          0,
          1,
          2,
          3,
          4,
          5,
          6,
          7
         ],
         "y": [
          13.36,
          16.13,
          16.41,
          16.72,
          17.02,
          17.07,
          18.54,
          22.06
         ]
        },
        {
         "name": 1,
         "showlegend": false,
         "type": "scatter",
         "x": [
          0,
          1,
          2,
          3,
          4,
          5,
          6,
          7,
          8,
          9
         ],
         "y": [
          9.23,
          12.69,
          14.57,
          14.66,
          14.99,
          15.47,
          15.61,
          17,
          19.61,
          21.94
         ]
        },
        {
         "name": 1,
         "showlegend": false,
         "type": "scatter",
         "x": [
          0,
          1,
          2,
          3,
          4,
          5,
          6,
          7,
          8,
          9
         ],
         "y": [
          11.61,
          12.49,
          13.88,
          14.49,
          15.32,
          16.05,
          16.47,
          16.89,
          18.93,
          21.3
         ]
        },
        {
         "name": 1,
         "showlegend": false,
         "type": "scatter",
         "x": [
          0,
          1,
          2,
          3,
          4,
          5,
          6,
          7,
          8,
          9
         ],
         "y": [
          13.36,
          15.91,
          17.14,
          17.27,
          17.6,
          17.63,
          18.07,
          19.7,
          23.9,
          24.61
         ]
        },
        {
         "name": 1,
         "showlegend": false,
         "type": "scatter",
         "x": [
          0,
          1,
          2,
          3,
          4,
          5,
          6,
          7,
          8,
          9
         ],
         "y": [
          16.25,
          16.67,
          17.2,
          18.03,
          18.34,
          18.67,
          19.45,
          25.37,
          30.65,
          33.69
         ]
        },
        {
         "name": 1,
         "showlegend": false,
         "type": "scatter",
         "x": [
          0,
          1,
          2,
          3,
          4,
          5
         ],
         "y": [
          13,
          14.57,
          15.16,
          16.44,
          16.87,
          19.94
         ]
        },
        {
         "name": 1,
         "showlegend": false,
         "type": "scatter",
         "x": [
          0,
          1,
          2,
          3,
          4,
          5,
          6,
          7,
          8,
          9
         ],
         "y": [
          7.62,
          8.89,
          9.03,
          10.61,
          10.71,
          11.06,
          11.33,
          11.47,
          12.39,
          13.09
         ]
        },
        {
         "name": 1,
         "showlegend": false,
         "type": "scatter",
         "x": [
          0,
          1,
          2,
          3,
          4,
          5,
          6,
          7,
          8,
          9
         ],
         "y": [
          8.6,
          9.08,
          9.28,
          9.56,
          10.01,
          10.78,
          12.57,
          13.36,
          14.86,
          17.92
         ]
        },
        {
         "name": 1,
         "showlegend": false,
         "type": "scatter",
         "x": [
          0,
          1,
          2,
          3,
          4,
          5,
          6,
          7,
          8,
          9
         ],
         "y": [
          9.42,
          13.54,
          13.85,
          14.49,
          15.28,
          15.28,
          16.62,
          18.27,
          22.96,
          27.6
         ]
        },
        {
         "name": 1,
         "showlegend": false,
         "type": "scatter",
         "x": [
          0,
          1,
          2,
          3,
          4,
          5,
          6,
          7,
          8
         ],
         "y": [
          8.56,
          9.21,
          11.1,
          11.51,
          11.59,
          11.8,
          12.15,
          16.62,
          16.84
         ]
        },
        {
         "name": 1,
         "showlegend": false,
         "type": "scatter",
         "x": [
          0,
          1,
          2,
          3,
          4,
          5,
          6,
          7,
          8,
          9
         ],
         "y": [
          13.1,
          14.28,
          14.79,
          15.06,
          15.07,
          15.95,
          16.44,
          17.22,
          18.45,
          19.3
         ]
        },
        {
         "name": 1,
         "showlegend": false,
         "type": "scatter",
         "x": [
          0,
          1,
          2,
          3,
          4,
          5,
          6,
          7,
          8,
          9
         ],
         "y": [
          9.14,
          9.86,
          10.15,
          10.78,
          10.86,
          10.97,
          11.39,
          11.72,
          12.01,
          12.39
         ]
        },
        {
         "name": 1,
         "showlegend": false,
         "type": "scatter",
         "x": [
          0,
          1,
          2,
          3,
          4,
          5,
          6,
          7,
          8,
          9,
          10,
          11,
          12,
          13,
          14,
          15,
          16
         ],
         "y": [
          7.13,
          7.15,
          7.24,
          7.32,
          7.79,
          8.09,
          8.43,
          8.9,
          9.42,
          9.66,
          10.2,
          10.57,
          11.36,
          11.93,
          12.14,
          13.15,
          14.31
         ]
        },
        {
         "name": 1,
         "showlegend": false,
         "type": "scatter",
         "x": [
          0,
          1,
          2,
          3,
          4,
          5,
          6,
          7,
          8,
          9,
          10,
          11,
          12,
          13,
          14,
          15
         ],
         "y": [
          7.3,
          7.76,
          8.04,
          8.88,
          9.14,
          9.49,
          9.6,
          9.69,
          9.76,
          9.84,
          9.86,
          10.2,
          10.57,
          11.19,
          11.87,
          13.67
         ]
        },
        {
         "name": 1,
         "showlegend": false,
         "type": "scatter",
         "x": [
          0,
          1,
          2,
          3,
          4,
          5,
          6,
          7,
          8,
          9,
          10,
          11,
          12,
          13,
          14,
          15,
          16
         ],
         "y": [
          1.19,
          1.23,
          1.26,
          1.28,
          1.32,
          1.43,
          1.58,
          1.67,
          2.02,
          2.22,
          2.35,
          2.45,
          2.53,
          2.62,
          3.02,
          3.05,
          3.21
         ]
        },
        {
         "name": 1,
         "showlegend": false,
         "type": "scatter",
         "x": [
          0,
          1,
          2,
          3,
          4,
          5,
          6,
          7,
          8,
          9,
          10,
          11,
          12,
          13,
          14,
          15,
          16
         ],
         "y": [
          1.6,
          1.6,
          1.83,
          2.01,
          2.05,
          2.14,
          2.49,
          2.71,
          2.9,
          2.97,
          2.98,
          3.04,
          3.15,
          3.23,
          3.32,
          3.67,
          3.68
         ]
        },
        {
         "name": 1,
         "showlegend": false,
         "type": "scatter",
         "x": [
          0,
          1,
          2,
          3,
          4,
          5,
          6,
          7,
          8
         ],
         "y": [
          10.46,
          10.79,
          11.24,
          11.36,
          12.59,
          12.92,
          13.53,
          16.53,
          17.85
         ]
        },
        {
         "name": 1,
         "showlegend": false,
         "type": "scatter",
         "x": [
          0,
          1,
          2,
          3,
          4
         ],
         "y": [
          9.59,
          18.79,
          19.19,
          26.25,
          28.5
         ]
        },
        {
         "name": 1,
         "showlegend": false,
         "type": "scatter",
         "x": [
          0,
          1,
          2,
          3,
          4,
          5,
          6,
          7,
          8,
          9,
          10,
          11,
          12,
          13,
          14,
          15,
          16,
          17
         ],
         "y": [
          7.22,
          7.95,
          8.79,
          9.8,
          10.99,
          10.99,
          11.55,
          16.53,
          20.83,
          22.97,
          23.44,
          24.43,
          25.26,
          26.66,
          29.09,
          30,
          30.62,
          30.94
         ]
        },
        {
         "name": 1,
         "showlegend": false,
         "type": "scatter",
         "x": [
          0,
          1,
          2,
          3,
          4,
          5,
          6,
          7,
          8,
          9,
          10,
          11,
          12,
          13,
          14
         ],
         "y": [
          4.71,
          4.89,
          5.04,
          5.45,
          5.95,
          6.12,
          7,
          7.93,
          8.22,
          8.36,
          9.01,
          9.66,
          9.69,
          10.15,
          16.07
         ]
        },
        {
         "name": 1,
         "showlegend": false,
         "type": "scatter",
         "x": [
          0,
          1,
          2,
          3,
          4,
          5,
          6,
          7,
          8,
          9,
          10,
          11,
          12,
          13,
          14
         ],
         "y": [
          8.97,
          9.84,
          10.36,
          11.4,
          11.48,
          11.76,
          11.93,
          12.29,
          12.46,
          13.37,
          13.46,
          16.79,
          19.48,
          20.94,
          22.85
         ]
        },
        {
         "name": 1,
         "showlegend": false,
         "type": "scatter",
         "x": [
          0,
          1,
          2,
          3,
          4,
          5,
          6,
          7,
          8,
          9,
          10,
          11,
          12,
          13,
          14,
          15
         ],
         "y": [
          9.94,
          11.71,
          11.84,
          12.72,
          13.32,
          18.51,
          20.94,
          22.15,
          43.43,
          46.67,
          49.64,
          52.66,
          53.89,
          65.51,
          67.21,
          68.66
         ]
        },
        {
         "name": 1,
         "showlegend": false,
         "type": "scatter",
         "x": [
          0,
          1,
          2,
          3,
          4,
          5,
          6,
          7,
          8
         ],
         "y": [
          2.74,
          4.5,
          4.8,
          5.11,
          5.62,
          5.76,
          7.26,
          7.61,
          8.39
         ]
        },
        {
         "name": 1,
         "showlegend": false,
         "type": "scatter",
         "x": [
          0,
          1,
          2,
          3,
          4,
          5,
          6,
          7
         ],
         "y": [
          5.98,
          6.83,
          8.74,
          9.13,
          9.94,
          12.52,
          16.44,
          17.85
         ]
        },
        {
         "name": 1,
         "showlegend": false,
         "type": "scatter",
         "x": [
          0,
          1,
          2,
          3,
          4,
          5,
          6,
          7,
          8,
          9,
          10,
          11,
          12,
          13,
          14,
          15,
          16,
          17
         ],
         "y": [
          12.04,
          12.59,
          12.77,
          13.42,
          13.58,
          14.24,
          15.54,
          15.6,
          21.93,
          24.68,
          25.98,
          30,
          31.26,
          39.59,
          39.59,
          40,
          40.83,
          52.79
         ]
        },
        {
         "name": 1,
         "showlegend": false,
         "type": "scatter",
         "x": [
          0,
          1,
          2,
          3,
          4,
          5,
          6,
          7,
          8
         ],
         "y": [
          1.57,
          1.64,
          1.75,
          1.92,
          2.75,
          2.83,
          2.99,
          3.23,
          16.61
         ]
        },
        {
         "name": 1,
         "showlegend": false,
         "type": "scatter",
         "x": [
          0,
          1,
          2,
          3,
          4
         ],
         "y": [
          3.44,
          10.79,
          13.05,
          13.95,
          15.46
         ]
        },
        {
         "name": 1,
         "showlegend": false,
         "type": "scatter",
         "x": [
          0,
          1,
          2,
          3,
          4,
          5,
          6,
          7,
          8,
          9,
          10,
          11,
          12,
          13,
          14,
          15
         ],
         "y": [
          2.86,
          3.95,
          4.61,
          4.62,
          4.65,
          4.97,
          5.41,
          5.46,
          5.54,
          5.91,
          6.29,
          6.88,
          8.05,
          8.18,
          10.79,
          11.48
         ]
        },
        {
         "name": 1,
         "showlegend": false,
         "type": "scatter",
         "x": [
          0,
          1,
          2,
          3,
          4,
          5,
          6,
          7,
          8,
          9,
          10,
          11,
          12,
          13,
          14,
          15,
          16
         ],
         "y": [
          2.87,
          3.22,
          3.65,
          3.71,
          3.84,
          3.95,
          4.01,
          4.06,
          4.1,
          4.36,
          4.41,
          4.55,
          5.12,
          5.45,
          5.91,
          6.37,
          7.23
         ]
        },
        {
         "name": 1,
         "showlegend": false,
         "type": "scatter",
         "x": [
          0,
          1,
          2,
          3,
          4,
          5,
          6,
          7
         ],
         "y": [
          8.01,
          8.58,
          9.2,
          9.25,
          10.15,
          10.99,
          12.27,
          14.17
         ]
        },
        {
         "name": 1,
         "showlegend": false,
         "type": "scatter",
         "x": [
          0,
          1,
          2,
          3,
          4,
          5,
          6,
          7
         ],
         "y": [
          5.39,
          5.81,
          6.29,
          6.71,
          8.39,
          10.57,
          11.54,
          11.65
         ]
        },
        {
         "name": 1,
         "showlegend": false,
         "type": "scatter",
         "x": [
          0,
          1,
          2,
          3,
          4,
          5,
          6,
          7,
          8,
          9,
          10,
          11,
          12,
          13,
          14,
          15,
          16,
          17
         ],
         "y": [
          3.54,
          4.8,
          4.89,
          4.99,
          5.37,
          5.54,
          5.55,
          6.07,
          6.32,
          6.97,
          7.04,
          7.65,
          8.9,
          9.44,
          11.07,
          11.65,
          11.84,
          11.84
         ]
        },
        {
         "name": 1,
         "showlegend": false,
         "type": "scatter",
         "x": [
          0,
          1,
          2,
          3,
          4,
          5,
          6,
          7,
          8,
          9,
          10,
          11,
          12,
          13,
          14,
          15,
          16
         ],
         "y": [
          3.62,
          3.68,
          4.27,
          4.53,
          4.69,
          5.39,
          5.68,
          6.24,
          6.27,
          7.21,
          8.74,
          9.13,
          9.44,
          9.44,
          9.59,
          9.94,
          10.41
         ]
        },
        {
         "name": 1,
         "showlegend": false,
         "type": "scatter",
         "x": [
          0,
          1,
          2,
          3,
          4,
          5,
          6,
          7,
          8,
          9,
          10,
          11,
          12,
          13,
          14,
          15
         ],
         "y": [
          1.25,
          1.33,
          1.4,
          1.56,
          1.57,
          1.64,
          2.06,
          2.16,
          2.18,
          2.23,
          2.27,
          2.36,
          2.55,
          2.85,
          2.86,
          2.9
         ]
        },
        {
         "name": 1,
         "showlegend": false,
         "type": "scatter",
         "x": [
          0,
          1,
          2,
          3,
          4,
          5,
          6,
          7,
          8,
          9,
          10,
          11,
          12,
          13,
          14
         ],
         "y": [
          7.53,
          8.13,
          8.2,
          9.25,
          11.85,
          13.6,
          13.74,
          14.17,
          14.65,
          14.65,
          16.28,
          17.05,
          17.22,
          19.68,
          19.68
         ]
        },
        {
         "name": 1,
         "showlegend": false,
         "type": "scatter",
         "x": [
          0,
          1,
          2,
          3,
          4,
          5,
          6,
          7,
          8,
          9,
          10,
          11,
          12,
          13,
          14
         ],
         "y": [
          4.63,
          5.2,
          6.05,
          6.07,
          6.88,
          9.2,
          9.61,
          10.25,
          10.41,
          10.9,
          11.21,
          12.59,
          12.59,
          13.74,
          14.46
         ]
        },
        {
         "name": 1,
         "showlegend": false,
         "type": "scatter",
         "x": [
          0,
          1,
          2,
          3,
          4,
          5,
          6,
          7,
          8,
          9,
          10,
          11,
          12,
          13,
          14
         ],
         "y": [
          6.43,
          7.24,
          7.28,
          7.49,
          7.49,
          7.57,
          7.77,
          7.81,
          8.07,
          8.18,
          8.45,
          8.9,
          9.05,
          9.42,
          9.82
         ]
        },
        {
         "name": 1,
         "showlegend": false,
         "type": "scatter",
         "x": [
          0,
          1,
          2,
          3,
          4,
          5,
          6,
          7,
          8,
          9,
          10,
          11,
          12,
          13,
          14
         ],
         "y": [
          3.43,
          5.38,
          5.71,
          5.85,
          5.99,
          6.08,
          6.32,
          6.74,
          6.8,
          6.83,
          7.03,
          7.26,
          7.26,
          7.43,
          9.18
         ]
        },
        {
         "name": 1,
         "showlegend": false,
         "type": "scatter",
         "x": [
          0,
          1,
          2,
          3,
          4,
          5,
          6,
          7,
          8,
          9,
          10,
          11,
          12,
          13,
          14
         ],
         "y": [
          5.63,
          5.91,
          6.32,
          6.8,
          6.83,
          11.84,
          12.3,
          12.69,
          13.12,
          13.22,
          16.53,
          17.31,
          17.31,
          17.67,
          18.32
         ]
        },
        {
         "name": 1,
         "showlegend": false,
         "type": "scatter",
         "x": [
          0,
          1,
          2,
          3,
          4,
          5,
          6,
          7,
          8,
          9,
          10,
          11,
          12,
          13,
          14
         ],
         "y": [
          4.46,
          4.94,
          5.18,
          5.41,
          5.58,
          5.81,
          6.87,
          7.03,
          7.61,
          7.81,
          8.74,
          8.97,
          10.04,
          10.25,
          10.79
         ]
        },
        {
         "name": 1,
         "showlegend": false,
         "type": "scatter",
         "x": [
          0,
          1,
          2,
          3,
          4
         ],
         "y": [
          6.16,
          6.38,
          6.86,
          7.12,
          7.12
         ]
        },
        {
         "name": 1,
         "showlegend": false,
         "type": "scatter",
         "x": [
          0,
          1,
          2,
          3,
          4
         ],
         "y": [
          4.42,
          4.66,
          5.5,
          5.5,
          6.18
         ]
        },
        {
         "name": 1,
         "showlegend": false,
         "type": "scatter",
         "x": [
          0,
          1,
          2,
          3,
          4
         ],
         "y": [
          5.18,
          5.2,
          6.02,
          6.18,
          6.32
         ]
        },
        {
         "name": 1,
         "showlegend": false,
         "type": "scatter",
         "x": [
          0,
          1,
          2,
          3,
          4
         ],
         "y": [
          1.6,
          1.81,
          2.19,
          2.3,
          2.91
         ]
        },
        {
         "name": 1,
         "showlegend": false,
         "type": "scatter",
         "x": [
          0,
          1,
          2,
          3,
          4
         ],
         "y": [
          14.06,
          14.54,
          15.26,
          17.22,
          21.15
         ]
        },
        {
         "name": 1,
         "showlegend": false,
         "type": "scatter",
         "x": [
          0,
          1,
          2,
          3,
          4
         ],
         "y": [
          5.38,
          5.93,
          5.93,
          6.12,
          6.13
         ]
        },
        {
         "name": 1,
         "showlegend": false,
         "type": "scatter",
         "x": [
          0,
          1,
          2,
          3,
          4
         ],
         "y": [
          6.45,
          7.55,
          7.87,
          8.67,
          10.53
         ]
        },
        {
         "name": 1,
         "showlegend": false,
         "type": "scatter",
         "x": [
          0,
          1,
          2,
          3,
          4
         ],
         "y": [
          8.52,
          11.2,
          11.94,
          12.82,
          13.15
         ]
        },
        {
         "name": 1,
         "showlegend": false,
         "type": "scatter",
         "x": [
          0,
          1,
          2,
          3,
          4
         ],
         "y": [
          19.74,
          22.21,
          23.38,
          24.43,
          27.7
         ]
        },
        {
         "name": 1,
         "showlegend": false,
         "type": "scatter",
         "x": [
          0,
          1,
          2,
          3,
          4
         ],
         "y": [
          1.16,
          1.24,
          1.41,
          1.51,
          1.92
         ]
        },
        {
         "name": 1,
         "showlegend": false,
         "type": "scatter",
         "x": [
          0,
          1,
          2,
          3,
          4
         ],
         "y": [
          1.64,
          1.69,
          1.92,
          2.12,
          2.45
         ]
        },
        {
         "name": 1,
         "showlegend": false,
         "type": "scatter",
         "x": [
          0,
          1,
          2,
          3,
          4
         ],
         "y": [
          1.37,
          1.4,
          1.52,
          1.57,
          1.8
         ]
        },
        {
         "name": 1,
         "showlegend": false,
         "type": "scatter",
         "x": [
          0,
          1,
          2,
          3,
          4
         ],
         "y": [
          3.68,
          4.2,
          4.57,
          4.92,
          6.37
         ]
        },
        {
         "name": 1,
         "showlegend": false,
         "type": "scatter",
         "x": [
          0,
          1,
          2,
          3,
          4
         ],
         "y": [
          1.84,
          2.16,
          2.25,
          2.25,
          2.56
         ]
        },
        {
         "name": 1,
         "showlegend": false,
         "type": "scatter",
         "x": [
          0,
          1,
          2,
          3,
          4
         ],
         "y": [
          3.11,
          3.72,
          4.14,
          4.2,
          4.3
         ]
        },
        {
         "name": 1,
         "showlegend": false,
         "type": "scatter",
         "x": [
          0,
          1,
          2,
          3,
          4
         ],
         "y": [
          1.01,
          1.04,
          1.07,
          1.31,
          1.56
         ]
        },
        {
         "name": 1,
         "showlegend": false,
         "type": "scatter",
         "x": [
          0,
          1,
          2,
          3,
          4
         ],
         "y": [
          6.9,
          7.57,
          8.44,
          8.71,
          12.36
         ]
        },
        {
         "name": 1,
         "showlegend": false,
         "type": "scatter",
         "x": [
          0,
          1,
          2,
          3,
          4
         ],
         "y": [
          10.11,
          10.9,
          12.24,
          12.3,
          12.36
         ]
        },
        {
         "name": 1,
         "showlegend": false,
         "type": "scatter",
         "x": [
          0,
          1,
          2,
          3,
          4
         ],
         "y": [
          6.75,
          8.67,
          8.97,
          10.08,
          10.29
         ]
        },
        {
         "name": 1,
         "showlegend": false,
         "type": "scatter",
         "x": [
          0,
          1,
          2,
          3,
          4
         ],
         "y": [
          7.25,
          7.78,
          7.84,
          8.26,
          9.7
         ]
        },
        {
         "name": 1,
         "showlegend": false,
         "type": "scatter",
         "x": [
          0,
          1,
          2,
          3,
          4
         ],
         "y": [
          6.23,
          7.75,
          8.18,
          9.56,
          10.57
         ]
        },
        {
         "name": 1,
         "showlegend": false,
         "type": "scatter",
         "x": [
          0,
          1,
          2,
          3
         ],
         "y": [
          10.83,
          11.65,
          12.56,
          13.22
         ]
        },
        {
         "name": 1,
         "showlegend": false,
         "type": "scatter",
         "x": [
          0,
          1,
          2,
          3,
          4
         ],
         "y": [
          5.1,
          5.16,
          5.24,
          5.34,
          5.66
         ]
        },
        {
         "name": 1,
         "showlegend": false,
         "type": "scatter",
         "x": [
          0,
          1,
          2,
          3,
          4
         ],
         "y": [
          1.42,
          1.58,
          1.6,
          1.64,
          1.74
         ]
        },
        {
         "name": 1,
         "showlegend": false,
         "type": "scatter",
         "x": [
          0,
          1,
          2,
          3,
          4
         ],
         "y": [
          0.44,
          0.69,
          0.77,
          0.78,
          0.95
         ]
        },
        {
         "name": 1,
         "showlegend": false,
         "type": "scatter",
         "x": [
          0,
          1,
          2,
          3,
          4
         ],
         "y": [
          5.59,
          6.11,
          6.49,
          6.83,
          7.02
         ]
        },
        {
         "name": 1,
         "showlegend": false,
         "type": "scatter",
         "x": [
          0,
          1,
          2,
          3,
          4
         ],
         "y": [
          6.45,
          6.5,
          6.98,
          8.15,
          8.41
         ]
        },
        {
         "name": 1,
         "showlegend": false,
         "type": "scatter",
         "x": [
          0,
          1,
          2,
          3,
          4
         ],
         "y": [
          5.68,
          6.9,
          6.9,
          7.23,
          9.06
         ]
        },
        {
         "name": 1,
         "showlegend": false,
         "type": "scatter",
         "x": [
          0,
          1,
          2,
          3,
          4
         ],
         "y": [
          8.7,
          9.01,
          9.27,
          10.09,
          11.54
         ]
        },
        {
         "name": 1,
         "showlegend": false,
         "type": "scatter",
         "x": [
          0,
          1,
          2,
          3,
          4
         ],
         "y": [
          28.79,
          29.85,
          30,
          40.83,
          46.19
         ]
        },
        {
         "name": 1,
         "showlegend": false,
         "type": "scatter",
         "x": [
          0,
          1,
          2,
          3,
          4
         ],
         "y": [
          14.91,
          16.19,
          16.36,
          17.05,
          17.83
         ]
        },
        {
         "name": 1,
         "showlegend": false,
         "type": "scatter",
         "x": [
          0,
          1,
          2,
          3,
          4
         ],
         "y": [
          4.73,
          5.5,
          6.05,
          6.34,
          8.19
         ]
        },
        {
         "name": 1,
         "showlegend": false,
         "type": "scatter",
         "x": [
          0,
          1,
          2,
          3,
          4
         ],
         "y": [
          6.11,
          6.27,
          6.83,
          6.87,
          7.43
         ]
        },
        {
         "name": 1,
         "showlegend": false,
         "type": "scatter",
         "x": [
          0,
          1,
          2,
          3,
          4
         ],
         "y": [
          7.69,
          8.7,
          8.81,
          8.92,
          12.1
         ]
        },
        {
         "name": 1,
         "showlegend": false,
         "type": "scatter",
         "x": [
          0,
          1,
          2,
          3,
          4
         ],
         "y": [
          7.49,
          7.57,
          7.6,
          8.02,
          8.05
         ]
        },
        {
         "name": 1,
         "showlegend": false,
         "type": "scatter",
         "x": [
          0,
          1,
          2,
          3,
          4
         ],
         "y": [
          1.42,
          2.21,
          2.41,
          2.48,
          2.53
         ]
        },
        {
         "name": 1,
         "showlegend": false,
         "type": "scatter",
         "x": [
          0,
          1,
          2,
          3,
          4
         ],
         "y": [
          0.73,
          0.73,
          0.74,
          0.86,
          1.08
         ]
        },
        {
         "name": 1,
         "showlegend": false,
         "type": "scatter",
         "x": [
          0,
          1,
          2,
          3,
          4
         ],
         "y": [
          8.41,
          10.85,
          11.93,
          12.48,
          12.52
         ]
        },
        {
         "name": 1,
         "showlegend": false,
         "type": "scatter",
         "x": [
          0,
          1,
          2,
          3,
          4
         ],
         "y": [
          7.45,
          8.26,
          8.51,
          9.81,
          11.79
         ]
        },
        {
         "name": 1,
         "showlegend": false,
         "type": "scatter",
         "x": [
          0,
          1,
          2,
          3,
          4
         ],
         "y": [
          0.76,
          0.77,
          0.86,
          0.88,
          0.98
         ]
        },
        {
         "name": 1,
         "showlegend": false,
         "type": "scatter",
         "x": [
          0,
          1,
          2,
          3,
          4
         ],
         "y": [
          9.59,
          15.74,
          16.44,
          17.76,
          20.51
         ]
        },
        {
         "name": 1,
         "showlegend": false,
         "type": "scatter",
         "x": [
          0,
          1,
          2,
          3,
          4
         ],
         "y": [
          1.3,
          1.61,
          1.88,
          2.03,
          2.2
         ]
        },
        {
         "name": 1,
         "showlegend": false,
         "type": "scatter",
         "x": [
          0,
          1,
          2,
          3,
          4
         ],
         "y": [
          5.14,
          5.74,
          6.23,
          6.85,
          7.37
         ]
        },
        {
         "name": 1,
         "showlegend": false,
         "type": "scatter",
         "x": [
          0,
          1,
          2,
          3,
          4
         ],
         "y": [
          5.31,
          6.16,
          6.41,
          6.43,
          13.04
         ]
        },
        {
         "name": 1,
         "showlegend": false,
         "type": "scatter",
         "x": [
          0,
          1,
          2,
          3,
          4
         ],
         "y": [
          10.08,
          16.38,
          17.76,
          18.65,
          24.36
         ]
        },
        {
         "name": 1,
         "showlegend": false,
         "type": "scatter",
         "x": [
          0,
          1,
          2,
          3,
          4
         ],
         "y": [
          2.6,
          2.71,
          3.21,
          3.52,
          4.22
         ]
        },
        {
         "name": 1,
         "showlegend": false,
         "type": "scatter",
         "x": [
          0,
          1,
          2,
          3,
          4
         ],
         "y": [
          2.26,
          2.64,
          2.72,
          2.73,
          3.72
         ]
        },
        {
         "name": 1,
         "showlegend": false,
         "type": "scatter",
         "x": [
          0,
          1,
          2,
          3,
          4
         ],
         "y": [
          2.56,
          2.8,
          3.13,
          3.26,
          4.4
         ]
        },
        {
         "name": 1,
         "showlegend": false,
         "type": "scatter",
         "x": [
          0,
          1,
          2,
          3
         ],
         "y": [
          4.8,
          5.98,
          6.45,
          6.59
         ]
        },
        {
         "name": 1,
         "showlegend": false,
         "type": "scatter",
         "x": [
          0,
          1,
          2,
          3,
          4
         ],
         "y": [
          3.41,
          3.5,
          3.59,
          4.1,
          4.44
         ]
        },
        {
         "name": 1,
         "showlegend": false,
         "type": "scatter",
         "x": [
          0,
          1,
          2,
          3,
          4
         ],
         "y": [
          2.23,
          2.33,
          2.5,
          3.21,
          3.78
         ]
        },
        {
         "name": 1,
         "showlegend": false,
         "type": "scatter",
         "x": [
          0,
          1,
          2,
          3,
          4
         ],
         "y": [
          6.12,
          6.48,
          7.33,
          7.93,
          8.28
         ]
        },
        {
         "name": 1,
         "showlegend": false,
         "type": "scatter",
         "x": [
          0,
          1,
          2,
          3,
          4
         ],
         "y": [
          10.2,
          12.95,
          13.12,
          14.69,
          18.41
         ]
        },
        {
         "name": 1,
         "showlegend": false,
         "type": "scatter",
         "x": [
          0,
          1,
          2,
          3,
          4
         ],
         "y": [
          9.33,
          11.39,
          12.98,
          13.42,
          21.04
         ]
        },
        {
         "name": 1,
         "showlegend": false,
         "type": "scatter",
         "x": [
          0,
          1,
          2,
          3
         ],
         "y": [
          9.59,
          9.75,
          11.96,
          15.54
         ]
        },
        {
         "name": 1,
         "showlegend": false,
         "type": "scatter",
         "x": [
          0,
          1,
          2,
          3,
          4
         ],
         "y": [
          8.2,
          8.9,
          10.69,
          10.73,
          11.07
         ]
        },
        {
         "name": 1,
         "showlegend": false,
         "type": "scatter",
         "x": [
          0,
          1,
          2,
          3,
          4
         ],
         "y": [
          7.16,
          8.57,
          9.95,
          12.33,
          12.38
         ]
        },
        {
         "name": 1,
         "showlegend": false,
         "type": "scatter",
         "x": [
          0,
          1,
          2,
          3
         ],
         "y": [
          8.35,
          8.56,
          8.85,
          10.95
         ]
        },
        {
         "name": 1,
         "showlegend": false,
         "type": "scatter",
         "x": [
          0,
          1,
          2,
          3,
          4
         ],
         "y": [
          12.27,
          13.32,
          14.41,
          14.57,
          15.62
         ]
        },
        {
         "name": 1,
         "showlegend": false,
         "type": "scatter",
         "x": [
          0,
          1,
          2,
          3,
          4
         ],
         "y": [
          15.03,
          16.96,
          18.04,
          19.94,
          21.48
         ]
        },
        {
         "name": 1,
         "showlegend": false,
         "type": "scatter",
         "x": [
          0,
          1,
          2,
          3,
          4
         ],
         "y": [
          0.51,
          0.55,
          0.56,
          0.59,
          1.09
         ]
        },
        {
         "name": 1,
         "showlegend": false,
         "type": "scatter",
         "x": [
          0,
          1,
          2,
          3,
          4
         ],
         "y": [
          7.35,
          8.41,
          9.39,
          9.4,
          9.55
         ]
        },
        {
         "name": 1,
         "showlegend": false,
         "type": "scatter",
         "x": [
          0,
          1,
          2,
          3
         ],
         "y": [
          1.56,
          1.62,
          1.71,
          1.8
         ]
        },
        {
         "name": 1,
         "showlegend": false,
         "type": "scatter",
         "x": [
          0,
          1,
          2,
          3,
          4
         ],
         "y": [
          2.34,
          2.65,
          2.73,
          2.91,
          3.33
         ]
        },
        {
         "name": 1,
         "showlegend": false,
         "type": "scatter",
         "x": [
          0,
          1,
          2,
          3,
          4
         ],
         "y": [
          1.05,
          1.28,
          1.31,
          1.53,
          1.96
         ]
        },
        {
         "name": 1,
         "showlegend": false,
         "type": "scatter",
         "x": [
          0,
          1,
          2,
          3,
          4
         ],
         "y": [
          1.57,
          1.97,
          2.06,
          2.1,
          2.25
         ]
        },
        {
         "name": 1,
         "showlegend": false,
         "type": "scatter",
         "x": [
          0,
          1,
          2,
          3,
          4
         ],
         "y": [
          1.43,
          1.44,
          1.55,
          1.6,
          1.79
         ]
        }
       ],
       "layout": {
        "title": "Whole population testosterone",
        "xaxis": {
         "title": "Samples"
        },
        "yaxis": {
         "title": "T"
        }
       }
      },
      "text/html": [
       "<div id=\"d6eb21a3-a458-4968-859a-12aa37c048b2\" style=\"height: 525px; width: 100%;\" class=\"plotly-graph-div\"></div><script type=\"text/javascript\">require([\"plotly\"], function(Plotly) { window.PLOTLYENV=window.PLOTLYENV || {};window.PLOTLYENV.BASE_URL=\"https://plot.ly\";Plotly.newPlot(\"d6eb21a3-a458-4968-859a-12aa37c048b2\", [{\"type\": \"scatter\", \"x\": [0, 1, 2, 3, 4, 5, 6, 7, 8, 9], \"y\": [5.45, 5.58, 6.25, 6.31, 6.52, 7.04, 7.15, 7.34, 7.42, 7.72], \"name\": 1, \"showlegend\": false}, {\"type\": \"scatter\", \"x\": [0, 1, 2, 3, 4, 5, 6, 7, 8, 9], \"y\": [9.65, 9.89, 11.48, 12.27, 13.02, 13.41, 13.73, 15.74, 16.07, 20.33], \"name\": 1, \"showlegend\": false}, {\"type\": \"scatter\", \"x\": [0, 1, 2, 3, 4, 5, 6, 7, 8, 9], \"y\": [3.66, 3.85, 4.03, 4.15, 4.27, 4.44, 5.07, 5.2, 6.25, 6.28], \"name\": 1, \"showlegend\": false}, {\"type\": \"scatter\", \"x\": [0, 1, 2, 3, 4, 5, 6, 7, 8, 9], \"y\": [5.1, 5.34, 5.68, 6.0, 6.77, 7.51, 7.6, 7.71, 7.77, 7.77], \"name\": 1, \"showlegend\": false}, {\"type\": \"scatter\", \"x\": [0, 1, 2, 3, 4, 5, 6, 7, 8, 9], \"y\": [4.76, 5.09, 5.16, 5.69, 5.86, 5.91, 6.78, 7.51, 7.68, 9.17], \"name\": 1, \"showlegend\": false}, {\"type\": \"scatter\", \"x\": [0, 1, 2, 3, 4, 5, 6, 7, 8, 9], \"y\": [5.75, 6.2, 6.37, 8.6, 9.22, 9.96, 10.55, 10.82, 10.82, 12.41], \"name\": 1, \"showlegend\": false}, {\"type\": \"scatter\", \"x\": [0, 1, 2, 3, 4, 5, 6, 7, 8, 9], \"y\": [4.7, 5.21, 5.6, 6.21, 6.39, 6.97, 7.84, 8.07, 8.42, 9.24], \"name\": 1, \"showlegend\": false}, {\"type\": \"scatter\", \"x\": [0, 1, 2, 3, 4, 5, 6, 7, 8, 9], \"y\": [13.24, 13.39, 14.73, 15.38, 17.11, 17.33, 18.39, 19.89, 23.78, 33.42], \"name\": 1, \"showlegend\": false}, {\"type\": \"scatter\", \"x\": [0, 1, 2, 3, 4, 5, 6, 7, 8, 9], \"y\": [12.48, 14.88, 15.48, 16.3, 17.29, 17.74, 18.6, 19.51, 24.58, 24.77], \"name\": 1, \"showlegend\": false}, {\"type\": \"scatter\", \"x\": [0, 1, 2, 3, 4, 5, 6, 7, 8], \"y\": [10.14, 10.42, 10.61, 12.13, 12.95, 13.03, 13.83, 16.57, 17.63], \"name\": 1, \"showlegend\": false}, {\"type\": \"scatter\", \"x\": [0, 1, 2, 3, 4, 5, 6, 7, 8, 9], \"y\": [4.73, 5.79, 6.5, 6.8, 7.03, 7.04, 7.1, 7.95, 8.42, 9.45], \"name\": 1, \"showlegend\": false}, {\"type\": \"scatter\", \"x\": [0, 1, 2, 3, 4, 5, 6, 7, 8, 9], \"y\": [90.09, 96.31, 100.87, 101.65, 102.3, 113.5, 122.15, 126.78, 128.75, 128.78], \"name\": 1, \"showlegend\": false}, {\"type\": \"scatter\", \"x\": [0, 1, 2, 3, 4, 5, 6, 7, 8, 9], \"y\": [8.29, 8.36, 8.51, 8.55, 8.84, 9.71, 9.72, 9.84, 12.43, 13.77], \"name\": 1, \"showlegend\": false}, {\"type\": \"scatter\", \"x\": [0, 1, 2, 3, 4, 5, 6, 7, 8, 9], \"y\": [6.37, 8.7, 8.7, 9.18, 10.0, 13.39, 14.88, 15.15, 20.07, 21.04], \"name\": 1, \"showlegend\": false}, {\"type\": \"scatter\", \"x\": [0, 1, 2, 3, 4, 5, 6, 7, 8, 9], \"y\": [8.28, 8.46, 9.7, 9.94, 10.18, 11.24, 11.54, 12.27, 15.74, 16.19], \"name\": 1, \"showlegend\": false}, {\"type\": \"scatter\", \"x\": [0, 1, 2, 3, 4, 5, 6, 7, 8, 9], \"y\": [7.3, 7.51, 8.09, 8.52, 8.76, 11.1, 12.44, 12.82, 12.95, 13.05], \"name\": 1, \"showlegend\": false}, {\"type\": \"scatter\", \"x\": [0, 1, 2, 3, 4, 5, 6, 7, 8], \"y\": [7.73, 9.21, 9.72, 12.07, 12.46, 24.05, 26.66, 28.64, 35.54], \"name\": 1, \"showlegend\": false}, {\"type\": \"scatter\", \"x\": [0, 1, 2, 3, 4, 5, 6, 7, 8, 9], \"y\": [5.83, 6.31, 6.41, 7.38, 7.86, 7.91, 7.98, 8.13, 8.57, 10.26], \"name\": 1, \"showlegend\": false}, {\"type\": \"scatter\", \"x\": [0, 1, 2, 3, 4, 5, 6, 7, 8, 9], \"y\": [27.28, 29.81, 32.57, 39.04, 41.15, 41.9, 42.88, 48.01, 49.0, 49.45], \"name\": 1, \"showlegend\": false}, {\"type\": \"scatter\", \"x\": [0, 1, 2, 3, 4, 5, 6, 7, 8], \"y\": [5.46, 5.62, 5.75, 6.23, 6.26, 6.29, 6.51, 6.6, 6.94], \"name\": 1, \"showlegend\": false}, {\"type\": \"scatter\", \"x\": [0, 1, 2, 3, 4, 5, 6, 7, 8, 9], \"y\": [9.23, 9.41, 11.23, 11.36, 11.61, 13.41, 14.44, 14.84, 15.58, 17.16], \"name\": 1, \"showlegend\": false}, {\"type\": \"scatter\", \"x\": [0, 1, 2, 3, 4, 5, 6, 7, 8, 9], \"y\": [7.13, 8.02, 8.05, 8.91, 9.27, 9.82, 11.65, 12.44, 12.82, 12.85], \"name\": 1, \"showlegend\": false}, {\"type\": \"scatter\", \"x\": [0, 1, 2, 3, 4, 5, 6, 7], \"y\": [7.28, 8.6, 12.07, 13.56, 13.95, 13.99, 14.04, 14.76], \"name\": 1, \"showlegend\": false}, {\"type\": \"scatter\", \"x\": [0, 1, 2, 3, 4, 5, 6, 7, 8, 9], \"y\": [5.4, 5.56, 5.91, 6.06, 6.27, 6.53, 6.68, 7.36, 7.4, 7.53], \"name\": 1, \"showlegend\": false}, {\"type\": \"scatter\", \"x\": [0, 1, 2, 3], \"y\": [11.8, 12.67, 12.74, 14.62], \"name\": 1, \"showlegend\": false}, {\"type\": \"scatter\", \"x\": [0, 1, 2, 3, 4, 5, 6, 7, 8, 9], \"y\": [9.62, 12.14, 12.51, 12.81, 12.86, 14.44, 16.48, 16.64, 17.34, 18.14], \"name\": 1, \"showlegend\": false}, {\"type\": \"scatter\", \"x\": [0, 1, 2, 3, 4, 5, 6, 7, 8, 9], \"y\": [9.44, 10.43, 12.35, 13.2, 13.3, 14.11, 14.31, 15.48, 17.63, 19.64], \"name\": 1, \"showlegend\": false}, {\"type\": \"scatter\", \"x\": [0, 1, 2, 3, 4, 5, 6, 7, 8], \"y\": [14.18, 14.7, 15.34, 15.47, 16.77, 17.2, 17.84, 18.75, 19.82], \"name\": 1, \"showlegend\": false}, {\"type\": \"scatter\", \"x\": [0, 1, 2, 3, 4, 5, 6, 7, 8, 9], \"y\": [7.83, 8.29, 8.43, 10.12, 10.31, 10.41, 13.44, 14.27, 14.83, 15.72], \"name\": 1, \"showlegend\": false}, {\"type\": \"scatter\", \"x\": [0, 1, 2, 3, 4, 5, 6, 7, 8, 9], \"y\": [7.88, 9.08, 9.36, 11.39, 12.62, 15.3, 16.87, 18.53, 18.6, 22.53], \"name\": 1, \"showlegend\": false}, {\"type\": \"scatter\", \"x\": [0, 1, 2, 3, 4, 5, 6, 7, 8, 9], \"y\": [9.58, 9.9, 10.15, 10.17, 10.49, 11.1, 11.75, 11.85, 12.46, 15.48], \"name\": 1, \"showlegend\": false}, {\"type\": \"scatter\", \"x\": [0, 1, 2, 3, 4, 5, 6, 7], \"y\": [13.36, 16.13, 16.41, 16.72, 17.02, 17.07, 18.54, 22.06], \"name\": 1, \"showlegend\": false}, {\"type\": \"scatter\", \"x\": [0, 1, 2, 3, 4, 5, 6, 7, 8, 9], \"y\": [9.23, 12.69, 14.57, 14.66, 14.99, 15.47, 15.61, 17.0, 19.61, 21.94], \"name\": 1, \"showlegend\": false}, {\"type\": \"scatter\", \"x\": [0, 1, 2, 3, 4, 5, 6, 7, 8, 9], \"y\": [11.61, 12.49, 13.88, 14.49, 15.32, 16.05, 16.47, 16.89, 18.93, 21.3], \"name\": 1, \"showlegend\": false}, {\"type\": \"scatter\", \"x\": [0, 1, 2, 3, 4, 5, 6, 7, 8, 9], \"y\": [13.36, 15.91, 17.14, 17.27, 17.6, 17.63, 18.07, 19.7, 23.9, 24.61], \"name\": 1, \"showlegend\": false}, {\"type\": \"scatter\", \"x\": [0, 1, 2, 3, 4, 5, 6, 7, 8, 9], \"y\": [16.25, 16.67, 17.2, 18.03, 18.34, 18.67, 19.45, 25.37, 30.65, 33.69], \"name\": 1, \"showlegend\": false}, {\"type\": \"scatter\", \"x\": [0, 1, 2, 3, 4, 5], \"y\": [13.0, 14.57, 15.16, 16.44, 16.87, 19.94], \"name\": 1, \"showlegend\": false}, {\"type\": \"scatter\", \"x\": [0, 1, 2, 3, 4, 5, 6, 7, 8, 9], \"y\": [7.62, 8.89, 9.03, 10.61, 10.71, 11.06, 11.33, 11.47, 12.39, 13.09], \"name\": 1, \"showlegend\": false}, {\"type\": \"scatter\", \"x\": [0, 1, 2, 3, 4, 5, 6, 7, 8, 9], \"y\": [8.6, 9.08, 9.28, 9.56, 10.01, 10.78, 12.57, 13.36, 14.86, 17.92], \"name\": 1, \"showlegend\": false}, {\"type\": \"scatter\", \"x\": [0, 1, 2, 3, 4, 5, 6, 7, 8, 9], \"y\": [9.42, 13.54, 13.85, 14.49, 15.28, 15.28, 16.62, 18.27, 22.96, 27.6], \"name\": 1, \"showlegend\": false}, {\"type\": \"scatter\", \"x\": [0, 1, 2, 3, 4, 5, 6, 7, 8], \"y\": [8.56, 9.21, 11.1, 11.51, 11.59, 11.8, 12.15, 16.62, 16.84], \"name\": 1, \"showlegend\": false}, {\"type\": \"scatter\", \"x\": [0, 1, 2, 3, 4, 5, 6, 7, 8, 9], \"y\": [13.1, 14.28, 14.79, 15.06, 15.07, 15.95, 16.44, 17.22, 18.45, 19.3], \"name\": 1, \"showlegend\": false}, {\"type\": \"scatter\", \"x\": [0, 1, 2, 3, 4, 5, 6, 7, 8, 9], \"y\": [9.14, 9.86, 10.15, 10.78, 10.86, 10.97, 11.39, 11.72, 12.01, 12.39], \"name\": 1, \"showlegend\": false}, {\"type\": \"scatter\", \"x\": [0, 1, 2, 3, 4, 5, 6, 7, 8, 9, 10, 11, 12, 13, 14, 15, 16], \"y\": [7.13, 7.15, 7.24, 7.32, 7.79, 8.09, 8.43, 8.9, 9.42, 9.66, 10.2, 10.57, 11.36, 11.93, 12.14, 13.15, 14.31], \"name\": 1, \"showlegend\": false}, {\"type\": \"scatter\", \"x\": [0, 1, 2, 3, 4, 5, 6, 7, 8, 9, 10, 11, 12, 13, 14, 15], \"y\": [7.3, 7.76, 8.04, 8.88, 9.14, 9.49, 9.6, 9.69, 9.76, 9.84, 9.86, 10.2, 10.57, 11.19, 11.87, 13.67], \"name\": 1, \"showlegend\": false}, {\"type\": \"scatter\", \"x\": [0, 1, 2, 3, 4, 5, 6, 7, 8, 9, 10, 11, 12, 13, 14, 15, 16], \"y\": [1.19, 1.23, 1.26, 1.28, 1.32, 1.43, 1.58, 1.67, 2.02, 2.22, 2.35, 2.45, 2.53, 2.62, 3.02, 3.05, 3.21], \"name\": 1, \"showlegend\": false}, {\"type\": \"scatter\", \"x\": [0, 1, 2, 3, 4, 5, 6, 7, 8, 9, 10, 11, 12, 13, 14, 15, 16], \"y\": [1.6, 1.6, 1.83, 2.01, 2.05, 2.14, 2.49, 2.71, 2.9, 2.97, 2.98, 3.04, 3.15, 3.23, 3.32, 3.67, 3.68], \"name\": 1, \"showlegend\": false}, {\"type\": \"scatter\", \"x\": [0, 1, 2, 3, 4, 5, 6, 7, 8], \"y\": [10.46, 10.79, 11.24, 11.36, 12.59, 12.92, 13.53, 16.53, 17.85], \"name\": 1, \"showlegend\": false}, {\"type\": \"scatter\", \"x\": [0, 1, 2, 3, 4], \"y\": [9.59, 18.79, 19.19, 26.25, 28.5], \"name\": 1, \"showlegend\": false}, {\"type\": \"scatter\", \"x\": [0, 1, 2, 3, 4, 5, 6, 7, 8, 9, 10, 11, 12, 13, 14, 15, 16, 17], \"y\": [7.22, 7.95, 8.79, 9.8, 10.99, 10.99, 11.55, 16.53, 20.83, 22.97, 23.44, 24.43, 25.26, 26.66, 29.09, 30.0, 30.62, 30.94], \"name\": 1, \"showlegend\": false}, {\"type\": \"scatter\", \"x\": [0, 1, 2, 3, 4, 5, 6, 7, 8, 9, 10, 11, 12, 13, 14], \"y\": [4.71, 4.89, 5.04, 5.45, 5.95, 6.12, 7.0, 7.93, 8.22, 8.36, 9.01, 9.66, 9.69, 10.15, 16.07], \"name\": 1, \"showlegend\": false}, {\"type\": \"scatter\", \"x\": [0, 1, 2, 3, 4, 5, 6, 7, 8, 9, 10, 11, 12, 13, 14], \"y\": [8.97, 9.84, 10.36, 11.4, 11.48, 11.76, 11.93, 12.29, 12.46, 13.37, 13.46, 16.79, 19.48, 20.94, 22.85], \"name\": 1, \"showlegend\": false}, {\"type\": \"scatter\", \"x\": [0, 1, 2, 3, 4, 5, 6, 7, 8, 9, 10, 11, 12, 13, 14, 15], \"y\": [9.94, 11.71, 11.84, 12.72, 13.32, 18.51, 20.94, 22.15, 43.43, 46.67, 49.64, 52.66, 53.89, 65.51, 67.21, 68.66], \"name\": 1, \"showlegend\": false}, {\"type\": \"scatter\", \"x\": [0, 1, 2, 3, 4, 5, 6, 7, 8], \"y\": [2.74, 4.5, 4.8, 5.11, 5.62, 5.76, 7.26, 7.61, 8.39], \"name\": 1, \"showlegend\": false}, {\"type\": \"scatter\", \"x\": [0, 1, 2, 3, 4, 5, 6, 7], \"y\": [5.98, 6.83, 8.74, 9.13, 9.94, 12.52, 16.44, 17.85], \"name\": 1, \"showlegend\": false}, {\"type\": \"scatter\", \"x\": [0, 1, 2, 3, 4, 5, 6, 7, 8, 9, 10, 11, 12, 13, 14, 15, 16, 17], \"y\": [12.04, 12.59, 12.77, 13.42, 13.58, 14.24, 15.54, 15.6, 21.93, 24.68, 25.98, 30.0, 31.26, 39.59, 39.59, 40.0, 40.83, 52.79], \"name\": 1, \"showlegend\": false}, {\"type\": \"scatter\", \"x\": [0, 1, 2, 3, 4, 5, 6, 7, 8], \"y\": [1.57, 1.64, 1.75, 1.92, 2.75, 2.83, 2.99, 3.23, 16.61], \"name\": 1, \"showlegend\": false}, {\"type\": \"scatter\", \"x\": [0, 1, 2, 3, 4], \"y\": [3.44, 10.79, 13.05, 13.95, 15.46], \"name\": 1, \"showlegend\": false}, {\"type\": \"scatter\", \"x\": [0, 1, 2, 3, 4, 5, 6, 7, 8, 9, 10, 11, 12, 13, 14, 15], \"y\": [2.86, 3.95, 4.61, 4.62, 4.65, 4.97, 5.41, 5.46, 5.54, 5.91, 6.29, 6.88, 8.05, 8.18, 10.79, 11.48], \"name\": 1, \"showlegend\": false}, {\"type\": \"scatter\", \"x\": [0, 1, 2, 3, 4, 5, 6, 7, 8, 9, 10, 11, 12, 13, 14, 15, 16], \"y\": [2.87, 3.22, 3.65, 3.71, 3.84, 3.95, 4.01, 4.06, 4.1, 4.36, 4.41, 4.55, 5.12, 5.45, 5.91, 6.37, 7.23], \"name\": 1, \"showlegend\": false}, {\"type\": \"scatter\", \"x\": [0, 1, 2, 3, 4, 5, 6, 7], \"y\": [8.01, 8.58, 9.2, 9.25, 10.15, 10.99, 12.27, 14.17], \"name\": 1, \"showlegend\": false}, {\"type\": \"scatter\", \"x\": [0, 1, 2, 3, 4, 5, 6, 7], \"y\": [5.39, 5.81, 6.29, 6.71, 8.39, 10.57, 11.54, 11.65], \"name\": 1, \"showlegend\": false}, {\"type\": \"scatter\", \"x\": [0, 1, 2, 3, 4, 5, 6, 7, 8, 9, 10, 11, 12, 13, 14, 15, 16, 17], \"y\": [3.54, 4.8, 4.89, 4.99, 5.37, 5.54, 5.55, 6.07, 6.32, 6.97, 7.04, 7.65, 8.9, 9.44, 11.07, 11.65, 11.84, 11.84], \"name\": 1, \"showlegend\": false}, {\"type\": \"scatter\", \"x\": [0, 1, 2, 3, 4, 5, 6, 7, 8, 9, 10, 11, 12, 13, 14, 15, 16], \"y\": [3.62, 3.68, 4.27, 4.53, 4.69, 5.39, 5.68, 6.24, 6.27, 7.21, 8.74, 9.13, 9.44, 9.44, 9.59, 9.94, 10.41], \"name\": 1, \"showlegend\": false}, {\"type\": \"scatter\", \"x\": [0, 1, 2, 3, 4, 5, 6, 7, 8, 9, 10, 11, 12, 13, 14, 15], \"y\": [1.25, 1.33, 1.4, 1.56, 1.57, 1.64, 2.06, 2.16, 2.18, 2.23, 2.27, 2.36, 2.55, 2.85, 2.86, 2.9], \"name\": 1, \"showlegend\": false}, {\"type\": \"scatter\", \"x\": [0, 1, 2, 3, 4, 5, 6, 7, 8, 9, 10, 11, 12, 13, 14], \"y\": [7.53, 8.13, 8.2, 9.25, 11.85, 13.6, 13.74, 14.17, 14.65, 14.65, 16.28, 17.05, 17.22, 19.68, 19.68], \"name\": 1, \"showlegend\": false}, {\"type\": \"scatter\", \"x\": [0, 1, 2, 3, 4, 5, 6, 7, 8, 9, 10, 11, 12, 13, 14], \"y\": [4.63, 5.2, 6.05, 6.07, 6.88, 9.2, 9.61, 10.25, 10.41, 10.9, 11.21, 12.59, 12.59, 13.74, 14.46], \"name\": 1, \"showlegend\": false}, {\"type\": \"scatter\", \"x\": [0, 1, 2, 3, 4, 5, 6, 7, 8, 9, 10, 11, 12, 13, 14], \"y\": [6.43, 7.24, 7.28, 7.49, 7.49, 7.57, 7.77, 7.81, 8.07, 8.18, 8.45, 8.9, 9.05, 9.42, 9.82], \"name\": 1, \"showlegend\": false}, {\"type\": \"scatter\", \"x\": [0, 1, 2, 3, 4, 5, 6, 7, 8, 9, 10, 11, 12, 13, 14], \"y\": [3.43, 5.38, 5.71, 5.85, 5.99, 6.08, 6.32, 6.74, 6.8, 6.83, 7.03, 7.26, 7.26, 7.43, 9.18], \"name\": 1, \"showlegend\": false}, {\"type\": \"scatter\", \"x\": [0, 1, 2, 3, 4, 5, 6, 7, 8, 9, 10, 11, 12, 13, 14], \"y\": [5.63, 5.91, 6.32, 6.8, 6.83, 11.84, 12.3, 12.69, 13.12, 13.22, 16.53, 17.31, 17.31, 17.67, 18.32], \"name\": 1, \"showlegend\": false}, {\"type\": \"scatter\", \"x\": [0, 1, 2, 3, 4, 5, 6, 7, 8, 9, 10, 11, 12, 13, 14], \"y\": [4.46, 4.94, 5.18, 5.41, 5.58, 5.81, 6.87, 7.03, 7.61, 7.81, 8.74, 8.97, 10.04, 10.25, 10.79], \"name\": 1, \"showlegend\": false}, {\"type\": \"scatter\", \"x\": [0, 1, 2, 3, 4], \"y\": [6.16, 6.38, 6.86, 7.12, 7.12], \"name\": 1, \"showlegend\": false}, {\"type\": \"scatter\", \"x\": [0, 1, 2, 3, 4], \"y\": [4.42, 4.66, 5.5, 5.5, 6.18], \"name\": 1, \"showlegend\": false}, {\"type\": \"scatter\", \"x\": [0, 1, 2, 3, 4], \"y\": [5.18, 5.2, 6.02, 6.18, 6.32], \"name\": 1, \"showlegend\": false}, {\"type\": \"scatter\", \"x\": [0, 1, 2, 3, 4], \"y\": [1.6, 1.81, 2.19, 2.3, 2.91], \"name\": 1, \"showlegend\": false}, {\"type\": \"scatter\", \"x\": [0, 1, 2, 3, 4], \"y\": [14.06, 14.54, 15.26, 17.22, 21.15], \"name\": 1, \"showlegend\": false}, {\"type\": \"scatter\", \"x\": [0, 1, 2, 3, 4], \"y\": [5.38, 5.93, 5.93, 6.12, 6.13], \"name\": 1, \"showlegend\": false}, {\"type\": \"scatter\", \"x\": [0, 1, 2, 3, 4], \"y\": [6.45, 7.55, 7.87, 8.67, 10.53], \"name\": 1, \"showlegend\": false}, {\"type\": \"scatter\", \"x\": [0, 1, 2, 3, 4], \"y\": [8.52, 11.2, 11.94, 12.82, 13.15], \"name\": 1, \"showlegend\": false}, {\"type\": \"scatter\", \"x\": [0, 1, 2, 3, 4], \"y\": [19.74, 22.21, 23.38, 24.43, 27.7], \"name\": 1, \"showlegend\": false}, {\"type\": \"scatter\", \"x\": [0, 1, 2, 3, 4], \"y\": [1.16, 1.24, 1.41, 1.51, 1.92], \"name\": 1, \"showlegend\": false}, {\"type\": \"scatter\", \"x\": [0, 1, 2, 3, 4], \"y\": [1.64, 1.69, 1.92, 2.12, 2.45], \"name\": 1, \"showlegend\": false}, {\"type\": \"scatter\", \"x\": [0, 1, 2, 3, 4], \"y\": [1.37, 1.4, 1.52, 1.57, 1.8], \"name\": 1, \"showlegend\": false}, {\"type\": \"scatter\", \"x\": [0, 1, 2, 3, 4], \"y\": [3.68, 4.2, 4.57, 4.92, 6.37], \"name\": 1, \"showlegend\": false}, {\"type\": \"scatter\", \"x\": [0, 1, 2, 3, 4], \"y\": [1.84, 2.16, 2.25, 2.25, 2.56], \"name\": 1, \"showlegend\": false}, {\"type\": \"scatter\", \"x\": [0, 1, 2, 3, 4], \"y\": [3.11, 3.72, 4.14, 4.2, 4.3], \"name\": 1, \"showlegend\": false}, {\"type\": \"scatter\", \"x\": [0, 1, 2, 3, 4], \"y\": [1.01, 1.04, 1.07, 1.31, 1.56], \"name\": 1, \"showlegend\": false}, {\"type\": \"scatter\", \"x\": [0, 1, 2, 3, 4], \"y\": [6.9, 7.57, 8.44, 8.71, 12.36], \"name\": 1, \"showlegend\": false}, {\"type\": \"scatter\", \"x\": [0, 1, 2, 3, 4], \"y\": [10.11, 10.9, 12.24, 12.3, 12.36], \"name\": 1, \"showlegend\": false}, {\"type\": \"scatter\", \"x\": [0, 1, 2, 3, 4], \"y\": [6.75, 8.67, 8.97, 10.08, 10.29], \"name\": 1, \"showlegend\": false}, {\"type\": \"scatter\", \"x\": [0, 1, 2, 3, 4], \"y\": [7.25, 7.78, 7.84, 8.26, 9.7], \"name\": 1, \"showlegend\": false}, {\"type\": \"scatter\", \"x\": [0, 1, 2, 3, 4], \"y\": [6.23, 7.75, 8.18, 9.56, 10.57], \"name\": 1, \"showlegend\": false}, {\"type\": \"scatter\", \"x\": [0, 1, 2, 3], \"y\": [10.83, 11.65, 12.56, 13.22], \"name\": 1, \"showlegend\": false}, {\"type\": \"scatter\", \"x\": [0, 1, 2, 3, 4], \"y\": [5.1, 5.16, 5.24, 5.34, 5.66], \"name\": 1, \"showlegend\": false}, {\"type\": \"scatter\", \"x\": [0, 1, 2, 3, 4], \"y\": [1.42, 1.58, 1.6, 1.64, 1.74], \"name\": 1, \"showlegend\": false}, {\"type\": \"scatter\", \"x\": [0, 1, 2, 3, 4], \"y\": [0.44, 0.69, 0.77, 0.78, 0.95], \"name\": 1, \"showlegend\": false}, {\"type\": \"scatter\", \"x\": [0, 1, 2, 3, 4], \"y\": [5.59, 6.11, 6.49, 6.83, 7.02], \"name\": 1, \"showlegend\": false}, {\"type\": \"scatter\", \"x\": [0, 1, 2, 3, 4], \"y\": [6.45, 6.5, 6.98, 8.15, 8.41], \"name\": 1, \"showlegend\": false}, {\"type\": \"scatter\", \"x\": [0, 1, 2, 3, 4], \"y\": [5.68, 6.9, 6.9, 7.23, 9.06], \"name\": 1, \"showlegend\": false}, {\"type\": \"scatter\", \"x\": [0, 1, 2, 3, 4], \"y\": [8.7, 9.01, 9.27, 10.09, 11.54], \"name\": 1, \"showlegend\": false}, {\"type\": \"scatter\", \"x\": [0, 1, 2, 3, 4], \"y\": [28.79, 29.85, 30.0, 40.83, 46.19], \"name\": 1, \"showlegend\": false}, {\"type\": \"scatter\", \"x\": [0, 1, 2, 3, 4], \"y\": [14.91, 16.19, 16.36, 17.05, 17.83], \"name\": 1, \"showlegend\": false}, {\"type\": \"scatter\", \"x\": [0, 1, 2, 3, 4], \"y\": [4.73, 5.5, 6.05, 6.34, 8.19], \"name\": 1, \"showlegend\": false}, {\"type\": \"scatter\", \"x\": [0, 1, 2, 3, 4], \"y\": [6.11, 6.27, 6.83, 6.87, 7.43], \"name\": 1, \"showlegend\": false}, {\"type\": \"scatter\", \"x\": [0, 1, 2, 3, 4], \"y\": [7.69, 8.7, 8.81, 8.92, 12.1], \"name\": 1, \"showlegend\": false}, {\"type\": \"scatter\", \"x\": [0, 1, 2, 3, 4], \"y\": [7.49, 7.57, 7.6, 8.02, 8.05], \"name\": 1, \"showlegend\": false}, {\"type\": \"scatter\", \"x\": [0, 1, 2, 3, 4], \"y\": [1.42, 2.21, 2.41, 2.48, 2.53], \"name\": 1, \"showlegend\": false}, {\"type\": \"scatter\", \"x\": [0, 1, 2, 3, 4], \"y\": [0.73, 0.73, 0.74, 0.86, 1.08], \"name\": 1, \"showlegend\": false}, {\"type\": \"scatter\", \"x\": [0, 1, 2, 3, 4], \"y\": [8.41, 10.85, 11.93, 12.48, 12.52], \"name\": 1, \"showlegend\": false}, {\"type\": \"scatter\", \"x\": [0, 1, 2, 3, 4], \"y\": [7.45, 8.26, 8.51, 9.81, 11.79], \"name\": 1, \"showlegend\": false}, {\"type\": \"scatter\", \"x\": [0, 1, 2, 3, 4], \"y\": [0.76, 0.77, 0.86, 0.88, 0.98], \"name\": 1, \"showlegend\": false}, {\"type\": \"scatter\", \"x\": [0, 1, 2, 3, 4], \"y\": [9.59, 15.74, 16.44, 17.76, 20.51], \"name\": 1, \"showlegend\": false}, {\"type\": \"scatter\", \"x\": [0, 1, 2, 3, 4], \"y\": [1.3, 1.61, 1.88, 2.03, 2.2], \"name\": 1, \"showlegend\": false}, {\"type\": \"scatter\", \"x\": [0, 1, 2, 3, 4], \"y\": [5.14, 5.74, 6.23, 6.85, 7.37], \"name\": 1, \"showlegend\": false}, {\"type\": \"scatter\", \"x\": [0, 1, 2, 3, 4], \"y\": [5.31, 6.16, 6.41, 6.43, 13.04], \"name\": 1, \"showlegend\": false}, {\"type\": \"scatter\", \"x\": [0, 1, 2, 3, 4], \"y\": [10.08, 16.38, 17.76, 18.65, 24.36], \"name\": 1, \"showlegend\": false}, {\"type\": \"scatter\", \"x\": [0, 1, 2, 3, 4], \"y\": [2.6, 2.71, 3.21, 3.52, 4.22], \"name\": 1, \"showlegend\": false}, {\"type\": \"scatter\", \"x\": [0, 1, 2, 3, 4], \"y\": [2.26, 2.64, 2.72, 2.73, 3.72], \"name\": 1, \"showlegend\": false}, {\"type\": \"scatter\", \"x\": [0, 1, 2, 3, 4], \"y\": [2.56, 2.8, 3.13, 3.26, 4.4], \"name\": 1, \"showlegend\": false}, {\"type\": \"scatter\", \"x\": [0, 1, 2, 3], \"y\": [4.8, 5.98, 6.45, 6.59], \"name\": 1, \"showlegend\": false}, {\"type\": \"scatter\", \"x\": [0, 1, 2, 3, 4], \"y\": [3.41, 3.5, 3.59, 4.1, 4.44], \"name\": 1, \"showlegend\": false}, {\"type\": \"scatter\", \"x\": [0, 1, 2, 3, 4], \"y\": [2.23, 2.33, 2.5, 3.21, 3.78], \"name\": 1, \"showlegend\": false}, {\"type\": \"scatter\", \"x\": [0, 1, 2, 3, 4], \"y\": [6.12, 6.48, 7.33, 7.93, 8.28], \"name\": 1, \"showlegend\": false}, {\"type\": \"scatter\", \"x\": [0, 1, 2, 3, 4], \"y\": [10.2, 12.95, 13.12, 14.69, 18.41], \"name\": 1, \"showlegend\": false}, {\"type\": \"scatter\", \"x\": [0, 1, 2, 3, 4], \"y\": [9.33, 11.39, 12.98, 13.42, 21.04], \"name\": 1, \"showlegend\": false}, {\"type\": \"scatter\", \"x\": [0, 1, 2, 3], \"y\": [9.59, 9.75, 11.96, 15.54], \"name\": 1, \"showlegend\": false}, {\"type\": \"scatter\", \"x\": [0, 1, 2, 3, 4], \"y\": [8.2, 8.9, 10.69, 10.73, 11.07], \"name\": 1, \"showlegend\": false}, {\"type\": \"scatter\", \"x\": [0, 1, 2, 3, 4], \"y\": [7.16, 8.57, 9.95, 12.33, 12.38], \"name\": 1, \"showlegend\": false}, {\"type\": \"scatter\", \"x\": [0, 1, 2, 3], \"y\": [8.35, 8.56, 8.85, 10.95], \"name\": 1, \"showlegend\": false}, {\"type\": \"scatter\", \"x\": [0, 1, 2, 3, 4], \"y\": [12.27, 13.32, 14.41, 14.57, 15.62], \"name\": 1, \"showlegend\": false}, {\"type\": \"scatter\", \"x\": [0, 1, 2, 3, 4], \"y\": [15.03, 16.96, 18.04, 19.94, 21.48], \"name\": 1, \"showlegend\": false}, {\"type\": \"scatter\", \"x\": [0, 1, 2, 3, 4], \"y\": [0.51, 0.55, 0.56, 0.59, 1.09], \"name\": 1, \"showlegend\": false}, {\"type\": \"scatter\", \"x\": [0, 1, 2, 3, 4], \"y\": [7.35, 8.41, 9.39, 9.4, 9.55], \"name\": 1, \"showlegend\": false}, {\"type\": \"scatter\", \"x\": [0, 1, 2, 3], \"y\": [1.56, 1.62, 1.71, 1.8], \"name\": 1, \"showlegend\": false}, {\"type\": \"scatter\", \"x\": [0, 1, 2, 3, 4], \"y\": [2.34, 2.65, 2.73, 2.91, 3.33], \"name\": 1, \"showlegend\": false}, {\"type\": \"scatter\", \"x\": [0, 1, 2, 3, 4], \"y\": [1.05, 1.28, 1.31, 1.53, 1.96], \"name\": 1, \"showlegend\": false}, {\"type\": \"scatter\", \"x\": [0, 1, 2, 3, 4], \"y\": [1.57, 1.97, 2.06, 2.1, 2.25], \"name\": 1, \"showlegend\": false}, {\"type\": \"scatter\", \"x\": [0, 1, 2, 3, 4], \"y\": [1.43, 1.44, 1.55, 1.6, 1.79], \"name\": 1, \"showlegend\": false}], {\"title\": \"Whole population testosterone\", \"xaxis\": {\"title\": \"Samples\"}, \"yaxis\": {\"title\": \"T\"}}, {\"showLink\": true, \"linkText\": \"Export to plot.ly\"})});</script>"
      ],
      "text/vnd.plotly.v1+html": [
       "<div id=\"d6eb21a3-a458-4968-859a-12aa37c048b2\" style=\"height: 525px; width: 100%;\" class=\"plotly-graph-div\"></div><script type=\"text/javascript\">require([\"plotly\"], function(Plotly) { window.PLOTLYENV=window.PLOTLYENV || {};window.PLOTLYENV.BASE_URL=\"https://plot.ly\";Plotly.newPlot(\"d6eb21a3-a458-4968-859a-12aa37c048b2\", [{\"type\": \"scatter\", \"x\": [0, 1, 2, 3, 4, 5, 6, 7, 8, 9], \"y\": [5.45, 5.58, 6.25, 6.31, 6.52, 7.04, 7.15, 7.34, 7.42, 7.72], \"name\": 1, \"showlegend\": false}, {\"type\": \"scatter\", \"x\": [0, 1, 2, 3, 4, 5, 6, 7, 8, 9], \"y\": [9.65, 9.89, 11.48, 12.27, 13.02, 13.41, 13.73, 15.74, 16.07, 20.33], \"name\": 1, \"showlegend\": false}, {\"type\": \"scatter\", \"x\": [0, 1, 2, 3, 4, 5, 6, 7, 8, 9], \"y\": [3.66, 3.85, 4.03, 4.15, 4.27, 4.44, 5.07, 5.2, 6.25, 6.28], \"name\": 1, \"showlegend\": false}, {\"type\": \"scatter\", \"x\": [0, 1, 2, 3, 4, 5, 6, 7, 8, 9], \"y\": [5.1, 5.34, 5.68, 6.0, 6.77, 7.51, 7.6, 7.71, 7.77, 7.77], \"name\": 1, \"showlegend\": false}, {\"type\": \"scatter\", \"x\": [0, 1, 2, 3, 4, 5, 6, 7, 8, 9], \"y\": [4.76, 5.09, 5.16, 5.69, 5.86, 5.91, 6.78, 7.51, 7.68, 9.17], \"name\": 1, \"showlegend\": false}, {\"type\": \"scatter\", \"x\": [0, 1, 2, 3, 4, 5, 6, 7, 8, 9], \"y\": [5.75, 6.2, 6.37, 8.6, 9.22, 9.96, 10.55, 10.82, 10.82, 12.41], \"name\": 1, \"showlegend\": false}, {\"type\": \"scatter\", \"x\": [0, 1, 2, 3, 4, 5, 6, 7, 8, 9], \"y\": [4.7, 5.21, 5.6, 6.21, 6.39, 6.97, 7.84, 8.07, 8.42, 9.24], \"name\": 1, \"showlegend\": false}, {\"type\": \"scatter\", \"x\": [0, 1, 2, 3, 4, 5, 6, 7, 8, 9], \"y\": [13.24, 13.39, 14.73, 15.38, 17.11, 17.33, 18.39, 19.89, 23.78, 33.42], \"name\": 1, \"showlegend\": false}, {\"type\": \"scatter\", \"x\": [0, 1, 2, 3, 4, 5, 6, 7, 8, 9], \"y\": [12.48, 14.88, 15.48, 16.3, 17.29, 17.74, 18.6, 19.51, 24.58, 24.77], \"name\": 1, \"showlegend\": false}, {\"type\": \"scatter\", \"x\": [0, 1, 2, 3, 4, 5, 6, 7, 8], \"y\": [10.14, 10.42, 10.61, 12.13, 12.95, 13.03, 13.83, 16.57, 17.63], \"name\": 1, \"showlegend\": false}, {\"type\": \"scatter\", \"x\": [0, 1, 2, 3, 4, 5, 6, 7, 8, 9], \"y\": [4.73, 5.79, 6.5, 6.8, 7.03, 7.04, 7.1, 7.95, 8.42, 9.45], \"name\": 1, \"showlegend\": false}, {\"type\": \"scatter\", \"x\": [0, 1, 2, 3, 4, 5, 6, 7, 8, 9], \"y\": [90.09, 96.31, 100.87, 101.65, 102.3, 113.5, 122.15, 126.78, 128.75, 128.78], \"name\": 1, \"showlegend\": false}, {\"type\": \"scatter\", \"x\": [0, 1, 2, 3, 4, 5, 6, 7, 8, 9], \"y\": [8.29, 8.36, 8.51, 8.55, 8.84, 9.71, 9.72, 9.84, 12.43, 13.77], \"name\": 1, \"showlegend\": false}, {\"type\": \"scatter\", \"x\": [0, 1, 2, 3, 4, 5, 6, 7, 8, 9], \"y\": [6.37, 8.7, 8.7, 9.18, 10.0, 13.39, 14.88, 15.15, 20.07, 21.04], \"name\": 1, \"showlegend\": false}, {\"type\": \"scatter\", \"x\": [0, 1, 2, 3, 4, 5, 6, 7, 8, 9], \"y\": [8.28, 8.46, 9.7, 9.94, 10.18, 11.24, 11.54, 12.27, 15.74, 16.19], \"name\": 1, \"showlegend\": false}, {\"type\": \"scatter\", \"x\": [0, 1, 2, 3, 4, 5, 6, 7, 8, 9], \"y\": [7.3, 7.51, 8.09, 8.52, 8.76, 11.1, 12.44, 12.82, 12.95, 13.05], \"name\": 1, \"showlegend\": false}, {\"type\": \"scatter\", \"x\": [0, 1, 2, 3, 4, 5, 6, 7, 8], \"y\": [7.73, 9.21, 9.72, 12.07, 12.46, 24.05, 26.66, 28.64, 35.54], \"name\": 1, \"showlegend\": false}, {\"type\": \"scatter\", \"x\": [0, 1, 2, 3, 4, 5, 6, 7, 8, 9], \"y\": [5.83, 6.31, 6.41, 7.38, 7.86, 7.91, 7.98, 8.13, 8.57, 10.26], \"name\": 1, \"showlegend\": false}, {\"type\": \"scatter\", \"x\": [0, 1, 2, 3, 4, 5, 6, 7, 8, 9], \"y\": [27.28, 29.81, 32.57, 39.04, 41.15, 41.9, 42.88, 48.01, 49.0, 49.45], \"name\": 1, \"showlegend\": false}, {\"type\": \"scatter\", \"x\": [0, 1, 2, 3, 4, 5, 6, 7, 8], \"y\": [5.46, 5.62, 5.75, 6.23, 6.26, 6.29, 6.51, 6.6, 6.94], \"name\": 1, \"showlegend\": false}, {\"type\": \"scatter\", \"x\": [0, 1, 2, 3, 4, 5, 6, 7, 8, 9], \"y\": [9.23, 9.41, 11.23, 11.36, 11.61, 13.41, 14.44, 14.84, 15.58, 17.16], \"name\": 1, \"showlegend\": false}, {\"type\": \"scatter\", \"x\": [0, 1, 2, 3, 4, 5, 6, 7, 8, 9], \"y\": [7.13, 8.02, 8.05, 8.91, 9.27, 9.82, 11.65, 12.44, 12.82, 12.85], \"name\": 1, \"showlegend\": false}, {\"type\": \"scatter\", \"x\": [0, 1, 2, 3, 4, 5, 6, 7], \"y\": [7.28, 8.6, 12.07, 13.56, 13.95, 13.99, 14.04, 14.76], \"name\": 1, \"showlegend\": false}, {\"type\": \"scatter\", \"x\": [0, 1, 2, 3, 4, 5, 6, 7, 8, 9], \"y\": [5.4, 5.56, 5.91, 6.06, 6.27, 6.53, 6.68, 7.36, 7.4, 7.53], \"name\": 1, \"showlegend\": false}, {\"type\": \"scatter\", \"x\": [0, 1, 2, 3], \"y\": [11.8, 12.67, 12.74, 14.62], \"name\": 1, \"showlegend\": false}, {\"type\": \"scatter\", \"x\": [0, 1, 2, 3, 4, 5, 6, 7, 8, 9], \"y\": [9.62, 12.14, 12.51, 12.81, 12.86, 14.44, 16.48, 16.64, 17.34, 18.14], \"name\": 1, \"showlegend\": false}, {\"type\": \"scatter\", \"x\": [0, 1, 2, 3, 4, 5, 6, 7, 8, 9], \"y\": [9.44, 10.43, 12.35, 13.2, 13.3, 14.11, 14.31, 15.48, 17.63, 19.64], \"name\": 1, \"showlegend\": false}, {\"type\": \"scatter\", \"x\": [0, 1, 2, 3, 4, 5, 6, 7, 8], \"y\": [14.18, 14.7, 15.34, 15.47, 16.77, 17.2, 17.84, 18.75, 19.82], \"name\": 1, \"showlegend\": false}, {\"type\": \"scatter\", \"x\": [0, 1, 2, 3, 4, 5, 6, 7, 8, 9], \"y\": [7.83, 8.29, 8.43, 10.12, 10.31, 10.41, 13.44, 14.27, 14.83, 15.72], \"name\": 1, \"showlegend\": false}, {\"type\": \"scatter\", \"x\": [0, 1, 2, 3, 4, 5, 6, 7, 8, 9], \"y\": [7.88, 9.08, 9.36, 11.39, 12.62, 15.3, 16.87, 18.53, 18.6, 22.53], \"name\": 1, \"showlegend\": false}, {\"type\": \"scatter\", \"x\": [0, 1, 2, 3, 4, 5, 6, 7, 8, 9], \"y\": [9.58, 9.9, 10.15, 10.17, 10.49, 11.1, 11.75, 11.85, 12.46, 15.48], \"name\": 1, \"showlegend\": false}, {\"type\": \"scatter\", \"x\": [0, 1, 2, 3, 4, 5, 6, 7], \"y\": [13.36, 16.13, 16.41, 16.72, 17.02, 17.07, 18.54, 22.06], \"name\": 1, \"showlegend\": false}, {\"type\": \"scatter\", \"x\": [0, 1, 2, 3, 4, 5, 6, 7, 8, 9], \"y\": [9.23, 12.69, 14.57, 14.66, 14.99, 15.47, 15.61, 17.0, 19.61, 21.94], \"name\": 1, \"showlegend\": false}, {\"type\": \"scatter\", \"x\": [0, 1, 2, 3, 4, 5, 6, 7, 8, 9], \"y\": [11.61, 12.49, 13.88, 14.49, 15.32, 16.05, 16.47, 16.89, 18.93, 21.3], \"name\": 1, \"showlegend\": false}, {\"type\": \"scatter\", \"x\": [0, 1, 2, 3, 4, 5, 6, 7, 8, 9], \"y\": [13.36, 15.91, 17.14, 17.27, 17.6, 17.63, 18.07, 19.7, 23.9, 24.61], \"name\": 1, \"showlegend\": false}, {\"type\": \"scatter\", \"x\": [0, 1, 2, 3, 4, 5, 6, 7, 8, 9], \"y\": [16.25, 16.67, 17.2, 18.03, 18.34, 18.67, 19.45, 25.37, 30.65, 33.69], \"name\": 1, \"showlegend\": false}, {\"type\": \"scatter\", \"x\": [0, 1, 2, 3, 4, 5], \"y\": [13.0, 14.57, 15.16, 16.44, 16.87, 19.94], \"name\": 1, \"showlegend\": false}, {\"type\": \"scatter\", \"x\": [0, 1, 2, 3, 4, 5, 6, 7, 8, 9], \"y\": [7.62, 8.89, 9.03, 10.61, 10.71, 11.06, 11.33, 11.47, 12.39, 13.09], \"name\": 1, \"showlegend\": false}, {\"type\": \"scatter\", \"x\": [0, 1, 2, 3, 4, 5, 6, 7, 8, 9], \"y\": [8.6, 9.08, 9.28, 9.56, 10.01, 10.78, 12.57, 13.36, 14.86, 17.92], \"name\": 1, \"showlegend\": false}, {\"type\": \"scatter\", \"x\": [0, 1, 2, 3, 4, 5, 6, 7, 8, 9], \"y\": [9.42, 13.54, 13.85, 14.49, 15.28, 15.28, 16.62, 18.27, 22.96, 27.6], \"name\": 1, \"showlegend\": false}, {\"type\": \"scatter\", \"x\": [0, 1, 2, 3, 4, 5, 6, 7, 8], \"y\": [8.56, 9.21, 11.1, 11.51, 11.59, 11.8, 12.15, 16.62, 16.84], \"name\": 1, \"showlegend\": false}, {\"type\": \"scatter\", \"x\": [0, 1, 2, 3, 4, 5, 6, 7, 8, 9], \"y\": [13.1, 14.28, 14.79, 15.06, 15.07, 15.95, 16.44, 17.22, 18.45, 19.3], \"name\": 1, \"showlegend\": false}, {\"type\": \"scatter\", \"x\": [0, 1, 2, 3, 4, 5, 6, 7, 8, 9], \"y\": [9.14, 9.86, 10.15, 10.78, 10.86, 10.97, 11.39, 11.72, 12.01, 12.39], \"name\": 1, \"showlegend\": false}, {\"type\": \"scatter\", \"x\": [0, 1, 2, 3, 4, 5, 6, 7, 8, 9, 10, 11, 12, 13, 14, 15, 16], \"y\": [7.13, 7.15, 7.24, 7.32, 7.79, 8.09, 8.43, 8.9, 9.42, 9.66, 10.2, 10.57, 11.36, 11.93, 12.14, 13.15, 14.31], \"name\": 1, \"showlegend\": false}, {\"type\": \"scatter\", \"x\": [0, 1, 2, 3, 4, 5, 6, 7, 8, 9, 10, 11, 12, 13, 14, 15], \"y\": [7.3, 7.76, 8.04, 8.88, 9.14, 9.49, 9.6, 9.69, 9.76, 9.84, 9.86, 10.2, 10.57, 11.19, 11.87, 13.67], \"name\": 1, \"showlegend\": false}, {\"type\": \"scatter\", \"x\": [0, 1, 2, 3, 4, 5, 6, 7, 8, 9, 10, 11, 12, 13, 14, 15, 16], \"y\": [1.19, 1.23, 1.26, 1.28, 1.32, 1.43, 1.58, 1.67, 2.02, 2.22, 2.35, 2.45, 2.53, 2.62, 3.02, 3.05, 3.21], \"name\": 1, \"showlegend\": false}, {\"type\": \"scatter\", \"x\": [0, 1, 2, 3, 4, 5, 6, 7, 8, 9, 10, 11, 12, 13, 14, 15, 16], \"y\": [1.6, 1.6, 1.83, 2.01, 2.05, 2.14, 2.49, 2.71, 2.9, 2.97, 2.98, 3.04, 3.15, 3.23, 3.32, 3.67, 3.68], \"name\": 1, \"showlegend\": false}, {\"type\": \"scatter\", \"x\": [0, 1, 2, 3, 4, 5, 6, 7, 8], \"y\": [10.46, 10.79, 11.24, 11.36, 12.59, 12.92, 13.53, 16.53, 17.85], \"name\": 1, \"showlegend\": false}, {\"type\": \"scatter\", \"x\": [0, 1, 2, 3, 4], \"y\": [9.59, 18.79, 19.19, 26.25, 28.5], \"name\": 1, \"showlegend\": false}, {\"type\": \"scatter\", \"x\": [0, 1, 2, 3, 4, 5, 6, 7, 8, 9, 10, 11, 12, 13, 14, 15, 16, 17], \"y\": [7.22, 7.95, 8.79, 9.8, 10.99, 10.99, 11.55, 16.53, 20.83, 22.97, 23.44, 24.43, 25.26, 26.66, 29.09, 30.0, 30.62, 30.94], \"name\": 1, \"showlegend\": false}, {\"type\": \"scatter\", \"x\": [0, 1, 2, 3, 4, 5, 6, 7, 8, 9, 10, 11, 12, 13, 14], \"y\": [4.71, 4.89, 5.04, 5.45, 5.95, 6.12, 7.0, 7.93, 8.22, 8.36, 9.01, 9.66, 9.69, 10.15, 16.07], \"name\": 1, \"showlegend\": false}, {\"type\": \"scatter\", \"x\": [0, 1, 2, 3, 4, 5, 6, 7, 8, 9, 10, 11, 12, 13, 14], \"y\": [8.97, 9.84, 10.36, 11.4, 11.48, 11.76, 11.93, 12.29, 12.46, 13.37, 13.46, 16.79, 19.48, 20.94, 22.85], \"name\": 1, \"showlegend\": false}, {\"type\": \"scatter\", \"x\": [0, 1, 2, 3, 4, 5, 6, 7, 8, 9, 10, 11, 12, 13, 14, 15], \"y\": [9.94, 11.71, 11.84, 12.72, 13.32, 18.51, 20.94, 22.15, 43.43, 46.67, 49.64, 52.66, 53.89, 65.51, 67.21, 68.66], \"name\": 1, \"showlegend\": false}, {\"type\": \"scatter\", \"x\": [0, 1, 2, 3, 4, 5, 6, 7, 8], \"y\": [2.74, 4.5, 4.8, 5.11, 5.62, 5.76, 7.26, 7.61, 8.39], \"name\": 1, \"showlegend\": false}, {\"type\": \"scatter\", \"x\": [0, 1, 2, 3, 4, 5, 6, 7], \"y\": [5.98, 6.83, 8.74, 9.13, 9.94, 12.52, 16.44, 17.85], \"name\": 1, \"showlegend\": false}, {\"type\": \"scatter\", \"x\": [0, 1, 2, 3, 4, 5, 6, 7, 8, 9, 10, 11, 12, 13, 14, 15, 16, 17], \"y\": [12.04, 12.59, 12.77, 13.42, 13.58, 14.24, 15.54, 15.6, 21.93, 24.68, 25.98, 30.0, 31.26, 39.59, 39.59, 40.0, 40.83, 52.79], \"name\": 1, \"showlegend\": false}, {\"type\": \"scatter\", \"x\": [0, 1, 2, 3, 4, 5, 6, 7, 8], \"y\": [1.57, 1.64, 1.75, 1.92, 2.75, 2.83, 2.99, 3.23, 16.61], \"name\": 1, \"showlegend\": false}, {\"type\": \"scatter\", \"x\": [0, 1, 2, 3, 4], \"y\": [3.44, 10.79, 13.05, 13.95, 15.46], \"name\": 1, \"showlegend\": false}, {\"type\": \"scatter\", \"x\": [0, 1, 2, 3, 4, 5, 6, 7, 8, 9, 10, 11, 12, 13, 14, 15], \"y\": [2.86, 3.95, 4.61, 4.62, 4.65, 4.97, 5.41, 5.46, 5.54, 5.91, 6.29, 6.88, 8.05, 8.18, 10.79, 11.48], \"name\": 1, \"showlegend\": false}, {\"type\": \"scatter\", \"x\": [0, 1, 2, 3, 4, 5, 6, 7, 8, 9, 10, 11, 12, 13, 14, 15, 16], \"y\": [2.87, 3.22, 3.65, 3.71, 3.84, 3.95, 4.01, 4.06, 4.1, 4.36, 4.41, 4.55, 5.12, 5.45, 5.91, 6.37, 7.23], \"name\": 1, \"showlegend\": false}, {\"type\": \"scatter\", \"x\": [0, 1, 2, 3, 4, 5, 6, 7], \"y\": [8.01, 8.58, 9.2, 9.25, 10.15, 10.99, 12.27, 14.17], \"name\": 1, \"showlegend\": false}, {\"type\": \"scatter\", \"x\": [0, 1, 2, 3, 4, 5, 6, 7], \"y\": [5.39, 5.81, 6.29, 6.71, 8.39, 10.57, 11.54, 11.65], \"name\": 1, \"showlegend\": false}, {\"type\": \"scatter\", \"x\": [0, 1, 2, 3, 4, 5, 6, 7, 8, 9, 10, 11, 12, 13, 14, 15, 16, 17], \"y\": [3.54, 4.8, 4.89, 4.99, 5.37, 5.54, 5.55, 6.07, 6.32, 6.97, 7.04, 7.65, 8.9, 9.44, 11.07, 11.65, 11.84, 11.84], \"name\": 1, \"showlegend\": false}, {\"type\": \"scatter\", \"x\": [0, 1, 2, 3, 4, 5, 6, 7, 8, 9, 10, 11, 12, 13, 14, 15, 16], \"y\": [3.62, 3.68, 4.27, 4.53, 4.69, 5.39, 5.68, 6.24, 6.27, 7.21, 8.74, 9.13, 9.44, 9.44, 9.59, 9.94, 10.41], \"name\": 1, \"showlegend\": false}, {\"type\": \"scatter\", \"x\": [0, 1, 2, 3, 4, 5, 6, 7, 8, 9, 10, 11, 12, 13, 14, 15], \"y\": [1.25, 1.33, 1.4, 1.56, 1.57, 1.64, 2.06, 2.16, 2.18, 2.23, 2.27, 2.36, 2.55, 2.85, 2.86, 2.9], \"name\": 1, \"showlegend\": false}, {\"type\": \"scatter\", \"x\": [0, 1, 2, 3, 4, 5, 6, 7, 8, 9, 10, 11, 12, 13, 14], \"y\": [7.53, 8.13, 8.2, 9.25, 11.85, 13.6, 13.74, 14.17, 14.65, 14.65, 16.28, 17.05, 17.22, 19.68, 19.68], \"name\": 1, \"showlegend\": false}, {\"type\": \"scatter\", \"x\": [0, 1, 2, 3, 4, 5, 6, 7, 8, 9, 10, 11, 12, 13, 14], \"y\": [4.63, 5.2, 6.05, 6.07, 6.88, 9.2, 9.61, 10.25, 10.41, 10.9, 11.21, 12.59, 12.59, 13.74, 14.46], \"name\": 1, \"showlegend\": false}, {\"type\": \"scatter\", \"x\": [0, 1, 2, 3, 4, 5, 6, 7, 8, 9, 10, 11, 12, 13, 14], \"y\": [6.43, 7.24, 7.28, 7.49, 7.49, 7.57, 7.77, 7.81, 8.07, 8.18, 8.45, 8.9, 9.05, 9.42, 9.82], \"name\": 1, \"showlegend\": false}, {\"type\": \"scatter\", \"x\": [0, 1, 2, 3, 4, 5, 6, 7, 8, 9, 10, 11, 12, 13, 14], \"y\": [3.43, 5.38, 5.71, 5.85, 5.99, 6.08, 6.32, 6.74, 6.8, 6.83, 7.03, 7.26, 7.26, 7.43, 9.18], \"name\": 1, \"showlegend\": false}, {\"type\": \"scatter\", \"x\": [0, 1, 2, 3, 4, 5, 6, 7, 8, 9, 10, 11, 12, 13, 14], \"y\": [5.63, 5.91, 6.32, 6.8, 6.83, 11.84, 12.3, 12.69, 13.12, 13.22, 16.53, 17.31, 17.31, 17.67, 18.32], \"name\": 1, \"showlegend\": false}, {\"type\": \"scatter\", \"x\": [0, 1, 2, 3, 4, 5, 6, 7, 8, 9, 10, 11, 12, 13, 14], \"y\": [4.46, 4.94, 5.18, 5.41, 5.58, 5.81, 6.87, 7.03, 7.61, 7.81, 8.74, 8.97, 10.04, 10.25, 10.79], \"name\": 1, \"showlegend\": false}, {\"type\": \"scatter\", \"x\": [0, 1, 2, 3, 4], \"y\": [6.16, 6.38, 6.86, 7.12, 7.12], \"name\": 1, \"showlegend\": false}, {\"type\": \"scatter\", \"x\": [0, 1, 2, 3, 4], \"y\": [4.42, 4.66, 5.5, 5.5, 6.18], \"name\": 1, \"showlegend\": false}, {\"type\": \"scatter\", \"x\": [0, 1, 2, 3, 4], \"y\": [5.18, 5.2, 6.02, 6.18, 6.32], \"name\": 1, \"showlegend\": false}, {\"type\": \"scatter\", \"x\": [0, 1, 2, 3, 4], \"y\": [1.6, 1.81, 2.19, 2.3, 2.91], \"name\": 1, \"showlegend\": false}, {\"type\": \"scatter\", \"x\": [0, 1, 2, 3, 4], \"y\": [14.06, 14.54, 15.26, 17.22, 21.15], \"name\": 1, \"showlegend\": false}, {\"type\": \"scatter\", \"x\": [0, 1, 2, 3, 4], \"y\": [5.38, 5.93, 5.93, 6.12, 6.13], \"name\": 1, \"showlegend\": false}, {\"type\": \"scatter\", \"x\": [0, 1, 2, 3, 4], \"y\": [6.45, 7.55, 7.87, 8.67, 10.53], \"name\": 1, \"showlegend\": false}, {\"type\": \"scatter\", \"x\": [0, 1, 2, 3, 4], \"y\": [8.52, 11.2, 11.94, 12.82, 13.15], \"name\": 1, \"showlegend\": false}, {\"type\": \"scatter\", \"x\": [0, 1, 2, 3, 4], \"y\": [19.74, 22.21, 23.38, 24.43, 27.7], \"name\": 1, \"showlegend\": false}, {\"type\": \"scatter\", \"x\": [0, 1, 2, 3, 4], \"y\": [1.16, 1.24, 1.41, 1.51, 1.92], \"name\": 1, \"showlegend\": false}, {\"type\": \"scatter\", \"x\": [0, 1, 2, 3, 4], \"y\": [1.64, 1.69, 1.92, 2.12, 2.45], \"name\": 1, \"showlegend\": false}, {\"type\": \"scatter\", \"x\": [0, 1, 2, 3, 4], \"y\": [1.37, 1.4, 1.52, 1.57, 1.8], \"name\": 1, \"showlegend\": false}, {\"type\": \"scatter\", \"x\": [0, 1, 2, 3, 4], \"y\": [3.68, 4.2, 4.57, 4.92, 6.37], \"name\": 1, \"showlegend\": false}, {\"type\": \"scatter\", \"x\": [0, 1, 2, 3, 4], \"y\": [1.84, 2.16, 2.25, 2.25, 2.56], \"name\": 1, \"showlegend\": false}, {\"type\": \"scatter\", \"x\": [0, 1, 2, 3, 4], \"y\": [3.11, 3.72, 4.14, 4.2, 4.3], \"name\": 1, \"showlegend\": false}, {\"type\": \"scatter\", \"x\": [0, 1, 2, 3, 4], \"y\": [1.01, 1.04, 1.07, 1.31, 1.56], \"name\": 1, \"showlegend\": false}, {\"type\": \"scatter\", \"x\": [0, 1, 2, 3, 4], \"y\": [6.9, 7.57, 8.44, 8.71, 12.36], \"name\": 1, \"showlegend\": false}, {\"type\": \"scatter\", \"x\": [0, 1, 2, 3, 4], \"y\": [10.11, 10.9, 12.24, 12.3, 12.36], \"name\": 1, \"showlegend\": false}, {\"type\": \"scatter\", \"x\": [0, 1, 2, 3, 4], \"y\": [6.75, 8.67, 8.97, 10.08, 10.29], \"name\": 1, \"showlegend\": false}, {\"type\": \"scatter\", \"x\": [0, 1, 2, 3, 4], \"y\": [7.25, 7.78, 7.84, 8.26, 9.7], \"name\": 1, \"showlegend\": false}, {\"type\": \"scatter\", \"x\": [0, 1, 2, 3, 4], \"y\": [6.23, 7.75, 8.18, 9.56, 10.57], \"name\": 1, \"showlegend\": false}, {\"type\": \"scatter\", \"x\": [0, 1, 2, 3], \"y\": [10.83, 11.65, 12.56, 13.22], \"name\": 1, \"showlegend\": false}, {\"type\": \"scatter\", \"x\": [0, 1, 2, 3, 4], \"y\": [5.1, 5.16, 5.24, 5.34, 5.66], \"name\": 1, \"showlegend\": false}, {\"type\": \"scatter\", \"x\": [0, 1, 2, 3, 4], \"y\": [1.42, 1.58, 1.6, 1.64, 1.74], \"name\": 1, \"showlegend\": false}, {\"type\": \"scatter\", \"x\": [0, 1, 2, 3, 4], \"y\": [0.44, 0.69, 0.77, 0.78, 0.95], \"name\": 1, \"showlegend\": false}, {\"type\": \"scatter\", \"x\": [0, 1, 2, 3, 4], \"y\": [5.59, 6.11, 6.49, 6.83, 7.02], \"name\": 1, \"showlegend\": false}, {\"type\": \"scatter\", \"x\": [0, 1, 2, 3, 4], \"y\": [6.45, 6.5, 6.98, 8.15, 8.41], \"name\": 1, \"showlegend\": false}, {\"type\": \"scatter\", \"x\": [0, 1, 2, 3, 4], \"y\": [5.68, 6.9, 6.9, 7.23, 9.06], \"name\": 1, \"showlegend\": false}, {\"type\": \"scatter\", \"x\": [0, 1, 2, 3, 4], \"y\": [8.7, 9.01, 9.27, 10.09, 11.54], \"name\": 1, \"showlegend\": false}, {\"type\": \"scatter\", \"x\": [0, 1, 2, 3, 4], \"y\": [28.79, 29.85, 30.0, 40.83, 46.19], \"name\": 1, \"showlegend\": false}, {\"type\": \"scatter\", \"x\": [0, 1, 2, 3, 4], \"y\": [14.91, 16.19, 16.36, 17.05, 17.83], \"name\": 1, \"showlegend\": false}, {\"type\": \"scatter\", \"x\": [0, 1, 2, 3, 4], \"y\": [4.73, 5.5, 6.05, 6.34, 8.19], \"name\": 1, \"showlegend\": false}, {\"type\": \"scatter\", \"x\": [0, 1, 2, 3, 4], \"y\": [6.11, 6.27, 6.83, 6.87, 7.43], \"name\": 1, \"showlegend\": false}, {\"type\": \"scatter\", \"x\": [0, 1, 2, 3, 4], \"y\": [7.69, 8.7, 8.81, 8.92, 12.1], \"name\": 1, \"showlegend\": false}, {\"type\": \"scatter\", \"x\": [0, 1, 2, 3, 4], \"y\": [7.49, 7.57, 7.6, 8.02, 8.05], \"name\": 1, \"showlegend\": false}, {\"type\": \"scatter\", \"x\": [0, 1, 2, 3, 4], \"y\": [1.42, 2.21, 2.41, 2.48, 2.53], \"name\": 1, \"showlegend\": false}, {\"type\": \"scatter\", \"x\": [0, 1, 2, 3, 4], \"y\": [0.73, 0.73, 0.74, 0.86, 1.08], \"name\": 1, \"showlegend\": false}, {\"type\": \"scatter\", \"x\": [0, 1, 2, 3, 4], \"y\": [8.41, 10.85, 11.93, 12.48, 12.52], \"name\": 1, \"showlegend\": false}, {\"type\": \"scatter\", \"x\": [0, 1, 2, 3, 4], \"y\": [7.45, 8.26, 8.51, 9.81, 11.79], \"name\": 1, \"showlegend\": false}, {\"type\": \"scatter\", \"x\": [0, 1, 2, 3, 4], \"y\": [0.76, 0.77, 0.86, 0.88, 0.98], \"name\": 1, \"showlegend\": false}, {\"type\": \"scatter\", \"x\": [0, 1, 2, 3, 4], \"y\": [9.59, 15.74, 16.44, 17.76, 20.51], \"name\": 1, \"showlegend\": false}, {\"type\": \"scatter\", \"x\": [0, 1, 2, 3, 4], \"y\": [1.3, 1.61, 1.88, 2.03, 2.2], \"name\": 1, \"showlegend\": false}, {\"type\": \"scatter\", \"x\": [0, 1, 2, 3, 4], \"y\": [5.14, 5.74, 6.23, 6.85, 7.37], \"name\": 1, \"showlegend\": false}, {\"type\": \"scatter\", \"x\": [0, 1, 2, 3, 4], \"y\": [5.31, 6.16, 6.41, 6.43, 13.04], \"name\": 1, \"showlegend\": false}, {\"type\": \"scatter\", \"x\": [0, 1, 2, 3, 4], \"y\": [10.08, 16.38, 17.76, 18.65, 24.36], \"name\": 1, \"showlegend\": false}, {\"type\": \"scatter\", \"x\": [0, 1, 2, 3, 4], \"y\": [2.6, 2.71, 3.21, 3.52, 4.22], \"name\": 1, \"showlegend\": false}, {\"type\": \"scatter\", \"x\": [0, 1, 2, 3, 4], \"y\": [2.26, 2.64, 2.72, 2.73, 3.72], \"name\": 1, \"showlegend\": false}, {\"type\": \"scatter\", \"x\": [0, 1, 2, 3, 4], \"y\": [2.56, 2.8, 3.13, 3.26, 4.4], \"name\": 1, \"showlegend\": false}, {\"type\": \"scatter\", \"x\": [0, 1, 2, 3], \"y\": [4.8, 5.98, 6.45, 6.59], \"name\": 1, \"showlegend\": false}, {\"type\": \"scatter\", \"x\": [0, 1, 2, 3, 4], \"y\": [3.41, 3.5, 3.59, 4.1, 4.44], \"name\": 1, \"showlegend\": false}, {\"type\": \"scatter\", \"x\": [0, 1, 2, 3, 4], \"y\": [2.23, 2.33, 2.5, 3.21, 3.78], \"name\": 1, \"showlegend\": false}, {\"type\": \"scatter\", \"x\": [0, 1, 2, 3, 4], \"y\": [6.12, 6.48, 7.33, 7.93, 8.28], \"name\": 1, \"showlegend\": false}, {\"type\": \"scatter\", \"x\": [0, 1, 2, 3, 4], \"y\": [10.2, 12.95, 13.12, 14.69, 18.41], \"name\": 1, \"showlegend\": false}, {\"type\": \"scatter\", \"x\": [0, 1, 2, 3, 4], \"y\": [9.33, 11.39, 12.98, 13.42, 21.04], \"name\": 1, \"showlegend\": false}, {\"type\": \"scatter\", \"x\": [0, 1, 2, 3], \"y\": [9.59, 9.75, 11.96, 15.54], \"name\": 1, \"showlegend\": false}, {\"type\": \"scatter\", \"x\": [0, 1, 2, 3, 4], \"y\": [8.2, 8.9, 10.69, 10.73, 11.07], \"name\": 1, \"showlegend\": false}, {\"type\": \"scatter\", \"x\": [0, 1, 2, 3, 4], \"y\": [7.16, 8.57, 9.95, 12.33, 12.38], \"name\": 1, \"showlegend\": false}, {\"type\": \"scatter\", \"x\": [0, 1, 2, 3], \"y\": [8.35, 8.56, 8.85, 10.95], \"name\": 1, \"showlegend\": false}, {\"type\": \"scatter\", \"x\": [0, 1, 2, 3, 4], \"y\": [12.27, 13.32, 14.41, 14.57, 15.62], \"name\": 1, \"showlegend\": false}, {\"type\": \"scatter\", \"x\": [0, 1, 2, 3, 4], \"y\": [15.03, 16.96, 18.04, 19.94, 21.48], \"name\": 1, \"showlegend\": false}, {\"type\": \"scatter\", \"x\": [0, 1, 2, 3, 4], \"y\": [0.51, 0.55, 0.56, 0.59, 1.09], \"name\": 1, \"showlegend\": false}, {\"type\": \"scatter\", \"x\": [0, 1, 2, 3, 4], \"y\": [7.35, 8.41, 9.39, 9.4, 9.55], \"name\": 1, \"showlegend\": false}, {\"type\": \"scatter\", \"x\": [0, 1, 2, 3], \"y\": [1.56, 1.62, 1.71, 1.8], \"name\": 1, \"showlegend\": false}, {\"type\": \"scatter\", \"x\": [0, 1, 2, 3, 4], \"y\": [2.34, 2.65, 2.73, 2.91, 3.33], \"name\": 1, \"showlegend\": false}, {\"type\": \"scatter\", \"x\": [0, 1, 2, 3, 4], \"y\": [1.05, 1.28, 1.31, 1.53, 1.96], \"name\": 1, \"showlegend\": false}, {\"type\": \"scatter\", \"x\": [0, 1, 2, 3, 4], \"y\": [1.57, 1.97, 2.06, 2.1, 2.25], \"name\": 1, \"showlegend\": false}, {\"type\": \"scatter\", \"x\": [0, 1, 2, 3, 4], \"y\": [1.43, 1.44, 1.55, 1.6, 1.79], \"name\": 1, \"showlegend\": false}], {\"title\": \"Whole population testosterone\", \"xaxis\": {\"title\": \"Samples\"}, \"yaxis\": {\"title\": \"T\"}}, {\"showLink\": true, \"linkText\": \"Export to plot.ly\"})});</script>"
      ]
     },
     "metadata": {},
     "output_type": "display_data"
    }
   ],
   "source": [
    "plotData = []\n",
    "for test in testosterones:\n",
    "    plotData.append(go.Scatter(x= np.arange(len(test)), y= test.values, name=testosterones[0].index[0], showlegend=False)) \n",
    "\n",
    "layout = dict(title = 'Whole population testosterone',\n",
    "              xaxis = dict(title = 'Samples'),\n",
    "              yaxis = dict(title = 'T'))\n",
    "\n",
    "iplot(dict(data=plotData, layout=layout))"
   ]
  },
  {
   "cell_type": "markdown",
   "metadata": {},
   "source": [
    "### What does the distribution of log mean of testosterone look like?"
   ]
  },
  {
   "cell_type": "code",
   "execution_count": 21,
   "metadata": {},
   "outputs": [
    {
     "name": "stdout",
     "output_type": "stream",
     "text": [
      "mu1: 0.65, mu2: 2.31, sigma1: 0.32, sigma2: 0.48\n"
     ]
    },
    {
     "data": {
      "image/png": "[encoded data removed]",
      "text/plain": [
       "<matplotlib.figure.Figure at 0x7feecae23048>"
      ]
     },
     "metadata": {},
     "output_type": "display_data"
    }
   ],
   "source": [
    "def bimodal(x, mu1, sigma1, a, mu2, sigma2, b):\n",
    "    return a * norm.pdf(x, loc=mu1, scale=sigma1) + b * norm.pdf(x, loc=mu2, scale=sigma2)\n",
    "\n",
    "y, x, _ = plt.hist(np.log(mean_std[:, 0]), bins=40)\n",
    "\n",
    "x = (x[1:] + x[:-1]) / 2  # for len(x)==len(y)\n",
    "\n",
    "expected = (.9, .3, 5, 2, .5, 25)\n",
    "params, cov = curve_fit(bimodal, x, y, expected)\n",
    "\n",
    "x_min, x_max = plt.xlim()\n",
    "x_range = np.linspace(x_min, x_max, 100)\n",
    "\n",
    "plt.plot(x_range, bimodal(x_range, *params), color='red', lw=3, label='model')\n",
    "plt.xlabel(\"log-mean of Testosterone\")\n",
    "\n",
    "plt.legend()\n",
    "print(\"mu1: %.2f, mu2: %.2f, sigma1: %.2f, sigma2: %.2f\" % (params[0], params[3], params[1], params[4]))"
   ]
  },
  {
   "cell_type": "markdown",
   "metadata": {},
   "source": [
    "## Male population"
   ]
  },
  {
   "cell_type": "markdown",
   "metadata": {},
   "source": [
    "### General trends of testosterone in male athletes"
   ]
  },
  {
   "cell_type": "code",
   "execution_count": 60,
   "metadata": {},
   "outputs": [
    {
     "data": {
      "application/vnd.plotly.v1+json": {
       "data": [
        {
         "name": 1,
         "showlegend": false,
         "type": "scatter",
         "x": [
          0,
          1,
          2,
          3,
          4,
          5,
          6,
          7,
          8,
          9
         ],
         "y": [
          5.45,
          5.58,
          6.25,
          6.31,
          6.52,
          7.04,
          7.15,
          7.34,
          7.42,
          7.72
         ]
        },
        {
         "name": 2,
         "showlegend": false,
         "type": "scatter",
         "x": [
          0,
          1,
          2,
          3,
          4,
          5,
          6,
          7,
          8,
          9
         ],
         "y": [
          9.65,
          9.89,
          11.48,
          12.27,
          13.02,
          13.41,
          13.73,
          15.74,
          16.07,
          20.33
         ]
        },
        {
         "name": 3,
         "showlegend": false,
         "type": "scatter",
         "x": [
          0,
          1,
          2,
          3,
          4,
          5,
          6,
          7,
          8,
          9
         ],
         "y": [
          3.66,
          3.85,
          4.03,
          4.15,
          4.27,
          4.44,
          5.07,
          5.2,
          6.25,
          6.28
         ]
        },
        {
         "name": 4,
         "showlegend": false,
         "type": "scatter",
         "x": [
          0,
          1,
          2,
          3,
          4,
          5,
          6,
          7,
          8,
          9
         ],
         "y": [
          5.1,
          5.34,
          5.68,
          6,
          6.77,
          7.51,
          7.6,
          7.71,
          7.77,
          7.77
         ]
        },
        {
         "name": 5,
         "showlegend": false,
         "type": "scatter",
         "x": [
          0,
          1,
          2,
          3,
          4,
          5,
          6,
          7,
          8,
          9
         ],
         "y": [
          4.76,
          5.09,
          5.16,
          5.69,
          5.86,
          5.91,
          6.78,
          7.51,
          7.68,
          9.17
         ]
        },
        {
         "name": 6,
         "showlegend": false,
         "type": "scatter",
         "x": [
          0,
          1,
          2,
          3,
          4,
          5,
          6,
          7,
          8,
          9
         ],
         "y": [
          5.75,
          6.2,
          6.37,
          8.6,
          9.22,
          9.96,
          10.55,
          10.82,
          10.82,
          12.41
         ]
        },
        {
         "name": 7,
         "showlegend": false,
         "type": "scatter",
         "x": [
          0,
          1,
          2,
          3,
          4,
          5,
          6,
          7,
          8,
          9
         ],
         "y": [
          4.7,
          5.21,
          5.6,
          6.21,
          6.39,
          6.97,
          7.84,
          8.07,
          8.42,
          9.24
         ]
        },
        {
         "name": 8,
         "showlegend": false,
         "type": "scatter",
         "x": [
          0,
          1,
          2,
          3,
          4,
          5,
          6,
          7,
          8,
          9
         ],
         "y": [
          13.24,
          13.39,
          14.73,
          15.38,
          17.11,
          17.33,
          18.39,
          19.89,
          23.78,
          33.42
         ]
        },
        {
         "name": 9,
         "showlegend": false,
         "type": "scatter",
         "x": [
          0,
          1,
          2,
          3,
          4,
          5,
          6,
          7,
          8,
          9
         ],
         "y": [
          12.48,
          14.88,
          15.48,
          16.3,
          17.29,
          17.74,
          18.6,
          19.51,
          24.58,
          24.77
         ]
        },
        {
         "name": 10,
         "showlegend": false,
         "type": "scatter",
         "x": [
          0,
          1,
          2,
          3,
          4,
          5,
          6,
          7,
          8
         ],
         "y": [
          10.14,
          10.42,
          10.61,
          12.13,
          12.95,
          13.03,
          13.83,
          16.57,
          17.63
         ]
        },
        {
         "name": 11,
         "showlegend": false,
         "type": "scatter",
         "x": [
          0,
          1,
          2,
          3,
          4,
          5,
          6,
          7,
          8,
          9
         ],
         "y": [
          4.73,
          5.79,
          6.5,
          6.8,
          7.03,
          7.04,
          7.1,
          7.95,
          8.42,
          9.45
         ]
        },
        {
         "name": 12,
         "showlegend": false,
         "type": "scatter",
         "x": [
          0,
          1,
          2,
          3,
          4,
          5,
          6,
          7,
          8,
          9
         ],
         "y": [
          90.09,
          96.31,
          100.87,
          101.65,
          102.3,
          113.5,
          122.15,
          126.78,
          128.75,
          128.78
         ]
        },
        {
         "name": 13,
         "showlegend": false,
         "type": "scatter",
         "x": [
          0,
          1,
          2,
          3,
          4,
          5,
          6,
          7,
          8,
          9
         ],
         "y": [
          8.29,
          8.36,
          8.51,
          8.55,
          8.84,
          9.71,
          9.72,
          9.84,
          12.43,
          13.77
         ]
        },
        {
         "name": 14,
         "showlegend": false,
         "type": "scatter",
         "x": [
          0,
          1,
          2,
          3,
          4,
          5,
          6,
          7,
          8,
          9
         ],
         "y": [
          6.37,
          8.7,
          8.7,
          9.18,
          10,
          13.39,
          14.88,
          15.15,
          20.07,
          21.04
         ]
        },
        {
         "name": 15,
         "showlegend": false,
         "type": "scatter",
         "x": [
          0,
          1,
          2,
          3,
          4,
          5,
          6,
          7,
          8,
          9
         ],
         "y": [
          8.28,
          8.46,
          9.7,
          9.94,
          10.18,
          11.24,
          11.54,
          12.27,
          15.74,
          16.19
         ]
        },
        {
         "name": 16,
         "showlegend": false,
         "type": "scatter",
         "x": [
          0,
          1,
          2,
          3,
          4,
          5,
          6,
          7,
          8,
          9
         ],
         "y": [
          7.3,
          7.51,
          8.09,
          8.52,
          8.76,
          11.1,
          12.44,
          12.82,
          12.95,
          13.05
         ]
        },
        {
         "name": 17,
         "showlegend": false,
         "type": "scatter",
         "x": [
          0,
          1,
          2,
          3,
          4,
          5,
          6,
          7,
          8
         ],
         "y": [
          7.73,
          9.21,
          9.72,
          12.07,
          12.46,
          24.05,
          26.66,
          28.64,
          35.54
         ]
        },
        {
         "name": 18,
         "showlegend": false,
         "type": "scatter",
         "x": [
          0,
          1,
          2,
          3,
          4,
          5,
          6,
          7,
          8,
          9
         ],
         "y": [
          5.83,
          6.31,
          6.41,
          7.38,
          7.86,
          7.91,
          7.98,
          8.13,
          8.57,
          10.26
         ]
        },
        {
         "name": 19,
         "showlegend": false,
         "type": "scatter",
         "x": [
          0,
          1,
          2,
          3,
          4,
          5,
          6,
          7,
          8,
          9
         ],
         "y": [
          27.28,
          29.81,
          32.57,
          39.04,
          41.15,
          41.9,
          42.88,
          48.01,
          49,
          49.45
         ]
        },
        {
         "name": 20,
         "showlegend": false,
         "type": "scatter",
         "x": [
          0,
          1,
          2,
          3,
          4,
          5,
          6,
          7,
          8
         ],
         "y": [
          5.46,
          5.62,
          5.75,
          6.23,
          6.26,
          6.29,
          6.51,
          6.6,
          6.94
         ]
        },
        {
         "name": 21,
         "showlegend": false,
         "type": "scatter",
         "x": [
          0,
          1,
          2,
          3,
          4,
          5,
          6,
          7,
          8,
          9
         ],
         "y": [
          9.23,
          9.41,
          11.23,
          11.36,
          11.61,
          13.41,
          14.44,
          14.84,
          15.58,
          17.16
         ]
        },
        {
         "name": 22,
         "showlegend": false,
         "type": "scatter",
         "x": [
          0,
          1,
          2,
          3,
          4,
          5,
          6,
          7,
          8,
          9
         ],
         "y": [
          7.13,
          8.02,
          8.05,
          8.91,
          9.27,
          9.82,
          11.65,
          12.44,
          12.82,
          12.85
         ]
        },
        {
         "name": 23,
         "showlegend": false,
         "type": "scatter",
         "x": [
          0,
          1,
          2,
          3,
          4,
          5,
          6,
          7
         ],
         "y": [
          7.28,
          8.6,
          12.07,
          13.56,
          13.95,
          13.99,
          14.04,
          14.76
         ]
        },
        {
         "name": 24,
         "showlegend": false,
         "type": "scatter",
         "x": [
          0,
          1,
          2,
          3,
          4,
          5,
          6,
          7,
          8,
          9
         ],
         "y": [
          5.4,
          5.56,
          5.91,
          6.06,
          6.27,
          6.53,
          6.68,
          7.36,
          7.4,
          7.53
         ]
        },
        {
         "name": 48,
         "showlegend": false,
         "type": "scatter",
         "x": [
          0,
          1,
          2,
          3
         ],
         "y": [
          11.8,
          12.67,
          12.74,
          14.62
         ]
        },
        {
         "name": 49,
         "showlegend": false,
         "type": "scatter",
         "x": [
          0,
          1,
          2,
          3,
          4,
          5,
          6,
          7,
          8,
          9
         ],
         "y": [
          9.62,
          12.14,
          12.51,
          12.81,
          12.86,
          14.44,
          16.48,
          16.64,
          17.34,
          18.14
         ]
        },
        {
         "name": 50,
         "showlegend": false,
         "type": "scatter",
         "x": [
          0,
          1,
          2,
          3,
          4,
          5,
          6,
          7,
          8,
          9
         ],
         "y": [
          9.44,
          10.43,
          12.35,
          13.2,
          13.3,
          14.11,
          14.31,
          15.48,
          17.63,
          19.64
         ]
        },
        {
         "name": 51,
         "showlegend": false,
         "type": "scatter",
         "x": [
          0,
          1,
          2,
          3,
          4,
          5,
          6,
          7,
          8
         ],
         "y": [
          14.18,
          14.7,
          15.34,
          15.47,
          16.77,
          17.2,
          17.84,
          18.75,
          19.82
         ]
        },
        {
         "name": 52,
         "showlegend": false,
         "type": "scatter",
         "x": [
          0,
          1,
          2,
          3,
          4,
          5,
          6,
          7,
          8,
          9
         ],
         "y": [
          7.83,
          8.29,
          8.43,
          10.12,
          10.31,
          10.41,
          13.44,
          14.27,
          14.83,
          15.72
         ]
        },
        {
         "name": 53,
         "showlegend": false,
         "type": "scatter",
         "x": [
          0,
          1,
          2,
          3,
          4,
          5,
          6,
          7,
          8,
          9
         ],
         "y": [
          7.88,
          9.08,
          9.36,
          11.39,
          12.62,
          15.3,
          16.87,
          18.53,
          18.6,
          22.53
         ]
        },
        {
         "name": 54,
         "showlegend": false,
         "type": "scatter",
         "x": [
          0,
          1,
          2,
          3,
          4,
          5,
          6,
          7,
          8,
          9
         ],
         "y": [
          9.58,
          9.9,
          10.15,
          10.17,
          10.49,
          11.1,
          11.75,
          11.85,
          12.46,
          15.48
         ]
        },
        {
         "name": 55,
         "showlegend": false,
         "type": "scatter",
         "x": [
          0,
          1,
          2,
          3,
          4,
          5,
          6,
          7
         ],
         "y": [
          13.36,
          16.13,
          16.41,
          16.72,
          17.02,
          17.07,
          18.54,
          22.06
         ]
        },
        {
         "name": 56,
         "showlegend": false,
         "type": "scatter",
         "x": [
          0,
          1,
          2,
          3,
          4,
          5,
          6,
          7,
          8,
          9
         ],
         "y": [
          9.23,
          12.69,
          14.57,
          14.66,
          14.99,
          15.47,
          15.61,
          17,
          19.61,
          21.94
         ]
        },
        {
         "name": 57,
         "showlegend": false,
         "type": "scatter",
         "x": [
          0,
          1,
          2,
          3,
          4,
          5,
          6,
          7,
          8,
          9
         ],
         "y": [
          11.61,
          12.49,
          13.88,
          14.49,
          15.32,
          16.05,
          16.47,
          16.89,
          18.93,
          21.3
         ]
        },
        {
         "name": 58,
         "showlegend": false,
         "type": "scatter",
         "x": [
          0,
          1,
          2,
          3,
          4,
          5,
          6,
          7,
          8,
          9
         ],
         "y": [
          13.36,
          15.91,
          17.14,
          17.27,
          17.6,
          17.63,
          18.07,
          19.7,
          23.9,
          24.61
         ]
        },
        {
         "name": 59,
         "showlegend": false,
         "type": "scatter",
         "x": [
          0,
          1,
          2,
          3,
          4,
          5,
          6,
          7,
          8,
          9
         ],
         "y": [
          16.25,
          16.67,
          17.2,
          18.03,
          18.34,
          18.67,
          19.45,
          25.37,
          30.65,
          33.69
         ]
        },
        {
         "name": 60,
         "showlegend": false,
         "type": "scatter",
         "x": [
          0,
          1,
          2,
          3,
          4,
          5
         ],
         "y": [
          13,
          14.57,
          15.16,
          16.44,
          16.87,
          19.94
         ]
        },
        {
         "name": 61,
         "showlegend": false,
         "type": "scatter",
         "x": [
          0,
          1,
          2,
          3,
          4,
          5,
          6,
          7,
          8,
          9
         ],
         "y": [
          7.62,
          8.89,
          9.03,
          10.61,
          10.71,
          11.06,
          11.33,
          11.47,
          12.39,
          13.09
         ]
        },
        {
         "name": 62,
         "showlegend": false,
         "type": "scatter",
         "x": [
          0,
          1,
          2,
          3,
          4,
          5,
          6,
          7,
          8,
          9
         ],
         "y": [
          8.6,
          9.08,
          9.28,
          9.56,
          10.01,
          10.78,
          12.57,
          13.36,
          14.86,
          17.92
         ]
        },
        {
         "name": 63,
         "showlegend": false,
         "type": "scatter",
         "x": [
          0,
          1,
          2,
          3,
          4,
          5,
          6,
          7,
          8,
          9
         ],
         "y": [
          9.42,
          13.54,
          13.85,
          14.49,
          15.28,
          15.28,
          16.62,
          18.27,
          22.96,
          27.6
         ]
        },
        {
         "name": 64,
         "showlegend": false,
         "type": "scatter",
         "x": [
          0,
          1,
          2,
          3,
          4,
          5,
          6,
          7,
          8
         ],
         "y": [
          8.56,
          9.21,
          11.1,
          11.51,
          11.59,
          11.8,
          12.15,
          16.62,
          16.84
         ]
        },
        {
         "name": 65,
         "showlegend": false,
         "type": "scatter",
         "x": [
          0,
          1,
          2,
          3,
          4,
          5,
          6,
          7,
          8,
          9
         ],
         "y": [
          13.1,
          14.28,
          14.79,
          15.06,
          15.07,
          15.95,
          16.44,
          17.22,
          18.45,
          19.3
         ]
        },
        {
         "name": 66,
         "showlegend": false,
         "type": "scatter",
         "x": [
          0,
          1,
          2,
          3,
          4,
          5,
          6,
          7,
          8,
          9
         ],
         "y": [
          9.14,
          9.86,
          10.15,
          10.78,
          10.86,
          10.97,
          11.39,
          11.72,
          12.01,
          12.39
         ]
        },
        {
         "name": 67,
         "showlegend": false,
         "type": "scatter",
         "x": [
          0,
          1,
          2,
          3,
          4,
          5,
          6,
          7,
          8,
          9,
          10,
          11,
          12,
          13,
          14,
          15,
          16
         ],
         "y": [
          7.13,
          7.15,
          7.24,
          7.32,
          7.79,
          8.09,
          8.43,
          8.9,
          9.42,
          9.66,
          10.2,
          10.57,
          11.36,
          11.93,
          12.14,
          13.15,
          14.31
         ]
        },
        {
         "name": 68,
         "showlegend": false,
         "type": "scatter",
         "x": [
          0,
          1,
          2,
          3,
          4,
          5,
          6,
          7,
          8,
          9,
          10,
          11,
          12,
          13,
          14,
          15
         ],
         "y": [
          7.3,
          7.76,
          8.04,
          8.88,
          9.14,
          9.49,
          9.6,
          9.69,
          9.76,
          9.84,
          9.86,
          10.2,
          10.57,
          11.19,
          11.87,
          13.67
         ]
        },
        {
         "name": 71,
         "showlegend": false,
         "type": "scatter",
         "x": [
          0,
          1,
          2,
          3,
          4,
          5,
          6,
          7,
          8
         ],
         "y": [
          10.46,
          10.79,
          11.24,
          11.36,
          12.59,
          12.92,
          13.53,
          16.53,
          17.85
         ]
        },
        {
         "name": 72,
         "showlegend": false,
         "type": "scatter",
         "x": [
          0,
          1,
          2,
          3,
          4
         ],
         "y": [
          9.59,
          18.79,
          19.19,
          26.25,
          28.5
         ]
        },
        {
         "name": 73,
         "showlegend": false,
         "type": "scatter",
         "x": [
          0,
          1,
          2,
          3,
          4,
          5,
          6,
          7,
          8,
          9,
          10,
          11,
          12,
          13,
          14,
          15,
          16,
          17
         ],
         "y": [
          7.22,
          7.95,
          8.79,
          9.8,
          10.99,
          10.99,
          11.55,
          16.53,
          20.83,
          22.97,
          23.44,
          24.43,
          25.26,
          26.66,
          29.09,
          30,
          30.62,
          30.94
         ]
        },
        {
         "name": 74,
         "showlegend": false,
         "type": "scatter",
         "x": [
          0,
          1,
          2,
          3,
          4,
          5,
          6,
          7,
          8,
          9,
          10,
          11,
          12,
          13,
          14
         ],
         "y": [
          4.71,
          4.89,
          5.04,
          5.45,
          5.95,
          6.12,
          7,
          7.93,
          8.22,
          8.36,
          9.01,
          9.66,
          9.69,
          10.15,
          16.07
         ]
        },
        {
         "name": 75,
         "showlegend": false,
         "type": "scatter",
         "x": [
          0,
          1,
          2,
          3,
          4,
          5,
          6,
          7,
          8,
          9,
          10,
          11,
          12,
          13,
          14
         ],
         "y": [
          8.97,
          9.84,
          10.36,
          11.4,
          11.48,
          11.76,
          11.93,
          12.29,
          12.46,
          13.37,
          13.46,
          16.79,
          19.48,
          20.94,
          22.85
         ]
        },
        {
         "name": 76,
         "showlegend": false,
         "type": "scatter",
         "x": [
          0,
          1,
          2,
          3,
          4,
          5,
          6,
          7,
          8,
          9,
          10,
          11,
          12,
          13,
          14,
          15
         ],
         "y": [
          9.94,
          11.71,
          11.84,
          12.72,
          13.32,
          18.51,
          20.94,
          22.15,
          43.43,
          46.67,
          49.64,
          52.66,
          53.89,
          65.51,
          67.21,
          68.66
         ]
        },
        {
         "name": 77,
         "showlegend": false,
         "type": "scatter",
         "x": [
          0,
          1,
          2,
          3,
          4,
          5,
          6,
          7,
          8
         ],
         "y": [
          2.74,
          4.5,
          4.8,
          5.11,
          5.62,
          5.76,
          7.26,
          7.61,
          8.39
         ]
        },
        {
         "name": 78,
         "showlegend": false,
         "type": "scatter",
         "x": [
          0,
          1,
          2,
          3,
          4,
          5,
          6,
          7
         ],
         "y": [
          5.98,
          6.83,
          8.74,
          9.13,
          9.94,
          12.52,
          16.44,
          17.85
         ]
        },
        {
         "name": 79,
         "showlegend": false,
         "type": "scatter",
         "x": [
          0,
          1,
          2,
          3,
          4,
          5,
          6,
          7,
          8,
          9,
          10,
          11,
          12,
          13,
          14,
          15,
          16,
          17
         ],
         "y": [
          12.04,
          12.59,
          12.77,
          13.42,
          13.58,
          14.24,
          15.54,
          15.6,
          21.93,
          24.68,
          25.98,
          30,
          31.26,
          39.59,
          39.59,
          40,
          40.83,
          52.79
         ]
        },
        {
         "name": 81,
         "showlegend": false,
         "type": "scatter",
         "x": [
          0,
          1,
          2,
          3,
          4
         ],
         "y": [
          3.44,
          10.79,
          13.05,
          13.95,
          15.46
         ]
        },
        {
         "name": 82,
         "showlegend": false,
         "type": "scatter",
         "x": [
          0,
          1,
          2,
          3,
          4,
          5,
          6,
          7,
          8,
          9,
          10,
          11,
          12,
          13,
          14,
          15
         ],
         "y": [
          2.86,
          3.95,
          4.61,
          4.62,
          4.65,
          4.97,
          5.41,
          5.46,
          5.54,
          5.91,
          6.29,
          6.88,
          8.05,
          8.18,
          10.79,
          11.48
         ]
        },
        {
         "name": 84,
         "showlegend": false,
         "type": "scatter",
         "x": [
          0,
          1,
          2,
          3,
          4,
          5,
          6,
          7
         ],
         "y": [
          8.01,
          8.58,
          9.2,
          9.25,
          10.15,
          10.99,
          12.27,
          14.17
         ]
        },
        {
         "name": 85,
         "showlegend": false,
         "type": "scatter",
         "x": [
          0,
          1,
          2,
          3,
          4,
          5,
          6,
          7
         ],
         "y": [
          5.39,
          5.81,
          6.29,
          6.71,
          8.39,
          10.57,
          11.54,
          11.65
         ]
        },
        {
         "name": 86,
         "showlegend": false,
         "type": "scatter",
         "x": [
          0,
          1,
          2,
          3,
          4,
          5,
          6,
          7,
          8,
          9,
          10,
          11,
          12,
          13,
          14,
          15,
          16,
          17
         ],
         "y": [
          3.54,
          4.8,
          4.89,
          4.99,
          5.37,
          5.54,
          5.55,
          6.07,
          6.32,
          6.97,
          7.04,
          7.65,
          8.9,
          9.44,
          11.07,
          11.65,
          11.84,
          11.84
         ]
        },
        {
         "name": 87,
         "showlegend": false,
         "type": "scatter",
         "x": [
          0,
          1,
          2,
          3,
          4,
          5,
          6,
          7,
          8,
          9,
          10,
          11,
          12,
          13,
          14,
          15,
          16
         ],
         "y": [
          3.62,
          3.68,
          4.27,
          4.53,
          4.69,
          5.39,
          5.68,
          6.24,
          6.27,
          7.21,
          8.74,
          9.13,
          9.44,
          9.44,
          9.59,
          9.94,
          10.41
         ]
        },
        {
         "name": 89,
         "showlegend": false,
         "type": "scatter",
         "x": [
          0,
          1,
          2,
          3,
          4,
          5,
          6,
          7,
          8,
          9,
          10,
          11,
          12,
          13,
          14
         ],
         "y": [
          7.53,
          8.13,
          8.2,
          9.25,
          11.85,
          13.6,
          13.74,
          14.17,
          14.65,
          14.65,
          16.28,
          17.05,
          17.22,
          19.68,
          19.68
         ]
        },
        {
         "name": 90,
         "showlegend": false,
         "type": "scatter",
         "x": [
          0,
          1,
          2,
          3,
          4,
          5,
          6,
          7,
          8,
          9,
          10,
          11,
          12,
          13,
          14
         ],
         "y": [
          4.63,
          5.2,
          6.05,
          6.07,
          6.88,
          9.2,
          9.61,
          10.25,
          10.41,
          10.9,
          11.21,
          12.59,
          12.59,
          13.74,
          14.46
         ]
        },
        {
         "name": 91,
         "showlegend": false,
         "type": "scatter",
         "x": [
          0,
          1,
          2,
          3,
          4,
          5,
          6,
          7,
          8,
          9,
          10,
          11,
          12,
          13,
          14
         ],
         "y": [
          6.43,
          7.24,
          7.28,
          7.49,
          7.49,
          7.57,
          7.77,
          7.81,
          8.07,
          8.18,
          8.45,
          8.9,
          9.05,
          9.42,
          9.82
         ]
        },
        {
         "name": 92,
         "showlegend": false,
         "type": "scatter",
         "x": [
          0,
          1,
          2,
          3,
          4,
          5,
          6,
          7,
          8,
          9,
          10,
          11,
          12,
          13,
          14
         ],
         "y": [
          3.43,
          5.38,
          5.71,
          5.85,
          5.99,
          6.08,
          6.32,
          6.74,
          6.8,
          6.83,
          7.03,
          7.26,
          7.26,
          7.43,
          9.18
         ]
        },
        {
         "name": 93,
         "showlegend": false,
         "type": "scatter",
         "x": [
          0,
          1,
          2,
          3,
          4,
          5,
          6,
          7,
          8,
          9,
          10,
          11,
          12,
          13,
          14
         ],
         "y": [
          5.63,
          5.91,
          6.32,
          6.8,
          6.83,
          11.84,
          12.3,
          12.69,
          13.12,
          13.22,
          16.53,
          17.31,
          17.31,
          17.67,
          18.32
         ]
        },
        {
         "name": 94,
         "showlegend": false,
         "type": "scatter",
         "x": [
          0,
          1,
          2,
          3,
          4,
          5,
          6,
          7,
          8,
          9,
          10,
          11,
          12,
          13,
          14
         ],
         "y": [
          4.46,
          4.94,
          5.18,
          5.41,
          5.58,
          5.81,
          6.87,
          7.03,
          7.61,
          7.81,
          8.74,
          8.97,
          10.04,
          10.25,
          10.79
         ]
        },
        {
         "name": 95,
         "showlegend": false,
         "type": "scatter",
         "x": [
          0,
          1,
          2,
          3,
          4
         ],
         "y": [
          6.16,
          6.38,
          6.86,
          7.12,
          7.12
         ]
        },
        {
         "name": 96,
         "showlegend": false,
         "type": "scatter",
         "x": [
          0,
          1,
          2,
          3,
          4
         ],
         "y": [
          4.42,
          4.66,
          5.5,
          5.5,
          6.18
         ]
        },
        {
         "name": 97,
         "showlegend": false,
         "type": "scatter",
         "x": [
          0,
          1,
          2,
          3,
          4
         ],
         "y": [
          5.18,
          5.2,
          6.02,
          6.18,
          6.32
         ]
        },
        {
         "name": 99,
         "showlegend": false,
         "type": "scatter",
         "x": [
          0,
          1,
          2,
          3,
          4
         ],
         "y": [
          14.06,
          14.54,
          15.26,
          17.22,
          21.15
         ]
        },
        {
         "name": 100,
         "showlegend": false,
         "type": "scatter",
         "x": [
          0,
          1,
          2,
          3,
          4
         ],
         "y": [
          5.38,
          5.93,
          5.93,
          6.12,
          6.13
         ]
        },
        {
         "name": 101,
         "showlegend": false,
         "type": "scatter",
         "x": [
          0,
          1,
          2,
          3,
          4
         ],
         "y": [
          6.45,
          7.55,
          7.87,
          8.67,
          10.53
         ]
        },
        {
         "name": 102,
         "showlegend": false,
         "type": "scatter",
         "x": [
          0,
          1,
          2,
          3,
          4
         ],
         "y": [
          8.52,
          11.2,
          11.94,
          12.82,
          13.15
         ]
        },
        {
         "name": 103,
         "showlegend": false,
         "type": "scatter",
         "x": [
          0,
          1,
          2,
          3,
          4
         ],
         "y": [
          19.74,
          22.21,
          23.38,
          24.43,
          27.7
         ]
        },
        {
         "name": 107,
         "showlegend": false,
         "type": "scatter",
         "x": [
          0,
          1,
          2,
          3,
          4
         ],
         "y": [
          3.68,
          4.2,
          4.57,
          4.92,
          6.37
         ]
        },
        {
         "name": 109,
         "showlegend": false,
         "type": "scatter",
         "x": [
          0,
          1,
          2,
          3,
          4
         ],
         "y": [
          3.11,
          3.72,
          4.14,
          4.2,
          4.3
         ]
        },
        {
         "name": 111,
         "showlegend": false,
         "type": "scatter",
         "x": [
          0,
          1,
          2,
          3,
          4
         ],
         "y": [
          6.9,
          7.57,
          8.44,
          8.71,
          12.36
         ]
        },
        {
         "name": 112,
         "showlegend": false,
         "type": "scatter",
         "x": [
          0,
          1,
          2,
          3,
          4
         ],
         "y": [
          10.11,
          10.9,
          12.24,
          12.3,
          12.36
         ]
        },
        {
         "name": 113,
         "showlegend": false,
         "type": "scatter",
         "x": [
          0,
          1,
          2,
          3,
          4
         ],
         "y": [
          6.75,
          8.67,
          8.97,
          10.08,
          10.29
         ]
        },
        {
         "name": 114,
         "showlegend": false,
         "type": "scatter",
         "x": [
          0,
          1,
          2,
          3,
          4
         ],
         "y": [
          7.25,
          7.78,
          7.84,
          8.26,
          9.7
         ]
        },
        {
         "name": 115,
         "showlegend": false,
         "type": "scatter",
         "x": [
          0,
          1,
          2,
          3,
          4
         ],
         "y": [
          6.23,
          7.75,
          8.18,
          9.56,
          10.57
         ]
        },
        {
         "name": 116,
         "showlegend": false,
         "type": "scatter",
         "x": [
          0,
          1,
          2,
          3
         ],
         "y": [
          10.83,
          11.65,
          12.56,
          13.22
         ]
        },
        {
         "name": 121,
         "showlegend": false,
         "type": "scatter",
         "x": [
          0,
          1,
          2,
          3,
          4
         ],
         "y": [
          6.45,
          6.5,
          6.98,
          8.15,
          8.41
         ]
        },
        {
         "name": 122,
         "showlegend": false,
         "type": "scatter",
         "x": [
          0,
          1,
          2,
          3,
          4
         ],
         "y": [
          5.68,
          6.9,
          6.9,
          7.23,
          9.06
         ]
        },
        {
         "name": 123,
         "showlegend": false,
         "type": "scatter",
         "x": [
          0,
          1,
          2,
          3,
          4
         ],
         "y": [
          8.7,
          9.01,
          9.27,
          10.09,
          11.54
         ]
        },
        {
         "name": 124,
         "showlegend": false,
         "type": "scatter",
         "x": [
          0,
          1,
          2,
          3,
          4
         ],
         "y": [
          28.79,
          29.85,
          30,
          40.83,
          46.19
         ]
        },
        {
         "name": 125,
         "showlegend": false,
         "type": "scatter",
         "x": [
          0,
          1,
          2,
          3,
          4
         ],
         "y": [
          14.91,
          16.19,
          16.36,
          17.05,
          17.83
         ]
        },
        {
         "name": 126,
         "showlegend": false,
         "type": "scatter",
         "x": [
          0,
          1,
          2,
          3,
          4
         ],
         "y": [
          4.73,
          5.5,
          6.05,
          6.34,
          8.19
         ]
        },
        {
         "name": 127,
         "showlegend": false,
         "type": "scatter",
         "x": [
          0,
          1,
          2,
          3,
          4
         ],
         "y": [
          6.11,
          6.27,
          6.83,
          6.87,
          7.43
         ]
        },
        {
         "name": 129,
         "showlegend": false,
         "type": "scatter",
         "x": [
          0,
          1,
          2,
          3,
          4
         ],
         "y": [
          7.49,
          7.57,
          7.6,
          8.02,
          8.05
         ]
        },
        {
         "name": 132,
         "showlegend": false,
         "type": "scatter",
         "x": [
          0,
          1,
          2,
          3,
          4
         ],
         "y": [
          8.41,
          10.85,
          11.93,
          12.48,
          12.52
         ]
        },
        {
         "name": 133,
         "showlegend": false,
         "type": "scatter",
         "x": [
          0,
          1,
          2,
          3,
          4
         ],
         "y": [
          7.45,
          8.26,
          8.51,
          9.81,
          11.79
         ]
        },
        {
         "name": 135,
         "showlegend": false,
         "type": "scatter",
         "x": [
          0,
          1,
          2,
          3,
          4
         ],
         "y": [
          9.59,
          15.74,
          16.44,
          17.76,
          20.51
         ]
        },
        {
         "name": 137,
         "showlegend": false,
         "type": "scatter",
         "x": [
          0,
          1,
          2,
          3,
          4
         ],
         "y": [
          5.14,
          5.74,
          6.23,
          6.85,
          7.37
         ]
        },
        {
         "name": 138,
         "showlegend": false,
         "type": "scatter",
         "x": [
          0,
          1,
          2,
          3,
          4
         ],
         "y": [
          5.31,
          6.16,
          6.41,
          6.43,
          13.04
         ]
        },
        {
         "name": 139,
         "showlegend": false,
         "type": "scatter",
         "x": [
          0,
          1,
          2,
          3,
          4
         ],
         "y": [
          10.08,
          16.38,
          17.76,
          18.65,
          24.36
         ]
        },
        {
         "name": 143,
         "showlegend": false,
         "type": "scatter",
         "x": [
          0,
          1,
          2,
          3
         ],
         "y": [
          4.8,
          5.98,
          6.45,
          6.59
         ]
        },
        {
         "name": 146,
         "showlegend": false,
         "type": "scatter",
         "x": [
          0,
          1,
          2,
          3,
          4
         ],
         "y": [
          6.12,
          6.48,
          7.33,
          7.93,
          8.28
         ]
        },
        {
         "name": 147,
         "showlegend": false,
         "type": "scatter",
         "x": [
          0,
          1,
          2,
          3,
          4
         ],
         "y": [
          10.2,
          12.95,
          13.12,
          14.69,
          18.41
         ]
        },
        {
         "name": 148,
         "showlegend": false,
         "type": "scatter",
         "x": [
          0,
          1,
          2,
          3,
          4
         ],
         "y": [
          9.33,
          11.39,
          12.98,
          13.42,
          21.04
         ]
        },
        {
         "name": 149,
         "showlegend": false,
         "type": "scatter",
         "x": [
          0,
          1,
          2,
          3
         ],
         "y": [
          9.59,
          9.75,
          11.96,
          15.54
         ]
        },
        {
         "name": 150,
         "showlegend": false,
         "type": "scatter",
         "x": [
          0,
          1,
          2,
          3,
          4
         ],
         "y": [
          8.2,
          8.9,
          10.69,
          10.73,
          11.07
         ]
        },
        {
         "name": 151,
         "showlegend": false,
         "type": "scatter",
         "x": [
          0,
          1,
          2,
          3,
          4
         ],
         "y": [
          7.16,
          8.57,
          9.95,
          12.33,
          12.38
         ]
        },
        {
         "name": 152,
         "showlegend": false,
         "type": "scatter",
         "x": [
          0,
          1,
          2,
          3
         ],
         "y": [
          8.35,
          8.56,
          8.85,
          10.95
         ]
        },
        {
         "name": 153,
         "showlegend": false,
         "type": "scatter",
         "x": [
          0,
          1,
          2,
          3,
          4
         ],
         "y": [
          12.27,
          13.32,
          14.41,
          14.57,
          15.62
         ]
        },
        {
         "name": 154,
         "showlegend": false,
         "type": "scatter",
         "x": [
          0,
          1,
          2,
          3,
          4
         ],
         "y": [
          15.03,
          16.96,
          18.04,
          19.94,
          21.48
         ]
        },
        {
         "name": 156,
         "showlegend": false,
         "type": "scatter",
         "x": [
          0,
          1,
          2,
          3,
          4
         ],
         "y": [
          7.35,
          8.41,
          9.39,
          9.4,
          9.55
         ]
        }
       ],
       "layout": {
        "title": "Male population testosterone",
        "xaxis": {
         "title": "Samples"
        },
        "yaxis": {
         "title": "T"
        }
       }
      },
      "text/html": [
       "<div id=\"7d62f596-5617-45af-9f2f-b2e936f5164f\" style=\"height: 525px; width: 100%;\" class=\"plotly-graph-div\"></div><script type=\"text/javascript\">require([\"plotly\"], function(Plotly) { window.PLOTLYENV=window.PLOTLYENV || {};window.PLOTLYENV.BASE_URL=\"https://plot.ly\";Plotly.newPlot(\"7d62f596-5617-45af-9f2f-b2e936f5164f\", [{\"type\": \"scatter\", \"x\": [0, 1, 2, 3, 4, 5, 6, 7, 8, 9], \"y\": [5.45, 5.58, 6.25, 6.31, 6.52, 7.04, 7.15, 7.34, 7.42, 7.72], \"name\": 1, \"showlegend\": false}, {\"type\": \"scatter\", \"x\": [0, 1, 2, 3, 4, 5, 6, 7, 8, 9], \"y\": [9.65, 9.89, 11.48, 12.27, 13.02, 13.41, 13.73, 15.74, 16.07, 20.33], \"name\": 2, \"showlegend\": false}, {\"type\": \"scatter\", \"x\": [0, 1, 2, 3, 4, 5, 6, 7, 8, 9], \"y\": [3.66, 3.85, 4.03, 4.15, 4.27, 4.44, 5.07, 5.2, 6.25, 6.28], \"name\": 3, \"showlegend\": false}, {\"type\": \"scatter\", \"x\": [0, 1, 2, 3, 4, 5, 6, 7, 8, 9], \"y\": [5.1, 5.34, 5.68, 6.0, 6.77, 7.51, 7.6, 7.71, 7.77, 7.77], \"name\": 4, \"showlegend\": false}, {\"type\": \"scatter\", \"x\": [0, 1, 2, 3, 4, 5, 6, 7, 8, 9], \"y\": [4.76, 5.09, 5.16, 5.69, 5.86, 5.91, 6.78, 7.51, 7.68, 9.17], \"name\": 5, \"showlegend\": false}, {\"type\": \"scatter\", \"x\": [0, 1, 2, 3, 4, 5, 6, 7, 8, 9], \"y\": [5.75, 6.2, 6.37, 8.6, 9.22, 9.96, 10.55, 10.82, 10.82, 12.41], \"name\": 6, \"showlegend\": false}, {\"type\": \"scatter\", \"x\": [0, 1, 2, 3, 4, 5, 6, 7, 8, 9], \"y\": [4.7, 5.21, 5.6, 6.21, 6.39, 6.97, 7.84, 8.07, 8.42, 9.24], \"name\": 7, \"showlegend\": false}, {\"type\": \"scatter\", \"x\": [0, 1, 2, 3, 4, 5, 6, 7, 8, 9], \"y\": [13.24, 13.39, 14.73, 15.38, 17.11, 17.33, 18.39, 19.89, 23.78, 33.42], \"name\": 8, \"showlegend\": false}, {\"type\": \"scatter\", \"x\": [0, 1, 2, 3, 4, 5, 6, 7, 8, 9], \"y\": [12.48, 14.88, 15.48, 16.3, 17.29, 17.74, 18.6, 19.51, 24.58, 24.77], \"name\": 9, \"showlegend\": false}, {\"type\": \"scatter\", \"x\": [0, 1, 2, 3, 4, 5, 6, 7, 8], \"y\": [10.14, 10.42, 10.61, 12.13, 12.95, 13.03, 13.83, 16.57, 17.63], \"name\": 10, \"showlegend\": false}, {\"type\": \"scatter\", \"x\": [0, 1, 2, 3, 4, 5, 6, 7, 8, 9], \"y\": [4.73, 5.79, 6.5, 6.8, 7.03, 7.04, 7.1, 7.95, 8.42, 9.45], \"name\": 11, \"showlegend\": false}, {\"type\": \"scatter\", \"x\": [0, 1, 2, 3, 4, 5, 6, 7, 8, 9], \"y\": [90.09, 96.31, 100.87, 101.65, 102.3, 113.5, 122.15, 126.78, 128.75, 128.78], \"name\": 12, \"showlegend\": false}, {\"type\": \"scatter\", \"x\": [0, 1, 2, 3, 4, 5, 6, 7, 8, 9], \"y\": [8.29, 8.36, 8.51, 8.55, 8.84, 9.71, 9.72, 9.84, 12.43, 13.77], \"name\": 13, \"showlegend\": false}, {\"type\": \"scatter\", \"x\": [0, 1, 2, 3, 4, 5, 6, 7, 8, 9], \"y\": [6.37, 8.7, 8.7, 9.18, 10.0, 13.39, 14.88, 15.15, 20.07, 21.04], \"name\": 14, \"showlegend\": false}, {\"type\": \"scatter\", \"x\": [0, 1, 2, 3, 4, 5, 6, 7, 8, 9], \"y\": [8.28, 8.46, 9.7, 9.94, 10.18, 11.24, 11.54, 12.27, 15.74, 16.19], \"name\": 15, \"showlegend\": false}, {\"type\": \"scatter\", \"x\": [0, 1, 2, 3, 4, 5, 6, 7, 8, 9], \"y\": [7.3, 7.51, 8.09, 8.52, 8.76, 11.1, 12.44, 12.82, 12.95, 13.05], \"name\": 16, \"showlegend\": false}, {\"type\": \"scatter\", \"x\": [0, 1, 2, 3, 4, 5, 6, 7, 8], \"y\": [7.73, 9.21, 9.72, 12.07, 12.46, 24.05, 26.66, 28.64, 35.54], \"name\": 17, \"showlegend\": false}, {\"type\": \"scatter\", \"x\": [0, 1, 2, 3, 4, 5, 6, 7, 8, 9], \"y\": [5.83, 6.31, 6.41, 7.38, 7.86, 7.91, 7.98, 8.13, 8.57, 10.26], \"name\": 18, \"showlegend\": false}, {\"type\": \"scatter\", \"x\": [0, 1, 2, 3, 4, 5, 6, 7, 8, 9], \"y\": [27.28, 29.81, 32.57, 39.04, 41.15, 41.9, 42.88, 48.01, 49.0, 49.45], \"name\": 19, \"showlegend\": false}, {\"type\": \"scatter\", \"x\": [0, 1, 2, 3, 4, 5, 6, 7, 8], \"y\": [5.46, 5.62, 5.75, 6.23, 6.26, 6.29, 6.51, 6.6, 6.94], \"name\": 20, \"showlegend\": false}, {\"type\": \"scatter\", \"x\": [0, 1, 2, 3, 4, 5, 6, 7, 8, 9], \"y\": [9.23, 9.41, 11.23, 11.36, 11.61, 13.41, 14.44, 14.84, 15.58, 17.16], \"name\": 21, \"showlegend\": false}, {\"type\": \"scatter\", \"x\": [0, 1, 2, 3, 4, 5, 6, 7, 8, 9], \"y\": [7.13, 8.02, 8.05, 8.91, 9.27, 9.82, 11.65, 12.44, 12.82, 12.85], \"name\": 22, \"showlegend\": false}, {\"type\": \"scatter\", \"x\": [0, 1, 2, 3, 4, 5, 6, 7], \"y\": [7.28, 8.6, 12.07, 13.56, 13.95, 13.99, 14.04, 14.76], \"name\": 23, \"showlegend\": false}, {\"type\": \"scatter\", \"x\": [0, 1, 2, 3, 4, 5, 6, 7, 8, 9], \"y\": [5.4, 5.56, 5.91, 6.06, 6.27, 6.53, 6.68, 7.36, 7.4, 7.53], \"name\": 24, \"showlegend\": false}, {\"type\": \"scatter\", \"x\": [0, 1, 2, 3], \"y\": [11.8, 12.67, 12.74, 14.62], \"name\": 48, \"showlegend\": false}, {\"type\": \"scatter\", \"x\": [0, 1, 2, 3, 4, 5, 6, 7, 8, 9], \"y\": [9.62, 12.14, 12.51, 12.81, 12.86, 14.44, 16.48, 16.64, 17.34, 18.14], \"name\": 49, \"showlegend\": false}, {\"type\": \"scatter\", \"x\": [0, 1, 2, 3, 4, 5, 6, 7, 8, 9], \"y\": [9.44, 10.43, 12.35, 13.2, 13.3, 14.11, 14.31, 15.48, 17.63, 19.64], \"name\": 50, \"showlegend\": false}, {\"type\": \"scatter\", \"x\": [0, 1, 2, 3, 4, 5, 6, 7, 8], \"y\": [14.18, 14.7, 15.34, 15.47, 16.77, 17.2, 17.84, 18.75, 19.82], \"name\": 51, \"showlegend\": false}, {\"type\": \"scatter\", \"x\": [0, 1, 2, 3, 4, 5, 6, 7, 8, 9], \"y\": [7.83, 8.29, 8.43, 10.12, 10.31, 10.41, 13.44, 14.27, 14.83, 15.72], \"name\": 52, \"showlegend\": false}, {\"type\": \"scatter\", \"x\": [0, 1, 2, 3, 4, 5, 6, 7, 8, 9], \"y\": [7.88, 9.08, 9.36, 11.39, 12.62, 15.3, 16.87, 18.53, 18.6, 22.53], \"name\": 53, \"showlegend\": false}, {\"type\": \"scatter\", \"x\": [0, 1, 2, 3, 4, 5, 6, 7, 8, 9], \"y\": [9.58, 9.9, 10.15, 10.17, 10.49, 11.1, 11.75, 11.85, 12.46, 15.48], \"name\": 54, \"showlegend\": false}, {\"type\": \"scatter\", \"x\": [0, 1, 2, 3, 4, 5, 6, 7], \"y\": [13.36, 16.13, 16.41, 16.72, 17.02, 17.07, 18.54, 22.06], \"name\": 55, \"showlegend\": false}, {\"type\": \"scatter\", \"x\": [0, 1, 2, 3, 4, 5, 6, 7, 8, 9], \"y\": [9.23, 12.69, 14.57, 14.66, 14.99, 15.47, 15.61, 17.0, 19.61, 21.94], \"name\": 56, \"showlegend\": false}, {\"type\": \"scatter\", \"x\": [0, 1, 2, 3, 4, 5, 6, 7, 8, 9], \"y\": [11.61, 12.49, 13.88, 14.49, 15.32, 16.05, 16.47, 16.89, 18.93, 21.3], \"name\": 57, \"showlegend\": false}, {\"type\": \"scatter\", \"x\": [0, 1, 2, 3, 4, 5, 6, 7, 8, 9], \"y\": [13.36, 15.91, 17.14, 17.27, 17.6, 17.63, 18.07, 19.7, 23.9, 24.61], \"name\": 58, \"showlegend\": false}, {\"type\": \"scatter\", \"x\": [0, 1, 2, 3, 4, 5, 6, 7, 8, 9], \"y\": [16.25, 16.67, 17.2, 18.03, 18.34, 18.67, 19.45, 25.37, 30.65, 33.69], \"name\": 59, \"showlegend\": false}, {\"type\": \"scatter\", \"x\": [0, 1, 2, 3, 4, 5], \"y\": [13.0, 14.57, 15.16, 16.44, 16.87, 19.94], \"name\": 60, \"showlegend\": false}, {\"type\": \"scatter\", \"x\": [0, 1, 2, 3, 4, 5, 6, 7, 8, 9], \"y\": [7.62, 8.89, 9.03, 10.61, 10.71, 11.06, 11.33, 11.47, 12.39, 13.09], \"name\": 61, \"showlegend\": false}, {\"type\": \"scatter\", \"x\": [0, 1, 2, 3, 4, 5, 6, 7, 8, 9], \"y\": [8.6, 9.08, 9.28, 9.56, 10.01, 10.78, 12.57, 13.36, 14.86, 17.92], \"name\": 62, \"showlegend\": false}, {\"type\": \"scatter\", \"x\": [0, 1, 2, 3, 4, 5, 6, 7, 8, 9], \"y\": [9.42, 13.54, 13.85, 14.49, 15.28, 15.28, 16.62, 18.27, 22.96, 27.6], \"name\": 63, \"showlegend\": false}, {\"type\": \"scatter\", \"x\": [0, 1, 2, 3, 4, 5, 6, 7, 8], \"y\": [8.56, 9.21, 11.1, 11.51, 11.59, 11.8, 12.15, 16.62, 16.84], \"name\": 64, \"showlegend\": false}, {\"type\": \"scatter\", \"x\": [0, 1, 2, 3, 4, 5, 6, 7, 8, 9], \"y\": [13.1, 14.28, 14.79, 15.06, 15.07, 15.95, 16.44, 17.22, 18.45, 19.3], \"name\": 65, \"showlegend\": false}, {\"type\": \"scatter\", \"x\": [0, 1, 2, 3, 4, 5, 6, 7, 8, 9], \"y\": [9.14, 9.86, 10.15, 10.78, 10.86, 10.97, 11.39, 11.72, 12.01, 12.39], \"name\": 66, \"showlegend\": false}, {\"type\": \"scatter\", \"x\": [0, 1, 2, 3, 4, 5, 6, 7, 8, 9, 10, 11, 12, 13, 14, 15, 16], \"y\": [7.13, 7.15, 7.24, 7.32, 7.79, 8.09, 8.43, 8.9, 9.42, 9.66, 10.2, 10.57, 11.36, 11.93, 12.14, 13.15, 14.31], \"name\": 67, \"showlegend\": false}, {\"type\": \"scatter\", \"x\": [0, 1, 2, 3, 4, 5, 6, 7, 8, 9, 10, 11, 12, 13, 14, 15], \"y\": [7.3, 7.76, 8.04, 8.88, 9.14, 9.49, 9.6, 9.69, 9.76, 9.84, 9.86, 10.2, 10.57, 11.19, 11.87, 13.67], \"name\": 68, \"showlegend\": false}, {\"type\": \"scatter\", \"x\": [0, 1, 2, 3, 4, 5, 6, 7, 8], \"y\": [10.46, 10.79, 11.24, 11.36, 12.59, 12.92, 13.53, 16.53, 17.85], \"name\": 71, \"showlegend\": false}, {\"type\": \"scatter\", \"x\": [0, 1, 2, 3, 4], \"y\": [9.59, 18.79, 19.19, 26.25, 28.5], \"name\": 72, \"showlegend\": false}, {\"type\": \"scatter\", \"x\": [0, 1, 2, 3, 4, 5, 6, 7, 8, 9, 10, 11, 12, 13, 14, 15, 16, 17], \"y\": [7.22, 7.95, 8.79, 9.8, 10.99, 10.99, 11.55, 16.53, 20.83, 22.97, 23.44, 24.43, 25.26, 26.66, 29.09, 30.0, 30.62, 30.94], \"name\": 73, \"showlegend\": false}, {\"type\": \"scatter\", \"x\": [0, 1, 2, 3, 4, 5, 6, 7, 8, 9, 10, 11, 12, 13, 14], \"y\": [4.71, 4.89, 5.04, 5.45, 5.95, 6.12, 7.0, 7.93, 8.22, 8.36, 9.01, 9.66, 9.69, 10.15, 16.07], \"name\": 74, \"showlegend\": false}, {\"type\": \"scatter\", \"x\": [0, 1, 2, 3, 4, 5, 6, 7, 8, 9, 10, 11, 12, 13, 14], \"y\": [8.97, 9.84, 10.36, 11.4, 11.48, 11.76, 11.93, 12.29, 12.46, 13.37, 13.46, 16.79, 19.48, 20.94, 22.85], \"name\": 75, \"showlegend\": false}, {\"type\": \"scatter\", \"x\": [0, 1, 2, 3, 4, 5, 6, 7, 8, 9, 10, 11, 12, 13, 14, 15], \"y\": [9.94, 11.71, 11.84, 12.72, 13.32, 18.51, 20.94, 22.15, 43.43, 46.67, 49.64, 52.66, 53.89, 65.51, 67.21, 68.66], \"name\": 76, \"showlegend\": false}, {\"type\": \"scatter\", \"x\": [0, 1, 2, 3, 4, 5, 6, 7, 8], \"y\": [2.74, 4.5, 4.8, 5.11, 5.62, 5.76, 7.26, 7.61, 8.39], \"name\": 77, \"showlegend\": false}, {\"type\": \"scatter\", \"x\": [0, 1, 2, 3, 4, 5, 6, 7], \"y\": [5.98, 6.83, 8.74, 9.13, 9.94, 12.52, 16.44, 17.85], \"name\": 78, \"showlegend\": false}, {\"type\": \"scatter\", \"x\": [0, 1, 2, 3, 4, 5, 6, 7, 8, 9, 10, 11, 12, 13, 14, 15, 16, 17], \"y\": [12.04, 12.59, 12.77, 13.42, 13.58, 14.24, 15.54, 15.6, 21.93, 24.68, 25.98, 30.0, 31.26, 39.59, 39.59, 40.0, 40.83, 52.79], \"name\": 79, \"showlegend\": false}, {\"type\": \"scatter\", \"x\": [0, 1, 2, 3, 4], \"y\": [3.44, 10.79, 13.05, 13.95, 15.46], \"name\": 81, \"showlegend\": false}, {\"type\": \"scatter\", \"x\": [0, 1, 2, 3, 4, 5, 6, 7, 8, 9, 10, 11, 12, 13, 14, 15], \"y\": [2.86, 3.95, 4.61, 4.62, 4.65, 4.97, 5.41, 5.46, 5.54, 5.91, 6.29, 6.88, 8.05, 8.18, 10.79, 11.48], \"name\": 82, \"showlegend\": false}, {\"type\": \"scatter\", \"x\": [0, 1, 2, 3, 4, 5, 6, 7], \"y\": [8.01, 8.58, 9.2, 9.25, 10.15, 10.99, 12.27, 14.17], \"name\": 84, \"showlegend\": false}, {\"type\": \"scatter\", \"x\": [0, 1, 2, 3, 4, 5, 6, 7], \"y\": [5.39, 5.81, 6.29, 6.71, 8.39, 10.57, 11.54, 11.65], \"name\": 85, \"showlegend\": false}, {\"type\": \"scatter\", \"x\": [0, 1, 2, 3, 4, 5, 6, 7, 8, 9, 10, 11, 12, 13, 14, 15, 16, 17], \"y\": [3.54, 4.8, 4.89, 4.99, 5.37, 5.54, 5.55, 6.07, 6.32, 6.97, 7.04, 7.65, 8.9, 9.44, 11.07, 11.65, 11.84, 11.84], \"name\": 86, \"showlegend\": false}, {\"type\": \"scatter\", \"x\": [0, 1, 2, 3, 4, 5, 6, 7, 8, 9, 10, 11, 12, 13, 14, 15, 16], \"y\": [3.62, 3.68, 4.27, 4.53, 4.69, 5.39, 5.68, 6.24, 6.27, 7.21, 8.74, 9.13, 9.44, 9.44, 9.59, 9.94, 10.41], \"name\": 87, \"showlegend\": false}, {\"type\": \"scatter\", \"x\": [0, 1, 2, 3, 4, 5, 6, 7, 8, 9, 10, 11, 12, 13, 14], \"y\": [7.53, 8.13, 8.2, 9.25, 11.85, 13.6, 13.74, 14.17, 14.65, 14.65, 16.28, 17.05, 17.22, 19.68, 19.68], \"name\": 89, \"showlegend\": false}, {\"type\": \"scatter\", \"x\": [0, 1, 2, 3, 4, 5, 6, 7, 8, 9, 10, 11, 12, 13, 14], \"y\": [4.63, 5.2, 6.05, 6.07, 6.88, 9.2, 9.61, 10.25, 10.41, 10.9, 11.21, 12.59, 12.59, 13.74, 14.46], \"name\": 90, \"showlegend\": false}, {\"type\": \"scatter\", \"x\": [0, 1, 2, 3, 4, 5, 6, 7, 8, 9, 10, 11, 12, 13, 14], \"y\": [6.43, 7.24, 7.28, 7.49, 7.49, 7.57, 7.77, 7.81, 8.07, 8.18, 8.45, 8.9, 9.05, 9.42, 9.82], \"name\": 91, \"showlegend\": false}, {\"type\": \"scatter\", \"x\": [0, 1, 2, 3, 4, 5, 6, 7, 8, 9, 10, 11, 12, 13, 14], \"y\": [3.43, 5.38, 5.71, 5.85, 5.99, 6.08, 6.32, 6.74, 6.8, 6.83, 7.03, 7.26, 7.26, 7.43, 9.18], \"name\": 92, \"showlegend\": false}, {\"type\": \"scatter\", \"x\": [0, 1, 2, 3, 4, 5, 6, 7, 8, 9, 10, 11, 12, 13, 14], \"y\": [5.63, 5.91, 6.32, 6.8, 6.83, 11.84, 12.3, 12.69, 13.12, 13.22, 16.53, 17.31, 17.31, 17.67, 18.32], \"name\": 93, \"showlegend\": false}, {\"type\": \"scatter\", \"x\": [0, 1, 2, 3, 4, 5, 6, 7, 8, 9, 10, 11, 12, 13, 14], \"y\": [4.46, 4.94, 5.18, 5.41, 5.58, 5.81, 6.87, 7.03, 7.61, 7.81, 8.74, 8.97, 10.04, 10.25, 10.79], \"name\": 94, \"showlegend\": false}, {\"type\": \"scatter\", \"x\": [0, 1, 2, 3, 4], \"y\": [6.16, 6.38, 6.86, 7.12, 7.12], \"name\": 95, \"showlegend\": false}, {\"type\": \"scatter\", \"x\": [0, 1, 2, 3, 4], \"y\": [4.42, 4.66, 5.5, 5.5, 6.18], \"name\": 96, \"showlegend\": false}, {\"type\": \"scatter\", \"x\": [0, 1, 2, 3, 4], \"y\": [5.18, 5.2, 6.02, 6.18, 6.32], \"name\": 97, \"showlegend\": false}, {\"type\": \"scatter\", \"x\": [0, 1, 2, 3, 4], \"y\": [14.06, 14.54, 15.26, 17.22, 21.15], \"name\": 99, \"showlegend\": false}, {\"type\": \"scatter\", \"x\": [0, 1, 2, 3, 4], \"y\": [5.38, 5.93, 5.93, 6.12, 6.13], \"name\": 100, \"showlegend\": false}, {\"type\": \"scatter\", \"x\": [0, 1, 2, 3, 4], \"y\": [6.45, 7.55, 7.87, 8.67, 10.53], \"name\": 101, \"showlegend\": false}, {\"type\": \"scatter\", \"x\": [0, 1, 2, 3, 4], \"y\": [8.52, 11.2, 11.94, 12.82, 13.15], \"name\": 102, \"showlegend\": false}, {\"type\": \"scatter\", \"x\": [0, 1, 2, 3, 4], \"y\": [19.74, 22.21, 23.38, 24.43, 27.7], \"name\": 103, \"showlegend\": false}, {\"type\": \"scatter\", \"x\": [0, 1, 2, 3, 4], \"y\": [3.68, 4.2, 4.57, 4.92, 6.37], \"name\": 107, \"showlegend\": false}, {\"type\": \"scatter\", \"x\": [0, 1, 2, 3, 4], \"y\": [3.11, 3.72, 4.14, 4.2, 4.3], \"name\": 109, \"showlegend\": false}, {\"type\": \"scatter\", \"x\": [0, 1, 2, 3, 4], \"y\": [6.9, 7.57, 8.44, 8.71, 12.36], \"name\": 111, \"showlegend\": false}, {\"type\": \"scatter\", \"x\": [0, 1, 2, 3, 4], \"y\": [10.11, 10.9, 12.24, 12.3, 12.36], \"name\": 112, \"showlegend\": false}, {\"type\": \"scatter\", \"x\": [0, 1, 2, 3, 4], \"y\": [6.75, 8.67, 8.97, 10.08, 10.29], \"name\": 113, \"showlegend\": false}, {\"type\": \"scatter\", \"x\": [0, 1, 2, 3, 4], \"y\": [7.25, 7.78, 7.84, 8.26, 9.7], \"name\": 114, \"showlegend\": false}, {\"type\": \"scatter\", \"x\": [0, 1, 2, 3, 4], \"y\": [6.23, 7.75, 8.18, 9.56, 10.57], \"name\": 115, \"showlegend\": false}, {\"type\": \"scatter\", \"x\": [0, 1, 2, 3], \"y\": [10.83, 11.65, 12.56, 13.22], \"name\": 116, \"showlegend\": false}, {\"type\": \"scatter\", \"x\": [0, 1, 2, 3, 4], \"y\": [6.45, 6.5, 6.98, 8.15, 8.41], \"name\": 121, \"showlegend\": false}, {\"type\": \"scatter\", \"x\": [0, 1, 2, 3, 4], \"y\": [5.68, 6.9, 6.9, 7.23, 9.06], \"name\": 122, \"showlegend\": false}, {\"type\": \"scatter\", \"x\": [0, 1, 2, 3, 4], \"y\": [8.7, 9.01, 9.27, 10.09, 11.54], \"name\": 123, \"showlegend\": false}, {\"type\": \"scatter\", \"x\": [0, 1, 2, 3, 4], \"y\": [28.79, 29.85, 30.0, 40.83, 46.19], \"name\": 124, \"showlegend\": false}, {\"type\": \"scatter\", \"x\": [0, 1, 2, 3, 4], \"y\": [14.91, 16.19, 16.36, 17.05, 17.83], \"name\": 125, \"showlegend\": false}, {\"type\": \"scatter\", \"x\": [0, 1, 2, 3, 4], \"y\": [4.73, 5.5, 6.05, 6.34, 8.19], \"name\": 126, \"showlegend\": false}, {\"type\": \"scatter\", \"x\": [0, 1, 2, 3, 4], \"y\": [6.11, 6.27, 6.83, 6.87, 7.43], \"name\": 127, \"showlegend\": false}, {\"type\": \"scatter\", \"x\": [0, 1, 2, 3, 4], \"y\": [7.49, 7.57, 7.6, 8.02, 8.05], \"name\": 129, \"showlegend\": false}, {\"type\": \"scatter\", \"x\": [0, 1, 2, 3, 4], \"y\": [8.41, 10.85, 11.93, 12.48, 12.52], \"name\": 132, \"showlegend\": false}, {\"type\": \"scatter\", \"x\": [0, 1, 2, 3, 4], \"y\": [7.45, 8.26, 8.51, 9.81, 11.79], \"name\": 133, \"showlegend\": false}, {\"type\": \"scatter\", \"x\": [0, 1, 2, 3, 4], \"y\": [9.59, 15.74, 16.44, 17.76, 20.51], \"name\": 135, \"showlegend\": false}, {\"type\": \"scatter\", \"x\": [0, 1, 2, 3, 4], \"y\": [5.14, 5.74, 6.23, 6.85, 7.37], \"name\": 137, \"showlegend\": false}, {\"type\": \"scatter\", \"x\": [0, 1, 2, 3, 4], \"y\": [5.31, 6.16, 6.41, 6.43, 13.04], \"name\": 138, \"showlegend\": false}, {\"type\": \"scatter\", \"x\": [0, 1, 2, 3, 4], \"y\": [10.08, 16.38, 17.76, 18.65, 24.36], \"name\": 139, \"showlegend\": false}, {\"type\": \"scatter\", \"x\": [0, 1, 2, 3], \"y\": [4.8, 5.98, 6.45, 6.59], \"name\": 143, \"showlegend\": false}, {\"type\": \"scatter\", \"x\": [0, 1, 2, 3, 4], \"y\": [6.12, 6.48, 7.33, 7.93, 8.28], \"name\": 146, \"showlegend\": false}, {\"type\": \"scatter\", \"x\": [0, 1, 2, 3, 4], \"y\": [10.2, 12.95, 13.12, 14.69, 18.41], \"name\": 147, \"showlegend\": false}, {\"type\": \"scatter\", \"x\": [0, 1, 2, 3, 4], \"y\": [9.33, 11.39, 12.98, 13.42, 21.04], \"name\": 148, \"showlegend\": false}, {\"type\": \"scatter\", \"x\": [0, 1, 2, 3], \"y\": [9.59, 9.75, 11.96, 15.54], \"name\": 149, \"showlegend\": false}, {\"type\": \"scatter\", \"x\": [0, 1, 2, 3, 4], \"y\": [8.2, 8.9, 10.69, 10.73, 11.07], \"name\": 150, \"showlegend\": false}, {\"type\": \"scatter\", \"x\": [0, 1, 2, 3, 4], \"y\": [7.16, 8.57, 9.95, 12.33, 12.38], \"name\": 151, \"showlegend\": false}, {\"type\": \"scatter\", \"x\": [0, 1, 2, 3], \"y\": [8.35, 8.56, 8.85, 10.95], \"name\": 152, \"showlegend\": false}, {\"type\": \"scatter\", \"x\": [0, 1, 2, 3, 4], \"y\": [12.27, 13.32, 14.41, 14.57, 15.62], \"name\": 153, \"showlegend\": false}, {\"type\": \"scatter\", \"x\": [0, 1, 2, 3, 4], \"y\": [15.03, 16.96, 18.04, 19.94, 21.48], \"name\": 154, \"showlegend\": false}, {\"type\": \"scatter\", \"x\": [0, 1, 2, 3, 4], \"y\": [7.35, 8.41, 9.39, 9.4, 9.55], \"name\": 156, \"showlegend\": false}], {\"title\": \"Male population testosterone\", \"xaxis\": {\"title\": \"Samples\"}, \"yaxis\": {\"title\": \"T\"}}, {\"showLink\": true, \"linkText\": \"Export to plot.ly\"})});</script>"
      ],
      "text/vnd.plotly.v1+html": [
       "<div id=\"7d62f596-5617-45af-9f2f-b2e936f5164f\" style=\"height: 525px; width: 100%;\" class=\"plotly-graph-div\"></div><script type=\"text/javascript\">require([\"plotly\"], function(Plotly) { window.PLOTLYENV=window.PLOTLYENV || {};window.PLOTLYENV.BASE_URL=\"https://plot.ly\";Plotly.newPlot(\"7d62f596-5617-45af-9f2f-b2e936f5164f\", [{\"type\": \"scatter\", \"x\": [0, 1, 2, 3, 4, 5, 6, 7, 8, 9], \"y\": [5.45, 5.58, 6.25, 6.31, 6.52, 7.04, 7.15, 7.34, 7.42, 7.72], \"name\": 1, \"showlegend\": false}, {\"type\": \"scatter\", \"x\": [0, 1, 2, 3, 4, 5, 6, 7, 8, 9], \"y\": [9.65, 9.89, 11.48, 12.27, 13.02, 13.41, 13.73, 15.74, 16.07, 20.33], \"name\": 2, \"showlegend\": false}, {\"type\": \"scatter\", \"x\": [0, 1, 2, 3, 4, 5, 6, 7, 8, 9], \"y\": [3.66, 3.85, 4.03, 4.15, 4.27, 4.44, 5.07, 5.2, 6.25, 6.28], \"name\": 3, \"showlegend\": false}, {\"type\": \"scatter\", \"x\": [0, 1, 2, 3, 4, 5, 6, 7, 8, 9], \"y\": [5.1, 5.34, 5.68, 6.0, 6.77, 7.51, 7.6, 7.71, 7.77, 7.77], \"name\": 4, \"showlegend\": false}, {\"type\": \"scatter\", \"x\": [0, 1, 2, 3, 4, 5, 6, 7, 8, 9], \"y\": [4.76, 5.09, 5.16, 5.69, 5.86, 5.91, 6.78, 7.51, 7.68, 9.17], \"name\": 5, \"showlegend\": false}, {\"type\": \"scatter\", \"x\": [0, 1, 2, 3, 4, 5, 6, 7, 8, 9], \"y\": [5.75, 6.2, 6.37, 8.6, 9.22, 9.96, 10.55, 10.82, 10.82, 12.41], \"name\": 6, \"showlegend\": false}, {\"type\": \"scatter\", \"x\": [0, 1, 2, 3, 4, 5, 6, 7, 8, 9], \"y\": [4.7, 5.21, 5.6, 6.21, 6.39, 6.97, 7.84, 8.07, 8.42, 9.24], \"name\": 7, \"showlegend\": false}, {\"type\": \"scatter\", \"x\": [0, 1, 2, 3, 4, 5, 6, 7, 8, 9], \"y\": [13.24, 13.39, 14.73, 15.38, 17.11, 17.33, 18.39, 19.89, 23.78, 33.42], \"name\": 8, \"showlegend\": false}, {\"type\": \"scatter\", \"x\": [0, 1, 2, 3, 4, 5, 6, 7, 8, 9], \"y\": [12.48, 14.88, 15.48, 16.3, 17.29, 17.74, 18.6, 19.51, 24.58, 24.77], \"name\": 9, \"showlegend\": false}, {\"type\": \"scatter\", \"x\": [0, 1, 2, 3, 4, 5, 6, 7, 8], \"y\": [10.14, 10.42, 10.61, 12.13, 12.95, 13.03, 13.83, 16.57, 17.63], \"name\": 10, \"showlegend\": false}, {\"type\": \"scatter\", \"x\": [0, 1, 2, 3, 4, 5, 6, 7, 8, 9], \"y\": [4.73, 5.79, 6.5, 6.8, 7.03, 7.04, 7.1, 7.95, 8.42, 9.45], \"name\": 11, \"showlegend\": false}, {\"type\": \"scatter\", \"x\": [0, 1, 2, 3, 4, 5, 6, 7, 8, 9], \"y\": [90.09, 96.31, 100.87, 101.65, 102.3, 113.5, 122.15, 126.78, 128.75, 128.78], \"name\": 12, \"showlegend\": false}, {\"type\": \"scatter\", \"x\": [0, 1, 2, 3, 4, 5, 6, 7, 8, 9], \"y\": [8.29, 8.36, 8.51, 8.55, 8.84, 9.71, 9.72, 9.84, 12.43, 13.77], \"name\": 13, \"showlegend\": false}, {\"type\": \"scatter\", \"x\": [0, 1, 2, 3, 4, 5, 6, 7, 8, 9], \"y\": [6.37, 8.7, 8.7, 9.18, 10.0, 13.39, 14.88, 15.15, 20.07, 21.04], \"name\": 14, \"showlegend\": false}, {\"type\": \"scatter\", \"x\": [0, 1, 2, 3, 4, 5, 6, 7, 8, 9], \"y\": [8.28, 8.46, 9.7, 9.94, 10.18, 11.24, 11.54, 12.27, 15.74, 16.19], \"name\": 15, \"showlegend\": false}, {\"type\": \"scatter\", \"x\": [0, 1, 2, 3, 4, 5, 6, 7, 8, 9], \"y\": [7.3, 7.51, 8.09, 8.52, 8.76, 11.1, 12.44, 12.82, 12.95, 13.05], \"name\": 16, \"showlegend\": false}, {\"type\": \"scatter\", \"x\": [0, 1, 2, 3, 4, 5, 6, 7, 8], \"y\": [7.73, 9.21, 9.72, 12.07, 12.46, 24.05, 26.66, 28.64, 35.54], \"name\": 17, \"showlegend\": false}, {\"type\": \"scatter\", \"x\": [0, 1, 2, 3, 4, 5, 6, 7, 8, 9], \"y\": [5.83, 6.31, 6.41, 7.38, 7.86, 7.91, 7.98, 8.13, 8.57, 10.26], \"name\": 18, \"showlegend\": false}, {\"type\": \"scatter\", \"x\": [0, 1, 2, 3, 4, 5, 6, 7, 8, 9], \"y\": [27.28, 29.81, 32.57, 39.04, 41.15, 41.9, 42.88, 48.01, 49.0, 49.45], \"name\": 19, \"showlegend\": false}, {\"type\": \"scatter\", \"x\": [0, 1, 2, 3, 4, 5, 6, 7, 8], \"y\": [5.46, 5.62, 5.75, 6.23, 6.26, 6.29, 6.51, 6.6, 6.94], \"name\": 20, \"showlegend\": false}, {\"type\": \"scatter\", \"x\": [0, 1, 2, 3, 4, 5, 6, 7, 8, 9], \"y\": [9.23, 9.41, 11.23, 11.36, 11.61, 13.41, 14.44, 14.84, 15.58, 17.16], \"name\": 21, \"showlegend\": false}, {\"type\": \"scatter\", \"x\": [0, 1, 2, 3, 4, 5, 6, 7, 8, 9], \"y\": [7.13, 8.02, 8.05, 8.91, 9.27, 9.82, 11.65, 12.44, 12.82, 12.85], \"name\": 22, \"showlegend\": false}, {\"type\": \"scatter\", \"x\": [0, 1, 2, 3, 4, 5, 6, 7], \"y\": [7.28, 8.6, 12.07, 13.56, 13.95, 13.99, 14.04, 14.76], \"name\": 23, \"showlegend\": false}, {\"type\": \"scatter\", \"x\": [0, 1, 2, 3, 4, 5, 6, 7, 8, 9], \"y\": [5.4, 5.56, 5.91, 6.06, 6.27, 6.53, 6.68, 7.36, 7.4, 7.53], \"name\": 24, \"showlegend\": false}, {\"type\": \"scatter\", \"x\": [0, 1, 2, 3], \"y\": [11.8, 12.67, 12.74, 14.62], \"name\": 48, \"showlegend\": false}, {\"type\": \"scatter\", \"x\": [0, 1, 2, 3, 4, 5, 6, 7, 8, 9], \"y\": [9.62, 12.14, 12.51, 12.81, 12.86, 14.44, 16.48, 16.64, 17.34, 18.14], \"name\": 49, \"showlegend\": false}, {\"type\": \"scatter\", \"x\": [0, 1, 2, 3, 4, 5, 6, 7, 8, 9], \"y\": [9.44, 10.43, 12.35, 13.2, 13.3, 14.11, 14.31, 15.48, 17.63, 19.64], \"name\": 50, \"showlegend\": false}, {\"type\": \"scatter\", \"x\": [0, 1, 2, 3, 4, 5, 6, 7, 8], \"y\": [14.18, 14.7, 15.34, 15.47, 16.77, 17.2, 17.84, 18.75, 19.82], \"name\": 51, \"showlegend\": false}, {\"type\": \"scatter\", \"x\": [0, 1, 2, 3, 4, 5, 6, 7, 8, 9], \"y\": [7.83, 8.29, 8.43, 10.12, 10.31, 10.41, 13.44, 14.27, 14.83, 15.72], \"name\": 52, \"showlegend\": false}, {\"type\": \"scatter\", \"x\": [0, 1, 2, 3, 4, 5, 6, 7, 8, 9], \"y\": [7.88, 9.08, 9.36, 11.39, 12.62, 15.3, 16.87, 18.53, 18.6, 22.53], \"name\": 53, \"showlegend\": false}, {\"type\": \"scatter\", \"x\": [0, 1, 2, 3, 4, 5, 6, 7, 8, 9], \"y\": [9.58, 9.9, 10.15, 10.17, 10.49, 11.1, 11.75, 11.85, 12.46, 15.48], \"name\": 54, \"showlegend\": false}, {\"type\": \"scatter\", \"x\": [0, 1, 2, 3, 4, 5, 6, 7], \"y\": [13.36, 16.13, 16.41, 16.72, 17.02, 17.07, 18.54, 22.06], \"name\": 55, \"showlegend\": false}, {\"type\": \"scatter\", \"x\": [0, 1, 2, 3, 4, 5, 6, 7, 8, 9], \"y\": [9.23, 12.69, 14.57, 14.66, 14.99, 15.47, 15.61, 17.0, 19.61, 21.94], \"name\": 56, \"showlegend\": false}, {\"type\": \"scatter\", \"x\": [0, 1, 2, 3, 4, 5, 6, 7, 8, 9], \"y\": [11.61, 12.49, 13.88, 14.49, 15.32, 16.05, 16.47, 16.89, 18.93, 21.3], \"name\": 57, \"showlegend\": false}, {\"type\": \"scatter\", \"x\": [0, 1, 2, 3, 4, 5, 6, 7, 8, 9], \"y\": [13.36, 15.91, 17.14, 17.27, 17.6, 17.63, 18.07, 19.7, 23.9, 24.61], \"name\": 58, \"showlegend\": false}, {\"type\": \"scatter\", \"x\": [0, 1, 2, 3, 4, 5, 6, 7, 8, 9], \"y\": [16.25, 16.67, 17.2, 18.03, 18.34, 18.67, 19.45, 25.37, 30.65, 33.69], \"name\": 59, \"showlegend\": false}, {\"type\": \"scatter\", \"x\": [0, 1, 2, 3, 4, 5], \"y\": [13.0, 14.57, 15.16, 16.44, 16.87, 19.94], \"name\": 60, \"showlegend\": false}, {\"type\": \"scatter\", \"x\": [0, 1, 2, 3, 4, 5, 6, 7, 8, 9], \"y\": [7.62, 8.89, 9.03, 10.61, 10.71, 11.06, 11.33, 11.47, 12.39, 13.09], \"name\": 61, \"showlegend\": false}, {\"type\": \"scatter\", \"x\": [0, 1, 2, 3, 4, 5, 6, 7, 8, 9], \"y\": [8.6, 9.08, 9.28, 9.56, 10.01, 10.78, 12.57, 13.36, 14.86, 17.92], \"name\": 62, \"showlegend\": false}, {\"type\": \"scatter\", \"x\": [0, 1, 2, 3, 4, 5, 6, 7, 8, 9], \"y\": [9.42, 13.54, 13.85, 14.49, 15.28, 15.28, 16.62, 18.27, 22.96, 27.6], \"name\": 63, \"showlegend\": false}, {\"type\": \"scatter\", \"x\": [0, 1, 2, 3, 4, 5, 6, 7, 8], \"y\": [8.56, 9.21, 11.1, 11.51, 11.59, 11.8, 12.15, 16.62, 16.84], \"name\": 64, \"showlegend\": false}, {\"type\": \"scatter\", \"x\": [0, 1, 2, 3, 4, 5, 6, 7, 8, 9], \"y\": [13.1, 14.28, 14.79, 15.06, 15.07, 15.95, 16.44, 17.22, 18.45, 19.3], \"name\": 65, \"showlegend\": false}, {\"type\": \"scatter\", \"x\": [0, 1, 2, 3, 4, 5, 6, 7, 8, 9], \"y\": [9.14, 9.86, 10.15, 10.78, 10.86, 10.97, 11.39, 11.72, 12.01, 12.39], \"name\": 66, \"showlegend\": false}, {\"type\": \"scatter\", \"x\": [0, 1, 2, 3, 4, 5, 6, 7, 8, 9, 10, 11, 12, 13, 14, 15, 16], \"y\": [7.13, 7.15, 7.24, 7.32, 7.79, 8.09, 8.43, 8.9, 9.42, 9.66, 10.2, 10.57, 11.36, 11.93, 12.14, 13.15, 14.31], \"name\": 67, \"showlegend\": false}, {\"type\": \"scatter\", \"x\": [0, 1, 2, 3, 4, 5, 6, 7, 8, 9, 10, 11, 12, 13, 14, 15], \"y\": [7.3, 7.76, 8.04, 8.88, 9.14, 9.49, 9.6, 9.69, 9.76, 9.84, 9.86, 10.2, 10.57, 11.19, 11.87, 13.67], \"name\": 68, \"showlegend\": false}, {\"type\": \"scatter\", \"x\": [0, 1, 2, 3, 4, 5, 6, 7, 8], \"y\": [10.46, 10.79, 11.24, 11.36, 12.59, 12.92, 13.53, 16.53, 17.85], \"name\": 71, \"showlegend\": false}, {\"type\": \"scatter\", \"x\": [0, 1, 2, 3, 4], \"y\": [9.59, 18.79, 19.19, 26.25, 28.5], \"name\": 72, \"showlegend\": false}, {\"type\": \"scatter\", \"x\": [0, 1, 2, 3, 4, 5, 6, 7, 8, 9, 10, 11, 12, 13, 14, 15, 16, 17], \"y\": [7.22, 7.95, 8.79, 9.8, 10.99, 10.99, 11.55, 16.53, 20.83, 22.97, 23.44, 24.43, 25.26, 26.66, 29.09, 30.0, 30.62, 30.94], \"name\": 73, \"showlegend\": false}, {\"type\": \"scatter\", \"x\": [0, 1, 2, 3, 4, 5, 6, 7, 8, 9, 10, 11, 12, 13, 14], \"y\": [4.71, 4.89, 5.04, 5.45, 5.95, 6.12, 7.0, 7.93, 8.22, 8.36, 9.01, 9.66, 9.69, 10.15, 16.07], \"name\": 74, \"showlegend\": false}, {\"type\": \"scatter\", \"x\": [0, 1, 2, 3, 4, 5, 6, 7, 8, 9, 10, 11, 12, 13, 14], \"y\": [8.97, 9.84, 10.36, 11.4, 11.48, 11.76, 11.93, 12.29, 12.46, 13.37, 13.46, 16.79, 19.48, 20.94, 22.85], \"name\": 75, \"showlegend\": false}, {\"type\": \"scatter\", \"x\": [0, 1, 2, 3, 4, 5, 6, 7, 8, 9, 10, 11, 12, 13, 14, 15], \"y\": [9.94, 11.71, 11.84, 12.72, 13.32, 18.51, 20.94, 22.15, 43.43, 46.67, 49.64, 52.66, 53.89, 65.51, 67.21, 68.66], \"name\": 76, \"showlegend\": false}, {\"type\": \"scatter\", \"x\": [0, 1, 2, 3, 4, 5, 6, 7, 8], \"y\": [2.74, 4.5, 4.8, 5.11, 5.62, 5.76, 7.26, 7.61, 8.39], \"name\": 77, \"showlegend\": false}, {\"type\": \"scatter\", \"x\": [0, 1, 2, 3, 4, 5, 6, 7], \"y\": [5.98, 6.83, 8.74, 9.13, 9.94, 12.52, 16.44, 17.85], \"name\": 78, \"showlegend\": false}, {\"type\": \"scatter\", \"x\": [0, 1, 2, 3, 4, 5, 6, 7, 8, 9, 10, 11, 12, 13, 14, 15, 16, 17], \"y\": [12.04, 12.59, 12.77, 13.42, 13.58, 14.24, 15.54, 15.6, 21.93, 24.68, 25.98, 30.0, 31.26, 39.59, 39.59, 40.0, 40.83, 52.79], \"name\": 79, \"showlegend\": false}, {\"type\": \"scatter\", \"x\": [0, 1, 2, 3, 4], \"y\": [3.44, 10.79, 13.05, 13.95, 15.46], \"name\": 81, \"showlegend\": false}, {\"type\": \"scatter\", \"x\": [0, 1, 2, 3, 4, 5, 6, 7, 8, 9, 10, 11, 12, 13, 14, 15], \"y\": [2.86, 3.95, 4.61, 4.62, 4.65, 4.97, 5.41, 5.46, 5.54, 5.91, 6.29, 6.88, 8.05, 8.18, 10.79, 11.48], \"name\": 82, \"showlegend\": false}, {\"type\": \"scatter\", \"x\": [0, 1, 2, 3, 4, 5, 6, 7], \"y\": [8.01, 8.58, 9.2, 9.25, 10.15, 10.99, 12.27, 14.17], \"name\": 84, \"showlegend\": false}, {\"type\": \"scatter\", \"x\": [0, 1, 2, 3, 4, 5, 6, 7], \"y\": [5.39, 5.81, 6.29, 6.71, 8.39, 10.57, 11.54, 11.65], \"name\": 85, \"showlegend\": false}, {\"type\": \"scatter\", \"x\": [0, 1, 2, 3, 4, 5, 6, 7, 8, 9, 10, 11, 12, 13, 14, 15, 16, 17], \"y\": [3.54, 4.8, 4.89, 4.99, 5.37, 5.54, 5.55, 6.07, 6.32, 6.97, 7.04, 7.65, 8.9, 9.44, 11.07, 11.65, 11.84, 11.84], \"name\": 86, \"showlegend\": false}, {\"type\": \"scatter\", \"x\": [0, 1, 2, 3, 4, 5, 6, 7, 8, 9, 10, 11, 12, 13, 14, 15, 16], \"y\": [3.62, 3.68, 4.27, 4.53, 4.69, 5.39, 5.68, 6.24, 6.27, 7.21, 8.74, 9.13, 9.44, 9.44, 9.59, 9.94, 10.41], \"name\": 87, \"showlegend\": false}, {\"type\": \"scatter\", \"x\": [0, 1, 2, 3, 4, 5, 6, 7, 8, 9, 10, 11, 12, 13, 14], \"y\": [7.53, 8.13, 8.2, 9.25, 11.85, 13.6, 13.74, 14.17, 14.65, 14.65, 16.28, 17.05, 17.22, 19.68, 19.68], \"name\": 89, \"showlegend\": false}, {\"type\": \"scatter\", \"x\": [0, 1, 2, 3, 4, 5, 6, 7, 8, 9, 10, 11, 12, 13, 14], \"y\": [4.63, 5.2, 6.05, 6.07, 6.88, 9.2, 9.61, 10.25, 10.41, 10.9, 11.21, 12.59, 12.59, 13.74, 14.46], \"name\": 90, \"showlegend\": false}, {\"type\": \"scatter\", \"x\": [0, 1, 2, 3, 4, 5, 6, 7, 8, 9, 10, 11, 12, 13, 14], \"y\": [6.43, 7.24, 7.28, 7.49, 7.49, 7.57, 7.77, 7.81, 8.07, 8.18, 8.45, 8.9, 9.05, 9.42, 9.82], \"name\": 91, \"showlegend\": false}, {\"type\": \"scatter\", \"x\": [0, 1, 2, 3, 4, 5, 6, 7, 8, 9, 10, 11, 12, 13, 14], \"y\": [3.43, 5.38, 5.71, 5.85, 5.99, 6.08, 6.32, 6.74, 6.8, 6.83, 7.03, 7.26, 7.26, 7.43, 9.18], \"name\": 92, \"showlegend\": false}, {\"type\": \"scatter\", \"x\": [0, 1, 2, 3, 4, 5, 6, 7, 8, 9, 10, 11, 12, 13, 14], \"y\": [5.63, 5.91, 6.32, 6.8, 6.83, 11.84, 12.3, 12.69, 13.12, 13.22, 16.53, 17.31, 17.31, 17.67, 18.32], \"name\": 93, \"showlegend\": false}, {\"type\": \"scatter\", \"x\": [0, 1, 2, 3, 4, 5, 6, 7, 8, 9, 10, 11, 12, 13, 14], \"y\": [4.46, 4.94, 5.18, 5.41, 5.58, 5.81, 6.87, 7.03, 7.61, 7.81, 8.74, 8.97, 10.04, 10.25, 10.79], \"name\": 94, \"showlegend\": false}, {\"type\": \"scatter\", \"x\": [0, 1, 2, 3, 4], \"y\": [6.16, 6.38, 6.86, 7.12, 7.12], \"name\": 95, \"showlegend\": false}, {\"type\": \"scatter\", \"x\": [0, 1, 2, 3, 4], \"y\": [4.42, 4.66, 5.5, 5.5, 6.18], \"name\": 96, \"showlegend\": false}, {\"type\": \"scatter\", \"x\": [0, 1, 2, 3, 4], \"y\": [5.18, 5.2, 6.02, 6.18, 6.32], \"name\": 97, \"showlegend\": false}, {\"type\": \"scatter\", \"x\": [0, 1, 2, 3, 4], \"y\": [14.06, 14.54, 15.26, 17.22, 21.15], \"name\": 99, \"showlegend\": false}, {\"type\": \"scatter\", \"x\": [0, 1, 2, 3, 4], \"y\": [5.38, 5.93, 5.93, 6.12, 6.13], \"name\": 100, \"showlegend\": false}, {\"type\": \"scatter\", \"x\": [0, 1, 2, 3, 4], \"y\": [6.45, 7.55, 7.87, 8.67, 10.53], \"name\": 101, \"showlegend\": false}, {\"type\": \"scatter\", \"x\": [0, 1, 2, 3, 4], \"y\": [8.52, 11.2, 11.94, 12.82, 13.15], \"name\": 102, \"showlegend\": false}, {\"type\": \"scatter\", \"x\": [0, 1, 2, 3, 4], \"y\": [19.74, 22.21, 23.38, 24.43, 27.7], \"name\": 103, \"showlegend\": false}, {\"type\": \"scatter\", \"x\": [0, 1, 2, 3, 4], \"y\": [3.68, 4.2, 4.57, 4.92, 6.37], \"name\": 107, \"showlegend\": false}, {\"type\": \"scatter\", \"x\": [0, 1, 2, 3, 4], \"y\": [3.11, 3.72, 4.14, 4.2, 4.3], \"name\": 109, \"showlegend\": false}, {\"type\": \"scatter\", \"x\": [0, 1, 2, 3, 4], \"y\": [6.9, 7.57, 8.44, 8.71, 12.36], \"name\": 111, \"showlegend\": false}, {\"type\": \"scatter\", \"x\": [0, 1, 2, 3, 4], \"y\": [10.11, 10.9, 12.24, 12.3, 12.36], \"name\": 112, \"showlegend\": false}, {\"type\": \"scatter\", \"x\": [0, 1, 2, 3, 4], \"y\": [6.75, 8.67, 8.97, 10.08, 10.29], \"name\": 113, \"showlegend\": false}, {\"type\": \"scatter\", \"x\": [0, 1, 2, 3, 4], \"y\": [7.25, 7.78, 7.84, 8.26, 9.7], \"name\": 114, \"showlegend\": false}, {\"type\": \"scatter\", \"x\": [0, 1, 2, 3, 4], \"y\": [6.23, 7.75, 8.18, 9.56, 10.57], \"name\": 115, \"showlegend\": false}, {\"type\": \"scatter\", \"x\": [0, 1, 2, 3], \"y\": [10.83, 11.65, 12.56, 13.22], \"name\": 116, \"showlegend\": false}, {\"type\": \"scatter\", \"x\": [0, 1, 2, 3, 4], \"y\": [6.45, 6.5, 6.98, 8.15, 8.41], \"name\": 121, \"showlegend\": false}, {\"type\": \"scatter\", \"x\": [0, 1, 2, 3, 4], \"y\": [5.68, 6.9, 6.9, 7.23, 9.06], \"name\": 122, \"showlegend\": false}, {\"type\": \"scatter\", \"x\": [0, 1, 2, 3, 4], \"y\": [8.7, 9.01, 9.27, 10.09, 11.54], \"name\": 123, \"showlegend\": false}, {\"type\": \"scatter\", \"x\": [0, 1, 2, 3, 4], \"y\": [28.79, 29.85, 30.0, 40.83, 46.19], \"name\": 124, \"showlegend\": false}, {\"type\": \"scatter\", \"x\": [0, 1, 2, 3, 4], \"y\": [14.91, 16.19, 16.36, 17.05, 17.83], \"name\": 125, \"showlegend\": false}, {\"type\": \"scatter\", \"x\": [0, 1, 2, 3, 4], \"y\": [4.73, 5.5, 6.05, 6.34, 8.19], \"name\": 126, \"showlegend\": false}, {\"type\": \"scatter\", \"x\": [0, 1, 2, 3, 4], \"y\": [6.11, 6.27, 6.83, 6.87, 7.43], \"name\": 127, \"showlegend\": false}, {\"type\": \"scatter\", \"x\": [0, 1, 2, 3, 4], \"y\": [7.49, 7.57, 7.6, 8.02, 8.05], \"name\": 129, \"showlegend\": false}, {\"type\": \"scatter\", \"x\": [0, 1, 2, 3, 4], \"y\": [8.41, 10.85, 11.93, 12.48, 12.52], \"name\": 132, \"showlegend\": false}, {\"type\": \"scatter\", \"x\": [0, 1, 2, 3, 4], \"y\": [7.45, 8.26, 8.51, 9.81, 11.79], \"name\": 133, \"showlegend\": false}, {\"type\": \"scatter\", \"x\": [0, 1, 2, 3, 4], \"y\": [9.59, 15.74, 16.44, 17.76, 20.51], \"name\": 135, \"showlegend\": false}, {\"type\": \"scatter\", \"x\": [0, 1, 2, 3, 4], \"y\": [5.14, 5.74, 6.23, 6.85, 7.37], \"name\": 137, \"showlegend\": false}, {\"type\": \"scatter\", \"x\": [0, 1, 2, 3, 4], \"y\": [5.31, 6.16, 6.41, 6.43, 13.04], \"name\": 138, \"showlegend\": false}, {\"type\": \"scatter\", \"x\": [0, 1, 2, 3, 4], \"y\": [10.08, 16.38, 17.76, 18.65, 24.36], \"name\": 139, \"showlegend\": false}, {\"type\": \"scatter\", \"x\": [0, 1, 2, 3], \"y\": [4.8, 5.98, 6.45, 6.59], \"name\": 143, \"showlegend\": false}, {\"type\": \"scatter\", \"x\": [0, 1, 2, 3, 4], \"y\": [6.12, 6.48, 7.33, 7.93, 8.28], \"name\": 146, \"showlegend\": false}, {\"type\": \"scatter\", \"x\": [0, 1, 2, 3, 4], \"y\": [10.2, 12.95, 13.12, 14.69, 18.41], \"name\": 147, \"showlegend\": false}, {\"type\": \"scatter\", \"x\": [0, 1, 2, 3, 4], \"y\": [9.33, 11.39, 12.98, 13.42, 21.04], \"name\": 148, \"showlegend\": false}, {\"type\": \"scatter\", \"x\": [0, 1, 2, 3], \"y\": [9.59, 9.75, 11.96, 15.54], \"name\": 149, \"showlegend\": false}, {\"type\": \"scatter\", \"x\": [0, 1, 2, 3, 4], \"y\": [8.2, 8.9, 10.69, 10.73, 11.07], \"name\": 150, \"showlegend\": false}, {\"type\": \"scatter\", \"x\": [0, 1, 2, 3, 4], \"y\": [7.16, 8.57, 9.95, 12.33, 12.38], \"name\": 151, \"showlegend\": false}, {\"type\": \"scatter\", \"x\": [0, 1, 2, 3], \"y\": [8.35, 8.56, 8.85, 10.95], \"name\": 152, \"showlegend\": false}, {\"type\": \"scatter\", \"x\": [0, 1, 2, 3, 4], \"y\": [12.27, 13.32, 14.41, 14.57, 15.62], \"name\": 153, \"showlegend\": false}, {\"type\": \"scatter\", \"x\": [0, 1, 2, 3, 4], \"y\": [15.03, 16.96, 18.04, 19.94, 21.48], \"name\": 154, \"showlegend\": false}, {\"type\": \"scatter\", \"x\": [0, 1, 2, 3, 4], \"y\": [7.35, 8.41, 9.39, 9.4, 9.55], \"name\": 156, \"showlegend\": false}], {\"title\": \"Male population testosterone\", \"xaxis\": {\"title\": \"Samples\"}, \"yaxis\": {\"title\": \"T\"}}, {\"showLink\": true, \"linkText\": \"Export to plot.ly\"})});</script>"
      ]
     },
     "metadata": {},
     "output_type": "display_data"
    }
   ],
   "source": [
    "plotData = []\n",
    "for test in male_testosterones:\n",
    "    plotData.append(go.Scatter(x= np.arange(len(test)), y= test.values, name=test.index[0], showlegend=False)) \n",
    "\n",
    "layout = dict(title = 'Male population testosterone',\n",
    "              xaxis = dict(title = 'Samples'),\n",
    "              yaxis = dict(title = 'T'))\n",
    "\n",
    "iplot(dict(data=plotData, layout=layout))"
   ]
  },
  {
   "cell_type": "markdown",
   "metadata": {},
   "source": [
    "### Testosterone distributions per athletes"
   ]
  },
  {
   "cell_type": "code",
   "execution_count": 43,
   "metadata": {},
   "outputs": [
    {
     "data": {
      "application/vnd.plotly.v1+json": {
       "data": [
        {
         "showlegend": false,
         "type": "box",
         "y": [
          5.45,
          5.58,
          6.25,
          6.31,
          6.52,
          7.04,
          7.15,
          7.34,
          7.42,
          7.72
         ]
        },
        {
         "showlegend": false,
         "type": "box",
         "y": [
          9.65,
          9.89,
          11.48,
          12.27,
          13.02,
          13.41,
          13.73,
          15.74,
          16.07,
          20.33
         ]
        },
        {
         "showlegend": false,
         "type": "box",
         "y": [
          3.66,
          3.85,
          4.03,
          4.15,
          4.27,
          4.44,
          5.07,
          5.2,
          6.25,
          6.28
         ]
        },
        {
         "showlegend": false,
         "type": "box",
         "y": [
          5.1,
          5.34,
          5.68,
          6,
          6.77,
          7.51,
          7.6,
          7.71,
          7.77,
          7.77
         ]
        },
        {
         "showlegend": false,
         "type": "box",
         "y": [
          4.76,
          5.09,
          5.16,
          5.69,
          5.86,
          5.91,
          6.78,
          7.51,
          7.68,
          9.17
         ]
        },
        {
         "showlegend": false,
         "type": "box",
         "y": [
          5.75,
          6.2,
          6.37,
          8.6,
          9.22,
          9.96,
          10.55,
          10.82,
          10.82,
          12.41
         ]
        },
        {
         "showlegend": false,
         "type": "box",
         "y": [
          4.7,
          5.21,
          5.6,
          6.21,
          6.39,
          6.97,
          7.84,
          8.07,
          8.42,
          9.24
         ]
        },
        {
         "showlegend": false,
         "type": "box",
         "y": [
          13.24,
          13.39,
          14.73,
          15.38,
          17.11,
          17.33,
          18.39,
          19.89,
          23.78,
          33.42
         ]
        },
        {
         "showlegend": false,
         "type": "box",
         "y": [
          12.48,
          14.88,
          15.48,
          16.3,
          17.29,
          17.74,
          18.6,
          19.51,
          24.58,
          24.77
         ]
        },
        {
         "showlegend": false,
         "type": "box",
         "y": [
          10.14,
          10.42,
          10.61,
          12.13,
          12.95,
          13.03,
          13.83,
          16.57,
          17.63
         ]
        },
        {
         "showlegend": false,
         "type": "box",
         "y": [
          4.73,
          5.79,
          6.5,
          6.8,
          7.03,
          7.04,
          7.1,
          7.95,
          8.42,
          9.45
         ]
        },
        {
         "showlegend": false,
         "type": "box",
         "y": [
          90.09,
          96.31,
          100.87,
          101.65,
          102.3,
          113.5,
          122.15,
          126.78,
          128.75,
          128.78
         ]
        },
        {
         "showlegend": false,
         "type": "box",
         "y": [
          8.29,
          8.36,
          8.51,
          8.55,
          8.84,
          9.71,
          9.72,
          9.84,
          12.43,
          13.77
         ]
        },
        {
         "showlegend": false,
         "type": "box",
         "y": [
          6.37,
          8.7,
          8.7,
          9.18,
          10,
          13.39,
          14.88,
          15.15,
          20.07,
          21.04
         ]
        },
        {
         "showlegend": false,
         "type": "box",
         "y": [
          8.28,
          8.46,
          9.7,
          9.94,
          10.18,
          11.24,
          11.54,
          12.27,
          15.74,
          16.19
         ]
        },
        {
         "showlegend": false,
         "type": "box",
         "y": [
          7.3,
          7.51,
          8.09,
          8.52,
          8.76,
          11.1,
          12.44,
          12.82,
          12.95,
          13.05
         ]
        },
        {
         "showlegend": false,
         "type": "box",
         "y": [
          7.73,
          9.21,
          9.72,
          12.07,
          12.46,
          24.05,
          26.66,
          28.64,
          35.54
         ]
        },
        {
         "showlegend": false,
         "type": "box",
         "y": [
          5.83,
          6.31,
          6.41,
          7.38,
          7.86,
          7.91,
          7.98,
          8.13,
          8.57,
          10.26
         ]
        },
        {
         "showlegend": false,
         "type": "box",
         "y": [
          27.28,
          29.81,
          32.57,
          39.04,
          41.15,
          41.9,
          42.88,
          48.01,
          49,
          49.45
         ]
        },
        {
         "showlegend": false,
         "type": "box",
         "y": [
          5.46,
          5.62,
          5.75,
          6.23,
          6.26,
          6.29,
          6.51,
          6.6,
          6.94
         ]
        },
        {
         "showlegend": false,
         "type": "box",
         "y": [
          9.23,
          9.41,
          11.23,
          11.36,
          11.61,
          13.41,
          14.44,
          14.84,
          15.58,
          17.16
         ]
        },
        {
         "showlegend": false,
         "type": "box",
         "y": [
          7.13,
          8.02,
          8.05,
          8.91,
          9.27,
          9.82,
          11.65,
          12.44,
          12.82,
          12.85
         ]
        },
        {
         "showlegend": false,
         "type": "box",
         "y": [
          7.28,
          8.6,
          12.07,
          13.56,
          13.95,
          13.99,
          14.04,
          14.76
         ]
        },
        {
         "showlegend": false,
         "type": "box",
         "y": [
          5.4,
          5.56,
          5.91,
          6.06,
          6.27,
          6.53,
          6.68,
          7.36,
          7.4,
          7.53
         ]
        },
        {
         "showlegend": false,
         "type": "box",
         "y": [
          11.8,
          12.67,
          12.74,
          14.62
         ]
        },
        {
         "showlegend": false,
         "type": "box",
         "y": [
          9.62,
          12.14,
          12.51,
          12.81,
          12.86,
          14.44,
          16.48,
          16.64,
          17.34,
          18.14
         ]
        },
        {
         "showlegend": false,
         "type": "box",
         "y": [
          9.44,
          10.43,
          12.35,
          13.2,
          13.3,
          14.11,
          14.31,
          15.48,
          17.63,
          19.64
         ]
        },
        {
         "showlegend": false,
         "type": "box",
         "y": [
          14.18,
          14.7,
          15.34,
          15.47,
          16.77,
          17.2,
          17.84,
          18.75,
          19.82
         ]
        },
        {
         "showlegend": false,
         "type": "box",
         "y": [
          7.83,
          8.29,
          8.43,
          10.12,
          10.31,
          10.41,
          13.44,
          14.27,
          14.83,
          15.72
         ]
        },
        {
         "showlegend": false,
         "type": "box",
         "y": [
          7.88,
          9.08,
          9.36,
          11.39,
          12.62,
          15.3,
          16.87,
          18.53,
          18.6,
          22.53
         ]
        },
        {
         "showlegend": false,
         "type": "box",
         "y": [
          9.58,
          9.9,
          10.15,
          10.17,
          10.49,
          11.1,
          11.75,
          11.85,
          12.46,
          15.48
         ]
        },
        {
         "showlegend": false,
         "type": "box",
         "y": [
          13.36,
          16.13,
          16.41,
          16.72,
          17.02,
          17.07,
          18.54,
          22.06
         ]
        },
        {
         "showlegend": false,
         "type": "box",
         "y": [
          9.23,
          12.69,
          14.57,
          14.66,
          14.99,
          15.47,
          15.61,
          17,
          19.61,
          21.94
         ]
        },
        {
         "showlegend": false,
         "type": "box",
         "y": [
          11.61,
          12.49,
          13.88,
          14.49,
          15.32,
          16.05,
          16.47,
          16.89,
          18.93,
          21.3
         ]
        },
        {
         "showlegend": false,
         "type": "box",
         "y": [
          13.36,
          15.91,
          17.14,
          17.27,
          17.6,
          17.63,
          18.07,
          19.7,
          23.9,
          24.61
         ]
        },
        {
         "showlegend": false,
         "type": "box",
         "y": [
          16.25,
          16.67,
          17.2,
          18.03,
          18.34,
          18.67,
          19.45,
          25.37,
          30.65,
          33.69
         ]
        },
        {
         "showlegend": false,
         "type": "box",
         "y": [
          13,
          14.57,
          15.16,
          16.44,
          16.87,
          19.94
         ]
        },
        {
         "showlegend": false,
         "type": "box",
         "y": [
          7.62,
          8.89,
          9.03,
          10.61,
          10.71,
          11.06,
          11.33,
          11.47,
          12.39,
          13.09
         ]
        },
        {
         "showlegend": false,
         "type": "box",
         "y": [
          8.6,
          9.08,
          9.28,
          9.56,
          10.01,
          10.78,
          12.57,
          13.36,
          14.86,
          17.92
         ]
        },
        {
         "showlegend": false,
         "type": "box",
         "y": [
          9.42,
          13.54,
          13.85,
          14.49,
          15.28,
          15.28,
          16.62,
          18.27,
          22.96,
          27.6
         ]
        },
        {
         "showlegend": false,
         "type": "box",
         "y": [
          8.56,
          9.21,
          11.1,
          11.51,
          11.59,
          11.8,
          12.15,
          16.62,
          16.84
         ]
        },
        {
         "showlegend": false,
         "type": "box",
         "y": [
          13.1,
          14.28,
          14.79,
          15.06,
          15.07,
          15.95,
          16.44,
          17.22,
          18.45,
          19.3
         ]
        },
        {
         "showlegend": false,
         "type": "box",
         "y": [
          9.14,
          9.86,
          10.15,
          10.78,
          10.86,
          10.97,
          11.39,
          11.72,
          12.01,
          12.39
         ]
        },
        {
         "showlegend": false,
         "type": "box",
         "y": [
          7.13,
          7.15,
          7.24,
          7.32,
          7.79,
          8.09,
          8.43,
          8.9,
          9.42,
          9.66,
          10.2,
          10.57,
          11.36,
          11.93,
          12.14,
          13.15,
          14.31
         ]
        },
        {
         "showlegend": false,
         "type": "box",
         "y": [
          7.3,
          7.76,
          8.04,
          8.88,
          9.14,
          9.49,
          9.6,
          9.69,
          9.76,
          9.84,
          9.86,
          10.2,
          10.57,
          11.19,
          11.87,
          13.67
         ]
        },
        {
         "showlegend": false,
         "type": "box",
         "y": [
          10.46,
          10.79,
          11.24,
          11.36,
          12.59,
          12.92,
          13.53,
          16.53,
          17.85
         ]
        },
        {
         "showlegend": false,
         "type": "box",
         "y": [
          9.59,
          18.79,
          19.19,
          26.25,
          28.5
         ]
        },
        {
         "showlegend": false,
         "type": "box",
         "y": [
          7.22,
          7.95,
          8.79,
          9.8,
          10.99,
          10.99,
          11.55,
          16.53,
          20.83,
          22.97,
          23.44,
          24.43,
          25.26,
          26.66,
          29.09,
          30,
          30.62,
          30.94
         ]
        },
        {
         "showlegend": false,
         "type": "box",
         "y": [
          4.71,
          4.89,
          5.04,
          5.45,
          5.95,
          6.12,
          7,
          7.93,
          8.22,
          8.36,
          9.01,
          9.66,
          9.69,
          10.15,
          16.07
         ]
        },
        {
         "showlegend": false,
         "type": "box",
         "y": [
          8.97,
          9.84,
          10.36,
          11.4,
          11.48,
          11.76,
          11.93,
          12.29,
          12.46,
          13.37,
          13.46,
          16.79,
          19.48,
          20.94,
          22.85
         ]
        },
        {
         "showlegend": false,
         "type": "box",
         "y": [
          9.94,
          11.71,
          11.84,
          12.72,
          13.32,
          18.51,
          20.94,
          22.15,
          43.43,
          46.67,
          49.64,
          52.66,
          53.89,
          65.51,
          67.21,
          68.66
         ]
        },
        {
         "showlegend": false,
         "type": "box",
         "y": [
          2.74,
          4.5,
          4.8,
          5.11,
          5.62,
          5.76,
          7.26,
          7.61,
          8.39
         ]
        },
        {
         "showlegend": false,
         "type": "box",
         "y": [
          5.98,
          6.83,
          8.74,
          9.13,
          9.94,
          12.52,
          16.44,
          17.85
         ]
        },
        {
         "showlegend": false,
         "type": "box",
         "y": [
          12.04,
          12.59,
          12.77,
          13.42,
          13.58,
          14.24,
          15.54,
          15.6,
          21.93,
          24.68,
          25.98,
          30,
          31.26,
          39.59,
          39.59,
          40,
          40.83,
          52.79
         ]
        },
        {
         "showlegend": false,
         "type": "box",
         "y": [
          3.44,
          10.79,
          13.05,
          13.95,
          15.46
         ]
        },
        {
         "showlegend": false,
         "type": "box",
         "y": [
          2.86,
          3.95,
          4.61,
          4.62,
          4.65,
          4.97,
          5.41,
          5.46,
          5.54,
          5.91,
          6.29,
          6.88,
          8.05,
          8.18,
          10.79,
          11.48
         ]
        },
        {
         "showlegend": false,
         "type": "box",
         "y": [
          8.01,
          8.58,
          9.2,
          9.25,
          10.15,
          10.99,
          12.27,
          14.17
         ]
        },
        {
         "showlegend": false,
         "type": "box",
         "y": [
          5.39,
          5.81,
          6.29,
          6.71,
          8.39,
          10.57,
          11.54,
          11.65
         ]
        },
        {
         "showlegend": false,
         "type": "box",
         "y": [
          3.54,
          4.8,
          4.89,
          4.99,
          5.37,
          5.54,
          5.55,
          6.07,
          6.32,
          6.97,
          7.04,
          7.65,
          8.9,
          9.44,
          11.07,
          11.65,
          11.84,
          11.84
         ]
        },
        {
         "showlegend": false,
         "type": "box",
         "y": [
          3.62,
          3.68,
          4.27,
          4.53,
          4.69,
          5.39,
          5.68,
          6.24,
          6.27,
          7.21,
          8.74,
          9.13,
          9.44,
          9.44,
          9.59,
          9.94,
          10.41
         ]
        },
        {
         "showlegend": false,
         "type": "box",
         "y": [
          7.53,
          8.13,
          8.2,
          9.25,
          11.85,
          13.6,
          13.74,
          14.17,
          14.65,
          14.65,
          16.28,
          17.05,
          17.22,
          19.68,
          19.68
         ]
        },
        {
         "showlegend": false,
         "type": "box",
         "y": [
          4.63,
          5.2,
          6.05,
          6.07,
          6.88,
          9.2,
          9.61,
          10.25,
          10.41,
          10.9,
          11.21,
          12.59,
          12.59,
          13.74,
          14.46
         ]
        },
        {
         "showlegend": false,
         "type": "box",
         "y": [
          6.43,
          7.24,
          7.28,
          7.49,
          7.49,
          7.57,
          7.77,
          7.81,
          8.07,
          8.18,
          8.45,
          8.9,
          9.05,
          9.42,
          9.82
         ]
        },
        {
         "showlegend": false,
         "type": "box",
         "y": [
          3.43,
          5.38,
          5.71,
          5.85,
          5.99,
          6.08,
          6.32,
          6.74,
          6.8,
          6.83,
          7.03,
          7.26,
          7.26,
          7.43,
          9.18
         ]
        },
        {
         "showlegend": false,
         "type": "box",
         "y": [
          5.63,
          5.91,
          6.32,
          6.8,
          6.83,
          11.84,
          12.3,
          12.69,
          13.12,
          13.22,
          16.53,
          17.31,
          17.31,
          17.67,
          18.32
         ]
        },
        {
         "showlegend": false,
         "type": "box",
         "y": [
          4.46,
          4.94,
          5.18,
          5.41,
          5.58,
          5.81,
          6.87,
          7.03,
          7.61,
          7.81,
          8.74,
          8.97,
          10.04,
          10.25,
          10.79
         ]
        },
        {
         "showlegend": false,
         "type": "box",
         "y": [
          6.16,
          6.38,
          6.86,
          7.12,
          7.12
         ]
        },
        {
         "showlegend": false,
         "type": "box",
         "y": [
          4.42,
          4.66,
          5.5,
          5.5,
          6.18
         ]
        },
        {
         "showlegend": false,
         "type": "box",
         "y": [
          5.18,
          5.2,
          6.02,
          6.18,
          6.32
         ]
        },
        {
         "showlegend": false,
         "type": "box",
         "y": [
          14.06,
          14.54,
          15.26,
          17.22,
          21.15
         ]
        },
        {
         "showlegend": false,
         "type": "box",
         "y": [
          5.38,
          5.93,
          5.93,
          6.12,
          6.13
         ]
        },
        {
         "showlegend": false,
         "type": "box",
         "y": [
          6.45,
          7.55,
          7.87,
          8.67,
          10.53
         ]
        },
        {
         "showlegend": false,
         "type": "box",
         "y": [
          8.52,
          11.2,
          11.94,
          12.82,
          13.15
         ]
        },
        {
         "showlegend": false,
         "type": "box",
         "y": [
          19.74,
          22.21,
          23.38,
          24.43,
          27.7
         ]
        },
        {
         "showlegend": false,
         "type": "box",
         "y": [
          3.68,
          4.2,
          4.57,
          4.92,
          6.37
         ]
        },
        {
         "showlegend": false,
         "type": "box",
         "y": [
          3.11,
          3.72,
          4.14,
          4.2,
          4.3
         ]
        },
        {
         "showlegend": false,
         "type": "box",
         "y": [
          6.9,
          7.57,
          8.44,
          8.71,
          12.36
         ]
        },
        {
         "showlegend": false,
         "type": "box",
         "y": [
          10.11,
          10.9,
          12.24,
          12.3,
          12.36
         ]
        },
        {
         "showlegend": false,
         "type": "box",
         "y": [
          6.75,
          8.67,
          8.97,
          10.08,
          10.29
         ]
        },
        {
         "showlegend": false,
         "type": "box",
         "y": [
          7.25,
          7.78,
          7.84,
          8.26,
          9.7
         ]
        },
        {
         "showlegend": false,
         "type": "box",
         "y": [
          6.23,
          7.75,
          8.18,
          9.56,
          10.57
         ]
        },
        {
         "showlegend": false,
         "type": "box",
         "y": [
          10.83,
          11.65,
          12.56,
          13.22
         ]
        },
        {
         "showlegend": false,
         "type": "box",
         "y": [
          6.45,
          6.5,
          6.98,
          8.15,
          8.41
         ]
        },
        {
         "showlegend": false,
         "type": "box",
         "y": [
          5.68,
          6.9,
          6.9,
          7.23,
          9.06
         ]
        },
        {
         "showlegend": false,
         "type": "box",
         "y": [
          8.7,
          9.01,
          9.27,
          10.09,
          11.54
         ]
        },
        {
         "showlegend": false,
         "type": "box",
         "y": [
          28.79,
          29.85,
          30,
          40.83,
          46.19
         ]
        },
        {
         "showlegend": false,
         "type": "box",
         "y": [
          14.91,
          16.19,
          16.36,
          17.05,
          17.83
         ]
        },
        {
         "showlegend": false,
         "type": "box",
         "y": [
          4.73,
          5.5,
          6.05,
          6.34,
          8.19
         ]
        },
        {
         "showlegend": false,
         "type": "box",
         "y": [
          6.11,
          6.27,
          6.83,
          6.87,
          7.43
         ]
        },
        {
         "showlegend": false,
         "type": "box",
         "y": [
          7.49,
          7.57,
          7.6,
          8.02,
          8.05
         ]
        },
        {
         "showlegend": false,
         "type": "box",
         "y": [
          8.41,
          10.85,
          11.93,
          12.48,
          12.52
         ]
        },
        {
         "showlegend": false,
         "type": "box",
         "y": [
          7.45,
          8.26,
          8.51,
          9.81,
          11.79
         ]
        },
        {
         "showlegend": false,
         "type": "box",
         "y": [
          9.59,
          15.74,
          16.44,
          17.76,
          20.51
         ]
        },
        {
         "showlegend": false,
         "type": "box",
         "y": [
          5.14,
          5.74,
          6.23,
          6.85,
          7.37
         ]
        },
        {
         "showlegend": false,
         "type": "box",
         "y": [
          5.31,
          6.16,
          6.41,
          6.43,
          13.04
         ]
        },
        {
         "showlegend": false,
         "type": "box",
         "y": [
          10.08,
          16.38,
          17.76,
          18.65,
          24.36
         ]
        },
        {
         "showlegend": false,
         "type": "box",
         "y": [
          4.8,
          5.98,
          6.45,
          6.59
         ]
        },
        {
         "showlegend": false,
         "type": "box",
         "y": [
          6.12,
          6.48,
          7.33,
          7.93,
          8.28
         ]
        },
        {
         "showlegend": false,
         "type": "box",
         "y": [
          10.2,
          12.95,
          13.12,
          14.69,
          18.41
         ]
        },
        {
         "showlegend": false,
         "type": "box",
         "y": [
          9.33,
          11.39,
          12.98,
          13.42,
          21.04
         ]
        },
        {
         "showlegend": false,
         "type": "box",
         "y": [
          9.59,
          9.75,
          11.96,
          15.54
         ]
        },
        {
         "showlegend": false,
         "type": "box",
         "y": [
          8.2,
          8.9,
          10.69,
          10.73,
          11.07
         ]
        },
        {
         "showlegend": false,
         "type": "box",
         "y": [
          7.16,
          8.57,
          9.95,
          12.33,
          12.38
         ]
        },
        {
         "showlegend": false,
         "type": "box",
         "y": [
          8.35,
          8.56,
          8.85,
          10.95
         ]
        },
        {
         "showlegend": false,
         "type": "box",
         "y": [
          12.27,
          13.32,
          14.41,
          14.57,
          15.62
         ]
        },
        {
         "showlegend": false,
         "type": "box",
         "y": [
          15.03,
          16.96,
          18.04,
          19.94,
          21.48
         ]
        },
        {
         "showlegend": false,
         "type": "box",
         "y": [
          7.35,
          8.41,
          9.39,
          9.4,
          9.55
         ]
        }
       ],
       "layout": {
        "title": "Distribution testosterone male athletes ",
        "xaxis": {
         "title": "Athletes"
        },
        "yaxis": {
         "title": "T"
        }
       }
      },
      "text/html": [
       "<div id=\"e41bffa9-a914-4c4c-b752-6b0567361e96\" style=\"height: 525px; width: 100%;\" class=\"plotly-graph-div\"></div><script type=\"text/javascript\">require([\"plotly\"], function(Plotly) { window.PLOTLYENV=window.PLOTLYENV || {};window.PLOTLYENV.BASE_URL=\"https://plot.ly\";Plotly.newPlot(\"e41bffa9-a914-4c4c-b752-6b0567361e96\", [{\"type\": \"box\", \"y\": [5.45, 5.58, 6.25, 6.31, 6.52, 7.04, 7.15, 7.34, 7.42, 7.72], \"showlegend\": false}, {\"type\": \"box\", \"y\": [9.65, 9.89, 11.48, 12.27, 13.02, 13.41, 13.73, 15.74, 16.07, 20.33], \"showlegend\": false}, {\"type\": \"box\", \"y\": [3.66, 3.85, 4.03, 4.15, 4.27, 4.44, 5.07, 5.2, 6.25, 6.28], \"showlegend\": false}, {\"type\": \"box\", \"y\": [5.1, 5.34, 5.68, 6.0, 6.77, 7.51, 7.6, 7.71, 7.77, 7.77], \"showlegend\": false}, {\"type\": \"box\", \"y\": [4.76, 5.09, 5.16, 5.69, 5.86, 5.91, 6.78, 7.51, 7.68, 9.17], \"showlegend\": false}, {\"type\": \"box\", \"y\": [5.75, 6.2, 6.37, 8.6, 9.22, 9.96, 10.55, 10.82, 10.82, 12.41], \"showlegend\": false}, {\"type\": \"box\", \"y\": [4.7, 5.21, 5.6, 6.21, 6.39, 6.97, 7.84, 8.07, 8.42, 9.24], \"showlegend\": false}, {\"type\": \"box\", \"y\": [13.24, 13.39, 14.73, 15.38, 17.11, 17.33, 18.39, 19.89, 23.78, 33.42], \"showlegend\": false}, {\"type\": \"box\", \"y\": [12.48, 14.88, 15.48, 16.3, 17.29, 17.74, 18.6, 19.51, 24.58, 24.77], \"showlegend\": false}, {\"type\": \"box\", \"y\": [10.14, 10.42, 10.61, 12.13, 12.95, 13.03, 13.83, 16.57, 17.63], \"showlegend\": false}, {\"type\": \"box\", \"y\": [4.73, 5.79, 6.5, 6.8, 7.03, 7.04, 7.1, 7.95, 8.42, 9.45], \"showlegend\": false}, {\"type\": \"box\", \"y\": [90.09, 96.31, 100.87, 101.65, 102.3, 113.5, 122.15, 126.78, 128.75, 128.78], \"showlegend\": false}, {\"type\": \"box\", \"y\": [8.29, 8.36, 8.51, 8.55, 8.84, 9.71, 9.72, 9.84, 12.43, 13.77], \"showlegend\": false}, {\"type\": \"box\", \"y\": [6.37, 8.7, 8.7, 9.18, 10.0, 13.39, 14.88, 15.15, 20.07, 21.04], \"showlegend\": false}, {\"type\": \"box\", \"y\": [8.28, 8.46, 9.7, 9.94, 10.18, 11.24, 11.54, 12.27, 15.74, 16.19], \"showlegend\": false}, {\"type\": \"box\", \"y\": [7.3, 7.51, 8.09, 8.52, 8.76, 11.1, 12.44, 12.82, 12.95, 13.05], \"showlegend\": false}, {\"type\": \"box\", \"y\": [7.73, 9.21, 9.72, 12.07, 12.46, 24.05, 26.66, 28.64, 35.54], \"showlegend\": false}, {\"type\": \"box\", \"y\": [5.83, 6.31, 6.41, 7.38, 7.86, 7.91, 7.98, 8.13, 8.57, 10.26], \"showlegend\": false}, {\"type\": \"box\", \"y\": [27.28, 29.81, 32.57, 39.04, 41.15, 41.9, 42.88, 48.01, 49.0, 49.45], \"showlegend\": false}, {\"type\": \"box\", \"y\": [5.46, 5.62, 5.75, 6.23, 6.26, 6.29, 6.51, 6.6, 6.94], \"showlegend\": false}, {\"type\": \"box\", \"y\": [9.23, 9.41, 11.23, 11.36, 11.61, 13.41, 14.44, 14.84, 15.58, 17.16], \"showlegend\": false}, {\"type\": \"box\", \"y\": [7.13, 8.02, 8.05, 8.91, 9.27, 9.82, 11.65, 12.44, 12.82, 12.85], \"showlegend\": false}, {\"type\": \"box\", \"y\": [7.28, 8.6, 12.07, 13.56, 13.95, 13.99, 14.04, 14.76], \"showlegend\": false}, {\"type\": \"box\", \"y\": [5.4, 5.56, 5.91, 6.06, 6.27, 6.53, 6.68, 7.36, 7.4, 7.53], \"showlegend\": false}, {\"type\": \"box\", \"y\": [11.8, 12.67, 12.74, 14.62], \"showlegend\": false}, {\"type\": \"box\", \"y\": [9.62, 12.14, 12.51, 12.81, 12.86, 14.44, 16.48, 16.64, 17.34, 18.14], \"showlegend\": false}, {\"type\": \"box\", \"y\": [9.44, 10.43, 12.35, 13.2, 13.3, 14.11, 14.31, 15.48, 17.63, 19.64], \"showlegend\": false}, {\"type\": \"box\", \"y\": [14.18, 14.7, 15.34, 15.47, 16.77, 17.2, 17.84, 18.75, 19.82], \"showlegend\": false}, {\"type\": \"box\", \"y\": [7.83, 8.29, 8.43, 10.12, 10.31, 10.41, 13.44, 14.27, 14.83, 15.72], \"showlegend\": false}, {\"type\": \"box\", \"y\": [7.88, 9.08, 9.36, 11.39, 12.62, 15.3, 16.87, 18.53, 18.6, 22.53], \"showlegend\": false}, {\"type\": \"box\", \"y\": [9.58, 9.9, 10.15, 10.17, 10.49, 11.1, 11.75, 11.85, 12.46, 15.48], \"showlegend\": false}, {\"type\": \"box\", \"y\": [13.36, 16.13, 16.41, 16.72, 17.02, 17.07, 18.54, 22.06], \"showlegend\": false}, {\"type\": \"box\", \"y\": [9.23, 12.69, 14.57, 14.66, 14.99, 15.47, 15.61, 17.0, 19.61, 21.94], \"showlegend\": false}, {\"type\": \"box\", \"y\": [11.61, 12.49, 13.88, 14.49, 15.32, 16.05, 16.47, 16.89, 18.93, 21.3], \"showlegend\": false}, {\"type\": \"box\", \"y\": [13.36, 15.91, 17.14, 17.27, 17.6, 17.63, 18.07, 19.7, 23.9, 24.61], \"showlegend\": false}, {\"type\": \"box\", \"y\": [16.25, 16.67, 17.2, 18.03, 18.34, 18.67, 19.45, 25.37, 30.65, 33.69], \"showlegend\": false}, {\"type\": \"box\", \"y\": [13.0, 14.57, 15.16, 16.44, 16.87, 19.94], \"showlegend\": false}, {\"type\": \"box\", \"y\": [7.62, 8.89, 9.03, 10.61, 10.71, 11.06, 11.33, 11.47, 12.39, 13.09], \"showlegend\": false}, {\"type\": \"box\", \"y\": [8.6, 9.08, 9.28, 9.56, 10.01, 10.78, 12.57, 13.36, 14.86, 17.92], \"showlegend\": false}, {\"type\": \"box\", \"y\": [9.42, 13.54, 13.85, 14.49, 15.28, 15.28, 16.62, 18.27, 22.96, 27.6], \"showlegend\": false}, {\"type\": \"box\", \"y\": [8.56, 9.21, 11.1, 11.51, 11.59, 11.8, 12.15, 16.62, 16.84], \"showlegend\": false}, {\"type\": \"box\", \"y\": [13.1, 14.28, 14.79, 15.06, 15.07, 15.95, 16.44, 17.22, 18.45, 19.3], \"showlegend\": false}, {\"type\": \"box\", \"y\": [9.14, 9.86, 10.15, 10.78, 10.86, 10.97, 11.39, 11.72, 12.01, 12.39], \"showlegend\": false}, {\"type\": \"box\", \"y\": [7.13, 7.15, 7.24, 7.32, 7.79, 8.09, 8.43, 8.9, 9.42, 9.66, 10.2, 10.57, 11.36, 11.93, 12.14, 13.15, 14.31], \"showlegend\": false}, {\"type\": \"box\", \"y\": [7.3, 7.76, 8.04, 8.88, 9.14, 9.49, 9.6, 9.69, 9.76, 9.84, 9.86, 10.2, 10.57, 11.19, 11.87, 13.67], \"showlegend\": false}, {\"type\": \"box\", \"y\": [10.46, 10.79, 11.24, 11.36, 12.59, 12.92, 13.53, 16.53, 17.85], \"showlegend\": false}, {\"type\": \"box\", \"y\": [9.59, 18.79, 19.19, 26.25, 28.5], \"showlegend\": false}, {\"type\": \"box\", \"y\": [7.22, 7.95, 8.79, 9.8, 10.99, 10.99, 11.55, 16.53, 20.83, 22.97, 23.44, 24.43, 25.26, 26.66, 29.09, 30.0, 30.62, 30.94], \"showlegend\": false}, {\"type\": \"box\", \"y\": [4.71, 4.89, 5.04, 5.45, 5.95, 6.12, 7.0, 7.93, 8.22, 8.36, 9.01, 9.66, 9.69, 10.15, 16.07], \"showlegend\": false}, {\"type\": \"box\", \"y\": [8.97, 9.84, 10.36, 11.4, 11.48, 11.76, 11.93, 12.29, 12.46, 13.37, 13.46, 16.79, 19.48, 20.94, 22.85], \"showlegend\": false}, {\"type\": \"box\", \"y\": [9.94, 11.71, 11.84, 12.72, 13.32, 18.51, 20.94, 22.15, 43.43, 46.67, 49.64, 52.66, 53.89, 65.51, 67.21, 68.66], \"showlegend\": false}, {\"type\": \"box\", \"y\": [2.74, 4.5, 4.8, 5.11, 5.62, 5.76, 7.26, 7.61, 8.39], \"showlegend\": false}, {\"type\": \"box\", \"y\": [5.98, 6.83, 8.74, 9.13, 9.94, 12.52, 16.44, 17.85], \"showlegend\": false}, {\"type\": \"box\", \"y\": [12.04, 12.59, 12.77, 13.42, 13.58, 14.24, 15.54, 15.6, 21.93, 24.68, 25.98, 30.0, 31.26, 39.59, 39.59, 40.0, 40.83, 52.79], \"showlegend\": false}, {\"type\": \"box\", \"y\": [3.44, 10.79, 13.05, 13.95, 15.46], \"showlegend\": false}, {\"type\": \"box\", \"y\": [2.86, 3.95, 4.61, 4.62, 4.65, 4.97, 5.41, 5.46, 5.54, 5.91, 6.29, 6.88, 8.05, 8.18, 10.79, 11.48], \"showlegend\": false}, {\"type\": \"box\", \"y\": [8.01, 8.58, 9.2, 9.25, 10.15, 10.99, 12.27, 14.17], \"showlegend\": false}, {\"type\": \"box\", \"y\": [5.39, 5.81, 6.29, 6.71, 8.39, 10.57, 11.54, 11.65], \"showlegend\": false}, {\"type\": \"box\", \"y\": [3.54, 4.8, 4.89, 4.99, 5.37, 5.54, 5.55, 6.07, 6.32, 6.97, 7.04, 7.65, 8.9, 9.44, 11.07, 11.65, 11.84, 11.84], \"showlegend\": false}, {\"type\": \"box\", \"y\": [3.62, 3.68, 4.27, 4.53, 4.69, 5.39, 5.68, 6.24, 6.27, 7.21, 8.74, 9.13, 9.44, 9.44, 9.59, 9.94, 10.41], \"showlegend\": false}, {\"type\": \"box\", \"y\": [7.53, 8.13, 8.2, 9.25, 11.85, 13.6, 13.74, 14.17, 14.65, 14.65, 16.28, 17.05, 17.22, 19.68, 19.68], \"showlegend\": false}, {\"type\": \"box\", \"y\": [4.63, 5.2, 6.05, 6.07, 6.88, 9.2, 9.61, 10.25, 10.41, 10.9, 11.21, 12.59, 12.59, 13.74, 14.46], \"showlegend\": false}, {\"type\": \"box\", \"y\": [6.43, 7.24, 7.28, 7.49, 7.49, 7.57, 7.77, 7.81, 8.07, 8.18, 8.45, 8.9, 9.05, 9.42, 9.82], \"showlegend\": false}, {\"type\": \"box\", \"y\": [3.43, 5.38, 5.71, 5.85, 5.99, 6.08, 6.32, 6.74, 6.8, 6.83, 7.03, 7.26, 7.26, 7.43, 9.18], \"showlegend\": false}, {\"type\": \"box\", \"y\": [5.63, 5.91, 6.32, 6.8, 6.83, 11.84, 12.3, 12.69, 13.12, 13.22, 16.53, 17.31, 17.31, 17.67, 18.32], \"showlegend\": false}, {\"type\": \"box\", \"y\": [4.46, 4.94, 5.18, 5.41, 5.58, 5.81, 6.87, 7.03, 7.61, 7.81, 8.74, 8.97, 10.04, 10.25, 10.79], \"showlegend\": false}, {\"type\": \"box\", \"y\": [6.16, 6.38, 6.86, 7.12, 7.12], \"showlegend\": false}, {\"type\": \"box\", \"y\": [4.42, 4.66, 5.5, 5.5, 6.18], \"showlegend\": false}, {\"type\": \"box\", \"y\": [5.18, 5.2, 6.02, 6.18, 6.32], \"showlegend\": false}, {\"type\": \"box\", \"y\": [14.06, 14.54, 15.26, 17.22, 21.15], \"showlegend\": false}, {\"type\": \"box\", \"y\": [5.38, 5.93, 5.93, 6.12, 6.13], \"showlegend\": false}, {\"type\": \"box\", \"y\": [6.45, 7.55, 7.87, 8.67, 10.53], \"showlegend\": false}, {\"type\": \"box\", \"y\": [8.52, 11.2, 11.94, 12.82, 13.15], \"showlegend\": false}, {\"type\": \"box\", \"y\": [19.74, 22.21, 23.38, 24.43, 27.7], \"showlegend\": false}, {\"type\": \"box\", \"y\": [3.68, 4.2, 4.57, 4.92, 6.37], \"showlegend\": false}, {\"type\": \"box\", \"y\": [3.11, 3.72, 4.14, 4.2, 4.3], \"showlegend\": false}, {\"type\": \"box\", \"y\": [6.9, 7.57, 8.44, 8.71, 12.36], \"showlegend\": false}, {\"type\": \"box\", \"y\": [10.11, 10.9, 12.24, 12.3, 12.36], \"showlegend\": false}, {\"type\": \"box\", \"y\": [6.75, 8.67, 8.97, 10.08, 10.29], \"showlegend\": false}, {\"type\": \"box\", \"y\": [7.25, 7.78, 7.84, 8.26, 9.7], \"showlegend\": false}, {\"type\": \"box\", \"y\": [6.23, 7.75, 8.18, 9.56, 10.57], \"showlegend\": false}, {\"type\": \"box\", \"y\": [10.83, 11.65, 12.56, 13.22], \"showlegend\": false}, {\"type\": \"box\", \"y\": [6.45, 6.5, 6.98, 8.15, 8.41], \"showlegend\": false}, {\"type\": \"box\", \"y\": [5.68, 6.9, 6.9, 7.23, 9.06], \"showlegend\": false}, {\"type\": \"box\", \"y\": [8.7, 9.01, 9.27, 10.09, 11.54], \"showlegend\": false}, {\"type\": \"box\", \"y\": [28.79, 29.85, 30.0, 40.83, 46.19], \"showlegend\": false}, {\"type\": \"box\", \"y\": [14.91, 16.19, 16.36, 17.05, 17.83], \"showlegend\": false}, {\"type\": \"box\", \"y\": [4.73, 5.5, 6.05, 6.34, 8.19], \"showlegend\": false}, {\"type\": \"box\", \"y\": [6.11, 6.27, 6.83, 6.87, 7.43], \"showlegend\": false}, {\"type\": \"box\", \"y\": [7.49, 7.57, 7.6, 8.02, 8.05], \"showlegend\": false}, {\"type\": \"box\", \"y\": [8.41, 10.85, 11.93, 12.48, 12.52], \"showlegend\": false}, {\"type\": \"box\", \"y\": [7.45, 8.26, 8.51, 9.81, 11.79], \"showlegend\": false}, {\"type\": \"box\", \"y\": [9.59, 15.74, 16.44, 17.76, 20.51], \"showlegend\": false}, {\"type\": \"box\", \"y\": [5.14, 5.74, 6.23, 6.85, 7.37], \"showlegend\": false}, {\"type\": \"box\", \"y\": [5.31, 6.16, 6.41, 6.43, 13.04], \"showlegend\": false}, {\"type\": \"box\", \"y\": [10.08, 16.38, 17.76, 18.65, 24.36], \"showlegend\": false}, {\"type\": \"box\", \"y\": [4.8, 5.98, 6.45, 6.59], \"showlegend\": false}, {\"type\": \"box\", \"y\": [6.12, 6.48, 7.33, 7.93, 8.28], \"showlegend\": false}, {\"type\": \"box\", \"y\": [10.2, 12.95, 13.12, 14.69, 18.41], \"showlegend\": false}, {\"type\": \"box\", \"y\": [9.33, 11.39, 12.98, 13.42, 21.04], \"showlegend\": false}, {\"type\": \"box\", \"y\": [9.59, 9.75, 11.96, 15.54], \"showlegend\": false}, {\"type\": \"box\", \"y\": [8.2, 8.9, 10.69, 10.73, 11.07], \"showlegend\": false}, {\"type\": \"box\", \"y\": [7.16, 8.57, 9.95, 12.33, 12.38], \"showlegend\": false}, {\"type\": \"box\", \"y\": [8.35, 8.56, 8.85, 10.95], \"showlegend\": false}, {\"type\": \"box\", \"y\": [12.27, 13.32, 14.41, 14.57, 15.62], \"showlegend\": false}, {\"type\": \"box\", \"y\": [15.03, 16.96, 18.04, 19.94, 21.48], \"showlegend\": false}, {\"type\": \"box\", \"y\": [7.35, 8.41, 9.39, 9.4, 9.55], \"showlegend\": false}], {\"title\": \"Distribution testosterone male athletes \", \"xaxis\": {\"title\": \"Athletes\"}, \"yaxis\": {\"title\": \"T\"}}, {\"showLink\": true, \"linkText\": \"Export to plot.ly\"})});</script>"
      ],
      "text/vnd.plotly.v1+html": [
       "<div id=\"e41bffa9-a914-4c4c-b752-6b0567361e96\" style=\"height: 525px; width: 100%;\" class=\"plotly-graph-div\"></div><script type=\"text/javascript\">require([\"plotly\"], function(Plotly) { window.PLOTLYENV=window.PLOTLYENV || {};window.PLOTLYENV.BASE_URL=\"https://plot.ly\";Plotly.newPlot(\"e41bffa9-a914-4c4c-b752-6b0567361e96\", [{\"type\": \"box\", \"y\": [5.45, 5.58, 6.25, 6.31, 6.52, 7.04, 7.15, 7.34, 7.42, 7.72], \"showlegend\": false}, {\"type\": \"box\", \"y\": [9.65, 9.89, 11.48, 12.27, 13.02, 13.41, 13.73, 15.74, 16.07, 20.33], \"showlegend\": false}, {\"type\": \"box\", \"y\": [3.66, 3.85, 4.03, 4.15, 4.27, 4.44, 5.07, 5.2, 6.25, 6.28], \"showlegend\": false}, {\"type\": \"box\", \"y\": [5.1, 5.34, 5.68, 6.0, 6.77, 7.51, 7.6, 7.71, 7.77, 7.77], \"showlegend\": false}, {\"type\": \"box\", \"y\": [4.76, 5.09, 5.16, 5.69, 5.86, 5.91, 6.78, 7.51, 7.68, 9.17], \"showlegend\": false}, {\"type\": \"box\", \"y\": [5.75, 6.2, 6.37, 8.6, 9.22, 9.96, 10.55, 10.82, 10.82, 12.41], \"showlegend\": false}, {\"type\": \"box\", \"y\": [4.7, 5.21, 5.6, 6.21, 6.39, 6.97, 7.84, 8.07, 8.42, 9.24], \"showlegend\": false}, {\"type\": \"box\", \"y\": [13.24, 13.39, 14.73, 15.38, 17.11, 17.33, 18.39, 19.89, 23.78, 33.42], \"showlegend\": false}, {\"type\": \"box\", \"y\": [12.48, 14.88, 15.48, 16.3, 17.29, 17.74, 18.6, 19.51, 24.58, 24.77], \"showlegend\": false}, {\"type\": \"box\", \"y\": [10.14, 10.42, 10.61, 12.13, 12.95, 13.03, 13.83, 16.57, 17.63], \"showlegend\": false}, {\"type\": \"box\", \"y\": [4.73, 5.79, 6.5, 6.8, 7.03, 7.04, 7.1, 7.95, 8.42, 9.45], \"showlegend\": false}, {\"type\": \"box\", \"y\": [90.09, 96.31, 100.87, 101.65, 102.3, 113.5, 122.15, 126.78, 128.75, 128.78], \"showlegend\": false}, {\"type\": \"box\", \"y\": [8.29, 8.36, 8.51, 8.55, 8.84, 9.71, 9.72, 9.84, 12.43, 13.77], \"showlegend\": false}, {\"type\": \"box\", \"y\": [6.37, 8.7, 8.7, 9.18, 10.0, 13.39, 14.88, 15.15, 20.07, 21.04], \"showlegend\": false}, {\"type\": \"box\", \"y\": [8.28, 8.46, 9.7, 9.94, 10.18, 11.24, 11.54, 12.27, 15.74, 16.19], \"showlegend\": false}, {\"type\": \"box\", \"y\": [7.3, 7.51, 8.09, 8.52, 8.76, 11.1, 12.44, 12.82, 12.95, 13.05], \"showlegend\": false}, {\"type\": \"box\", \"y\": [7.73, 9.21, 9.72, 12.07, 12.46, 24.05, 26.66, 28.64, 35.54], \"showlegend\": false}, {\"type\": \"box\", \"y\": [5.83, 6.31, 6.41, 7.38, 7.86, 7.91, 7.98, 8.13, 8.57, 10.26], \"showlegend\": false}, {\"type\": \"box\", \"y\": [27.28, 29.81, 32.57, 39.04, 41.15, 41.9, 42.88, 48.01, 49.0, 49.45], \"showlegend\": false}, {\"type\": \"box\", \"y\": [5.46, 5.62, 5.75, 6.23, 6.26, 6.29, 6.51, 6.6, 6.94], \"showlegend\": false}, {\"type\": \"box\", \"y\": [9.23, 9.41, 11.23, 11.36, 11.61, 13.41, 14.44, 14.84, 15.58, 17.16], \"showlegend\": false}, {\"type\": \"box\", \"y\": [7.13, 8.02, 8.05, 8.91, 9.27, 9.82, 11.65, 12.44, 12.82, 12.85], \"showlegend\": false}, {\"type\": \"box\", \"y\": [7.28, 8.6, 12.07, 13.56, 13.95, 13.99, 14.04, 14.76], \"showlegend\": false}, {\"type\": \"box\", \"y\": [5.4, 5.56, 5.91, 6.06, 6.27, 6.53, 6.68, 7.36, 7.4, 7.53], \"showlegend\": false}, {\"type\": \"box\", \"y\": [11.8, 12.67, 12.74, 14.62], \"showlegend\": false}, {\"type\": \"box\", \"y\": [9.62, 12.14, 12.51, 12.81, 12.86, 14.44, 16.48, 16.64, 17.34, 18.14], \"showlegend\": false}, {\"type\": \"box\", \"y\": [9.44, 10.43, 12.35, 13.2, 13.3, 14.11, 14.31, 15.48, 17.63, 19.64], \"showlegend\": false}, {\"type\": \"box\", \"y\": [14.18, 14.7, 15.34, 15.47, 16.77, 17.2, 17.84, 18.75, 19.82], \"showlegend\": false}, {\"type\": \"box\", \"y\": [7.83, 8.29, 8.43, 10.12, 10.31, 10.41, 13.44, 14.27, 14.83, 15.72], \"showlegend\": false}, {\"type\": \"box\", \"y\": [7.88, 9.08, 9.36, 11.39, 12.62, 15.3, 16.87, 18.53, 18.6, 22.53], \"showlegend\": false}, {\"type\": \"box\", \"y\": [9.58, 9.9, 10.15, 10.17, 10.49, 11.1, 11.75, 11.85, 12.46, 15.48], \"showlegend\": false}, {\"type\": \"box\", \"y\": [13.36, 16.13, 16.41, 16.72, 17.02, 17.07, 18.54, 22.06], \"showlegend\": false}, {\"type\": \"box\", \"y\": [9.23, 12.69, 14.57, 14.66, 14.99, 15.47, 15.61, 17.0, 19.61, 21.94], \"showlegend\": false}, {\"type\": \"box\", \"y\": [11.61, 12.49, 13.88, 14.49, 15.32, 16.05, 16.47, 16.89, 18.93, 21.3], \"showlegend\": false}, {\"type\": \"box\", \"y\": [13.36, 15.91, 17.14, 17.27, 17.6, 17.63, 18.07, 19.7, 23.9, 24.61], \"showlegend\": false}, {\"type\": \"box\", \"y\": [16.25, 16.67, 17.2, 18.03, 18.34, 18.67, 19.45, 25.37, 30.65, 33.69], \"showlegend\": false}, {\"type\": \"box\", \"y\": [13.0, 14.57, 15.16, 16.44, 16.87, 19.94], \"showlegend\": false}, {\"type\": \"box\", \"y\": [7.62, 8.89, 9.03, 10.61, 10.71, 11.06, 11.33, 11.47, 12.39, 13.09], \"showlegend\": false}, {\"type\": \"box\", \"y\": [8.6, 9.08, 9.28, 9.56, 10.01, 10.78, 12.57, 13.36, 14.86, 17.92], \"showlegend\": false}, {\"type\": \"box\", \"y\": [9.42, 13.54, 13.85, 14.49, 15.28, 15.28, 16.62, 18.27, 22.96, 27.6], \"showlegend\": false}, {\"type\": \"box\", \"y\": [8.56, 9.21, 11.1, 11.51, 11.59, 11.8, 12.15, 16.62, 16.84], \"showlegend\": false}, {\"type\": \"box\", \"y\": [13.1, 14.28, 14.79, 15.06, 15.07, 15.95, 16.44, 17.22, 18.45, 19.3], \"showlegend\": false}, {\"type\": \"box\", \"y\": [9.14, 9.86, 10.15, 10.78, 10.86, 10.97, 11.39, 11.72, 12.01, 12.39], \"showlegend\": false}, {\"type\": \"box\", \"y\": [7.13, 7.15, 7.24, 7.32, 7.79, 8.09, 8.43, 8.9, 9.42, 9.66, 10.2, 10.57, 11.36, 11.93, 12.14, 13.15, 14.31], \"showlegend\": false}, {\"type\": \"box\", \"y\": [7.3, 7.76, 8.04, 8.88, 9.14, 9.49, 9.6, 9.69, 9.76, 9.84, 9.86, 10.2, 10.57, 11.19, 11.87, 13.67], \"showlegend\": false}, {\"type\": \"box\", \"y\": [10.46, 10.79, 11.24, 11.36, 12.59, 12.92, 13.53, 16.53, 17.85], \"showlegend\": false}, {\"type\": \"box\", \"y\": [9.59, 18.79, 19.19, 26.25, 28.5], \"showlegend\": false}, {\"type\": \"box\", \"y\": [7.22, 7.95, 8.79, 9.8, 10.99, 10.99, 11.55, 16.53, 20.83, 22.97, 23.44, 24.43, 25.26, 26.66, 29.09, 30.0, 30.62, 30.94], \"showlegend\": false}, {\"type\": \"box\", \"y\": [4.71, 4.89, 5.04, 5.45, 5.95, 6.12, 7.0, 7.93, 8.22, 8.36, 9.01, 9.66, 9.69, 10.15, 16.07], \"showlegend\": false}, {\"type\": \"box\", \"y\": [8.97, 9.84, 10.36, 11.4, 11.48, 11.76, 11.93, 12.29, 12.46, 13.37, 13.46, 16.79, 19.48, 20.94, 22.85], \"showlegend\": false}, {\"type\": \"box\", \"y\": [9.94, 11.71, 11.84, 12.72, 13.32, 18.51, 20.94, 22.15, 43.43, 46.67, 49.64, 52.66, 53.89, 65.51, 67.21, 68.66], \"showlegend\": false}, {\"type\": \"box\", \"y\": [2.74, 4.5, 4.8, 5.11, 5.62, 5.76, 7.26, 7.61, 8.39], \"showlegend\": false}, {\"type\": \"box\", \"y\": [5.98, 6.83, 8.74, 9.13, 9.94, 12.52, 16.44, 17.85], \"showlegend\": false}, {\"type\": \"box\", \"y\": [12.04, 12.59, 12.77, 13.42, 13.58, 14.24, 15.54, 15.6, 21.93, 24.68, 25.98, 30.0, 31.26, 39.59, 39.59, 40.0, 40.83, 52.79], \"showlegend\": false}, {\"type\": \"box\", \"y\": [3.44, 10.79, 13.05, 13.95, 15.46], \"showlegend\": false}, {\"type\": \"box\", \"y\": [2.86, 3.95, 4.61, 4.62, 4.65, 4.97, 5.41, 5.46, 5.54, 5.91, 6.29, 6.88, 8.05, 8.18, 10.79, 11.48], \"showlegend\": false}, {\"type\": \"box\", \"y\": [8.01, 8.58, 9.2, 9.25, 10.15, 10.99, 12.27, 14.17], \"showlegend\": false}, {\"type\": \"box\", \"y\": [5.39, 5.81, 6.29, 6.71, 8.39, 10.57, 11.54, 11.65], \"showlegend\": false}, {\"type\": \"box\", \"y\": [3.54, 4.8, 4.89, 4.99, 5.37, 5.54, 5.55, 6.07, 6.32, 6.97, 7.04, 7.65, 8.9, 9.44, 11.07, 11.65, 11.84, 11.84], \"showlegend\": false}, {\"type\": \"box\", \"y\": [3.62, 3.68, 4.27, 4.53, 4.69, 5.39, 5.68, 6.24, 6.27, 7.21, 8.74, 9.13, 9.44, 9.44, 9.59, 9.94, 10.41], \"showlegend\": false}, {\"type\": \"box\", \"y\": [7.53, 8.13, 8.2, 9.25, 11.85, 13.6, 13.74, 14.17, 14.65, 14.65, 16.28, 17.05, 17.22, 19.68, 19.68], \"showlegend\": false}, {\"type\": \"box\", \"y\": [4.63, 5.2, 6.05, 6.07, 6.88, 9.2, 9.61, 10.25, 10.41, 10.9, 11.21, 12.59, 12.59, 13.74, 14.46], \"showlegend\": false}, {\"type\": \"box\", \"y\": [6.43, 7.24, 7.28, 7.49, 7.49, 7.57, 7.77, 7.81, 8.07, 8.18, 8.45, 8.9, 9.05, 9.42, 9.82], \"showlegend\": false}, {\"type\": \"box\", \"y\": [3.43, 5.38, 5.71, 5.85, 5.99, 6.08, 6.32, 6.74, 6.8, 6.83, 7.03, 7.26, 7.26, 7.43, 9.18], \"showlegend\": false}, {\"type\": \"box\", \"y\": [5.63, 5.91, 6.32, 6.8, 6.83, 11.84, 12.3, 12.69, 13.12, 13.22, 16.53, 17.31, 17.31, 17.67, 18.32], \"showlegend\": false}, {\"type\": \"box\", \"y\": [4.46, 4.94, 5.18, 5.41, 5.58, 5.81, 6.87, 7.03, 7.61, 7.81, 8.74, 8.97, 10.04, 10.25, 10.79], \"showlegend\": false}, {\"type\": \"box\", \"y\": [6.16, 6.38, 6.86, 7.12, 7.12], \"showlegend\": false}, {\"type\": \"box\", \"y\": [4.42, 4.66, 5.5, 5.5, 6.18], \"showlegend\": false}, {\"type\": \"box\", \"y\": [5.18, 5.2, 6.02, 6.18, 6.32], \"showlegend\": false}, {\"type\": \"box\", \"y\": [14.06, 14.54, 15.26, 17.22, 21.15], \"showlegend\": false}, {\"type\": \"box\", \"y\": [5.38, 5.93, 5.93, 6.12, 6.13], \"showlegend\": false}, {\"type\": \"box\", \"y\": [6.45, 7.55, 7.87, 8.67, 10.53], \"showlegend\": false}, {\"type\": \"box\", \"y\": [8.52, 11.2, 11.94, 12.82, 13.15], \"showlegend\": false}, {\"type\": \"box\", \"y\": [19.74, 22.21, 23.38, 24.43, 27.7], \"showlegend\": false}, {\"type\": \"box\", \"y\": [3.68, 4.2, 4.57, 4.92, 6.37], \"showlegend\": false}, {\"type\": \"box\", \"y\": [3.11, 3.72, 4.14, 4.2, 4.3], \"showlegend\": false}, {\"type\": \"box\", \"y\": [6.9, 7.57, 8.44, 8.71, 12.36], \"showlegend\": false}, {\"type\": \"box\", \"y\": [10.11, 10.9, 12.24, 12.3, 12.36], \"showlegend\": false}, {\"type\": \"box\", \"y\": [6.75, 8.67, 8.97, 10.08, 10.29], \"showlegend\": false}, {\"type\": \"box\", \"y\": [7.25, 7.78, 7.84, 8.26, 9.7], \"showlegend\": false}, {\"type\": \"box\", \"y\": [6.23, 7.75, 8.18, 9.56, 10.57], \"showlegend\": false}, {\"type\": \"box\", \"y\": [10.83, 11.65, 12.56, 13.22], \"showlegend\": false}, {\"type\": \"box\", \"y\": [6.45, 6.5, 6.98, 8.15, 8.41], \"showlegend\": false}, {\"type\": \"box\", \"y\": [5.68, 6.9, 6.9, 7.23, 9.06], \"showlegend\": false}, {\"type\": \"box\", \"y\": [8.7, 9.01, 9.27, 10.09, 11.54], \"showlegend\": false}, {\"type\": \"box\", \"y\": [28.79, 29.85, 30.0, 40.83, 46.19], \"showlegend\": false}, {\"type\": \"box\", \"y\": [14.91, 16.19, 16.36, 17.05, 17.83], \"showlegend\": false}, {\"type\": \"box\", \"y\": [4.73, 5.5, 6.05, 6.34, 8.19], \"showlegend\": false}, {\"type\": \"box\", \"y\": [6.11, 6.27, 6.83, 6.87, 7.43], \"showlegend\": false}, {\"type\": \"box\", \"y\": [7.49, 7.57, 7.6, 8.02, 8.05], \"showlegend\": false}, {\"type\": \"box\", \"y\": [8.41, 10.85, 11.93, 12.48, 12.52], \"showlegend\": false}, {\"type\": \"box\", \"y\": [7.45, 8.26, 8.51, 9.81, 11.79], \"showlegend\": false}, {\"type\": \"box\", \"y\": [9.59, 15.74, 16.44, 17.76, 20.51], \"showlegend\": false}, {\"type\": \"box\", \"y\": [5.14, 5.74, 6.23, 6.85, 7.37], \"showlegend\": false}, {\"type\": \"box\", \"y\": [5.31, 6.16, 6.41, 6.43, 13.04], \"showlegend\": false}, {\"type\": \"box\", \"y\": [10.08, 16.38, 17.76, 18.65, 24.36], \"showlegend\": false}, {\"type\": \"box\", \"y\": [4.8, 5.98, 6.45, 6.59], \"showlegend\": false}, {\"type\": \"box\", \"y\": [6.12, 6.48, 7.33, 7.93, 8.28], \"showlegend\": false}, {\"type\": \"box\", \"y\": [10.2, 12.95, 13.12, 14.69, 18.41], \"showlegend\": false}, {\"type\": \"box\", \"y\": [9.33, 11.39, 12.98, 13.42, 21.04], \"showlegend\": false}, {\"type\": \"box\", \"y\": [9.59, 9.75, 11.96, 15.54], \"showlegend\": false}, {\"type\": \"box\", \"y\": [8.2, 8.9, 10.69, 10.73, 11.07], \"showlegend\": false}, {\"type\": \"box\", \"y\": [7.16, 8.57, 9.95, 12.33, 12.38], \"showlegend\": false}, {\"type\": \"box\", \"y\": [8.35, 8.56, 8.85, 10.95], \"showlegend\": false}, {\"type\": \"box\", \"y\": [12.27, 13.32, 14.41, 14.57, 15.62], \"showlegend\": false}, {\"type\": \"box\", \"y\": [15.03, 16.96, 18.04, 19.94, 21.48], \"showlegend\": false}, {\"type\": \"box\", \"y\": [7.35, 8.41, 9.39, 9.4, 9.55], \"showlegend\": false}], {\"title\": \"Distribution testosterone male athletes \", \"xaxis\": {\"title\": \"Athletes\"}, \"yaxis\": {\"title\": \"T\"}}, {\"showLink\": true, \"linkText\": \"Export to plot.ly\"})});</script>"
      ]
     },
     "metadata": {},
     "output_type": "display_data"
    }
   ],
   "source": [
    "plotData = []\n",
    "for test in male_testosterones:\n",
    "    plotData.append(go.Box(y= test, showlegend=False))\n",
    "layout = dict(title = 'Distribution testosterone male athletes ',\n",
    "              xaxis = dict(title = 'Athletes'),\n",
    "              yaxis = dict(title = 'T'))\n",
    "\n",
    "iplot(dict(data=plotData, layout=layout))"
   ]
  },
  {
   "cell_type": "markdown",
   "metadata": {},
   "source": [
    "### Can testosterone trends be modeled with the linear line?"
   ]
  },
  {
   "cell_type": "code",
   "execution_count": 307,
   "metadata": {},
   "outputs": [
    {
     "data": {
      "application/vnd.plotly.v1+json": {
       "data": [
        {
         "hoverinfo": 1,
         "type": "box",
         "y": [
          -0.08799999999999564,
          -0.2113333333333296,
          0.2053333333333356,
          0.012000000000001343,
          -0.031333333333333435,
          0.23533333333333317,
          0.09199999999999875,
          0.028666666666664398,
          -0.14466666666666939,
          -0.0980000000000043
         ]
        },
        {
         "hoverinfo": 2,
         "type": "box",
         "y": [
          0.6032727272727261,
          -0.1594545454545475,
          0.42781818181817854,
          0.2150909090909039,
          -0.03763636363636991,
          -0.6503636363636431,
          -1.3330909090909149,
          -0.3258181818181871,
          -0.9985454545454644,
          2.2587272727272634
         ]
        },
        {
         "hoverinfo": 3,
         "type": "box",
         "y": [
          0.2807272727272738,
          0.17278787878787938,
          0.054848484848485146,
          -0.1230909090909087,
          -0.30103030303030387,
          -0.42896969696969744,
          -0.09690909090909194,
          -0.26484848484848644,
          0.487212121212119,
          0.21927272727272484
         ]
        },
        {
         "hoverinfo": 4,
         "type": "box",
         "y": [
          -0.07781818181818068,
          -0.18163636363636293,
          -0.18545454545454554,
          -0.20927272727272772,
          0.21690909090908939,
          0.6130909090909071,
          0.3592727272727254,
          0.12545454545454326,
          -0.1583636363636396,
          -0.5021818181818212
         ]
        },
        {
         "hoverinfo": 5,
         "type": "box",
         "y": [
          0.386909090909092,
          0.27515151515151537,
          -0.09660606060606103,
          -0.008363636363637461,
          -0.2801212121212142,
          -0.6718787878787911,
          -0.24363636363636676,
          0.04460606060605521,
          -0.22715151515152066,
          0.821090909090902
         ]
        },
        {
         "hoverinfo": 6,
         "type": "box",
         "y": [
          -0.016727272727269593,
          -0.30078787878787594,
          -0.8648484848484834,
          0.6310909090909096,
          0.5170303030303032,
          0.522969696969696,
          0.3789090909090902,
          -0.08515151515151764,
          -0.819212121212125,
          0.03672727272726917
         ]
        },
        {
         "hoverinfo": 7,
         "type": "box",
         "y": [
          0.04818181818182232,
          0.06636363636363907,
          -0.035454545454544295,
          0.08272727272727298,
          -0.22909090909090946,
          -0.14090909090909243,
          0.23727272727272464,
          -0.02454545454545709,
          -0.16636363636364138,
          0.16181818181817675
         ]
        },
        {
         "hoverinfo": 8,
         "type": "box",
         "y": [
          2.4667272727272724,
          0.8627878787878771,
          0.4488484848484813,
          -0.655090909090914,
          -0.6790303030303093,
          -2.212969696969708,
          -2.906909090909103,
          -3.160848484848497,
          -1.0247878787878903,
          6.861272727272713
         ]
        },
        {
         "hoverinfo": 9,
         "type": "box",
         "y": [
          -0.06454545454544025,
          1.0869090909091028,
          0.43836363636364517,
          0.009818181818189942,
          -0.2487272727272689,
          -1.047272727272727,
          -1.4358181818181812,
          -1.7743636363636384,
          2.047090909090901,
          0.9885454545454451
         ]
        },
        {
         "hoverinfo": 10,
         "type": "box",
         "y": [
          0.82222222222223,
          0.17305555555556396,
          -0.5661111111111037,
          0.024722222222232304,
          -0.08444444444443455,
          -0.9336111111110998,
          -1.0627777777777663,
          0.7480555555555686,
          0.8788888888889019
         ]
        },
        {
         "hoverinfo": 11,
         "type": "box",
         "y": [
          -0.46781818181818124,
          0.17369696969696946,
          0.4652121212121205,
          0.34672727272727055,
          0.15824242424242296,
          -0.25024242424242704,
          -0.6087272727272763,
          -0.1772121212121247,
          -0.12569696969697297,
          0.4858181818181766
         ]
        },
        {
         "hoverinfo": 12,
         "type": "box",
         "y": [
          0.17763636363640956,
          1.6852727272727606,
          1.532909090909115,
          -2.3994545454545317,
          -6.461818181818188,
          0.025818181818166863,
          3.9634545454545105,
          3.881090909090858,
          1.138727272727209,
          -3.5436363636364376
         ]
        },
        {
         "hoverinfo": 13,
         "type": "box",
         "y": [
          0.9109090909090947,
          0.4424848484848516,
          0.0540606060606077,
          -0.44436363636363474,
          -0.692787878787879,
          -0.3612121212121231,
          -0.8896363636363649,
          -1.3080606060606108,
          0.7435151515151457,
          1.5450909090909022
         ]
        },
        {
         "hoverinfo": 14,
         "type": "box",
         "y": [
          0.8318181818181838,
          1.559636363636363,
          -0.042545454545455996,
          -1.1647272727272764,
          -1.9469090909090951,
          -0.1590909090909136,
          -0.27127272727273244,
          -1.6034545454545555,
          1.7143636363636254,
          1.0821818181818053
         ]
        },
        {
         "hoverinfo": 15,
         "type": "box",
         "y": [
          0.7676363636363632,
          0.09393939393939377,
          0.480242424242423,
          -0.1334545454545477,
          -0.7471515151515167,
          -0.5408484848484871,
          -1.0945454545454574,
          -1.218242424242428,
          1.3980606060606018,
          0.9943636363636337
         ]
        },
        {
         "hoverinfo": 16,
         "type": "box",
         "y": [
          0.5254545454545454,
          -0.03775757575757677,
          -0.2309696969696997,
          -0.5741818181818221,
          -1.107393939393944,
          0.4593939393939337,
          1.0261818181818114,
          0.6329696969696901,
          -0.010242424242433046,
          -0.6834545454545538
         ]
        },
        {
         "hoverinfo": 17,
         "type": "box",
         "y": [
          3.636000000000008,
          1.5261666666666773,
          -1.553666666666654,
          -2.7934999999999857,
          -5.993333333333318,
          2.0068333333333506,
          1.0270000000000188,
          -0.582833333333312,
          2.7273333333333554
         ]
        },
        {
         "hoverinfo": 18,
         "type": "box",
         "y": [
          -0.030181818181813647,
          0.048969696969700216,
          -0.2518787878787849,
          0.31727272727272915,
          0.3964242424242439,
          0.04557575757575805,
          -0.28527272727272646,
          -0.5361212121212127,
          -0.49696969696969795,
          0.792181818181815
         ]
        },
        {
         "hoverinfo": 19,
         "type": "box",
         "y": [
          -1.2836363636363615,
          -1.319272727272729,
          -1.1249090909090924,
          2.7794545454545343,
          2.3238181818181687,
          0.5081818181818036,
          -1.0774545454545645,
          1.4869090909090659,
          -0.08872727272729719,
          -2.2043636363636594
         ]
        },
        {
         "hoverinfo": 20,
         "type": "box",
         "y": [
          -0.02844444444443983,
          -0.04244444444443918,
          -0.08644444444443966,
          0.21955555555556128,
          0.07555555555556115,
          -0.06844444444443898,
          -0.022444444444438716,
          -0.10644444444443835,
          0.05955555555556291
         ]
        },
        {
         "hoverinfo": 21,
         "type": "box",
         "y": [
          0.3207272727272752,
          -0.3698787878787879,
          0.5795151515151513,
          -0.1610909090909125,
          -0.7816969696969736,
          0.14769696969696433,
          0.30709090909090087,
          -0.16351515151515983,
          -0.29412121212122067,
          0.41527272727271836
         ]
        },
        {
         "hoverinfo": 22,
         "type": "box",
         "y": [
          0.192181818181818,
          0.3803636363636347,
          -0.2914545454545454,
          -0.13327272727272899,
          -0.47509090909091256,
          -0.6269090909090949,
          0.5012727272727222,
          0.5894545454545401,
          0.2676363636363579,
          -0.40418181818182575
         ]
        },
        {
         "hoverinfo": 23,
         "type": "box",
         "y": [
          -1.430000000000006,
          -1.1303571428571484,
          1.3192857142857104,
          1.7889285714285688,
          1.158571428571424,
          0.17821428571428477,
          -0.7921428571428599,
          -1.0925000000000011
         ]
        },
        {
         "hoverinfo": 24,
         "type": "box",
         "y": [
          0.059636363636367484,
          -0.03139393939393731,
          0.06757575757576006,
          -0.033454545454544515,
          -0.0744848484848486,
          -0.06551515151515108,
          -0.16654545454545566,
          0.2624242424242409,
          0.05139393939393777,
          -0.06963636363636638
         ]
        },
        {
         "hoverinfo": 48,
         "type": "box",
         "y": [
          0.12200000000000166,
          0.13899999999999935,
          -0.6440000000000019,
          0.38299999999999557
         ]
        },
        {
         "hoverinfo": 49,
         "type": "box",
         "y": [
          -0.6874545454545409,
          0.9457575757575807,
          0.4289696969697001,
          -0.15781818181818075,
          -0.9946060606060598,
          -0.3013939393939413,
          0.8518181818181798,
          0.12503030303030016,
          -0.061757575757578564,
          -0.14854545454545942
         ]
        },
        {
         "hoverinfo": 50,
         "type": "box",
         "y": [
          -0.13109090909090426,
          -0.12284848484848254,
          0.8153939393939407,
          0.6836363636363636,
          -0.19812121212121347,
          -0.36987878787879325,
          -1.151636363636369,
          -0.9633939393939457,
          0.20484848484847262,
          1.2330909090908975
         ]
        },
        {
         "hoverinfo": 51,
         "type": "box",
         "y": [
          0.26822222222222614,
          0.0975555555555605,
          0.04688888888889409,
          -0.5137777777777703,
          0.09555555555556339,
          -0.1651111111111021,
          -0.2157777777777703,
          0.003555555555564638,
          0.3828888888888997
         ]
        },
        {
         "hoverinfo": 52,
         "type": "box",
         "y": [
          0.7209090909090952,
          0.235151515151518,
          -0.5706060606060586,
          0.1736363636363638,
          -0.582121212121212,
          -1.4278787878787895,
          0.6563636363636327,
          0.5406060606060556,
          0.15484848484847902,
          0.09909090909090246
         ]
        },
        {
         "hoverinfo": 53,
         "type": "box",
         "y": [
          0.849272727272731,
          0.45254545454545614,
          -0.8641818181818177,
          -0.4309090909090916,
          -0.7976363636363661,
          0.28563636363636036,
          0.25890909090908565,
          0.3221818181818108,
          -1.2045454545454604,
          1.1287272727272608
         ]
        },
        {
         "hoverinfo": 54,
         "type": "box",
         "y": [
          0.60163636363637,
          0.40727272727273345,
          0.14290909090909487,
          -0.35145454545454236,
          -0.5458181818181806,
          -0.450181818181818,
          -0.31454545454545624,
          -0.7289090909090934,
          -0.633272727272729,
          1.872363636363632
         ]
        },
        {
         "hoverinfo": 55,
         "type": "box",
         "y": [
          -0.6691666666666674,
          1.2052380952380943,
          0.5896428571428558,
          0.0040476190476184115,
          -0.5915476190476205,
          -1.4371428571428595,
          -0.8627380952381003,
          1.7616666666666632
         ]
        },
        {
         "hoverinfo": 56,
         "type": "box",
         "y": [
          -1.4839999999999982,
          0.8953333333333333,
          1.6946666666666665,
          0.7039999999999971,
          -0.04666666666666863,
          -0.6473333333333375,
          -1.588000000000008,
          -1.2786666666666733,
          0.2506666666666604,
          1.499999999999993
         ]
        },
        {
         "hoverinfo": 57,
         "type": "box",
         "y": [
          0.06727272727273714,
          0.013878787878796928,
          0.4704848484848547,
          0.14709090909091316,
          0.043696969696970456,
          -0.15969696969697011,
          -0.673090909090913,
          -1.1864848484848523,
          -0.07987878787879765,
          1.3567272727272623
         ]
        },
        {
         "hoverinfo": 58,
         "type": "box",
         "y": [
          -0.4569090909090914,
          1.048181818181817,
          1.2332727272727269,
          0.31836363636363174,
          -0.396545454545457,
          -1.41145454545455,
          -2.016363636363643,
          -1.4312727272727344,
          1.7238181818181744,
          1.388909090909081
         ]
        },
        {
         "hoverinfo": 59,
         "type": "box",
         "y": [
          3.0069090909090956,
          1.6071515151515197,
          0.31739393939394134,
          -0.6723636363636345,
          -2.1821212121212135,
          -3.6718787878787893,
          -4.711636363636369,
          -0.6113939393939454,
          2.8488484848484745,
          4.069090909090896
         ]
        },
        {
         "hoverinfo": 60,
         "type": "box",
         "y": [
          0.06619047619046547,
          0.4110476190476078,
          -0.22409523809524856,
          -0.16923809523810363,
          -0.9643809523809601,
          0.8804761904761804
         ]
        },
        {
         "hoverinfo": 61,
         "type": "box",
         "y": [
          -0.5880000000000019,
          0.14599999999999724,
          -0.25000000000000355,
          0.7939999999999952,
          0.357999999999997,
          0.17199999999999527,
          -0.09400000000000652,
          -0.49000000000000554,
          -0.1060000000000052,
          0.057999999999992724
         ]
        },
        {
         "hoverinfo": 62,
         "type": "box",
         "y": [
          1.212727272727272,
          0.7561212121212115,
          0.019515151515149043,
          -0.6370909090909116,
          -1.123696969696974,
          -1.2903030303030363,
          -0.43690909090909713,
          -0.583515151515158,
          -0.020121212121221532,
          2.1032727272727207
         ]
        },
        {
         "hoverinfo": 63,
         "type": "box",
         "y": [
          -0.27327272727272955,
          2.2827878787878735,
          1.0288484848484796,
          0.10490909090908396,
          -0.6690303030303131,
          -2.2329696969697093,
          -2.456909090909104,
          -2.370848484848498,
          0.7552121212121037,
          3.8312727272727116
         ]
        },
        {
         "hoverinfo": 64,
         "type": "box",
         "y": [
          0.25600000000000556,
          -0.05633333333332757,
          0.8713333333333395,
          0.31900000000000794,
          -0.5633333333333255,
          -1.315666666666658,
          -1.9279999999999902,
          1.5796666666666788,
          0.8373333333333441
         ]
        },
        {
         "hoverinfo": 65,
         "type": "box",
         "y": [
          -0.07981818181818312,
          0.48103030303030003,
          0.37187878787878326,
          0.022727272727268044,
          -0.5864242424242487,
          -0.3255757575757663,
          -0.4547272727272791,
          -0.29387878787879984,
          0.31696969696968225,
          0.5478181818181689
         ]
        },
        {
         "hoverinfo": 66,
         "type": "box",
         "y": [
          -0.3118181818181771,
          0.0803636363636393,
          0.042545454545455996,
          0.34472727272727255,
          0.09690909090909017,
          -0.12090909090909285,
          -0.028727272727275377,
          -0.02654545454545776,
          -0.06436363636364284,
          -0.012181818181826287
         ]
        },
        {
         "hoverinfo": 67,
         "type": "box",
         "y": [
          0.9249019607843154,
          0.508848039215688,
          0.16279411764705998,
          -0.19325980392156783,
          -0.15931372549019596,
          -0.2953676470588249,
          -0.39142156862745203,
          -0.3574754901960784,
          -0.2735294117647076,
          -0.46958333333333613,
          -0.36563725490196397,
          -0.43169117647058997,
          -0.07774509803921958,
          0.056200980392151934,
          -0.1698529411764742,
          0.4040931372548986,
          1.12803921568627
         ]
        },
        {
         "hoverinfo": 68,
         "type": "box",
         "y": [
          -0.19970588235294162,
          -0.04691176470588321,
          -0.0741176470588254,
          0.4586764705882356,
          0.4114705882352947,
          0.4542647058823537,
          0.2570588235294107,
          0.03985294117646987,
          -0.1973529411764705,
          -0.4245588235294129,
          -0.711764705882354,
          -0.6789705882352948,
          -0.6161764705882362,
          -0.30338235294117766,
          0.0694117647058814,
          1.5622058823529414
         ]
        },
        {
         "hoverinfo": 71,
         "type": "box",
         "y": [
          0.9580000000000055,
          0.40600000000000414,
          -0.025999999999994472,
          -0.7879999999999949,
          -0.4399999999999942,
          -0.9919999999999938,
          -1.263999999999994,
          0.8540000000000081,
          1.2920000000000087
         ]
        },
        {
         "hoverinfo": 72,
         "type": "box",
         "y": [
          -1.8179999999999925,
          2.8540000000000063,
          -1.2739999999999938,
          1.2580000000000027,
          -1.019999999999996
         ]
        },
        {
         "hoverinfo": 73,
         "type": "box",
         "y": [
          1.5622807017543918,
          0.6829927760577981,
          -0.08629514963879714,
          -0.6855830753353906,
          -1.1048710010319844,
          -2.7141589267285795,
          -3.7634468524251723,
          -0.3927347781217634,
          2.297977296181635,
          2.828689370485044,
          1.689401444788448,
          1.070113519091855,
          0.29082559339526526,
          0.08153766769866522,
          0.9022497420020734,
          0.20296181630548205,
          -0.7863261093911156,
          -2.075614035087707
         ]
        },
        {
         "hoverinfo": 74,
         "type": "box",
         "y": [
          0.977916666666669,
          0.5648809523809541,
          0.12184523809524084,
          -0.061190476190473575,
          -0.15422619047618813,
          -0.5772619047619019,
          -0.29029761904761653,
          0.04666666666666952,
          -0.2563690476190441,
          -0.7094047619047608,
          -0.6524404761904723,
          -0.5954761904761874,
          -1.1585119047619035,
          -1.2915476190476145,
          4.03541666666667
         ]
        },
        {
         "hoverinfo": 75,
         "type": "box",
         "y": [
          1.1599166666666711,
          1.1705952380952418,
          0.8312738095238128,
          1.0119523809523852,
          0.23263095238095666,
          -0.34669047619047255,
          -1.0360119047619012,
          -1.5353333333333303,
          -2.224654761904757,
          -2.1739761904761874,
          -2.9432976190476126,
          -0.4726190476190446,
          1.3580595238095263,
          1.9587380952381004,
          3.0094166666666737
         ]
        },
        {
         "hoverinfo": 76,
         "type": "box",
         "y": [
          8.500661764705894,
          5.722573529411775,
          1.3044852941176543,
          -2.363602941176465,
          -6.311691176470585,
          -5.669779411764704,
          -7.787867647058825,
          -11.125955882352947,
          5.605955882352937,
          4.297867647058823,
          2.719779411764698,
          1.1916911764705702,
          -2.1263970588235424,
          4.945514705882346,
          2.0974264705882035,
          -1.0006617647059102
         ]
        },
        {
         "hoverinfo": 77,
         "type": "box",
         "y": [
          -0.5144444444444414,
          0.6205555555555584,
          0.29555555555555824,
          -0.01944444444444038,
          -0.1344444444444406,
          -0.6194444444444409,
          0.25555555555556,
          -0.01944444444443949,
          0.13555555555556076
         ]
        },
        {
         "hoverinfo": 78,
         "type": "box",
         "y": [
          1.0216666666666638,
          0.16583333333333083,
          0.3699999999999992,
          -0.9458333333333329,
          -1.8416666666666668,
          -0.9674999999999976,
          1.2466666666666697,
          0.950833333333339
         ]
        },
        {
         "hoverinfo": 79,
         "type": "box",
         "y": [
          6.135672514619884,
          4.397096663226696,
          2.288520811833507,
          0.6499449604403207,
          -1.4786308909528678,
          -3.1072067423460563,
          -4.095782593739244,
          -6.324358445132434,
          -2.282934296525621,
          -1.8215101479188078,
          -2.8100859993119975,
          -1.0786618507051848,
          -2.10723770209837,
          3.9341864465084413,
          1.6456105951152509,
          -0.23296525627793585,
          -1.691541107671128,
          7.9798830409356825
         ]
        },
        {
         "hoverinfo": 81,
         "type": "box",
         "y": [
          -2.4580000000000006,
          2.171999999999999,
          1.7120000000000015,
          -0.10800000000000054,
          -1.3179999999999978
         ]
        },
        {
         "hoverinfo": 82,
         "type": "box",
         "y": [
          0.07470588235294118,
          0.7056617647058827,
          0.9066176470588241,
          0.4575735294117651,
          0.02852941176470658,
          -0.11051470588235279,
          -0.12955882352941206,
          -0.538602941176471,
          -0.9176470588235297,
          -1.0066911764705884,
          -1.0857352941176472,
          -0.9547794117647062,
          -0.243823529411765,
          -0.5728676470588248,
          1.578088235294116,
          1.8090441176470584
         ]
        },
        {
         "hoverinfo": 84,
         "type": "box",
         "y": [
          0.5091666666666645,
          0.2715476190476185,
          0.08392857142856869,
          -0.6736904761904761,
          -0.5813095238095247,
          -0.5489285714285703,
          -0.07654761904761997,
          1.015833333333335
         ]
        },
        {
         "hoverinfo": 85,
         "type": "box",
         "y": [
          0.7208333333333332,
          0.10523809523809557,
          -0.45035714285714246,
          -1.065952380952381,
          -0.42154761904761884,
          0.7228571428571442,
          0.6572619047619046,
          -0.26833333333333265
         ]
        },
        {
         "hoverinfo": 86,
         "type": "box",
         "y": [
          0.29754385964912444,
          1.0666563467492276,
          0.6657688338493308,
          0.27488132094943474,
          0.163993808049538,
          -0.1568937048503587,
          -0.6377812177502555,
          -0.6086687306501517,
          -0.8495562435500483,
          -0.6904437564499455,
          -1.1113312693498427,
          -0.9922187822497381,
          -0.23310629514963388,
          -0.18399380804953225,
          0.955118679050571,
          1.0442311661506753,
          0.7433436532507791,
          0.2524561403508834
         ]
        },
        {
         "hoverinfo": 87,
         "type": "box",
         "y": [
          0.42607843137254964,
          0.01568627450980431,
          0.13529411764705834,
          -0.07509803921568636,
          -0.3854901960784316,
          -0.1558823529411777,
          -0.3362745098039239,
          -0.2466666666666688,
          -0.6870588235294148,
          -0.21745098039215982,
          0.842156862745095,
          0.7617647058823511,
          0.6013725490196027,
          0.1309803921568573,
          -0.18941176470588772,
          -0.30980392156863346,
          -0.3101960784313782
         ]
        },
        {
         "hoverinfo": 89,
         "type": "box",
         "y": [
          -0.008249999999997648,
          -0.2902142857142831,
          -1.1021785714285706,
          -0.9341428571428558,
          0.7838928571428561,
          1.65192857142857,
          0.9099642857142847,
          0.45799999999999663,
          0.05603571428571108,
          -0.8259285714285749,
          -0.0778928571428601,
          -0.1898571428571465,
          -0.9018214285714343,
          0.6762142857142805,
          -0.20575000000000898
         ]
        },
        {
         "hoverinfo": 90,
         "type": "box",
         "y": [
          -0.05549999999999766,
          -0.18557142857142583,
          -0.03564285714285553,
          -0.7157142857142835,
          -0.6057857142857133,
          1.0141428571428577,
          0.7240714285714294,
          0.6640000000000015,
          0.12392857142857139,
          -0.08614285714285508,
          -0.4762142857142848,
          0.20371428571428574,
          -0.4963571428571427,
          -0.04642857142857082,
          -0.026500000000000412
         ]
        },
        {
         "hoverinfo": 91,
         "type": "box",
         "y": [
          -0.24216666666666686,
          0.36890476190476207,
          0.20997619047619143,
          0.22104761904761983,
          0.02211904761904826,
          -0.09680952380952235,
          -0.09573809523809462,
          -0.25466666666666615,
          -0.19359523809523616,
          -0.2825238095238092,
          -0.21145238095238028,
          0.03961904761905011,
          -0.009309523809520215,
          0.16176190476190655,
          0.3628333333333362
         ]
        },
        {
         "hoverinfo": 92,
         "type": "box",
         "y": [
          -1.279999999999998,
          0.41628571428571615,
          0.49257142857142977,
          0.3788571428571439,
          0.2651428571428589,
          0.1014285714285732,
          0.08771428571428785,
          0.25400000000000134,
          0.060285714285715386,
          -0.16342857142856992,
          -0.2171428571428562,
          -0.24085714285714221,
          -0.4945714285714278,
          -0.5782857142857125,
          0.918000000000001
         ]
        },
        {
         "hoverinfo": 93,
         "type": "box",
         "y": [
          0.736500000000003,
          -0.015857142857139905,
          -0.6382142857142821,
          -1.1905714285714257,
          -2.1929285714285687,
          1.784714285714287,
          1.2123571428571474,
          0.5700000000000021,
          -0.03235714285714231,
          -0.9647142857142814,
          1.312928571428575,
          1.0605714285714285,
          0.028214285714287968,
          -0.6441428571428531,
          -1.0264999999999986
         ]
        },
        {
         "hoverinfo": 94,
         "type": "box",
         "y": [
          0.3839166666666678,
          0.40345238095238223,
          0.18298809523809556,
          -0.04747619047618912,
          -0.3379404761904752,
          -0.5684047619047616,
          0.03113095238095287,
          -0.269333333333333,
          -0.1497976190476189,
          -0.4102619047619056,
          0.05927380952381078,
          -0.17119047619047656,
          0.43834523809523773,
          0.18788095238095082,
          0.26741666666666575
         ]
        },
        {
         "hoverinfo": 95,
         "type": "box",
         "y": [
          -0.03599999999999781,
          -0.08199999999999807,
          0.13200000000000234,
          0.1260000000000021,
          -0.1399999999999988
         ]
        },
        {
         "hoverinfo": 96,
         "type": "box",
         "y": [
          0.0400000000000027,
          -0.15599999999999703,
          0.248000000000002,
          -0.18799999999999795,
          0.056000000000001826
         ]
        },
        {
         "hoverinfo": 97,
         "type": "box",
         "y": [
          0.05200000000000138,
          -0.2539999999999978,
          0.2400000000000011,
          0.07400000000000162,
          -0.11199999999999743
         ]
        },
        {
         "hoverinfo": 99,
         "type": "box",
         "y": [
          0.9860000000000042,
          -0.2199999999999971,
          -1.1859999999999946,
          -0.9119999999999955,
          1.3320000000000043
         ]
        },
        {
         "hoverinfo": 100,
         "type": "box",
         "y": [
          -0.17999999999999616,
          0.20100000000000318,
          0.032000000000001805,
          0.05300000000000171,
          -0.10599999999999898
         ]
        },
        {
         "hoverinfo": 101,
         "type": "box",
         "y": [
          0.09200000000000408,
          0.2640000000000038,
          -0.34399999999999675,
          -0.47199999999999775,
          0.46000000000000263
         ]
        },
        {
         "hoverinfo": 102,
         "type": "box",
         "y": [
          -0.8299999999999947,
          0.762000000000004,
          0.41400000000000325,
          0.20600000000000307,
          -0.5519999999999978
         ]
        },
        {
         "hoverinfo": 103,
         "type": "box",
         "y": [
          -0.12399999999998812,
          0.5320000000000142,
          -0.11199999999999122,
          -0.8759999999999906,
          0.580000000000009
         ]
        },
        {
         "hoverinfo": 107,
         "type": "box",
         "y": [
          0.15200000000000147,
          0.062000000000001165,
          -0.17799999999999905,
          -0.4380000000000006,
          0.40200000000000014
         ]
        },
        {
         "hoverinfo": 109,
         "type": "box",
         "y": [
          -0.2119999999999984,
          0.11200000000000188,
          0.24600000000000133,
          0.02000000000000135,
          -0.1659999999999986
         ]
        },
        {
         "hoverinfo": 111,
         "type": "box",
         "y": [
          0.5160000000000009,
          -0.019999999999998685,
          -0.35599999999999987,
          -1.291999999999998,
          1.152000000000001
         ]
        },
        {
         "hoverinfo": 112,
         "type": "box",
         "y": [
          -0.29199999999999626,
          -0.0919999999999952,
          0.6580000000000048,
          0.12800000000000544,
          -0.40199999999999747
         ]
        },
        {
         "hoverinfo": 113,
         "type": "box",
         "y": [
          -0.5039999999999996,
          0.5670000000000002,
          0.018000000000000682,
          0.2789999999999999,
          -0.3600000000000012
         ]
        },
        {
         "hoverinfo": 114,
         "type": "box",
         "y": [
          0.16000000000000547,
          0.15200000000000458,
          -0.32599999999999696,
          -0.44399999999999906,
          0.4580000000000002
         ]
        },
        {
         "hoverinfo": 115,
         "type": "box",
         "y": [
          -0.129999999999999,
          0.3410000000000011,
          -0.2779999999999987,
          0.053000000000000824,
          0.014000000000001123
         ]
        },
        {
         "hoverinfo": 116,
         "type": "box",
         "y": [
          -0.02299999999999791,
          -0.010999999999999233,
          0.09099999999999753,
          -0.057000000000003936
         ]
        },
        {
         "hoverinfo": 121,
         "type": "box",
         "y": [
          0.266,
          -0.24099999999999966,
          -0.31799999999999784,
          0.2950000000000026,
          -0.001999999999997115
         ]
        },
        {
         "hoverinfo": 122,
         "type": "box",
         "y": [
          -0.05599999999999916,
          0.45500000000000185,
          -0.2539999999999978,
          -0.6329999999999982,
          0.4880000000000013
         ]
        },
        {
         "hoverinfo": 123,
         "type": "box",
         "y": [
          0.3300000000000054,
          -0.035999999999996035,
          -0.4519999999999964,
          -0.3079999999999963,
          0.4660000000000011
         ]
        },
        {
         "hoverinfo": 124,
         "type": "box",
         "y": [
          2.813999999999993,
          -0.7040000000000006,
          -5.132000000000005,
          1.1199999999999974,
          1.902000000000001
         ]
        },
        {
         "hoverinfo": 125,
         "type": "box",
         "y": [
          -0.2179999999999893,
          0.3920000000000119,
          -0.10799999999998988,
          -0.08799999999999031,
          0.022000000000009123
         ]
        },
        {
         "hoverinfo": 126,
         "type": "box",
         "y": [
          0.12000000000000277,
          0.11400000000000166,
          -0.11199999999999921,
          -0.5979999999999999,
          0.4759999999999991
         ]
        },
        {
         "hoverinfo": 127,
         "type": "box",
         "y": [
          0.0560000000000036,
          -0.10799999999999788,
          0.1280000000000019,
          -0.1559999999999988,
          0.08000000000000007
         ]
        },
        {
         "hoverinfo": 129,
         "type": "box",
         "y": [
          0.05800000000000605,
          -0.0189999999999948,
          -0.14599999999999635,
          0.11700000000000266,
          -0.00999999999999801
         ]
        },
        {
         "hoverinfo": 132,
         "type": "box",
         "y": [
          -0.8579999999999899,
          0.5970000000000084,
          0.6920000000000073,
          0.25700000000000855,
          -0.6879999999999935
         ]
        },
        {
         "hoverinfo": 133,
         "type": "box",
         "y": [
          0.33200000000000074,
          0.11900000000000155,
          -0.6539999999999981,
          -0.3769999999999971,
          0.5800000000000018
         ]
        },
        {
         "hoverinfo": 135,
         "type": "box",
         "y": [
          -1.6459999999999955,
          2.118000000000004,
          0.4320000000000057,
          -0.6339999999999932,
          -0.26999999999999247
         ]
        },
        {
         "hoverinfo": 137,
         "type": "box",
         "y": [
          -0.011999999999996014,
          0.031000000000004135,
          -0.035999999999996035,
          0.0270000000000028,
          -0.009999999999997122
         ]
        },
        {
         "hoverinfo": 138,
         "type": "box",
         "y": [
          0.9860000000000007,
          0.2630000000000008,
          -1.0599999999999996,
          -2.6129999999999995,
          2.4239999999999995
         ]
        },
        {
         "hoverinfo": 139,
         "type": "box",
         "y": [
          -1.1999999999999904,
          2.0170000000000083,
          0.3140000000000107,
          -1.8789999999999942,
          0.7480000000000047
         ]
        },
        {
         "hoverinfo": 143,
         "type": "box",
         "y": [
          -0.2790000000000008,
          0.31700000000000017,
          0.2030000000000003,
          -0.24100000000000055
         ]
        },
        {
         "hoverinfo": 146,
         "type": "box",
         "y": [
          0.046000000000004704,
          -0.17099999999999582,
          0.10200000000000387,
          0.12500000000000266,
          -0.10199999999999854
         ]
        },
        {
         "hoverinfo": 147,
         "type": "box",
         "y": [
          -0.041999999999994486,
          0.8920000000000048,
          -0.753999999999996,
          -0.9999999999999982,
          0.9039999999999999
         ]
        },
        {
         "hoverinfo": 148,
         "type": "box",
         "y": [
          0.7880000000000038,
          0.3030000000000044,
          -0.6519999999999975,
          -2.7569999999999997,
          2.3180000000000014
         ]
        },
        {
         "hoverinfo": 149,
         "type": "box",
         "y": [
          0.8889999999999958,
          -0.9570000000000043,
          -0.7530000000000037,
          0.8209999999999926
         ]
        },
        {
         "hoverinfo": 150,
         "type": "box",
         "y": [
          -0.20399999999999707,
          -0.26099999999999746,
          0.772000000000002,
          0.05500000000000149,
          -0.3619999999999983
         ]
        },
        {
         "hoverinfo": 151,
         "type": "box",
         "y": [
          -0.0779999999999994,
          -0.08799999999999919,
          -0.1280000000000001,
          0.8320000000000025,
          -0.5379999999999967
         ]
        },
        {
         "hoverinfo": 152,
         "type": "box",
         "y": [
          0.3859999999999939,
          -0.21300000000000452,
          -0.7320000000000064,
          0.558999999999994
         ]
        },
        {
         "hoverinfo": 153,
         "type": "box",
         "y": [
          -0.17799999999999905,
          0.07700000000000173,
          0.37200000000000344,
          -0.26299999999999635,
          -0.007999999999995566
         ]
        },
        {
         "hoverinfo": 154,
         "type": "box",
         "y": [
          -0.0840000000000014,
          0.2579999999999991,
          -0.25000000000000355,
          0.062000000000001165,
          0.013999999999999346
         ]
        },
        {
         "hoverinfo": 156,
         "type": "box",
         "y": [
          -0.391999999999995,
          0.1290000000000049,
          0.5700000000000038,
          0.04100000000000392,
          -0.3479999999999954
         ]
        }
       ],
       "layout": {}
      },
      "text/html": [
       "<div id=\"f637c9b4-1859-4288-9943-1cf121cce215\" style=\"height: 525px; width: 100%;\" class=\"plotly-graph-div\"></div><script type=\"text/javascript\">require([\"plotly\"], function(Plotly) { window.PLOTLYENV=window.PLOTLYENV || {};window.PLOTLYENV.BASE_URL=\"https://plot.ly\";Plotly.newPlot(\"f637c9b4-1859-4288-9943-1cf121cce215\", [{\"type\": \"box\", \"y\": [-0.08799999999999564, -0.2113333333333296, 0.2053333333333356, 0.012000000000001343, -0.031333333333333435, 0.23533333333333317, 0.09199999999999875, 0.028666666666664398, -0.14466666666666939, -0.0980000000000043], \"hoverinfo\": 1}, {\"type\": \"box\", \"y\": [0.6032727272727261, -0.1594545454545475, 0.42781818181817854, 0.2150909090909039, -0.03763636363636991, -0.6503636363636431, -1.3330909090909149, -0.3258181818181871, -0.9985454545454644, 2.2587272727272634], \"hoverinfo\": 2}, {\"type\": \"box\", \"y\": [0.2807272727272738, 0.17278787878787938, 0.054848484848485146, -0.1230909090909087, -0.30103030303030387, -0.42896969696969744, -0.09690909090909194, -0.26484848484848644, 0.487212121212119, 0.21927272727272484], \"hoverinfo\": 3}, {\"type\": \"box\", \"y\": [-0.07781818181818068, -0.18163636363636293, -0.18545454545454554, -0.20927272727272772, 0.21690909090908939, 0.6130909090909071, 0.3592727272727254, 0.12545454545454326, -0.1583636363636396, -0.5021818181818212], \"hoverinfo\": 4}, {\"type\": \"box\", \"y\": [0.386909090909092, 0.27515151515151537, -0.09660606060606103, -0.008363636363637461, -0.2801212121212142, -0.6718787878787911, -0.24363636363636676, 0.04460606060605521, -0.22715151515152066, 0.821090909090902], \"hoverinfo\": 5}, {\"type\": \"box\", \"y\": [-0.016727272727269593, -0.30078787878787594, -0.8648484848484834, 0.6310909090909096, 0.5170303030303032, 0.522969696969696, 0.3789090909090902, -0.08515151515151764, -0.819212121212125, 0.03672727272726917], \"hoverinfo\": 6}, {\"type\": \"box\", \"y\": [0.04818181818182232, 0.06636363636363907, -0.035454545454544295, 0.08272727272727298, -0.22909090909090946, -0.14090909090909243, 0.23727272727272464, -0.02454545454545709, -0.16636363636364138, 0.16181818181817675], \"hoverinfo\": 7}, {\"type\": \"box\", \"y\": [2.4667272727272724, 0.8627878787878771, 0.4488484848484813, -0.655090909090914, -0.6790303030303093, -2.212969696969708, -2.906909090909103, -3.160848484848497, -1.0247878787878903, 6.861272727272713], \"hoverinfo\": 8}, {\"type\": \"box\", \"y\": [-0.06454545454544025, 1.0869090909091028, 0.43836363636364517, 0.009818181818189942, -0.2487272727272689, -1.047272727272727, -1.4358181818181812, -1.7743636363636384, 2.047090909090901, 0.9885454545454451], \"hoverinfo\": 9}, {\"type\": \"box\", \"y\": [0.82222222222223, 0.17305555555556396, -0.5661111111111037, 0.024722222222232304, -0.08444444444443455, -0.9336111111110998, -1.0627777777777663, 0.7480555555555686, 0.8788888888889019], \"hoverinfo\": 10}, {\"type\": \"box\", \"y\": [-0.46781818181818124, 0.17369696969696946, 0.4652121212121205, 0.34672727272727055, 0.15824242424242296, -0.25024242424242704, -0.6087272727272763, -0.1772121212121247, -0.12569696969697297, 0.4858181818181766], \"hoverinfo\": 11}, {\"type\": \"box\", \"y\": [0.17763636363640956, 1.6852727272727606, 1.532909090909115, -2.3994545454545317, -6.461818181818188, 0.025818181818166863, 3.9634545454545105, 3.881090909090858, 1.138727272727209, -3.5436363636364376], \"hoverinfo\": 12}, {\"type\": \"box\", \"y\": [0.9109090909090947, 0.4424848484848516, 0.0540606060606077, -0.44436363636363474, -0.692787878787879, -0.3612121212121231, -0.8896363636363649, -1.3080606060606108, 0.7435151515151457, 1.5450909090909022], \"hoverinfo\": 13}, {\"type\": \"box\", \"y\": [0.8318181818181838, 1.559636363636363, -0.042545454545455996, -1.1647272727272764, -1.9469090909090951, -0.1590909090909136, -0.27127272727273244, -1.6034545454545555, 1.7143636363636254, 1.0821818181818053], \"hoverinfo\": 14}, {\"type\": \"box\", \"y\": [0.7676363636363632, 0.09393939393939377, 0.480242424242423, -0.1334545454545477, -0.7471515151515167, -0.5408484848484871, -1.0945454545454574, -1.218242424242428, 1.3980606060606018, 0.9943636363636337], \"hoverinfo\": 15}, {\"type\": \"box\", \"y\": [0.5254545454545454, -0.03775757575757677, -0.2309696969696997, -0.5741818181818221, -1.107393939393944, 0.4593939393939337, 1.0261818181818114, 0.6329696969696901, -0.010242424242433046, -0.6834545454545538], \"hoverinfo\": 16}, {\"type\": \"box\", \"y\": [3.636000000000008, 1.5261666666666773, -1.553666666666654, -2.7934999999999857, -5.993333333333318, 2.0068333333333506, 1.0270000000000188, -0.582833333333312, 2.7273333333333554], \"hoverinfo\": 17}, {\"type\": \"box\", \"y\": [-0.030181818181813647, 0.048969696969700216, -0.2518787878787849, 0.31727272727272915, 0.3964242424242439, 0.04557575757575805, -0.28527272727272646, -0.5361212121212127, -0.49696969696969795, 0.792181818181815], \"hoverinfo\": 18}, {\"type\": \"box\", \"y\": [-1.2836363636363615, -1.319272727272729, -1.1249090909090924, 2.7794545454545343, 2.3238181818181687, 0.5081818181818036, -1.0774545454545645, 1.4869090909090659, -0.08872727272729719, -2.2043636363636594], \"hoverinfo\": 19}, {\"type\": \"box\", \"y\": [-0.02844444444443983, -0.04244444444443918, -0.08644444444443966, 0.21955555555556128, 0.07555555555556115, -0.06844444444443898, -0.022444444444438716, -0.10644444444443835, 0.05955555555556291], \"hoverinfo\": 20}, {\"type\": \"box\", \"y\": [0.3207272727272752, -0.3698787878787879, 0.5795151515151513, -0.1610909090909125, -0.7816969696969736, 0.14769696969696433, 0.30709090909090087, -0.16351515151515983, -0.29412121212122067, 0.41527272727271836], \"hoverinfo\": 21}, {\"type\": \"box\", \"y\": [0.192181818181818, 0.3803636363636347, -0.2914545454545454, -0.13327272727272899, -0.47509090909091256, -0.6269090909090949, 0.5012727272727222, 0.5894545454545401, 0.2676363636363579, -0.40418181818182575], \"hoverinfo\": 22}, {\"type\": \"box\", \"y\": [-1.430000000000006, -1.1303571428571484, 1.3192857142857104, 1.7889285714285688, 1.158571428571424, 0.17821428571428477, -0.7921428571428599, -1.0925000000000011], \"hoverinfo\": 23}, {\"type\": \"box\", \"y\": [0.059636363636367484, -0.03139393939393731, 0.06757575757576006, -0.033454545454544515, -0.0744848484848486, -0.06551515151515108, -0.16654545454545566, 0.2624242424242409, 0.05139393939393777, -0.06963636363636638], \"hoverinfo\": 24}, {\"type\": \"box\", \"y\": [0.12200000000000166, 0.13899999999999935, -0.6440000000000019, 0.38299999999999557], \"hoverinfo\": 48}, {\"type\": \"box\", \"y\": [-0.6874545454545409, 0.9457575757575807, 0.4289696969697001, -0.15781818181818075, -0.9946060606060598, -0.3013939393939413, 0.8518181818181798, 0.12503030303030016, -0.061757575757578564, -0.14854545454545942], \"hoverinfo\": 49}, {\"type\": \"box\", \"y\": [-0.13109090909090426, -0.12284848484848254, 0.8153939393939407, 0.6836363636363636, -0.19812121212121347, -0.36987878787879325, -1.151636363636369, -0.9633939393939457, 0.20484848484847262, 1.2330909090908975], \"hoverinfo\": 50}, {\"type\": \"box\", \"y\": [0.26822222222222614, 0.0975555555555605, 0.04688888888889409, -0.5137777777777703, 0.09555555555556339, -0.1651111111111021, -0.2157777777777703, 0.003555555555564638, 0.3828888888888997], \"hoverinfo\": 51}, {\"type\": \"box\", \"y\": [0.7209090909090952, 0.235151515151518, -0.5706060606060586, 0.1736363636363638, -0.582121212121212, -1.4278787878787895, 0.6563636363636327, 0.5406060606060556, 0.15484848484847902, 0.09909090909090246], \"hoverinfo\": 52}, {\"type\": \"box\", \"y\": [0.849272727272731, 0.45254545454545614, -0.8641818181818177, -0.4309090909090916, -0.7976363636363661, 0.28563636363636036, 0.25890909090908565, 0.3221818181818108, -1.2045454545454604, 1.1287272727272608], \"hoverinfo\": 53}, {\"type\": \"box\", \"y\": [0.60163636363637, 0.40727272727273345, 0.14290909090909487, -0.35145454545454236, -0.5458181818181806, -0.450181818181818, -0.31454545454545624, -0.7289090909090934, -0.633272727272729, 1.872363636363632], \"hoverinfo\": 54}, {\"type\": \"box\", \"y\": [-0.6691666666666674, 1.2052380952380943, 0.5896428571428558, 0.0040476190476184115, -0.5915476190476205, -1.4371428571428595, -0.8627380952381003, 1.7616666666666632], \"hoverinfo\": 55}, {\"type\": \"box\", \"y\": [-1.4839999999999982, 0.8953333333333333, 1.6946666666666665, 0.7039999999999971, -0.04666666666666863, -0.6473333333333375, -1.588000000000008, -1.2786666666666733, 0.2506666666666604, 1.499999999999993], \"hoverinfo\": 56}, {\"type\": \"box\", \"y\": [0.06727272727273714, 0.013878787878796928, 0.4704848484848547, 0.14709090909091316, 0.043696969696970456, -0.15969696969697011, -0.673090909090913, -1.1864848484848523, -0.07987878787879765, 1.3567272727272623], \"hoverinfo\": 57}, {\"type\": \"box\", \"y\": [-0.4569090909090914, 1.048181818181817, 1.2332727272727269, 0.31836363636363174, -0.396545454545457, -1.41145454545455, -2.016363636363643, -1.4312727272727344, 1.7238181818181744, 1.388909090909081], \"hoverinfo\": 58}, {\"type\": \"box\", \"y\": [3.0069090909090956, 1.6071515151515197, 0.31739393939394134, -0.6723636363636345, -2.1821212121212135, -3.6718787878787893, -4.711636363636369, -0.6113939393939454, 2.8488484848484745, 4.069090909090896], \"hoverinfo\": 59}, {\"type\": \"box\", \"y\": [0.06619047619046547, 0.4110476190476078, -0.22409523809524856, -0.16923809523810363, -0.9643809523809601, 0.8804761904761804], \"hoverinfo\": 60}, {\"type\": \"box\", \"y\": [-0.5880000000000019, 0.14599999999999724, -0.25000000000000355, 0.7939999999999952, 0.357999999999997, 0.17199999999999527, -0.09400000000000652, -0.49000000000000554, -0.1060000000000052, 0.057999999999992724], \"hoverinfo\": 61}, {\"type\": \"box\", \"y\": [1.212727272727272, 0.7561212121212115, 0.019515151515149043, -0.6370909090909116, -1.123696969696974, -1.2903030303030363, -0.43690909090909713, -0.583515151515158, -0.020121212121221532, 2.1032727272727207], \"hoverinfo\": 62}, {\"type\": \"box\", \"y\": [-0.27327272727272955, 2.2827878787878735, 1.0288484848484796, 0.10490909090908396, -0.6690303030303131, -2.2329696969697093, -2.456909090909104, -2.370848484848498, 0.7552121212121037, 3.8312727272727116], \"hoverinfo\": 63}, {\"type\": \"box\", \"y\": [0.25600000000000556, -0.05633333333332757, 0.8713333333333395, 0.31900000000000794, -0.5633333333333255, -1.315666666666658, -1.9279999999999902, 1.5796666666666788, 0.8373333333333441], \"hoverinfo\": 64}, {\"type\": \"box\", \"y\": [-0.07981818181818312, 0.48103030303030003, 0.37187878787878326, 0.022727272727268044, -0.5864242424242487, -0.3255757575757663, -0.4547272727272791, -0.29387878787879984, 0.31696969696968225, 0.5478181818181689], \"hoverinfo\": 65}, {\"type\": \"box\", \"y\": [-0.3118181818181771, 0.0803636363636393, 0.042545454545455996, 0.34472727272727255, 0.09690909090909017, -0.12090909090909285, -0.028727272727275377, -0.02654545454545776, -0.06436363636364284, -0.012181818181826287], \"hoverinfo\": 66}, {\"type\": \"box\", \"y\": [0.9249019607843154, 0.508848039215688, 0.16279411764705998, -0.19325980392156783, -0.15931372549019596, -0.2953676470588249, -0.39142156862745203, -0.3574754901960784, -0.2735294117647076, -0.46958333333333613, -0.36563725490196397, -0.43169117647058997, -0.07774509803921958, 0.056200980392151934, -0.1698529411764742, 0.4040931372548986, 1.12803921568627], \"hoverinfo\": 67}, {\"type\": \"box\", \"y\": [-0.19970588235294162, -0.04691176470588321, -0.0741176470588254, 0.4586764705882356, 0.4114705882352947, 0.4542647058823537, 0.2570588235294107, 0.03985294117646987, -0.1973529411764705, -0.4245588235294129, -0.711764705882354, -0.6789705882352948, -0.6161764705882362, -0.30338235294117766, 0.0694117647058814, 1.5622058823529414], \"hoverinfo\": 68}, {\"type\": \"box\", \"y\": [0.9580000000000055, 0.40600000000000414, -0.025999999999994472, -0.7879999999999949, -0.4399999999999942, -0.9919999999999938, -1.263999999999994, 0.8540000000000081, 1.2920000000000087], \"hoverinfo\": 71}, {\"type\": \"box\", \"y\": [-1.8179999999999925, 2.8540000000000063, -1.2739999999999938, 1.2580000000000027, -1.019999999999996], \"hoverinfo\": 72}, {\"type\": \"box\", \"y\": [1.5622807017543918, 0.6829927760577981, -0.08629514963879714, -0.6855830753353906, -1.1048710010319844, -2.7141589267285795, -3.7634468524251723, -0.3927347781217634, 2.297977296181635, 2.828689370485044, 1.689401444788448, 1.070113519091855, 0.29082559339526526, 0.08153766769866522, 0.9022497420020734, 0.20296181630548205, -0.7863261093911156, -2.075614035087707], \"hoverinfo\": 73}, {\"type\": \"box\", \"y\": [0.977916666666669, 0.5648809523809541, 0.12184523809524084, -0.061190476190473575, -0.15422619047618813, -0.5772619047619019, -0.29029761904761653, 0.04666666666666952, -0.2563690476190441, -0.7094047619047608, -0.6524404761904723, -0.5954761904761874, -1.1585119047619035, -1.2915476190476145, 4.03541666666667], \"hoverinfo\": 74}, {\"type\": \"box\", \"y\": [1.1599166666666711, 1.1705952380952418, 0.8312738095238128, 1.0119523809523852, 0.23263095238095666, -0.34669047619047255, -1.0360119047619012, -1.5353333333333303, -2.224654761904757, -2.1739761904761874, -2.9432976190476126, -0.4726190476190446, 1.3580595238095263, 1.9587380952381004, 3.0094166666666737], \"hoverinfo\": 75}, {\"type\": \"box\", \"y\": [8.500661764705894, 5.722573529411775, 1.3044852941176543, -2.363602941176465, -6.311691176470585, -5.669779411764704, -7.787867647058825, -11.125955882352947, 5.605955882352937, 4.297867647058823, 2.719779411764698, 1.1916911764705702, -2.1263970588235424, 4.945514705882346, 2.0974264705882035, -1.0006617647059102], \"hoverinfo\": 76}, {\"type\": \"box\", \"y\": [-0.5144444444444414, 0.6205555555555584, 0.29555555555555824, -0.01944444444444038, -0.1344444444444406, -0.6194444444444409, 0.25555555555556, -0.01944444444443949, 0.13555555555556076], \"hoverinfo\": 77}, {\"type\": \"box\", \"y\": [1.0216666666666638, 0.16583333333333083, 0.3699999999999992, -0.9458333333333329, -1.8416666666666668, -0.9674999999999976, 1.2466666666666697, 0.950833333333339], \"hoverinfo\": 78}, {\"type\": \"box\", \"y\": [6.135672514619884, 4.397096663226696, 2.288520811833507, 0.6499449604403207, -1.4786308909528678, -3.1072067423460563, -4.095782593739244, -6.324358445132434, -2.282934296525621, -1.8215101479188078, -2.8100859993119975, -1.0786618507051848, -2.10723770209837, 3.9341864465084413, 1.6456105951152509, -0.23296525627793585, -1.691541107671128, 7.9798830409356825], \"hoverinfo\": 79}, {\"type\": \"box\", \"y\": [-2.4580000000000006, 2.171999999999999, 1.7120000000000015, -0.10800000000000054, -1.3179999999999978], \"hoverinfo\": 81}, {\"type\": \"box\", \"y\": [0.07470588235294118, 0.7056617647058827, 0.9066176470588241, 0.4575735294117651, 0.02852941176470658, -0.11051470588235279, -0.12955882352941206, -0.538602941176471, -0.9176470588235297, -1.0066911764705884, -1.0857352941176472, -0.9547794117647062, -0.243823529411765, -0.5728676470588248, 1.578088235294116, 1.8090441176470584], \"hoverinfo\": 82}, {\"type\": \"box\", \"y\": [0.5091666666666645, 0.2715476190476185, 0.08392857142856869, -0.6736904761904761, -0.5813095238095247, -0.5489285714285703, -0.07654761904761997, 1.015833333333335], \"hoverinfo\": 84}, {\"type\": \"box\", \"y\": [0.7208333333333332, 0.10523809523809557, -0.45035714285714246, -1.065952380952381, -0.42154761904761884, 0.7228571428571442, 0.6572619047619046, -0.26833333333333265], \"hoverinfo\": 85}, {\"type\": \"box\", \"y\": [0.29754385964912444, 1.0666563467492276, 0.6657688338493308, 0.27488132094943474, 0.163993808049538, -0.1568937048503587, -0.6377812177502555, -0.6086687306501517, -0.8495562435500483, -0.6904437564499455, -1.1113312693498427, -0.9922187822497381, -0.23310629514963388, -0.18399380804953225, 0.955118679050571, 1.0442311661506753, 0.7433436532507791, 0.2524561403508834], \"hoverinfo\": 86}, {\"type\": \"box\", \"y\": [0.42607843137254964, 0.01568627450980431, 0.13529411764705834, -0.07509803921568636, -0.3854901960784316, -0.1558823529411777, -0.3362745098039239, -0.2466666666666688, -0.6870588235294148, -0.21745098039215982, 0.842156862745095, 0.7617647058823511, 0.6013725490196027, 0.1309803921568573, -0.18941176470588772, -0.30980392156863346, -0.3101960784313782], \"hoverinfo\": 87}, {\"type\": \"box\", \"y\": [-0.008249999999997648, -0.2902142857142831, -1.1021785714285706, -0.9341428571428558, 0.7838928571428561, 1.65192857142857, 0.9099642857142847, 0.45799999999999663, 0.05603571428571108, -0.8259285714285749, -0.0778928571428601, -0.1898571428571465, -0.9018214285714343, 0.6762142857142805, -0.20575000000000898], \"hoverinfo\": 89}, {\"type\": \"box\", \"y\": [-0.05549999999999766, -0.18557142857142583, -0.03564285714285553, -0.7157142857142835, -0.6057857142857133, 1.0141428571428577, 0.7240714285714294, 0.6640000000000015, 0.12392857142857139, -0.08614285714285508, -0.4762142857142848, 0.20371428571428574, -0.4963571428571427, -0.04642857142857082, -0.026500000000000412], \"hoverinfo\": 90}, {\"type\": \"box\", \"y\": [-0.24216666666666686, 0.36890476190476207, 0.20997619047619143, 0.22104761904761983, 0.02211904761904826, -0.09680952380952235, -0.09573809523809462, -0.25466666666666615, -0.19359523809523616, -0.2825238095238092, -0.21145238095238028, 0.03961904761905011, -0.009309523809520215, 0.16176190476190655, 0.3628333333333362], \"hoverinfo\": 91}, {\"type\": \"box\", \"y\": [-1.279999999999998, 0.41628571428571615, 0.49257142857142977, 0.3788571428571439, 0.2651428571428589, 0.1014285714285732, 0.08771428571428785, 0.25400000000000134, 0.060285714285715386, -0.16342857142856992, -0.2171428571428562, -0.24085714285714221, -0.4945714285714278, -0.5782857142857125, 0.918000000000001], \"hoverinfo\": 92}, {\"type\": \"box\", \"y\": [0.736500000000003, -0.015857142857139905, -0.6382142857142821, -1.1905714285714257, -2.1929285714285687, 1.784714285714287, 1.2123571428571474, 0.5700000000000021, -0.03235714285714231, -0.9647142857142814, 1.312928571428575, 1.0605714285714285, 0.028214285714287968, -0.6441428571428531, -1.0264999999999986], \"hoverinfo\": 93}, {\"type\": \"box\", \"y\": [0.3839166666666678, 0.40345238095238223, 0.18298809523809556, -0.04747619047618912, -0.3379404761904752, -0.5684047619047616, 0.03113095238095287, -0.269333333333333, -0.1497976190476189, -0.4102619047619056, 0.05927380952381078, -0.17119047619047656, 0.43834523809523773, 0.18788095238095082, 0.26741666666666575], \"hoverinfo\": 94}, {\"type\": \"box\", \"y\": [-0.03599999999999781, -0.08199999999999807, 0.13200000000000234, 0.1260000000000021, -0.1399999999999988], \"hoverinfo\": 95}, {\"type\": \"box\", \"y\": [0.0400000000000027, -0.15599999999999703, 0.248000000000002, -0.18799999999999795, 0.056000000000001826], \"hoverinfo\": 96}, {\"type\": \"box\", \"y\": [0.05200000000000138, -0.2539999999999978, 0.2400000000000011, 0.07400000000000162, -0.11199999999999743], \"hoverinfo\": 97}, {\"type\": \"box\", \"y\": [0.9860000000000042, -0.2199999999999971, -1.1859999999999946, -0.9119999999999955, 1.3320000000000043], \"hoverinfo\": 99}, {\"type\": \"box\", \"y\": [-0.17999999999999616, 0.20100000000000318, 0.032000000000001805, 0.05300000000000171, -0.10599999999999898], \"hoverinfo\": 100}, {\"type\": \"box\", \"y\": [0.09200000000000408, 0.2640000000000038, -0.34399999999999675, -0.47199999999999775, 0.46000000000000263], \"hoverinfo\": 101}, {\"type\": \"box\", \"y\": [-0.8299999999999947, 0.762000000000004, 0.41400000000000325, 0.20600000000000307, -0.5519999999999978], \"hoverinfo\": 102}, {\"type\": \"box\", \"y\": [-0.12399999999998812, 0.5320000000000142, -0.11199999999999122, -0.8759999999999906, 0.580000000000009], \"hoverinfo\": 103}, {\"type\": \"box\", \"y\": [0.15200000000000147, 0.062000000000001165, -0.17799999999999905, -0.4380000000000006, 0.40200000000000014], \"hoverinfo\": 107}, {\"type\": \"box\", \"y\": [-0.2119999999999984, 0.11200000000000188, 0.24600000000000133, 0.02000000000000135, -0.1659999999999986], \"hoverinfo\": 109}, {\"type\": \"box\", \"y\": [0.5160000000000009, -0.019999999999998685, -0.35599999999999987, -1.291999999999998, 1.152000000000001], \"hoverinfo\": 111}, {\"type\": \"box\", \"y\": [-0.29199999999999626, -0.0919999999999952, 0.6580000000000048, 0.12800000000000544, -0.40199999999999747], \"hoverinfo\": 112}, {\"type\": \"box\", \"y\": [-0.5039999999999996, 0.5670000000000002, 0.018000000000000682, 0.2789999999999999, -0.3600000000000012], \"hoverinfo\": 113}, {\"type\": \"box\", \"y\": [0.16000000000000547, 0.15200000000000458, -0.32599999999999696, -0.44399999999999906, 0.4580000000000002], \"hoverinfo\": 114}, {\"type\": \"box\", \"y\": [-0.129999999999999, 0.3410000000000011, -0.2779999999999987, 0.053000000000000824, 0.014000000000001123], \"hoverinfo\": 115}, {\"type\": \"box\", \"y\": [-0.02299999999999791, -0.010999999999999233, 0.09099999999999753, -0.057000000000003936], \"hoverinfo\": 116}, {\"type\": \"box\", \"y\": [0.266, -0.24099999999999966, -0.31799999999999784, 0.2950000000000026, -0.001999999999997115], \"hoverinfo\": 121}, {\"type\": \"box\", \"y\": [-0.05599999999999916, 0.45500000000000185, -0.2539999999999978, -0.6329999999999982, 0.4880000000000013], \"hoverinfo\": 122}, {\"type\": \"box\", \"y\": [0.3300000000000054, -0.035999999999996035, -0.4519999999999964, -0.3079999999999963, 0.4660000000000011], \"hoverinfo\": 123}, {\"type\": \"box\", \"y\": [2.813999999999993, -0.7040000000000006, -5.132000000000005, 1.1199999999999974, 1.902000000000001], \"hoverinfo\": 124}, {\"type\": \"box\", \"y\": [-0.2179999999999893, 0.3920000000000119, -0.10799999999998988, -0.08799999999999031, 0.022000000000009123], \"hoverinfo\": 125}, {\"type\": \"box\", \"y\": [0.12000000000000277, 0.11400000000000166, -0.11199999999999921, -0.5979999999999999, 0.4759999999999991], \"hoverinfo\": 126}, {\"type\": \"box\", \"y\": [0.0560000000000036, -0.10799999999999788, 0.1280000000000019, -0.1559999999999988, 0.08000000000000007], \"hoverinfo\": 127}, {\"type\": \"box\", \"y\": [0.05800000000000605, -0.0189999999999948, -0.14599999999999635, 0.11700000000000266, -0.00999999999999801], \"hoverinfo\": 129}, {\"type\": \"box\", \"y\": [-0.8579999999999899, 0.5970000000000084, 0.6920000000000073, 0.25700000000000855, -0.6879999999999935], \"hoverinfo\": 132}, {\"type\": \"box\", \"y\": [0.33200000000000074, 0.11900000000000155, -0.6539999999999981, -0.3769999999999971, 0.5800000000000018], \"hoverinfo\": 133}, {\"type\": \"box\", \"y\": [-1.6459999999999955, 2.118000000000004, 0.4320000000000057, -0.6339999999999932, -0.26999999999999247], \"hoverinfo\": 135}, {\"type\": \"box\", \"y\": [-0.011999999999996014, 0.031000000000004135, -0.035999999999996035, 0.0270000000000028, -0.009999999999997122], \"hoverinfo\": 137}, {\"type\": \"box\", \"y\": [0.9860000000000007, 0.2630000000000008, -1.0599999999999996, -2.6129999999999995, 2.4239999999999995], \"hoverinfo\": 138}, {\"type\": \"box\", \"y\": [-1.1999999999999904, 2.0170000000000083, 0.3140000000000107, -1.8789999999999942, 0.7480000000000047], \"hoverinfo\": 139}, {\"type\": \"box\", \"y\": [-0.2790000000000008, 0.31700000000000017, 0.2030000000000003, -0.24100000000000055], \"hoverinfo\": 143}, {\"type\": \"box\", \"y\": [0.046000000000004704, -0.17099999999999582, 0.10200000000000387, 0.12500000000000266, -0.10199999999999854], \"hoverinfo\": 146}, {\"type\": \"box\", \"y\": [-0.041999999999994486, 0.8920000000000048, -0.753999999999996, -0.9999999999999982, 0.9039999999999999], \"hoverinfo\": 147}, {\"type\": \"box\", \"y\": [0.7880000000000038, 0.3030000000000044, -0.6519999999999975, -2.7569999999999997, 2.3180000000000014], \"hoverinfo\": 148}, {\"type\": \"box\", \"y\": [0.8889999999999958, -0.9570000000000043, -0.7530000000000037, 0.8209999999999926], \"hoverinfo\": 149}, {\"type\": \"box\", \"y\": [-0.20399999999999707, -0.26099999999999746, 0.772000000000002, 0.05500000000000149, -0.3619999999999983], \"hoverinfo\": 150}, {\"type\": \"box\", \"y\": [-0.0779999999999994, -0.08799999999999919, -0.1280000000000001, 0.8320000000000025, -0.5379999999999967], \"hoverinfo\": 151}, {\"type\": \"box\", \"y\": [0.3859999999999939, -0.21300000000000452, -0.7320000000000064, 0.558999999999994], \"hoverinfo\": 152}, {\"type\": \"box\", \"y\": [-0.17799999999999905, 0.07700000000000173, 0.37200000000000344, -0.26299999999999635, -0.007999999999995566], \"hoverinfo\": 153}, {\"type\": \"box\", \"y\": [-0.0840000000000014, 0.2579999999999991, -0.25000000000000355, 0.062000000000001165, 0.013999999999999346], \"hoverinfo\": 154}, {\"type\": \"box\", \"y\": [-0.391999999999995, 0.1290000000000049, 0.5700000000000038, 0.04100000000000392, -0.3479999999999954], \"hoverinfo\": 156}], {}, {\"showLink\": true, \"linkText\": \"Export to plot.ly\"})});</script>"
      ],
      "text/vnd.plotly.v1+html": [
       "<div id=\"f637c9b4-1859-4288-9943-1cf121cce215\" style=\"height: 525px; width: 100%;\" class=\"plotly-graph-div\"></div><script type=\"text/javascript\">require([\"plotly\"], function(Plotly) { window.PLOTLYENV=window.PLOTLYENV || {};window.PLOTLYENV.BASE_URL=\"https://plot.ly\";Plotly.newPlot(\"f637c9b4-1859-4288-9943-1cf121cce215\", [{\"type\": \"box\", \"y\": [-0.08799999999999564, -0.2113333333333296, 0.2053333333333356, 0.012000000000001343, -0.031333333333333435, 0.23533333333333317, 0.09199999999999875, 0.028666666666664398, -0.14466666666666939, -0.0980000000000043], \"hoverinfo\": 1}, {\"type\": \"box\", \"y\": [0.6032727272727261, -0.1594545454545475, 0.42781818181817854, 0.2150909090909039, -0.03763636363636991, -0.6503636363636431, -1.3330909090909149, -0.3258181818181871, -0.9985454545454644, 2.2587272727272634], \"hoverinfo\": 2}, {\"type\": \"box\", \"y\": [0.2807272727272738, 0.17278787878787938, 0.054848484848485146, -0.1230909090909087, -0.30103030303030387, -0.42896969696969744, -0.09690909090909194, -0.26484848484848644, 0.487212121212119, 0.21927272727272484], \"hoverinfo\": 3}, {\"type\": \"box\", \"y\": [-0.07781818181818068, -0.18163636363636293, -0.18545454545454554, -0.20927272727272772, 0.21690909090908939, 0.6130909090909071, 0.3592727272727254, 0.12545454545454326, -0.1583636363636396, -0.5021818181818212], \"hoverinfo\": 4}, {\"type\": \"box\", \"y\": [0.386909090909092, 0.27515151515151537, -0.09660606060606103, -0.008363636363637461, -0.2801212121212142, -0.6718787878787911, -0.24363636363636676, 0.04460606060605521, -0.22715151515152066, 0.821090909090902], \"hoverinfo\": 5}, {\"type\": \"box\", \"y\": [-0.016727272727269593, -0.30078787878787594, -0.8648484848484834, 0.6310909090909096, 0.5170303030303032, 0.522969696969696, 0.3789090909090902, -0.08515151515151764, -0.819212121212125, 0.03672727272726917], \"hoverinfo\": 6}, {\"type\": \"box\", \"y\": [0.04818181818182232, 0.06636363636363907, -0.035454545454544295, 0.08272727272727298, -0.22909090909090946, -0.14090909090909243, 0.23727272727272464, -0.02454545454545709, -0.16636363636364138, 0.16181818181817675], \"hoverinfo\": 7}, {\"type\": \"box\", \"y\": [2.4667272727272724, 0.8627878787878771, 0.4488484848484813, -0.655090909090914, -0.6790303030303093, -2.212969696969708, -2.906909090909103, -3.160848484848497, -1.0247878787878903, 6.861272727272713], \"hoverinfo\": 8}, {\"type\": \"box\", \"y\": [-0.06454545454544025, 1.0869090909091028, 0.43836363636364517, 0.009818181818189942, -0.2487272727272689, -1.047272727272727, -1.4358181818181812, -1.7743636363636384, 2.047090909090901, 0.9885454545454451], \"hoverinfo\": 9}, {\"type\": \"box\", \"y\": [0.82222222222223, 0.17305555555556396, -0.5661111111111037, 0.024722222222232304, -0.08444444444443455, -0.9336111111110998, -1.0627777777777663, 0.7480555555555686, 0.8788888888889019], \"hoverinfo\": 10}, {\"type\": \"box\", \"y\": [-0.46781818181818124, 0.17369696969696946, 0.4652121212121205, 0.34672727272727055, 0.15824242424242296, -0.25024242424242704, -0.6087272727272763, -0.1772121212121247, -0.12569696969697297, 0.4858181818181766], \"hoverinfo\": 11}, {\"type\": \"box\", \"y\": [0.17763636363640956, 1.6852727272727606, 1.532909090909115, -2.3994545454545317, -6.461818181818188, 0.025818181818166863, 3.9634545454545105, 3.881090909090858, 1.138727272727209, -3.5436363636364376], \"hoverinfo\": 12}, {\"type\": \"box\", \"y\": [0.9109090909090947, 0.4424848484848516, 0.0540606060606077, -0.44436363636363474, -0.692787878787879, -0.3612121212121231, -0.8896363636363649, -1.3080606060606108, 0.7435151515151457, 1.5450909090909022], \"hoverinfo\": 13}, {\"type\": \"box\", \"y\": [0.8318181818181838, 1.559636363636363, -0.042545454545455996, -1.1647272727272764, -1.9469090909090951, -0.1590909090909136, -0.27127272727273244, -1.6034545454545555, 1.7143636363636254, 1.0821818181818053], \"hoverinfo\": 14}, {\"type\": \"box\", \"y\": [0.7676363636363632, 0.09393939393939377, 0.480242424242423, -0.1334545454545477, -0.7471515151515167, -0.5408484848484871, -1.0945454545454574, -1.218242424242428, 1.3980606060606018, 0.9943636363636337], \"hoverinfo\": 15}, {\"type\": \"box\", \"y\": [0.5254545454545454, -0.03775757575757677, -0.2309696969696997, -0.5741818181818221, -1.107393939393944, 0.4593939393939337, 1.0261818181818114, 0.6329696969696901, -0.010242424242433046, -0.6834545454545538], \"hoverinfo\": 16}, {\"type\": \"box\", \"y\": [3.636000000000008, 1.5261666666666773, -1.553666666666654, -2.7934999999999857, -5.993333333333318, 2.0068333333333506, 1.0270000000000188, -0.582833333333312, 2.7273333333333554], \"hoverinfo\": 17}, {\"type\": \"box\", \"y\": [-0.030181818181813647, 0.048969696969700216, -0.2518787878787849, 0.31727272727272915, 0.3964242424242439, 0.04557575757575805, -0.28527272727272646, -0.5361212121212127, -0.49696969696969795, 0.792181818181815], \"hoverinfo\": 18}, {\"type\": \"box\", \"y\": [-1.2836363636363615, -1.319272727272729, -1.1249090909090924, 2.7794545454545343, 2.3238181818181687, 0.5081818181818036, -1.0774545454545645, 1.4869090909090659, -0.08872727272729719, -2.2043636363636594], \"hoverinfo\": 19}, {\"type\": \"box\", \"y\": [-0.02844444444443983, -0.04244444444443918, -0.08644444444443966, 0.21955555555556128, 0.07555555555556115, -0.06844444444443898, -0.022444444444438716, -0.10644444444443835, 0.05955555555556291], \"hoverinfo\": 20}, {\"type\": \"box\", \"y\": [0.3207272727272752, -0.3698787878787879, 0.5795151515151513, -0.1610909090909125, -0.7816969696969736, 0.14769696969696433, 0.30709090909090087, -0.16351515151515983, -0.29412121212122067, 0.41527272727271836], \"hoverinfo\": 21}, {\"type\": \"box\", \"y\": [0.192181818181818, 0.3803636363636347, -0.2914545454545454, -0.13327272727272899, -0.47509090909091256, -0.6269090909090949, 0.5012727272727222, 0.5894545454545401, 0.2676363636363579, -0.40418181818182575], \"hoverinfo\": 22}, {\"type\": \"box\", \"y\": [-1.430000000000006, -1.1303571428571484, 1.3192857142857104, 1.7889285714285688, 1.158571428571424, 0.17821428571428477, -0.7921428571428599, -1.0925000000000011], \"hoverinfo\": 23}, {\"type\": \"box\", \"y\": [0.059636363636367484, -0.03139393939393731, 0.06757575757576006, -0.033454545454544515, -0.0744848484848486, -0.06551515151515108, -0.16654545454545566, 0.2624242424242409, 0.05139393939393777, -0.06963636363636638], \"hoverinfo\": 24}, {\"type\": \"box\", \"y\": [0.12200000000000166, 0.13899999999999935, -0.6440000000000019, 0.38299999999999557], \"hoverinfo\": 48}, {\"type\": \"box\", \"y\": [-0.6874545454545409, 0.9457575757575807, 0.4289696969697001, -0.15781818181818075, -0.9946060606060598, -0.3013939393939413, 0.8518181818181798, 0.12503030303030016, -0.061757575757578564, -0.14854545454545942], \"hoverinfo\": 49}, {\"type\": \"box\", \"y\": [-0.13109090909090426, -0.12284848484848254, 0.8153939393939407, 0.6836363636363636, -0.19812121212121347, -0.36987878787879325, -1.151636363636369, -0.9633939393939457, 0.20484848484847262, 1.2330909090908975], \"hoverinfo\": 50}, {\"type\": \"box\", \"y\": [0.26822222222222614, 0.0975555555555605, 0.04688888888889409, -0.5137777777777703, 0.09555555555556339, -0.1651111111111021, -0.2157777777777703, 0.003555555555564638, 0.3828888888888997], \"hoverinfo\": 51}, {\"type\": \"box\", \"y\": [0.7209090909090952, 0.235151515151518, -0.5706060606060586, 0.1736363636363638, -0.582121212121212, -1.4278787878787895, 0.6563636363636327, 0.5406060606060556, 0.15484848484847902, 0.09909090909090246], \"hoverinfo\": 52}, {\"type\": \"box\", \"y\": [0.849272727272731, 0.45254545454545614, -0.8641818181818177, -0.4309090909090916, -0.7976363636363661, 0.28563636363636036, 0.25890909090908565, 0.3221818181818108, -1.2045454545454604, 1.1287272727272608], \"hoverinfo\": 53}, {\"type\": \"box\", \"y\": [0.60163636363637, 0.40727272727273345, 0.14290909090909487, -0.35145454545454236, -0.5458181818181806, -0.450181818181818, -0.31454545454545624, -0.7289090909090934, -0.633272727272729, 1.872363636363632], \"hoverinfo\": 54}, {\"type\": \"box\", \"y\": [-0.6691666666666674, 1.2052380952380943, 0.5896428571428558, 0.0040476190476184115, -0.5915476190476205, -1.4371428571428595, -0.8627380952381003, 1.7616666666666632], \"hoverinfo\": 55}, {\"type\": \"box\", \"y\": [-1.4839999999999982, 0.8953333333333333, 1.6946666666666665, 0.7039999999999971, -0.04666666666666863, -0.6473333333333375, -1.588000000000008, -1.2786666666666733, 0.2506666666666604, 1.499999999999993], \"hoverinfo\": 56}, {\"type\": \"box\", \"y\": [0.06727272727273714, 0.013878787878796928, 0.4704848484848547, 0.14709090909091316, 0.043696969696970456, -0.15969696969697011, -0.673090909090913, -1.1864848484848523, -0.07987878787879765, 1.3567272727272623], \"hoverinfo\": 57}, {\"type\": \"box\", \"y\": [-0.4569090909090914, 1.048181818181817, 1.2332727272727269, 0.31836363636363174, -0.396545454545457, -1.41145454545455, -2.016363636363643, -1.4312727272727344, 1.7238181818181744, 1.388909090909081], \"hoverinfo\": 58}, {\"type\": \"box\", \"y\": [3.0069090909090956, 1.6071515151515197, 0.31739393939394134, -0.6723636363636345, -2.1821212121212135, -3.6718787878787893, -4.711636363636369, -0.6113939393939454, 2.8488484848484745, 4.069090909090896], \"hoverinfo\": 59}, {\"type\": \"box\", \"y\": [0.06619047619046547, 0.4110476190476078, -0.22409523809524856, -0.16923809523810363, -0.9643809523809601, 0.8804761904761804], \"hoverinfo\": 60}, {\"type\": \"box\", \"y\": [-0.5880000000000019, 0.14599999999999724, -0.25000000000000355, 0.7939999999999952, 0.357999999999997, 0.17199999999999527, -0.09400000000000652, -0.49000000000000554, -0.1060000000000052, 0.057999999999992724], \"hoverinfo\": 61}, {\"type\": \"box\", \"y\": [1.212727272727272, 0.7561212121212115, 0.019515151515149043, -0.6370909090909116, -1.123696969696974, -1.2903030303030363, -0.43690909090909713, -0.583515151515158, -0.020121212121221532, 2.1032727272727207], \"hoverinfo\": 62}, {\"type\": \"box\", \"y\": [-0.27327272727272955, 2.2827878787878735, 1.0288484848484796, 0.10490909090908396, -0.6690303030303131, -2.2329696969697093, -2.456909090909104, -2.370848484848498, 0.7552121212121037, 3.8312727272727116], \"hoverinfo\": 63}, {\"type\": \"box\", \"y\": [0.25600000000000556, -0.05633333333332757, 0.8713333333333395, 0.31900000000000794, -0.5633333333333255, -1.315666666666658, -1.9279999999999902, 1.5796666666666788, 0.8373333333333441], \"hoverinfo\": 64}, {\"type\": \"box\", \"y\": [-0.07981818181818312, 0.48103030303030003, 0.37187878787878326, 0.022727272727268044, -0.5864242424242487, -0.3255757575757663, -0.4547272727272791, -0.29387878787879984, 0.31696969696968225, 0.5478181818181689], \"hoverinfo\": 65}, {\"type\": \"box\", \"y\": [-0.3118181818181771, 0.0803636363636393, 0.042545454545455996, 0.34472727272727255, 0.09690909090909017, -0.12090909090909285, -0.028727272727275377, -0.02654545454545776, -0.06436363636364284, -0.012181818181826287], \"hoverinfo\": 66}, {\"type\": \"box\", \"y\": [0.9249019607843154, 0.508848039215688, 0.16279411764705998, -0.19325980392156783, -0.15931372549019596, -0.2953676470588249, -0.39142156862745203, -0.3574754901960784, -0.2735294117647076, -0.46958333333333613, -0.36563725490196397, -0.43169117647058997, -0.07774509803921958, 0.056200980392151934, -0.1698529411764742, 0.4040931372548986, 1.12803921568627], \"hoverinfo\": 67}, {\"type\": \"box\", \"y\": [-0.19970588235294162, -0.04691176470588321, -0.0741176470588254, 0.4586764705882356, 0.4114705882352947, 0.4542647058823537, 0.2570588235294107, 0.03985294117646987, -0.1973529411764705, -0.4245588235294129, -0.711764705882354, -0.6789705882352948, -0.6161764705882362, -0.30338235294117766, 0.0694117647058814, 1.5622058823529414], \"hoverinfo\": 68}, {\"type\": \"box\", \"y\": [0.9580000000000055, 0.40600000000000414, -0.025999999999994472, -0.7879999999999949, -0.4399999999999942, -0.9919999999999938, -1.263999999999994, 0.8540000000000081, 1.2920000000000087], \"hoverinfo\": 71}, {\"type\": \"box\", \"y\": [-1.8179999999999925, 2.8540000000000063, -1.2739999999999938, 1.2580000000000027, -1.019999999999996], \"hoverinfo\": 72}, {\"type\": \"box\", \"y\": [1.5622807017543918, 0.6829927760577981, -0.08629514963879714, -0.6855830753353906, -1.1048710010319844, -2.7141589267285795, -3.7634468524251723, -0.3927347781217634, 2.297977296181635, 2.828689370485044, 1.689401444788448, 1.070113519091855, 0.29082559339526526, 0.08153766769866522, 0.9022497420020734, 0.20296181630548205, -0.7863261093911156, -2.075614035087707], \"hoverinfo\": 73}, {\"type\": \"box\", \"y\": [0.977916666666669, 0.5648809523809541, 0.12184523809524084, -0.061190476190473575, -0.15422619047618813, -0.5772619047619019, -0.29029761904761653, 0.04666666666666952, -0.2563690476190441, -0.7094047619047608, -0.6524404761904723, -0.5954761904761874, -1.1585119047619035, -1.2915476190476145, 4.03541666666667], \"hoverinfo\": 74}, {\"type\": \"box\", \"y\": [1.1599166666666711, 1.1705952380952418, 0.8312738095238128, 1.0119523809523852, 0.23263095238095666, -0.34669047619047255, -1.0360119047619012, -1.5353333333333303, -2.224654761904757, -2.1739761904761874, -2.9432976190476126, -0.4726190476190446, 1.3580595238095263, 1.9587380952381004, 3.0094166666666737], \"hoverinfo\": 75}, {\"type\": \"box\", \"y\": [8.500661764705894, 5.722573529411775, 1.3044852941176543, -2.363602941176465, -6.311691176470585, -5.669779411764704, -7.787867647058825, -11.125955882352947, 5.605955882352937, 4.297867647058823, 2.719779411764698, 1.1916911764705702, -2.1263970588235424, 4.945514705882346, 2.0974264705882035, -1.0006617647059102], \"hoverinfo\": 76}, {\"type\": \"box\", \"y\": [-0.5144444444444414, 0.6205555555555584, 0.29555555555555824, -0.01944444444444038, -0.1344444444444406, -0.6194444444444409, 0.25555555555556, -0.01944444444443949, 0.13555555555556076], \"hoverinfo\": 77}, {\"type\": \"box\", \"y\": [1.0216666666666638, 0.16583333333333083, 0.3699999999999992, -0.9458333333333329, -1.8416666666666668, -0.9674999999999976, 1.2466666666666697, 0.950833333333339], \"hoverinfo\": 78}, {\"type\": \"box\", \"y\": [6.135672514619884, 4.397096663226696, 2.288520811833507, 0.6499449604403207, -1.4786308909528678, -3.1072067423460563, -4.095782593739244, -6.324358445132434, -2.282934296525621, -1.8215101479188078, -2.8100859993119975, -1.0786618507051848, -2.10723770209837, 3.9341864465084413, 1.6456105951152509, -0.23296525627793585, -1.691541107671128, 7.9798830409356825], \"hoverinfo\": 79}, {\"type\": \"box\", \"y\": [-2.4580000000000006, 2.171999999999999, 1.7120000000000015, -0.10800000000000054, -1.3179999999999978], \"hoverinfo\": 81}, {\"type\": \"box\", \"y\": [0.07470588235294118, 0.7056617647058827, 0.9066176470588241, 0.4575735294117651, 0.02852941176470658, -0.11051470588235279, -0.12955882352941206, -0.538602941176471, -0.9176470588235297, -1.0066911764705884, -1.0857352941176472, -0.9547794117647062, -0.243823529411765, -0.5728676470588248, 1.578088235294116, 1.8090441176470584], \"hoverinfo\": 82}, {\"type\": \"box\", \"y\": [0.5091666666666645, 0.2715476190476185, 0.08392857142856869, -0.6736904761904761, -0.5813095238095247, -0.5489285714285703, -0.07654761904761997, 1.015833333333335], \"hoverinfo\": 84}, {\"type\": \"box\", \"y\": [0.7208333333333332, 0.10523809523809557, -0.45035714285714246, -1.065952380952381, -0.42154761904761884, 0.7228571428571442, 0.6572619047619046, -0.26833333333333265], \"hoverinfo\": 85}, {\"type\": \"box\", \"y\": [0.29754385964912444, 1.0666563467492276, 0.6657688338493308, 0.27488132094943474, 0.163993808049538, -0.1568937048503587, -0.6377812177502555, -0.6086687306501517, -0.8495562435500483, -0.6904437564499455, -1.1113312693498427, -0.9922187822497381, -0.23310629514963388, -0.18399380804953225, 0.955118679050571, 1.0442311661506753, 0.7433436532507791, 0.2524561403508834], \"hoverinfo\": 86}, {\"type\": \"box\", \"y\": [0.42607843137254964, 0.01568627450980431, 0.13529411764705834, -0.07509803921568636, -0.3854901960784316, -0.1558823529411777, -0.3362745098039239, -0.2466666666666688, -0.6870588235294148, -0.21745098039215982, 0.842156862745095, 0.7617647058823511, 0.6013725490196027, 0.1309803921568573, -0.18941176470588772, -0.30980392156863346, -0.3101960784313782], \"hoverinfo\": 87}, {\"type\": \"box\", \"y\": [-0.008249999999997648, -0.2902142857142831, -1.1021785714285706, -0.9341428571428558, 0.7838928571428561, 1.65192857142857, 0.9099642857142847, 0.45799999999999663, 0.05603571428571108, -0.8259285714285749, -0.0778928571428601, -0.1898571428571465, -0.9018214285714343, 0.6762142857142805, -0.20575000000000898], \"hoverinfo\": 89}, {\"type\": \"box\", \"y\": [-0.05549999999999766, -0.18557142857142583, -0.03564285714285553, -0.7157142857142835, -0.6057857142857133, 1.0141428571428577, 0.7240714285714294, 0.6640000000000015, 0.12392857142857139, -0.08614285714285508, -0.4762142857142848, 0.20371428571428574, -0.4963571428571427, -0.04642857142857082, -0.026500000000000412], \"hoverinfo\": 90}, {\"type\": \"box\", \"y\": [-0.24216666666666686, 0.36890476190476207, 0.20997619047619143, 0.22104761904761983, 0.02211904761904826, -0.09680952380952235, -0.09573809523809462, -0.25466666666666615, -0.19359523809523616, -0.2825238095238092, -0.21145238095238028, 0.03961904761905011, -0.009309523809520215, 0.16176190476190655, 0.3628333333333362], \"hoverinfo\": 91}, {\"type\": \"box\", \"y\": [-1.279999999999998, 0.41628571428571615, 0.49257142857142977, 0.3788571428571439, 0.2651428571428589, 0.1014285714285732, 0.08771428571428785, 0.25400000000000134, 0.060285714285715386, -0.16342857142856992, -0.2171428571428562, -0.24085714285714221, -0.4945714285714278, -0.5782857142857125, 0.918000000000001], \"hoverinfo\": 92}, {\"type\": \"box\", \"y\": [0.736500000000003, -0.015857142857139905, -0.6382142857142821, -1.1905714285714257, -2.1929285714285687, 1.784714285714287, 1.2123571428571474, 0.5700000000000021, -0.03235714285714231, -0.9647142857142814, 1.312928571428575, 1.0605714285714285, 0.028214285714287968, -0.6441428571428531, -1.0264999999999986], \"hoverinfo\": 93}, {\"type\": \"box\", \"y\": [0.3839166666666678, 0.40345238095238223, 0.18298809523809556, -0.04747619047618912, -0.3379404761904752, -0.5684047619047616, 0.03113095238095287, -0.269333333333333, -0.1497976190476189, -0.4102619047619056, 0.05927380952381078, -0.17119047619047656, 0.43834523809523773, 0.18788095238095082, 0.26741666666666575], \"hoverinfo\": 94}, {\"type\": \"box\", \"y\": [-0.03599999999999781, -0.08199999999999807, 0.13200000000000234, 0.1260000000000021, -0.1399999999999988], \"hoverinfo\": 95}, {\"type\": \"box\", \"y\": [0.0400000000000027, -0.15599999999999703, 0.248000000000002, -0.18799999999999795, 0.056000000000001826], \"hoverinfo\": 96}, {\"type\": \"box\", \"y\": [0.05200000000000138, -0.2539999999999978, 0.2400000000000011, 0.07400000000000162, -0.11199999999999743], \"hoverinfo\": 97}, {\"type\": \"box\", \"y\": [0.9860000000000042, -0.2199999999999971, -1.1859999999999946, -0.9119999999999955, 1.3320000000000043], \"hoverinfo\": 99}, {\"type\": \"box\", \"y\": [-0.17999999999999616, 0.20100000000000318, 0.032000000000001805, 0.05300000000000171, -0.10599999999999898], \"hoverinfo\": 100}, {\"type\": \"box\", \"y\": [0.09200000000000408, 0.2640000000000038, -0.34399999999999675, -0.47199999999999775, 0.46000000000000263], \"hoverinfo\": 101}, {\"type\": \"box\", \"y\": [-0.8299999999999947, 0.762000000000004, 0.41400000000000325, 0.20600000000000307, -0.5519999999999978], \"hoverinfo\": 102}, {\"type\": \"box\", \"y\": [-0.12399999999998812, 0.5320000000000142, -0.11199999999999122, -0.8759999999999906, 0.580000000000009], \"hoverinfo\": 103}, {\"type\": \"box\", \"y\": [0.15200000000000147, 0.062000000000001165, -0.17799999999999905, -0.4380000000000006, 0.40200000000000014], \"hoverinfo\": 107}, {\"type\": \"box\", \"y\": [-0.2119999999999984, 0.11200000000000188, 0.24600000000000133, 0.02000000000000135, -0.1659999999999986], \"hoverinfo\": 109}, {\"type\": \"box\", \"y\": [0.5160000000000009, -0.019999999999998685, -0.35599999999999987, -1.291999999999998, 1.152000000000001], \"hoverinfo\": 111}, {\"type\": \"box\", \"y\": [-0.29199999999999626, -0.0919999999999952, 0.6580000000000048, 0.12800000000000544, -0.40199999999999747], \"hoverinfo\": 112}, {\"type\": \"box\", \"y\": [-0.5039999999999996, 0.5670000000000002, 0.018000000000000682, 0.2789999999999999, -0.3600000000000012], \"hoverinfo\": 113}, {\"type\": \"box\", \"y\": [0.16000000000000547, 0.15200000000000458, -0.32599999999999696, -0.44399999999999906, 0.4580000000000002], \"hoverinfo\": 114}, {\"type\": \"box\", \"y\": [-0.129999999999999, 0.3410000000000011, -0.2779999999999987, 0.053000000000000824, 0.014000000000001123], \"hoverinfo\": 115}, {\"type\": \"box\", \"y\": [-0.02299999999999791, -0.010999999999999233, 0.09099999999999753, -0.057000000000003936], \"hoverinfo\": 116}, {\"type\": \"box\", \"y\": [0.266, -0.24099999999999966, -0.31799999999999784, 0.2950000000000026, -0.001999999999997115], \"hoverinfo\": 121}, {\"type\": \"box\", \"y\": [-0.05599999999999916, 0.45500000000000185, -0.2539999999999978, -0.6329999999999982, 0.4880000000000013], \"hoverinfo\": 122}, {\"type\": \"box\", \"y\": [0.3300000000000054, -0.035999999999996035, -0.4519999999999964, -0.3079999999999963, 0.4660000000000011], \"hoverinfo\": 123}, {\"type\": \"box\", \"y\": [2.813999999999993, -0.7040000000000006, -5.132000000000005, 1.1199999999999974, 1.902000000000001], \"hoverinfo\": 124}, {\"type\": \"box\", \"y\": [-0.2179999999999893, 0.3920000000000119, -0.10799999999998988, -0.08799999999999031, 0.022000000000009123], \"hoverinfo\": 125}, {\"type\": \"box\", \"y\": [0.12000000000000277, 0.11400000000000166, -0.11199999999999921, -0.5979999999999999, 0.4759999999999991], \"hoverinfo\": 126}, {\"type\": \"box\", \"y\": [0.0560000000000036, -0.10799999999999788, 0.1280000000000019, -0.1559999999999988, 0.08000000000000007], \"hoverinfo\": 127}, {\"type\": \"box\", \"y\": [0.05800000000000605, -0.0189999999999948, -0.14599999999999635, 0.11700000000000266, -0.00999999999999801], \"hoverinfo\": 129}, {\"type\": \"box\", \"y\": [-0.8579999999999899, 0.5970000000000084, 0.6920000000000073, 0.25700000000000855, -0.6879999999999935], \"hoverinfo\": 132}, {\"type\": \"box\", \"y\": [0.33200000000000074, 0.11900000000000155, -0.6539999999999981, -0.3769999999999971, 0.5800000000000018], \"hoverinfo\": 133}, {\"type\": \"box\", \"y\": [-1.6459999999999955, 2.118000000000004, 0.4320000000000057, -0.6339999999999932, -0.26999999999999247], \"hoverinfo\": 135}, {\"type\": \"box\", \"y\": [-0.011999999999996014, 0.031000000000004135, -0.035999999999996035, 0.0270000000000028, -0.009999999999997122], \"hoverinfo\": 137}, {\"type\": \"box\", \"y\": [0.9860000000000007, 0.2630000000000008, -1.0599999999999996, -2.6129999999999995, 2.4239999999999995], \"hoverinfo\": 138}, {\"type\": \"box\", \"y\": [-1.1999999999999904, 2.0170000000000083, 0.3140000000000107, -1.8789999999999942, 0.7480000000000047], \"hoverinfo\": 139}, {\"type\": \"box\", \"y\": [-0.2790000000000008, 0.31700000000000017, 0.2030000000000003, -0.24100000000000055], \"hoverinfo\": 143}, {\"type\": \"box\", \"y\": [0.046000000000004704, -0.17099999999999582, 0.10200000000000387, 0.12500000000000266, -0.10199999999999854], \"hoverinfo\": 146}, {\"type\": \"box\", \"y\": [-0.041999999999994486, 0.8920000000000048, -0.753999999999996, -0.9999999999999982, 0.9039999999999999], \"hoverinfo\": 147}, {\"type\": \"box\", \"y\": [0.7880000000000038, 0.3030000000000044, -0.6519999999999975, -2.7569999999999997, 2.3180000000000014], \"hoverinfo\": 148}, {\"type\": \"box\", \"y\": [0.8889999999999958, -0.9570000000000043, -0.7530000000000037, 0.8209999999999926], \"hoverinfo\": 149}, {\"type\": \"box\", \"y\": [-0.20399999999999707, -0.26099999999999746, 0.772000000000002, 0.05500000000000149, -0.3619999999999983], \"hoverinfo\": 150}, {\"type\": \"box\", \"y\": [-0.0779999999999994, -0.08799999999999919, -0.1280000000000001, 0.8320000000000025, -0.5379999999999967], \"hoverinfo\": 151}, {\"type\": \"box\", \"y\": [0.3859999999999939, -0.21300000000000452, -0.7320000000000064, 0.558999999999994], \"hoverinfo\": 152}, {\"type\": \"box\", \"y\": [-0.17799999999999905, 0.07700000000000173, 0.37200000000000344, -0.26299999999999635, -0.007999999999995566], \"hoverinfo\": 153}, {\"type\": \"box\", \"y\": [-0.0840000000000014, 0.2579999999999991, -0.25000000000000355, 0.062000000000001165, 0.013999999999999346], \"hoverinfo\": 154}, {\"type\": \"box\", \"y\": [-0.391999999999995, 0.1290000000000049, 0.5700000000000038, 0.04100000000000392, -0.3479999999999954], \"hoverinfo\": 156}], {}, {\"showLink\": true, \"linkText\": \"Export to plot.ly\"})});</script>"
      ]
     },
     "metadata": {},
     "output_type": "display_data"
    }
   ],
   "source": [
    "from sklearn.preprocessing import PolynomialFeatures\n",
    "from sklearn.linear_model import LinearRegression\n",
    "from sklearn.pipeline import Pipeline\n",
    "\n",
    "model = Pipeline([('poly', PolynomialFeatures(degree=1)),('linear', LinearRegression(fit_intercept=False))])\n",
    "\n",
    "errors = []\n",
    "residuals = []\n",
    "for y in male_testosterones:\n",
    "    x = np.arange(len(y))\n",
    "    model = model.fit(np.arange(len(y))[:, np.newaxis], y)\n",
    "    y_hat = model.named_steps['linear'].coef_[0] + model.named_steps['linear'].coef_[1] * x\n",
    "    residual = y - y_hat\n",
    "    error = np.mean((residual) ** 2) ** .5\n",
    "    errors.append(error)\n",
    "    residuals.append(residual)\n",
    "\n",
    "data = [go.Box(y=residual, hoverinfo=residual.index[0]) for residual in residuals]\n",
    "iplot(data)"
   ]
  },
  {
   "cell_type": "code",
   "execution_count": 300,
   "metadata": {},
   "outputs": [
    {
     "data": {
      "text/html": [
       "<div>\n",
       "<style>\n",
       "    .dataframe thead tr:only-child th {\n",
       "        text-align: right;\n",
       "    }\n",
       "\n",
       "    .dataframe thead th {\n",
       "        text-align: left;\n",
       "    }\n",
       "\n",
       "    .dataframe tbody tr th {\n",
       "        vertical-align: top;\n",
       "    }\n",
       "</style>\n",
       "<table border=\"1\" class=\"dataframe\">\n",
       "  <thead>\n",
       "    <tr style=\"text-align: right;\">\n",
       "      <th></th>\n",
       "      <th>0</th>\n",
       "    </tr>\n",
       "  </thead>\n",
       "  <tbody>\n",
       "    <tr>\n",
       "      <th>count</th>\n",
       "      <td>107.000000</td>\n",
       "    </tr>\n",
       "    <tr>\n",
       "      <th>mean</th>\n",
       "      <td>1.353844</td>\n",
       "    </tr>\n",
       "    <tr>\n",
       "      <th>std</th>\n",
       "      <td>3.459832</td>\n",
       "    </tr>\n",
       "    <tr>\n",
       "      <th>min</th>\n",
       "      <td>0.000646</td>\n",
       "    </tr>\n",
       "    <tr>\n",
       "      <th>25%</th>\n",
       "      <td>0.104300</td>\n",
       "    </tr>\n",
       "    <tr>\n",
       "      <th>50%</th>\n",
       "      <td>0.282944</td>\n",
       "    </tr>\n",
       "    <tr>\n",
       "      <th>75%</th>\n",
       "      <td>1.048539</td>\n",
       "    </tr>\n",
       "    <tr>\n",
       "      <th>max</th>\n",
       "      <td>28.863435</td>\n",
       "    </tr>\n",
       "  </tbody>\n",
       "</table>\n",
       "</div>"
      ],
      "text/plain": [
       "                0\n",
       "count  107.000000\n",
       "mean     1.353844\n",
       "std      3.459832\n",
       "min      0.000646\n",
       "25%      0.104300\n",
       "50%      0.282944\n",
       "75%      1.048539\n",
       "max     28.863435"
      ]
     },
     "execution_count": 300,
     "metadata": {},
     "output_type": "execute_result"
    }
   ],
   "source": [
    "total_var = [np.var(res) for res in residuals]\n",
    "DataFrame(total_var).describe()"
   ]
  },
  {
   "cell_type": "markdown",
   "metadata": {},
   "source": [
    "It seems that there are some athletes that do not follow the linear model. This can be confirmed by that fact that for those athletes the linear model has a large variance in the residuals. Another fact that can be easily implied by the distribution of residuals is that we can detect abnormal observations (test results) which fall outside the 99% percentile of the residual distribution. By visually inspecting such cases we confirmed that those test results show a sudden increase compared to the general trend of observations. The next question is that whether we can model rest of athletes with high variance with a non-linear model."
   ]
  },
  {
   "cell_type": "markdown",
   "metadata": {},
   "source": [
    "### What happenes when we model residuals with non-linear models?"
   ]
  },
  {
   "cell_type": "code",
   "execution_count": 311,
   "metadata": {},
   "outputs": [
    {
     "data": {
      "application/vnd.plotly.v1+json": {
       "data": [
        {
         "hoverinfo": 1,
         "type": "box",
         "y": [
          0.05700000000000749,
          -0.16299999999999404,
          0.18116666666666958,
          -0.060499999999998444,
          -0.1280000000000001,
          0.1386666666666665,
          0.019499999999998963,
          0.004499999999998394,
          -0.09633333333333383,
          0.04699999999999971
         ]
        },
        {
         "hoverinfo": 2,
         "type": "box",
         "y": [
          -0.34490909090908417,
          -0.4755151515151468,
          0.5858484848484871,
          0.6891818181818188,
          0.5944848484848464,
          -0.01824242424242506,
          -0.859,
          -0.1677878787878786,
          -1.3146060606060601,
          1.310545454545455
         ]
        },
        {
         "hoverinfo": 3,
         "type": "box",
         "y": [
          -0.08790909090908938,
          0.04990909090909135,
          0.11628787878787872,
          0.06122727272727335,
          -0.055272727272727806,
          -0.1832121212121205,
          0.08740909090909188,
          -0.20340909090908976,
          0.3643333333333354,
          -0.14936363636363215
         ]
        },
        {
         "hoverinfo": 4,
         "type": "box",
         "y": [
          0.2799090909090953,
          -0.062393939393937004,
          -0.24507575757575673,
          -0.38813636363636306,
          -0.021575757575757137,
          0.3746060606060615,
          0.18040909090909274,
          0.06583333333333741,
          -0.03912121212120567,
          -0.14445454545453718
         ]
        },
        {
         "hoverinfo": 5,
         "type": "box",
         "y": [
          -0.15672727272727016,
          0.09393939393939466,
          -0.006000000000000227,
          0.26345454545454494,
          0.08230303030302899,
          -0.30945454545454787,
          0.02818181818181742,
          0.13521212121212045,
          -0.40836363636363515,
          0.27745454545454784
         ]
        },
        {
         "hoverinfo": 6,
         "type": "box",
         "y": [
          0.3632727272727374,
          -0.17412121212120457,
          -0.9281818181818133,
          0.44109090909091186,
          0.26369696969697465,
          0.2696363636363692,
          0.18890909090909958,
          -0.14848484848483778,
          -0.6925454545454386,
          0.41672727272729304
         ]
        },
        {
         "hoverinfo": 7,
         "type": "box",
         "y": [
          -0.026363636363626597,
          0.041515151515158166,
          -0.02303030303029896,
          0.12000000000000277,
          -0.17939393939393788,
          -0.09121212121211997,
          0.2745454545454562,
          -0.012121212121208202,
          -0.19121212121211606,
          0.08727272727273316
         ]
        },
        {
         "hoverinfo": 8,
         "type": "box",
         "y": [
          -1.1973636363636384,
          -0.3585757575757622,
          1.0595303030302965,
          1.1769545454545387,
          1.7636969696969604,
          0.22975757575756717,
          -1.0748636363636415,
          -2.5501666666666694,
          -2.2461515151515172,
          3.197181818181818
         ]
        },
        {
         "hoverinfo": 9,
         "type": "box",
         "y": [
          -1.092272727272702,
          0.7443333333333513,
          0.6096515151515263,
          0.5236818181818244,
          0.4364242424242448,
          -0.3621212121212096,
          -0.9219545454545397,
          -1.6030757575757484,
          1.7045151515151638,
          -0.039181818181795336
         ]
        },
        {
         "hoverinfo": 10,
         "type": "box",
         "y": [
          -0.028787878787875698,
          -0.03969696969696912,
          -0.32296536796536657,
          0.5414069264069266,
          0.5234199134199109,
          -0.4169264069264127,
          -0.8196320346320434,
          0.5353030303030195,
          0.02787878787877318
         ]
        },
        {
         "hoverinfo": 11,
         "type": "box",
         "y": [
          -0.5164545454545397,
          0.15748484848485056,
          0.47331818181818175,
          0.37104545454545246,
          0.19066666666666432,
          -0.2178181818181848,
          -0.5844090909090935,
          -0.16910606060606082,
          -0.1419090909090901,
          0.43718181818182167
         ]
        },
        {
         "hoverinfo": 12,
         "type": "box",
         "y": [
          0.12809090909107113,
          1.668757575757681,
          1.5411666666667259,
          -2.3746818181817844,
          -6.4287878787878725,
          0.058848484848482485,
          3.988227272727272,
          3.8893484848485116,
          1.1222121212121579,
          -3.5931818181817334
         ]
        },
        {
         "hoverinfo": 13,
         "type": "box",
         "y": [
          -0.2972727272727216,
          0.03975757575757832,
          0.2554242424242421,
          0.15972727272727205,
          0.11266666666666403,
          0.44424242424242344,
          -0.28554545454545455,
          -1.1066969696969693,
          0.3407878787878822,
          0.33690909090909926
         ]
        },
        {
         "hoverinfo": 14,
         "type": "box",
         "y": [
          -0.6413636363636277,
          1.0685757575757622,
          0.20298484848484932,
          -0.428136363636364,
          -0.9647878787878792,
          0.8230303030303041,
          0.46531818181818174,
          -1.3579242424242413,
          1.2233030303030326,
          -0.39099999999999824
         ]
        },
        {
         "hoverinfo": 15,
         "type": "box",
         "y": [
          -0.28372727272726905,
          -0.2565151515151509,
          0.6554696969696963,
          0.3922272727272702,
          -0.046242424242427305,
          0.16006060606060402,
          -0.5688636363636395,
          -1.0430151515151511,
          1.0476060606060642,
          -0.0569999999999915
         ]
        },
        {
         "hoverinfo": 16,
         "type": "box",
         "y": [
          0.5350000000000046,
          -0.03457575757575615,
          -0.23256060606060558,
          -0.5789545454545468,
          -1.1137575757575764,
          0.4530303030303031,
          1.0214090909090956,
          0.6313787878787949,
          -0.007060606060594665,
          -0.6739090909090741
         ]
        },
        {
         "hoverinfo": 17,
         "type": "box",
         "y": [
          0.3811515151515241,
          0.7124545454545537,
          -0.6237099567099502,
          -0.817341991341987,
          -3.6684415584415575,
          3.9829913419913403,
          1.9569567099567031,
          -1.3965454545454676,
          -0.5275151515151748
         ]
        },
        {
         "hoverinfo": 18,
         "type": "box",
         "y": [
          -0.14836363636362915,
          0.009575757575762012,
          -0.23218181818181538,
          0.3763636363636387,
          0.47521212121212386,
          0.1243636363636389,
          -0.22618181818181426,
          -0.516424242424236,
          -0.5363636363636282,
          0.6740000000000119
         ]
        },
        {
         "hoverinfo": 19,
         "type": "box",
         "y": [
          0.5590909090909442,
          -0.7050303030302807,
          -1.432030303030281,
          1.8580909090909188,
          1.0953333333333433,
          -0.7203030303030147,
          -1.9988181818181587,
          1.1797878787878986,
          0.5255151515151866,
          -0.3616363636363076
         ]
        },
        {
         "hoverinfo": 20,
         "type": "box",
         "y": [
          0.005696969696971088,
          -0.033909090909089556,
          -0.09619913419913306,
          0.19882683982684135,
          0.0511688311688312,
          -0.08917316017316068,
          -0.03219913419913656,
          -0.09790909090909405,
          0.09369696969696584
         ]
        },
        {
         "hoverinfo": 21,
         "type": "box",
         "y": [
          0.10390909090909872,
          -0.44215151515151163,
          0.6156515151515158,
          -0.052681818181820717,
          -0.637151515151519,
          0.2922424242424224,
          0.4154999999999962,
          -0.1273787878787882,
          -0.3663939393939355,
          0.1984545454545561
         ]
        },
        {
         "hoverinfo": 22,
         "type": "box",
         "y": [
          0.05445454545455419,
          0.3344545454545509,
          -0.26849999999999774,
          -0.0644090909090913,
          -0.38327272727273076,
          -0.5350909090909113,
          0.5701363636363599,
          0.612409090909086,
          0.22172727272727144,
          -0.541909090909094
         ]
        },
        {
         "hoverinfo": 23,
         "type": "box",
         "y": [
          0.18708333333334615,
          -0.8993452380952238,
          0.6262500000000166,
          0.6338690476190649,
          0.003511904761921869,
          -0.514821428571409,
          -0.5611309523809336,
          0.5245833333333536
         ]
        },
        {
         "hoverinfo": 24,
         "type": "box",
         "y": [
          0.022818181818187178,
          -0.04366666666666408,
          0.07371212121212256,
          -0.015045454545454362,
          -0.04993939393939506,
          -0.040969696969696656,
          -0.14813636363636373,
          0.26856060606060783,
          0.039121212121214555,
          -0.10645454545454136
         ]
        },
        {
         "hoverinfo": 48,
         "type": "box",
         "y": [
          -0.13049999999999962,
          0.3914999999999971,
          -0.3915000000000006,
          0.13050000000000317
         ]
        },
        {
         "hoverinfo": 49,
         "type": "box",
         "y": [
          -0.6556363636363489,
          0.9563636363636476,
          0.42366666666667285,
          -0.17372727272726962,
          -1.0158181818181813,
          -0.322606060606061,
          0.8359090909090927,
          0.11972727272727468,
          -0.05115151515150984,
          -0.11672727272726036
         ]
        },
        {
         "hoverinfo": 50,
         "type": "box",
         "y": [
          -0.612909090909076,
          -0.28345454545453386,
          0.8956969696969779,
          0.9245454545454592,
          0.12309090909091402,
          -0.04866666666666397,
          -0.910727272727268,
          -0.8830909090909032,
          0.04424242424243019,
          0.7512727272727382
         ]
        },
        {
         "hoverinfo": 51,
         "type": "box",
         "y": [
          -0.0340000000000078,
          0.02199999999999669,
          0.13323809523809516,
          -0.3302857142857132,
          0.3114285714285714,
          0.018380952380947946,
          -0.12942857142857633,
          -0.07200000000000983,
          0.08066666666664801
         ]
        },
        {
         "hoverinfo": 52,
         "type": "box",
         "y": [
          0.20818181818183046,
          0.06424242424243154,
          -0.4851515151515109,
          0.4300000000000015,
          -0.2403030303030267,
          -1.0860606060606042,
          0.9127272727272757,
          0.6260606060606086,
          -0.016060606060600335,
          -0.41363636363635514
         ]
        },
        {
         "hoverinfo": 53,
         "type": "box",
         "y": [
          0.23700000000001342,
          0.2484545454545568,
          -0.7621363636363565,
          -0.12477272727272037,
          -0.3894545454545426,
          0.6938181818181857,
          0.5650454545454586,
          0.42422727272727556,
          -1.4086363636363615,
          0.5164545454545504
         ]
        },
        {
         "hoverinfo": 54,
         "type": "box",
         "y": [
          -0.35109090909089957,
          0.08969696969697516,
          0.30169696969697135,
          0.12490909090908708,
          0.08933333333332882,
          0.18496969696969323,
          0.16181818181817853,
          -0.5701212121212134,
          -0.950848484848482,
          0.9196363636363714
         ]
        },
        {
         "hoverinfo": 55,
         "type": "box",
         "y": [
          -1.230416666666665,
          1.125059523809524,
          0.8301785714285685,
          0.4049404761904718,
          -0.1906547619047636,
          -1.1966071428571468,
          -0.9429166666666653,
          1.2004166666666656
         ]
        },
        {
         "hoverinfo": 56,
         "type": "box",
         "y": [
          -1.8203636363636253,
          0.7832121212121255,
          1.7507272727272731,
          0.8721818181818151,
          0.1775757575757524,
          -0.42309090909091474,
          -1.4198181818181865,
          -1.222606060606065,
          0.13854545454545075,
          1.1636363636363676
         ]
        },
        {
         "hoverinfo": 57,
         "type": "box",
         "y": [
          -0.44045454545453033,
          -0.15536363636362616,
          0.5551060606060645,
          0.400954545454546,
          0.3821818181818166,
          0.17878787878787783,
          -0.41922727272727656,
          -1.1018636363636354,
          -0.24912121212121008,
          0.8490000000000073
         ]
        },
        {
         "hoverinfo": 58,
         "type": "box",
         "y": [
          -1.5323636363636268,
          0.689696969696973,
          1.4125151515151497,
          0.8560909090909021,
          0.32042424242423806,
          -0.6944848484848549,
          -1.4786363636363689,
          -1.2520303030303062,
          1.3653333333333393,
          0.3134545454545581
         ]
        },
        {
         "hoverinfo": 59,
         "type": "box",
         "y": [
          -1.1399090909090859,
          0.22487878787879012,
          1.0085303030302981,
          1.40104545454545,
          0.582424242424235,
          -0.9073333333333409,
          -2.6382272727272778,
          0.07974242424242206,
          1.4665757575757539,
          -0.07772727272727309
         ]
        },
        {
         "hoverinfo": 60,
         "type": "box",
         "y": [
          -0.3421428571428713,
          0.4927142857142819,
          0.10257142857143009,
          0.15742857142857858,
          -0.8827142857142789,
          0.47214285714285964
         ]
        },
        {
         "hoverinfo": 61,
         "type": "box",
         "y": [
          -0.2889090909090868,
          0.2456969696969704,
          -0.2998484848484875,
          0.6444545454545398,
          0.15860606060605598,
          -0.027393939393945743,
          -0.24354545454546006,
          -0.5398484848484895,
          -0.0063030303030338075,
          0.3570909090909069
         ]
        },
        {
         "hoverinfo": 62,
         "type": "box",
         "y": [
          -0.36954545454545595,
          0.22869696969696918,
          0.2832272727272702,
          0.15404545454545193,
          -0.06884848484848938,
          -0.2354545454545498,
          0.35422727272726817,
          -0.31980303030303503,
          -0.5475454545454603,
          0.5209999999999972
         ]
        },
        {
         "hoverinfo": 63,
         "type": "box",
         "y": [
          -2.4291818181818154,
          1.564151515151515,
          1.388166666666665,
          1.1828636363636331,
          0.768242424242418,
          -0.7956969696969747,
          -1.378954545454551,
          -2.011530303030309,
          0.0365757575757506,
          1.675363636363631
         ]
        },
        {
         "hoverinfo": 64,
         "type": "box",
         "y": [
          -0.5312727272727269,
          -0.2531515151515151,
          1.096268398268398,
          0.796987012987012,
          -0.0009956709956728815,
          -0.8376796536796558,
          -1.7030649350649387,
          1.3828484848484806,
          0.05006060606059748
         ]
        },
        {
         "hoverinfo": 65,
         "type": "box",
         "y": [
          -0.5011818181818146,
          0.340575757575758,
          0.44210606060605784,
          0.23340909090909,
          -0.30551515151515574,
          -0.04466666666666974,
          -0.24404545454545357,
          -0.22365151515151638,
          0.1765151515151544,
          0.12645454545455337
         ]
        },
        {
         "hoverinfo": 66,
         "type": "box",
         "y": [
          -0.18545454545453488,
          0.12248484848485397,
          0.021484848484851327,
          0.2815454545454532,
          0.012666666666664383,
          -0.20515151515151686,
          -0.09190909090909116,
          -0.047606060606058875,
          -0.022242424242421066,
          0.1141818181818266
         ]
        },
        {
         "hoverinfo": 67,
         "type": "box",
         "y": [
          0.1083384932920568,
          -0.0015041279669727459,
          -0.08217492260061476,
          -0.2136738906088711,
          0.003998968008261272,
          0.010843653250779184,
          0.016860165118684378,
          0.11204850361197849,
          0.21640866873065612,
          -5.933952527570341e-05,
          0.04264447884417777,
          -0.12547987616098055,
          0.08556759545924564,
          0.0357868937048611,
          -0.4148219814241365,
          -0.10625902992774883,
          0.31147574819402735
         ]
        },
        {
         "hoverinfo": 68,
         "type": "box",
         "y": [
          -0.5531372549019631,
          -0.25897058823529484,
          -0.1650000000000027,
          0.46877450980392155,
          0.5023529411764684,
          0.6057352941176468,
          0.4489215686274477,
          0.25191176470587884,
          0.014705882352936683,
          -0.23269607843137763,
          -0.5602941176470662,
          -0.5880882352941263,
          -0.6060784313725591,
          -0.39426470588236384,
          -0.14264705882354178,
          1.2087745098039075
         ]
        },
        {
         "hoverinfo": 71,
         "type": "box",
         "y": [
          -0.2662424242424244,
          0.099939393939394,
          0.3237835497835544,
          -0.04470995670995315,
          0.4344588744588762,
          -0.24870995670995732,
          -0.914216450216454,
          0.5479393939393855,
          0.06775757575756103
         ]
        },
        {
         "hoverinfo": 72,
         "type": "box",
         "y": [
          -0.7837142857142698,
          2.3368571428571556,
          -2.308285714285706,
          0.7408571428571378,
          0.014285714285698248
         ]
        },
        {
         "hoverinfo": 73,
         "type": "box",
         "y": [
          1.976578947368429,
          0.9510681114551103,
          0.053835139318881176,
          -0.6551199690402569,
          -1.1657972136223087,
          -2.84819659442727,
          -3.9523181114551384,
          -0.6181617647059205,
          2.054272445820388,
          2.584984520123786,
          1.4639744582042766,
          0.8812422600618532,
          0.15678792569652344,
          0.020611455108280552,
          0.9327128482971254,
          0.3430921052630609,
          -0.5182507739939091,
          -1.661315789473793
         ]
        },
        {
         "hoverinfo": 74,
         "type": "box",
         "y": [
          -0.2729411764705869,
          -0.1498949579831912,
          -0.1393228829993518,
          0.04877504848093306,
          0.2443988364576617,
          0.02754848093083595,
          0.4382239819004532,
          0.816425339366516,
          0.47215255332902384,
          -0.10459437621202738,
          -0.2538154492566296,
          -0.48551066580478874,
          -1.4196800258565059,
          -2.006323529411775,
          2.784558823529398
         ]
        },
        {
         "hoverinfo": 75,
         "type": "box",
         "y": [
          -1.3590294117647055,
          -0.2688025210084035,
          0.305340012928248,
          1.23339819004525,
          1.0353720103425985,
          0.8712614738202955,
          0.431066580478344,
          0.0147873303167394,
          -0.7575762766645155,
          -0.9560242404654229,
          -2.1405565610859796,
          -0.2511732385261922,
          0.8321257272139526,
          0.5193403361344409,
          0.49047058823527934
         ]
        },
        {
         "hoverinfo": 76,
         "type": "box",
         "y": [
          3.843676470588224,
          2.9283823529411634,
          0.10697478991594878,
          -2.230546218487417,
          -5.11418067226893,
          -3.673928571428597,
          -5.259789915966415,
          -8.331764705882385,
          8.4001470588235,
          6.825945378151225,
          4.715630252100809,
          2.3892016806722296,
          -1.9933403361344944,
          3.7480042016806365,
          -0.6967647058824014,
          -5.657647058823585
         ]
        },
        {
         "hoverinfo": 77,
         "type": "box",
         "y": [
          -0.5421212121212116,
          0.6136363636363646,
          0.30346320346320343,
          -0.0026406926406918885,
          -0.11467532467532493,
          -0.6026406926406942,
          0.26346320346319985,
          -0.026363636363641696,
          0.10787878787878036
         ]
        },
        {
         "hoverinfo": 78,
         "type": "box",
         "y": [
          -0.26791666666666636,
          -0.018392857142857544,
          0.9226785714285723,
          -0.02470238095238031,
          -0.9205357142857142,
          -0.4148214285714307,
          1.0624404761904742,
          -0.33875000000000455
         ]
        },
        {
         "hoverinfo": 79,
         "type": "box",
         "y": [
          0.6082456140351002,
          0.8205263157894844,
          0.41894994840042266,
          0.243516511867913,
          -0.6657739938080436,
          -1.318921568627447,
          -1.5759262125902964,
          -3.316787925696593,
          0.9684932920536653,
          1.4299174406604749,
          0.1974845201238331,
          1.4411945304437523,
          -0.3189525283797785,
          4.747043343653246,
          1.2391821465428166,
          -2.1025361197110612,
          -5.268111455108375,
          2.4524561403508542
         ]
        },
        {
         "hoverinfo": 81,
         "type": "box",
         "y": [
          -0.5951428571428505,
          1.2405714285714318,
          -0.15085714285714147,
          -1.03942857142858,
          0.5448571428571256
         ]
        },
        {
         "hoverinfo": 82,
         "type": "box",
         "y": [
          -1.1209436274509836,
          -0.011727941176473689,
          0.5991649159663837,
          0.49173494397758777,
          0.3359821428571399,
          0.40190651260503785,
          0.5195080532212852,
          0.17878676470587784,
          -0.20025735294118086,
          -0.35762429971989285,
          -0.5733140756302566,
          -0.6473266806722746,
          -0.2096621148459441,
          -0.8803203781512678,
          0.8606985294117564,
          0.61339460784313
         ]
        },
        {
         "hoverinfo": 84,
         "type": "box",
         "y": [
          -0.2633333333333372,
          0.16119047619047144,
          0.4149999999999956,
          -0.12190476190476573,
          -0.029523809523812616,
          -0.21785714285714697,
          -0.18690476190476524,
          0.24333333333333051
         ]
        },
        {
         "hoverinfo": 85,
         "type": "box",
         "y": [
          0.28125000000000533,
          0.04244047619047908,
          -0.2619642857142823,
          -0.7519642857142843,
          -0.10755952380952216,
          0.9112500000000008,
          0.5944642857142863,
          -0.7079166666666623
         ]
        },
        {
         "hoverinfo": 86,
         "type": "box",
         "y": [
          -0.7172807017543805,
          0.41000515995872444,
          0.32251934984520414,
          0.20026186790506006,
          0.31323271413828824,
          0.171431888544892,
          -0.17514060887512972,
          -0.0564847781217761,
          -0.25260061919504917,
          -0.0934881320949481,
          -0.5591473168214698,
          -0.5295781733746185,
          0.09521929824560793,
          -0.03475490196079356,
          0.880499226006183,
          0.7009816821465318,
          0.08669246646025641,
          -0.7623684210526438
         ]
        },
        {
         "hoverinfo": 87,
         "type": "box",
         "y": [
          0.41101135190919624,
          0.006269349845212879,
          0.1307739938080612,
          -0.07547471620225821,
          -0.3824767801857467,
          -0.15023219814240374,
          -0.3287409700722277,
          -0.23800309597522062,
          -0.6780185758513824,
          -0.20878740970071075,
          0.8496904024767922,
          0.7674148606811269,
          0.6043859649122911,
          0.13060371517028813,
          -0.1939318885448813,
          -0.3192208462332182,
          -0.3252631578947245
         ]
        },
        {
         "hoverinfo": 89,
         "type": "box",
         "y": [
          0.389176470588235,
          -0.06311344537814989,
          -1.0191994182288298,
          -0.9690814479637986,
          0.6572404654169386,
          1.4597663219133832,
          0.6784961215255354,
          0.2134298642533956,
          -0.1754324499030364,
          -1.0180908209437618,
          -0.20454524886877934,
          -0.22479573367808925,
          -0.8188422753716935,
          0.903315126050412,
          0.19167647058822368
         ]
        },
        {
         "hoverinfo": 90,
         "type": "box",
         "y": [
          0.23155882352941326,
          -0.02153781512604791,
          0.024292501616034023,
          -0.7409502262443404,
          -0.697265998707171,
          0.875345184227541,
          0.5568833225597949,
          0.4873484162895938,
          -0.043259534583063086,
          -0.22494053005817705,
          -0.5676945701357496,
          0.1784783451842209,
          -0.43642178409826116,
          0.11760504201679645,
          0.2605588235293972
         ]
        },
        {
         "hoverinfo": 91,
         "type": "box",
         "y": [
          -0.46785294117647425,
          0.23994117647058566,
          0.16285488041370222,
          0.24088817065287582,
          0.0940410471881048,
          0.012313510019391849,
          0.035705559146734345,
          -0.1157828054298653,
          -0.062151583710408076,
          -0.17340077569489587,
          -0.13953038138332552,
          0.05945959922430255,
          -0.056430833872013864,
          0.03279831932772659,
          0.13714705882352263
         ]
        },
        {
         "hoverinfo": 92,
         "type": "box",
         "y": [
          -1.1249999999999996,
          0.5048571428571433,
          0.5249340659340671,
          0.36523076923076925,
          0.21574725274725282,
          0.026483516483516212,
          -0.0025604395604412744,
          0.1586153846153815,
          -0.02998901098901552,
          -0.23837362637363224,
          -0.2665384615384685,
          -0.25448351648352663,
          -0.46220879120880465,
          -0.4897142857143004,
          1.0729999999999809
         ]
        },
        {
         "hoverinfo": 93,
         "type": "box",
         "y": [
          1.168558823529417,
          0.2310336134453861,
          -0.548004201680663,
          -1.2285546218487307,
          -2.330617647058814,
          1.5758067226890837,
          0.9607184873949635,
          0.3041176470588258,
          -0.283995798319328,
          -1.173621848739499,
          1.175239495798312,
          1.0225882352941014,
          0.11842436974787773,
          -0.3972521008403618,
          -0.594441176470621
         ]
        },
        {
         "hoverinfo": 94,
         "type": "box",
         "y": [
          -0.047676470588235986,
          0.1568277310924362,
          0.09287524240465395,
          -0.009533936651584085,
          -0.20039980607627772,
          -0.35972236586942774,
          0.28249838396896987,
          -0.003737556561089761,
          0.10156981254039543,
          -0.20157950872657526,
          0.19681447963800025,
          -0.1332482223658804,
          0.348232385261781,
          -0.05874369747900943,
          -0.1641764705882558
         ]
        },
        {
         "hoverinfo": 95,
         "type": "box",
         "y": [
          0.058285714285715606,
          -0.12914285714285523,
          0.037714285714286255,
          0.0788571428571414,
          -0.04571428571428893
         ]
        },
        {
         "hoverinfo": 96,
         "type": "box",
         "y": [
          0.03428571428571914,
          -0.15314285714285347,
          0.25371428571428734,
          -0.18514285714285705,
          0.050285714285712046
         ]
        },
        {
         "hoverinfo": 97,
         "type": "box",
         "y": [
          0.11200000000000099,
          -0.28399999999999803,
          0.1800000000000015,
          0.04400000000000137,
          -0.051999999999998714
         ]
        },
        {
         "hoverinfo": 99,
         "type": "box",
         "y": [
          -0.1768571428571395,
          0.36142857142857565,
          -0.023142857142850914,
          -0.3305714285714245,
          0.16914285714285882
         ]
        },
        {
         "hoverinfo": 100,
         "type": "box",
         "y": [
          -0.05285714285713805,
          0.13742857142857545,
          -0.09514285714285453,
          -0.010571428571427788,
          0.021142857142856464
         ]
        },
        {
         "hoverinfo": 101,
         "type": "box",
         "y": [
          -0.19371428571427884,
          0.4068571428571488,
          -0.05828571428570939,
          -0.32914285714285363,
          0.17428571428571082
         ]
        },
        {
         "hoverinfo": 102,
         "type": "box",
         "y": [
          -0.17857142857142172,
          0.4362857142857237,
          -0.23742857142856444,
          -0.11971428571428078,
          0.09942857142857342
         ]
        },
        {
         "hoverinfo": 103,
         "type": "box",
         "y": [
          -0.3354285714285581,
          0.6377142857142957,
          0.0994285714285752,
          -0.7702857142857162,
          0.3685714285714212
         ]
        },
        {
         "hoverinfo": 107,
         "type": "box",
         "y": [
          -0.11085714285714143,
          0.19342857142857195,
          0.08485714285714252,
          -0.3065714285714307,
          0.13914285714285324
         ]
        },
        {
         "hoverinfo": 109,
         "type": "box",
         "y": [
          -0.014857142857140904,
          0.013428571428573566,
          0.04885714285714293,
          -0.07857142857142829,
          0.03114285714285625
         ]
        },
        {
         "hoverinfo": 111,
         "type": "box",
         "y": [
          -0.24971428571428333,
          0.36285714285714565,
          0.40971428571428703,
          -0.9091428571428573,
          0.3862857142857088
         ]
        },
        {
         "hoverinfo": 112,
         "type": "box",
         "y": [
          0.09942857142857164,
          -0.2877142857142889,
          0.26657142857142624,
          -0.06771428571428828,
          -0.010571428571427788
         ]
        },
        {
         "hoverinfo": 113,
         "type": "box",
         "y": [
          -0.13114285714285412,
          0.38057142857143056,
          -0.3548571428571403,
          0.09257142857142675,
          0.012857142857136239
         ]
        },
        {
         "hoverinfo": 114,
         "type": "box",
         "y": [
          -0.15142857142856503,
          0.30771428571429116,
          -0.014571428571426459,
          -0.28828571428571514,
          0.14657142857142347
         ]
        },
        {
         "hoverinfo": 115,
         "type": "box",
         "y": [
          -0.11999999999999744,
          0.33600000000000296,
          -0.2879999999999967,
          0.04800000000000182,
          0.023999999999997357
         ]
        },
        {
         "hoverinfo": 116,
         "type": "box",
         "y": [
          0.017000000000003013,
          -0.05100000000000193,
          0.050999999999996604,
          -0.016999999999995907
         ]
        },
        {
         "hoverinfo": 121,
         "type": "box",
         "y": [
          0.10742857142856899,
          -0.1617142857142877,
          -0.15942857142857303,
          0.374285714285711,
          -0.16057142857143525
         ]
        },
        {
         "hoverinfo": 122,
         "type": "box",
         "y": [
          -0.2774285714285698,
          0.5657142857142885,
          -0.03257142857142714,
          -0.5222857142857151,
          0.26657142857142446
         ]
        },
        {
         "hoverinfo": 123,
         "type": "box",
         "y": [
          -0.07571428571427852,
          0.1668571428571486,
          -0.04628571428571071,
          -0.1051428571428552,
          0.06028571428571183
         ]
        },
        {
         "hoverinfo": 124,
         "type": "box",
         "y": [
          0.059714285714282056,
          0.6731428571428637,
          -2.3777142857142834,
          2.4971428571428476,
          -0.8522857142857418
         ]
        },
        {
         "hoverinfo": 125,
         "type": "box",
         "y": [
          -0.14942857142855637,
          0.35771428571429986,
          -0.17657142857142105,
          -0.12228571428570945,
          0.09057142857142964
         ]
        },
        {
         "hoverinfo": 126,
         "type": "box",
         "y": [
          -0.15142857142857036,
          0.2497142857142869,
          0.15942857142857214,
          -0.46228571428571463,
          0.20457142857142685
         ]
        },
        {
         "hoverinfo": 127,
         "type": "box",
         "y": [
          0.01600000000000268,
          -0.08799999999999741,
          0.1680000000000028,
          -0.13599999999999657,
          0.040000000000004476
         ]
        },
        {
         "hoverinfo": 129,
         "type": "box",
         "y": [
          0.01657142857143512,
          0.0017142857142928847,
          -0.10457142857142365,
          0.13771428571428768,
          -0.05142857142857338
         ]
        },
        {
         "hoverinfo": 132,
         "type": "box",
         "y": [
          -0.09657142857141743,
          0.2162857142857213,
          -0.06942857142856518,
          -0.12371428571428389,
          0.07342857142857184
         ]
        },
        {
         "hoverinfo": 133,
         "type": "box",
         "y": [
          -0.15228571428571325,
          0.361142857142859,
          -0.16971428571428504,
          -0.13485714285714323,
          0.09571428571428164
         ]
        },
        {
         "hoverinfo": 135,
         "type": "box",
         "y": [
          -0.7631428571428458,
          1.6765714285714406,
          -0.4508571428571351,
          -1.0754285714285707,
          0.6128571428571341
         ]
        },
        {
         "hoverinfo": 137,
         "type": "box",
         "y": [
          -0.007714285714282454,
          0.028857142857145135,
          -0.04028571428571226,
          0.02485714285714291,
          -0.005714285714285339
         ]
        },
        {
         "hoverinfo": 138,
         "type": "box",
         "y": [
          -0.6268571428571432,
          1.0694285714285714,
          0.5528571428571416,
          -1.8065714285714307,
          0.8111428571428512
         ]
        },
        {
         "hoverinfo": 139,
         "type": "box",
         "y": [
          -0.9614285714285593,
          1.897714285714292,
          0.07542857142857073,
          -1.9982857142857213,
          0.9865714285714162
         ]
        },
        {
         "hoverinfo": 143,
         "type": "box",
         "y": [
          -0.019000000000002792,
          0.05699999999999861,
          -0.05700000000000127,
          0.019000000000000128
         ]
        },
        {
         "hoverinfo": 146,
         "type": "box",
         "y": [
          0.08457142857143563,
          -0.19028571428570817,
          0.06342857142857383,
          0.10571428571428498,
          -0.06342857142857738
         ]
        },
        {
         "hoverinfo": 147,
         "type": "box",
         "y": [
          -0.5191428571428496,
          1.1305714285714341,
          -0.2768571428571427,
          -0.7614285714285796,
          0.42685714285712706
         ]
        },
        {
         "hoverinfo": 148,
         "type": "box",
         "y": [
          -0.6362857142857088,
          1.0151428571428625,
          0.7722857142857187,
          -2.0448571428571434,
          0.8937142857142817
         ]
        },
        {
         "hoverinfo": 149,
         "type": "box",
         "y": [
          0.03399999999999359,
          -0.1020000000000092,
          0.10199999999999321,
          -0.03400000000000958
         ]
        },
        {
         "hoverinfo": 150,
         "type": "box",
         "y": [
          0.1488571428571479,
          -0.4374285714285655,
          0.41914285714286414,
          -0.12142857142856833,
          -0.009142857142858674
         ]
        },
        {
         "hoverinfo": 151,
         "type": "box",
         "y": [
          0.16771428571428793,
          -0.2108571428571384,
          -0.37371428571428034,
          0.7091428571428597,
          -0.2922857142857165
         ]
        },
        {
         "hoverinfo": 152,
         "type": "box",
         "y": [
          -0.08650000000000624,
          0.25949999999999385,
          -0.2595000000000063,
          0.08649999999999736
         ]
        },
        {
         "hoverinfo": 153,
         "type": "box",
         "y": [
          -0.0451428571428476,
          0.010571428571441999,
          0.23914285714286798,
          -0.32942857142856674,
          0.12485714285713279
         ]
        },
        {
         "hoverinfo": 154,
         "type": "box",
         "y": [
          -0.08971428571428142,
          0.26085714285715156,
          -0.24428571428570933,
          0.06485714285714295,
          0.008285714285701573
         ]
        },
        {
         "hoverinfo": 156,
         "type": "box",
         "y": [
          0.00657142857143711,
          -0.07028571428570629,
          0.17142857142857792,
          -0.1582857142857126,
          0.050571428571426935
         ]
        }
       ],
       "layout": {}
      },
      "text/html": [
       "<div id=\"79dd7762-1867-41ee-b637-0adb897db522\" style=\"height: 525px; width: 100%;\" class=\"plotly-graph-div\"></div><script type=\"text/javascript\">require([\"plotly\"], function(Plotly) { window.PLOTLYENV=window.PLOTLYENV || {};window.PLOTLYENV.BASE_URL=\"https://plot.ly\";Plotly.newPlot(\"79dd7762-1867-41ee-b637-0adb897db522\", [{\"type\": \"box\", \"y\": [0.05700000000000749, -0.16299999999999404, 0.18116666666666958, -0.060499999999998444, -0.1280000000000001, 0.1386666666666665, 0.019499999999998963, 0.004499999999998394, -0.09633333333333383, 0.04699999999999971], \"hoverinfo\": 1}, {\"type\": \"box\", \"y\": [-0.34490909090908417, -0.4755151515151468, 0.5858484848484871, 0.6891818181818188, 0.5944848484848464, -0.01824242424242506, -0.859, -0.1677878787878786, -1.3146060606060601, 1.310545454545455], \"hoverinfo\": 2}, {\"type\": \"box\", \"y\": [-0.08790909090908938, 0.04990909090909135, 0.11628787878787872, 0.06122727272727335, -0.055272727272727806, -0.1832121212121205, 0.08740909090909188, -0.20340909090908976, 0.3643333333333354, -0.14936363636363215], \"hoverinfo\": 3}, {\"type\": \"box\", \"y\": [0.2799090909090953, -0.062393939393937004, -0.24507575757575673, -0.38813636363636306, -0.021575757575757137, 0.3746060606060615, 0.18040909090909274, 0.06583333333333741, -0.03912121212120567, -0.14445454545453718], \"hoverinfo\": 4}, {\"type\": \"box\", \"y\": [-0.15672727272727016, 0.09393939393939466, -0.006000000000000227, 0.26345454545454494, 0.08230303030302899, -0.30945454545454787, 0.02818181818181742, 0.13521212121212045, -0.40836363636363515, 0.27745454545454784], \"hoverinfo\": 5}, {\"type\": \"box\", \"y\": [0.3632727272727374, -0.17412121212120457, -0.9281818181818133, 0.44109090909091186, 0.26369696969697465, 0.2696363636363692, 0.18890909090909958, -0.14848484848483778, -0.6925454545454386, 0.41672727272729304], \"hoverinfo\": 6}, {\"type\": \"box\", \"y\": [-0.026363636363626597, 0.041515151515158166, -0.02303030303029896, 0.12000000000000277, -0.17939393939393788, -0.09121212121211997, 0.2745454545454562, -0.012121212121208202, -0.19121212121211606, 0.08727272727273316], \"hoverinfo\": 7}, {\"type\": \"box\", \"y\": [-1.1973636363636384, -0.3585757575757622, 1.0595303030302965, 1.1769545454545387, 1.7636969696969604, 0.22975757575756717, -1.0748636363636415, -2.5501666666666694, -2.2461515151515172, 3.197181818181818], \"hoverinfo\": 8}, {\"type\": \"box\", \"y\": [-1.092272727272702, 0.7443333333333513, 0.6096515151515263, 0.5236818181818244, 0.4364242424242448, -0.3621212121212096, -0.9219545454545397, -1.6030757575757484, 1.7045151515151638, -0.039181818181795336], \"hoverinfo\": 9}, {\"type\": \"box\", \"y\": [-0.028787878787875698, -0.03969696969696912, -0.32296536796536657, 0.5414069264069266, 0.5234199134199109, -0.4169264069264127, -0.8196320346320434, 0.5353030303030195, 0.02787878787877318], \"hoverinfo\": 10}, {\"type\": \"box\", \"y\": [-0.5164545454545397, 0.15748484848485056, 0.47331818181818175, 0.37104545454545246, 0.19066666666666432, -0.2178181818181848, -0.5844090909090935, -0.16910606060606082, -0.1419090909090901, 0.43718181818182167], \"hoverinfo\": 11}, {\"type\": \"box\", \"y\": [0.12809090909107113, 1.668757575757681, 1.5411666666667259, -2.3746818181817844, -6.4287878787878725, 0.058848484848482485, 3.988227272727272, 3.8893484848485116, 1.1222121212121579, -3.5931818181817334], \"hoverinfo\": 12}, {\"type\": \"box\", \"y\": [-0.2972727272727216, 0.03975757575757832, 0.2554242424242421, 0.15972727272727205, 0.11266666666666403, 0.44424242424242344, -0.28554545454545455, -1.1066969696969693, 0.3407878787878822, 0.33690909090909926], \"hoverinfo\": 13}, {\"type\": \"box\", \"y\": [-0.6413636363636277, 1.0685757575757622, 0.20298484848484932, -0.428136363636364, -0.9647878787878792, 0.8230303030303041, 0.46531818181818174, -1.3579242424242413, 1.2233030303030326, -0.39099999999999824], \"hoverinfo\": 14}, {\"type\": \"box\", \"y\": [-0.28372727272726905, -0.2565151515151509, 0.6554696969696963, 0.3922272727272702, -0.046242424242427305, 0.16006060606060402, -0.5688636363636395, -1.0430151515151511, 1.0476060606060642, -0.0569999999999915], \"hoverinfo\": 15}, {\"type\": \"box\", \"y\": [0.5350000000000046, -0.03457575757575615, -0.23256060606060558, -0.5789545454545468, -1.1137575757575764, 0.4530303030303031, 1.0214090909090956, 0.6313787878787949, -0.007060606060594665, -0.6739090909090741], \"hoverinfo\": 16}, {\"type\": \"box\", \"y\": [0.3811515151515241, 0.7124545454545537, -0.6237099567099502, -0.817341991341987, -3.6684415584415575, 3.9829913419913403, 1.9569567099567031, -1.3965454545454676, -0.5275151515151748], \"hoverinfo\": 17}, {\"type\": \"box\", \"y\": [-0.14836363636362915, 0.009575757575762012, -0.23218181818181538, 0.3763636363636387, 0.47521212121212386, 0.1243636363636389, -0.22618181818181426, -0.516424242424236, -0.5363636363636282, 0.6740000000000119], \"hoverinfo\": 18}, {\"type\": \"box\", \"y\": [0.5590909090909442, -0.7050303030302807, -1.432030303030281, 1.8580909090909188, 1.0953333333333433, -0.7203030303030147, -1.9988181818181587, 1.1797878787878986, 0.5255151515151866, -0.3616363636363076], \"hoverinfo\": 19}, {\"type\": \"box\", \"y\": [0.005696969696971088, -0.033909090909089556, -0.09619913419913306, 0.19882683982684135, 0.0511688311688312, -0.08917316017316068, -0.03219913419913656, -0.09790909090909405, 0.09369696969696584], \"hoverinfo\": 20}, {\"type\": \"box\", \"y\": [0.10390909090909872, -0.44215151515151163, 0.6156515151515158, -0.052681818181820717, -0.637151515151519, 0.2922424242424224, 0.4154999999999962, -0.1273787878787882, -0.3663939393939355, 0.1984545454545561], \"hoverinfo\": 21}, {\"type\": \"box\", \"y\": [0.05445454545455419, 0.3344545454545509, -0.26849999999999774, -0.0644090909090913, -0.38327272727273076, -0.5350909090909113, 0.5701363636363599, 0.612409090909086, 0.22172727272727144, -0.541909090909094], \"hoverinfo\": 22}, {\"type\": \"box\", \"y\": [0.18708333333334615, -0.8993452380952238, 0.6262500000000166, 0.6338690476190649, 0.003511904761921869, -0.514821428571409, -0.5611309523809336, 0.5245833333333536], \"hoverinfo\": 23}, {\"type\": \"box\", \"y\": [0.022818181818187178, -0.04366666666666408, 0.07371212121212256, -0.015045454545454362, -0.04993939393939506, -0.040969696969696656, -0.14813636363636373, 0.26856060606060783, 0.039121212121214555, -0.10645454545454136], \"hoverinfo\": 24}, {\"type\": \"box\", \"y\": [-0.13049999999999962, 0.3914999999999971, -0.3915000000000006, 0.13050000000000317], \"hoverinfo\": 48}, {\"type\": \"box\", \"y\": [-0.6556363636363489, 0.9563636363636476, 0.42366666666667285, -0.17372727272726962, -1.0158181818181813, -0.322606060606061, 0.8359090909090927, 0.11972727272727468, -0.05115151515150984, -0.11672727272726036], \"hoverinfo\": 49}, {\"type\": \"box\", \"y\": [-0.612909090909076, -0.28345454545453386, 0.8956969696969779, 0.9245454545454592, 0.12309090909091402, -0.04866666666666397, -0.910727272727268, -0.8830909090909032, 0.04424242424243019, 0.7512727272727382], \"hoverinfo\": 50}, {\"type\": \"box\", \"y\": [-0.0340000000000078, 0.02199999999999669, 0.13323809523809516, -0.3302857142857132, 0.3114285714285714, 0.018380952380947946, -0.12942857142857633, -0.07200000000000983, 0.08066666666664801], \"hoverinfo\": 51}, {\"type\": \"box\", \"y\": [0.20818181818183046, 0.06424242424243154, -0.4851515151515109, 0.4300000000000015, -0.2403030303030267, -1.0860606060606042, 0.9127272727272757, 0.6260606060606086, -0.016060606060600335, -0.41363636363635514], \"hoverinfo\": 52}, {\"type\": \"box\", \"y\": [0.23700000000001342, 0.2484545454545568, -0.7621363636363565, -0.12477272727272037, -0.3894545454545426, 0.6938181818181857, 0.5650454545454586, 0.42422727272727556, -1.4086363636363615, 0.5164545454545504], \"hoverinfo\": 53}, {\"type\": \"box\", \"y\": [-0.35109090909089957, 0.08969696969697516, 0.30169696969697135, 0.12490909090908708, 0.08933333333332882, 0.18496969696969323, 0.16181818181817853, -0.5701212121212134, -0.950848484848482, 0.9196363636363714], \"hoverinfo\": 54}, {\"type\": \"box\", \"y\": [-1.230416666666665, 1.125059523809524, 0.8301785714285685, 0.4049404761904718, -0.1906547619047636, -1.1966071428571468, -0.9429166666666653, 1.2004166666666656], \"hoverinfo\": 55}, {\"type\": \"box\", \"y\": [-1.8203636363636253, 0.7832121212121255, 1.7507272727272731, 0.8721818181818151, 0.1775757575757524, -0.42309090909091474, -1.4198181818181865, -1.222606060606065, 0.13854545454545075, 1.1636363636363676], \"hoverinfo\": 56}, {\"type\": \"box\", \"y\": [-0.44045454545453033, -0.15536363636362616, 0.5551060606060645, 0.400954545454546, 0.3821818181818166, 0.17878787878787783, -0.41922727272727656, -1.1018636363636354, -0.24912121212121008, 0.8490000000000073], \"hoverinfo\": 57}, {\"type\": \"box\", \"y\": [-1.5323636363636268, 0.689696969696973, 1.4125151515151497, 0.8560909090909021, 0.32042424242423806, -0.6944848484848549, -1.4786363636363689, -1.2520303030303062, 1.3653333333333393, 0.3134545454545581], \"hoverinfo\": 58}, {\"type\": \"box\", \"y\": [-1.1399090909090859, 0.22487878787879012, 1.0085303030302981, 1.40104545454545, 0.582424242424235, -0.9073333333333409, -2.6382272727272778, 0.07974242424242206, 1.4665757575757539, -0.07772727272727309], \"hoverinfo\": 59}, {\"type\": \"box\", \"y\": [-0.3421428571428713, 0.4927142857142819, 0.10257142857143009, 0.15742857142857858, -0.8827142857142789, 0.47214285714285964], \"hoverinfo\": 60}, {\"type\": \"box\", \"y\": [-0.2889090909090868, 0.2456969696969704, -0.2998484848484875, 0.6444545454545398, 0.15860606060605598, -0.027393939393945743, -0.24354545454546006, -0.5398484848484895, -0.0063030303030338075, 0.3570909090909069], \"hoverinfo\": 61}, {\"type\": \"box\", \"y\": [-0.36954545454545595, 0.22869696969696918, 0.2832272727272702, 0.15404545454545193, -0.06884848484848938, -0.2354545454545498, 0.35422727272726817, -0.31980303030303503, -0.5475454545454603, 0.5209999999999972], \"hoverinfo\": 62}, {\"type\": \"box\", \"y\": [-2.4291818181818154, 1.564151515151515, 1.388166666666665, 1.1828636363636331, 0.768242424242418, -0.7956969696969747, -1.378954545454551, -2.011530303030309, 0.0365757575757506, 1.675363636363631], \"hoverinfo\": 63}, {\"type\": \"box\", \"y\": [-0.5312727272727269, -0.2531515151515151, 1.096268398268398, 0.796987012987012, -0.0009956709956728815, -0.8376796536796558, -1.7030649350649387, 1.3828484848484806, 0.05006060606059748], \"hoverinfo\": 64}, {\"type\": \"box\", \"y\": [-0.5011818181818146, 0.340575757575758, 0.44210606060605784, 0.23340909090909, -0.30551515151515574, -0.04466666666666974, -0.24404545454545357, -0.22365151515151638, 0.1765151515151544, 0.12645454545455337], \"hoverinfo\": 65}, {\"type\": \"box\", \"y\": [-0.18545454545453488, 0.12248484848485397, 0.021484848484851327, 0.2815454545454532, 0.012666666666664383, -0.20515151515151686, -0.09190909090909116, -0.047606060606058875, -0.022242424242421066, 0.1141818181818266], \"hoverinfo\": 66}, {\"type\": \"box\", \"y\": [0.1083384932920568, -0.0015041279669727459, -0.08217492260061476, -0.2136738906088711, 0.003998968008261272, 0.010843653250779184, 0.016860165118684378, 0.11204850361197849, 0.21640866873065612, -5.933952527570341e-05, 0.04264447884417777, -0.12547987616098055, 0.08556759545924564, 0.0357868937048611, -0.4148219814241365, -0.10625902992774883, 0.31147574819402735], \"hoverinfo\": 67}, {\"type\": \"box\", \"y\": [-0.5531372549019631, -0.25897058823529484, -0.1650000000000027, 0.46877450980392155, 0.5023529411764684, 0.6057352941176468, 0.4489215686274477, 0.25191176470587884, 0.014705882352936683, -0.23269607843137763, -0.5602941176470662, -0.5880882352941263, -0.6060784313725591, -0.39426470588236384, -0.14264705882354178, 1.2087745098039075], \"hoverinfo\": 68}, {\"type\": \"box\", \"y\": [-0.2662424242424244, 0.099939393939394, 0.3237835497835544, -0.04470995670995315, 0.4344588744588762, -0.24870995670995732, -0.914216450216454, 0.5479393939393855, 0.06775757575756103], \"hoverinfo\": 71}, {\"type\": \"box\", \"y\": [-0.7837142857142698, 2.3368571428571556, -2.308285714285706, 0.7408571428571378, 0.014285714285698248], \"hoverinfo\": 72}, {\"type\": \"box\", \"y\": [1.976578947368429, 0.9510681114551103, 0.053835139318881176, -0.6551199690402569, -1.1657972136223087, -2.84819659442727, -3.9523181114551384, -0.6181617647059205, 2.054272445820388, 2.584984520123786, 1.4639744582042766, 0.8812422600618532, 0.15678792569652344, 0.020611455108280552, 0.9327128482971254, 0.3430921052630609, -0.5182507739939091, -1.661315789473793], \"hoverinfo\": 73}, {\"type\": \"box\", \"y\": [-0.2729411764705869, -0.1498949579831912, -0.1393228829993518, 0.04877504848093306, 0.2443988364576617, 0.02754848093083595, 0.4382239819004532, 0.816425339366516, 0.47215255332902384, -0.10459437621202738, -0.2538154492566296, -0.48551066580478874, -1.4196800258565059, -2.006323529411775, 2.784558823529398], \"hoverinfo\": 74}, {\"type\": \"box\", \"y\": [-1.3590294117647055, -0.2688025210084035, 0.305340012928248, 1.23339819004525, 1.0353720103425985, 0.8712614738202955, 0.431066580478344, 0.0147873303167394, -0.7575762766645155, -0.9560242404654229, -2.1405565610859796, -0.2511732385261922, 0.8321257272139526, 0.5193403361344409, 0.49047058823527934], \"hoverinfo\": 75}, {\"type\": \"box\", \"y\": [3.843676470588224, 2.9283823529411634, 0.10697478991594878, -2.230546218487417, -5.11418067226893, -3.673928571428597, -5.259789915966415, -8.331764705882385, 8.4001470588235, 6.825945378151225, 4.715630252100809, 2.3892016806722296, -1.9933403361344944, 3.7480042016806365, -0.6967647058824014, -5.657647058823585], \"hoverinfo\": 76}, {\"type\": \"box\", \"y\": [-0.5421212121212116, 0.6136363636363646, 0.30346320346320343, -0.0026406926406918885, -0.11467532467532493, -0.6026406926406942, 0.26346320346319985, -0.026363636363641696, 0.10787878787878036], \"hoverinfo\": 77}, {\"type\": \"box\", \"y\": [-0.26791666666666636, -0.018392857142857544, 0.9226785714285723, -0.02470238095238031, -0.9205357142857142, -0.4148214285714307, 1.0624404761904742, -0.33875000000000455], \"hoverinfo\": 78}, {\"type\": \"box\", \"y\": [0.6082456140351002, 0.8205263157894844, 0.41894994840042266, 0.243516511867913, -0.6657739938080436, -1.318921568627447, -1.5759262125902964, -3.316787925696593, 0.9684932920536653, 1.4299174406604749, 0.1974845201238331, 1.4411945304437523, -0.3189525283797785, 4.747043343653246, 1.2391821465428166, -2.1025361197110612, -5.268111455108375, 2.4524561403508542], \"hoverinfo\": 79}, {\"type\": \"box\", \"y\": [-0.5951428571428505, 1.2405714285714318, -0.15085714285714147, -1.03942857142858, 0.5448571428571256], \"hoverinfo\": 81}, {\"type\": \"box\", \"y\": [-1.1209436274509836, -0.011727941176473689, 0.5991649159663837, 0.49173494397758777, 0.3359821428571399, 0.40190651260503785, 0.5195080532212852, 0.17878676470587784, -0.20025735294118086, -0.35762429971989285, -0.5733140756302566, -0.6473266806722746, -0.2096621148459441, -0.8803203781512678, 0.8606985294117564, 0.61339460784313], \"hoverinfo\": 82}, {\"type\": \"box\", \"y\": [-0.2633333333333372, 0.16119047619047144, 0.4149999999999956, -0.12190476190476573, -0.029523809523812616, -0.21785714285714697, -0.18690476190476524, 0.24333333333333051], \"hoverinfo\": 84}, {\"type\": \"box\", \"y\": [0.28125000000000533, 0.04244047619047908, -0.2619642857142823, -0.7519642857142843, -0.10755952380952216, 0.9112500000000008, 0.5944642857142863, -0.7079166666666623], \"hoverinfo\": 85}, {\"type\": \"box\", \"y\": [-0.7172807017543805, 0.41000515995872444, 0.32251934984520414, 0.20026186790506006, 0.31323271413828824, 0.171431888544892, -0.17514060887512972, -0.0564847781217761, -0.25260061919504917, -0.0934881320949481, -0.5591473168214698, -0.5295781733746185, 0.09521929824560793, -0.03475490196079356, 0.880499226006183, 0.7009816821465318, 0.08669246646025641, -0.7623684210526438], \"hoverinfo\": 86}, {\"type\": \"box\", \"y\": [0.41101135190919624, 0.006269349845212879, 0.1307739938080612, -0.07547471620225821, -0.3824767801857467, -0.15023219814240374, -0.3287409700722277, -0.23800309597522062, -0.6780185758513824, -0.20878740970071075, 0.8496904024767922, 0.7674148606811269, 0.6043859649122911, 0.13060371517028813, -0.1939318885448813, -0.3192208462332182, -0.3252631578947245], \"hoverinfo\": 87}, {\"type\": \"box\", \"y\": [0.389176470588235, -0.06311344537814989, -1.0191994182288298, -0.9690814479637986, 0.6572404654169386, 1.4597663219133832, 0.6784961215255354, 0.2134298642533956, -0.1754324499030364, -1.0180908209437618, -0.20454524886877934, -0.22479573367808925, -0.8188422753716935, 0.903315126050412, 0.19167647058822368], \"hoverinfo\": 89}, {\"type\": \"box\", \"y\": [0.23155882352941326, -0.02153781512604791, 0.024292501616034023, -0.7409502262443404, -0.697265998707171, 0.875345184227541, 0.5568833225597949, 0.4873484162895938, -0.043259534583063086, -0.22494053005817705, -0.5676945701357496, 0.1784783451842209, -0.43642178409826116, 0.11760504201679645, 0.2605588235293972], \"hoverinfo\": 90}, {\"type\": \"box\", \"y\": [-0.46785294117647425, 0.23994117647058566, 0.16285488041370222, 0.24088817065287582, 0.0940410471881048, 0.012313510019391849, 0.035705559146734345, -0.1157828054298653, -0.062151583710408076, -0.17340077569489587, -0.13953038138332552, 0.05945959922430255, -0.056430833872013864, 0.03279831932772659, 0.13714705882352263], \"hoverinfo\": 91}, {\"type\": \"box\", \"y\": [-1.1249999999999996, 0.5048571428571433, 0.5249340659340671, 0.36523076923076925, 0.21574725274725282, 0.026483516483516212, -0.0025604395604412744, 0.1586153846153815, -0.02998901098901552, -0.23837362637363224, -0.2665384615384685, -0.25448351648352663, -0.46220879120880465, -0.4897142857143004, 1.0729999999999809], \"hoverinfo\": 92}, {\"type\": \"box\", \"y\": [1.168558823529417, 0.2310336134453861, -0.548004201680663, -1.2285546218487307, -2.330617647058814, 1.5758067226890837, 0.9607184873949635, 0.3041176470588258, -0.283995798319328, -1.173621848739499, 1.175239495798312, 1.0225882352941014, 0.11842436974787773, -0.3972521008403618, -0.594441176470621], \"hoverinfo\": 93}, {\"type\": \"box\", \"y\": [-0.047676470588235986, 0.1568277310924362, 0.09287524240465395, -0.009533936651584085, -0.20039980607627772, -0.35972236586942774, 0.28249838396896987, -0.003737556561089761, 0.10156981254039543, -0.20157950872657526, 0.19681447963800025, -0.1332482223658804, 0.348232385261781, -0.05874369747900943, -0.1641764705882558], \"hoverinfo\": 94}, {\"type\": \"box\", \"y\": [0.058285714285715606, -0.12914285714285523, 0.037714285714286255, 0.0788571428571414, -0.04571428571428893], \"hoverinfo\": 95}, {\"type\": \"box\", \"y\": [0.03428571428571914, -0.15314285714285347, 0.25371428571428734, -0.18514285714285705, 0.050285714285712046], \"hoverinfo\": 96}, {\"type\": \"box\", \"y\": [0.11200000000000099, -0.28399999999999803, 0.1800000000000015, 0.04400000000000137, -0.051999999999998714], \"hoverinfo\": 97}, {\"type\": \"box\", \"y\": [-0.1768571428571395, 0.36142857142857565, -0.023142857142850914, -0.3305714285714245, 0.16914285714285882], \"hoverinfo\": 99}, {\"type\": \"box\", \"y\": [-0.05285714285713805, 0.13742857142857545, -0.09514285714285453, -0.010571428571427788, 0.021142857142856464], \"hoverinfo\": 100}, {\"type\": \"box\", \"y\": [-0.19371428571427884, 0.4068571428571488, -0.05828571428570939, -0.32914285714285363, 0.17428571428571082], \"hoverinfo\": 101}, {\"type\": \"box\", \"y\": [-0.17857142857142172, 0.4362857142857237, -0.23742857142856444, -0.11971428571428078, 0.09942857142857342], \"hoverinfo\": 102}, {\"type\": \"box\", \"y\": [-0.3354285714285581, 0.6377142857142957, 0.0994285714285752, -0.7702857142857162, 0.3685714285714212], \"hoverinfo\": 103}, {\"type\": \"box\", \"y\": [-0.11085714285714143, 0.19342857142857195, 0.08485714285714252, -0.3065714285714307, 0.13914285714285324], \"hoverinfo\": 107}, {\"type\": \"box\", \"y\": [-0.014857142857140904, 0.013428571428573566, 0.04885714285714293, -0.07857142857142829, 0.03114285714285625], \"hoverinfo\": 109}, {\"type\": \"box\", \"y\": [-0.24971428571428333, 0.36285714285714565, 0.40971428571428703, -0.9091428571428573, 0.3862857142857088], \"hoverinfo\": 111}, {\"type\": \"box\", \"y\": [0.09942857142857164, -0.2877142857142889, 0.26657142857142624, -0.06771428571428828, -0.010571428571427788], \"hoverinfo\": 112}, {\"type\": \"box\", \"y\": [-0.13114285714285412, 0.38057142857143056, -0.3548571428571403, 0.09257142857142675, 0.012857142857136239], \"hoverinfo\": 113}, {\"type\": \"box\", \"y\": [-0.15142857142856503, 0.30771428571429116, -0.014571428571426459, -0.28828571428571514, 0.14657142857142347], \"hoverinfo\": 114}, {\"type\": \"box\", \"y\": [-0.11999999999999744, 0.33600000000000296, -0.2879999999999967, 0.04800000000000182, 0.023999999999997357], \"hoverinfo\": 115}, {\"type\": \"box\", \"y\": [0.017000000000003013, -0.05100000000000193, 0.050999999999996604, -0.016999999999995907], \"hoverinfo\": 116}, {\"type\": \"box\", \"y\": [0.10742857142856899, -0.1617142857142877, -0.15942857142857303, 0.374285714285711, -0.16057142857143525], \"hoverinfo\": 121}, {\"type\": \"box\", \"y\": [-0.2774285714285698, 0.5657142857142885, -0.03257142857142714, -0.5222857142857151, 0.26657142857142446], \"hoverinfo\": 122}, {\"type\": \"box\", \"y\": [-0.07571428571427852, 0.1668571428571486, -0.04628571428571071, -0.1051428571428552, 0.06028571428571183], \"hoverinfo\": 123}, {\"type\": \"box\", \"y\": [0.059714285714282056, 0.6731428571428637, -2.3777142857142834, 2.4971428571428476, -0.8522857142857418], \"hoverinfo\": 124}, {\"type\": \"box\", \"y\": [-0.14942857142855637, 0.35771428571429986, -0.17657142857142105, -0.12228571428570945, 0.09057142857142964], \"hoverinfo\": 125}, {\"type\": \"box\", \"y\": [-0.15142857142857036, 0.2497142857142869, 0.15942857142857214, -0.46228571428571463, 0.20457142857142685], \"hoverinfo\": 126}, {\"type\": \"box\", \"y\": [0.01600000000000268, -0.08799999999999741, 0.1680000000000028, -0.13599999999999657, 0.040000000000004476], \"hoverinfo\": 127}, {\"type\": \"box\", \"y\": [0.01657142857143512, 0.0017142857142928847, -0.10457142857142365, 0.13771428571428768, -0.05142857142857338], \"hoverinfo\": 129}, {\"type\": \"box\", \"y\": [-0.09657142857141743, 0.2162857142857213, -0.06942857142856518, -0.12371428571428389, 0.07342857142857184], \"hoverinfo\": 132}, {\"type\": \"box\", \"y\": [-0.15228571428571325, 0.361142857142859, -0.16971428571428504, -0.13485714285714323, 0.09571428571428164], \"hoverinfo\": 133}, {\"type\": \"box\", \"y\": [-0.7631428571428458, 1.6765714285714406, -0.4508571428571351, -1.0754285714285707, 0.6128571428571341], \"hoverinfo\": 135}, {\"type\": \"box\", \"y\": [-0.007714285714282454, 0.028857142857145135, -0.04028571428571226, 0.02485714285714291, -0.005714285714285339], \"hoverinfo\": 137}, {\"type\": \"box\", \"y\": [-0.6268571428571432, 1.0694285714285714, 0.5528571428571416, -1.8065714285714307, 0.8111428571428512], \"hoverinfo\": 138}, {\"type\": \"box\", \"y\": [-0.9614285714285593, 1.897714285714292, 0.07542857142857073, -1.9982857142857213, 0.9865714285714162], \"hoverinfo\": 139}, {\"type\": \"box\", \"y\": [-0.019000000000002792, 0.05699999999999861, -0.05700000000000127, 0.019000000000000128], \"hoverinfo\": 143}, {\"type\": \"box\", \"y\": [0.08457142857143563, -0.19028571428570817, 0.06342857142857383, 0.10571428571428498, -0.06342857142857738], \"hoverinfo\": 146}, {\"type\": \"box\", \"y\": [-0.5191428571428496, 1.1305714285714341, -0.2768571428571427, -0.7614285714285796, 0.42685714285712706], \"hoverinfo\": 147}, {\"type\": \"box\", \"y\": [-0.6362857142857088, 1.0151428571428625, 0.7722857142857187, -2.0448571428571434, 0.8937142857142817], \"hoverinfo\": 148}, {\"type\": \"box\", \"y\": [0.03399999999999359, -0.1020000000000092, 0.10199999999999321, -0.03400000000000958], \"hoverinfo\": 149}, {\"type\": \"box\", \"y\": [0.1488571428571479, -0.4374285714285655, 0.41914285714286414, -0.12142857142856833, -0.009142857142858674], \"hoverinfo\": 150}, {\"type\": \"box\", \"y\": [0.16771428571428793, -0.2108571428571384, -0.37371428571428034, 0.7091428571428597, -0.2922857142857165], \"hoverinfo\": 151}, {\"type\": \"box\", \"y\": [-0.08650000000000624, 0.25949999999999385, -0.2595000000000063, 0.08649999999999736], \"hoverinfo\": 152}, {\"type\": \"box\", \"y\": [-0.0451428571428476, 0.010571428571441999, 0.23914285714286798, -0.32942857142856674, 0.12485714285713279], \"hoverinfo\": 153}, {\"type\": \"box\", \"y\": [-0.08971428571428142, 0.26085714285715156, -0.24428571428570933, 0.06485714285714295, 0.008285714285701573], \"hoverinfo\": 154}, {\"type\": \"box\", \"y\": [0.00657142857143711, -0.07028571428570629, 0.17142857142857792, -0.1582857142857126, 0.050571428571426935], \"hoverinfo\": 156}], {}, {\"showLink\": true, \"linkText\": \"Export to plot.ly\"})});</script>"
      ],
      "text/vnd.plotly.v1+html": [
       "<div id=\"79dd7762-1867-41ee-b637-0adb897db522\" style=\"height: 525px; width: 100%;\" class=\"plotly-graph-div\"></div><script type=\"text/javascript\">require([\"plotly\"], function(Plotly) { window.PLOTLYENV=window.PLOTLYENV || {};window.PLOTLYENV.BASE_URL=\"https://plot.ly\";Plotly.newPlot(\"79dd7762-1867-41ee-b637-0adb897db522\", [{\"type\": \"box\", \"y\": [0.05700000000000749, -0.16299999999999404, 0.18116666666666958, -0.060499999999998444, -0.1280000000000001, 0.1386666666666665, 0.019499999999998963, 0.004499999999998394, -0.09633333333333383, 0.04699999999999971], \"hoverinfo\": 1}, {\"type\": \"box\", \"y\": [-0.34490909090908417, -0.4755151515151468, 0.5858484848484871, 0.6891818181818188, 0.5944848484848464, -0.01824242424242506, -0.859, -0.1677878787878786, -1.3146060606060601, 1.310545454545455], \"hoverinfo\": 2}, {\"type\": \"box\", \"y\": [-0.08790909090908938, 0.04990909090909135, 0.11628787878787872, 0.06122727272727335, -0.055272727272727806, -0.1832121212121205, 0.08740909090909188, -0.20340909090908976, 0.3643333333333354, -0.14936363636363215], \"hoverinfo\": 3}, {\"type\": \"box\", \"y\": [0.2799090909090953, -0.062393939393937004, -0.24507575757575673, -0.38813636363636306, -0.021575757575757137, 0.3746060606060615, 0.18040909090909274, 0.06583333333333741, -0.03912121212120567, -0.14445454545453718], \"hoverinfo\": 4}, {\"type\": \"box\", \"y\": [-0.15672727272727016, 0.09393939393939466, -0.006000000000000227, 0.26345454545454494, 0.08230303030302899, -0.30945454545454787, 0.02818181818181742, 0.13521212121212045, -0.40836363636363515, 0.27745454545454784], \"hoverinfo\": 5}, {\"type\": \"box\", \"y\": [0.3632727272727374, -0.17412121212120457, -0.9281818181818133, 0.44109090909091186, 0.26369696969697465, 0.2696363636363692, 0.18890909090909958, -0.14848484848483778, -0.6925454545454386, 0.41672727272729304], \"hoverinfo\": 6}, {\"type\": \"box\", \"y\": [-0.026363636363626597, 0.041515151515158166, -0.02303030303029896, 0.12000000000000277, -0.17939393939393788, -0.09121212121211997, 0.2745454545454562, -0.012121212121208202, -0.19121212121211606, 0.08727272727273316], \"hoverinfo\": 7}, {\"type\": \"box\", \"y\": [-1.1973636363636384, -0.3585757575757622, 1.0595303030302965, 1.1769545454545387, 1.7636969696969604, 0.22975757575756717, -1.0748636363636415, -2.5501666666666694, -2.2461515151515172, 3.197181818181818], \"hoverinfo\": 8}, {\"type\": \"box\", \"y\": [-1.092272727272702, 0.7443333333333513, 0.6096515151515263, 0.5236818181818244, 0.4364242424242448, -0.3621212121212096, -0.9219545454545397, -1.6030757575757484, 1.7045151515151638, -0.039181818181795336], \"hoverinfo\": 9}, {\"type\": \"box\", \"y\": [-0.028787878787875698, -0.03969696969696912, -0.32296536796536657, 0.5414069264069266, 0.5234199134199109, -0.4169264069264127, -0.8196320346320434, 0.5353030303030195, 0.02787878787877318], \"hoverinfo\": 10}, {\"type\": \"box\", \"y\": [-0.5164545454545397, 0.15748484848485056, 0.47331818181818175, 0.37104545454545246, 0.19066666666666432, -0.2178181818181848, -0.5844090909090935, -0.16910606060606082, -0.1419090909090901, 0.43718181818182167], \"hoverinfo\": 11}, {\"type\": \"box\", \"y\": [0.12809090909107113, 1.668757575757681, 1.5411666666667259, -2.3746818181817844, -6.4287878787878725, 0.058848484848482485, 3.988227272727272, 3.8893484848485116, 1.1222121212121579, -3.5931818181817334], \"hoverinfo\": 12}, {\"type\": \"box\", \"y\": [-0.2972727272727216, 0.03975757575757832, 0.2554242424242421, 0.15972727272727205, 0.11266666666666403, 0.44424242424242344, -0.28554545454545455, -1.1066969696969693, 0.3407878787878822, 0.33690909090909926], \"hoverinfo\": 13}, {\"type\": \"box\", \"y\": [-0.6413636363636277, 1.0685757575757622, 0.20298484848484932, -0.428136363636364, -0.9647878787878792, 0.8230303030303041, 0.46531818181818174, -1.3579242424242413, 1.2233030303030326, -0.39099999999999824], \"hoverinfo\": 14}, {\"type\": \"box\", \"y\": [-0.28372727272726905, -0.2565151515151509, 0.6554696969696963, 0.3922272727272702, -0.046242424242427305, 0.16006060606060402, -0.5688636363636395, -1.0430151515151511, 1.0476060606060642, -0.0569999999999915], \"hoverinfo\": 15}, {\"type\": \"box\", \"y\": [0.5350000000000046, -0.03457575757575615, -0.23256060606060558, -0.5789545454545468, -1.1137575757575764, 0.4530303030303031, 1.0214090909090956, 0.6313787878787949, -0.007060606060594665, -0.6739090909090741], \"hoverinfo\": 16}, {\"type\": \"box\", \"y\": [0.3811515151515241, 0.7124545454545537, -0.6237099567099502, -0.817341991341987, -3.6684415584415575, 3.9829913419913403, 1.9569567099567031, -1.3965454545454676, -0.5275151515151748], \"hoverinfo\": 17}, {\"type\": \"box\", \"y\": [-0.14836363636362915, 0.009575757575762012, -0.23218181818181538, 0.3763636363636387, 0.47521212121212386, 0.1243636363636389, -0.22618181818181426, -0.516424242424236, -0.5363636363636282, 0.6740000000000119], \"hoverinfo\": 18}, {\"type\": \"box\", \"y\": [0.5590909090909442, -0.7050303030302807, -1.432030303030281, 1.8580909090909188, 1.0953333333333433, -0.7203030303030147, -1.9988181818181587, 1.1797878787878986, 0.5255151515151866, -0.3616363636363076], \"hoverinfo\": 19}, {\"type\": \"box\", \"y\": [0.005696969696971088, -0.033909090909089556, -0.09619913419913306, 0.19882683982684135, 0.0511688311688312, -0.08917316017316068, -0.03219913419913656, -0.09790909090909405, 0.09369696969696584], \"hoverinfo\": 20}, {\"type\": \"box\", \"y\": [0.10390909090909872, -0.44215151515151163, 0.6156515151515158, -0.052681818181820717, -0.637151515151519, 0.2922424242424224, 0.4154999999999962, -0.1273787878787882, -0.3663939393939355, 0.1984545454545561], \"hoverinfo\": 21}, {\"type\": \"box\", \"y\": [0.05445454545455419, 0.3344545454545509, -0.26849999999999774, -0.0644090909090913, -0.38327272727273076, -0.5350909090909113, 0.5701363636363599, 0.612409090909086, 0.22172727272727144, -0.541909090909094], \"hoverinfo\": 22}, {\"type\": \"box\", \"y\": [0.18708333333334615, -0.8993452380952238, 0.6262500000000166, 0.6338690476190649, 0.003511904761921869, -0.514821428571409, -0.5611309523809336, 0.5245833333333536], \"hoverinfo\": 23}, {\"type\": \"box\", \"y\": [0.022818181818187178, -0.04366666666666408, 0.07371212121212256, -0.015045454545454362, -0.04993939393939506, -0.040969696969696656, -0.14813636363636373, 0.26856060606060783, 0.039121212121214555, -0.10645454545454136], \"hoverinfo\": 24}, {\"type\": \"box\", \"y\": [-0.13049999999999962, 0.3914999999999971, -0.3915000000000006, 0.13050000000000317], \"hoverinfo\": 48}, {\"type\": \"box\", \"y\": [-0.6556363636363489, 0.9563636363636476, 0.42366666666667285, -0.17372727272726962, -1.0158181818181813, -0.322606060606061, 0.8359090909090927, 0.11972727272727468, -0.05115151515150984, -0.11672727272726036], \"hoverinfo\": 49}, {\"type\": \"box\", \"y\": [-0.612909090909076, -0.28345454545453386, 0.8956969696969779, 0.9245454545454592, 0.12309090909091402, -0.04866666666666397, -0.910727272727268, -0.8830909090909032, 0.04424242424243019, 0.7512727272727382], \"hoverinfo\": 50}, {\"type\": \"box\", \"y\": [-0.0340000000000078, 0.02199999999999669, 0.13323809523809516, -0.3302857142857132, 0.3114285714285714, 0.018380952380947946, -0.12942857142857633, -0.07200000000000983, 0.08066666666664801], \"hoverinfo\": 51}, {\"type\": \"box\", \"y\": [0.20818181818183046, 0.06424242424243154, -0.4851515151515109, 0.4300000000000015, -0.2403030303030267, -1.0860606060606042, 0.9127272727272757, 0.6260606060606086, -0.016060606060600335, -0.41363636363635514], \"hoverinfo\": 52}, {\"type\": \"box\", \"y\": [0.23700000000001342, 0.2484545454545568, -0.7621363636363565, -0.12477272727272037, -0.3894545454545426, 0.6938181818181857, 0.5650454545454586, 0.42422727272727556, -1.4086363636363615, 0.5164545454545504], \"hoverinfo\": 53}, {\"type\": \"box\", \"y\": [-0.35109090909089957, 0.08969696969697516, 0.30169696969697135, 0.12490909090908708, 0.08933333333332882, 0.18496969696969323, 0.16181818181817853, -0.5701212121212134, -0.950848484848482, 0.9196363636363714], \"hoverinfo\": 54}, {\"type\": \"box\", \"y\": [-1.230416666666665, 1.125059523809524, 0.8301785714285685, 0.4049404761904718, -0.1906547619047636, -1.1966071428571468, -0.9429166666666653, 1.2004166666666656], \"hoverinfo\": 55}, {\"type\": \"box\", \"y\": [-1.8203636363636253, 0.7832121212121255, 1.7507272727272731, 0.8721818181818151, 0.1775757575757524, -0.42309090909091474, -1.4198181818181865, -1.222606060606065, 0.13854545454545075, 1.1636363636363676], \"hoverinfo\": 56}, {\"type\": \"box\", \"y\": [-0.44045454545453033, -0.15536363636362616, 0.5551060606060645, 0.400954545454546, 0.3821818181818166, 0.17878787878787783, -0.41922727272727656, -1.1018636363636354, -0.24912121212121008, 0.8490000000000073], \"hoverinfo\": 57}, {\"type\": \"box\", \"y\": [-1.5323636363636268, 0.689696969696973, 1.4125151515151497, 0.8560909090909021, 0.32042424242423806, -0.6944848484848549, -1.4786363636363689, -1.2520303030303062, 1.3653333333333393, 0.3134545454545581], \"hoverinfo\": 58}, {\"type\": \"box\", \"y\": [-1.1399090909090859, 0.22487878787879012, 1.0085303030302981, 1.40104545454545, 0.582424242424235, -0.9073333333333409, -2.6382272727272778, 0.07974242424242206, 1.4665757575757539, -0.07772727272727309], \"hoverinfo\": 59}, {\"type\": \"box\", \"y\": [-0.3421428571428713, 0.4927142857142819, 0.10257142857143009, 0.15742857142857858, -0.8827142857142789, 0.47214285714285964], \"hoverinfo\": 60}, {\"type\": \"box\", \"y\": [-0.2889090909090868, 0.2456969696969704, -0.2998484848484875, 0.6444545454545398, 0.15860606060605598, -0.027393939393945743, -0.24354545454546006, -0.5398484848484895, -0.0063030303030338075, 0.3570909090909069], \"hoverinfo\": 61}, {\"type\": \"box\", \"y\": [-0.36954545454545595, 0.22869696969696918, 0.2832272727272702, 0.15404545454545193, -0.06884848484848938, -0.2354545454545498, 0.35422727272726817, -0.31980303030303503, -0.5475454545454603, 0.5209999999999972], \"hoverinfo\": 62}, {\"type\": \"box\", \"y\": [-2.4291818181818154, 1.564151515151515, 1.388166666666665, 1.1828636363636331, 0.768242424242418, -0.7956969696969747, -1.378954545454551, -2.011530303030309, 0.0365757575757506, 1.675363636363631], \"hoverinfo\": 63}, {\"type\": \"box\", \"y\": [-0.5312727272727269, -0.2531515151515151, 1.096268398268398, 0.796987012987012, -0.0009956709956728815, -0.8376796536796558, -1.7030649350649387, 1.3828484848484806, 0.05006060606059748], \"hoverinfo\": 64}, {\"type\": \"box\", \"y\": [-0.5011818181818146, 0.340575757575758, 0.44210606060605784, 0.23340909090909, -0.30551515151515574, -0.04466666666666974, -0.24404545454545357, -0.22365151515151638, 0.1765151515151544, 0.12645454545455337], \"hoverinfo\": 65}, {\"type\": \"box\", \"y\": [-0.18545454545453488, 0.12248484848485397, 0.021484848484851327, 0.2815454545454532, 0.012666666666664383, -0.20515151515151686, -0.09190909090909116, -0.047606060606058875, -0.022242424242421066, 0.1141818181818266], \"hoverinfo\": 66}, {\"type\": \"box\", \"y\": [0.1083384932920568, -0.0015041279669727459, -0.08217492260061476, -0.2136738906088711, 0.003998968008261272, 0.010843653250779184, 0.016860165118684378, 0.11204850361197849, 0.21640866873065612, -5.933952527570341e-05, 0.04264447884417777, -0.12547987616098055, 0.08556759545924564, 0.0357868937048611, -0.4148219814241365, -0.10625902992774883, 0.31147574819402735], \"hoverinfo\": 67}, {\"type\": \"box\", \"y\": [-0.5531372549019631, -0.25897058823529484, -0.1650000000000027, 0.46877450980392155, 0.5023529411764684, 0.6057352941176468, 0.4489215686274477, 0.25191176470587884, 0.014705882352936683, -0.23269607843137763, -0.5602941176470662, -0.5880882352941263, -0.6060784313725591, -0.39426470588236384, -0.14264705882354178, 1.2087745098039075], \"hoverinfo\": 68}, {\"type\": \"box\", \"y\": [-0.2662424242424244, 0.099939393939394, 0.3237835497835544, -0.04470995670995315, 0.4344588744588762, -0.24870995670995732, -0.914216450216454, 0.5479393939393855, 0.06775757575756103], \"hoverinfo\": 71}, {\"type\": \"box\", \"y\": [-0.7837142857142698, 2.3368571428571556, -2.308285714285706, 0.7408571428571378, 0.014285714285698248], \"hoverinfo\": 72}, {\"type\": \"box\", \"y\": [1.976578947368429, 0.9510681114551103, 0.053835139318881176, -0.6551199690402569, -1.1657972136223087, -2.84819659442727, -3.9523181114551384, -0.6181617647059205, 2.054272445820388, 2.584984520123786, 1.4639744582042766, 0.8812422600618532, 0.15678792569652344, 0.020611455108280552, 0.9327128482971254, 0.3430921052630609, -0.5182507739939091, -1.661315789473793], \"hoverinfo\": 73}, {\"type\": \"box\", \"y\": [-0.2729411764705869, -0.1498949579831912, -0.1393228829993518, 0.04877504848093306, 0.2443988364576617, 0.02754848093083595, 0.4382239819004532, 0.816425339366516, 0.47215255332902384, -0.10459437621202738, -0.2538154492566296, -0.48551066580478874, -1.4196800258565059, -2.006323529411775, 2.784558823529398], \"hoverinfo\": 74}, {\"type\": \"box\", \"y\": [-1.3590294117647055, -0.2688025210084035, 0.305340012928248, 1.23339819004525, 1.0353720103425985, 0.8712614738202955, 0.431066580478344, 0.0147873303167394, -0.7575762766645155, -0.9560242404654229, -2.1405565610859796, -0.2511732385261922, 0.8321257272139526, 0.5193403361344409, 0.49047058823527934], \"hoverinfo\": 75}, {\"type\": \"box\", \"y\": [3.843676470588224, 2.9283823529411634, 0.10697478991594878, -2.230546218487417, -5.11418067226893, -3.673928571428597, -5.259789915966415, -8.331764705882385, 8.4001470588235, 6.825945378151225, 4.715630252100809, 2.3892016806722296, -1.9933403361344944, 3.7480042016806365, -0.6967647058824014, -5.657647058823585], \"hoverinfo\": 76}, {\"type\": \"box\", \"y\": [-0.5421212121212116, 0.6136363636363646, 0.30346320346320343, -0.0026406926406918885, -0.11467532467532493, -0.6026406926406942, 0.26346320346319985, -0.026363636363641696, 0.10787878787878036], \"hoverinfo\": 77}, {\"type\": \"box\", \"y\": [-0.26791666666666636, -0.018392857142857544, 0.9226785714285723, -0.02470238095238031, -0.9205357142857142, -0.4148214285714307, 1.0624404761904742, -0.33875000000000455], \"hoverinfo\": 78}, {\"type\": \"box\", \"y\": [0.6082456140351002, 0.8205263157894844, 0.41894994840042266, 0.243516511867913, -0.6657739938080436, -1.318921568627447, -1.5759262125902964, -3.316787925696593, 0.9684932920536653, 1.4299174406604749, 0.1974845201238331, 1.4411945304437523, -0.3189525283797785, 4.747043343653246, 1.2391821465428166, -2.1025361197110612, -5.268111455108375, 2.4524561403508542], \"hoverinfo\": 79}, {\"type\": \"box\", \"y\": [-0.5951428571428505, 1.2405714285714318, -0.15085714285714147, -1.03942857142858, 0.5448571428571256], \"hoverinfo\": 81}, {\"type\": \"box\", \"y\": [-1.1209436274509836, -0.011727941176473689, 0.5991649159663837, 0.49173494397758777, 0.3359821428571399, 0.40190651260503785, 0.5195080532212852, 0.17878676470587784, -0.20025735294118086, -0.35762429971989285, -0.5733140756302566, -0.6473266806722746, -0.2096621148459441, -0.8803203781512678, 0.8606985294117564, 0.61339460784313], \"hoverinfo\": 82}, {\"type\": \"box\", \"y\": [-0.2633333333333372, 0.16119047619047144, 0.4149999999999956, -0.12190476190476573, -0.029523809523812616, -0.21785714285714697, -0.18690476190476524, 0.24333333333333051], \"hoverinfo\": 84}, {\"type\": \"box\", \"y\": [0.28125000000000533, 0.04244047619047908, -0.2619642857142823, -0.7519642857142843, -0.10755952380952216, 0.9112500000000008, 0.5944642857142863, -0.7079166666666623], \"hoverinfo\": 85}, {\"type\": \"box\", \"y\": [-0.7172807017543805, 0.41000515995872444, 0.32251934984520414, 0.20026186790506006, 0.31323271413828824, 0.171431888544892, -0.17514060887512972, -0.0564847781217761, -0.25260061919504917, -0.0934881320949481, -0.5591473168214698, -0.5295781733746185, 0.09521929824560793, -0.03475490196079356, 0.880499226006183, 0.7009816821465318, 0.08669246646025641, -0.7623684210526438], \"hoverinfo\": 86}, {\"type\": \"box\", \"y\": [0.41101135190919624, 0.006269349845212879, 0.1307739938080612, -0.07547471620225821, -0.3824767801857467, -0.15023219814240374, -0.3287409700722277, -0.23800309597522062, -0.6780185758513824, -0.20878740970071075, 0.8496904024767922, 0.7674148606811269, 0.6043859649122911, 0.13060371517028813, -0.1939318885448813, -0.3192208462332182, -0.3252631578947245], \"hoverinfo\": 87}, {\"type\": \"box\", \"y\": [0.389176470588235, -0.06311344537814989, -1.0191994182288298, -0.9690814479637986, 0.6572404654169386, 1.4597663219133832, 0.6784961215255354, 0.2134298642533956, -0.1754324499030364, -1.0180908209437618, -0.20454524886877934, -0.22479573367808925, -0.8188422753716935, 0.903315126050412, 0.19167647058822368], \"hoverinfo\": 89}, {\"type\": \"box\", \"y\": [0.23155882352941326, -0.02153781512604791, 0.024292501616034023, -0.7409502262443404, -0.697265998707171, 0.875345184227541, 0.5568833225597949, 0.4873484162895938, -0.043259534583063086, -0.22494053005817705, -0.5676945701357496, 0.1784783451842209, -0.43642178409826116, 0.11760504201679645, 0.2605588235293972], \"hoverinfo\": 90}, {\"type\": \"box\", \"y\": [-0.46785294117647425, 0.23994117647058566, 0.16285488041370222, 0.24088817065287582, 0.0940410471881048, 0.012313510019391849, 0.035705559146734345, -0.1157828054298653, -0.062151583710408076, -0.17340077569489587, -0.13953038138332552, 0.05945959922430255, -0.056430833872013864, 0.03279831932772659, 0.13714705882352263], \"hoverinfo\": 91}, {\"type\": \"box\", \"y\": [-1.1249999999999996, 0.5048571428571433, 0.5249340659340671, 0.36523076923076925, 0.21574725274725282, 0.026483516483516212, -0.0025604395604412744, 0.1586153846153815, -0.02998901098901552, -0.23837362637363224, -0.2665384615384685, -0.25448351648352663, -0.46220879120880465, -0.4897142857143004, 1.0729999999999809], \"hoverinfo\": 92}, {\"type\": \"box\", \"y\": [1.168558823529417, 0.2310336134453861, -0.548004201680663, -1.2285546218487307, -2.330617647058814, 1.5758067226890837, 0.9607184873949635, 0.3041176470588258, -0.283995798319328, -1.173621848739499, 1.175239495798312, 1.0225882352941014, 0.11842436974787773, -0.3972521008403618, -0.594441176470621], \"hoverinfo\": 93}, {\"type\": \"box\", \"y\": [-0.047676470588235986, 0.1568277310924362, 0.09287524240465395, -0.009533936651584085, -0.20039980607627772, -0.35972236586942774, 0.28249838396896987, -0.003737556561089761, 0.10156981254039543, -0.20157950872657526, 0.19681447963800025, -0.1332482223658804, 0.348232385261781, -0.05874369747900943, -0.1641764705882558], \"hoverinfo\": 94}, {\"type\": \"box\", \"y\": [0.058285714285715606, -0.12914285714285523, 0.037714285714286255, 0.0788571428571414, -0.04571428571428893], \"hoverinfo\": 95}, {\"type\": \"box\", \"y\": [0.03428571428571914, -0.15314285714285347, 0.25371428571428734, -0.18514285714285705, 0.050285714285712046], \"hoverinfo\": 96}, {\"type\": \"box\", \"y\": [0.11200000000000099, -0.28399999999999803, 0.1800000000000015, 0.04400000000000137, -0.051999999999998714], \"hoverinfo\": 97}, {\"type\": \"box\", \"y\": [-0.1768571428571395, 0.36142857142857565, -0.023142857142850914, -0.3305714285714245, 0.16914285714285882], \"hoverinfo\": 99}, {\"type\": \"box\", \"y\": [-0.05285714285713805, 0.13742857142857545, -0.09514285714285453, -0.010571428571427788, 0.021142857142856464], \"hoverinfo\": 100}, {\"type\": \"box\", \"y\": [-0.19371428571427884, 0.4068571428571488, -0.05828571428570939, -0.32914285714285363, 0.17428571428571082], \"hoverinfo\": 101}, {\"type\": \"box\", \"y\": [-0.17857142857142172, 0.4362857142857237, -0.23742857142856444, -0.11971428571428078, 0.09942857142857342], \"hoverinfo\": 102}, {\"type\": \"box\", \"y\": [-0.3354285714285581, 0.6377142857142957, 0.0994285714285752, -0.7702857142857162, 0.3685714285714212], \"hoverinfo\": 103}, {\"type\": \"box\", \"y\": [-0.11085714285714143, 0.19342857142857195, 0.08485714285714252, -0.3065714285714307, 0.13914285714285324], \"hoverinfo\": 107}, {\"type\": \"box\", \"y\": [-0.014857142857140904, 0.013428571428573566, 0.04885714285714293, -0.07857142857142829, 0.03114285714285625], \"hoverinfo\": 109}, {\"type\": \"box\", \"y\": [-0.24971428571428333, 0.36285714285714565, 0.40971428571428703, -0.9091428571428573, 0.3862857142857088], \"hoverinfo\": 111}, {\"type\": \"box\", \"y\": [0.09942857142857164, -0.2877142857142889, 0.26657142857142624, -0.06771428571428828, -0.010571428571427788], \"hoverinfo\": 112}, {\"type\": \"box\", \"y\": [-0.13114285714285412, 0.38057142857143056, -0.3548571428571403, 0.09257142857142675, 0.012857142857136239], \"hoverinfo\": 113}, {\"type\": \"box\", \"y\": [-0.15142857142856503, 0.30771428571429116, -0.014571428571426459, -0.28828571428571514, 0.14657142857142347], \"hoverinfo\": 114}, {\"type\": \"box\", \"y\": [-0.11999999999999744, 0.33600000000000296, -0.2879999999999967, 0.04800000000000182, 0.023999999999997357], \"hoverinfo\": 115}, {\"type\": \"box\", \"y\": [0.017000000000003013, -0.05100000000000193, 0.050999999999996604, -0.016999999999995907], \"hoverinfo\": 116}, {\"type\": \"box\", \"y\": [0.10742857142856899, -0.1617142857142877, -0.15942857142857303, 0.374285714285711, -0.16057142857143525], \"hoverinfo\": 121}, {\"type\": \"box\", \"y\": [-0.2774285714285698, 0.5657142857142885, -0.03257142857142714, -0.5222857142857151, 0.26657142857142446], \"hoverinfo\": 122}, {\"type\": \"box\", \"y\": [-0.07571428571427852, 0.1668571428571486, -0.04628571428571071, -0.1051428571428552, 0.06028571428571183], \"hoverinfo\": 123}, {\"type\": \"box\", \"y\": [0.059714285714282056, 0.6731428571428637, -2.3777142857142834, 2.4971428571428476, -0.8522857142857418], \"hoverinfo\": 124}, {\"type\": \"box\", \"y\": [-0.14942857142855637, 0.35771428571429986, -0.17657142857142105, -0.12228571428570945, 0.09057142857142964], \"hoverinfo\": 125}, {\"type\": \"box\", \"y\": [-0.15142857142857036, 0.2497142857142869, 0.15942857142857214, -0.46228571428571463, 0.20457142857142685], \"hoverinfo\": 126}, {\"type\": \"box\", \"y\": [0.01600000000000268, -0.08799999999999741, 0.1680000000000028, -0.13599999999999657, 0.040000000000004476], \"hoverinfo\": 127}, {\"type\": \"box\", \"y\": [0.01657142857143512, 0.0017142857142928847, -0.10457142857142365, 0.13771428571428768, -0.05142857142857338], \"hoverinfo\": 129}, {\"type\": \"box\", \"y\": [-0.09657142857141743, 0.2162857142857213, -0.06942857142856518, -0.12371428571428389, 0.07342857142857184], \"hoverinfo\": 132}, {\"type\": \"box\", \"y\": [-0.15228571428571325, 0.361142857142859, -0.16971428571428504, -0.13485714285714323, 0.09571428571428164], \"hoverinfo\": 133}, {\"type\": \"box\", \"y\": [-0.7631428571428458, 1.6765714285714406, -0.4508571428571351, -1.0754285714285707, 0.6128571428571341], \"hoverinfo\": 135}, {\"type\": \"box\", \"y\": [-0.007714285714282454, 0.028857142857145135, -0.04028571428571226, 0.02485714285714291, -0.005714285714285339], \"hoverinfo\": 137}, {\"type\": \"box\", \"y\": [-0.6268571428571432, 1.0694285714285714, 0.5528571428571416, -1.8065714285714307, 0.8111428571428512], \"hoverinfo\": 138}, {\"type\": \"box\", \"y\": [-0.9614285714285593, 1.897714285714292, 0.07542857142857073, -1.9982857142857213, 0.9865714285714162], \"hoverinfo\": 139}, {\"type\": \"box\", \"y\": [-0.019000000000002792, 0.05699999999999861, -0.05700000000000127, 0.019000000000000128], \"hoverinfo\": 143}, {\"type\": \"box\", \"y\": [0.08457142857143563, -0.19028571428570817, 0.06342857142857383, 0.10571428571428498, -0.06342857142857738], \"hoverinfo\": 146}, {\"type\": \"box\", \"y\": [-0.5191428571428496, 1.1305714285714341, -0.2768571428571427, -0.7614285714285796, 0.42685714285712706], \"hoverinfo\": 147}, {\"type\": \"box\", \"y\": [-0.6362857142857088, 1.0151428571428625, 0.7722857142857187, -2.0448571428571434, 0.8937142857142817], \"hoverinfo\": 148}, {\"type\": \"box\", \"y\": [0.03399999999999359, -0.1020000000000092, 0.10199999999999321, -0.03400000000000958], \"hoverinfo\": 149}, {\"type\": \"box\", \"y\": [0.1488571428571479, -0.4374285714285655, 0.41914285714286414, -0.12142857142856833, -0.009142857142858674], \"hoverinfo\": 150}, {\"type\": \"box\", \"y\": [0.16771428571428793, -0.2108571428571384, -0.37371428571428034, 0.7091428571428597, -0.2922857142857165], \"hoverinfo\": 151}, {\"type\": \"box\", \"y\": [-0.08650000000000624, 0.25949999999999385, -0.2595000000000063, 0.08649999999999736], \"hoverinfo\": 152}, {\"type\": \"box\", \"y\": [-0.0451428571428476, 0.010571428571441999, 0.23914285714286798, -0.32942857142856674, 0.12485714285713279], \"hoverinfo\": 153}, {\"type\": \"box\", \"y\": [-0.08971428571428142, 0.26085714285715156, -0.24428571428570933, 0.06485714285714295, 0.008285714285701573], \"hoverinfo\": 154}, {\"type\": \"box\", \"y\": [0.00657142857143711, -0.07028571428570629, 0.17142857142857792, -0.1582857142857126, 0.050571428571426935], \"hoverinfo\": 156}], {}, {\"showLink\": true, \"linkText\": \"Export to plot.ly\"})});</script>"
      ]
     },
     "metadata": {},
     "output_type": "display_data"
    }
   ],
   "source": [
    "model_quad = Pipeline([('poly', PolynomialFeatures(degree=2)),('linear', LinearRegression(fit_intercept=False))])\n",
    "\n",
    "residuals_quad = []\n",
    "quad_coefs = []\n",
    "for y in male_testosterones:\n",
    "    x = np.arange(len(y))\n",
    "    model_quad = model_quad.fit(np.arange(len(y))[:, np.newaxis], y)\n",
    "    y_hat_quad = model_quad.named_steps['linear'].coef_[0] + model_quad.named_steps['linear'].coef_[1] * x + model_quad.named_steps['linear'].coef_[2] * (x** 2)\n",
    "    residual_quad = y - y_hat_quad\n",
    "    quad_coefs.append(model_quad.named_steps['linear'].coef_) \n",
    "    residuals_quad.append(residual_quad)\n",
    "\n",
    "data = [go.Box(y=residual_quad, hoverinfo=residual_quad.index[0]) for residual_quad in residuals_quad]\n",
    "iplot(data)"
   ]
  },
  {
   "cell_type": "code",
   "execution_count": 301,
   "metadata": {},
   "outputs": [
    {
     "data": {
      "text/html": [
       "<div>\n",
       "<style>\n",
       "    .dataframe thead tr:only-child th {\n",
       "        text-align: right;\n",
       "    }\n",
       "\n",
       "    .dataframe thead th {\n",
       "        text-align: left;\n",
       "    }\n",
       "\n",
       "    .dataframe tbody tr th {\n",
       "        vertical-align: top;\n",
       "    }\n",
       "</style>\n",
       "<table border=\"1\" class=\"dataframe\">\n",
       "  <thead>\n",
       "    <tr style=\"text-align: right;\">\n",
       "      <th></th>\n",
       "      <th>0</th>\n",
       "    </tr>\n",
       "  </thead>\n",
       "  <tbody>\n",
       "    <tr>\n",
       "      <th>count</th>\n",
       "      <td>107.000000</td>\n",
       "    </tr>\n",
       "    <tr>\n",
       "      <th>mean</th>\n",
       "      <td>0.774351</td>\n",
       "    </tr>\n",
       "    <tr>\n",
       "      <th>std</th>\n",
       "      <td>2.449339</td>\n",
       "    </tr>\n",
       "    <tr>\n",
       "      <th>min</th>\n",
       "      <td>0.000633</td>\n",
       "    </tr>\n",
       "    <tr>\n",
       "      <th>25%</th>\n",
       "      <td>0.035161</td>\n",
       "    </tr>\n",
       "    <tr>\n",
       "      <th>50%</th>\n",
       "      <td>0.160113</td>\n",
       "    </tr>\n",
       "    <tr>\n",
       "      <th>75%</th>\n",
       "      <td>0.501466</td>\n",
       "    </tr>\n",
       "    <tr>\n",
       "      <th>max</th>\n",
       "      <td>22.543074</td>\n",
       "    </tr>\n",
       "  </tbody>\n",
       "</table>\n",
       "</div>"
      ],
      "text/plain": [
       "                0\n",
       "count  107.000000\n",
       "mean     0.774351\n",
       "std      2.449339\n",
       "min      0.000633\n",
       "25%      0.035161\n",
       "50%      0.160113\n",
       "75%      0.501466\n",
       "max     22.543074"
      ]
     },
     "execution_count": 301,
     "metadata": {},
     "output_type": "execute_result"
    }
   ],
   "source": [
    "total_var_quad = [np.var(res) for res in residuals_quad]\n",
    "DataFrame(total_var_quad).describe()"
   ]
  },
  {
   "cell_type": "markdown",
   "metadata": {},
   "source": [
    "By increasing the flexibility of the model from linear to non-linear, obviously, the variance is decreased. That is the model is able to fit more observations and this might result in considering outlier points less than before. The athletes for which the box plot of residuals shows some outlier points (in non-linear case) there is a strong indication that such observations are abnormal. We have confirmed this fact by visually inspecting these cases."
   ]
  },
  {
   "cell_type": "code",
   "execution_count": 309,
   "metadata": {
    "collapsed": true
   },
   "outputs": [],
   "source": [
    "def show_testosterone_and_predictions(index, model_coefs, is_male=True):\n",
    "    y = male_testosterones[index] if is_male else female_testosterones[index]\n",
    "    x = np.arange(len(y))\n",
    "    y_hat = model_coefs[index][0] + model_coefs[index][1] * x + model_coefs[index][2] * (x**2)\n",
    "    plt.plot(x, y, label=\"testosterone\")\n",
    "    plt.plot(x, y_hat, label=\"prediction\")\n",
    "    plt.legend()"
   ]
  },
  {
   "cell_type": "code",
   "execution_count": 312,
   "metadata": {},
   "outputs": [
    {
     "data": {
      "image/png": "[encoded data removed]",
      "text/plain": [
       "<matplotlib.figure.Figure at 0x7feeb5c94d68>"
      ]
     },
     "metadata": {},
     "output_type": "display_data"
    }
   ],
   "source": [
    "show_testosterone_and_predictions(48, quad_coefs)"
   ]
  },
  {
   "cell_type": "markdown",
   "metadata": {},
   "source": [
    "## How can we comfirm that the residuals follow normal distributions?"
   ]
  },
  {
   "cell_type": "code",
   "execution_count": 220,
   "metadata": {},
   "outputs": [
    {
     "data": {
      "image/png": "[encoded data removed]",
      "text/plain": [
       "<matplotlib.figure.Figure at 0x7feeb628e128>"
      ]
     },
     "metadata": {},
     "output_type": "display_data"
    }
   ],
   "source": [
    "from statsmodels.graphics.gofplots import qqplot\n",
    "qqplot(residuals[16], line='r')\n",
    "plt.show()"
   ]
  },
  {
   "cell_type": "markdown",
   "metadata": {},
   "source": [
    "## Female population"
   ]
  },
  {
   "cell_type": "markdown",
   "metadata": {},
   "source": [
    "### General trends of testosterone in female athletes"
   ]
  },
  {
   "cell_type": "code",
   "execution_count": 28,
   "metadata": {},
   "outputs": [
    {
     "data": {
      "application/vnd.plotly.v1+json": {
       "data": [
        {
         "name": 1,
         "showlegend": false,
         "type": "scatter",
         "x": [
          0,
          1,
          2,
          3,
          4,
          5,
          6,
          7,
          8,
          9,
          10,
          11,
          12,
          13,
          14,
          15,
          16
         ],
         "y": [
          1.19,
          1.23,
          1.26,
          1.28,
          1.32,
          1.43,
          1.58,
          1.67,
          2.02,
          2.22,
          2.35,
          2.45,
          2.53,
          2.62,
          3.02,
          3.05,
          3.21
         ]
        },
        {
         "name": 1,
         "showlegend": false,
         "type": "scatter",
         "x": [
          0,
          1,
          2,
          3,
          4,
          5,
          6,
          7,
          8,
          9,
          10,
          11,
          12,
          13,
          14,
          15,
          16
         ],
         "y": [
          1.6,
          1.6,
          1.83,
          2.01,
          2.05,
          2.14,
          2.49,
          2.71,
          2.9,
          2.97,
          2.98,
          3.04,
          3.15,
          3.23,
          3.32,
          3.67,
          3.68
         ]
        },
        {
         "name": 1,
         "showlegend": false,
         "type": "scatter",
         "x": [
          0,
          1,
          2,
          3,
          4,
          5,
          6,
          7,
          8
         ],
         "y": [
          1.57,
          1.64,
          1.75,
          1.92,
          2.75,
          2.83,
          2.99,
          3.23,
          16.61
         ]
        },
        {
         "name": 1,
         "showlegend": false,
         "type": "scatter",
         "x": [
          0,
          1,
          2,
          3,
          4,
          5,
          6,
          7,
          8,
          9,
          10,
          11,
          12,
          13,
          14,
          15,
          16
         ],
         "y": [
          2.87,
          3.22,
          3.65,
          3.71,
          3.84,
          3.95,
          4.01,
          4.06,
          4.1,
          4.36,
          4.41,
          4.55,
          5.12,
          5.45,
          5.91,
          6.37,
          7.23
         ]
        },
        {
         "name": 1,
         "showlegend": false,
         "type": "scatter",
         "x": [
          0,
          1,
          2,
          3,
          4,
          5,
          6,
          7,
          8,
          9,
          10,
          11,
          12,
          13,
          14,
          15
         ],
         "y": [
          1.25,
          1.33,
          1.4,
          1.56,
          1.57,
          1.64,
          2.06,
          2.16,
          2.18,
          2.23,
          2.27,
          2.36,
          2.55,
          2.85,
          2.86,
          2.9
         ]
        },
        {
         "name": 1,
         "showlegend": false,
         "type": "scatter",
         "x": [
          0,
          1,
          2,
          3,
          4
         ],
         "y": [
          1.6,
          1.81,
          2.19,
          2.3,
          2.91
         ]
        },
        {
         "name": 1,
         "showlegend": false,
         "type": "scatter",
         "x": [
          0,
          1,
          2,
          3,
          4
         ],
         "y": [
          1.16,
          1.24,
          1.41,
          1.51,
          1.92
         ]
        },
        {
         "name": 1,
         "showlegend": false,
         "type": "scatter",
         "x": [
          0,
          1,
          2,
          3,
          4
         ],
         "y": [
          1.64,
          1.69,
          1.92,
          2.12,
          2.45
         ]
        },
        {
         "name": 1,
         "showlegend": false,
         "type": "scatter",
         "x": [
          0,
          1,
          2,
          3,
          4
         ],
         "y": [
          1.37,
          1.4,
          1.52,
          1.57,
          1.8
         ]
        },
        {
         "name": 1,
         "showlegend": false,
         "type": "scatter",
         "x": [
          0,
          1,
          2,
          3,
          4
         ],
         "y": [
          1.84,
          2.16,
          2.25,
          2.25,
          2.56
         ]
        },
        {
         "name": 1,
         "showlegend": false,
         "type": "scatter",
         "x": [
          0,
          1,
          2,
          3,
          4
         ],
         "y": [
          1.01,
          1.04,
          1.07,
          1.31,
          1.56
         ]
        },
        {
         "name": 1,
         "showlegend": false,
         "type": "scatter",
         "x": [
          0,
          1,
          2,
          3,
          4
         ],
         "y": [
          5.1,
          5.16,
          5.24,
          5.34,
          5.66
         ]
        },
        {
         "name": 1,
         "showlegend": false,
         "type": "scatter",
         "x": [
          0,
          1,
          2,
          3,
          4
         ],
         "y": [
          1.42,
          1.58,
          1.6,
          1.64,
          1.74
         ]
        },
        {
         "name": 1,
         "showlegend": false,
         "type": "scatter",
         "x": [
          0,
          1,
          2,
          3,
          4
         ],
         "y": [
          0.44,
          0.69,
          0.77,
          0.78,
          0.95
         ]
        },
        {
         "name": 1,
         "showlegend": false,
         "type": "scatter",
         "x": [
          0,
          1,
          2,
          3,
          4
         ],
         "y": [
          5.59,
          6.11,
          6.49,
          6.83,
          7.02
         ]
        },
        {
         "name": 1,
         "showlegend": false,
         "type": "scatter",
         "x": [
          0,
          1,
          2,
          3,
          4
         ],
         "y": [
          7.69,
          8.7,
          8.81,
          8.92,
          12.1
         ]
        },
        {
         "name": 1,
         "showlegend": false,
         "type": "scatter",
         "x": [
          0,
          1,
          2,
          3,
          4
         ],
         "y": [
          1.42,
          2.21,
          2.41,
          2.48,
          2.53
         ]
        },
        {
         "name": 1,
         "showlegend": false,
         "type": "scatter",
         "x": [
          0,
          1,
          2,
          3,
          4
         ],
         "y": [
          0.73,
          0.73,
          0.74,
          0.86,
          1.08
         ]
        },
        {
         "name": 1,
         "showlegend": false,
         "type": "scatter",
         "x": [
          0,
          1,
          2,
          3,
          4
         ],
         "y": [
          0.76,
          0.77,
          0.86,
          0.88,
          0.98
         ]
        },
        {
         "name": 1,
         "showlegend": false,
         "type": "scatter",
         "x": [
          0,
          1,
          2,
          3,
          4
         ],
         "y": [
          1.3,
          1.61,
          1.88,
          2.03,
          2.2
         ]
        },
        {
         "name": 1,
         "showlegend": false,
         "type": "scatter",
         "x": [
          0,
          1,
          2,
          3,
          4
         ],
         "y": [
          2.6,
          2.71,
          3.21,
          3.52,
          4.22
         ]
        },
        {
         "name": 1,
         "showlegend": false,
         "type": "scatter",
         "x": [
          0,
          1,
          2,
          3,
          4
         ],
         "y": [
          2.26,
          2.64,
          2.72,
          2.73,
          3.72
         ]
        },
        {
         "name": 1,
         "showlegend": false,
         "type": "scatter",
         "x": [
          0,
          1,
          2,
          3,
          4
         ],
         "y": [
          2.56,
          2.8,
          3.13,
          3.26,
          4.4
         ]
        },
        {
         "name": 1,
         "showlegend": false,
         "type": "scatter",
         "x": [
          0,
          1,
          2,
          3,
          4
         ],
         "y": [
          3.41,
          3.5,
          3.59,
          4.1,
          4.44
         ]
        },
        {
         "name": 1,
         "showlegend": false,
         "type": "scatter",
         "x": [
          0,
          1,
          2,
          3,
          4
         ],
         "y": [
          2.23,
          2.33,
          2.5,
          3.21,
          3.78
         ]
        },
        {
         "name": 1,
         "showlegend": false,
         "type": "scatter",
         "x": [
          0,
          1,
          2,
          3,
          4
         ],
         "y": [
          0.51,
          0.55,
          0.56,
          0.59,
          1.09
         ]
        },
        {
         "name": 1,
         "showlegend": false,
         "type": "scatter",
         "x": [
          0,
          1,
          2,
          3
         ],
         "y": [
          1.56,
          1.62,
          1.71,
          1.8
         ]
        },
        {
         "name": 1,
         "showlegend": false,
         "type": "scatter",
         "x": [
          0,
          1,
          2,
          3,
          4
         ],
         "y": [
          2.34,
          2.65,
          2.73,
          2.91,
          3.33
         ]
        },
        {
         "name": 1,
         "showlegend": false,
         "type": "scatter",
         "x": [
          0,
          1,
          2,
          3,
          4
         ],
         "y": [
          1.05,
          1.28,
          1.31,
          1.53,
          1.96
         ]
        },
        {
         "name": 1,
         "showlegend": false,
         "type": "scatter",
         "x": [
          0,
          1,
          2,
          3,
          4
         ],
         "y": [
          1.57,
          1.97,
          2.06,
          2.1,
          2.25
         ]
        },
        {
         "name": 1,
         "showlegend": false,
         "type": "scatter",
         "x": [
          0,
          1,
          2,
          3,
          4
         ],
         "y": [
          1.43,
          1.44,
          1.55,
          1.6,
          1.79
         ]
        }
       ],
       "layout": {
        "title": "Female population testosterone",
        "xaxis": {
         "title": "Samples"
        },
        "yaxis": {
         "title": "T"
        }
       }
      },
      "text/html": [
       "<div id=\"c65cadb4-248f-49f7-a28c-34f2371e1789\" style=\"height: 525px; width: 100%;\" class=\"plotly-graph-div\"></div><script type=\"text/javascript\">require([\"plotly\"], function(Plotly) { window.PLOTLYENV=window.PLOTLYENV || {};window.PLOTLYENV.BASE_URL=\"https://plot.ly\";Plotly.newPlot(\"c65cadb4-248f-49f7-a28c-34f2371e1789\", [{\"type\": \"scatter\", \"x\": [0, 1, 2, 3, 4, 5, 6, 7, 8, 9, 10, 11, 12, 13, 14, 15, 16], \"y\": [1.19, 1.23, 1.26, 1.28, 1.32, 1.43, 1.58, 1.67, 2.02, 2.22, 2.35, 2.45, 2.53, 2.62, 3.02, 3.05, 3.21], \"name\": 1, \"showlegend\": false}, {\"type\": \"scatter\", \"x\": [0, 1, 2, 3, 4, 5, 6, 7, 8, 9, 10, 11, 12, 13, 14, 15, 16], \"y\": [1.6, 1.6, 1.83, 2.01, 2.05, 2.14, 2.49, 2.71, 2.9, 2.97, 2.98, 3.04, 3.15, 3.23, 3.32, 3.67, 3.68], \"name\": 1, \"showlegend\": false}, {\"type\": \"scatter\", \"x\": [0, 1, 2, 3, 4, 5, 6, 7, 8], \"y\": [1.57, 1.64, 1.75, 1.92, 2.75, 2.83, 2.99, 3.23, 16.61], \"name\": 1, \"showlegend\": false}, {\"type\": \"scatter\", \"x\": [0, 1, 2, 3, 4, 5, 6, 7, 8, 9, 10, 11, 12, 13, 14, 15, 16], \"y\": [2.87, 3.22, 3.65, 3.71, 3.84, 3.95, 4.01, 4.06, 4.1, 4.36, 4.41, 4.55, 5.12, 5.45, 5.91, 6.37, 7.23], \"name\": 1, \"showlegend\": false}, {\"type\": \"scatter\", \"x\": [0, 1, 2, 3, 4, 5, 6, 7, 8, 9, 10, 11, 12, 13, 14, 15], \"y\": [1.25, 1.33, 1.4, 1.56, 1.57, 1.64, 2.06, 2.16, 2.18, 2.23, 2.27, 2.36, 2.55, 2.85, 2.86, 2.9], \"name\": 1, \"showlegend\": false}, {\"type\": \"scatter\", \"x\": [0, 1, 2, 3, 4], \"y\": [1.6, 1.81, 2.19, 2.3, 2.91], \"name\": 1, \"showlegend\": false}, {\"type\": \"scatter\", \"x\": [0, 1, 2, 3, 4], \"y\": [1.16, 1.24, 1.41, 1.51, 1.92], \"name\": 1, \"showlegend\": false}, {\"type\": \"scatter\", \"x\": [0, 1, 2, 3, 4], \"y\": [1.64, 1.69, 1.92, 2.12, 2.45], \"name\": 1, \"showlegend\": false}, {\"type\": \"scatter\", \"x\": [0, 1, 2, 3, 4], \"y\": [1.37, 1.4, 1.52, 1.57, 1.8], \"name\": 1, \"showlegend\": false}, {\"type\": \"scatter\", \"x\": [0, 1, 2, 3, 4], \"y\": [1.84, 2.16, 2.25, 2.25, 2.56], \"name\": 1, \"showlegend\": false}, {\"type\": \"scatter\", \"x\": [0, 1, 2, 3, 4], \"y\": [1.01, 1.04, 1.07, 1.31, 1.56], \"name\": 1, \"showlegend\": false}, {\"type\": \"scatter\", \"x\": [0, 1, 2, 3, 4], \"y\": [5.1, 5.16, 5.24, 5.34, 5.66], \"name\": 1, \"showlegend\": false}, {\"type\": \"scatter\", \"x\": [0, 1, 2, 3, 4], \"y\": [1.42, 1.58, 1.6, 1.64, 1.74], \"name\": 1, \"showlegend\": false}, {\"type\": \"scatter\", \"x\": [0, 1, 2, 3, 4], \"y\": [0.44, 0.69, 0.77, 0.78, 0.95], \"name\": 1, \"showlegend\": false}, {\"type\": \"scatter\", \"x\": [0, 1, 2, 3, 4], \"y\": [5.59, 6.11, 6.49, 6.83, 7.02], \"name\": 1, \"showlegend\": false}, {\"type\": \"scatter\", \"x\": [0, 1, 2, 3, 4], \"y\": [7.69, 8.7, 8.81, 8.92, 12.1], \"name\": 1, \"showlegend\": false}, {\"type\": \"scatter\", \"x\": [0, 1, 2, 3, 4], \"y\": [1.42, 2.21, 2.41, 2.48, 2.53], \"name\": 1, \"showlegend\": false}, {\"type\": \"scatter\", \"x\": [0, 1, 2, 3, 4], \"y\": [0.73, 0.73, 0.74, 0.86, 1.08], \"name\": 1, \"showlegend\": false}, {\"type\": \"scatter\", \"x\": [0, 1, 2, 3, 4], \"y\": [0.76, 0.77, 0.86, 0.88, 0.98], \"name\": 1, \"showlegend\": false}, {\"type\": \"scatter\", \"x\": [0, 1, 2, 3, 4], \"y\": [1.3, 1.61, 1.88, 2.03, 2.2], \"name\": 1, \"showlegend\": false}, {\"type\": \"scatter\", \"x\": [0, 1, 2, 3, 4], \"y\": [2.6, 2.71, 3.21, 3.52, 4.22], \"name\": 1, \"showlegend\": false}, {\"type\": \"scatter\", \"x\": [0, 1, 2, 3, 4], \"y\": [2.26, 2.64, 2.72, 2.73, 3.72], \"name\": 1, \"showlegend\": false}, {\"type\": \"scatter\", \"x\": [0, 1, 2, 3, 4], \"y\": [2.56, 2.8, 3.13, 3.26, 4.4], \"name\": 1, \"showlegend\": false}, {\"type\": \"scatter\", \"x\": [0, 1, 2, 3, 4], \"y\": [3.41, 3.5, 3.59, 4.1, 4.44], \"name\": 1, \"showlegend\": false}, {\"type\": \"scatter\", \"x\": [0, 1, 2, 3, 4], \"y\": [2.23, 2.33, 2.5, 3.21, 3.78], \"name\": 1, \"showlegend\": false}, {\"type\": \"scatter\", \"x\": [0, 1, 2, 3, 4], \"y\": [0.51, 0.55, 0.56, 0.59, 1.09], \"name\": 1, \"showlegend\": false}, {\"type\": \"scatter\", \"x\": [0, 1, 2, 3], \"y\": [1.56, 1.62, 1.71, 1.8], \"name\": 1, \"showlegend\": false}, {\"type\": \"scatter\", \"x\": [0, 1, 2, 3, 4], \"y\": [2.34, 2.65, 2.73, 2.91, 3.33], \"name\": 1, \"showlegend\": false}, {\"type\": \"scatter\", \"x\": [0, 1, 2, 3, 4], \"y\": [1.05, 1.28, 1.31, 1.53, 1.96], \"name\": 1, \"showlegend\": false}, {\"type\": \"scatter\", \"x\": [0, 1, 2, 3, 4], \"y\": [1.57, 1.97, 2.06, 2.1, 2.25], \"name\": 1, \"showlegend\": false}, {\"type\": \"scatter\", \"x\": [0, 1, 2, 3, 4], \"y\": [1.43, 1.44, 1.55, 1.6, 1.79], \"name\": 1, \"showlegend\": false}], {\"title\": \"Female population testosterone\", \"xaxis\": {\"title\": \"Samples\"}, \"yaxis\": {\"title\": \"T\"}}, {\"showLink\": true, \"linkText\": \"Export to plot.ly\"})});</script>"
      ],
      "text/vnd.plotly.v1+html": [
       "<div id=\"c65cadb4-248f-49f7-a28c-34f2371e1789\" style=\"height: 525px; width: 100%;\" class=\"plotly-graph-div\"></div><script type=\"text/javascript\">require([\"plotly\"], function(Plotly) { window.PLOTLYENV=window.PLOTLYENV || {};window.PLOTLYENV.BASE_URL=\"https://plot.ly\";Plotly.newPlot(\"c65cadb4-248f-49f7-a28c-34f2371e1789\", [{\"type\": \"scatter\", \"x\": [0, 1, 2, 3, 4, 5, 6, 7, 8, 9, 10, 11, 12, 13, 14, 15, 16], \"y\": [1.19, 1.23, 1.26, 1.28, 1.32, 1.43, 1.58, 1.67, 2.02, 2.22, 2.35, 2.45, 2.53, 2.62, 3.02, 3.05, 3.21], \"name\": 1, \"showlegend\": false}, {\"type\": \"scatter\", \"x\": [0, 1, 2, 3, 4, 5, 6, 7, 8, 9, 10, 11, 12, 13, 14, 15, 16], \"y\": [1.6, 1.6, 1.83, 2.01, 2.05, 2.14, 2.49, 2.71, 2.9, 2.97, 2.98, 3.04, 3.15, 3.23, 3.32, 3.67, 3.68], \"name\": 1, \"showlegend\": false}, {\"type\": \"scatter\", \"x\": [0, 1, 2, 3, 4, 5, 6, 7, 8], \"y\": [1.57, 1.64, 1.75, 1.92, 2.75, 2.83, 2.99, 3.23, 16.61], \"name\": 1, \"showlegend\": false}, {\"type\": \"scatter\", \"x\": [0, 1, 2, 3, 4, 5, 6, 7, 8, 9, 10, 11, 12, 13, 14, 15, 16], \"y\": [2.87, 3.22, 3.65, 3.71, 3.84, 3.95, 4.01, 4.06, 4.1, 4.36, 4.41, 4.55, 5.12, 5.45, 5.91, 6.37, 7.23], \"name\": 1, \"showlegend\": false}, {\"type\": \"scatter\", \"x\": [0, 1, 2, 3, 4, 5, 6, 7, 8, 9, 10, 11, 12, 13, 14, 15], \"y\": [1.25, 1.33, 1.4, 1.56, 1.57, 1.64, 2.06, 2.16, 2.18, 2.23, 2.27, 2.36, 2.55, 2.85, 2.86, 2.9], \"name\": 1, \"showlegend\": false}, {\"type\": \"scatter\", \"x\": [0, 1, 2, 3, 4], \"y\": [1.6, 1.81, 2.19, 2.3, 2.91], \"name\": 1, \"showlegend\": false}, {\"type\": \"scatter\", \"x\": [0, 1, 2, 3, 4], \"y\": [1.16, 1.24, 1.41, 1.51, 1.92], \"name\": 1, \"showlegend\": false}, {\"type\": \"scatter\", \"x\": [0, 1, 2, 3, 4], \"y\": [1.64, 1.69, 1.92, 2.12, 2.45], \"name\": 1, \"showlegend\": false}, {\"type\": \"scatter\", \"x\": [0, 1, 2, 3, 4], \"y\": [1.37, 1.4, 1.52, 1.57, 1.8], \"name\": 1, \"showlegend\": false}, {\"type\": \"scatter\", \"x\": [0, 1, 2, 3, 4], \"y\": [1.84, 2.16, 2.25, 2.25, 2.56], \"name\": 1, \"showlegend\": false}, {\"type\": \"scatter\", \"x\": [0, 1, 2, 3, 4], \"y\": [1.01, 1.04, 1.07, 1.31, 1.56], \"name\": 1, \"showlegend\": false}, {\"type\": \"scatter\", \"x\": [0, 1, 2, 3, 4], \"y\": [5.1, 5.16, 5.24, 5.34, 5.66], \"name\": 1, \"showlegend\": false}, {\"type\": \"scatter\", \"x\": [0, 1, 2, 3, 4], \"y\": [1.42, 1.58, 1.6, 1.64, 1.74], \"name\": 1, \"showlegend\": false}, {\"type\": \"scatter\", \"x\": [0, 1, 2, 3, 4], \"y\": [0.44, 0.69, 0.77, 0.78, 0.95], \"name\": 1, \"showlegend\": false}, {\"type\": \"scatter\", \"x\": [0, 1, 2, 3, 4], \"y\": [5.59, 6.11, 6.49, 6.83, 7.02], \"name\": 1, \"showlegend\": false}, {\"type\": \"scatter\", \"x\": [0, 1, 2, 3, 4], \"y\": [7.69, 8.7, 8.81, 8.92, 12.1], \"name\": 1, \"showlegend\": false}, {\"type\": \"scatter\", \"x\": [0, 1, 2, 3, 4], \"y\": [1.42, 2.21, 2.41, 2.48, 2.53], \"name\": 1, \"showlegend\": false}, {\"type\": \"scatter\", \"x\": [0, 1, 2, 3, 4], \"y\": [0.73, 0.73, 0.74, 0.86, 1.08], \"name\": 1, \"showlegend\": false}, {\"type\": \"scatter\", \"x\": [0, 1, 2, 3, 4], \"y\": [0.76, 0.77, 0.86, 0.88, 0.98], \"name\": 1, \"showlegend\": false}, {\"type\": \"scatter\", \"x\": [0, 1, 2, 3, 4], \"y\": [1.3, 1.61, 1.88, 2.03, 2.2], \"name\": 1, \"showlegend\": false}, {\"type\": \"scatter\", \"x\": [0, 1, 2, 3, 4], \"y\": [2.6, 2.71, 3.21, 3.52, 4.22], \"name\": 1, \"showlegend\": false}, {\"type\": \"scatter\", \"x\": [0, 1, 2, 3, 4], \"y\": [2.26, 2.64, 2.72, 2.73, 3.72], \"name\": 1, \"showlegend\": false}, {\"type\": \"scatter\", \"x\": [0, 1, 2, 3, 4], \"y\": [2.56, 2.8, 3.13, 3.26, 4.4], \"name\": 1, \"showlegend\": false}, {\"type\": \"scatter\", \"x\": [0, 1, 2, 3, 4], \"y\": [3.41, 3.5, 3.59, 4.1, 4.44], \"name\": 1, \"showlegend\": false}, {\"type\": \"scatter\", \"x\": [0, 1, 2, 3, 4], \"y\": [2.23, 2.33, 2.5, 3.21, 3.78], \"name\": 1, \"showlegend\": false}, {\"type\": \"scatter\", \"x\": [0, 1, 2, 3, 4], \"y\": [0.51, 0.55, 0.56, 0.59, 1.09], \"name\": 1, \"showlegend\": false}, {\"type\": \"scatter\", \"x\": [0, 1, 2, 3], \"y\": [1.56, 1.62, 1.71, 1.8], \"name\": 1, \"showlegend\": false}, {\"type\": \"scatter\", \"x\": [0, 1, 2, 3, 4], \"y\": [2.34, 2.65, 2.73, 2.91, 3.33], \"name\": 1, \"showlegend\": false}, {\"type\": \"scatter\", \"x\": [0, 1, 2, 3, 4], \"y\": [1.05, 1.28, 1.31, 1.53, 1.96], \"name\": 1, \"showlegend\": false}, {\"type\": \"scatter\", \"x\": [0, 1, 2, 3, 4], \"y\": [1.57, 1.97, 2.06, 2.1, 2.25], \"name\": 1, \"showlegend\": false}, {\"type\": \"scatter\", \"x\": [0, 1, 2, 3, 4], \"y\": [1.43, 1.44, 1.55, 1.6, 1.79], \"name\": 1, \"showlegend\": false}], {\"title\": \"Female population testosterone\", \"xaxis\": {\"title\": \"Samples\"}, \"yaxis\": {\"title\": \"T\"}}, {\"showLink\": true, \"linkText\": \"Export to plot.ly\"})});</script>"
      ]
     },
     "metadata": {},
     "output_type": "display_data"
    }
   ],
   "source": [
    "plotData = []\n",
    "for test in female_testosterones:\n",
    "    plotData.append(go.Scatter(x= np.arange(len(test)), y= test.values, name=testosterones[0].index[0], showlegend=False)) \n",
    "\n",
    "layout = dict(title = 'Female population testosterone',\n",
    "              xaxis = dict(title = 'Samples'),\n",
    "              yaxis = dict(title = 'T'))\n",
    "\n",
    "iplot(dict(data=plotData, layout=layout))"
   ]
  },
  {
   "cell_type": "markdown",
   "metadata": {},
   "source": [
    "### Testosterone distributions per athletes"
   ]
  },
  {
   "cell_type": "code",
   "execution_count": 44,
   "metadata": {},
   "outputs": [
    {
     "data": {
      "application/vnd.plotly.v1+json": {
       "data": [
        {
         "showlegend": false,
         "type": "box",
         "y": [
          1.19,
          1.23,
          1.26,
          1.28,
          1.32,
          1.43,
          1.58,
          1.67,
          2.02,
          2.22,
          2.35,
          2.45,
          2.53,
          2.62,
          3.02,
          3.05,
          3.21
         ]
        },
        {
         "showlegend": false,
         "type": "box",
         "y": [
          1.6,
          1.6,
          1.83,
          2.01,
          2.05,
          2.14,
          2.49,
          2.71,
          2.9,
          2.97,
          2.98,
          3.04,
          3.15,
          3.23,
          3.32,
          3.67,
          3.68
         ]
        },
        {
         "showlegend": false,
         "type": "box",
         "y": [
          1.57,
          1.64,
          1.75,
          1.92,
          2.75,
          2.83,
          2.99,
          3.23,
          16.61
         ]
        },
        {
         "showlegend": false,
         "type": "box",
         "y": [
          2.87,
          3.22,
          3.65,
          3.71,
          3.84,
          3.95,
          4.01,
          4.06,
          4.1,
          4.36,
          4.41,
          4.55,
          5.12,
          5.45,
          5.91,
          6.37,
          7.23
         ]
        },
        {
         "showlegend": false,
         "type": "box",
         "y": [
          1.25,
          1.33,
          1.4,
          1.56,
          1.57,
          1.64,
          2.06,
          2.16,
          2.18,
          2.23,
          2.27,
          2.36,
          2.55,
          2.85,
          2.86,
          2.9
         ]
        },
        {
         "showlegend": false,
         "type": "box",
         "y": [
          1.6,
          1.81,
          2.19,
          2.3,
          2.91
         ]
        },
        {
         "showlegend": false,
         "type": "box",
         "y": [
          1.16,
          1.24,
          1.41,
          1.51,
          1.92
         ]
        },
        {
         "showlegend": false,
         "type": "box",
         "y": [
          1.64,
          1.69,
          1.92,
          2.12,
          2.45
         ]
        },
        {
         "showlegend": false,
         "type": "box",
         "y": [
          1.37,
          1.4,
          1.52,
          1.57,
          1.8
         ]
        },
        {
         "showlegend": false,
         "type": "box",
         "y": [
          1.84,
          2.16,
          2.25,
          2.25,
          2.56
         ]
        },
        {
         "showlegend": false,
         "type": "box",
         "y": [
          1.01,
          1.04,
          1.07,
          1.31,
          1.56
         ]
        },
        {
         "showlegend": false,
         "type": "box",
         "y": [
          5.1,
          5.16,
          5.24,
          5.34,
          5.66
         ]
        },
        {
         "showlegend": false,
         "type": "box",
         "y": [
          1.42,
          1.58,
          1.6,
          1.64,
          1.74
         ]
        },
        {
         "showlegend": false,
         "type": "box",
         "y": [
          0.44,
          0.69,
          0.77,
          0.78,
          0.95
         ]
        },
        {
         "showlegend": false,
         "type": "box",
         "y": [
          5.59,
          6.11,
          6.49,
          6.83,
          7.02
         ]
        },
        {
         "showlegend": false,
         "type": "box",
         "y": [
          7.69,
          8.7,
          8.81,
          8.92,
          12.1
         ]
        },
        {
         "showlegend": false,
         "type": "box",
         "y": [
          1.42,
          2.21,
          2.41,
          2.48,
          2.53
         ]
        },
        {
         "showlegend": false,
         "type": "box",
         "y": [
          0.73,
          0.73,
          0.74,
          0.86,
          1.08
         ]
        },
        {
         "showlegend": false,
         "type": "box",
         "y": [
          0.76,
          0.77,
          0.86,
          0.88,
          0.98
         ]
        },
        {
         "showlegend": false,
         "type": "box",
         "y": [
          1.3,
          1.61,
          1.88,
          2.03,
          2.2
         ]
        },
        {
         "showlegend": false,
         "type": "box",
         "y": [
          2.6,
          2.71,
          3.21,
          3.52,
          4.22
         ]
        },
        {
         "showlegend": false,
         "type": "box",
         "y": [
          2.26,
          2.64,
          2.72,
          2.73,
          3.72
         ]
        },
        {
         "showlegend": false,
         "type": "box",
         "y": [
          2.56,
          2.8,
          3.13,
          3.26,
          4.4
         ]
        },
        {
         "showlegend": false,
         "type": "box",
         "y": [
          3.41,
          3.5,
          3.59,
          4.1,
          4.44
         ]
        },
        {
         "showlegend": false,
         "type": "box",
         "y": [
          2.23,
          2.33,
          2.5,
          3.21,
          3.78
         ]
        },
        {
         "showlegend": false,
         "type": "box",
         "y": [
          0.51,
          0.55,
          0.56,
          0.59,
          1.09
         ]
        },
        {
         "showlegend": false,
         "type": "box",
         "y": [
          1.56,
          1.62,
          1.71,
          1.8
         ]
        },
        {
         "showlegend": false,
         "type": "box",
         "y": [
          2.34,
          2.65,
          2.73,
          2.91,
          3.33
         ]
        },
        {
         "showlegend": false,
         "type": "box",
         "y": [
          1.05,
          1.28,
          1.31,
          1.53,
          1.96
         ]
        },
        {
         "showlegend": false,
         "type": "box",
         "y": [
          1.57,
          1.97,
          2.06,
          2.1,
          2.25
         ]
        },
        {
         "showlegend": false,
         "type": "box",
         "y": [
          1.43,
          1.44,
          1.55,
          1.6,
          1.79
         ]
        }
       ],
       "layout": {
        "title": "Distribution testosterone female athletes ",
        "xaxis": {
         "title": "Athletes"
        },
        "yaxis": {
         "title": "T"
        }
       }
      },
      "text/html": [
       "<div id=\"7ee0d137-7a34-431a-8fd7-f2b99e577e4f\" style=\"height: 525px; width: 100%;\" class=\"plotly-graph-div\"></div><script type=\"text/javascript\">require([\"plotly\"], function(Plotly) { window.PLOTLYENV=window.PLOTLYENV || {};window.PLOTLYENV.BASE_URL=\"https://plot.ly\";Plotly.newPlot(\"7ee0d137-7a34-431a-8fd7-f2b99e577e4f\", [{\"type\": \"box\", \"y\": [1.19, 1.23, 1.26, 1.28, 1.32, 1.43, 1.58, 1.67, 2.02, 2.22, 2.35, 2.45, 2.53, 2.62, 3.02, 3.05, 3.21], \"showlegend\": false}, {\"type\": \"box\", \"y\": [1.6, 1.6, 1.83, 2.01, 2.05, 2.14, 2.49, 2.71, 2.9, 2.97, 2.98, 3.04, 3.15, 3.23, 3.32, 3.67, 3.68], \"showlegend\": false}, {\"type\": \"box\", \"y\": [1.57, 1.64, 1.75, 1.92, 2.75, 2.83, 2.99, 3.23, 16.61], \"showlegend\": false}, {\"type\": \"box\", \"y\": [2.87, 3.22, 3.65, 3.71, 3.84, 3.95, 4.01, 4.06, 4.1, 4.36, 4.41, 4.55, 5.12, 5.45, 5.91, 6.37, 7.23], \"showlegend\": false}, {\"type\": \"box\", \"y\": [1.25, 1.33, 1.4, 1.56, 1.57, 1.64, 2.06, 2.16, 2.18, 2.23, 2.27, 2.36, 2.55, 2.85, 2.86, 2.9], \"showlegend\": false}, {\"type\": \"box\", \"y\": [1.6, 1.81, 2.19, 2.3, 2.91], \"showlegend\": false}, {\"type\": \"box\", \"y\": [1.16, 1.24, 1.41, 1.51, 1.92], \"showlegend\": false}, {\"type\": \"box\", \"y\": [1.64, 1.69, 1.92, 2.12, 2.45], \"showlegend\": false}, {\"type\": \"box\", \"y\": [1.37, 1.4, 1.52, 1.57, 1.8], \"showlegend\": false}, {\"type\": \"box\", \"y\": [1.84, 2.16, 2.25, 2.25, 2.56], \"showlegend\": false}, {\"type\": \"box\", \"y\": [1.01, 1.04, 1.07, 1.31, 1.56], \"showlegend\": false}, {\"type\": \"box\", \"y\": [5.1, 5.16, 5.24, 5.34, 5.66], \"showlegend\": false}, {\"type\": \"box\", \"y\": [1.42, 1.58, 1.6, 1.64, 1.74], \"showlegend\": false}, {\"type\": \"box\", \"y\": [0.44, 0.69, 0.77, 0.78, 0.95], \"showlegend\": false}, {\"type\": \"box\", \"y\": [5.59, 6.11, 6.49, 6.83, 7.02], \"showlegend\": false}, {\"type\": \"box\", \"y\": [7.69, 8.7, 8.81, 8.92, 12.1], \"showlegend\": false}, {\"type\": \"box\", \"y\": [1.42, 2.21, 2.41, 2.48, 2.53], \"showlegend\": false}, {\"type\": \"box\", \"y\": [0.73, 0.73, 0.74, 0.86, 1.08], \"showlegend\": false}, {\"type\": \"box\", \"y\": [0.76, 0.77, 0.86, 0.88, 0.98], \"showlegend\": false}, {\"type\": \"box\", \"y\": [1.3, 1.61, 1.88, 2.03, 2.2], \"showlegend\": false}, {\"type\": \"box\", \"y\": [2.6, 2.71, 3.21, 3.52, 4.22], \"showlegend\": false}, {\"type\": \"box\", \"y\": [2.26, 2.64, 2.72, 2.73, 3.72], \"showlegend\": false}, {\"type\": \"box\", \"y\": [2.56, 2.8, 3.13, 3.26, 4.4], \"showlegend\": false}, {\"type\": \"box\", \"y\": [3.41, 3.5, 3.59, 4.1, 4.44], \"showlegend\": false}, {\"type\": \"box\", \"y\": [2.23, 2.33, 2.5, 3.21, 3.78], \"showlegend\": false}, {\"type\": \"box\", \"y\": [0.51, 0.55, 0.56, 0.59, 1.09], \"showlegend\": false}, {\"type\": \"box\", \"y\": [1.56, 1.62, 1.71, 1.8], \"showlegend\": false}, {\"type\": \"box\", \"y\": [2.34, 2.65, 2.73, 2.91, 3.33], \"showlegend\": false}, {\"type\": \"box\", \"y\": [1.05, 1.28, 1.31, 1.53, 1.96], \"showlegend\": false}, {\"type\": \"box\", \"y\": [1.57, 1.97, 2.06, 2.1, 2.25], \"showlegend\": false}, {\"type\": \"box\", \"y\": [1.43, 1.44, 1.55, 1.6, 1.79], \"showlegend\": false}], {\"title\": \"Distribution testosterone female athletes \", \"xaxis\": {\"title\": \"Athletes\"}, \"yaxis\": {\"title\": \"T\"}}, {\"showLink\": true, \"linkText\": \"Export to plot.ly\"})});</script>"
      ],
      "text/vnd.plotly.v1+html": [
       "<div id=\"7ee0d137-7a34-431a-8fd7-f2b99e577e4f\" style=\"height: 525px; width: 100%;\" class=\"plotly-graph-div\"></div><script type=\"text/javascript\">require([\"plotly\"], function(Plotly) { window.PLOTLYENV=window.PLOTLYENV || {};window.PLOTLYENV.BASE_URL=\"https://plot.ly\";Plotly.newPlot(\"7ee0d137-7a34-431a-8fd7-f2b99e577e4f\", [{\"type\": \"box\", \"y\": [1.19, 1.23, 1.26, 1.28, 1.32, 1.43, 1.58, 1.67, 2.02, 2.22, 2.35, 2.45, 2.53, 2.62, 3.02, 3.05, 3.21], \"showlegend\": false}, {\"type\": \"box\", \"y\": [1.6, 1.6, 1.83, 2.01, 2.05, 2.14, 2.49, 2.71, 2.9, 2.97, 2.98, 3.04, 3.15, 3.23, 3.32, 3.67, 3.68], \"showlegend\": false}, {\"type\": \"box\", \"y\": [1.57, 1.64, 1.75, 1.92, 2.75, 2.83, 2.99, 3.23, 16.61], \"showlegend\": false}, {\"type\": \"box\", \"y\": [2.87, 3.22, 3.65, 3.71, 3.84, 3.95, 4.01, 4.06, 4.1, 4.36, 4.41, 4.55, 5.12, 5.45, 5.91, 6.37, 7.23], \"showlegend\": false}, {\"type\": \"box\", \"y\": [1.25, 1.33, 1.4, 1.56, 1.57, 1.64, 2.06, 2.16, 2.18, 2.23, 2.27, 2.36, 2.55, 2.85, 2.86, 2.9], \"showlegend\": false}, {\"type\": \"box\", \"y\": [1.6, 1.81, 2.19, 2.3, 2.91], \"showlegend\": false}, {\"type\": \"box\", \"y\": [1.16, 1.24, 1.41, 1.51, 1.92], \"showlegend\": false}, {\"type\": \"box\", \"y\": [1.64, 1.69, 1.92, 2.12, 2.45], \"showlegend\": false}, {\"type\": \"box\", \"y\": [1.37, 1.4, 1.52, 1.57, 1.8], \"showlegend\": false}, {\"type\": \"box\", \"y\": [1.84, 2.16, 2.25, 2.25, 2.56], \"showlegend\": false}, {\"type\": \"box\", \"y\": [1.01, 1.04, 1.07, 1.31, 1.56], \"showlegend\": false}, {\"type\": \"box\", \"y\": [5.1, 5.16, 5.24, 5.34, 5.66], \"showlegend\": false}, {\"type\": \"box\", \"y\": [1.42, 1.58, 1.6, 1.64, 1.74], \"showlegend\": false}, {\"type\": \"box\", \"y\": [0.44, 0.69, 0.77, 0.78, 0.95], \"showlegend\": false}, {\"type\": \"box\", \"y\": [5.59, 6.11, 6.49, 6.83, 7.02], \"showlegend\": false}, {\"type\": \"box\", \"y\": [7.69, 8.7, 8.81, 8.92, 12.1], \"showlegend\": false}, {\"type\": \"box\", \"y\": [1.42, 2.21, 2.41, 2.48, 2.53], \"showlegend\": false}, {\"type\": \"box\", \"y\": [0.73, 0.73, 0.74, 0.86, 1.08], \"showlegend\": false}, {\"type\": \"box\", \"y\": [0.76, 0.77, 0.86, 0.88, 0.98], \"showlegend\": false}, {\"type\": \"box\", \"y\": [1.3, 1.61, 1.88, 2.03, 2.2], \"showlegend\": false}, {\"type\": \"box\", \"y\": [2.6, 2.71, 3.21, 3.52, 4.22], \"showlegend\": false}, {\"type\": \"box\", \"y\": [2.26, 2.64, 2.72, 2.73, 3.72], \"showlegend\": false}, {\"type\": \"box\", \"y\": [2.56, 2.8, 3.13, 3.26, 4.4], \"showlegend\": false}, {\"type\": \"box\", \"y\": [3.41, 3.5, 3.59, 4.1, 4.44], \"showlegend\": false}, {\"type\": \"box\", \"y\": [2.23, 2.33, 2.5, 3.21, 3.78], \"showlegend\": false}, {\"type\": \"box\", \"y\": [0.51, 0.55, 0.56, 0.59, 1.09], \"showlegend\": false}, {\"type\": \"box\", \"y\": [1.56, 1.62, 1.71, 1.8], \"showlegend\": false}, {\"type\": \"box\", \"y\": [2.34, 2.65, 2.73, 2.91, 3.33], \"showlegend\": false}, {\"type\": \"box\", \"y\": [1.05, 1.28, 1.31, 1.53, 1.96], \"showlegend\": false}, {\"type\": \"box\", \"y\": [1.57, 1.97, 2.06, 2.1, 2.25], \"showlegend\": false}, {\"type\": \"box\", \"y\": [1.43, 1.44, 1.55, 1.6, 1.79], \"showlegend\": false}], {\"title\": \"Distribution testosterone female athletes \", \"xaxis\": {\"title\": \"Athletes\"}, \"yaxis\": {\"title\": \"T\"}}, {\"showLink\": true, \"linkText\": \"Export to plot.ly\"})});</script>"
      ]
     },
     "metadata": {},
     "output_type": "display_data"
    }
   ],
   "source": [
    "plotData = []\n",
    "for test in female_testosterones:\n",
    "    plotData.append(go.Box(y= test, showlegend=False))\n",
    "layout = dict(title = 'Distribution testosterone female athletes ',\n",
    "              xaxis = dict(title = 'Athletes'),\n",
    "              yaxis = dict(title = 'T'))\n",
    "\n",
    "iplot(dict(data=plotData, layout=layout))"
   ]
  },
  {
   "cell_type": "markdown",
   "metadata": {},
   "source": [
    "### Can a same quadratic pattern be found for women?"
   ]
  },
  {
   "cell_type": "code",
   "execution_count": 313,
   "metadata": {
    "scrolled": false
   },
   "outputs": [
    {
     "data": {
      "application/vnd.plotly.v1+json": {
       "data": [
        {
         "hoverinfo": 69,
         "type": "box",
         "y": [
          0.09690402476780324,
          0.06257481940144616,
          0.009806501547989344,
          -0.061400928792567866,
          -0.121047471620225,
          -0.11913312693498246,
          -0.08565789473683982,
          -0.12062177502579763,
          0.09597523219814508,
          0.1541331269349877,
          0.13385190918472967,
          0.0751315789473721,
          -0.012027863777086534,
          -0.09762641898864421,
          0.118335913312698,
          -0.04414086687306007,
          -0.0850567595459184
         ]
        },
        {
         "hoverinfo": 70,
         "type": "box",
         "y": [
          0.09778121775026372,
          -0.07248968008255385,
          -0.007871517027858488,
          0.011635706914350008,
          -0.10396800825592889,
          -0.16468266253869412,
          0.0394917440660536,
          0.11855521155831372,
          0.1725077399380872,
          0.11134932920537421,
          -0.004920020639826994,
          -0.06630030959751432,
          -0.07279153766768864,
          -0.10439370485035049,
          -0.12110681114549848,
          0.12706914344686604,
          0.040134158926743435
         ]
        },
        {
         "hoverinfo": 80,
         "type": "box",
         "y": [
          -1.5283636363636346,
          0.2019090909090926,
          1.1724848484848502,
          1.4033636363636384,
          1.494545454545456,
          0.0360303030303033,
          -2.1421818181818164,
          -5.040090909090907,
          4.402303030303029
         ]
        },
        {
         "hoverinfo": 83,
         "type": "box",
         "y": [
          -0.49545923632611233,
          -0.15025025799793834,
          0.2470975232198116,
          0.24658410732713953,
          0.28820949432404364,
          0.2819736842105254,
          0.19787667698658273,
          0.07591847265221752,
          -0.08390092879257072,
          -0.0515815273477811,
          -0.257123323013416,
          -0.40052631578947384,
          -0.14179050567595386,
          -0.15091589267285777,
          -0.057902476780184564,
          0.007249742002065851,
          0.44454076367389206
         ]
        },
        {
         "hoverinfo": 88,
         "type": "box",
         "y": [
          0.04064950980391946,
          0.006639705882351077,
          -0.0376186974789936,
          0.007874299719886402,
          -0.09688130252101002,
          -0.14188550420168222,
          0.1628616946778696,
          0.14736029411764617,
          0.05161029411764595,
          -0.01438830532213009,
          -0.09063550420168154,
          -0.11713130252101012,
          -0.04387570028011378,
          0.1391313025210068,
          0.031889705882351294,
          -0.045600490196080035
         ]
        },
        {
         "hoverinfo": 98,
         "type": "box",
         "y": [
          -0.015714285714283793,
          -0.0031428571428557817,
          0.10371428571428654,
          -0.13514285714285723,
          0.05028571428571382
         ]
        },
        {
         "hoverinfo": 104,
         "type": "box",
         "y": [
          -0.014285714285714457,
          0.013142857142857567,
          0.04628571428571471,
          -0.07485714285714251,
          0.02971428571428536
         ]
        },
        {
         "hoverinfo": 105,
         "type": "box",
         "y": [
          0.010285714285714898,
          -0.031142857142856473,
          0.03171428571428603,
          -0.011142857142857121,
          0.0002857142857135564
         ]
        },
        {
         "hoverinfo": 106,
         "type": "box",
         "y": [
          -0.003142857142856892,
          -0.005428571428571116,
          0.035142857142857364,
          -0.04142857142857115,
          0.01485714285714268
         ]
        },
        {
         "hoverinfo": 108,
         "type": "box",
         "y": [
          -0.050285714285714045,
          0.09314285714285786,
          0.02228571428571513,
          -0.12285714285714278,
          0.05771428571428494
         ]
        },
        {
         "hoverinfo": 110,
         "type": "box",
         "y": [
          -0.006857142857141785,
          0.025428571428572244,
          -0.035142857142856476,
          0.021428571428571797,
          -0.004857142857142893
         ]
        },
        {
         "hoverinfo": 117,
         "type": "box",
         "y": [
          -0.017142857142856016,
          0.028571428571430246,
          0.01714285714285868,
          -0.05142857142857249,
          0.02285714285713958
         ]
        },
        {
         "hoverinfo": 118,
         "type": "box",
         "y": [
          -0.02171428571428602,
          0.04685714285714293,
          -0.01028571428571401,
          -0.03314285714285736,
          0.018285714285713572
         ]
        },
        {
         "hoverinfo": 119,
         "type": "box",
         "y": [
          -0.031142857142857028,
          0.05857142857142861,
          0.011142857142857232,
          -0.07342857142857151,
          0.034857142857142476
         ]
        },
        {
         "hoverinfo": 120,
         "type": "box",
         "y": [
          -0.001999999999996227,
          0.01000000000000334,
          -0.01799999999999713,
          0.01400000000000201,
          -0.003999999999998671
         ]
        },
        {
         "hoverinfo": 128,
         "type": "box",
         "y": [
          -0.3659999999999952,
          0.6700000000000035,
          0.18600000000000527,
          -0.9179999999999975,
          0.42799999999999905
         ]
        },
        {
         "hoverinfo": 130,
         "type": "box",
         "y": [
          -0.06199999999999983,
          0.13400000000000034,
          -0.02999999999999936,
          -0.09399999999999986,
          0.052000000000000046
         ]
        },
        {
         "hoverinfo": 131,
         "type": "box",
         "y": [
          -0.010571428571428565,
          0.024285714285714466,
          -0.009428571428571342,
          -0.011714285714285788,
          0.007428571428571118
         ]
        },
        {
         "hoverinfo": 134,
         "type": "box",
         "y": [
          0.004285714285714337,
          -0.017142857142856904,
          0.0257142857142858,
          -0.017142857142857126,
          0.004285714285714115
         ]
        },
        {
         "hoverinfo": 136,
         "type": "box",
         "y": [
          -0.002857142857141781,
          -0.0005714285714273348,
          0.018857142857143572,
          -0.02457142857142891,
          0.009142857142856009
         ]
        },
        {
         "hoverinfo": 140,
         "type": "box",
         "y": [
          0.016571428571428903,
          -0.06628571428571428,
          0.09942857142857164,
          -0.06628571428571517,
          0.01657142857142624
         ]
        },
        {
         "hoverinfo": 141,
         "type": "box",
         "y": [
          -0.11628571428571277,
          0.2091428571428584,
          0.07028571428571517,
          -0.30285714285714294,
          0.1397142857142848
         ]
        },
        {
         "hoverinfo": 142,
         "type": "box",
         "y": [
          -0.07057142857142695,
          0.09828571428571564,
          0.128571428571429,
          -0.26971428571428646,
          0.11342857142856921
         ]
        },
        {
         "hoverinfo": 144,
         "type": "box",
         "y": [
          0.0025714285714313334,
          0.02371428571428913,
          -0.08657142857142608,
          0.09171428571428564,
          -0.031428571428573804
         ]
        },
        {
         "hoverinfo": 145,
         "type": "box",
         "y": [
          0.0045714285714280045,
          0.02371428571428602,
          -0.09857142857142831,
          0.10771428571428521,
          -0.03742857142857314
         ]
        },
        {
         "hoverinfo": 155,
         "type": "box",
         "y": [
          -0.04428571428571404,
          0.0771428571428574,
          0.034285714285714475,
          -0.122857142857143,
          0.05571428571428538
         ]
        },
        {
         "hoverinfo": 157,
         "type": "box",
         "y": [
          0.0014999999999998348,
          -0.0045000000000001705,
          0.004499999999999504,
          -0.0015000000000002789
         ]
        },
        {
         "hoverinfo": 158,
         "type": "box",
         "y": [
          -0.049714285714284934,
          0.10485714285714431,
          -0.016285714285713127,
          -0.0831428571428563,
          0.044285714285713595
         ]
        },
        {
         "hoverinfo": 159,
         "type": "box",
         "y": [
          -0.04628571428571382,
          0.10314285714285742,
          -0.031714285714285584,
          -0.06085714285714361,
          0.03571428571428381
         ]
        },
        {
         "hoverinfo": 160,
         "type": "box",
         "y": [
          -0.043428571428570484,
          0.08971428571428652,
          -0.008571428571428008,
          -0.07828571428571429,
          0.040571428571428036
         ]
        },
        {
         "hoverinfo": 161,
         "type": "box",
         "y": [
          0.0011428571428580003,
          -0.01257142857142779,
          0.03085714285714336,
          -0.028571428571428248,
          0.009142857142856897
         ]
        }
       ],
       "layout": {}
      },
      "text/html": [
       "<div id=\"c1aa8293-1ac3-4efc-81c4-39efdab4615f\" style=\"height: 525px; width: 100%;\" class=\"plotly-graph-div\"></div><script type=\"text/javascript\">require([\"plotly\"], function(Plotly) { window.PLOTLYENV=window.PLOTLYENV || {};window.PLOTLYENV.BASE_URL=\"https://plot.ly\";Plotly.newPlot(\"c1aa8293-1ac3-4efc-81c4-39efdab4615f\", [{\"type\": \"box\", \"y\": [0.09690402476780324, 0.06257481940144616, 0.009806501547989344, -0.061400928792567866, -0.121047471620225, -0.11913312693498246, -0.08565789473683982, -0.12062177502579763, 0.09597523219814508, 0.1541331269349877, 0.13385190918472967, 0.0751315789473721, -0.012027863777086534, -0.09762641898864421, 0.118335913312698, -0.04414086687306007, -0.0850567595459184], \"hoverinfo\": 69}, {\"type\": \"box\", \"y\": [0.09778121775026372, -0.07248968008255385, -0.007871517027858488, 0.011635706914350008, -0.10396800825592889, -0.16468266253869412, 0.0394917440660536, 0.11855521155831372, 0.1725077399380872, 0.11134932920537421, -0.004920020639826994, -0.06630030959751432, -0.07279153766768864, -0.10439370485035049, -0.12110681114549848, 0.12706914344686604, 0.040134158926743435], \"hoverinfo\": 70}, {\"type\": \"box\", \"y\": [-1.5283636363636346, 0.2019090909090926, 1.1724848484848502, 1.4033636363636384, 1.494545454545456, 0.0360303030303033, -2.1421818181818164, -5.040090909090907, 4.402303030303029], \"hoverinfo\": 80}, {\"type\": \"box\", \"y\": [-0.49545923632611233, -0.15025025799793834, 0.2470975232198116, 0.24658410732713953, 0.28820949432404364, 0.2819736842105254, 0.19787667698658273, 0.07591847265221752, -0.08390092879257072, -0.0515815273477811, -0.257123323013416, -0.40052631578947384, -0.14179050567595386, -0.15091589267285777, -0.057902476780184564, 0.007249742002065851, 0.44454076367389206], \"hoverinfo\": 83}, {\"type\": \"box\", \"y\": [0.04064950980391946, 0.006639705882351077, -0.0376186974789936, 0.007874299719886402, -0.09688130252101002, -0.14188550420168222, 0.1628616946778696, 0.14736029411764617, 0.05161029411764595, -0.01438830532213009, -0.09063550420168154, -0.11713130252101012, -0.04387570028011378, 0.1391313025210068, 0.031889705882351294, -0.045600490196080035], \"hoverinfo\": 88}, {\"type\": \"box\", \"y\": [-0.015714285714283793, -0.0031428571428557817, 0.10371428571428654, -0.13514285714285723, 0.05028571428571382], \"hoverinfo\": 98}, {\"type\": \"box\", \"y\": [-0.014285714285714457, 0.013142857142857567, 0.04628571428571471, -0.07485714285714251, 0.02971428571428536], \"hoverinfo\": 104}, {\"type\": \"box\", \"y\": [0.010285714285714898, -0.031142857142856473, 0.03171428571428603, -0.011142857142857121, 0.0002857142857135564], \"hoverinfo\": 105}, {\"type\": \"box\", \"y\": [-0.003142857142856892, -0.005428571428571116, 0.035142857142857364, -0.04142857142857115, 0.01485714285714268], \"hoverinfo\": 106}, {\"type\": \"box\", \"y\": [-0.050285714285714045, 0.09314285714285786, 0.02228571428571513, -0.12285714285714278, 0.05771428571428494], \"hoverinfo\": 108}, {\"type\": \"box\", \"y\": [-0.006857142857141785, 0.025428571428572244, -0.035142857142856476, 0.021428571428571797, -0.004857142857142893], \"hoverinfo\": 110}, {\"type\": \"box\", \"y\": [-0.017142857142856016, 0.028571428571430246, 0.01714285714285868, -0.05142857142857249, 0.02285714285713958], \"hoverinfo\": 117}, {\"type\": \"box\", \"y\": [-0.02171428571428602, 0.04685714285714293, -0.01028571428571401, -0.03314285714285736, 0.018285714285713572], \"hoverinfo\": 118}, {\"type\": \"box\", \"y\": [-0.031142857142857028, 0.05857142857142861, 0.011142857142857232, -0.07342857142857151, 0.034857142857142476], \"hoverinfo\": 119}, {\"type\": \"box\", \"y\": [-0.001999999999996227, 0.01000000000000334, -0.01799999999999713, 0.01400000000000201, -0.003999999999998671], \"hoverinfo\": 120}, {\"type\": \"box\", \"y\": [-0.3659999999999952, 0.6700000000000035, 0.18600000000000527, -0.9179999999999975, 0.42799999999999905], \"hoverinfo\": 128}, {\"type\": \"box\", \"y\": [-0.06199999999999983, 0.13400000000000034, -0.02999999999999936, -0.09399999999999986, 0.052000000000000046], \"hoverinfo\": 130}, {\"type\": \"box\", \"y\": [-0.010571428571428565, 0.024285714285714466, -0.009428571428571342, -0.011714285714285788, 0.007428571428571118], \"hoverinfo\": 131}, {\"type\": \"box\", \"y\": [0.004285714285714337, -0.017142857142856904, 0.0257142857142858, -0.017142857142857126, 0.004285714285714115], \"hoverinfo\": 134}, {\"type\": \"box\", \"y\": [-0.002857142857141781, -0.0005714285714273348, 0.018857142857143572, -0.02457142857142891, 0.009142857142856009], \"hoverinfo\": 136}, {\"type\": \"box\", \"y\": [0.016571428571428903, -0.06628571428571428, 0.09942857142857164, -0.06628571428571517, 0.01657142857142624], \"hoverinfo\": 140}, {\"type\": \"box\", \"y\": [-0.11628571428571277, 0.2091428571428584, 0.07028571428571517, -0.30285714285714294, 0.1397142857142848], \"hoverinfo\": 141}, {\"type\": \"box\", \"y\": [-0.07057142857142695, 0.09828571428571564, 0.128571428571429, -0.26971428571428646, 0.11342857142856921], \"hoverinfo\": 142}, {\"type\": \"box\", \"y\": [0.0025714285714313334, 0.02371428571428913, -0.08657142857142608, 0.09171428571428564, -0.031428571428573804], \"hoverinfo\": 144}, {\"type\": \"box\", \"y\": [0.0045714285714280045, 0.02371428571428602, -0.09857142857142831, 0.10771428571428521, -0.03742857142857314], \"hoverinfo\": 145}, {\"type\": \"box\", \"y\": [-0.04428571428571404, 0.0771428571428574, 0.034285714285714475, -0.122857142857143, 0.05571428571428538], \"hoverinfo\": 155}, {\"type\": \"box\", \"y\": [0.0014999999999998348, -0.0045000000000001705, 0.004499999999999504, -0.0015000000000002789], \"hoverinfo\": 157}, {\"type\": \"box\", \"y\": [-0.049714285714284934, 0.10485714285714431, -0.016285714285713127, -0.0831428571428563, 0.044285714285713595], \"hoverinfo\": 158}, {\"type\": \"box\", \"y\": [-0.04628571428571382, 0.10314285714285742, -0.031714285714285584, -0.06085714285714361, 0.03571428571428381], \"hoverinfo\": 159}, {\"type\": \"box\", \"y\": [-0.043428571428570484, 0.08971428571428652, -0.008571428571428008, -0.07828571428571429, 0.040571428571428036], \"hoverinfo\": 160}, {\"type\": \"box\", \"y\": [0.0011428571428580003, -0.01257142857142779, 0.03085714285714336, -0.028571428571428248, 0.009142857142856897], \"hoverinfo\": 161}], {}, {\"showLink\": true, \"linkText\": \"Export to plot.ly\"})});</script>"
      ],
      "text/vnd.plotly.v1+html": [
       "<div id=\"c1aa8293-1ac3-4efc-81c4-39efdab4615f\" style=\"height: 525px; width: 100%;\" class=\"plotly-graph-div\"></div><script type=\"text/javascript\">require([\"plotly\"], function(Plotly) { window.PLOTLYENV=window.PLOTLYENV || {};window.PLOTLYENV.BASE_URL=\"https://plot.ly\";Plotly.newPlot(\"c1aa8293-1ac3-4efc-81c4-39efdab4615f\", [{\"type\": \"box\", \"y\": [0.09690402476780324, 0.06257481940144616, 0.009806501547989344, -0.061400928792567866, -0.121047471620225, -0.11913312693498246, -0.08565789473683982, -0.12062177502579763, 0.09597523219814508, 0.1541331269349877, 0.13385190918472967, 0.0751315789473721, -0.012027863777086534, -0.09762641898864421, 0.118335913312698, -0.04414086687306007, -0.0850567595459184], \"hoverinfo\": 69}, {\"type\": \"box\", \"y\": [0.09778121775026372, -0.07248968008255385, -0.007871517027858488, 0.011635706914350008, -0.10396800825592889, -0.16468266253869412, 0.0394917440660536, 0.11855521155831372, 0.1725077399380872, 0.11134932920537421, -0.004920020639826994, -0.06630030959751432, -0.07279153766768864, -0.10439370485035049, -0.12110681114549848, 0.12706914344686604, 0.040134158926743435], \"hoverinfo\": 70}, {\"type\": \"box\", \"y\": [-1.5283636363636346, 0.2019090909090926, 1.1724848484848502, 1.4033636363636384, 1.494545454545456, 0.0360303030303033, -2.1421818181818164, -5.040090909090907, 4.402303030303029], \"hoverinfo\": 80}, {\"type\": \"box\", \"y\": [-0.49545923632611233, -0.15025025799793834, 0.2470975232198116, 0.24658410732713953, 0.28820949432404364, 0.2819736842105254, 0.19787667698658273, 0.07591847265221752, -0.08390092879257072, -0.0515815273477811, -0.257123323013416, -0.40052631578947384, -0.14179050567595386, -0.15091589267285777, -0.057902476780184564, 0.007249742002065851, 0.44454076367389206], \"hoverinfo\": 83}, {\"type\": \"box\", \"y\": [0.04064950980391946, 0.006639705882351077, -0.0376186974789936, 0.007874299719886402, -0.09688130252101002, -0.14188550420168222, 0.1628616946778696, 0.14736029411764617, 0.05161029411764595, -0.01438830532213009, -0.09063550420168154, -0.11713130252101012, -0.04387570028011378, 0.1391313025210068, 0.031889705882351294, -0.045600490196080035], \"hoverinfo\": 88}, {\"type\": \"box\", \"y\": [-0.015714285714283793, -0.0031428571428557817, 0.10371428571428654, -0.13514285714285723, 0.05028571428571382], \"hoverinfo\": 98}, {\"type\": \"box\", \"y\": [-0.014285714285714457, 0.013142857142857567, 0.04628571428571471, -0.07485714285714251, 0.02971428571428536], \"hoverinfo\": 104}, {\"type\": \"box\", \"y\": [0.010285714285714898, -0.031142857142856473, 0.03171428571428603, -0.011142857142857121, 0.0002857142857135564], \"hoverinfo\": 105}, {\"type\": \"box\", \"y\": [-0.003142857142856892, -0.005428571428571116, 0.035142857142857364, -0.04142857142857115, 0.01485714285714268], \"hoverinfo\": 106}, {\"type\": \"box\", \"y\": [-0.050285714285714045, 0.09314285714285786, 0.02228571428571513, -0.12285714285714278, 0.05771428571428494], \"hoverinfo\": 108}, {\"type\": \"box\", \"y\": [-0.006857142857141785, 0.025428571428572244, -0.035142857142856476, 0.021428571428571797, -0.004857142857142893], \"hoverinfo\": 110}, {\"type\": \"box\", \"y\": [-0.017142857142856016, 0.028571428571430246, 0.01714285714285868, -0.05142857142857249, 0.02285714285713958], \"hoverinfo\": 117}, {\"type\": \"box\", \"y\": [-0.02171428571428602, 0.04685714285714293, -0.01028571428571401, -0.03314285714285736, 0.018285714285713572], \"hoverinfo\": 118}, {\"type\": \"box\", \"y\": [-0.031142857142857028, 0.05857142857142861, 0.011142857142857232, -0.07342857142857151, 0.034857142857142476], \"hoverinfo\": 119}, {\"type\": \"box\", \"y\": [-0.001999999999996227, 0.01000000000000334, -0.01799999999999713, 0.01400000000000201, -0.003999999999998671], \"hoverinfo\": 120}, {\"type\": \"box\", \"y\": [-0.3659999999999952, 0.6700000000000035, 0.18600000000000527, -0.9179999999999975, 0.42799999999999905], \"hoverinfo\": 128}, {\"type\": \"box\", \"y\": [-0.06199999999999983, 0.13400000000000034, -0.02999999999999936, -0.09399999999999986, 0.052000000000000046], \"hoverinfo\": 130}, {\"type\": \"box\", \"y\": [-0.010571428571428565, 0.024285714285714466, -0.009428571428571342, -0.011714285714285788, 0.007428571428571118], \"hoverinfo\": 131}, {\"type\": \"box\", \"y\": [0.004285714285714337, -0.017142857142856904, 0.0257142857142858, -0.017142857142857126, 0.004285714285714115], \"hoverinfo\": 134}, {\"type\": \"box\", \"y\": [-0.002857142857141781, -0.0005714285714273348, 0.018857142857143572, -0.02457142857142891, 0.009142857142856009], \"hoverinfo\": 136}, {\"type\": \"box\", \"y\": [0.016571428571428903, -0.06628571428571428, 0.09942857142857164, -0.06628571428571517, 0.01657142857142624], \"hoverinfo\": 140}, {\"type\": \"box\", \"y\": [-0.11628571428571277, 0.2091428571428584, 0.07028571428571517, -0.30285714285714294, 0.1397142857142848], \"hoverinfo\": 141}, {\"type\": \"box\", \"y\": [-0.07057142857142695, 0.09828571428571564, 0.128571428571429, -0.26971428571428646, 0.11342857142856921], \"hoverinfo\": 142}, {\"type\": \"box\", \"y\": [0.0025714285714313334, 0.02371428571428913, -0.08657142857142608, 0.09171428571428564, -0.031428571428573804], \"hoverinfo\": 144}, {\"type\": \"box\", \"y\": [0.0045714285714280045, 0.02371428571428602, -0.09857142857142831, 0.10771428571428521, -0.03742857142857314], \"hoverinfo\": 145}, {\"type\": \"box\", \"y\": [-0.04428571428571404, 0.0771428571428574, 0.034285714285714475, -0.122857142857143, 0.05571428571428538], \"hoverinfo\": 155}, {\"type\": \"box\", \"y\": [0.0014999999999998348, -0.0045000000000001705, 0.004499999999999504, -0.0015000000000002789], \"hoverinfo\": 157}, {\"type\": \"box\", \"y\": [-0.049714285714284934, 0.10485714285714431, -0.016285714285713127, -0.0831428571428563, 0.044285714285713595], \"hoverinfo\": 158}, {\"type\": \"box\", \"y\": [-0.04628571428571382, 0.10314285714285742, -0.031714285714285584, -0.06085714285714361, 0.03571428571428381], \"hoverinfo\": 159}, {\"type\": \"box\", \"y\": [-0.043428571428570484, 0.08971428571428652, -0.008571428571428008, -0.07828571428571429, 0.040571428571428036], \"hoverinfo\": 160}, {\"type\": \"box\", \"y\": [0.0011428571428580003, -0.01257142857142779, 0.03085714285714336, -0.028571428571428248, 0.009142857142856897], \"hoverinfo\": 161}], {}, {\"showLink\": true, \"linkText\": \"Export to plot.ly\"})});</script>"
      ]
     },
     "metadata": {},
     "output_type": "display_data"
    }
   ],
   "source": [
    "model_quad = Pipeline([('poly', PolynomialFeatures(degree=2)),('linear', LinearRegression(fit_intercept=False))])\n",
    "\n",
    "residuals_quad = []\n",
    "quad_coefs = []\n",
    "for y in female_testosterones:\n",
    "    x = np.arange(len(y))\n",
    "    model_quad = model_quad.fit(np.arange(len(y))[:, np.newaxis], y)\n",
    "    y_hat_quad = model_quad.named_steps['linear'].coef_[0] + model_quad.named_steps['linear'].coef_[1] * x + model_quad.named_steps['linear'].coef_[2] * (x** 2)\n",
    "    residual_quad = y - y_hat_quad\n",
    "    quad_coefs.append(model_quad.named_steps['linear'].coef_) \n",
    "    residuals_quad.append(residual_quad)\n",
    "\n",
    "data = [go.Box(y=residual_quad, hoverinfo=residual_quad.index[0]) for residual_quad in residuals_quad]\n",
    "iplot(data)"
   ]
  },
  {
   "cell_type": "code",
   "execution_count": 330,
   "metadata": {},
   "outputs": [
    {
     "data": {
      "image/png": "[encoded data removed]",
      "text/plain": [
       "<matplotlib.figure.Figure at 0x7feeb6abccc0>"
      ]
     },
     "metadata": {},
     "output_type": "display_data"
    }
   ],
   "source": [
    "show_testosterone_and_predictions(19, quad_coefs, False)"
   ]
  },
  {
   "cell_type": "markdown",
   "metadata": {},
   "source": [
    "Same as male athlete using non-linear fits for women athlets can almost perfectly describe the trends of testosterones. Athletes with high variance shows abnormal patterns."
   ]
  }
 ],
 "metadata": {
  "kernelspec": {
   "display_name": "Python 3",
   "language": "python",
   "name": "python3"
  },
  "language_info": {
   "codemirror_mode": {
    "name": "ipython",
    "version": 3
   },
   "file_extension": ".py",
   "mimetype": "text/x-python",
   "name": "python",
   "nbconvert_exporter": "python",
   "pygments_lexer": "ipython3",
   "version": "3.6.3"
  }
 },
 "nbformat": 4,
 "nbformat_minor": 2
}
