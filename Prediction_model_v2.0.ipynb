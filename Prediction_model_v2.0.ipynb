{
 "cells": [
  {
   "cell_type": "markdown",
   "metadata": {},
   "source": [
    "## Changelog\n",
    "* V2 Implementing forward-walk cross validation for timeseries"
   ]
  },
  {
   "cell_type": "code",
   "execution_count": 1,
   "metadata": {},
   "outputs": [
    {
     "name": "stderr",
     "output_type": "stream",
     "text": [
      "Using TensorFlow backend.\n"
     ]
    },
    {
     "data": {
      "text/html": [
       "<script>requirejs.config({paths: { 'plotly': ['https://cdn.plot.ly/plotly-latest.min']},});if(!window.Plotly) {{require(['plotly'],function(plotly) {window.Plotly=plotly;});}}</script>"
      ],
      "text/vnd.plotly.v1+html": [
       "<script>requirejs.config({paths: { 'plotly': ['https://cdn.plot.ly/plotly-latest.min']},});if(!window.Plotly) {{require(['plotly'],function(plotly) {window.Plotly=plotly;});}}</script>"
      ]
     },
     "metadata": {},
     "output_type": "display_data"
    }
   ],
   "source": [
    "from tqdm import tqdm_notebook\n",
    "\n",
    "import numpy as np\n",
    "from matplotlib import pyplot as plt\n",
    "\n",
    "import pandas as pd\n",
    "from pandas import DataFrame, Series\n",
    "\n",
    "from sklearn.model_selection import train_test_split\n",
    "from sklearn.preprocessing import MinMaxScaler\n",
    "from sklearn.metrics import mean_squared_error\n",
    "\n",
    "from keras.layers import Dense, LSTM, SimpleRNN, Masking\n",
    "from keras.models import Sequential\n",
    "from keras.preprocessing.sequence import pad_sequences\n",
    "\n",
    "import plotly.plotly as py\n",
    "import plotly.graph_objs as go\n",
    "from plotly.offline import download_plotlyjs, init_notebook_mode, plot, iplot\n",
    "\n",
    "init_notebook_mode(connected=True)\n",
    "%matplotlib inline"
   ]
  },
  {
   "cell_type": "code",
   "execution_count": 2,
   "metadata": {
    "collapsed": true
   },
   "outputs": [],
   "source": [
    "# scale train and test data to [-1, 1]\n",
    "def scale(train, test):\n",
    "    scaler = MinMaxScaler(feature_range=(-1, 1))\n",
    "    scaler = scaler.fit(train)\n",
    "    train_scaled = scaler.transform(train)\n",
    "    test_scaled = scaler.transform(test)\n",
    "    \n",
    "    return scaler, train_scaled, test_scaled\n",
    " \n",
    "# inverse scaling for a forecasted value\n",
    "def invert_scale(scaler, X, yhat):\n",
    "    new_row = [x for x in X] + [yhat]\n",
    "    array = np.array(new_row)\n",
    "    array = array.reshape(1, len(array))\n",
    "    inverted = scaler.inverse_transform(array)\n",
    "    \n",
    "    return inverted[0, -1]"
   ]
  },
  {
   "cell_type": "code",
   "execution_count": 3,
   "metadata": {
    "collapsed": true
   },
   "outputs": [],
   "source": [
    "def timeseries_to_supervised(data):\n",
    "    \"\"\"\n",
    "    Append the lag -1 of the target value (i.e., previous Testosterone value) as a new feature to the data\n",
    "    \n",
    "    Arguments:\n",
    "        data: a dataframe containing Testosterone and other features\n",
    "    \"\"\"\n",
    "\n",
    "    new_df = DataFrame()\n",
    "    for pIndex, features in data.groupby(\"Person\"):\n",
    "        copy_features = features.copy()\n",
    "        copy_features['y'] = features.Testosterone.shift(-1)\n",
    "        copy_features.drop(copy_features.index[len(features) - 1], inplace=True)\n",
    "        new_df = pd.concat([new_df, copy_features])\n",
    "    \n",
    "    return new_df"
   ]
  },
  {
   "cell_type": "code",
   "execution_count": 4,
   "metadata": {
    "collapsed": true
   },
   "outputs": [],
   "source": [
    "def prepare_dataset(data, to_supervised=True, as_dataframe=False):\n",
    "    \"\"\"\n",
    "    Returns a dataframe of athletes with a 2D indexing where the first index corresponds to the athlete's Id\n",
    "    and the second index corresponds to the observation (timestep) Id.\n",
    "    \n",
    "    Arguments:\n",
    "        to_supervised: if True a column with -1 lag values of Testosterone columns is added as the future target values\n",
    "    \"\"\"\n",
    "    data = data.copy()\n",
    "    # adding seq_ix to data\n",
    "    seq_ix = [list(np.arange(i)) for i in data.groupby(\"Person\").size().values]\n",
    "    seq_ix = [item for sub in seq_ix for item in sub]\n",
    "    data.index = pd.MultiIndex.from_arrays([data.index.values, seq_ix], names=['Person', 'seq_ix'])\n",
    "    # impute missing values\n",
    "    data.fillna(method='pad', inplace=True)\n",
    "        \n",
    "    if to_supervised:        \n",
    "        data = timeseries_to_supervised(data)\n",
    "    if as_dataframe:\n",
    "        return data\n",
    "    # convert to numpy 3D array\n",
    "    data_array = [person.values for pId, person in data.groupby('Person')]\n",
    "    \n",
    "    return data_array"
   ]
  },
  {
   "cell_type": "code",
   "execution_count": 5,
   "metadata": {
    "collapsed": true
   },
   "outputs": [],
   "source": [
    "#defining callbacks\n",
    "from keras.callbacks import EarlyStopping, TensorBoard\n",
    "tensorboard_callback = TensorBoard(log_dir=\"./logs/2_LSTM_100_run26_maskingLayer_scaled_batch2\" , histogram_freq=1, batch_size=1)\n",
    "earlystopping_callback = EarlyStopping(min_delta=.001 , patience=20, mode='min', verbose=1)"
   ]
  },
  {
   "cell_type": "markdown",
   "metadata": {},
   "source": [
    "### Creating walk-forward dataset for robust validation"
   ]
  },
  {
   "cell_type": "code",
   "execution_count": 6,
   "metadata": {
    "collapsed": true
   },
   "outputs": [],
   "source": [
    "def get_model(batch_size, nb_features, neurons):\n",
    "    \n",
    "    model = Sequential()\n",
    "    model.add(LSTM(neurons, return_sequences=True, batch_input_shape=(batch_size, 1, nb_features), stateful=True))\n",
    "    model.add(LSTM(neurons, stateful=True))\n",
    "    model.add(Dense(1))\n",
    "    model.compile(loss='mean_squared_error', optimizer='adam')\n",
    "    \n",
    "    return model\n",
    "\n",
    "# Fit LSTM model\n",
    "def fit_model(model, train, batch_size, updates):\n",
    "    \"\"\"\n",
    "    :param train: a 2D numpy array containing all the observation (timesteps) of one athlete as rows. The last column contains the future value of Testosterone (i.e., target column).\n",
    "    \"\"\"\n",
    "    X_train = train[:, 0:-1]\n",
    "    X_train = X_train.reshape(X_train.shape[0], 1, X_train.shape[1])\n",
    "    y_train = train[:, -1]\n",
    "    \n",
    "    losses = []\n",
    "    for i in range(updates):\n",
    "        history = model.fit(X_train, y_train, epochs=1, batch_size=batch_size, verbose=0, shuffle=False)\n",
    "        losses.append(history.history['loss'])\n",
    "        model.reset_states()\n",
    "    \n",
    "    return model, losses\n",
    "\n",
    "# make a one-step forecast\n",
    "def forecast_lstm(model, X_test, batch_size):\n",
    "    \n",
    "    X_test = X_test.reshape(1, 1, len(X_test))\n",
    "    \n",
    "    yhat = model.predict(X_test, batch_size=batch_size)\n",
    "\n",
    "    return yhat[0,0]"
   ]
  },
  {
   "cell_type": "code",
   "execution_count": 7,
   "metadata": {
    "collapsed": true
   },
   "outputs": [],
   "source": [
    "# run a repeated experiment\n",
    "def experiment(data, repeats, epochs, updates, batch_size):\n",
    "    nb_features = data[0].shape[1] -1 # -1 since the last column is target value\n",
    "    \n",
    "    repeat_predictions = []\n",
    "    repeat_targetvalues = []\n",
    "    repeat_losses = []\n",
    "    for r in tqdm_notebook(range(repeats), desc=\"Repeat\"):\n",
    "        persons_predictions = []\n",
    "        persons_targetvalues = []\n",
    "        persons_losses = []\n",
    "        \n",
    "        # fit the base model\n",
    "        model = get_model(batch_size, nb_features, 100)\n",
    "        \n",
    "        for person in tqdm_notebook(data, desc=\"Athlete\"):\n",
    "            \n",
    "            train, test = train_test_split(person, test_size=.33, shuffle=False)\n",
    "            scaler, scaled_train, scaled_test = scale(train, test)\n",
    "            model, losses = fit_model(model, scaled_train, 1, epochs)\n",
    "            \n",
    "            predictions = list()\n",
    "            for i in range(len(scaled_test)):\n",
    "                # update model\n",
    "                if i > 0:\n",
    "                    model, updated_losses = fit_model(model, updated_train, 1, updates)\n",
    "                    losses.extend(updated_losses)\n",
    "                X_test = scaled_test[i, 0:-1]\n",
    "                # predict\n",
    "                yhat = forecast_lstm(model, X_test, 1)        \n",
    "                # invert scaling\n",
    "                yhat = invert_scale(scaler, X_test, yhat)\n",
    "                # store forecast\n",
    "                predictions.append(yhat)\n",
    "                # add to training set\n",
    "                updated_train = np.concatenate((scaled_train, scaled_test[i,:].reshape(1, -1)))\n",
    "            \n",
    "            persons_losses.append(losses)\n",
    "            persons_predictions.append(predictions)\n",
    "            persons_targetvalues.append(test[:, -1].tolist())\n",
    "        \n",
    "        repeat_losses.append(persons_losses)    \n",
    "        repeat_predictions.append(persons_predictions)\n",
    "        repeat_targetvalues.append(persons_targetvalues)\n",
    "    \n",
    "    return repeat_losses, repeat_predictions, repeat_targetvalues"
   ]
  },
  {
   "cell_type": "code",
   "execution_count": 8,
   "metadata": {
    "collapsed": true
   },
   "outputs": [],
   "source": [
    "data = DataFrame.from_csv(\"./testosterone_levels.csv\")\n",
    "index_to_pid = dict(list(zip(range(len(data.index.unique())), data.index.unique().values)))\n",
    "pid_to_index = dict(list(zip(data.index.unique().values, range(len(data.index.unique())))))"
   ]
  },
  {
   "cell_type": "code",
   "execution_count": 9,
   "metadata": {
    "collapsed": true
   },
   "outputs": [],
   "source": [
    "prepared_data = prepare_dataset(data)"
   ]
  },
  {
   "cell_type": "code",
   "execution_count": 10,
   "metadata": {},
   "outputs": [
    {
     "data": {
      "application/vnd.jupyter.widget-view+json": {
       "model_id": "48ce5148749f4a6dbf507f8e3f70c568",
       "version_major": 2,
       "version_minor": 0
      },
      "text/plain": [
       "A Jupyter Widget"
      ]
     },
     "metadata": {},
     "output_type": "display_data"
    },
    {
     "data": {
      "application/vnd.jupyter.widget-view+json": {
       "model_id": "6080c57980114c9da39af87da462ab0e",
       "version_major": 2,
       "version_minor": 0
      },
      "text/plain": [
       "A Jupyter Widget"
      ]
     },
     "metadata": {},
     "output_type": "display_data"
    },
    {
     "data": {
      "application/vnd.jupyter.widget-view+json": {
       "model_id": "105f76752570454b9c82b06dfc123fd5",
       "version_major": 2,
       "version_minor": 0
      },
      "text/plain": [
       "A Jupyter Widget"
      ]
     },
     "metadata": {},
     "output_type": "display_data"
    },
    {
     "data": {
      "application/vnd.jupyter.widget-view+json": {
       "model_id": "4fd77233659742099b977de6ab46cf4e",
       "version_major": 2,
       "version_minor": 0
      },
      "text/plain": [
       "A Jupyter Widget"
      ]
     },
     "metadata": {},
     "output_type": "display_data"
    },
    {
     "data": {
      "application/vnd.jupyter.widget-view+json": {
       "model_id": "705dc73dc2b343929363e6c1cc2cd60d",
       "version_major": 2,
       "version_minor": 0
      },
      "text/plain": [
       "A Jupyter Widget"
      ]
     },
     "metadata": {},
     "output_type": "display_data"
    },
    {
     "data": {
      "application/vnd.jupyter.widget-view+json": {
       "model_id": "6ca72594bb6046ee82aabc17fcb68b2f",
       "version_major": 2,
       "version_minor": 0
      },
      "text/plain": [
       "A Jupyter Widget"
      ]
     },
     "metadata": {},
     "output_type": "display_data"
    },
    {
     "name": "stdout",
     "output_type": "stream",
     "text": [
      "\n"
     ]
    }
   ],
   "source": [
    "repeat_losses, repeat_predictions, repeat_targetvalues = experiment(prepared_data, 5, 30, 10, 1)"
   ]
  },
  {
   "cell_type": "code",
   "execution_count": 11,
   "metadata": {
    "collapsed": true
   },
   "outputs": [],
   "source": [
    "padded_predictions = np.array([pad_sequences(persons_predictions , dtype=np.float32, value=np.nan) for persons_predictions in repeat_predictions])\n",
    "padded_targetvalues = np.array([pad_sequences(persons_targetvalues , dtype=np.float32) for persons_targetvalues in repeat_targetvalues])"
   ]
  },
  {
   "cell_type": "code",
   "execution_count": 12,
   "metadata": {},
   "outputs": [
    {
     "data": {
      "application/vnd.plotly.v1+json": {
       "data": [
        {
         "name": 0,
         "showlegend": false,
         "type": "box",
         "y": [
          1.1138697862625122,
          1.2358237504959106,
          1.1667780876159668,
          1.174458384513855,
          1.1280889511108398
         ]
        },
        {
         "name": 1,
         "showlegend": false,
         "type": "box",
         "y": [
          4.708837985992432,
          4.799873352050781,
          4.953790187835693,
          4.512556552886963,
          4.607919692993164
         ]
        },
        {
         "name": 2,
         "showlegend": false,
         "type": "box",
         "y": [
          0.7679312229156494,
          0.8065783977508545,
          0.8290627598762512,
          0.7665471434593201,
          0.8422613739967346
         ]
        },
        {
         "name": 3,
         "showlegend": false,
         "type": "box",
         "y": [
          0.7278277277946472,
          0.7247320413589478,
          0.6914322376251221,
          0.6522627472877502,
          0.7242496013641357
         ]
        },
        {
         "name": 4,
         "showlegend": false,
         "type": "box",
         "y": [
          1.542312741279602,
          1.3960505723953247,
          1.5765457153320312,
          1.5401009321212769,
          1.388735055923462
         ]
        },
        {
         "name": 5,
         "showlegend": false,
         "type": "box",
         "y": [
          1.851402759552002,
          1.7589609622955322,
          1.6465665102005005,
          1.5756348371505737,
          1.8190997838974
         ]
        },
        {
         "name": 6,
         "showlegend": false,
         "type": "box",
         "y": [
          1.5429738759994507,
          1.157629370689392,
          1.1389226913452148,
          1.3750492334365845,
          1.248412847518921
         ]
        },
        {
         "name": 7,
         "showlegend": false,
         "type": "box",
         "y": [
          9.978277206420898,
          8.683364868164062,
          9.269739151000977,
          9.770181655883789,
          8.868972778320312
         ]
        },
        {
         "name": 8,
         "showlegend": false,
         "type": "box",
         "y": [
          5.708532810211182,
          4.639824867248535,
          4.494205474853516,
          5.440902233123779,
          4.795740604400635
         ]
        },
        {
         "name": 9,
         "showlegend": false,
         "type": "box",
         "y": [
          3.1335222721099854,
          2.71370530128479,
          2.614471912384033,
          2.822892189025879,
          2.9394123554229736
         ]
        },
        {
         "name": 10,
         "showlegend": false,
         "type": "box",
         "y": [
          1.7617582082748413,
          1.6020839214324951,
          1.5299158096313477,
          1.6701830625534058,
          1.6218068599700928
         ]
        },
        {
         "name": 11,
         "showlegend": false,
         "type": "box",
         "y": [
          7.900399208068848,
          7.049992561340332,
          17.261281967163086,
          10.215539932250977,
          6.170065879821777
         ]
        },
        {
         "name": 12,
         "showlegend": false,
         "type": "box",
         "y": [
          2.992323160171509,
          3.121067523956299,
          2.923088788986206,
          2.8402085304260254,
          2.853952169418335
         ]
        },
        {
         "name": 13,
         "showlegend": false,
         "type": "box",
         "y": [
          5.366518020629883,
          5.6705002784729,
          5.396383762359619,
          4.79307222366333,
          5.409282684326172
         ]
        },
        {
         "name": 14,
         "showlegend": false,
         "type": "box",
         "y": [
          3.6119017601013184,
          4.204912185668945,
          4.371163368225098,
          4.141888618469238,
          4.100922107696533
         ]
        },
        {
         "name": 15,
         "showlegend": false,
         "type": "box",
         "y": [
          0.7325126528739929,
          1.05795419216156,
          0.9872420430183411,
          1.254219651222229,
          1.0580215454101562
         ]
        },
        {
         "name": 16,
         "showlegend": false,
         "type": "box",
         "y": [
          6.971707344055176,
          8.088951110839844,
          8.90529727935791,
          9.086026191711426,
          7.6773295402526855
         ]
        },
        {
         "name": 17,
         "showlegend": false,
         "type": "box",
         "y": [
          1.6848748922348022,
          1.6140179634094238,
          1.6792079210281372,
          1.5983301401138306,
          1.7554399967193604
         ]
        },
        {
         "name": 18,
         "showlegend": false,
         "type": "box",
         "y": [
          9.20809268951416,
          8.984010696411133,
          8.922859191894531,
          7.721569061279297,
          10.274169921875
         ]
        },
        {
         "name": 19,
         "showlegend": false,
         "type": "box",
         "y": [
          0.5818285346031189,
          0.5164394974708557,
          0.5792999267578125,
          0.5523049235343933,
          0.5576037168502808
         ]
        },
        {
         "name": 20,
         "showlegend": false,
         "type": "box",
         "y": [
          2.683574914932251,
          2.2074272632598877,
          2.5318779945373535,
          2.8334829807281494,
          2.929217576980591
         ]
        },
        {
         "name": 21,
         "showlegend": false,
         "type": "box",
         "y": [
          1.5774165391921997,
          1.15334153175354,
          1.5313489437103271,
          1.8505425453186035,
          1.7628698348999023
         ]
        },
        {
         "name": 22,
         "showlegend": false,
         "type": "box",
         "y": [
          1.722778558731079,
          1.346800684928894,
          1.418084740638733,
          1.7530637979507446,
          1.7428748607635498
         ]
        },
        {
         "name": 23,
         "showlegend": false,
         "type": "box",
         "y": [
          0.9878501892089844,
          0.8654044270515442,
          0.8843892216682434,
          0.9693520665168762,
          0.9234670996665955
         ]
        },
        {
         "name": 24,
         "showlegend": false,
         "type": "box",
         "y": [
          1.8670616149902344,
          1.856039047241211,
          1.8621139526367188,
          1.8763599395751953,
          1.8690299987792969
         ]
        },
        {
         "name": 25,
         "showlegend": false,
         "type": "box",
         "y": [
          1.9375429153442383,
          1.4606132507324219,
          1.6752899885177612,
          2.3181636333465576,
          1.9168752431869507
         ]
        },
        {
         "name": 26,
         "showlegend": false,
         "type": "box",
         "y": [
          4.460007667541504,
          4.188559055328369,
          4.254327297210693,
          4.548075199127197,
          4.802340030670166
         ]
        },
        {
         "name": 27,
         "showlegend": false,
         "type": "box",
         "y": [
          1.8161360025405884,
          1.8806960582733154,
          1.8013123273849487,
          2.218705892562866,
          2.2444558143615723
         ]
        },
        {
         "name": 28,
         "showlegend": false,
         "type": "box",
         "y": [
          1.4454387426376343,
          2.1513671875,
          2.813732624053955,
          2.502547025680542,
          1.843158483505249
         ]
        },
        {
         "name": 29,
         "showlegend": false,
         "type": "box",
         "y": [
          4.81460428237915,
          5.1432671546936035,
          4.828008651733398,
          5.554213047027588,
          5.691930770874023
         ]
        },
        {
         "name": 30,
         "showlegend": false,
         "type": "box",
         "y": [
          2.2823264598846436,
          2.4321606159210205,
          2.3651938438415527,
          2.41196870803833,
          2.2268142700195312
         ]
        },
        {
         "name": 31,
         "showlegend": false,
         "type": "box",
         "y": [
          2.9461913108825684,
          3.0140202045440674,
          3.0394420623779297,
          3.142643690109253,
          2.9395036697387695
         ]
        },
        {
         "name": 32,
         "showlegend": false,
         "type": "box",
         "y": [
          4.915035724639893,
          4.783522129058838,
          4.8681135177612305,
          4.56574821472168,
          5.304206371307373
         ]
        },
        {
         "name": 33,
         "showlegend": false,
         "type": "box",
         "y": [
          3.7098405361175537,
          3.6829588413238525,
          3.601736307144165,
          3.389901638031006,
          4.066429615020752
         ]
        },
        {
         "name": 34,
         "showlegend": false,
         "type": "box",
         "y": [
          4.931522846221924,
          4.946425914764404,
          4.6367621421813965,
          5.04240083694458,
          5.3390631675720215
         ]
        },
        {
         "name": 35,
         "showlegend": false,
         "type": "box",
         "y": [
          6.153815746307373,
          7.229747295379639,
          7.027654647827148,
          9.316508293151855,
          6.251209735870361
         ]
        },
        {
         "name": 36,
         "showlegend": false,
         "type": "box",
         "y": [
          1.202103614807129,
          1.060599684715271,
          1.3307394981384277,
          1.6471580266952515,
          0.8076226711273193
         ]
        },
        {
         "name": 37,
         "showlegend": false,
         "type": "box",
         "y": [
          1.6911730766296387,
          0.8274843692779541,
          0.6801271438598633,
          0.923776388168335,
          1.3185123205184937
         ]
        },
        {
         "name": 38,
         "showlegend": false,
         "type": "box",
         "y": [
          6.376840591430664,
          2.3299098014831543,
          3.053985595703125,
          1.676651954650879,
          3.901823043823242
         ]
        },
        {
         "name": 39,
         "showlegend": false,
         "type": "box",
         "y": [
          1.0499287843704224,
          3.3082191944122314,
          3.3285560607910156,
          4.086363315582275,
          2.9091851711273193
         ]
        },
        {
         "name": 40,
         "showlegend": false,
         "type": "box",
         "y": [
          3.960369348526001,
          3.1350021362304688,
          2.4947376251220703,
          3.265002727508545,
          3.1475751399993896
         ]
        },
        {
         "name": 41,
         "showlegend": false,
         "type": "box",
         "y": [
          1.449483871459961,
          1.1619718074798584,
          0.5939091444015503,
          0.9819993376731873,
          1.0483464002609253
         ]
        },
        {
         "name": 42,
         "showlegend": false,
         "type": "box",
         "y": [
          0.880997359752655,
          0.5821322202682495,
          0.8554019927978516,
          0.408964067697525,
          0.7362632155418396
         ]
        },
        {
         "name": 43,
         "showlegend": false,
         "type": "box",
         "y": [
          3.1367902755737305,
          0.5392436385154724,
          1.7375590801239014,
          0.4765586256980896,
          1.475103497505188
         ]
        },
        {
         "name": 44,
         "showlegend": false,
         "type": "box",
         "y": [
          1.1089763641357422,
          1.354441523551941,
          0.4591718912124634,
          1.2301257848739624,
          1.1741071939468384
         ]
        },
        {
         "name": 45,
         "showlegend": false,
         "type": "box",
         "y": [
          0.7119660377502441,
          0.24130016565322876,
          0.6812872886657715,
          0.26580610871315,
          0.507071316242218
         ]
        },
        {
         "name": 46,
         "showlegend": false,
         "type": "box",
         "y": [
          1.0011653900146484,
          0.5511283278465271,
          0.4342059791088104,
          0.45523008704185486,
          0.7459729909896851
         ]
        },
        {
         "name": 47,
         "showlegend": false,
         "type": "box",
         "y": [
          1.3324060440063477,
          1.6171890497207642,
          1.0733981132507324,
          1.3011912107467651,
          1.2194355726242065
         ]
        },
        {
         "name": 48,
         "showlegend": false,
         "type": "box",
         "y": [
          7.61790132522583,
          7.312633991241455,
          7.44587516784668,
          7.836561679840088,
          7.436765670776367
         ]
        },
        {
         "name": 49,
         "showlegend": false,
         "type": "box",
         "y": [
          36.32706832885742,
          42.11223220825195,
          46.92543029785156,
          10.23263168334961,
          47.5550651550293
         ]
        },
        {
         "name": 50,
         "showlegend": false,
         "type": "box",
         "y": [
          8.431291580200195,
          6.873594760894775,
          9.078836441040039,
          2.9188153743743896,
          8.56407356262207
         ]
        },
        {
         "name": 51,
         "showlegend": false,
         "type": "box",
         "y": [
          9.412272453308105,
          13.552105903625488,
          12.08165454864502,
          2.91048264503479,
          13.37710189819336
         ]
        },
        {
         "name": 52,
         "showlegend": false,
         "type": "box",
         "y": [
          66.64722442626953,
          56.055259704589844,
          67.8071060180664,
          25.97592544555664,
          60.27670669555664
         ]
        },
        {
         "name": 53,
         "showlegend": false,
         "type": "box",
         "y": [
          3.449100971221924,
          6.40766716003418,
          5.0781707763671875,
          1.1793241500854492,
          5.468423843383789
         ]
        },
        {
         "name": 54,
         "showlegend": false,
         "type": "box",
         "y": [
          4.7247138023376465,
          7.300614356994629,
          6.834285736083984,
          0.8059704899787903,
          9.468116760253906
         ]
        },
        {
         "name": 55,
         "showlegend": false,
         "type": "box",
         "y": [
          51.40082550048828,
          72.87097930908203,
          66.70650482177734,
          23.69385528564453,
          80.13578033447266
         ]
        },
        {
         "name": 56,
         "showlegend": false,
         "type": "box",
         "y": [
          6.589407444000244,
          6.966063022613525,
          6.706540107727051,
          6.944515705108643,
          6.624760627746582
         ]
        },
        {
         "name": 57,
         "showlegend": false,
         "type": "box",
         "y": [
          3.372931957244873,
          3.1222074031829834,
          2.4327378273010254,
          2.9196410179138184,
          3.137481689453125
         ]
        },
        {
         "name": 58,
         "showlegend": false,
         "type": "box",
         "y": [
          3.8723857402801514,
          4.889904022216797,
          4.766902446746826,
          1.381284475326538,
          6.239852428436279
         ]
        },
        {
         "name": 59,
         "showlegend": false,
         "type": "box",
         "y": [
          1.9939913749694824,
          2.9262382984161377,
          2.2347302436828613,
          0.39211905002593994,
          3.235612630844116
         ]
        },
        {
         "name": 60,
         "showlegend": false,
         "type": "box",
         "y": [
          4.1543192863464355,
          7.021031856536865,
          5.046868801116943,
          1.638271689414978,
          6.569578647613525
         ]
        },
        {
         "name": 61,
         "showlegend": false,
         "type": "box",
         "y": [
          6.129231929779053,
          10.236677169799805,
          7.550970077514648,
          2.060826301574707,
          11.033370018005371
         ]
        },
        {
         "name": 62,
         "showlegend": false,
         "type": "box",
         "y": [
          4.067622661590576,
          8.014065742492676,
          6.464561939239502,
          1.907364010810852,
          9.283870697021484
         ]
        },
        {
         "name": 63,
         "showlegend": false,
         "type": "box",
         "y": [
          10.254559516906738,
          13.291801452636719,
          13.662915229797363,
          6.2764811515808105,
          18.14274787902832
         ]
        },
        {
         "name": 64,
         "showlegend": false,
         "type": "box",
         "y": [
          1.4682633876800537,
          1.851951241493225,
          1.7760200500488281,
          0.8524448871612549,
          2.1402626037597656
         ]
        },
        {
         "name": 65,
         "showlegend": false,
         "type": "box",
         "y": [
          9.38229751586914,
          16.30353546142578,
          14.240856170654297,
          6.930687427520752,
          15.993952751159668
         ]
        },
        {
         "name": 66,
         "showlegend": false,
         "type": "box",
         "y": [
          7.4835734367370605,
          11.504534721374512,
          10.113901138305664,
          5.155826568603516,
          12.492392539978027
         ]
        },
        {
         "name": 67,
         "showlegend": false,
         "type": "box",
         "y": [
          1.4323580265045166,
          2.5903067588806152,
          1.8076260089874268,
          0.7305386066436768,
          2.458707571029663
         ]
        },
        {
         "name": 68,
         "showlegend": false,
         "type": "box",
         "y": [
          1.3684359788894653,
          0.2977803945541382,
          0.5263087153434753,
          0.4488719403743744,
          0.9876717925071716
         ]
        },
        {
         "name": 69,
         "showlegend": false,
         "type": "box",
         "y": [
          13.851593971252441,
          23.59317398071289,
          19.02170753479004,
          9.63784408569336,
          26.355764389038086
         ]
        },
        {
         "name": 70,
         "showlegend": false,
         "type": "box",
         "y": [
          4.346404552459717,
          7.277755260467529,
          5.602252006530762,
          2.778982400894165,
          8.772761344909668
         ]
        },
        {
         "name": 71,
         "showlegend": false,
         "type": "box",
         "y": [
          0.9632225632667542,
          2.1857101917266846,
          1.530332088470459,
          0.6698892712593079,
          1.969313621520996
         ]
        },
        {
         "name": 72,
         "showlegend": false,
         "type": "box",
         "y": [
          0.5286696553230286,
          0.5999770760536194,
          0.8081079721450806,
          0.5998784303665161,
          2.011571168899536
         ]
        },
        {
         "name": 73,
         "showlegend": false,
         "type": "box",
         "y": [
          0.5383113026618958,
          0.7006120085716248,
          0.9188026189804077,
          0.41887325048446655,
          1.1235740184783936
         ]
        },
        {
         "name": 74,
         "showlegend": false,
         "type": "box",
         "y": [
          0.438993364572525,
          0.3103351294994354,
          0.30765169858932495,
          0.38394248485565186,
          0.38916200399398804
         ]
        },
        {
         "name": 75,
         "showlegend": false,
         "type": "box",
         "y": [
          3.7211754322052,
          3.540722131729126,
          3.45428729057312,
          3.8585293292999268,
          4.087788105010986
         ]
        },
        {
         "name": 76,
         "showlegend": false,
         "type": "box",
         "y": [
          1.9330201148986816,
          1.554189682006836,
          1.8086620569229126,
          2.0900990962982178,
          2.146259069442749
         ]
        },
        {
         "name": 77,
         "showlegend": false,
         "type": "box",
         "y": [
          1.776667594909668,
          1.7056145668029785,
          1.7893292903900146,
          1.8210084438323975,
          1.9154560565948486
         ]
        },
        {
         "name": 78,
         "showlegend": false,
         "type": "box",
         "y": [
          0.7913857698440552,
          0.13524556159973145,
          0.3358386158943176,
          0.7163874506950378,
          0.19985096156597137
         ]
        },
        {
         "name": 79,
         "showlegend": false,
         "type": "box",
         "y": [
          2.820589780807495,
          2.41214656829834,
          1.8793878555297852,
          2.3765289783477783,
          1.6154999732971191
         ]
        },
        {
         "name": 80,
         "showlegend": false,
         "type": "box",
         "y": [
          0.21702811121940613,
          0.2748121917247772,
          0.24671706557273865,
          0.2803061902523041,
          0.2854427695274353
         ]
        },
        {
         "name": 81,
         "showlegend": false,
         "type": "box",
         "y": [
          0.3087962865829468,
          0.16330468654632568,
          0.11530520021915436,
          0.19633238017559052,
          0.1861772984266281
         ]
        },
        {
         "name": 82,
         "showlegend": false,
         "type": "box",
         "y": [
          0.13706845045089722,
          0.12739120423793793,
          0.1573212593793869,
          0.1372809112071991,
          0.12779586017131805
         ]
        },
        {
         "name": 83,
         "showlegend": false,
         "type": "box",
         "y": [
          1.2873873710632324,
          1.0630011558532715,
          1.2087647914886475,
          0.9529280066490173,
          0.8086698055267334
         ]
        },
        {
         "name": 84,
         "showlegend": false,
         "type": "box",
         "y": [
          0.15879538655281067,
          0.14357297122478485,
          0.1806078404188156,
          0.1744406819343567,
          0.1662505716085434
         ]
        },
        {
         "name": 85,
         "showlegend": false,
         "type": "box",
         "y": [
          0.3420366644859314,
          0.3688521981239319,
          0.11271273344755173,
          0.3008723556995392,
          0.47293195128440857
         ]
        },
        {
         "name": 86,
         "showlegend": false,
         "type": "box",
         "y": [
          0.3205138146877289,
          0.3379826843738556,
          0.35200726985931396,
          0.36021727323532104,
          0.3132607936859131
         ]
        },
        {
         "name": 87,
         "showlegend": false,
         "type": "box",
         "y": [
          2.4592857360839844,
          2.2245829105377197,
          2.164212226867676,
          2.2434799671173096,
          2.293468475341797
         ]
        },
        {
         "name": 88,
         "showlegend": false,
         "type": "box",
         "y": [
          0.4612090587615967,
          1.420081615447998,
          0.6571275591850281,
          1.6729353666305542,
          0.9080619812011719
         ]
        },
        {
         "name": 89,
         "showlegend": false,
         "type": "box",
         "y": [
          0.3638198971748352,
          0.7132876515388489,
          1.104049801826477,
          0.8641089797019958,
          0.1850658804178238
         ]
        },
        {
         "name": 90,
         "showlegend": false,
         "type": "box",
         "y": [
          1.339707851409912,
          1.29245924949646,
          1.3453032970428467,
          1.2819217443466187,
          1.319090723991394
         ]
        },
        {
         "name": 91,
         "showlegend": false,
         "type": "box",
         "y": [
          1.2435500621795654,
          1.1963225603103638,
          1.4082380533218384,
          1.5788533687591553,
          1.163272738456726
         ]
        },
        {
         "name": 92,
         "showlegend": false,
         "type": "box",
         "y": [
          2.5475120544433594,
          2.5733518600463867,
          2.207275390625,
          0.9663181304931641,
          3.485957145690918
         ]
        },
        {
         "name": 93,
         "showlegend": false,
         "type": "box",
         "y": [
          0.18722423911094666,
          0.21417629718780518,
          0.1992236226797104,
          0.23641689121723175,
          0.16256164014339447
         ]
        },
        {
         "name": 94,
         "showlegend": false,
         "type": "box",
         "y": [
          0.11556965857744217,
          0.10170791298151016,
          0.09827195852994919,
          0.09814590215682983,
          0.10864965617656708
         ]
        },
        {
         "name": 95,
         "showlegend": false,
         "type": "box",
         "y": [
          0.22372043132781982,
          0.11849714815616608,
          0.13530561327934265,
          0.08522245287895203,
          0.20034049451351166
         ]
        },
        {
         "name": 96,
         "showlegend": false,
         "type": "box",
         "y": [
          0.9471150040626526,
          0.27792057394981384,
          0.4609208405017853,
          0.10649151355028152,
          0.8800997734069824
         ]
        },
        {
         "name": 97,
         "showlegend": false,
         "type": "box",
         "y": [
          0.31066006422042847,
          0.5089063048362732,
          0.23294597864151,
          0.6285962462425232,
          0.37921395897865295
         ]
        },
        {
         "name": 98,
         "showlegend": false,
         "type": "box",
         "y": [
          0.5507997870445251,
          0.930278480052948,
          0.6556732058525085,
          0.685387909412384,
          0.43350496888160706
         ]
        },
        {
         "name": 99,
         "showlegend": false,
         "type": "box",
         "y": [
          1.210343360900879,
          1.293911099433899,
          1.1862788200378418,
          1.3154884576797485,
          1.1667309999465942
         ]
        },
        {
         "name": 100,
         "showlegend": false,
         "type": "box",
         "y": [
          13.011699676513672,
          13.218974113464355,
          13.26495361328125,
          13.380420684814453,
          13.014437675476074
         ]
        },
        {
         "name": 101,
         "showlegend": false,
         "type": "box",
         "y": [
          0.6584917902946472,
          0.7022753357887268,
          0.550233781337738,
          0.7429255843162537,
          0.5619244575500488
         ]
        },
        {
         "name": 102,
         "showlegend": false,
         "type": "box",
         "y": [
          3.0446081161499023,
          1.9744389057159424,
          1.5259753465652466,
          1.3869131803512573,
          2.820509195327759
         ]
        },
        {
         "name": 103,
         "showlegend": false,
         "type": "box",
         "y": [
          2.4065334796905518,
          1.9922832250595093,
          1.4914703369140625,
          0.9566376209259033,
          2.5818865299224854
         ]
        },
        {
         "name": 104,
         "showlegend": false,
         "type": "box",
         "y": [
          1.769749641418457,
          1.899054765701294,
          2.082963705062866,
          1.9944777488708496,
          1.8334159851074219
         ]
        },
        {
         "name": 105,
         "showlegend": false,
         "type": "box",
         "y": [
          0.3554699420928955,
          0.3359631597995758,
          0.37103354930877686,
          0.38230714201927185,
          0.3649437427520752
         ]
        },
        {
         "name": 106,
         "showlegend": false,
         "type": "box",
         "y": [
          0.11032736301422119,
          0.1533520221710205,
          0.07229863852262497,
          0.024825846776366234,
          0.07333265244960785
         ]
        },
        {
         "name": 107,
         "showlegend": false,
         "type": "box",
         "y": [
          0.23404009640216827,
          0.2401738315820694,
          0.24327480792999268,
          0.24733971059322357,
          0.21636728942394257
         ]
        },
        {
         "name": 108,
         "showlegend": false,
         "type": "box",
         "y": [
          3.034888505935669,
          1.8200205564498901,
          2.3268377780914307,
          2.821251392364502,
          3.2514495849609375
         ]
        },
        {
         "name": 109,
         "showlegend": false,
         "type": "box",
         "y": [
          1.667473554611206,
          1.7827109098434448,
          1.8938777446746826,
          2.036219358444214,
          1.7625226974487305
         ]
        },
        {
         "name": 110,
         "showlegend": false,
         "type": "box",
         "y": [
          0.24619771540164948,
          0.2655734121799469,
          0.1529177576303482,
          0.15765076875686646,
          0.14735174179077148
         ]
        },
        {
         "name": 111,
         "showlegend": false,
         "type": "box",
         "y": [
          2.354919910430908,
          2.519327402114868,
          2.2008771896362305,
          1.9542948007583618,
          1.880895733833313
         ]
        },
        {
         "name": 112,
         "showlegend": false,
         "type": "box",
         "y": [
          0.8152068853378296,
          0.5822991728782654,
          0.17080707848072052,
          0.567789614200592,
          0.4712437391281128
         ]
        },
        {
         "name": 113,
         "showlegend": false,
         "type": "box",
         "y": [
          0.6214874386787415,
          0.17411251366138458,
          0.5877955555915833,
          0.283823698759079,
          0.5977731347084045
         ]
        },
        {
         "name": 114,
         "showlegend": false,
         "type": "box",
         "y": [
          4.297124862670898,
          4.4411725997924805,
          4.374722003936768,
          4.430979251861572,
          4.037483215332031
         ]
        },
        {
         "name": 115,
         "showlegend": false,
         "type": "box",
         "y": [
          2.7375903129577637,
          4.258289337158203,
          3.8488824367523193,
          4.558120250701904,
          3.1840741634368896
         ]
        },
        {
         "name": 116,
         "showlegend": false,
         "type": "box",
         "y": [
          0.6600852608680725,
          0.5310562252998352,
          0.6003872156143188,
          0.6523866653442383,
          0.6655649542808533
         ]
        },
        {
         "name": 117,
         "showlegend": false,
         "type": "box",
         "y": [
          0.5977686047554016,
          0.623253583908081,
          0.671897292137146,
          0.6129351258277893,
          0.588627278804779
         ]
        },
        {
         "name": 118,
         "showlegend": false,
         "type": "box",
         "y": [
          0.5861555337905884,
          0.7119060754776001,
          0.7585049867630005,
          0.5231326222419739,
          0.6523915529251099
         ]
        },
        {
         "name": 119,
         "showlegend": false,
         "type": "box",
         "y": [
          0.8926849365234375,
          0.25830650329589844,
          0.1244196891784668,
          1.1870713233947754,
          0.5116844177246094
         ]
        },
        {
         "name": 120,
         "showlegend": false,
         "type": "box",
         "y": [
          0.5479042530059814,
          0.5218098759651184,
          0.6428760290145874,
          0.5583921670913696,
          0.6950157284736633
         ]
        },
        {
         "name": 121,
         "showlegend": false,
         "type": "box",
         "y": [
          0.6763740181922913,
          0.6671087145805359,
          0.8400896787643433,
          0.7235279083251953,
          0.9146142601966858
         ]
        },
        {
         "name": 122,
         "showlegend": false,
         "type": "box",
         "y": [
          1.2955180406570435,
          0.3594684600830078,
          0.31457650661468506,
          0.38625940680503845,
          0.8098796010017395
         ]
        },
        {
         "name": 123,
         "showlegend": false,
         "type": "box",
         "y": [
          3.596451997756958,
          3.329590320587158,
          3.7835652828216553,
          3.769768238067627,
          3.413486957550049
         ]
        },
        {
         "name": 124,
         "showlegend": false,
         "type": "box",
         "y": [
          4.358585357666016,
          4.4565205574035645,
          4.735158920288086,
          3.8675785064697266,
          5.72102165222168
         ]
        },
        {
         "name": 125,
         "showlegend": false,
         "type": "box",
         "y": [
          0.13016128540039062,
          1.3285551071166992,
          2.353403091430664,
          0.2879495620727539,
          5.394449234008789
         ]
        },
        {
         "name": 126,
         "showlegend": false,
         "type": "box",
         "y": [
          4.984192371368408,
          5.929626941680908,
          2.356001615524292,
          3.1754069328308105,
          5.2028608322143555
         ]
        },
        {
         "name": 127,
         "showlegend": false,
         "type": "box",
         "y": [
          0.9290981888771057,
          1.2292574644088745,
          0.40025976300239563,
          1.2316350936889648,
          1.176464557647705
         ]
        },
        {
         "name": 128,
         "showlegend": false,
         "type": "box",
         "y": [
          1.5624561309814453,
          1.5602340698242188,
          1.8130321502685547,
          1.5981426239013672,
          1.9014949798583984
         ]
        },
        {
         "name": 129,
         "showlegend": false,
         "type": "box",
         "y": [
          1.4639568328857422,
          1.4968007802963257,
          0.7072460055351257,
          1.4764496088027954,
          1.0501168966293335
         ]
        },
        {
         "name": 130,
         "showlegend": false,
         "type": "box",
         "y": [
          1.2154490947723389,
          1.3040647506713867,
          2.3267297744750977,
          1.3803516626358032,
          2.0609898567199707
         ]
        },
        {
         "name": 131,
         "showlegend": false,
         "type": "box",
         "y": [
          0.3602044880390167,
          0.36503884196281433,
          0.37169349193573,
          0.36218947172164917,
          0.36397266387939453
         ]
        },
        {
         "name": 132,
         "showlegend": false,
         "type": "box",
         "y": [
          2.064305067062378,
          1.317948818206787,
          0.41370463371276855,
          1.6372454166412354,
          1.698607087135315
         ]
        },
        {
         "name": 133,
         "showlegend": false,
         "type": "box",
         "y": [
          0.004222750663757324,
          0.07448244094848633,
          0.0137939453125,
          0.02951943874359131,
          0.17103052139282227
         ]
        },
        {
         "name": 134,
         "showlegend": false,
         "type": "box",
         "y": [
          0.30547574162483215,
          0.33549603819847107,
          0.4313390254974365,
          0.3278008699417114,
          0.273220032453537
         ]
        },
        {
         "name": 135,
         "showlegend": false,
         "type": "box",
         "y": [
          0.4259442389011383,
          0.4312896728515625,
          0.4763573110103607,
          0.4422729015350342,
          0.4157401919364929
         ]
        },
        {
         "name": 136,
         "showlegend": false,
         "type": "box",
         "y": [
          0.1709897518157959,
          0.11509255319833755,
          0.10984098166227341,
          0.1521739363670349,
          0.1971987932920456
         ]
        },
        {
         "name": 137,
         "showlegend": false,
         "type": "box",
         "y": [
          0.1070113331079483,
          0.09477601945400238,
          0.15461961925029755,
          0.09024056047201157,
          0.1405942589044571
         ]
        },
        {
         "mode": "lines",
         "name": "mean",
         "type": "scatter",
         "x": [
          0,
          1,
          2,
          3,
          4,
          5,
          6,
          7,
          8,
          9,
          10,
          11,
          12,
          13,
          14,
          15,
          16,
          17,
          18,
          19,
          20,
          21,
          22,
          23,
          24,
          25,
          26,
          27,
          28,
          29,
          30,
          31,
          32,
          33,
          34,
          35,
          36,
          37,
          38,
          39,
          40,
          41,
          42,
          43,
          44,
          45,
          46,
          47,
          48,
          49,
          50,
          51,
          52,
          53,
          54,
          55,
          56,
          57,
          58,
          59,
          60,
          61,
          62,
          63,
          64,
          65,
          66,
          67,
          68,
          69,
          70,
          71,
          72,
          73,
          74,
          75,
          76,
          77,
          78,
          79,
          80,
          81,
          82,
          83,
          84,
          85,
          86,
          87,
          88,
          89,
          90,
          91,
          92,
          93,
          94,
          95,
          96,
          97,
          98,
          99,
          100,
          101,
          102,
          103,
          104,
          105,
          106,
          107,
          108,
          109,
          110,
          111,
          112,
          113,
          114,
          115,
          116,
          117,
          118,
          119,
          120,
          121,
          122,
          123,
          124,
          125,
          126,
          127,
          128,
          129,
          130,
          131,
          132,
          133,
          134,
          135,
          136,
          137
         ],
         "y": [
          1.1638038158416748,
          4.716595649719238,
          0.8024762272834778,
          0.7041008472442627,
          1.4887489080429077,
          1.7303329706192017,
          1.2925975322723389,
          9.314106941223145,
          5.015841484069824,
          2.8448007106781006,
          1.6371495723724365,
          9.719456672668457,
          2.9461281299591064,
          5.327151298522949,
          4.086157321929932,
          1.017989993095398,
          8.145862579345703,
          1.6663742065429688,
          9.022140502929688,
          0.5574952960014343,
          2.637115955352783,
          1.5751038789749146,
          1.5967204570770264,
          0.9260925054550171,
          1.8661209344863892,
          1.8616969585418701,
          4.450661659240723,
          1.9922611713409424,
          2.1512489318847656,
          5.206404685974121,
          2.3436927795410156,
          3.016360282897949,
          4.887325286865234,
          3.690173387527466,
          4.9792351722717285,
          7.195786952972412,
          1.2096446752548218,
          1.088214635848999,
          3.4678421020507812,
          2.936450481414795,
          3.2005374431610107,
          1.0471421480178833,
          0.6927517652511597,
          1.4730510711669922,
          1.0653645992279053,
          0.48148617148399353,
          0.6375405192375183,
          1.308724045753479,
          7.529947757720947,
          36.63048553466797,
          7.1733222007751465,
          10.2667236328125,
          55.352439880371094,
          4.316536903381348,
          5.826740264892578,
          58.961585998535156,
          6.766257286071777,
          2.997000217437744,
          4.230065822601318,
          2.156538486480713,
          4.886013984680176,
          7.402215480804443,
          5.9474968910217285,
          12.325700759887695,
          1.617788553237915,
          12.570265769958496,
          9.350046157836914,
          1.8039073944091797,
          0.7258137464523315,
          18.49201774597168,
          5.755631446838379,
          1.463693618774414,
          0.909640908241272,
          0.7400346398353577,
          0.3660169243812561,
          3.7325005531311035,
          1.906446099281311,
          1.8016151189804077,
          0.43574172258377075,
          2.2208304405212402,
          0.26086124777793884,
          0.19398316740989685,
          0.13737155497074127,
          1.0641502141952515,
          0.16473349928855896,
          0.3194811940193176,
          0.336796373128891,
          2.277005672454834,
          1.0238831043243408,
          0.6460664868354797,
          1.3156965970993042,
          1.318047285079956,
          2.3560829162597656,
          0.19992053508758545,
          0.10446901619434357,
          0.15261723101139069,
          0.534509539604187,
          0.4120645523071289,
          0.651128888130188,
          1.2345504760742188,
          13.17809772491455,
          0.6431702375411987,
          2.15048885345459,
          1.8857622146606445,
          1.9159324169158936,
          0.3619435131549835,
          0.08682730048894882,
          0.23623915016651154,
          2.6508896350860596,
          1.8285608291625977,
          0.19393828511238098,
          2.182063102722168,
          0.5214692950248718,
          0.45299845933914185,
          4.316296577453613,
          3.7173912525177,
          0.6218960881233215,
          0.6188963651657104,
          0.6464182138442993,
          0.5948333740234375,
          0.593199610710144,
          0.7643429040908813,
          0.6331403851509094,
          3.5785725116729736,
          4.627772808074951,
          1.8989036083221436,
          4.329617977142334,
          0.9933429956436157,
          1.6870720386505127,
          1.238914132118225,
          1.6575170755386353,
          0.36461979150772095,
          1.426362156867981,
          0.058609820902347565,
          0.33466634154319763,
          0.4383208751678467,
          0.1490592062473297,
          0.1174483671784401
         ]
        }
       ],
       "layout": {
        "title": "Distribution of cross-validation RMSE for each athlete",
        "xaxis": {
         "title": "Athletes"
        },
        "yaxis": {
         "title": "RMSE"
        }
       }
      },
      "text/html": [
       "<div id=\"55eb77c5-5362-4a55-8168-46321c056a47\" style=\"height: 525px; width: 100%;\" class=\"plotly-graph-div\"></div><script type=\"text/javascript\">require([\"plotly\"], function(Plotly) { window.PLOTLYENV=window.PLOTLYENV || {};window.PLOTLYENV.BASE_URL=\"https://plot.ly\";Plotly.newPlot(\"55eb77c5-5362-4a55-8168-46321c056a47\", [{\"type\": \"box\", \"y\": [1.1138697862625122, 1.2358237504959106, 1.1667780876159668, 1.174458384513855, 1.1280889511108398], \"name\": 0, \"showlegend\": false}, {\"type\": \"box\", \"y\": [4.708837985992432, 4.799873352050781, 4.953790187835693, 4.512556552886963, 4.607919692993164], \"name\": 1, \"showlegend\": false}, {\"type\": \"box\", \"y\": [0.7679312229156494, 0.8065783977508545, 0.8290627598762512, 0.7665471434593201, 0.8422613739967346], \"name\": 2, \"showlegend\": false}, {\"type\": \"box\", \"y\": [0.7278277277946472, 0.7247320413589478, 0.6914322376251221, 0.6522627472877502, 0.7242496013641357], \"name\": 3, \"showlegend\": false}, {\"type\": \"box\", \"y\": [1.542312741279602, 1.3960505723953247, 1.5765457153320312, 1.5401009321212769, 1.388735055923462], \"name\": 4, \"showlegend\": false}, {\"type\": \"box\", \"y\": [1.851402759552002, 1.7589609622955322, 1.6465665102005005, 1.5756348371505737, 1.8190997838974], \"name\": 5, \"showlegend\": false}, {\"type\": \"box\", \"y\": [1.5429738759994507, 1.157629370689392, 1.1389226913452148, 1.3750492334365845, 1.248412847518921], \"name\": 6, \"showlegend\": false}, {\"type\": \"box\", \"y\": [9.978277206420898, 8.683364868164062, 9.269739151000977, 9.770181655883789, 8.868972778320312], \"name\": 7, \"showlegend\": false}, {\"type\": \"box\", \"y\": [5.708532810211182, 4.639824867248535, 4.494205474853516, 5.440902233123779, 4.795740604400635], \"name\": 8, \"showlegend\": false}, {\"type\": \"box\", \"y\": [3.1335222721099854, 2.71370530128479, 2.614471912384033, 2.822892189025879, 2.9394123554229736], \"name\": 9, \"showlegend\": false}, {\"type\": \"box\", \"y\": [1.7617582082748413, 1.6020839214324951, 1.5299158096313477, 1.6701830625534058, 1.6218068599700928], \"name\": 10, \"showlegend\": false}, {\"type\": \"box\", \"y\": [7.900399208068848, 7.049992561340332, 17.261281967163086, 10.215539932250977, 6.170065879821777], \"name\": 11, \"showlegend\": false}, {\"type\": \"box\", \"y\": [2.992323160171509, 3.121067523956299, 2.923088788986206, 2.8402085304260254, 2.853952169418335], \"name\": 12, \"showlegend\": false}, {\"type\": \"box\", \"y\": [5.366518020629883, 5.6705002784729, 5.396383762359619, 4.79307222366333, 5.409282684326172], \"name\": 13, \"showlegend\": false}, {\"type\": \"box\", \"y\": [3.6119017601013184, 4.204912185668945, 4.371163368225098, 4.141888618469238, 4.100922107696533], \"name\": 14, \"showlegend\": false}, {\"type\": \"box\", \"y\": [0.7325126528739929, 1.05795419216156, 0.9872420430183411, 1.254219651222229, 1.0580215454101562], \"name\": 15, \"showlegend\": false}, {\"type\": \"box\", \"y\": [6.971707344055176, 8.088951110839844, 8.90529727935791, 9.086026191711426, 7.6773295402526855], \"name\": 16, \"showlegend\": false}, {\"type\": \"box\", \"y\": [1.6848748922348022, 1.6140179634094238, 1.6792079210281372, 1.5983301401138306, 1.7554399967193604], \"name\": 17, \"showlegend\": false}, {\"type\": \"box\", \"y\": [9.20809268951416, 8.984010696411133, 8.922859191894531, 7.721569061279297, 10.274169921875], \"name\": 18, \"showlegend\": false}, {\"type\": \"box\", \"y\": [0.5818285346031189, 0.5164394974708557, 0.5792999267578125, 0.5523049235343933, 0.5576037168502808], \"name\": 19, \"showlegend\": false}, {\"type\": \"box\", \"y\": [2.683574914932251, 2.2074272632598877, 2.5318779945373535, 2.8334829807281494, 2.929217576980591], \"name\": 20, \"showlegend\": false}, {\"type\": \"box\", \"y\": [1.5774165391921997, 1.15334153175354, 1.5313489437103271, 1.8505425453186035, 1.7628698348999023], \"name\": 21, \"showlegend\": false}, {\"type\": \"box\", \"y\": [1.722778558731079, 1.346800684928894, 1.418084740638733, 1.7530637979507446, 1.7428748607635498], \"name\": 22, \"showlegend\": false}, {\"type\": \"box\", \"y\": [0.9878501892089844, 0.8654044270515442, 0.8843892216682434, 0.9693520665168762, 0.9234670996665955], \"name\": 23, \"showlegend\": false}, {\"type\": \"box\", \"y\": [1.8670616149902344, 1.856039047241211, 1.8621139526367188, 1.8763599395751953, 1.8690299987792969], \"name\": 24, \"showlegend\": false}, {\"type\": \"box\", \"y\": [1.9375429153442383, 1.4606132507324219, 1.6752899885177612, 2.3181636333465576, 1.9168752431869507], \"name\": 25, \"showlegend\": false}, {\"type\": \"box\", \"y\": [4.460007667541504, 4.188559055328369, 4.254327297210693, 4.548075199127197, 4.802340030670166], \"name\": 26, \"showlegend\": false}, {\"type\": \"box\", \"y\": [1.8161360025405884, 1.8806960582733154, 1.8013123273849487, 2.218705892562866, 2.2444558143615723], \"name\": 27, \"showlegend\": false}, {\"type\": \"box\", \"y\": [1.4454387426376343, 2.1513671875, 2.813732624053955, 2.502547025680542, 1.843158483505249], \"name\": 28, \"showlegend\": false}, {\"type\": \"box\", \"y\": [4.81460428237915, 5.1432671546936035, 4.828008651733398, 5.554213047027588, 5.691930770874023], \"name\": 29, \"showlegend\": false}, {\"type\": \"box\", \"y\": [2.2823264598846436, 2.4321606159210205, 2.3651938438415527, 2.41196870803833, 2.2268142700195312], \"name\": 30, \"showlegend\": false}, {\"type\": \"box\", \"y\": [2.9461913108825684, 3.0140202045440674, 3.0394420623779297, 3.142643690109253, 2.9395036697387695], \"name\": 31, \"showlegend\": false}, {\"type\": \"box\", \"y\": [4.915035724639893, 4.783522129058838, 4.8681135177612305, 4.56574821472168, 5.304206371307373], \"name\": 32, \"showlegend\": false}, {\"type\": \"box\", \"y\": [3.7098405361175537, 3.6829588413238525, 3.601736307144165, 3.389901638031006, 4.066429615020752], \"name\": 33, \"showlegend\": false}, {\"type\": \"box\", \"y\": [4.931522846221924, 4.946425914764404, 4.6367621421813965, 5.04240083694458, 5.3390631675720215], \"name\": 34, \"showlegend\": false}, {\"type\": \"box\", \"y\": [6.153815746307373, 7.229747295379639, 7.027654647827148, 9.316508293151855, 6.251209735870361], \"name\": 35, \"showlegend\": false}, {\"type\": \"box\", \"y\": [1.202103614807129, 1.060599684715271, 1.3307394981384277, 1.6471580266952515, 0.8076226711273193], \"name\": 36, \"showlegend\": false}, {\"type\": \"box\", \"y\": [1.6911730766296387, 0.8274843692779541, 0.6801271438598633, 0.923776388168335, 1.3185123205184937], \"name\": 37, \"showlegend\": false}, {\"type\": \"box\", \"y\": [6.376840591430664, 2.3299098014831543, 3.053985595703125, 1.676651954650879, 3.901823043823242], \"name\": 38, \"showlegend\": false}, {\"type\": \"box\", \"y\": [1.0499287843704224, 3.3082191944122314, 3.3285560607910156, 4.086363315582275, 2.9091851711273193], \"name\": 39, \"showlegend\": false}, {\"type\": \"box\", \"y\": [3.960369348526001, 3.1350021362304688, 2.4947376251220703, 3.265002727508545, 3.1475751399993896], \"name\": 40, \"showlegend\": false}, {\"type\": \"box\", \"y\": [1.449483871459961, 1.1619718074798584, 0.5939091444015503, 0.9819993376731873, 1.0483464002609253], \"name\": 41, \"showlegend\": false}, {\"type\": \"box\", \"y\": [0.880997359752655, 0.5821322202682495, 0.8554019927978516, 0.408964067697525, 0.7362632155418396], \"name\": 42, \"showlegend\": false}, {\"type\": \"box\", \"y\": [3.1367902755737305, 0.5392436385154724, 1.7375590801239014, 0.4765586256980896, 1.475103497505188], \"name\": 43, \"showlegend\": false}, {\"type\": \"box\", \"y\": [1.1089763641357422, 1.354441523551941, 0.4591718912124634, 1.2301257848739624, 1.1741071939468384], \"name\": 44, \"showlegend\": false}, {\"type\": \"box\", \"y\": [0.7119660377502441, 0.24130016565322876, 0.6812872886657715, 0.26580610871315, 0.507071316242218], \"name\": 45, \"showlegend\": false}, {\"type\": \"box\", \"y\": [1.0011653900146484, 0.5511283278465271, 0.4342059791088104, 0.45523008704185486, 0.7459729909896851], \"name\": 46, \"showlegend\": false}, {\"type\": \"box\", \"y\": [1.3324060440063477, 1.6171890497207642, 1.0733981132507324, 1.3011912107467651, 1.2194355726242065], \"name\": 47, \"showlegend\": false}, {\"type\": \"box\", \"y\": [7.61790132522583, 7.312633991241455, 7.44587516784668, 7.836561679840088, 7.436765670776367], \"name\": 48, \"showlegend\": false}, {\"type\": \"box\", \"y\": [36.32706832885742, 42.11223220825195, 46.92543029785156, 10.23263168334961, 47.5550651550293], \"name\": 49, \"showlegend\": false}, {\"type\": \"box\", \"y\": [8.431291580200195, 6.873594760894775, 9.078836441040039, 2.9188153743743896, 8.56407356262207], \"name\": 50, \"showlegend\": false}, {\"type\": \"box\", \"y\": [9.412272453308105, 13.552105903625488, 12.08165454864502, 2.91048264503479, 13.37710189819336], \"name\": 51, \"showlegend\": false}, {\"type\": \"box\", \"y\": [66.64722442626953, 56.055259704589844, 67.8071060180664, 25.97592544555664, 60.27670669555664], \"name\": 52, \"showlegend\": false}, {\"type\": \"box\", \"y\": [3.449100971221924, 6.40766716003418, 5.0781707763671875, 1.1793241500854492, 5.468423843383789], \"name\": 53, \"showlegend\": false}, {\"type\": \"box\", \"y\": [4.7247138023376465, 7.300614356994629, 6.834285736083984, 0.8059704899787903, 9.468116760253906], \"name\": 54, \"showlegend\": false}, {\"type\": \"box\", \"y\": [51.40082550048828, 72.87097930908203, 66.70650482177734, 23.69385528564453, 80.13578033447266], \"name\": 55, \"showlegend\": false}, {\"type\": \"box\", \"y\": [6.589407444000244, 6.966063022613525, 6.706540107727051, 6.944515705108643, 6.624760627746582], \"name\": 56, \"showlegend\": false}, {\"type\": \"box\", \"y\": [3.372931957244873, 3.1222074031829834, 2.4327378273010254, 2.9196410179138184, 3.137481689453125], \"name\": 57, \"showlegend\": false}, {\"type\": \"box\", \"y\": [3.8723857402801514, 4.889904022216797, 4.766902446746826, 1.381284475326538, 6.239852428436279], \"name\": 58, \"showlegend\": false}, {\"type\": \"box\", \"y\": [1.9939913749694824, 2.9262382984161377, 2.2347302436828613, 0.39211905002593994, 3.235612630844116], \"name\": 59, \"showlegend\": false}, {\"type\": \"box\", \"y\": [4.1543192863464355, 7.021031856536865, 5.046868801116943, 1.638271689414978, 6.569578647613525], \"name\": 60, \"showlegend\": false}, {\"type\": \"box\", \"y\": [6.129231929779053, 10.236677169799805, 7.550970077514648, 2.060826301574707, 11.033370018005371], \"name\": 61, \"showlegend\": false}, {\"type\": \"box\", \"y\": [4.067622661590576, 8.014065742492676, 6.464561939239502, 1.907364010810852, 9.283870697021484], \"name\": 62, \"showlegend\": false}, {\"type\": \"box\", \"y\": [10.254559516906738, 13.291801452636719, 13.662915229797363, 6.2764811515808105, 18.14274787902832], \"name\": 63, \"showlegend\": false}, {\"type\": \"box\", \"y\": [1.4682633876800537, 1.851951241493225, 1.7760200500488281, 0.8524448871612549, 2.1402626037597656], \"name\": 64, \"showlegend\": false}, {\"type\": \"box\", \"y\": [9.38229751586914, 16.30353546142578, 14.240856170654297, 6.930687427520752, 15.993952751159668], \"name\": 65, \"showlegend\": false}, {\"type\": \"box\", \"y\": [7.4835734367370605, 11.504534721374512, 10.113901138305664, 5.155826568603516, 12.492392539978027], \"name\": 66, \"showlegend\": false}, {\"type\": \"box\", \"y\": [1.4323580265045166, 2.5903067588806152, 1.8076260089874268, 0.7305386066436768, 2.458707571029663], \"name\": 67, \"showlegend\": false}, {\"type\": \"box\", \"y\": [1.3684359788894653, 0.2977803945541382, 0.5263087153434753, 0.4488719403743744, 0.9876717925071716], \"name\": 68, \"showlegend\": false}, {\"type\": \"box\", \"y\": [13.851593971252441, 23.59317398071289, 19.02170753479004, 9.63784408569336, 26.355764389038086], \"name\": 69, \"showlegend\": false}, {\"type\": \"box\", \"y\": [4.346404552459717, 7.277755260467529, 5.602252006530762, 2.778982400894165, 8.772761344909668], \"name\": 70, \"showlegend\": false}, {\"type\": \"box\", \"y\": [0.9632225632667542, 2.1857101917266846, 1.530332088470459, 0.6698892712593079, 1.969313621520996], \"name\": 71, \"showlegend\": false}, {\"type\": \"box\", \"y\": [0.5286696553230286, 0.5999770760536194, 0.8081079721450806, 0.5998784303665161, 2.011571168899536], \"name\": 72, \"showlegend\": false}, {\"type\": \"box\", \"y\": [0.5383113026618958, 0.7006120085716248, 0.9188026189804077, 0.41887325048446655, 1.1235740184783936], \"name\": 73, \"showlegend\": false}, {\"type\": \"box\", \"y\": [0.438993364572525, 0.3103351294994354, 0.30765169858932495, 0.38394248485565186, 0.38916200399398804], \"name\": 74, \"showlegend\": false}, {\"type\": \"box\", \"y\": [3.7211754322052, 3.540722131729126, 3.45428729057312, 3.8585293292999268, 4.087788105010986], \"name\": 75, \"showlegend\": false}, {\"type\": \"box\", \"y\": [1.9330201148986816, 1.554189682006836, 1.8086620569229126, 2.0900990962982178, 2.146259069442749], \"name\": 76, \"showlegend\": false}, {\"type\": \"box\", \"y\": [1.776667594909668, 1.7056145668029785, 1.7893292903900146, 1.8210084438323975, 1.9154560565948486], \"name\": 77, \"showlegend\": false}, {\"type\": \"box\", \"y\": [0.7913857698440552, 0.13524556159973145, 0.3358386158943176, 0.7163874506950378, 0.19985096156597137], \"name\": 78, \"showlegend\": false}, {\"type\": \"box\", \"y\": [2.820589780807495, 2.41214656829834, 1.8793878555297852, 2.3765289783477783, 1.6154999732971191], \"name\": 79, \"showlegend\": false}, {\"type\": \"box\", \"y\": [0.21702811121940613, 0.2748121917247772, 0.24671706557273865, 0.2803061902523041, 0.2854427695274353], \"name\": 80, \"showlegend\": false}, {\"type\": \"box\", \"y\": [0.3087962865829468, 0.16330468654632568, 0.11530520021915436, 0.19633238017559052, 0.1861772984266281], \"name\": 81, \"showlegend\": false}, {\"type\": \"box\", \"y\": [0.13706845045089722, 0.12739120423793793, 0.1573212593793869, 0.1372809112071991, 0.12779586017131805], \"name\": 82, \"showlegend\": false}, {\"type\": \"box\", \"y\": [1.2873873710632324, 1.0630011558532715, 1.2087647914886475, 0.9529280066490173, 0.8086698055267334], \"name\": 83, \"showlegend\": false}, {\"type\": \"box\", \"y\": [0.15879538655281067, 0.14357297122478485, 0.1806078404188156, 0.1744406819343567, 0.1662505716085434], \"name\": 84, \"showlegend\": false}, {\"type\": \"box\", \"y\": [0.3420366644859314, 0.3688521981239319, 0.11271273344755173, 0.3008723556995392, 0.47293195128440857], \"name\": 85, \"showlegend\": false}, {\"type\": \"box\", \"y\": [0.3205138146877289, 0.3379826843738556, 0.35200726985931396, 0.36021727323532104, 0.3132607936859131], \"name\": 86, \"showlegend\": false}, {\"type\": \"box\", \"y\": [2.4592857360839844, 2.2245829105377197, 2.164212226867676, 2.2434799671173096, 2.293468475341797], \"name\": 87, \"showlegend\": false}, {\"type\": \"box\", \"y\": [0.4612090587615967, 1.420081615447998, 0.6571275591850281, 1.6729353666305542, 0.9080619812011719], \"name\": 88, \"showlegend\": false}, {\"type\": \"box\", \"y\": [0.3638198971748352, 0.7132876515388489, 1.104049801826477, 0.8641089797019958, 0.1850658804178238], \"name\": 89, \"showlegend\": false}, {\"type\": \"box\", \"y\": [1.339707851409912, 1.29245924949646, 1.3453032970428467, 1.2819217443466187, 1.319090723991394], \"name\": 90, \"showlegend\": false}, {\"type\": \"box\", \"y\": [1.2435500621795654, 1.1963225603103638, 1.4082380533218384, 1.5788533687591553, 1.163272738456726], \"name\": 91, \"showlegend\": false}, {\"type\": \"box\", \"y\": [2.5475120544433594, 2.5733518600463867, 2.207275390625, 0.9663181304931641, 3.485957145690918], \"name\": 92, \"showlegend\": false}, {\"type\": \"box\", \"y\": [0.18722423911094666, 0.21417629718780518, 0.1992236226797104, 0.23641689121723175, 0.16256164014339447], \"name\": 93, \"showlegend\": false}, {\"type\": \"box\", \"y\": [0.11556965857744217, 0.10170791298151016, 0.09827195852994919, 0.09814590215682983, 0.10864965617656708], \"name\": 94, \"showlegend\": false}, {\"type\": \"box\", \"y\": [0.22372043132781982, 0.11849714815616608, 0.13530561327934265, 0.08522245287895203, 0.20034049451351166], \"name\": 95, \"showlegend\": false}, {\"type\": \"box\", \"y\": [0.9471150040626526, 0.27792057394981384, 0.4609208405017853, 0.10649151355028152, 0.8800997734069824], \"name\": 96, \"showlegend\": false}, {\"type\": \"box\", \"y\": [0.31066006422042847, 0.5089063048362732, 0.23294597864151, 0.6285962462425232, 0.37921395897865295], \"name\": 97, \"showlegend\": false}, {\"type\": \"box\", \"y\": [0.5507997870445251, 0.930278480052948, 0.6556732058525085, 0.685387909412384, 0.43350496888160706], \"name\": 98, \"showlegend\": false}, {\"type\": \"box\", \"y\": [1.210343360900879, 1.293911099433899, 1.1862788200378418, 1.3154884576797485, 1.1667309999465942], \"name\": 99, \"showlegend\": false}, {\"type\": \"box\", \"y\": [13.011699676513672, 13.218974113464355, 13.26495361328125, 13.380420684814453, 13.014437675476074], \"name\": 100, \"showlegend\": false}, {\"type\": \"box\", \"y\": [0.6584917902946472, 0.7022753357887268, 0.550233781337738, 0.7429255843162537, 0.5619244575500488], \"name\": 101, \"showlegend\": false}, {\"type\": \"box\", \"y\": [3.0446081161499023, 1.9744389057159424, 1.5259753465652466, 1.3869131803512573, 2.820509195327759], \"name\": 102, \"showlegend\": false}, {\"type\": \"box\", \"y\": [2.4065334796905518, 1.9922832250595093, 1.4914703369140625, 0.9566376209259033, 2.5818865299224854], \"name\": 103, \"showlegend\": false}, {\"type\": \"box\", \"y\": [1.769749641418457, 1.899054765701294, 2.082963705062866, 1.9944777488708496, 1.8334159851074219], \"name\": 104, \"showlegend\": false}, {\"type\": \"box\", \"y\": [0.3554699420928955, 0.3359631597995758, 0.37103354930877686, 0.38230714201927185, 0.3649437427520752], \"name\": 105, \"showlegend\": false}, {\"type\": \"box\", \"y\": [0.11032736301422119, 0.1533520221710205, 0.07229863852262497, 0.024825846776366234, 0.07333265244960785], \"name\": 106, \"showlegend\": false}, {\"type\": \"box\", \"y\": [0.23404009640216827, 0.2401738315820694, 0.24327480792999268, 0.24733971059322357, 0.21636728942394257], \"name\": 107, \"showlegend\": false}, {\"type\": \"box\", \"y\": [3.034888505935669, 1.8200205564498901, 2.3268377780914307, 2.821251392364502, 3.2514495849609375], \"name\": 108, \"showlegend\": false}, {\"type\": \"box\", \"y\": [1.667473554611206, 1.7827109098434448, 1.8938777446746826, 2.036219358444214, 1.7625226974487305], \"name\": 109, \"showlegend\": false}, {\"type\": \"box\", \"y\": [0.24619771540164948, 0.2655734121799469, 0.1529177576303482, 0.15765076875686646, 0.14735174179077148], \"name\": 110, \"showlegend\": false}, {\"type\": \"box\", \"y\": [2.354919910430908, 2.519327402114868, 2.2008771896362305, 1.9542948007583618, 1.880895733833313], \"name\": 111, \"showlegend\": false}, {\"type\": \"box\", \"y\": [0.8152068853378296, 0.5822991728782654, 0.17080707848072052, 0.567789614200592, 0.4712437391281128], \"name\": 112, \"showlegend\": false}, {\"type\": \"box\", \"y\": [0.6214874386787415, 0.17411251366138458, 0.5877955555915833, 0.283823698759079, 0.5977731347084045], \"name\": 113, \"showlegend\": false}, {\"type\": \"box\", \"y\": [4.297124862670898, 4.4411725997924805, 4.374722003936768, 4.430979251861572, 4.037483215332031], \"name\": 114, \"showlegend\": false}, {\"type\": \"box\", \"y\": [2.7375903129577637, 4.258289337158203, 3.8488824367523193, 4.558120250701904, 3.1840741634368896], \"name\": 115, \"showlegend\": false}, {\"type\": \"box\", \"y\": [0.6600852608680725, 0.5310562252998352, 0.6003872156143188, 0.6523866653442383, 0.6655649542808533], \"name\": 116, \"showlegend\": false}, {\"type\": \"box\", \"y\": [0.5977686047554016, 0.623253583908081, 0.671897292137146, 0.6129351258277893, 0.588627278804779], \"name\": 117, \"showlegend\": false}, {\"type\": \"box\", \"y\": [0.5861555337905884, 0.7119060754776001, 0.7585049867630005, 0.5231326222419739, 0.6523915529251099], \"name\": 118, \"showlegend\": false}, {\"type\": \"box\", \"y\": [0.8926849365234375, 0.25830650329589844, 0.1244196891784668, 1.1870713233947754, 0.5116844177246094], \"name\": 119, \"showlegend\": false}, {\"type\": \"box\", \"y\": [0.5479042530059814, 0.5218098759651184, 0.6428760290145874, 0.5583921670913696, 0.6950157284736633], \"name\": 120, \"showlegend\": false}, {\"type\": \"box\", \"y\": [0.6763740181922913, 0.6671087145805359, 0.8400896787643433, 0.7235279083251953, 0.9146142601966858], \"name\": 121, \"showlegend\": false}, {\"type\": \"box\", \"y\": [1.2955180406570435, 0.3594684600830078, 0.31457650661468506, 0.38625940680503845, 0.8098796010017395], \"name\": 122, \"showlegend\": false}, {\"type\": \"box\", \"y\": [3.596451997756958, 3.329590320587158, 3.7835652828216553, 3.769768238067627, 3.413486957550049], \"name\": 123, \"showlegend\": false}, {\"type\": \"box\", \"y\": [4.358585357666016, 4.4565205574035645, 4.735158920288086, 3.8675785064697266, 5.72102165222168], \"name\": 124, \"showlegend\": false}, {\"type\": \"box\", \"y\": [0.13016128540039062, 1.3285551071166992, 2.353403091430664, 0.2879495620727539, 5.394449234008789], \"name\": 125, \"showlegend\": false}, {\"type\": \"box\", \"y\": [4.984192371368408, 5.929626941680908, 2.356001615524292, 3.1754069328308105, 5.2028608322143555], \"name\": 126, \"showlegend\": false}, {\"type\": \"box\", \"y\": [0.9290981888771057, 1.2292574644088745, 0.40025976300239563, 1.2316350936889648, 1.176464557647705], \"name\": 127, \"showlegend\": false}, {\"type\": \"box\", \"y\": [1.5624561309814453, 1.5602340698242188, 1.8130321502685547, 1.5981426239013672, 1.9014949798583984], \"name\": 128, \"showlegend\": false}, {\"type\": \"box\", \"y\": [1.4639568328857422, 1.4968007802963257, 0.7072460055351257, 1.4764496088027954, 1.0501168966293335], \"name\": 129, \"showlegend\": false}, {\"type\": \"box\", \"y\": [1.2154490947723389, 1.3040647506713867, 2.3267297744750977, 1.3803516626358032, 2.0609898567199707], \"name\": 130, \"showlegend\": false}, {\"type\": \"box\", \"y\": [0.3602044880390167, 0.36503884196281433, 0.37169349193573, 0.36218947172164917, 0.36397266387939453], \"name\": 131, \"showlegend\": false}, {\"type\": \"box\", \"y\": [2.064305067062378, 1.317948818206787, 0.41370463371276855, 1.6372454166412354, 1.698607087135315], \"name\": 132, \"showlegend\": false}, {\"type\": \"box\", \"y\": [0.004222750663757324, 0.07448244094848633, 0.0137939453125, 0.02951943874359131, 0.17103052139282227], \"name\": 133, \"showlegend\": false}, {\"type\": \"box\", \"y\": [0.30547574162483215, 0.33549603819847107, 0.4313390254974365, 0.3278008699417114, 0.273220032453537], \"name\": 134, \"showlegend\": false}, {\"type\": \"box\", \"y\": [0.4259442389011383, 0.4312896728515625, 0.4763573110103607, 0.4422729015350342, 0.4157401919364929], \"name\": 135, \"showlegend\": false}, {\"type\": \"box\", \"y\": [0.1709897518157959, 0.11509255319833755, 0.10984098166227341, 0.1521739363670349, 0.1971987932920456], \"name\": 136, \"showlegend\": false}, {\"type\": \"box\", \"y\": [0.1070113331079483, 0.09477601945400238, 0.15461961925029755, 0.09024056047201157, 0.1405942589044571], \"name\": 137, \"showlegend\": false}, {\"type\": \"scatter\", \"x\": [0, 1, 2, 3, 4, 5, 6, 7, 8, 9, 10, 11, 12, 13, 14, 15, 16, 17, 18, 19, 20, 21, 22, 23, 24, 25, 26, 27, 28, 29, 30, 31, 32, 33, 34, 35, 36, 37, 38, 39, 40, 41, 42, 43, 44, 45, 46, 47, 48, 49, 50, 51, 52, 53, 54, 55, 56, 57, 58, 59, 60, 61, 62, 63, 64, 65, 66, 67, 68, 69, 70, 71, 72, 73, 74, 75, 76, 77, 78, 79, 80, 81, 82, 83, 84, 85, 86, 87, 88, 89, 90, 91, 92, 93, 94, 95, 96, 97, 98, 99, 100, 101, 102, 103, 104, 105, 106, 107, 108, 109, 110, 111, 112, 113, 114, 115, 116, 117, 118, 119, 120, 121, 122, 123, 124, 125, 126, 127, 128, 129, 130, 131, 132, 133, 134, 135, 136, 137], \"y\": [1.1638038158416748, 4.716595649719238, 0.8024762272834778, 0.7041008472442627, 1.4887489080429077, 1.7303329706192017, 1.2925975322723389, 9.314106941223145, 5.015841484069824, 2.8448007106781006, 1.6371495723724365, 9.719456672668457, 2.9461281299591064, 5.327151298522949, 4.086157321929932, 1.017989993095398, 8.145862579345703, 1.6663742065429688, 9.022140502929688, 0.5574952960014343, 2.637115955352783, 1.5751038789749146, 1.5967204570770264, 0.9260925054550171, 1.8661209344863892, 1.8616969585418701, 4.450661659240723, 1.9922611713409424, 2.1512489318847656, 5.206404685974121, 2.3436927795410156, 3.016360282897949, 4.887325286865234, 3.690173387527466, 4.9792351722717285, 7.195786952972412, 1.2096446752548218, 1.088214635848999, 3.4678421020507812, 2.936450481414795, 3.2005374431610107, 1.0471421480178833, 0.6927517652511597, 1.4730510711669922, 1.0653645992279053, 0.48148617148399353, 0.6375405192375183, 1.308724045753479, 7.529947757720947, 36.63048553466797, 7.1733222007751465, 10.2667236328125, 55.352439880371094, 4.316536903381348, 5.826740264892578, 58.961585998535156, 6.766257286071777, 2.997000217437744, 4.230065822601318, 2.156538486480713, 4.886013984680176, 7.402215480804443, 5.9474968910217285, 12.325700759887695, 1.617788553237915, 12.570265769958496, 9.350046157836914, 1.8039073944091797, 0.7258137464523315, 18.49201774597168, 5.755631446838379, 1.463693618774414, 0.909640908241272, 0.7400346398353577, 0.3660169243812561, 3.7325005531311035, 1.906446099281311, 1.8016151189804077, 0.43574172258377075, 2.2208304405212402, 0.26086124777793884, 0.19398316740989685, 0.13737155497074127, 1.0641502141952515, 0.16473349928855896, 0.3194811940193176, 0.336796373128891, 2.277005672454834, 1.0238831043243408, 0.6460664868354797, 1.3156965970993042, 1.318047285079956, 2.3560829162597656, 0.19992053508758545, 0.10446901619434357, 0.15261723101139069, 0.534509539604187, 0.4120645523071289, 0.651128888130188, 1.2345504760742188, 13.17809772491455, 0.6431702375411987, 2.15048885345459, 1.8857622146606445, 1.9159324169158936, 0.3619435131549835, 0.08682730048894882, 0.23623915016651154, 2.6508896350860596, 1.8285608291625977, 0.19393828511238098, 2.182063102722168, 0.5214692950248718, 0.45299845933914185, 4.316296577453613, 3.7173912525177, 0.6218960881233215, 0.6188963651657104, 0.6464182138442993, 0.5948333740234375, 0.593199610710144, 0.7643429040908813, 0.6331403851509094, 3.5785725116729736, 4.627772808074951, 1.8989036083221436, 4.329617977142334, 0.9933429956436157, 1.6870720386505127, 1.238914132118225, 1.6575170755386353, 0.36461979150772095, 1.426362156867981, 0.058609820902347565, 0.33466634154319763, 0.4383208751678467, 0.1490592062473297, 0.1174483671784401], \"mode\": \"lines\", \"name\": \"mean\"}], {\"title\": \"Distribution of cross-validation RMSE for each athlete\", \"xaxis\": {\"title\": \"Athletes\"}, \"yaxis\": {\"title\": \"RMSE\"}}, {\"showLink\": true, \"linkText\": \"Export to plot.ly\"})});</script>"
      ],
      "text/vnd.plotly.v1+html": [
       "<div id=\"55eb77c5-5362-4a55-8168-46321c056a47\" style=\"height: 525px; width: 100%;\" class=\"plotly-graph-div\"></div><script type=\"text/javascript\">require([\"plotly\"], function(Plotly) { window.PLOTLYENV=window.PLOTLYENV || {};window.PLOTLYENV.BASE_URL=\"https://plot.ly\";Plotly.newPlot(\"55eb77c5-5362-4a55-8168-46321c056a47\", [{\"type\": \"box\", \"y\": [1.1138697862625122, 1.2358237504959106, 1.1667780876159668, 1.174458384513855, 1.1280889511108398], \"name\": 0, \"showlegend\": false}, {\"type\": \"box\", \"y\": [4.708837985992432, 4.799873352050781, 4.953790187835693, 4.512556552886963, 4.607919692993164], \"name\": 1, \"showlegend\": false}, {\"type\": \"box\", \"y\": [0.7679312229156494, 0.8065783977508545, 0.8290627598762512, 0.7665471434593201, 0.8422613739967346], \"name\": 2, \"showlegend\": false}, {\"type\": \"box\", \"y\": [0.7278277277946472, 0.7247320413589478, 0.6914322376251221, 0.6522627472877502, 0.7242496013641357], \"name\": 3, \"showlegend\": false}, {\"type\": \"box\", \"y\": [1.542312741279602, 1.3960505723953247, 1.5765457153320312, 1.5401009321212769, 1.388735055923462], \"name\": 4, \"showlegend\": false}, {\"type\": \"box\", \"y\": [1.851402759552002, 1.7589609622955322, 1.6465665102005005, 1.5756348371505737, 1.8190997838974], \"name\": 5, \"showlegend\": false}, {\"type\": \"box\", \"y\": [1.5429738759994507, 1.157629370689392, 1.1389226913452148, 1.3750492334365845, 1.248412847518921], \"name\": 6, \"showlegend\": false}, {\"type\": \"box\", \"y\": [9.978277206420898, 8.683364868164062, 9.269739151000977, 9.770181655883789, 8.868972778320312], \"name\": 7, \"showlegend\": false}, {\"type\": \"box\", \"y\": [5.708532810211182, 4.639824867248535, 4.494205474853516, 5.440902233123779, 4.795740604400635], \"name\": 8, \"showlegend\": false}, {\"type\": \"box\", \"y\": [3.1335222721099854, 2.71370530128479, 2.614471912384033, 2.822892189025879, 2.9394123554229736], \"name\": 9, \"showlegend\": false}, {\"type\": \"box\", \"y\": [1.7617582082748413, 1.6020839214324951, 1.5299158096313477, 1.6701830625534058, 1.6218068599700928], \"name\": 10, \"showlegend\": false}, {\"type\": \"box\", \"y\": [7.900399208068848, 7.049992561340332, 17.261281967163086, 10.215539932250977, 6.170065879821777], \"name\": 11, \"showlegend\": false}, {\"type\": \"box\", \"y\": [2.992323160171509, 3.121067523956299, 2.923088788986206, 2.8402085304260254, 2.853952169418335], \"name\": 12, \"showlegend\": false}, {\"type\": \"box\", \"y\": [5.366518020629883, 5.6705002784729, 5.396383762359619, 4.79307222366333, 5.409282684326172], \"name\": 13, \"showlegend\": false}, {\"type\": \"box\", \"y\": [3.6119017601013184, 4.204912185668945, 4.371163368225098, 4.141888618469238, 4.100922107696533], \"name\": 14, \"showlegend\": false}, {\"type\": \"box\", \"y\": [0.7325126528739929, 1.05795419216156, 0.9872420430183411, 1.254219651222229, 1.0580215454101562], \"name\": 15, \"showlegend\": false}, {\"type\": \"box\", \"y\": [6.971707344055176, 8.088951110839844, 8.90529727935791, 9.086026191711426, 7.6773295402526855], \"name\": 16, \"showlegend\": false}, {\"type\": \"box\", \"y\": [1.6848748922348022, 1.6140179634094238, 1.6792079210281372, 1.5983301401138306, 1.7554399967193604], \"name\": 17, \"showlegend\": false}, {\"type\": \"box\", \"y\": [9.20809268951416, 8.984010696411133, 8.922859191894531, 7.721569061279297, 10.274169921875], \"name\": 18, \"showlegend\": false}, {\"type\": \"box\", \"y\": [0.5818285346031189, 0.5164394974708557, 0.5792999267578125, 0.5523049235343933, 0.5576037168502808], \"name\": 19, \"showlegend\": false}, {\"type\": \"box\", \"y\": [2.683574914932251, 2.2074272632598877, 2.5318779945373535, 2.8334829807281494, 2.929217576980591], \"name\": 20, \"showlegend\": false}, {\"type\": \"box\", \"y\": [1.5774165391921997, 1.15334153175354, 1.5313489437103271, 1.8505425453186035, 1.7628698348999023], \"name\": 21, \"showlegend\": false}, {\"type\": \"box\", \"y\": [1.722778558731079, 1.346800684928894, 1.418084740638733, 1.7530637979507446, 1.7428748607635498], \"name\": 22, \"showlegend\": false}, {\"type\": \"box\", \"y\": [0.9878501892089844, 0.8654044270515442, 0.8843892216682434, 0.9693520665168762, 0.9234670996665955], \"name\": 23, \"showlegend\": false}, {\"type\": \"box\", \"y\": [1.8670616149902344, 1.856039047241211, 1.8621139526367188, 1.8763599395751953, 1.8690299987792969], \"name\": 24, \"showlegend\": false}, {\"type\": \"box\", \"y\": [1.9375429153442383, 1.4606132507324219, 1.6752899885177612, 2.3181636333465576, 1.9168752431869507], \"name\": 25, \"showlegend\": false}, {\"type\": \"box\", \"y\": [4.460007667541504, 4.188559055328369, 4.254327297210693, 4.548075199127197, 4.802340030670166], \"name\": 26, \"showlegend\": false}, {\"type\": \"box\", \"y\": [1.8161360025405884, 1.8806960582733154, 1.8013123273849487, 2.218705892562866, 2.2444558143615723], \"name\": 27, \"showlegend\": false}, {\"type\": \"box\", \"y\": [1.4454387426376343, 2.1513671875, 2.813732624053955, 2.502547025680542, 1.843158483505249], \"name\": 28, \"showlegend\": false}, {\"type\": \"box\", \"y\": [4.81460428237915, 5.1432671546936035, 4.828008651733398, 5.554213047027588, 5.691930770874023], \"name\": 29, \"showlegend\": false}, {\"type\": \"box\", \"y\": [2.2823264598846436, 2.4321606159210205, 2.3651938438415527, 2.41196870803833, 2.2268142700195312], \"name\": 30, \"showlegend\": false}, {\"type\": \"box\", \"y\": [2.9461913108825684, 3.0140202045440674, 3.0394420623779297, 3.142643690109253, 2.9395036697387695], \"name\": 31, \"showlegend\": false}, {\"type\": \"box\", \"y\": [4.915035724639893, 4.783522129058838, 4.8681135177612305, 4.56574821472168, 5.304206371307373], \"name\": 32, \"showlegend\": false}, {\"type\": \"box\", \"y\": [3.7098405361175537, 3.6829588413238525, 3.601736307144165, 3.389901638031006, 4.066429615020752], \"name\": 33, \"showlegend\": false}, {\"type\": \"box\", \"y\": [4.931522846221924, 4.946425914764404, 4.6367621421813965, 5.04240083694458, 5.3390631675720215], \"name\": 34, \"showlegend\": false}, {\"type\": \"box\", \"y\": [6.153815746307373, 7.229747295379639, 7.027654647827148, 9.316508293151855, 6.251209735870361], \"name\": 35, \"showlegend\": false}, {\"type\": \"box\", \"y\": [1.202103614807129, 1.060599684715271, 1.3307394981384277, 1.6471580266952515, 0.8076226711273193], \"name\": 36, \"showlegend\": false}, {\"type\": \"box\", \"y\": [1.6911730766296387, 0.8274843692779541, 0.6801271438598633, 0.923776388168335, 1.3185123205184937], \"name\": 37, \"showlegend\": false}, {\"type\": \"box\", \"y\": [6.376840591430664, 2.3299098014831543, 3.053985595703125, 1.676651954650879, 3.901823043823242], \"name\": 38, \"showlegend\": false}, {\"type\": \"box\", \"y\": [1.0499287843704224, 3.3082191944122314, 3.3285560607910156, 4.086363315582275, 2.9091851711273193], \"name\": 39, \"showlegend\": false}, {\"type\": \"box\", \"y\": [3.960369348526001, 3.1350021362304688, 2.4947376251220703, 3.265002727508545, 3.1475751399993896], \"name\": 40, \"showlegend\": false}, {\"type\": \"box\", \"y\": [1.449483871459961, 1.1619718074798584, 0.5939091444015503, 0.9819993376731873, 1.0483464002609253], \"name\": 41, \"showlegend\": false}, {\"type\": \"box\", \"y\": [0.880997359752655, 0.5821322202682495, 0.8554019927978516, 0.408964067697525, 0.7362632155418396], \"name\": 42, \"showlegend\": false}, {\"type\": \"box\", \"y\": [3.1367902755737305, 0.5392436385154724, 1.7375590801239014, 0.4765586256980896, 1.475103497505188], \"name\": 43, \"showlegend\": false}, {\"type\": \"box\", \"y\": [1.1089763641357422, 1.354441523551941, 0.4591718912124634, 1.2301257848739624, 1.1741071939468384], \"name\": 44, \"showlegend\": false}, {\"type\": \"box\", \"y\": [0.7119660377502441, 0.24130016565322876, 0.6812872886657715, 0.26580610871315, 0.507071316242218], \"name\": 45, \"showlegend\": false}, {\"type\": \"box\", \"y\": [1.0011653900146484, 0.5511283278465271, 0.4342059791088104, 0.45523008704185486, 0.7459729909896851], \"name\": 46, \"showlegend\": false}, {\"type\": \"box\", \"y\": [1.3324060440063477, 1.6171890497207642, 1.0733981132507324, 1.3011912107467651, 1.2194355726242065], \"name\": 47, \"showlegend\": false}, {\"type\": \"box\", \"y\": [7.61790132522583, 7.312633991241455, 7.44587516784668, 7.836561679840088, 7.436765670776367], \"name\": 48, \"showlegend\": false}, {\"type\": \"box\", \"y\": [36.32706832885742, 42.11223220825195, 46.92543029785156, 10.23263168334961, 47.5550651550293], \"name\": 49, \"showlegend\": false}, {\"type\": \"box\", \"y\": [8.431291580200195, 6.873594760894775, 9.078836441040039, 2.9188153743743896, 8.56407356262207], \"name\": 50, \"showlegend\": false}, {\"type\": \"box\", \"y\": [9.412272453308105, 13.552105903625488, 12.08165454864502, 2.91048264503479, 13.37710189819336], \"name\": 51, \"showlegend\": false}, {\"type\": \"box\", \"y\": [66.64722442626953, 56.055259704589844, 67.8071060180664, 25.97592544555664, 60.27670669555664], \"name\": 52, \"showlegend\": false}, {\"type\": \"box\", \"y\": [3.449100971221924, 6.40766716003418, 5.0781707763671875, 1.1793241500854492, 5.468423843383789], \"name\": 53, \"showlegend\": false}, {\"type\": \"box\", \"y\": [4.7247138023376465, 7.300614356994629, 6.834285736083984, 0.8059704899787903, 9.468116760253906], \"name\": 54, \"showlegend\": false}, {\"type\": \"box\", \"y\": [51.40082550048828, 72.87097930908203, 66.70650482177734, 23.69385528564453, 80.13578033447266], \"name\": 55, \"showlegend\": false}, {\"type\": \"box\", \"y\": [6.589407444000244, 6.966063022613525, 6.706540107727051, 6.944515705108643, 6.624760627746582], \"name\": 56, \"showlegend\": false}, {\"type\": \"box\", \"y\": [3.372931957244873, 3.1222074031829834, 2.4327378273010254, 2.9196410179138184, 3.137481689453125], \"name\": 57, \"showlegend\": false}, {\"type\": \"box\", \"y\": [3.8723857402801514, 4.889904022216797, 4.766902446746826, 1.381284475326538, 6.239852428436279], \"name\": 58, \"showlegend\": false}, {\"type\": \"box\", \"y\": [1.9939913749694824, 2.9262382984161377, 2.2347302436828613, 0.39211905002593994, 3.235612630844116], \"name\": 59, \"showlegend\": false}, {\"type\": \"box\", \"y\": [4.1543192863464355, 7.021031856536865, 5.046868801116943, 1.638271689414978, 6.569578647613525], \"name\": 60, \"showlegend\": false}, {\"type\": \"box\", \"y\": [6.129231929779053, 10.236677169799805, 7.550970077514648, 2.060826301574707, 11.033370018005371], \"name\": 61, \"showlegend\": false}, {\"type\": \"box\", \"y\": [4.067622661590576, 8.014065742492676, 6.464561939239502, 1.907364010810852, 9.283870697021484], \"name\": 62, \"showlegend\": false}, {\"type\": \"box\", \"y\": [10.254559516906738, 13.291801452636719, 13.662915229797363, 6.2764811515808105, 18.14274787902832], \"name\": 63, \"showlegend\": false}, {\"type\": \"box\", \"y\": [1.4682633876800537, 1.851951241493225, 1.7760200500488281, 0.8524448871612549, 2.1402626037597656], \"name\": 64, \"showlegend\": false}, {\"type\": \"box\", \"y\": [9.38229751586914, 16.30353546142578, 14.240856170654297, 6.930687427520752, 15.993952751159668], \"name\": 65, \"showlegend\": false}, {\"type\": \"box\", \"y\": [7.4835734367370605, 11.504534721374512, 10.113901138305664, 5.155826568603516, 12.492392539978027], \"name\": 66, \"showlegend\": false}, {\"type\": \"box\", \"y\": [1.4323580265045166, 2.5903067588806152, 1.8076260089874268, 0.7305386066436768, 2.458707571029663], \"name\": 67, \"showlegend\": false}, {\"type\": \"box\", \"y\": [1.3684359788894653, 0.2977803945541382, 0.5263087153434753, 0.4488719403743744, 0.9876717925071716], \"name\": 68, \"showlegend\": false}, {\"type\": \"box\", \"y\": [13.851593971252441, 23.59317398071289, 19.02170753479004, 9.63784408569336, 26.355764389038086], \"name\": 69, \"showlegend\": false}, {\"type\": \"box\", \"y\": [4.346404552459717, 7.277755260467529, 5.602252006530762, 2.778982400894165, 8.772761344909668], \"name\": 70, \"showlegend\": false}, {\"type\": \"box\", \"y\": [0.9632225632667542, 2.1857101917266846, 1.530332088470459, 0.6698892712593079, 1.969313621520996], \"name\": 71, \"showlegend\": false}, {\"type\": \"box\", \"y\": [0.5286696553230286, 0.5999770760536194, 0.8081079721450806, 0.5998784303665161, 2.011571168899536], \"name\": 72, \"showlegend\": false}, {\"type\": \"box\", \"y\": [0.5383113026618958, 0.7006120085716248, 0.9188026189804077, 0.41887325048446655, 1.1235740184783936], \"name\": 73, \"showlegend\": false}, {\"type\": \"box\", \"y\": [0.438993364572525, 0.3103351294994354, 0.30765169858932495, 0.38394248485565186, 0.38916200399398804], \"name\": 74, \"showlegend\": false}, {\"type\": \"box\", \"y\": [3.7211754322052, 3.540722131729126, 3.45428729057312, 3.8585293292999268, 4.087788105010986], \"name\": 75, \"showlegend\": false}, {\"type\": \"box\", \"y\": [1.9330201148986816, 1.554189682006836, 1.8086620569229126, 2.0900990962982178, 2.146259069442749], \"name\": 76, \"showlegend\": false}, {\"type\": \"box\", \"y\": [1.776667594909668, 1.7056145668029785, 1.7893292903900146, 1.8210084438323975, 1.9154560565948486], \"name\": 77, \"showlegend\": false}, {\"type\": \"box\", \"y\": [0.7913857698440552, 0.13524556159973145, 0.3358386158943176, 0.7163874506950378, 0.19985096156597137], \"name\": 78, \"showlegend\": false}, {\"type\": \"box\", \"y\": [2.820589780807495, 2.41214656829834, 1.8793878555297852, 2.3765289783477783, 1.6154999732971191], \"name\": 79, \"showlegend\": false}, {\"type\": \"box\", \"y\": [0.21702811121940613, 0.2748121917247772, 0.24671706557273865, 0.2803061902523041, 0.2854427695274353], \"name\": 80, \"showlegend\": false}, {\"type\": \"box\", \"y\": [0.3087962865829468, 0.16330468654632568, 0.11530520021915436, 0.19633238017559052, 0.1861772984266281], \"name\": 81, \"showlegend\": false}, {\"type\": \"box\", \"y\": [0.13706845045089722, 0.12739120423793793, 0.1573212593793869, 0.1372809112071991, 0.12779586017131805], \"name\": 82, \"showlegend\": false}, {\"type\": \"box\", \"y\": [1.2873873710632324, 1.0630011558532715, 1.2087647914886475, 0.9529280066490173, 0.8086698055267334], \"name\": 83, \"showlegend\": false}, {\"type\": \"box\", \"y\": [0.15879538655281067, 0.14357297122478485, 0.1806078404188156, 0.1744406819343567, 0.1662505716085434], \"name\": 84, \"showlegend\": false}, {\"type\": \"box\", \"y\": [0.3420366644859314, 0.3688521981239319, 0.11271273344755173, 0.3008723556995392, 0.47293195128440857], \"name\": 85, \"showlegend\": false}, {\"type\": \"box\", \"y\": [0.3205138146877289, 0.3379826843738556, 0.35200726985931396, 0.36021727323532104, 0.3132607936859131], \"name\": 86, \"showlegend\": false}, {\"type\": \"box\", \"y\": [2.4592857360839844, 2.2245829105377197, 2.164212226867676, 2.2434799671173096, 2.293468475341797], \"name\": 87, \"showlegend\": false}, {\"type\": \"box\", \"y\": [0.4612090587615967, 1.420081615447998, 0.6571275591850281, 1.6729353666305542, 0.9080619812011719], \"name\": 88, \"showlegend\": false}, {\"type\": \"box\", \"y\": [0.3638198971748352, 0.7132876515388489, 1.104049801826477, 0.8641089797019958, 0.1850658804178238], \"name\": 89, \"showlegend\": false}, {\"type\": \"box\", \"y\": [1.339707851409912, 1.29245924949646, 1.3453032970428467, 1.2819217443466187, 1.319090723991394], \"name\": 90, \"showlegend\": false}, {\"type\": \"box\", \"y\": [1.2435500621795654, 1.1963225603103638, 1.4082380533218384, 1.5788533687591553, 1.163272738456726], \"name\": 91, \"showlegend\": false}, {\"type\": \"box\", \"y\": [2.5475120544433594, 2.5733518600463867, 2.207275390625, 0.9663181304931641, 3.485957145690918], \"name\": 92, \"showlegend\": false}, {\"type\": \"box\", \"y\": [0.18722423911094666, 0.21417629718780518, 0.1992236226797104, 0.23641689121723175, 0.16256164014339447], \"name\": 93, \"showlegend\": false}, {\"type\": \"box\", \"y\": [0.11556965857744217, 0.10170791298151016, 0.09827195852994919, 0.09814590215682983, 0.10864965617656708], \"name\": 94, \"showlegend\": false}, {\"type\": \"box\", \"y\": [0.22372043132781982, 0.11849714815616608, 0.13530561327934265, 0.08522245287895203, 0.20034049451351166], \"name\": 95, \"showlegend\": false}, {\"type\": \"box\", \"y\": [0.9471150040626526, 0.27792057394981384, 0.4609208405017853, 0.10649151355028152, 0.8800997734069824], \"name\": 96, \"showlegend\": false}, {\"type\": \"box\", \"y\": [0.31066006422042847, 0.5089063048362732, 0.23294597864151, 0.6285962462425232, 0.37921395897865295], \"name\": 97, \"showlegend\": false}, {\"type\": \"box\", \"y\": [0.5507997870445251, 0.930278480052948, 0.6556732058525085, 0.685387909412384, 0.43350496888160706], \"name\": 98, \"showlegend\": false}, {\"type\": \"box\", \"y\": [1.210343360900879, 1.293911099433899, 1.1862788200378418, 1.3154884576797485, 1.1667309999465942], \"name\": 99, \"showlegend\": false}, {\"type\": \"box\", \"y\": [13.011699676513672, 13.218974113464355, 13.26495361328125, 13.380420684814453, 13.014437675476074], \"name\": 100, \"showlegend\": false}, {\"type\": \"box\", \"y\": [0.6584917902946472, 0.7022753357887268, 0.550233781337738, 0.7429255843162537, 0.5619244575500488], \"name\": 101, \"showlegend\": false}, {\"type\": \"box\", \"y\": [3.0446081161499023, 1.9744389057159424, 1.5259753465652466, 1.3869131803512573, 2.820509195327759], \"name\": 102, \"showlegend\": false}, {\"type\": \"box\", \"y\": [2.4065334796905518, 1.9922832250595093, 1.4914703369140625, 0.9566376209259033, 2.5818865299224854], \"name\": 103, \"showlegend\": false}, {\"type\": \"box\", \"y\": [1.769749641418457, 1.899054765701294, 2.082963705062866, 1.9944777488708496, 1.8334159851074219], \"name\": 104, \"showlegend\": false}, {\"type\": \"box\", \"y\": [0.3554699420928955, 0.3359631597995758, 0.37103354930877686, 0.38230714201927185, 0.3649437427520752], \"name\": 105, \"showlegend\": false}, {\"type\": \"box\", \"y\": [0.11032736301422119, 0.1533520221710205, 0.07229863852262497, 0.024825846776366234, 0.07333265244960785], \"name\": 106, \"showlegend\": false}, {\"type\": \"box\", \"y\": [0.23404009640216827, 0.2401738315820694, 0.24327480792999268, 0.24733971059322357, 0.21636728942394257], \"name\": 107, \"showlegend\": false}, {\"type\": \"box\", \"y\": [3.034888505935669, 1.8200205564498901, 2.3268377780914307, 2.821251392364502, 3.2514495849609375], \"name\": 108, \"showlegend\": false}, {\"type\": \"box\", \"y\": [1.667473554611206, 1.7827109098434448, 1.8938777446746826, 2.036219358444214, 1.7625226974487305], \"name\": 109, \"showlegend\": false}, {\"type\": \"box\", \"y\": [0.24619771540164948, 0.2655734121799469, 0.1529177576303482, 0.15765076875686646, 0.14735174179077148], \"name\": 110, \"showlegend\": false}, {\"type\": \"box\", \"y\": [2.354919910430908, 2.519327402114868, 2.2008771896362305, 1.9542948007583618, 1.880895733833313], \"name\": 111, \"showlegend\": false}, {\"type\": \"box\", \"y\": [0.8152068853378296, 0.5822991728782654, 0.17080707848072052, 0.567789614200592, 0.4712437391281128], \"name\": 112, \"showlegend\": false}, {\"type\": \"box\", \"y\": [0.6214874386787415, 0.17411251366138458, 0.5877955555915833, 0.283823698759079, 0.5977731347084045], \"name\": 113, \"showlegend\": false}, {\"type\": \"box\", \"y\": [4.297124862670898, 4.4411725997924805, 4.374722003936768, 4.430979251861572, 4.037483215332031], \"name\": 114, \"showlegend\": false}, {\"type\": \"box\", \"y\": [2.7375903129577637, 4.258289337158203, 3.8488824367523193, 4.558120250701904, 3.1840741634368896], \"name\": 115, \"showlegend\": false}, {\"type\": \"box\", \"y\": [0.6600852608680725, 0.5310562252998352, 0.6003872156143188, 0.6523866653442383, 0.6655649542808533], \"name\": 116, \"showlegend\": false}, {\"type\": \"box\", \"y\": [0.5977686047554016, 0.623253583908081, 0.671897292137146, 0.6129351258277893, 0.588627278804779], \"name\": 117, \"showlegend\": false}, {\"type\": \"box\", \"y\": [0.5861555337905884, 0.7119060754776001, 0.7585049867630005, 0.5231326222419739, 0.6523915529251099], \"name\": 118, \"showlegend\": false}, {\"type\": \"box\", \"y\": [0.8926849365234375, 0.25830650329589844, 0.1244196891784668, 1.1870713233947754, 0.5116844177246094], \"name\": 119, \"showlegend\": false}, {\"type\": \"box\", \"y\": [0.5479042530059814, 0.5218098759651184, 0.6428760290145874, 0.5583921670913696, 0.6950157284736633], \"name\": 120, \"showlegend\": false}, {\"type\": \"box\", \"y\": [0.6763740181922913, 0.6671087145805359, 0.8400896787643433, 0.7235279083251953, 0.9146142601966858], \"name\": 121, \"showlegend\": false}, {\"type\": \"box\", \"y\": [1.2955180406570435, 0.3594684600830078, 0.31457650661468506, 0.38625940680503845, 0.8098796010017395], \"name\": 122, \"showlegend\": false}, {\"type\": \"box\", \"y\": [3.596451997756958, 3.329590320587158, 3.7835652828216553, 3.769768238067627, 3.413486957550049], \"name\": 123, \"showlegend\": false}, {\"type\": \"box\", \"y\": [4.358585357666016, 4.4565205574035645, 4.735158920288086, 3.8675785064697266, 5.72102165222168], \"name\": 124, \"showlegend\": false}, {\"type\": \"box\", \"y\": [0.13016128540039062, 1.3285551071166992, 2.353403091430664, 0.2879495620727539, 5.394449234008789], \"name\": 125, \"showlegend\": false}, {\"type\": \"box\", \"y\": [4.984192371368408, 5.929626941680908, 2.356001615524292, 3.1754069328308105, 5.2028608322143555], \"name\": 126, \"showlegend\": false}, {\"type\": \"box\", \"y\": [0.9290981888771057, 1.2292574644088745, 0.40025976300239563, 1.2316350936889648, 1.176464557647705], \"name\": 127, \"showlegend\": false}, {\"type\": \"box\", \"y\": [1.5624561309814453, 1.5602340698242188, 1.8130321502685547, 1.5981426239013672, 1.9014949798583984], \"name\": 128, \"showlegend\": false}, {\"type\": \"box\", \"y\": [1.4639568328857422, 1.4968007802963257, 0.7072460055351257, 1.4764496088027954, 1.0501168966293335], \"name\": 129, \"showlegend\": false}, {\"type\": \"box\", \"y\": [1.2154490947723389, 1.3040647506713867, 2.3267297744750977, 1.3803516626358032, 2.0609898567199707], \"name\": 130, \"showlegend\": false}, {\"type\": \"box\", \"y\": [0.3602044880390167, 0.36503884196281433, 0.37169349193573, 0.36218947172164917, 0.36397266387939453], \"name\": 131, \"showlegend\": false}, {\"type\": \"box\", \"y\": [2.064305067062378, 1.317948818206787, 0.41370463371276855, 1.6372454166412354, 1.698607087135315], \"name\": 132, \"showlegend\": false}, {\"type\": \"box\", \"y\": [0.004222750663757324, 0.07448244094848633, 0.0137939453125, 0.02951943874359131, 0.17103052139282227], \"name\": 133, \"showlegend\": false}, {\"type\": \"box\", \"y\": [0.30547574162483215, 0.33549603819847107, 0.4313390254974365, 0.3278008699417114, 0.273220032453537], \"name\": 134, \"showlegend\": false}, {\"type\": \"box\", \"y\": [0.4259442389011383, 0.4312896728515625, 0.4763573110103607, 0.4422729015350342, 0.4157401919364929], \"name\": 135, \"showlegend\": false}, {\"type\": \"box\", \"y\": [0.1709897518157959, 0.11509255319833755, 0.10984098166227341, 0.1521739363670349, 0.1971987932920456], \"name\": 136, \"showlegend\": false}, {\"type\": \"box\", \"y\": [0.1070113331079483, 0.09477601945400238, 0.15461961925029755, 0.09024056047201157, 0.1405942589044571], \"name\": 137, \"showlegend\": false}, {\"type\": \"scatter\", \"x\": [0, 1, 2, 3, 4, 5, 6, 7, 8, 9, 10, 11, 12, 13, 14, 15, 16, 17, 18, 19, 20, 21, 22, 23, 24, 25, 26, 27, 28, 29, 30, 31, 32, 33, 34, 35, 36, 37, 38, 39, 40, 41, 42, 43, 44, 45, 46, 47, 48, 49, 50, 51, 52, 53, 54, 55, 56, 57, 58, 59, 60, 61, 62, 63, 64, 65, 66, 67, 68, 69, 70, 71, 72, 73, 74, 75, 76, 77, 78, 79, 80, 81, 82, 83, 84, 85, 86, 87, 88, 89, 90, 91, 92, 93, 94, 95, 96, 97, 98, 99, 100, 101, 102, 103, 104, 105, 106, 107, 108, 109, 110, 111, 112, 113, 114, 115, 116, 117, 118, 119, 120, 121, 122, 123, 124, 125, 126, 127, 128, 129, 130, 131, 132, 133, 134, 135, 136, 137], \"y\": [1.1638038158416748, 4.716595649719238, 0.8024762272834778, 0.7041008472442627, 1.4887489080429077, 1.7303329706192017, 1.2925975322723389, 9.314106941223145, 5.015841484069824, 2.8448007106781006, 1.6371495723724365, 9.719456672668457, 2.9461281299591064, 5.327151298522949, 4.086157321929932, 1.017989993095398, 8.145862579345703, 1.6663742065429688, 9.022140502929688, 0.5574952960014343, 2.637115955352783, 1.5751038789749146, 1.5967204570770264, 0.9260925054550171, 1.8661209344863892, 1.8616969585418701, 4.450661659240723, 1.9922611713409424, 2.1512489318847656, 5.206404685974121, 2.3436927795410156, 3.016360282897949, 4.887325286865234, 3.690173387527466, 4.9792351722717285, 7.195786952972412, 1.2096446752548218, 1.088214635848999, 3.4678421020507812, 2.936450481414795, 3.2005374431610107, 1.0471421480178833, 0.6927517652511597, 1.4730510711669922, 1.0653645992279053, 0.48148617148399353, 0.6375405192375183, 1.308724045753479, 7.529947757720947, 36.63048553466797, 7.1733222007751465, 10.2667236328125, 55.352439880371094, 4.316536903381348, 5.826740264892578, 58.961585998535156, 6.766257286071777, 2.997000217437744, 4.230065822601318, 2.156538486480713, 4.886013984680176, 7.402215480804443, 5.9474968910217285, 12.325700759887695, 1.617788553237915, 12.570265769958496, 9.350046157836914, 1.8039073944091797, 0.7258137464523315, 18.49201774597168, 5.755631446838379, 1.463693618774414, 0.909640908241272, 0.7400346398353577, 0.3660169243812561, 3.7325005531311035, 1.906446099281311, 1.8016151189804077, 0.43574172258377075, 2.2208304405212402, 0.26086124777793884, 0.19398316740989685, 0.13737155497074127, 1.0641502141952515, 0.16473349928855896, 0.3194811940193176, 0.336796373128891, 2.277005672454834, 1.0238831043243408, 0.6460664868354797, 1.3156965970993042, 1.318047285079956, 2.3560829162597656, 0.19992053508758545, 0.10446901619434357, 0.15261723101139069, 0.534509539604187, 0.4120645523071289, 0.651128888130188, 1.2345504760742188, 13.17809772491455, 0.6431702375411987, 2.15048885345459, 1.8857622146606445, 1.9159324169158936, 0.3619435131549835, 0.08682730048894882, 0.23623915016651154, 2.6508896350860596, 1.8285608291625977, 0.19393828511238098, 2.182063102722168, 0.5214692950248718, 0.45299845933914185, 4.316296577453613, 3.7173912525177, 0.6218960881233215, 0.6188963651657104, 0.6464182138442993, 0.5948333740234375, 0.593199610710144, 0.7643429040908813, 0.6331403851509094, 3.5785725116729736, 4.627772808074951, 1.8989036083221436, 4.329617977142334, 0.9933429956436157, 1.6870720386505127, 1.238914132118225, 1.6575170755386353, 0.36461979150772095, 1.426362156867981, 0.058609820902347565, 0.33466634154319763, 0.4383208751678467, 0.1490592062473297, 0.1174483671784401], \"mode\": \"lines\", \"name\": \"mean\"}], {\"title\": \"Distribution of cross-validation RMSE for each athlete\", \"xaxis\": {\"title\": \"Athletes\"}, \"yaxis\": {\"title\": \"RMSE\"}}, {\"showLink\": true, \"linkText\": \"Export to plot.ly\"})});</script>"
      ]
     },
     "metadata": {},
     "output_type": "display_data"
    }
   ],
   "source": [
    "# calculating the RMSE for cross-validation results of each person\n",
    "# the result is a 2D tensor with rows as reapets and columns as persons\n",
    "results = np.nanmean((padded_targetvalues - padded_predictions)**2, axis=2) ** .5\n",
    "\n",
    "# visulizing the results of repeated cross-validation RMSE for each person via a boxplot\n",
    "df = DataFrame(results)\n",
    "plotData = [] \n",
    "for col in df.columns:\n",
    "    plotData.append(go.Box(y= df[col], name=col, showlegend=False)) \n",
    "plotData.append(go.Scatter(x= df.columns, y=df.mean(), mode='lines', name='mean'))\n",
    "\n",
    "layout = dict(title = 'Distribution of cross-validation RMSE for each athlete',\n",
    "              xaxis = dict(title = 'Athletes'),\n",
    "              yaxis = dict(title = 'RMSE'))\n",
    "\n",
    "iplot(dict(data=plotData, layout=layout))"
   ]
  },
  {
   "cell_type": "code",
   "execution_count": 13,
   "metadata": {},
   "outputs": [
    {
     "name": "stdout",
     "output_type": "stream",
     "text": [
      "Total Mean Squared Error: 73.7041\n"
     ]
    },
    {
     "data": {
      "text/html": [
       "<div>\n",
       "<style>\n",
       "    .dataframe thead tr:only-child th {\n",
       "        text-align: right;\n",
       "    }\n",
       "\n",
       "    .dataframe thead th {\n",
       "        text-align: left;\n",
       "    }\n",
       "\n",
       "    .dataframe tbody tr th {\n",
       "        vertical-align: top;\n",
       "    }\n",
       "</style>\n",
       "<table border=\"1\" class=\"dataframe\">\n",
       "  <thead>\n",
       "    <tr style=\"text-align: right;\">\n",
       "      <th></th>\n",
       "      <th>0</th>\n",
       "    </tr>\n",
       "  </thead>\n",
       "  <tbody>\n",
       "    <tr>\n",
       "      <th>count</th>\n",
       "      <td>138.000000</td>\n",
       "    </tr>\n",
       "    <tr>\n",
       "      <th>mean</th>\n",
       "      <td>3.748146</td>\n",
       "    </tr>\n",
       "    <tr>\n",
       "      <th>std</th>\n",
       "      <td>7.751832</td>\n",
       "    </tr>\n",
       "    <tr>\n",
       "      <th>min</th>\n",
       "      <td>0.058610</td>\n",
       "    </tr>\n",
       "    <tr>\n",
       "      <th>25%</th>\n",
       "      <td>0.646154</td>\n",
       "    </tr>\n",
       "    <tr>\n",
       "      <th>50%</th>\n",
       "      <td>1.661946</td>\n",
       "    </tr>\n",
       "    <tr>\n",
       "      <th>75%</th>\n",
       "      <td>3.997743</td>\n",
       "    </tr>\n",
       "    <tr>\n",
       "      <th>max</th>\n",
       "      <td>58.961586</td>\n",
       "    </tr>\n",
       "  </tbody>\n",
       "</table>\n",
       "</div>"
      ],
      "text/plain": [
       "                0\n",
       "count  138.000000\n",
       "mean     3.748146\n",
       "std      7.751832\n",
       "min      0.058610\n",
       "25%      0.646154\n",
       "50%      1.661946\n",
       "75%      3.997743\n",
       "max     58.961586"
      ]
     },
     "execution_count": 13,
     "metadata": {},
     "output_type": "execute_result"
    }
   ],
   "source": [
    "# calculating a metric which in some way gives a sense of error in predictions\n",
    "# the RMSEs are summarized by calculating the mean squared of all repeats for all athletes\n",
    "error = np.mean(np.square(np.mean(results, axis=0)))\n",
    "print(\"Total Mean Squared Error:\", error)\n",
    "\n",
    "DataFrame(np.mean(results, axis=0)).describe()"
   ]
  },
  {
   "cell_type": "code",
   "execution_count": 14,
   "metadata": {
    "collapsed": true
   },
   "outputs": [],
   "source": [
    "def show_testosterone(index, show_predictions=True, show_all_features=True):\n",
    "    pid = index_to_pid[index]\n",
    "    layout = dict(title = 'Variation of Tenstosterone Over Samples for Person ({})'.format(pid),\n",
    "              xaxis = dict(title = 'Sample Number'),\n",
    "              yaxis = dict(title = 'Testosterone'))\n",
    "    observations = data[data.index.get_level_values(0) == pid]\n",
    "    plot_data = []\n",
    "    \n",
    "    testosterone = go.Scatter(x=np.arange(len(observations)), y=observations['Testosterone'], name='True Value')\n",
    "    plot_data.append(testosterone)\n",
    "    \n",
    "    if show_all_features:\n",
    "        F2 = go.Scatter(x=np.arange(len(observations)), y=observations['F2'], name='F2')\n",
    "        F3 = go.Scatter(x=np.arange(len(observations)), y=observations['F3'], name='F3')\n",
    "        F4 = go.Scatter(x=np.arange(len(observations)), y=observations['F4'], name='F4')\n",
    "        plot_data.extend([F2, F3, F4])\n",
    "    \n",
    "    # getting the predictions from the first repeat\n",
    "    if show_predictions:\n",
    "        predictions = repeat_predictions[0][index]\n",
    "        pred_index_range = list(range(len(observations)-len(predictions), len(observations)))\n",
    "        testosterone_perds = go.Scatter(x= pred_index_range, y= predictions, name='Predictions')\n",
    "        plot_data.append(testosterone_perds)\n",
    "        \n",
    "    iplot(dict(data = plot_data, layout = layout))"
   ]
  },
  {
   "cell_type": "code",
   "execution_count": 17,
   "metadata": {},
   "outputs": [
    {
     "data": {
      "application/vnd.plotly.v1+json": {
       "data": [
        {
         "name": "True Value",
         "type": "scatter",
         "x": [
          0,
          1,
          2,
          3,
          4,
          5,
          6,
          7,
          8,
          9,
          10,
          11,
          12,
          13,
          14,
          15,
          16,
          17
         ],
         "y": [
          7.22,
          7.95,
          8.79,
          9.8,
          10.99,
          10.99,
          11.55,
          16.53,
          20.83,
          22.97,
          23.44,
          24.43,
          25.26,
          26.66,
          29.09,
          30,
          30.62,
          30.94
         ]
        },
        {
         "name": "Predictions",
         "type": "scatter",
         "x": [
          12,
          13,
          14,
          15,
          16,
          17
         ],
         "y": [
          33.499879169464116,
          63.46785419464111,
          41.330661392211915,
          63.40157356262207,
          83.91609909057617,
          79.81994895935058
         ]
        }
       ],
       "layout": {
        "title": "Variation of Tenstosterone Over Samples for Person (73)",
        "xaxis": {
         "title": "Sample Number"
        },
        "yaxis": {
         "title": "Testosterone"
        }
       }
      },
      "text/html": [
       "<div id=\"72c4e58a-8bb2-40a3-ac00-30b30810aaa1\" style=\"height: 525px; width: 100%;\" class=\"plotly-graph-div\"></div><script type=\"text/javascript\">require([\"plotly\"], function(Plotly) { window.PLOTLYENV=window.PLOTLYENV || {};window.PLOTLYENV.BASE_URL=\"https://plot.ly\";Plotly.newPlot(\"72c4e58a-8bb2-40a3-ac00-30b30810aaa1\", [{\"type\": \"scatter\", \"x\": [0, 1, 2, 3, 4, 5, 6, 7, 8, 9, 10, 11, 12, 13, 14, 15, 16, 17], \"y\": [7.22, 7.95, 8.79, 9.8, 10.99, 10.99, 11.55, 16.53, 20.83, 22.97, 23.44, 24.43, 25.26, 26.66, 29.09, 30.0, 30.62, 30.94], \"name\": \"True Value\"}, {\"type\": \"scatter\", \"x\": [12, 13, 14, 15, 16, 17], \"y\": [33.499879169464116, 63.46785419464111, 41.330661392211915, 63.40157356262207, 83.91609909057617, 79.81994895935058], \"name\": \"Predictions\"}], {\"title\": \"Variation of Tenstosterone Over Samples for Person (73)\", \"xaxis\": {\"title\": \"Sample Number\"}, \"yaxis\": {\"title\": \"Testosterone\"}}, {\"showLink\": true, \"linkText\": \"Export to plot.ly\"})});</script>"
      ],
      "text/vnd.plotly.v1+html": [
       "<div id=\"72c4e58a-8bb2-40a3-ac00-30b30810aaa1\" style=\"height: 525px; width: 100%;\" class=\"plotly-graph-div\"></div><script type=\"text/javascript\">require([\"plotly\"], function(Plotly) { window.PLOTLYENV=window.PLOTLYENV || {};window.PLOTLYENV.BASE_URL=\"https://plot.ly\";Plotly.newPlot(\"72c4e58a-8bb2-40a3-ac00-30b30810aaa1\", [{\"type\": \"scatter\", \"x\": [0, 1, 2, 3, 4, 5, 6, 7, 8, 9, 10, 11, 12, 13, 14, 15, 16, 17], \"y\": [7.22, 7.95, 8.79, 9.8, 10.99, 10.99, 11.55, 16.53, 20.83, 22.97, 23.44, 24.43, 25.26, 26.66, 29.09, 30.0, 30.62, 30.94], \"name\": \"True Value\"}, {\"type\": \"scatter\", \"x\": [12, 13, 14, 15, 16, 17], \"y\": [33.499879169464116, 63.46785419464111, 41.330661392211915, 63.40157356262207, 83.91609909057617, 79.81994895935058], \"name\": \"Predictions\"}], {\"title\": \"Variation of Tenstosterone Over Samples for Person (73)\", \"xaxis\": {\"title\": \"Sample Number\"}, \"yaxis\": {\"title\": \"Testosterone\"}}, {\"showLink\": true, \"linkText\": \"Export to plot.ly\"})});</script>"
      ]
     },
     "metadata": {},
     "output_type": "display_data"
    }
   ],
   "source": [
    "show_testosterone(49, show_all_features=False)"
   ]
  },
  {
   "cell_type": "code",
   "execution_count": 16,
   "metadata": {},
   "outputs": [
    {
     "data": {
      "image/png": "[encoded data removed]",
      "text/plain": [
       "<matplotlib.figure.Figure at 0x7f3eafed0400>"
      ]
     },
     "metadata": {},
     "output_type": "display_data"
    }
   ],
   "source": [
    "rng = [range(i * len(p), (i+1) * len(p)) for i, p in enumerate(repeat_losses[0])]\n",
    "\n",
    "flatted_loss = [np.array(person).flatten().tolist() for person in repeat_losses[0]]\n",
    "\n",
    "for i, (p, r) in enumerate(zip(flatted_loss, rng)):\n",
    "    plt.plot(r, p, '-o')\n",
    "    if i > 3:\n",
    "        break"
   ]
  }
 ],
 "metadata": {
  "kernelspec": {
   "display_name": "Python 3",
   "language": "python",
   "name": "python3"
  },
  "language_info": {
   "codemirror_mode": {
    "name": "ipython",
    "version": 3
   },
   "file_extension": ".py",
   "mimetype": "text/x-python",
   "name": "python",
   "nbconvert_exporter": "python",
   "pygments_lexer": "ipython3",
   "version": "3.6.3"
  }
 },
 "nbformat": 4,
 "nbformat_minor": 2
}
